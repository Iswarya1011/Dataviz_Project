{
 "cells": [
  {
   "cell_type": "markdown",
   "metadata": {},
   "source": [
    "#  Dataviz project\n",
    "## ARTAUD Lucas & SIVASUBRAMANIAM Iswarya DIA 1"
   ]
  },
  {
   "cell_type": "code",
   "execution_count": 43,
   "metadata": {},
   "outputs": [],
   "source": [
    "import pandas as pd\n",
    "import matplotlib.pyplot as plt\n",
    "import seaborn as sns\n",
    "import geopandas as gpd\n",
    "import plotly.express as px\n",
    "import pycountry_convert as pc \n",
    "import plotly.graph_objects as go\n",
    "import plotly.subplots as sp\n"
   ]
  },
  {
   "cell_type": "markdown",
   "metadata": {},
   "source": [
    "## Dataset"
   ]
  },
  {
   "cell_type": "code",
   "execution_count": 2,
   "metadata": {},
   "outputs": [],
   "source": [
    "df=pd.read_csv(\"Life Expectancy Data.csv\")"
   ]
  },
  {
   "cell_type": "code",
   "execution_count": 3,
   "metadata": {},
   "outputs": [
    {
     "data": {
      "text/html": [
       "<div>\n",
       "<style scoped>\n",
       "    .dataframe tbody tr th:only-of-type {\n",
       "        vertical-align: middle;\n",
       "    }\n",
       "\n",
       "    .dataframe tbody tr th {\n",
       "        vertical-align: top;\n",
       "    }\n",
       "\n",
       "    .dataframe thead th {\n",
       "        text-align: right;\n",
       "    }\n",
       "</style>\n",
       "<table border=\"1\" class=\"dataframe\">\n",
       "  <thead>\n",
       "    <tr style=\"text-align: right;\">\n",
       "      <th></th>\n",
       "      <th>Country</th>\n",
       "      <th>Year</th>\n",
       "      <th>Status</th>\n",
       "      <th>Life expectancy</th>\n",
       "      <th>Adult Mortality</th>\n",
       "      <th>infant deaths</th>\n",
       "      <th>Alcohol</th>\n",
       "      <th>percentage expenditure</th>\n",
       "      <th>Hepatitis B</th>\n",
       "      <th>Measles</th>\n",
       "      <th>...</th>\n",
       "      <th>Polio</th>\n",
       "      <th>Total expenditure</th>\n",
       "      <th>Diphtheria</th>\n",
       "      <th>HIV/AIDS</th>\n",
       "      <th>GDP</th>\n",
       "      <th>Population</th>\n",
       "      <th>thinness  1-19 years</th>\n",
       "      <th>thinness 5-9 years</th>\n",
       "      <th>Income composition of resources</th>\n",
       "      <th>Schooling</th>\n",
       "    </tr>\n",
       "  </thead>\n",
       "  <tbody>\n",
       "    <tr>\n",
       "      <th>0</th>\n",
       "      <td>Afghanistan</td>\n",
       "      <td>2015</td>\n",
       "      <td>Developing</td>\n",
       "      <td>65.0</td>\n",
       "      <td>263.0</td>\n",
       "      <td>62</td>\n",
       "      <td>0.01</td>\n",
       "      <td>71.279624</td>\n",
       "      <td>65.0</td>\n",
       "      <td>1154</td>\n",
       "      <td>...</td>\n",
       "      <td>6.0</td>\n",
       "      <td>8.16</td>\n",
       "      <td>65.0</td>\n",
       "      <td>0.1</td>\n",
       "      <td>584.259210</td>\n",
       "      <td>33736494.0</td>\n",
       "      <td>17.2</td>\n",
       "      <td>17.3</td>\n",
       "      <td>0.479</td>\n",
       "      <td>10.1</td>\n",
       "    </tr>\n",
       "    <tr>\n",
       "      <th>1</th>\n",
       "      <td>Afghanistan</td>\n",
       "      <td>2014</td>\n",
       "      <td>Developing</td>\n",
       "      <td>59.9</td>\n",
       "      <td>271.0</td>\n",
       "      <td>64</td>\n",
       "      <td>0.01</td>\n",
       "      <td>73.523582</td>\n",
       "      <td>62.0</td>\n",
       "      <td>492</td>\n",
       "      <td>...</td>\n",
       "      <td>58.0</td>\n",
       "      <td>8.18</td>\n",
       "      <td>62.0</td>\n",
       "      <td>0.1</td>\n",
       "      <td>612.696514</td>\n",
       "      <td>327582.0</td>\n",
       "      <td>17.5</td>\n",
       "      <td>17.5</td>\n",
       "      <td>0.476</td>\n",
       "      <td>10.0</td>\n",
       "    </tr>\n",
       "    <tr>\n",
       "      <th>2</th>\n",
       "      <td>Afghanistan</td>\n",
       "      <td>2013</td>\n",
       "      <td>Developing</td>\n",
       "      <td>59.9</td>\n",
       "      <td>268.0</td>\n",
       "      <td>66</td>\n",
       "      <td>0.01</td>\n",
       "      <td>73.219243</td>\n",
       "      <td>64.0</td>\n",
       "      <td>430</td>\n",
       "      <td>...</td>\n",
       "      <td>62.0</td>\n",
       "      <td>8.13</td>\n",
       "      <td>64.0</td>\n",
       "      <td>0.1</td>\n",
       "      <td>631.744976</td>\n",
       "      <td>31731688.0</td>\n",
       "      <td>17.7</td>\n",
       "      <td>17.7</td>\n",
       "      <td>0.470</td>\n",
       "      <td>9.9</td>\n",
       "    </tr>\n",
       "    <tr>\n",
       "      <th>3</th>\n",
       "      <td>Afghanistan</td>\n",
       "      <td>2012</td>\n",
       "      <td>Developing</td>\n",
       "      <td>59.5</td>\n",
       "      <td>272.0</td>\n",
       "      <td>69</td>\n",
       "      <td>0.01</td>\n",
       "      <td>78.184215</td>\n",
       "      <td>67.0</td>\n",
       "      <td>2787</td>\n",
       "      <td>...</td>\n",
       "      <td>67.0</td>\n",
       "      <td>8.52</td>\n",
       "      <td>67.0</td>\n",
       "      <td>0.1</td>\n",
       "      <td>669.959000</td>\n",
       "      <td>3696958.0</td>\n",
       "      <td>17.9</td>\n",
       "      <td>18.0</td>\n",
       "      <td>0.463</td>\n",
       "      <td>9.8</td>\n",
       "    </tr>\n",
       "    <tr>\n",
       "      <th>4</th>\n",
       "      <td>Afghanistan</td>\n",
       "      <td>2011</td>\n",
       "      <td>Developing</td>\n",
       "      <td>59.2</td>\n",
       "      <td>275.0</td>\n",
       "      <td>71</td>\n",
       "      <td>0.01</td>\n",
       "      <td>7.097109</td>\n",
       "      <td>68.0</td>\n",
       "      <td>3013</td>\n",
       "      <td>...</td>\n",
       "      <td>68.0</td>\n",
       "      <td>7.87</td>\n",
       "      <td>68.0</td>\n",
       "      <td>0.1</td>\n",
       "      <td>63.537231</td>\n",
       "      <td>2978599.0</td>\n",
       "      <td>18.2</td>\n",
       "      <td>18.2</td>\n",
       "      <td>0.454</td>\n",
       "      <td>9.5</td>\n",
       "    </tr>\n",
       "    <tr>\n",
       "      <th>...</th>\n",
       "      <td>...</td>\n",
       "      <td>...</td>\n",
       "      <td>...</td>\n",
       "      <td>...</td>\n",
       "      <td>...</td>\n",
       "      <td>...</td>\n",
       "      <td>...</td>\n",
       "      <td>...</td>\n",
       "      <td>...</td>\n",
       "      <td>...</td>\n",
       "      <td>...</td>\n",
       "      <td>...</td>\n",
       "      <td>...</td>\n",
       "      <td>...</td>\n",
       "      <td>...</td>\n",
       "      <td>...</td>\n",
       "      <td>...</td>\n",
       "      <td>...</td>\n",
       "      <td>...</td>\n",
       "      <td>...</td>\n",
       "      <td>...</td>\n",
       "    </tr>\n",
       "    <tr>\n",
       "      <th>2933</th>\n",
       "      <td>Zimbabwe</td>\n",
       "      <td>2004</td>\n",
       "      <td>Developing</td>\n",
       "      <td>44.3</td>\n",
       "      <td>723.0</td>\n",
       "      <td>27</td>\n",
       "      <td>4.36</td>\n",
       "      <td>0.000000</td>\n",
       "      <td>68.0</td>\n",
       "      <td>31</td>\n",
       "      <td>...</td>\n",
       "      <td>67.0</td>\n",
       "      <td>7.13</td>\n",
       "      <td>65.0</td>\n",
       "      <td>33.6</td>\n",
       "      <td>454.366654</td>\n",
       "      <td>12777511.0</td>\n",
       "      <td>9.4</td>\n",
       "      <td>9.4</td>\n",
       "      <td>0.407</td>\n",
       "      <td>9.2</td>\n",
       "    </tr>\n",
       "    <tr>\n",
       "      <th>2934</th>\n",
       "      <td>Zimbabwe</td>\n",
       "      <td>2003</td>\n",
       "      <td>Developing</td>\n",
       "      <td>44.5</td>\n",
       "      <td>715.0</td>\n",
       "      <td>26</td>\n",
       "      <td>4.06</td>\n",
       "      <td>0.000000</td>\n",
       "      <td>7.0</td>\n",
       "      <td>998</td>\n",
       "      <td>...</td>\n",
       "      <td>7.0</td>\n",
       "      <td>6.52</td>\n",
       "      <td>68.0</td>\n",
       "      <td>36.7</td>\n",
       "      <td>453.351155</td>\n",
       "      <td>12633897.0</td>\n",
       "      <td>9.8</td>\n",
       "      <td>9.9</td>\n",
       "      <td>0.418</td>\n",
       "      <td>9.5</td>\n",
       "    </tr>\n",
       "    <tr>\n",
       "      <th>2935</th>\n",
       "      <td>Zimbabwe</td>\n",
       "      <td>2002</td>\n",
       "      <td>Developing</td>\n",
       "      <td>44.8</td>\n",
       "      <td>73.0</td>\n",
       "      <td>25</td>\n",
       "      <td>4.43</td>\n",
       "      <td>0.000000</td>\n",
       "      <td>73.0</td>\n",
       "      <td>304</td>\n",
       "      <td>...</td>\n",
       "      <td>73.0</td>\n",
       "      <td>6.53</td>\n",
       "      <td>71.0</td>\n",
       "      <td>39.8</td>\n",
       "      <td>57.348340</td>\n",
       "      <td>125525.0</td>\n",
       "      <td>1.2</td>\n",
       "      <td>1.3</td>\n",
       "      <td>0.427</td>\n",
       "      <td>10.0</td>\n",
       "    </tr>\n",
       "    <tr>\n",
       "      <th>2936</th>\n",
       "      <td>Zimbabwe</td>\n",
       "      <td>2001</td>\n",
       "      <td>Developing</td>\n",
       "      <td>45.3</td>\n",
       "      <td>686.0</td>\n",
       "      <td>25</td>\n",
       "      <td>1.72</td>\n",
       "      <td>0.000000</td>\n",
       "      <td>76.0</td>\n",
       "      <td>529</td>\n",
       "      <td>...</td>\n",
       "      <td>76.0</td>\n",
       "      <td>6.16</td>\n",
       "      <td>75.0</td>\n",
       "      <td>42.1</td>\n",
       "      <td>548.587312</td>\n",
       "      <td>12366165.0</td>\n",
       "      <td>1.6</td>\n",
       "      <td>1.7</td>\n",
       "      <td>0.427</td>\n",
       "      <td>9.8</td>\n",
       "    </tr>\n",
       "    <tr>\n",
       "      <th>2937</th>\n",
       "      <td>Zimbabwe</td>\n",
       "      <td>2000</td>\n",
       "      <td>Developing</td>\n",
       "      <td>46.0</td>\n",
       "      <td>665.0</td>\n",
       "      <td>24</td>\n",
       "      <td>1.68</td>\n",
       "      <td>0.000000</td>\n",
       "      <td>79.0</td>\n",
       "      <td>1483</td>\n",
       "      <td>...</td>\n",
       "      <td>78.0</td>\n",
       "      <td>7.10</td>\n",
       "      <td>78.0</td>\n",
       "      <td>43.5</td>\n",
       "      <td>547.358878</td>\n",
       "      <td>12222251.0</td>\n",
       "      <td>11.0</td>\n",
       "      <td>11.2</td>\n",
       "      <td>0.434</td>\n",
       "      <td>9.8</td>\n",
       "    </tr>\n",
       "  </tbody>\n",
       "</table>\n",
       "<p>2938 rows × 22 columns</p>\n",
       "</div>"
      ],
      "text/plain": [
       "          Country  Year      Status  Life expectancy   Adult Mortality  \\\n",
       "0     Afghanistan  2015  Developing              65.0            263.0   \n",
       "1     Afghanistan  2014  Developing              59.9            271.0   \n",
       "2     Afghanistan  2013  Developing              59.9            268.0   \n",
       "3     Afghanistan  2012  Developing              59.5            272.0   \n",
       "4     Afghanistan  2011  Developing              59.2            275.0   \n",
       "...           ...   ...         ...               ...              ...   \n",
       "2933     Zimbabwe  2004  Developing              44.3            723.0   \n",
       "2934     Zimbabwe  2003  Developing              44.5            715.0   \n",
       "2935     Zimbabwe  2002  Developing              44.8             73.0   \n",
       "2936     Zimbabwe  2001  Developing              45.3            686.0   \n",
       "2937     Zimbabwe  2000  Developing              46.0            665.0   \n",
       "\n",
       "      infant deaths  Alcohol  percentage expenditure  Hepatitis B  Measles   \\\n",
       "0                62     0.01               71.279624         65.0      1154   \n",
       "1                64     0.01               73.523582         62.0       492   \n",
       "2                66     0.01               73.219243         64.0       430   \n",
       "3                69     0.01               78.184215         67.0      2787   \n",
       "4                71     0.01                7.097109         68.0      3013   \n",
       "...             ...      ...                     ...          ...       ...   \n",
       "2933             27     4.36                0.000000         68.0        31   \n",
       "2934             26     4.06                0.000000          7.0       998   \n",
       "2935             25     4.43                0.000000         73.0       304   \n",
       "2936             25     1.72                0.000000         76.0       529   \n",
       "2937             24     1.68                0.000000         79.0      1483   \n",
       "\n",
       "      ...  Polio  Total expenditure  Diphtheria    HIV/AIDS         GDP  \\\n",
       "0     ...    6.0               8.16         65.0        0.1  584.259210   \n",
       "1     ...   58.0               8.18         62.0        0.1  612.696514   \n",
       "2     ...   62.0               8.13         64.0        0.1  631.744976   \n",
       "3     ...   67.0               8.52         67.0        0.1  669.959000   \n",
       "4     ...   68.0               7.87         68.0        0.1   63.537231   \n",
       "...   ...    ...                ...          ...        ...         ...   \n",
       "2933  ...   67.0               7.13         65.0       33.6  454.366654   \n",
       "2934  ...    7.0               6.52         68.0       36.7  453.351155   \n",
       "2935  ...   73.0               6.53         71.0       39.8   57.348340   \n",
       "2936  ...   76.0               6.16         75.0       42.1  548.587312   \n",
       "2937  ...   78.0               7.10         78.0       43.5  547.358878   \n",
       "\n",
       "      Population   thinness  1-19 years   thinness 5-9 years  \\\n",
       "0     33736494.0                   17.2                 17.3   \n",
       "1       327582.0                   17.5                 17.5   \n",
       "2     31731688.0                   17.7                 17.7   \n",
       "3      3696958.0                   17.9                 18.0   \n",
       "4      2978599.0                   18.2                 18.2   \n",
       "...          ...                    ...                  ...   \n",
       "2933  12777511.0                    9.4                  9.4   \n",
       "2934  12633897.0                    9.8                  9.9   \n",
       "2935    125525.0                    1.2                  1.3   \n",
       "2936  12366165.0                    1.6                  1.7   \n",
       "2937  12222251.0                   11.0                 11.2   \n",
       "\n",
       "      Income composition of resources  Schooling  \n",
       "0                               0.479       10.1  \n",
       "1                               0.476       10.0  \n",
       "2                               0.470        9.9  \n",
       "3                               0.463        9.8  \n",
       "4                               0.454        9.5  \n",
       "...                               ...        ...  \n",
       "2933                            0.407        9.2  \n",
       "2934                            0.418        9.5  \n",
       "2935                            0.427       10.0  \n",
       "2936                            0.427        9.8  \n",
       "2937                            0.434        9.8  \n",
       "\n",
       "[2938 rows x 22 columns]"
      ]
     },
     "execution_count": 3,
     "metadata": {},
     "output_type": "execute_result"
    }
   ],
   "source": [
    "df"
   ]
  },
  {
   "cell_type": "code",
   "execution_count": 4,
   "metadata": {},
   "outputs": [
    {
     "data": {
      "text/plain": [
       "(2938, 22)"
      ]
     },
     "execution_count": 4,
     "metadata": {},
     "output_type": "execute_result"
    }
   ],
   "source": [
    "df.shape"
   ]
  },
  {
   "cell_type": "code",
   "execution_count": 5,
   "metadata": {},
   "outputs": [
    {
     "data": {
      "text/plain": [
       "Country                              0\n",
       "Year                                 0\n",
       "Status                               0\n",
       "Life expectancy                     10\n",
       "Adult Mortality                     10\n",
       "infant deaths                        0\n",
       "Alcohol                            194\n",
       "percentage expenditure               0\n",
       "Hepatitis B                        553\n",
       "Measles                              0\n",
       " BMI                                34\n",
       "under-five deaths                    0\n",
       "Polio                               19\n",
       "Total expenditure                  226\n",
       "Diphtheria                          19\n",
       " HIV/AIDS                            0\n",
       "GDP                                448\n",
       "Population                         652\n",
       " thinness  1-19 years               34\n",
       " thinness 5-9 years                 34\n",
       "Income composition of resources    167\n",
       "Schooling                          163\n",
       "dtype: int64"
      ]
     },
     "execution_count": 5,
     "metadata": {},
     "output_type": "execute_result"
    }
   ],
   "source": [
    "df.isna().sum()"
   ]
  },
  {
   "cell_type": "code",
   "execution_count": 6,
   "metadata": {},
   "outputs": [],
   "source": [
    "df.dropna(inplace=True)\n"
   ]
  },
  {
   "cell_type": "markdown",
   "metadata": {},
   "source": [
    "## Context and motivation"
   ]
  },
  {
   "cell_type": "markdown",
   "metadata": {},
   "source": [
    "#### The data set chosen is a statistical data on factors influencing Life Expectancy. The data comes from the World Helath Organization for a period of time of 15 years.   \n",
    "\n",
    "#### Many studies in the past have explored the factors influencing life expectancy, centering around demographic variables, income composition, and mortality rates. However, these studies often neglected the impact of immunization and the Human Development Index. Additionally, some prior research relied on a one-year dataset for all countries but doing this research r a period of time of 15 year enables us to visualise the changes over time. This data set allows us to do a country based observation to identify the main factors that are contributing to lower life expectancy.  \n",
    "#### This data-set counts health factors of 193 countries over 15 years (2000-2015). We have 22 columns and 2938 rows (befor cleaning).\n",
    "\n",
    "#### From our preliminary analysis, population, Hepatitis B and GDP columns contains most of the missing data.We decided to remove all the missing values in order to have a clean data.\n",
    "\n",
    "#### The motivation of our project is to analyze the different factors taht influences the life expectancy and compare on different scales (between continents, developed / developing etc...).\n",
    "#### We hope to learn more about the various factors affecting life expectancy and how those findings can guide public health interventions and policies. Targeted healthcare initiatives could be guided, for instance, by identifying particular regions or demographic groups experiencing challenges with life expectancy. Furthermore, knowledge of how social determinants, economic variables, and immunizations affect life expectancy can support evidence-based decision-making at the national and international levels. "
   ]
  },
  {
   "cell_type": "markdown",
   "metadata": {},
   "source": [
    "## Visualisation"
   ]
  },
  {
   "cell_type": "markdown",
   "metadata": {},
   "source": [
    "### Creation of a new column continent"
   ]
  },
  {
   "cell_type": "markdown",
   "metadata": {},
   "source": [
    "With the library pycountry_convert we are going to create a new column \"Continent\" that will correspond to the continent of the country."
   ]
  },
  {
   "cell_type": "code",
   "execution_count": 7,
   "metadata": {},
   "outputs": [],
   "source": [
    "continent_name = {\n",
    "    'AF': 'Africa',\n",
    "    'AS': 'Asia',\n",
    "    'EU': 'Europe',\n",
    "    'NA': 'North America',\n",
    "    'OC': 'Oceania',\n",
    "    'SA': 'South America',\n",
    "    'AN': 'Antarctica'\n",
    "}"
   ]
  },
  {
   "cell_type": "code",
   "execution_count": 8,
   "metadata": {},
   "outputs": [],
   "source": [
    "def convert(row):\n",
    "    # convert country name to country code\n",
    "    country_code =pc.country_name_to_country_alpha2(row.Country,cn_name_format=\"default\")\n",
    "    # convert country_code to continent code\n",
    "    try:\n",
    "        continent_code = pc.country_alpha2_to_continent_code(country_code)\n",
    "        return continent_name.get(continent_code, None)\n",
    "    except :\n",
    "        return None"
   ]
  },
  {
   "cell_type": "code",
   "execution_count": 9,
   "metadata": {},
   "outputs": [
    {
     "name": "stderr",
     "output_type": "stream",
     "text": [
      "c:\\Users\\Utilisateur\\AppData\\Local\\Programs\\Python\\Python311\\Lib\\site-packages\\pycountry\\db.py:51: UserWarning: Country's official_name not found. Country name provided instead.\n",
      "  warnings.warn(warning_message, UserWarning)\n",
      "c:\\Users\\Utilisateur\\AppData\\Local\\Programs\\Python\\Python311\\Lib\\site-packages\\pycountry\\db.py:51: UserWarning: Country's common_name not found. Country name provided instead.\n",
      "  warnings.warn(warning_message, UserWarning)\n"
     ]
    }
   ],
   "source": [
    "df['Continent']= df.apply(convert,axis=1)"
   ]
  },
  {
   "cell_type": "code",
   "execution_count": 10,
   "metadata": {},
   "outputs": [
    {
     "data": {
      "text/plain": [
       "Index(['Country', 'Year', 'Status', 'Life expectancy ', 'Adult Mortality',\n",
       "       'infant deaths', 'Alcohol', 'percentage expenditure', 'Hepatitis B',\n",
       "       'Measles ', ' BMI ', 'under-five deaths ', 'Polio', 'Total expenditure',\n",
       "       'Diphtheria ', ' HIV/AIDS', 'GDP', 'Population',\n",
       "       ' thinness  1-19 years', ' thinness 5-9 years',\n",
       "       'Income composition of resources', 'Schooling', 'Continent'],\n",
       "      dtype='object')"
      ]
     },
     "execution_count": 10,
     "metadata": {},
     "output_type": "execute_result"
    }
   ],
   "source": [
    "df.columns"
   ]
  },
  {
   "cell_type": "markdown",
   "metadata": {},
   "source": [
    "### Global analysis"
   ]
  },
  {
   "cell_type": "markdown",
   "metadata": {},
   "source": [
    "#### 1. Average life expectancy and population over the years"
   ]
  },
  {
   "cell_type": "code",
   "execution_count": 40,
   "metadata": {},
   "outputs": [],
   "source": [
    "average_life_expectancy_yearly = df.groupby('Year')['Life expectancy '].mean().reset_index()\n",
    "average_population_yearly = df.groupby('Year')['Population'].mean().reset_index()"
   ]
  },
  {
   "cell_type": "code",
   "execution_count": 53,
   "metadata": {},
   "outputs": [
    {
     "data": {
      "application/vnd.plotly.v1+json": {
       "config": {
        "plotlyServerURL": "https://plot.ly"
       },
       "data": [
        {
         "mode": "lines",
         "name": "Life Expectancy",
         "type": "scatter",
         "x": [
          2000,
          2001,
          2002,
          2003,
          2004,
          2005,
          2006,
          2007,
          2008,
          2009,
          2010,
          2011,
          2012,
          2013,
          2014,
          2015
         ],
         "xaxis": "x",
         "y": [
          70.2,
          70.25757575757575,
          68.58395061728395,
          68.34421052631579,
          68.43398058252427,
          68.47272727272727,
          68.90438596491228,
          68.67416666666666,
          68.66666666666667,
          68.77936507936508,
          69.12734375,
          69.86307692307693,
          70.24496124031008,
          70.3876923076923,
          70.51984732824428,
          71.4
         ],
         "yaxis": "y"
        },
        {
         "mode": "lines",
         "name": "Population",
         "type": "scatter",
         "x": [
          2000,
          2001,
          2002,
          2003,
          2004,
          2005,
          2006,
          2007,
          2008,
          2009,
          2010,
          2011,
          2012,
          2013,
          2014,
          2015
         ],
         "xaxis": "x2",
         "y": [
          10093525.639344262,
          9621577.787878787,
          6231771.047901235,
          10915018.767368421,
          20634799.038737863,
          22731229.638545454,
          18611721.80245614,
          21210315.791583333,
          10058784.807317073,
          10024503.643730158,
          12497494.0575,
          11929682.141230768,
          13580015.339534882,
          13268546.36623077,
          22269096.43312977,
          16882683.5
         ],
         "yaxis": "y2"
        }
       ],
       "layout": {
        "annotations": [
         {
          "font": {
           "size": 16
          },
          "showarrow": false,
          "text": "Average Life Expectancy",
          "x": 0.5,
          "xanchor": "center",
          "xref": "paper",
          "y": 1,
          "yanchor": "bottom",
          "yref": "paper"
         },
         {
          "font": {
           "size": 16
          },
          "showarrow": false,
          "text": "Average Population",
          "x": 0.5,
          "xanchor": "center",
          "xref": "paper",
          "y": 0.375,
          "yanchor": "bottom",
          "yref": "paper"
         }
        ],
        "font": {
         "size": 12
        },
        "height": 600,
        "margin": {
         "b": 20,
         "l": 20,
         "r": 20,
         "t": 60
        },
        "template": {
         "data": {
          "bar": [
           {
            "error_x": {
             "color": "#2a3f5f"
            },
            "error_y": {
             "color": "#2a3f5f"
            },
            "marker": {
             "line": {
              "color": "#E5ECF6",
              "width": 0.5
             },
             "pattern": {
              "fillmode": "overlay",
              "size": 10,
              "solidity": 0.2
             }
            },
            "type": "bar"
           }
          ],
          "barpolar": [
           {
            "marker": {
             "line": {
              "color": "#E5ECF6",
              "width": 0.5
             },
             "pattern": {
              "fillmode": "overlay",
              "size": 10,
              "solidity": 0.2
             }
            },
            "type": "barpolar"
           }
          ],
          "carpet": [
           {
            "aaxis": {
             "endlinecolor": "#2a3f5f",
             "gridcolor": "white",
             "linecolor": "white",
             "minorgridcolor": "white",
             "startlinecolor": "#2a3f5f"
            },
            "baxis": {
             "endlinecolor": "#2a3f5f",
             "gridcolor": "white",
             "linecolor": "white",
             "minorgridcolor": "white",
             "startlinecolor": "#2a3f5f"
            },
            "type": "carpet"
           }
          ],
          "choropleth": [
           {
            "colorbar": {
             "outlinewidth": 0,
             "ticks": ""
            },
            "type": "choropleth"
           }
          ],
          "contour": [
           {
            "colorbar": {
             "outlinewidth": 0,
             "ticks": ""
            },
            "colorscale": [
             [
              0,
              "#0d0887"
             ],
             [
              0.1111111111111111,
              "#46039f"
             ],
             [
              0.2222222222222222,
              "#7201a8"
             ],
             [
              0.3333333333333333,
              "#9c179e"
             ],
             [
              0.4444444444444444,
              "#bd3786"
             ],
             [
              0.5555555555555556,
              "#d8576b"
             ],
             [
              0.6666666666666666,
              "#ed7953"
             ],
             [
              0.7777777777777778,
              "#fb9f3a"
             ],
             [
              0.8888888888888888,
              "#fdca26"
             ],
             [
              1,
              "#f0f921"
             ]
            ],
            "type": "contour"
           }
          ],
          "contourcarpet": [
           {
            "colorbar": {
             "outlinewidth": 0,
             "ticks": ""
            },
            "type": "contourcarpet"
           }
          ],
          "heatmap": [
           {
            "colorbar": {
             "outlinewidth": 0,
             "ticks": ""
            },
            "colorscale": [
             [
              0,
              "#0d0887"
             ],
             [
              0.1111111111111111,
              "#46039f"
             ],
             [
              0.2222222222222222,
              "#7201a8"
             ],
             [
              0.3333333333333333,
              "#9c179e"
             ],
             [
              0.4444444444444444,
              "#bd3786"
             ],
             [
              0.5555555555555556,
              "#d8576b"
             ],
             [
              0.6666666666666666,
              "#ed7953"
             ],
             [
              0.7777777777777778,
              "#fb9f3a"
             ],
             [
              0.8888888888888888,
              "#fdca26"
             ],
             [
              1,
              "#f0f921"
             ]
            ],
            "type": "heatmap"
           }
          ],
          "heatmapgl": [
           {
            "colorbar": {
             "outlinewidth": 0,
             "ticks": ""
            },
            "colorscale": [
             [
              0,
              "#0d0887"
             ],
             [
              0.1111111111111111,
              "#46039f"
             ],
             [
              0.2222222222222222,
              "#7201a8"
             ],
             [
              0.3333333333333333,
              "#9c179e"
             ],
             [
              0.4444444444444444,
              "#bd3786"
             ],
             [
              0.5555555555555556,
              "#d8576b"
             ],
             [
              0.6666666666666666,
              "#ed7953"
             ],
             [
              0.7777777777777778,
              "#fb9f3a"
             ],
             [
              0.8888888888888888,
              "#fdca26"
             ],
             [
              1,
              "#f0f921"
             ]
            ],
            "type": "heatmapgl"
           }
          ],
          "histogram": [
           {
            "marker": {
             "pattern": {
              "fillmode": "overlay",
              "size": 10,
              "solidity": 0.2
             }
            },
            "type": "histogram"
           }
          ],
          "histogram2d": [
           {
            "colorbar": {
             "outlinewidth": 0,
             "ticks": ""
            },
            "colorscale": [
             [
              0,
              "#0d0887"
             ],
             [
              0.1111111111111111,
              "#46039f"
             ],
             [
              0.2222222222222222,
              "#7201a8"
             ],
             [
              0.3333333333333333,
              "#9c179e"
             ],
             [
              0.4444444444444444,
              "#bd3786"
             ],
             [
              0.5555555555555556,
              "#d8576b"
             ],
             [
              0.6666666666666666,
              "#ed7953"
             ],
             [
              0.7777777777777778,
              "#fb9f3a"
             ],
             [
              0.8888888888888888,
              "#fdca26"
             ],
             [
              1,
              "#f0f921"
             ]
            ],
            "type": "histogram2d"
           }
          ],
          "histogram2dcontour": [
           {
            "colorbar": {
             "outlinewidth": 0,
             "ticks": ""
            },
            "colorscale": [
             [
              0,
              "#0d0887"
             ],
             [
              0.1111111111111111,
              "#46039f"
             ],
             [
              0.2222222222222222,
              "#7201a8"
             ],
             [
              0.3333333333333333,
              "#9c179e"
             ],
             [
              0.4444444444444444,
              "#bd3786"
             ],
             [
              0.5555555555555556,
              "#d8576b"
             ],
             [
              0.6666666666666666,
              "#ed7953"
             ],
             [
              0.7777777777777778,
              "#fb9f3a"
             ],
             [
              0.8888888888888888,
              "#fdca26"
             ],
             [
              1,
              "#f0f921"
             ]
            ],
            "type": "histogram2dcontour"
           }
          ],
          "mesh3d": [
           {
            "colorbar": {
             "outlinewidth": 0,
             "ticks": ""
            },
            "type": "mesh3d"
           }
          ],
          "parcoords": [
           {
            "line": {
             "colorbar": {
              "outlinewidth": 0,
              "ticks": ""
             }
            },
            "type": "parcoords"
           }
          ],
          "pie": [
           {
            "automargin": true,
            "type": "pie"
           }
          ],
          "scatter": [
           {
            "fillpattern": {
             "fillmode": "overlay",
             "size": 10,
             "solidity": 0.2
            },
            "type": "scatter"
           }
          ],
          "scatter3d": [
           {
            "line": {
             "colorbar": {
              "outlinewidth": 0,
              "ticks": ""
             }
            },
            "marker": {
             "colorbar": {
              "outlinewidth": 0,
              "ticks": ""
             }
            },
            "type": "scatter3d"
           }
          ],
          "scattercarpet": [
           {
            "marker": {
             "colorbar": {
              "outlinewidth": 0,
              "ticks": ""
             }
            },
            "type": "scattercarpet"
           }
          ],
          "scattergeo": [
           {
            "marker": {
             "colorbar": {
              "outlinewidth": 0,
              "ticks": ""
             }
            },
            "type": "scattergeo"
           }
          ],
          "scattergl": [
           {
            "marker": {
             "colorbar": {
              "outlinewidth": 0,
              "ticks": ""
             }
            },
            "type": "scattergl"
           }
          ],
          "scattermapbox": [
           {
            "marker": {
             "colorbar": {
              "outlinewidth": 0,
              "ticks": ""
             }
            },
            "type": "scattermapbox"
           }
          ],
          "scatterpolar": [
           {
            "marker": {
             "colorbar": {
              "outlinewidth": 0,
              "ticks": ""
             }
            },
            "type": "scatterpolar"
           }
          ],
          "scatterpolargl": [
           {
            "marker": {
             "colorbar": {
              "outlinewidth": 0,
              "ticks": ""
             }
            },
            "type": "scatterpolargl"
           }
          ],
          "scatterternary": [
           {
            "marker": {
             "colorbar": {
              "outlinewidth": 0,
              "ticks": ""
             }
            },
            "type": "scatterternary"
           }
          ],
          "surface": [
           {
            "colorbar": {
             "outlinewidth": 0,
             "ticks": ""
            },
            "colorscale": [
             [
              0,
              "#0d0887"
             ],
             [
              0.1111111111111111,
              "#46039f"
             ],
             [
              0.2222222222222222,
              "#7201a8"
             ],
             [
              0.3333333333333333,
              "#9c179e"
             ],
             [
              0.4444444444444444,
              "#bd3786"
             ],
             [
              0.5555555555555556,
              "#d8576b"
             ],
             [
              0.6666666666666666,
              "#ed7953"
             ],
             [
              0.7777777777777778,
              "#fb9f3a"
             ],
             [
              0.8888888888888888,
              "#fdca26"
             ],
             [
              1,
              "#f0f921"
             ]
            ],
            "type": "surface"
           }
          ],
          "table": [
           {
            "cells": {
             "fill": {
              "color": "#EBF0F8"
             },
             "line": {
              "color": "white"
             }
            },
            "header": {
             "fill": {
              "color": "#C8D4E3"
             },
             "line": {
              "color": "white"
             }
            },
            "type": "table"
           }
          ]
         },
         "layout": {
          "annotationdefaults": {
           "arrowcolor": "#2a3f5f",
           "arrowhead": 0,
           "arrowwidth": 1
          },
          "autotypenumbers": "strict",
          "coloraxis": {
           "colorbar": {
            "outlinewidth": 0,
            "ticks": ""
           }
          },
          "colorscale": {
           "diverging": [
            [
             0,
             "#8e0152"
            ],
            [
             0.1,
             "#c51b7d"
            ],
            [
             0.2,
             "#de77ae"
            ],
            [
             0.3,
             "#f1b6da"
            ],
            [
             0.4,
             "#fde0ef"
            ],
            [
             0.5,
             "#f7f7f7"
            ],
            [
             0.6,
             "#e6f5d0"
            ],
            [
             0.7,
             "#b8e186"
            ],
            [
             0.8,
             "#7fbc41"
            ],
            [
             0.9,
             "#4d9221"
            ],
            [
             1,
             "#276419"
            ]
           ],
           "sequential": [
            [
             0,
             "#0d0887"
            ],
            [
             0.1111111111111111,
             "#46039f"
            ],
            [
             0.2222222222222222,
             "#7201a8"
            ],
            [
             0.3333333333333333,
             "#9c179e"
            ],
            [
             0.4444444444444444,
             "#bd3786"
            ],
            [
             0.5555555555555556,
             "#d8576b"
            ],
            [
             0.6666666666666666,
             "#ed7953"
            ],
            [
             0.7777777777777778,
             "#fb9f3a"
            ],
            [
             0.8888888888888888,
             "#fdca26"
            ],
            [
             1,
             "#f0f921"
            ]
           ],
           "sequentialminus": [
            [
             0,
             "#0d0887"
            ],
            [
             0.1111111111111111,
             "#46039f"
            ],
            [
             0.2222222222222222,
             "#7201a8"
            ],
            [
             0.3333333333333333,
             "#9c179e"
            ],
            [
             0.4444444444444444,
             "#bd3786"
            ],
            [
             0.5555555555555556,
             "#d8576b"
            ],
            [
             0.6666666666666666,
             "#ed7953"
            ],
            [
             0.7777777777777778,
             "#fb9f3a"
            ],
            [
             0.8888888888888888,
             "#fdca26"
            ],
            [
             1,
             "#f0f921"
            ]
           ]
          },
          "colorway": [
           "#636efa",
           "#EF553B",
           "#00cc96",
           "#ab63fa",
           "#FFA15A",
           "#19d3f3",
           "#FF6692",
           "#B6E880",
           "#FF97FF",
           "#FECB52"
          ],
          "font": {
           "color": "#2a3f5f"
          },
          "geo": {
           "bgcolor": "white",
           "lakecolor": "white",
           "landcolor": "#E5ECF6",
           "showlakes": true,
           "showland": true,
           "subunitcolor": "white"
          },
          "hoverlabel": {
           "align": "left"
          },
          "hovermode": "closest",
          "mapbox": {
           "style": "light"
          },
          "paper_bgcolor": "white",
          "plot_bgcolor": "#E5ECF6",
          "polar": {
           "angularaxis": {
            "gridcolor": "white",
            "linecolor": "white",
            "ticks": ""
           },
           "bgcolor": "#E5ECF6",
           "radialaxis": {
            "gridcolor": "white",
            "linecolor": "white",
            "ticks": ""
           }
          },
          "scene": {
           "xaxis": {
            "backgroundcolor": "#E5ECF6",
            "gridcolor": "white",
            "gridwidth": 2,
            "linecolor": "white",
            "showbackground": true,
            "ticks": "",
            "zerolinecolor": "white"
           },
           "yaxis": {
            "backgroundcolor": "#E5ECF6",
            "gridcolor": "white",
            "gridwidth": 2,
            "linecolor": "white",
            "showbackground": true,
            "ticks": "",
            "zerolinecolor": "white"
           },
           "zaxis": {
            "backgroundcolor": "#E5ECF6",
            "gridcolor": "white",
            "gridwidth": 2,
            "linecolor": "white",
            "showbackground": true,
            "ticks": "",
            "zerolinecolor": "white"
           }
          },
          "shapedefaults": {
           "line": {
            "color": "#2a3f5f"
           }
          },
          "ternary": {
           "aaxis": {
            "gridcolor": "white",
            "linecolor": "white",
            "ticks": ""
           },
           "baxis": {
            "gridcolor": "white",
            "linecolor": "white",
            "ticks": ""
           },
           "bgcolor": "#E5ECF6",
           "caxis": {
            "gridcolor": "white",
            "linecolor": "white",
            "ticks": ""
           }
          },
          "title": {
           "x": 0.05
          },
          "xaxis": {
           "automargin": true,
           "gridcolor": "white",
           "linecolor": "white",
           "ticks": "",
           "title": {
            "standoff": 15
           },
           "zerolinecolor": "white",
           "zerolinewidth": 2
          },
          "yaxis": {
           "automargin": true,
           "gridcolor": "white",
           "linecolor": "white",
           "ticks": "",
           "title": {
            "standoff": 15
           },
           "zerolinecolor": "white",
           "zerolinewidth": 2
          }
         }
        },
        "width": 1200,
        "xaxis": {
         "anchor": "y",
         "domain": [
          0,
          1
         ]
        },
        "xaxis2": {
         "anchor": "y2",
         "domain": [
          0,
          1
         ]
        },
        "yaxis": {
         "anchor": "x",
         "domain": [
          0.625,
          1
         ]
        },
        "yaxis2": {
         "anchor": "x2",
         "domain": [
          0,
          0.375
         ]
        }
       }
      }
     },
     "metadata": {},
     "output_type": "display_data"
    }
   ],
   "source": [
    "fig = sp.make_subplots(rows=2, cols=1, subplot_titles=['Average Life Expectancy', 'Average Population'])\n",
    "\n",
    "fig.add_trace(\n",
    "    go.Scatter(x=average_life_expectancy_yearly['Year'], y=average_life_expectancy_yearly['Life expectancy '],\n",
    "               mode='lines', name='Life Expectancy'),\n",
    "    row=1, col=1\n",
    ")\n",
    "\n",
    "fig.add_trace(\n",
    "    go.Scatter(x=average_population_yearly['Year'], y=average_population_yearly['Population'],\n",
    "               mode='lines', name='Population'),\n",
    "    row=2, col=1\n",
    ")\n",
    "\n",
    "fig.update_layout(\n",
    "    font=dict(size=12),\n",
    "    width=1200,\n",
    "    height=600,\n",
    "    margin=dict(l=20, r=20, t=60, b=20),\n",
    ")\n",
    "fig.show()"
   ]
  },
  {
   "cell_type": "markdown",
   "metadata": {},
   "source": [
    "#### 2. Life Expectancy over the years of the top 10 and bottom 10 countries"
   ]
  },
  {
   "cell_type": "code",
   "execution_count": 16,
   "metadata": {},
   "outputs": [],
   "source": [
    "average_life_expectancy = df.groupby('Country')['Life expectancy '].mean().reset_index() # calcultae the average life expectancy\n",
    "top10_countries = average_life_expectancy.nlargest(10, 'Life expectancy ') # take the top 10 average life expectancy\n",
    "bottom10_countries = average_life_expectancy.nsmallest(10, 'Life expectancy ') # take the bottom 10 average life expectancy"
   ]
  },
  {
   "cell_type": "code",
   "execution_count": 17,
   "metadata": {},
   "outputs": [],
   "source": [
    "# Filter the Original DataFrame for the Selected Countries\n",
    "selected_countries = top10_countries['Country'].tolist() + bottom10_countries['Country'].tolist()\n",
    "filtered_df = df[df['Country'].isin(selected_countries)] "
   ]
  },
  {
   "cell_type": "code",
   "execution_count": 26,
   "metadata": {},
   "outputs": [
    {
     "data": {
      "application/vnd.plotly.v1+json": {
       "config": {
        "plotlyServerURL": "https://plot.ly"
       },
       "data": [
        {
         "hovertemplate": "Country=Angola<br>Year=%{x}<br>Life expectancy =%{y}<extra></extra>",
         "legendgroup": "Angola",
         "line": {
          "color": "#636efa",
          "dash": "solid"
         },
         "marker": {
          "symbol": "circle"
         },
         "mode": "lines",
         "name": "Angola",
         "orientation": "v",
         "showlegend": true,
         "type": "scatter",
         "x": [
          2014,
          2013,
          2012,
          2011,
          2010,
          2009,
          2008,
          2007
         ],
         "xaxis": "x",
         "y": [
          51.7,
          51.1,
          56,
          51,
          49.6,
          49.1,
          48.7,
          48.2
         ],
         "yaxis": "y"
        },
        {
         "hovertemplate": "Country=Australia<br>Year=%{x}<br>Life expectancy =%{y}<extra></extra>",
         "legendgroup": "Australia",
         "line": {
          "color": "#EF553B",
          "dash": "solid"
         },
         "marker": {
          "symbol": "circle"
         },
         "mode": "lines",
         "name": "Australia",
         "orientation": "v",
         "showlegend": true,
         "type": "scatter",
         "x": [
          2014,
          2013,
          2012,
          2011,
          2010,
          2009,
          2008,
          2007,
          2006,
          2005,
          2004,
          2003,
          2002,
          2001
         ],
         "xaxis": "x",
         "y": [
          82.7,
          82.5,
          82.3,
          82,
          81.9,
          81.7,
          81.3,
          81.3,
          81.2,
          81,
          86,
          83,
          79.9,
          79.9
         ],
         "yaxis": "y"
        },
        {
         "hovertemplate": "Country=Austria<br>Year=%{x}<br>Life expectancy =%{y}<extra></extra>",
         "legendgroup": "Austria",
         "line": {
          "color": "#00cc96",
          "dash": "solid"
         },
         "marker": {
          "symbol": "circle"
         },
         "mode": "lines",
         "name": "Austria",
         "orientation": "v",
         "showlegend": true,
         "type": "scatter",
         "x": [
          2014,
          2013,
          2012,
          2011,
          2010,
          2009,
          2008,
          2007,
          2006,
          2005,
          2004,
          2003,
          2002,
          2001,
          2000
         ],
         "xaxis": "x",
         "y": [
          81.4,
          81.1,
          88,
          88,
          84,
          82,
          84,
          81,
          79.8,
          79.4,
          79.3,
          78.8,
          78.7,
          78.6,
          78.1
         ],
         "yaxis": "y"
        },
        {
         "hovertemplate": "Country=Canada<br>Year=%{x}<br>Life expectancy =%{y}<extra></extra>",
         "legendgroup": "Canada",
         "line": {
          "color": "#ab63fa",
          "dash": "solid"
         },
         "marker": {
          "symbol": "circle"
         },
         "mode": "lines",
         "name": "Canada",
         "orientation": "v",
         "showlegend": true,
         "type": "scatter",
         "x": [
          2014,
          2013,
          2012,
          2011,
          2010,
          2009,
          2008,
          2007,
          2006,
          2005,
          2004,
          2003
         ],
         "xaxis": "x",
         "y": [
          82,
          81.8,
          81.6,
          81.5,
          81.2,
          81,
          87,
          85,
          85,
          81,
          80,
          79.7
         ],
         "yaxis": "y"
        },
        {
         "hovertemplate": "Country=Central African Republic<br>Year=%{x}<br>Life expectancy =%{y}<extra></extra>",
         "legendgroup": "Central African Republic",
         "line": {
          "color": "#FFA15A",
          "dash": "solid"
         },
         "marker": {
          "symbol": "circle"
         },
         "mode": "lines",
         "name": "Central African Republic",
         "orientation": "v",
         "showlegend": true,
         "type": "scatter",
         "x": [
          2014,
          2013,
          2012,
          2011,
          2010,
          2009
         ],
         "xaxis": "x",
         "y": [
          58,
          49.9,
          53,
          49.8,
          49.2,
          48.6
         ],
         "yaxis": "y"
        },
        {
         "hovertemplate": "Country=Chad<br>Year=%{x}<br>Life expectancy =%{y}<extra></extra>",
         "legendgroup": "Chad",
         "line": {
          "color": "#19d3f3",
          "dash": "solid"
         },
         "marker": {
          "symbol": "circle"
         },
         "mode": "lines",
         "name": "Chad",
         "orientation": "v",
         "showlegend": true,
         "type": "scatter",
         "x": [
          2014,
          2013,
          2012,
          2011,
          2010,
          2009,
          2008
         ],
         "xaxis": "x",
         "y": [
          52.6,
          52.2,
          51.8,
          51.6,
          51.2,
          57,
          49.6
         ],
         "yaxis": "y"
        },
        {
         "hovertemplate": "Country=France<br>Year=%{x}<br>Life expectancy =%{y}<extra></extra>",
         "legendgroup": "France",
         "line": {
          "color": "#FF6692",
          "dash": "solid"
         },
         "marker": {
          "symbol": "circle"
         },
         "mode": "lines",
         "name": "France",
         "orientation": "v",
         "showlegend": true,
         "type": "scatter",
         "x": [
          2014,
          2013,
          2012,
          2011,
          2010,
          2009,
          2008,
          2007,
          2006,
          2005,
          2004,
          2003,
          2002,
          2001,
          2000
         ],
         "xaxis": "x",
         "y": [
          82.2,
          82,
          81.5,
          81.7,
          81.3,
          81.1,
          89,
          89,
          86,
          81,
          82,
          79.3,
          79.2,
          79,
          78.8
         ],
         "yaxis": "y"
        },
        {
         "hovertemplate": "Country=Greece<br>Year=%{x}<br>Life expectancy =%{y}<extra></extra>",
         "legendgroup": "Greece",
         "line": {
          "color": "#B6E880",
          "dash": "solid"
         },
         "marker": {
          "symbol": "circle"
         },
         "mode": "lines",
         "name": "Greece",
         "orientation": "v",
         "showlegend": true,
         "type": "scatter",
         "x": [
          2014,
          2013,
          2012,
          2011,
          2010,
          2009,
          2008,
          2007,
          2006,
          2005,
          2004,
          2003,
          2002,
          2001,
          2000
         ],
         "xaxis": "x",
         "y": [
          88,
          86,
          84,
          85,
          83,
          80,
          79.9,
          79.4,
          79.7,
          79.3,
          79.2,
          79.1,
          79,
          78.7,
          78.2
         ],
         "yaxis": "y"
        },
        {
         "hovertemplate": "Country=Ireland<br>Year=%{x}<br>Life expectancy =%{y}<extra></extra>",
         "legendgroup": "Ireland",
         "line": {
          "color": "#FF97FF",
          "dash": "solid"
         },
         "marker": {
          "symbol": "circle"
         },
         "mode": "lines",
         "name": "Ireland",
         "orientation": "v",
         "showlegend": true,
         "type": "scatter",
         "x": [
          2014,
          2013,
          2012,
          2011,
          2010
         ],
         "xaxis": "x",
         "y": [
          81.2,
          81,
          85,
          84,
          86
         ],
         "yaxis": "y"
        },
        {
         "hovertemplate": "Country=Italy<br>Year=%{x}<br>Life expectancy =%{y}<extra></extra>",
         "legendgroup": "Italy",
         "line": {
          "color": "#FECB52",
          "dash": "solid"
         },
         "marker": {
          "symbol": "circle"
         },
         "mode": "lines",
         "name": "Italy",
         "orientation": "v",
         "showlegend": true,
         "type": "scatter",
         "x": [
          2014,
          2013,
          2012,
          2011,
          2010,
          2009,
          2008,
          2007,
          2006,
          2005,
          2004,
          2003,
          2002,
          2001,
          2000
         ],
         "xaxis": "x",
         "y": [
          82.5,
          82.3,
          82,
          82,
          81.8,
          81.6,
          81.5,
          81.3,
          81.2,
          88,
          89,
          79.9,
          80,
          79.8,
          79.4
         ],
         "yaxis": "y"
        },
        {
         "hovertemplate": "Country=Lesotho<br>Year=%{x}<br>Life expectancy =%{y}<extra></extra>",
         "legendgroup": "Lesotho",
         "line": {
          "color": "#636efa",
          "dash": "solid"
         },
         "marker": {
          "symbol": "circle"
         },
         "mode": "lines",
         "name": "Lesotho",
         "orientation": "v",
         "showlegend": true,
         "type": "scatter",
         "x": [
          2014,
          2013,
          2012,
          2011,
          2010,
          2009,
          2008,
          2007,
          2006,
          2005,
          2004,
          2003
         ],
         "xaxis": "x",
         "y": [
          52.1,
          52.1,
          52.2,
          52.3,
          51.1,
          49.4,
          47.8,
          46.2,
          45.3,
          44.5,
          44.8,
          45.5
         ],
         "yaxis": "y"
        },
        {
         "hovertemplate": "Country=Malawi<br>Year=%{x}<br>Life expectancy =%{y}<extra></extra>",
         "legendgroup": "Malawi",
         "line": {
          "color": "#EF553B",
          "dash": "solid"
         },
         "marker": {
          "symbol": "circle"
         },
         "mode": "lines",
         "name": "Malawi",
         "orientation": "v",
         "showlegend": true,
         "type": "scatter",
         "x": [
          2014,
          2013,
          2012,
          2011,
          2010,
          2009,
          2008,
          2007,
          2006,
          2005,
          2004,
          2003,
          2002
         ],
         "xaxis": "x",
         "y": [
          57.6,
          56.7,
          55.3,
          54.1,
          52.9,
          51.5,
          50,
          48.5,
          47.1,
          46,
          45.1,
          44.6,
          44
         ],
         "yaxis": "y"
        },
        {
         "hovertemplate": "Country=Mozambique<br>Year=%{x}<br>Life expectancy =%{y}<extra></extra>",
         "legendgroup": "Mozambique",
         "line": {
          "color": "#00cc96",
          "dash": "solid"
         },
         "marker": {
          "symbol": "circle"
         },
         "mode": "lines",
         "name": "Mozambique",
         "orientation": "v",
         "showlegend": true,
         "type": "scatter",
         "x": [
          2014,
          2013,
          2012,
          2011,
          2010,
          2009,
          2008,
          2007,
          2006,
          2005,
          2004,
          2003,
          2002,
          2001
         ],
         "xaxis": "x",
         "y": [
          56.7,
          55.3,
          54.8,
          54.3,
          54,
          53.8,
          53.2,
          52.1,
          51.2,
          58,
          54,
          51,
          49.8,
          49.5
         ],
         "yaxis": "y"
        },
        {
         "hovertemplate": "Country=Netherlands<br>Year=%{x}<br>Life expectancy =%{y}<extra></extra>",
         "legendgroup": "Netherlands",
         "line": {
          "color": "#ab63fa",
          "dash": "solid"
         },
         "marker": {
          "symbol": "circle"
         },
         "mode": "lines",
         "name": "Netherlands",
         "orientation": "v",
         "showlegend": true,
         "type": "scatter",
         "x": [
          2014,
          2013,
          2012,
          2011
         ],
         "xaxis": "x",
         "y": [
          81.7,
          81.4,
          81.1,
          81.1
         ],
         "yaxis": "y"
        },
        {
         "hovertemplate": "Country=Nigeria<br>Year=%{x}<br>Life expectancy =%{y}<extra></extra>",
         "legendgroup": "Nigeria",
         "line": {
          "color": "#FFA15A",
          "dash": "solid"
         },
         "marker": {
          "symbol": "circle"
         },
         "mode": "lines",
         "name": "Nigeria",
         "orientation": "v",
         "showlegend": true,
         "type": "scatter",
         "x": [
          2014,
          2013,
          2012,
          2011,
          2010,
          2009,
          2008,
          2007,
          2006,
          2005
         ],
         "xaxis": "x",
         "y": [
          53.6,
          53.2,
          52.7,
          52.3,
          52,
          51.6,
          59,
          55,
          49.8,
          49.2
         ],
         "yaxis": "y"
        },
        {
         "hovertemplate": "Country=Sierra Leone<br>Year=%{x}<br>Life expectancy =%{y}<extra></extra>",
         "legendgroup": "Sierra Leone",
         "line": {
          "color": "#19d3f3",
          "dash": "solid"
         },
         "marker": {
          "symbol": "circle"
         },
         "mode": "lines",
         "name": "Sierra Leone",
         "orientation": "v",
         "showlegend": true,
         "type": "scatter",
         "x": [
          2014,
          2013,
          2012,
          2011,
          2010,
          2009,
          2008,
          2007
         ],
         "xaxis": "x",
         "y": [
          48.1,
          54,
          49.7,
          48.9,
          48.1,
          47.1,
          46.2,
          45.3
         ],
         "yaxis": "y"
        },
        {
         "hovertemplate": "Country=Spain<br>Year=%{x}<br>Life expectancy =%{y}<extra></extra>",
         "legendgroup": "Spain",
         "line": {
          "color": "#FF6692",
          "dash": "solid"
         },
         "marker": {
          "symbol": "circle"
         },
         "mode": "lines",
         "name": "Spain",
         "orientation": "v",
         "showlegend": true,
         "type": "scatter",
         "x": [
          2014,
          2013,
          2012,
          2011,
          2010,
          2009,
          2008,
          2007,
          2006,
          2005,
          2004,
          2003,
          2002,
          2001,
          2000
         ],
         "xaxis": "x",
         "y": [
          82.6,
          82.4,
          82,
          82.1,
          81.9,
          81.6,
          81.3,
          89,
          88,
          81,
          81,
          79.4,
          79.5,
          79.4,
          79.1
         ],
         "yaxis": "y"
        },
        {
         "hovertemplate": "Country=Swaziland<br>Year=%{x}<br>Life expectancy =%{y}<extra></extra>",
         "legendgroup": "Swaziland",
         "line": {
          "color": "#B6E880",
          "dash": "solid"
         },
         "marker": {
          "symbol": "circle"
         },
         "mode": "lines",
         "name": "Swaziland",
         "orientation": "v",
         "showlegend": true,
         "type": "scatter",
         "x": [
          2014,
          2013,
          2012,
          2011,
          2010,
          2009,
          2008,
          2007,
          2006,
          2005,
          2004,
          2003,
          2002,
          2001,
          2000
         ],
         "xaxis": "x",
         "y": [
          58.4,
          57.6,
          56.5,
          55,
          53.6,
          52.6,
          51.4,
          50,
          47.8,
          46,
          45.6,
          45.9,
          46.4,
          47.1,
          48.4
         ],
         "yaxis": "y"
        },
        {
         "hovertemplate": "Country=Sweden<br>Year=%{x}<br>Life expectancy =%{y}<extra></extra>",
         "legendgroup": "Sweden",
         "line": {
          "color": "#FF97FF",
          "dash": "solid"
         },
         "marker": {
          "symbol": "circle"
         },
         "mode": "lines",
         "name": "Sweden",
         "orientation": "v",
         "showlegend": true,
         "type": "scatter",
         "x": [
          2014,
          2013,
          2012,
          2011
         ],
         "xaxis": "x",
         "y": [
          82.3,
          81.9,
          81.7,
          81.7
         ],
         "yaxis": "y"
        },
        {
         "hovertemplate": "Country=Zimbabwe<br>Year=%{x}<br>Life expectancy =%{y}<extra></extra>",
         "legendgroup": "Zimbabwe",
         "line": {
          "color": "#FECB52",
          "dash": "solid"
         },
         "marker": {
          "symbol": "circle"
         },
         "mode": "lines",
         "name": "Zimbabwe",
         "orientation": "v",
         "showlegend": true,
         "type": "scatter",
         "x": [
          2014,
          2013,
          2012,
          2011,
          2010,
          2009,
          2008,
          2007,
          2006,
          2005,
          2004,
          2003,
          2002,
          2001,
          2000
         ],
         "xaxis": "x",
         "y": [
          59.2,
          58,
          56.6,
          54.9,
          52.4,
          50,
          48.2,
          46.6,
          45.4,
          44.6,
          44.3,
          44.5,
          44.8,
          45.3,
          46
         ],
         "yaxis": "y"
        }
       ],
       "layout": {
        "font": {
         "size": 15
        },
        "height": 1000,
        "legend": {
         "title": {
          "text": "Country"
         },
         "tracegroupgap": 0
        },
        "margin": {
         "b": 20,
         "l": 20,
         "r": 20,
         "t": 60
        },
        "template": {
         "data": {
          "bar": [
           {
            "error_x": {
             "color": "#2a3f5f"
            },
            "error_y": {
             "color": "#2a3f5f"
            },
            "marker": {
             "line": {
              "color": "#E5ECF6",
              "width": 0.5
             },
             "pattern": {
              "fillmode": "overlay",
              "size": 10,
              "solidity": 0.2
             }
            },
            "type": "bar"
           }
          ],
          "barpolar": [
           {
            "marker": {
             "line": {
              "color": "#E5ECF6",
              "width": 0.5
             },
             "pattern": {
              "fillmode": "overlay",
              "size": 10,
              "solidity": 0.2
             }
            },
            "type": "barpolar"
           }
          ],
          "carpet": [
           {
            "aaxis": {
             "endlinecolor": "#2a3f5f",
             "gridcolor": "white",
             "linecolor": "white",
             "minorgridcolor": "white",
             "startlinecolor": "#2a3f5f"
            },
            "baxis": {
             "endlinecolor": "#2a3f5f",
             "gridcolor": "white",
             "linecolor": "white",
             "minorgridcolor": "white",
             "startlinecolor": "#2a3f5f"
            },
            "type": "carpet"
           }
          ],
          "choropleth": [
           {
            "colorbar": {
             "outlinewidth": 0,
             "ticks": ""
            },
            "type": "choropleth"
           }
          ],
          "contour": [
           {
            "colorbar": {
             "outlinewidth": 0,
             "ticks": ""
            },
            "colorscale": [
             [
              0,
              "#0d0887"
             ],
             [
              0.1111111111111111,
              "#46039f"
             ],
             [
              0.2222222222222222,
              "#7201a8"
             ],
             [
              0.3333333333333333,
              "#9c179e"
             ],
             [
              0.4444444444444444,
              "#bd3786"
             ],
             [
              0.5555555555555556,
              "#d8576b"
             ],
             [
              0.6666666666666666,
              "#ed7953"
             ],
             [
              0.7777777777777778,
              "#fb9f3a"
             ],
             [
              0.8888888888888888,
              "#fdca26"
             ],
             [
              1,
              "#f0f921"
             ]
            ],
            "type": "contour"
           }
          ],
          "contourcarpet": [
           {
            "colorbar": {
             "outlinewidth": 0,
             "ticks": ""
            },
            "type": "contourcarpet"
           }
          ],
          "heatmap": [
           {
            "colorbar": {
             "outlinewidth": 0,
             "ticks": ""
            },
            "colorscale": [
             [
              0,
              "#0d0887"
             ],
             [
              0.1111111111111111,
              "#46039f"
             ],
             [
              0.2222222222222222,
              "#7201a8"
             ],
             [
              0.3333333333333333,
              "#9c179e"
             ],
             [
              0.4444444444444444,
              "#bd3786"
             ],
             [
              0.5555555555555556,
              "#d8576b"
             ],
             [
              0.6666666666666666,
              "#ed7953"
             ],
             [
              0.7777777777777778,
              "#fb9f3a"
             ],
             [
              0.8888888888888888,
              "#fdca26"
             ],
             [
              1,
              "#f0f921"
             ]
            ],
            "type": "heatmap"
           }
          ],
          "heatmapgl": [
           {
            "colorbar": {
             "outlinewidth": 0,
             "ticks": ""
            },
            "colorscale": [
             [
              0,
              "#0d0887"
             ],
             [
              0.1111111111111111,
              "#46039f"
             ],
             [
              0.2222222222222222,
              "#7201a8"
             ],
             [
              0.3333333333333333,
              "#9c179e"
             ],
             [
              0.4444444444444444,
              "#bd3786"
             ],
             [
              0.5555555555555556,
              "#d8576b"
             ],
             [
              0.6666666666666666,
              "#ed7953"
             ],
             [
              0.7777777777777778,
              "#fb9f3a"
             ],
             [
              0.8888888888888888,
              "#fdca26"
             ],
             [
              1,
              "#f0f921"
             ]
            ],
            "type": "heatmapgl"
           }
          ],
          "histogram": [
           {
            "marker": {
             "pattern": {
              "fillmode": "overlay",
              "size": 10,
              "solidity": 0.2
             }
            },
            "type": "histogram"
           }
          ],
          "histogram2d": [
           {
            "colorbar": {
             "outlinewidth": 0,
             "ticks": ""
            },
            "colorscale": [
             [
              0,
              "#0d0887"
             ],
             [
              0.1111111111111111,
              "#46039f"
             ],
             [
              0.2222222222222222,
              "#7201a8"
             ],
             [
              0.3333333333333333,
              "#9c179e"
             ],
             [
              0.4444444444444444,
              "#bd3786"
             ],
             [
              0.5555555555555556,
              "#d8576b"
             ],
             [
              0.6666666666666666,
              "#ed7953"
             ],
             [
              0.7777777777777778,
              "#fb9f3a"
             ],
             [
              0.8888888888888888,
              "#fdca26"
             ],
             [
              1,
              "#f0f921"
             ]
            ],
            "type": "histogram2d"
           }
          ],
          "histogram2dcontour": [
           {
            "colorbar": {
             "outlinewidth": 0,
             "ticks": ""
            },
            "colorscale": [
             [
              0,
              "#0d0887"
             ],
             [
              0.1111111111111111,
              "#46039f"
             ],
             [
              0.2222222222222222,
              "#7201a8"
             ],
             [
              0.3333333333333333,
              "#9c179e"
             ],
             [
              0.4444444444444444,
              "#bd3786"
             ],
             [
              0.5555555555555556,
              "#d8576b"
             ],
             [
              0.6666666666666666,
              "#ed7953"
             ],
             [
              0.7777777777777778,
              "#fb9f3a"
             ],
             [
              0.8888888888888888,
              "#fdca26"
             ],
             [
              1,
              "#f0f921"
             ]
            ],
            "type": "histogram2dcontour"
           }
          ],
          "mesh3d": [
           {
            "colorbar": {
             "outlinewidth": 0,
             "ticks": ""
            },
            "type": "mesh3d"
           }
          ],
          "parcoords": [
           {
            "line": {
             "colorbar": {
              "outlinewidth": 0,
              "ticks": ""
             }
            },
            "type": "parcoords"
           }
          ],
          "pie": [
           {
            "automargin": true,
            "type": "pie"
           }
          ],
          "scatter": [
           {
            "fillpattern": {
             "fillmode": "overlay",
             "size": 10,
             "solidity": 0.2
            },
            "type": "scatter"
           }
          ],
          "scatter3d": [
           {
            "line": {
             "colorbar": {
              "outlinewidth": 0,
              "ticks": ""
             }
            },
            "marker": {
             "colorbar": {
              "outlinewidth": 0,
              "ticks": ""
             }
            },
            "type": "scatter3d"
           }
          ],
          "scattercarpet": [
           {
            "marker": {
             "colorbar": {
              "outlinewidth": 0,
              "ticks": ""
             }
            },
            "type": "scattercarpet"
           }
          ],
          "scattergeo": [
           {
            "marker": {
             "colorbar": {
              "outlinewidth": 0,
              "ticks": ""
             }
            },
            "type": "scattergeo"
           }
          ],
          "scattergl": [
           {
            "marker": {
             "colorbar": {
              "outlinewidth": 0,
              "ticks": ""
             }
            },
            "type": "scattergl"
           }
          ],
          "scattermapbox": [
           {
            "marker": {
             "colorbar": {
              "outlinewidth": 0,
              "ticks": ""
             }
            },
            "type": "scattermapbox"
           }
          ],
          "scatterpolar": [
           {
            "marker": {
             "colorbar": {
              "outlinewidth": 0,
              "ticks": ""
             }
            },
            "type": "scatterpolar"
           }
          ],
          "scatterpolargl": [
           {
            "marker": {
             "colorbar": {
              "outlinewidth": 0,
              "ticks": ""
             }
            },
            "type": "scatterpolargl"
           }
          ],
          "scatterternary": [
           {
            "marker": {
             "colorbar": {
              "outlinewidth": 0,
              "ticks": ""
             }
            },
            "type": "scatterternary"
           }
          ],
          "surface": [
           {
            "colorbar": {
             "outlinewidth": 0,
             "ticks": ""
            },
            "colorscale": [
             [
              0,
              "#0d0887"
             ],
             [
              0.1111111111111111,
              "#46039f"
             ],
             [
              0.2222222222222222,
              "#7201a8"
             ],
             [
              0.3333333333333333,
              "#9c179e"
             ],
             [
              0.4444444444444444,
              "#bd3786"
             ],
             [
              0.5555555555555556,
              "#d8576b"
             ],
             [
              0.6666666666666666,
              "#ed7953"
             ],
             [
              0.7777777777777778,
              "#fb9f3a"
             ],
             [
              0.8888888888888888,
              "#fdca26"
             ],
             [
              1,
              "#f0f921"
             ]
            ],
            "type": "surface"
           }
          ],
          "table": [
           {
            "cells": {
             "fill": {
              "color": "#EBF0F8"
             },
             "line": {
              "color": "white"
             }
            },
            "header": {
             "fill": {
              "color": "#C8D4E3"
             },
             "line": {
              "color": "white"
             }
            },
            "type": "table"
           }
          ]
         },
         "layout": {
          "annotationdefaults": {
           "arrowcolor": "#2a3f5f",
           "arrowhead": 0,
           "arrowwidth": 1
          },
          "autotypenumbers": "strict",
          "coloraxis": {
           "colorbar": {
            "outlinewidth": 0,
            "ticks": ""
           }
          },
          "colorscale": {
           "diverging": [
            [
             0,
             "#8e0152"
            ],
            [
             0.1,
             "#c51b7d"
            ],
            [
             0.2,
             "#de77ae"
            ],
            [
             0.3,
             "#f1b6da"
            ],
            [
             0.4,
             "#fde0ef"
            ],
            [
             0.5,
             "#f7f7f7"
            ],
            [
             0.6,
             "#e6f5d0"
            ],
            [
             0.7,
             "#b8e186"
            ],
            [
             0.8,
             "#7fbc41"
            ],
            [
             0.9,
             "#4d9221"
            ],
            [
             1,
             "#276419"
            ]
           ],
           "sequential": [
            [
             0,
             "#0d0887"
            ],
            [
             0.1111111111111111,
             "#46039f"
            ],
            [
             0.2222222222222222,
             "#7201a8"
            ],
            [
             0.3333333333333333,
             "#9c179e"
            ],
            [
             0.4444444444444444,
             "#bd3786"
            ],
            [
             0.5555555555555556,
             "#d8576b"
            ],
            [
             0.6666666666666666,
             "#ed7953"
            ],
            [
             0.7777777777777778,
             "#fb9f3a"
            ],
            [
             0.8888888888888888,
             "#fdca26"
            ],
            [
             1,
             "#f0f921"
            ]
           ],
           "sequentialminus": [
            [
             0,
             "#0d0887"
            ],
            [
             0.1111111111111111,
             "#46039f"
            ],
            [
             0.2222222222222222,
             "#7201a8"
            ],
            [
             0.3333333333333333,
             "#9c179e"
            ],
            [
             0.4444444444444444,
             "#bd3786"
            ],
            [
             0.5555555555555556,
             "#d8576b"
            ],
            [
             0.6666666666666666,
             "#ed7953"
            ],
            [
             0.7777777777777778,
             "#fb9f3a"
            ],
            [
             0.8888888888888888,
             "#fdca26"
            ],
            [
             1,
             "#f0f921"
            ]
           ]
          },
          "colorway": [
           "#636efa",
           "#EF553B",
           "#00cc96",
           "#ab63fa",
           "#FFA15A",
           "#19d3f3",
           "#FF6692",
           "#B6E880",
           "#FF97FF",
           "#FECB52"
          ],
          "font": {
           "color": "#2a3f5f"
          },
          "geo": {
           "bgcolor": "white",
           "lakecolor": "white",
           "landcolor": "#E5ECF6",
           "showlakes": true,
           "showland": true,
           "subunitcolor": "white"
          },
          "hoverlabel": {
           "align": "left"
          },
          "hovermode": "closest",
          "mapbox": {
           "style": "light"
          },
          "paper_bgcolor": "white",
          "plot_bgcolor": "#E5ECF6",
          "polar": {
           "angularaxis": {
            "gridcolor": "white",
            "linecolor": "white",
            "ticks": ""
           },
           "bgcolor": "#E5ECF6",
           "radialaxis": {
            "gridcolor": "white",
            "linecolor": "white",
            "ticks": ""
           }
          },
          "scene": {
           "xaxis": {
            "backgroundcolor": "#E5ECF6",
            "gridcolor": "white",
            "gridwidth": 2,
            "linecolor": "white",
            "showbackground": true,
            "ticks": "",
            "zerolinecolor": "white"
           },
           "yaxis": {
            "backgroundcolor": "#E5ECF6",
            "gridcolor": "white",
            "gridwidth": 2,
            "linecolor": "white",
            "showbackground": true,
            "ticks": "",
            "zerolinecolor": "white"
           },
           "zaxis": {
            "backgroundcolor": "#E5ECF6",
            "gridcolor": "white",
            "gridwidth": 2,
            "linecolor": "white",
            "showbackground": true,
            "ticks": "",
            "zerolinecolor": "white"
           }
          },
          "shapedefaults": {
           "line": {
            "color": "#2a3f5f"
           }
          },
          "ternary": {
           "aaxis": {
            "gridcolor": "white",
            "linecolor": "white",
            "ticks": ""
           },
           "baxis": {
            "gridcolor": "white",
            "linecolor": "white",
            "ticks": ""
           },
           "bgcolor": "#E5ECF6",
           "caxis": {
            "gridcolor": "white",
            "linecolor": "white",
            "ticks": ""
           }
          },
          "title": {
           "x": 0.05
          },
          "xaxis": {
           "automargin": true,
           "gridcolor": "white",
           "linecolor": "white",
           "ticks": "",
           "title": {
            "standoff": 15
           },
           "zerolinecolor": "white",
           "zerolinewidth": 2
          },
          "yaxis": {
           "automargin": true,
           "gridcolor": "white",
           "linecolor": "white",
           "ticks": "",
           "title": {
            "standoff": 15
           },
           "zerolinecolor": "white",
           "zerolinewidth": 2
          }
         }
        },
        "title": {
         "text": "Life Expectancy Over the Years for the top 5 and bottom 5 Selected Countries"
        },
        "width": 1500,
        "xaxis": {
         "anchor": "y",
         "domain": [
          0,
          1
         ],
         "title": {
          "text": "Year"
         }
        },
        "yaxis": {
         "anchor": "x",
         "domain": [
          0,
          1
         ],
         "title": {
          "text": "Life Expectancy"
         }
        }
       }
      }
     },
     "metadata": {},
     "output_type": "display_data"
    }
   ],
   "source": [
    "fig = px.line(filtered_df, x='Year', y='Life expectancy ', color='Country',title='Life Expectancy Over the Years for the top 5 and bottom 5 Selected Countries')\n",
    "fig.update_layout(\n",
    "    xaxis_title='Year',\n",
    "    yaxis_title='Life Expectancy',\n",
    "    legend_title='Country',\n",
    "    font=dict(size=15),\n",
    "    width=1500,\n",
    "    height=1000,\n",
    "    margin=dict(l=20, r=20, t=60, b=20))\n",
    "\n",
    "fig.show()"
   ]
  },
  {
   "cell_type": "markdown",
   "metadata": {},
   "source": []
  },
  {
   "cell_type": "markdown",
   "metadata": {},
   "source": [
    "#### 3.Violin Plot for Life Expectancy by Continent "
   ]
  },
  {
   "cell_type": "code",
   "execution_count": 37,
   "metadata": {},
   "outputs": [
    {
     "data": {
      "application/vnd.plotly.v1+json": {
       "config": {
        "plotlyServerURL": "https://plot.ly"
       },
       "data": [
        {
         "alignmentgroup": "True",
         "box": {
          "visible": true
         },
         "hovertemplate": "Continent=%{x}<br>Life expectancy =%{y}<extra></extra>",
         "legendgroup": "Asia",
         "marker": {
          "color": "#636efa"
         },
         "name": "Asia",
         "offsetgroup": "Asia",
         "orientation": "v",
         "scalegroup": "True",
         "showlegend": true,
         "type": "violin",
         "x": [
          "Asia",
          "Asia",
          "Asia",
          "Asia",
          "Asia",
          "Asia",
          "Asia",
          "Asia",
          "Asia",
          "Asia",
          "Asia",
          "Asia",
          "Asia",
          "Asia",
          "Asia",
          "Asia",
          "Asia",
          "Asia",
          "Asia",
          "Asia",
          "Asia",
          "Asia",
          "Asia",
          "Asia",
          "Asia",
          "Asia",
          "Asia",
          "Asia",
          "Asia",
          "Asia",
          "Asia",
          "Asia",
          "Asia",
          "Asia",
          "Asia",
          "Asia",
          "Asia",
          "Asia",
          "Asia",
          "Asia",
          "Asia",
          "Asia",
          "Asia",
          "Asia",
          "Asia",
          "Asia",
          "Asia",
          "Asia",
          "Asia",
          "Asia",
          "Asia",
          "Asia",
          "Asia",
          "Asia",
          "Asia",
          "Asia",
          "Asia",
          "Asia",
          "Asia",
          "Asia",
          "Asia",
          "Asia",
          "Asia",
          "Asia",
          "Asia",
          "Asia",
          "Asia",
          "Asia",
          "Asia",
          "Asia",
          "Asia",
          "Asia",
          "Asia",
          "Asia",
          "Asia",
          "Asia",
          "Asia",
          "Asia",
          "Asia",
          "Asia",
          "Asia",
          "Asia",
          "Asia",
          "Asia",
          "Asia",
          "Asia",
          "Asia",
          "Asia",
          "Asia",
          "Asia",
          "Asia",
          "Asia",
          "Asia",
          "Asia",
          "Asia",
          "Asia",
          "Asia",
          "Asia",
          "Asia",
          "Asia",
          "Asia",
          "Asia",
          "Asia",
          "Asia",
          "Asia",
          "Asia",
          "Asia",
          "Asia",
          "Asia",
          "Asia",
          "Asia",
          "Asia",
          "Asia",
          "Asia",
          "Asia",
          "Asia",
          "Asia",
          "Asia",
          "Asia",
          "Asia",
          "Asia",
          "Asia",
          "Asia",
          "Asia",
          "Asia",
          "Asia",
          "Asia",
          "Asia",
          "Asia",
          "Asia",
          "Asia",
          "Asia",
          "Asia",
          "Asia",
          "Asia",
          "Asia",
          "Asia",
          "Asia",
          "Asia",
          "Asia",
          "Asia",
          "Asia",
          "Asia",
          "Asia",
          "Asia",
          "Asia",
          "Asia",
          "Asia",
          "Asia",
          "Asia",
          "Asia",
          "Asia",
          "Asia",
          "Asia",
          "Asia",
          "Asia",
          "Asia",
          "Asia",
          "Asia",
          "Asia",
          "Asia",
          "Asia",
          "Asia",
          "Asia",
          "Asia",
          "Asia",
          "Asia",
          "Asia",
          "Asia",
          "Asia",
          "Asia",
          "Asia",
          "Asia",
          "Asia",
          "Asia",
          "Asia",
          "Asia",
          "Asia",
          "Asia",
          "Asia",
          "Asia",
          "Asia",
          "Asia",
          "Asia",
          "Asia",
          "Asia",
          "Asia",
          "Asia",
          "Asia",
          "Asia",
          "Asia",
          "Asia",
          "Asia",
          "Asia",
          "Asia",
          "Asia",
          "Asia",
          "Asia",
          "Asia",
          "Asia",
          "Asia",
          "Asia",
          "Asia",
          "Asia",
          "Asia",
          "Asia",
          "Asia",
          "Asia",
          "Asia",
          "Asia",
          "Asia",
          "Asia",
          "Asia",
          "Asia",
          "Asia",
          "Asia",
          "Asia",
          "Asia",
          "Asia",
          "Asia",
          "Asia",
          "Asia",
          "Asia",
          "Asia",
          "Asia",
          "Asia",
          "Asia",
          "Asia",
          "Asia",
          "Asia",
          "Asia",
          "Asia",
          "Asia",
          "Asia",
          "Asia",
          "Asia",
          "Asia",
          "Asia",
          "Asia",
          "Asia",
          "Asia",
          "Asia",
          "Asia",
          "Asia",
          "Asia",
          "Asia",
          "Asia",
          "Asia",
          "Asia",
          "Asia",
          "Asia",
          "Asia",
          "Asia",
          "Asia",
          "Asia",
          "Asia",
          "Asia",
          "Asia",
          "Asia",
          "Asia",
          "Asia",
          "Asia",
          "Asia",
          "Asia",
          "Asia",
          "Asia",
          "Asia",
          "Asia",
          "Asia",
          "Asia",
          "Asia",
          "Asia",
          "Asia",
          "Asia",
          "Asia",
          "Asia",
          "Asia",
          "Asia",
          "Asia",
          "Asia",
          "Asia",
          "Asia",
          "Asia",
          "Asia",
          "Asia",
          "Asia",
          "Asia",
          "Asia",
          "Asia",
          "Asia",
          "Asia",
          "Asia",
          "Asia",
          "Asia",
          "Asia",
          "Asia",
          "Asia",
          "Asia",
          "Asia",
          "Asia",
          "Asia",
          "Asia",
          "Asia",
          "Asia",
          "Asia",
          "Asia",
          "Asia",
          "Asia",
          "Asia",
          "Asia",
          "Asia",
          "Asia",
          "Asia",
          "Asia",
          "Asia",
          "Asia",
          "Asia",
          "Asia",
          "Asia",
          "Asia",
          "Asia",
          "Asia",
          "Asia",
          "Asia",
          "Asia",
          "Asia",
          "Asia",
          "Asia",
          "Asia",
          "Asia",
          "Asia",
          "Asia",
          "Asia",
          "Asia",
          "Asia",
          "Asia",
          "Asia",
          "Asia",
          "Asia",
          "Asia",
          "Asia",
          "Asia",
          "Asia",
          "Asia",
          "Asia",
          "Asia",
          "Asia",
          "Asia",
          "Asia",
          "Asia",
          "Asia",
          "Asia",
          "Asia",
          "Asia",
          "Asia",
          "Asia",
          "Asia",
          "Asia",
          "Asia",
          "Asia",
          "Asia",
          "Asia",
          "Asia",
          "Asia",
          "Asia",
          "Asia",
          "Asia",
          "Asia",
          "Asia",
          "Asia",
          "Asia",
          "Asia",
          "Asia",
          "Asia",
          "Asia",
          "Asia",
          "Asia",
          "Asia",
          "Asia",
          "Asia",
          "Asia",
          "Asia",
          "Asia",
          "Asia",
          "Asia",
          "Asia",
          "Asia",
          "Asia",
          "Asia",
          "Asia",
          "Asia",
          "Asia",
          "Asia",
          "Asia",
          "Asia",
          "Asia",
          "Asia",
          "Asia",
          "Asia",
          "Asia",
          "Asia",
          "Asia",
          "Asia",
          "Asia",
          "Asia",
          "Asia",
          "Asia"
         ],
         "x0": " ",
         "xaxis": "x",
         "y": [
          65,
          59.9,
          59.9,
          59.5,
          59.2,
          58.8,
          58.6,
          58.1,
          57.5,
          57.3,
          57.3,
          57,
          56.7,
          56.2,
          55.3,
          54.8,
          74.6,
          74.4,
          74.4,
          73.9,
          73.5,
          73.3,
          73.2,
          73.5,
          72.9,
          73,
          73,
          72.7,
          72.6,
          72.6,
          72,
          72.5,
          72.2,
          71.9,
          71.6,
          71.1,
          78,
          73,
          73,
          69.2,
          68.4,
          68.4,
          67.8,
          67.8,
          71.4,
          71,
          77,
          73,
          69.9,
          69.5,
          69.1,
          68.6,
          68.2,
          67.8,
          67.3,
          66.8,
          69.4,
          69.1,
          68.7,
          68.3,
          67.9,
          67.4,
          67,
          66.5,
          65.8,
          65,
          64.2,
          63.3,
          62.5,
          61.7,
          62,
          68.3,
          67.8,
          67.4,
          67,
          66.6,
          66.1,
          65.6,
          65,
          64.1,
          75.8,
          75.6,
          75.4,
          75.2,
          75,
          74.9,
          74.5,
          74.4,
          74.2,
          73.9,
          73.5,
          73.1,
          72.7,
          72.2,
          71.7,
          83,
          81,
          80,
          79.7,
          79.5,
          79.3,
          79.1,
          78.9,
          78.8,
          78.7,
          78.6,
          78.5,
          78.4,
          78.2,
          78.1,
          74.5,
          74.5,
          74.2,
          73.9,
          73.8,
          73.2,
          73.9,
          74.4,
          73.9,
          73.9,
          72.3,
          72.7,
          71.7,
          73,
          71.8,
          68,
          67.6,
          67.3,
          66.8,
          66.4,
          66,
          65.5,
          65.2,
          64.8,
          64.4,
          64,
          68.9,
          68.7,
          68.5,
          68.3,
          68.1,
          67.9,
          67.7,
          67.5,
          67.3,
          67.2,
          65.3,
          66.9,
          66.7,
          66.5,
          66.3,
          67.9,
          69.5,
          76,
          77,
          76,
          74,
          69.3,
          65.9,
          64.7,
          66.8,
          67.2,
          82.2,
          82.1,
          81.8,
          81.8,
          81.7,
          81.5,
          81,
          84,
          84,
          80,
          81,
          79.7,
          79.3,
          79.3,
          78.9,
          74,
          73.9,
          73.7,
          73.6,
          73.4,
          73.3,
          73.1,
          73,
          72.8,
          72.4,
          72.5,
          72.3,
          72.1,
          71.9,
          71.7,
          69.9,
          69.5,
          69.1,
          68.5,
          67.8,
          67.8,
          66.6,
          65.3,
          65,
          64.6,
          64.7,
          64.4,
          64.7,
          64.4,
          63.9,
          74.8,
          74.9,
          75,
          75,
          74.9,
          74.7,
          74.5,
          74.4,
          74.1,
          73.9,
          73.7,
          73.5,
          73.2,
          73,
          72.7,
          74.8,
          74.6,
          74.5,
          74.3,
          74.1,
          74,
          73.8,
          73.7,
          73.6,
          73.4,
          73.2,
          73.1,
          72.9,
          72.7,
          72.4,
          78.2,
          77.9,
          77.6,
          77.3,
          76.7,
          76.3,
          75.9,
          75.4,
          75,
          74.3,
          73.4,
          72.7,
          71.8,
          78,
          69.6,
          68.4,
          68.1,
          67.8,
          67.3,
          66.3,
          66.9,
          67.4,
          65.9,
          65,
          64.5,
          64,
          64,
          63.8,
          63.2,
          62.8,
          66.4,
          66.2,
          65.9,
          65.6,
          65.4,
          65.2,
          59.2,
          64.5,
          64.2,
          63.9,
          63.5,
          63.2,
          69.6,
          69.3,
          68.9,
          68.4,
          68,
          67.5,
          67,
          66.6,
          66,
          65.4,
          64.7,
          64.3,
          66.2,
          66,
          65.7,
          65.5,
          65.1,
          64.8,
          64.6,
          64.4,
          64.2,
          62.9,
          63.7,
          63.5,
          68.4,
          68.1,
          68.1,
          68,
          67.9,
          68,
          67.5,
          67.5,
          67.3,
          67,
          67.3,
          67.2,
          66.8,
          66.8,
          66.8,
          74.7,
          74.6,
          74.5,
          74.5,
          74.5,
          71.8,
          72.3,
          73.7,
          73.8,
          74.2,
          69.1,
          73.9,
          73.8,
          73.7,
          73.5,
          73.2,
          73,
          72.8,
          72.7,
          72.6,
          69.6,
          69.3,
          68.8,
          68.1,
          67.3,
          66.7,
          66.4,
          66.1,
          65.9,
          65.5,
          65.9,
          65.2,
          64.3,
          74.6,
          74.5,
          74.3,
          74.1,
          73.9,
          73.7,
          73.5,
          73.3,
          73,
          72.5,
          71.6,
          71.7,
          71.4,
          71.2,
          71.1,
          75.5,
          75.2,
          74.8,
          74.5,
          74.2,
          73.9,
          73.5,
          73.2,
          72.8,
          72.4,
          72,
          71.6,
          71.2,
          78,
          74,
          66,
          65.4,
          65.6,
          65.6,
          65.8,
          65.6,
          64.5,
          64.1,
          63.7,
          63.3,
          63.5,
          63.4,
          63.3,
          69.2,
          69.1,
          68.8,
          68.5,
          68.3,
          68,
          67.9,
          67.8,
          67.6,
          67.3,
          67.8,
          67.2,
          67.1
         ],
         "y0": " ",
         "yaxis": "y"
        },
        {
         "alignmentgroup": "True",
         "box": {
          "visible": true
         },
         "hovertemplate": "Continent=%{x}<br>Life expectancy =%{y}<extra></extra>",
         "legendgroup": "Europe",
         "marker": {
          "color": "#EF553B"
         },
         "name": "Europe",
         "offsetgroup": "Europe",
         "orientation": "v",
         "scalegroup": "True",
         "showlegend": true,
         "type": "violin",
         "x": [
          "Europe",
          "Europe",
          "Europe",
          "Europe",
          "Europe",
          "Europe",
          "Europe",
          "Europe",
          "Europe",
          "Europe",
          "Europe",
          "Europe",
          "Europe",
          "Europe",
          "Europe",
          "Europe",
          "Europe",
          "Europe",
          "Europe",
          "Europe",
          "Europe",
          "Europe",
          "Europe",
          "Europe",
          "Europe",
          "Europe",
          "Europe",
          "Europe",
          "Europe",
          "Europe",
          "Europe",
          "Europe",
          "Europe",
          "Europe",
          "Europe",
          "Europe",
          "Europe",
          "Europe",
          "Europe",
          "Europe",
          "Europe",
          "Europe",
          "Europe",
          "Europe",
          "Europe",
          "Europe",
          "Europe",
          "Europe",
          "Europe",
          "Europe",
          "Europe",
          "Europe",
          "Europe",
          "Europe",
          "Europe",
          "Europe",
          "Europe",
          "Europe",
          "Europe",
          "Europe",
          "Europe",
          "Europe",
          "Europe",
          "Europe",
          "Europe",
          "Europe",
          "Europe",
          "Europe",
          "Europe",
          "Europe",
          "Europe",
          "Europe",
          "Europe",
          "Europe",
          "Europe",
          "Europe",
          "Europe",
          "Europe",
          "Europe",
          "Europe",
          "Europe",
          "Europe",
          "Europe",
          "Europe",
          "Europe",
          "Europe",
          "Europe",
          "Europe",
          "Europe",
          "Europe",
          "Europe",
          "Europe",
          "Europe",
          "Europe",
          "Europe",
          "Europe",
          "Europe",
          "Europe",
          "Europe",
          "Europe",
          "Europe",
          "Europe",
          "Europe",
          "Europe",
          "Europe",
          "Europe",
          "Europe",
          "Europe",
          "Europe",
          "Europe",
          "Europe",
          "Europe",
          "Europe",
          "Europe",
          "Europe",
          "Europe",
          "Europe",
          "Europe",
          "Europe",
          "Europe",
          "Europe",
          "Europe",
          "Europe",
          "Europe",
          "Europe",
          "Europe",
          "Europe",
          "Europe",
          "Europe",
          "Europe",
          "Europe",
          "Europe",
          "Europe",
          "Europe",
          "Europe",
          "Europe",
          "Europe",
          "Europe",
          "Europe",
          "Europe",
          "Europe",
          "Europe",
          "Europe",
          "Europe",
          "Europe",
          "Europe",
          "Europe",
          "Europe",
          "Europe",
          "Europe",
          "Europe",
          "Europe",
          "Europe",
          "Europe",
          "Europe",
          "Europe",
          "Europe",
          "Europe",
          "Europe",
          "Europe",
          "Europe",
          "Europe",
          "Europe",
          "Europe",
          "Europe",
          "Europe",
          "Europe",
          "Europe",
          "Europe",
          "Europe",
          "Europe",
          "Europe",
          "Europe",
          "Europe",
          "Europe",
          "Europe",
          "Europe",
          "Europe",
          "Europe",
          "Europe",
          "Europe",
          "Europe",
          "Europe",
          "Europe",
          "Europe",
          "Europe",
          "Europe",
          "Europe",
          "Europe",
          "Europe",
          "Europe",
          "Europe",
          "Europe",
          "Europe",
          "Europe",
          "Europe",
          "Europe",
          "Europe",
          "Europe",
          "Europe",
          "Europe",
          "Europe",
          "Europe",
          "Europe",
          "Europe",
          "Europe",
          "Europe",
          "Europe",
          "Europe",
          "Europe",
          "Europe",
          "Europe",
          "Europe",
          "Europe",
          "Europe",
          "Europe",
          "Europe",
          "Europe",
          "Europe",
          "Europe",
          "Europe",
          "Europe",
          "Europe",
          "Europe",
          "Europe",
          "Europe",
          "Europe",
          "Europe",
          "Europe",
          "Europe",
          "Europe",
          "Europe",
          "Europe",
          "Europe",
          "Europe",
          "Europe",
          "Europe",
          "Europe",
          "Europe",
          "Europe",
          "Europe",
          "Europe",
          "Europe",
          "Europe",
          "Europe",
          "Europe",
          "Europe",
          "Europe",
          "Europe",
          "Europe",
          "Europe",
          "Europe",
          "Europe",
          "Europe",
          "Europe",
          "Europe",
          "Europe",
          "Europe",
          "Europe",
          "Europe",
          "Europe",
          "Europe",
          "Europe",
          "Europe",
          "Europe",
          "Europe",
          "Europe",
          "Europe",
          "Europe",
          "Europe",
          "Europe",
          "Europe",
          "Europe",
          "Europe",
          "Europe",
          "Europe",
          "Europe",
          "Europe",
          "Europe",
          "Europe",
          "Europe",
          "Europe",
          "Europe",
          "Europe",
          "Europe",
          "Europe",
          "Europe",
          "Europe",
          "Europe",
          "Europe",
          "Europe",
          "Europe",
          "Europe",
          "Europe",
          "Europe",
          "Europe",
          "Europe",
          "Europe",
          "Europe",
          "Europe",
          "Europe",
          "Europe",
          "Europe",
          "Europe",
          "Europe",
          "Europe",
          "Europe",
          "Europe",
          "Europe",
          "Europe",
          "Europe",
          "Europe",
          "Europe",
          "Europe",
          "Europe",
          "Europe",
          "Europe",
          "Europe",
          "Europe",
          "Europe",
          "Europe",
          "Europe",
          "Europe",
          "Europe",
          "Europe",
          "Europe",
          "Europe",
          "Europe",
          "Europe",
          "Europe",
          "Europe",
          "Europe",
          "Europe",
          "Europe",
          "Europe",
          "Europe",
          "Europe",
          "Europe",
          "Europe",
          "Europe",
          "Europe",
          "Europe",
          "Europe",
          "Europe",
          "Europe"
         ],
         "x0": " ",
         "xaxis": "x",
         "y": [
          77.8,
          77.5,
          77.2,
          76.9,
          76.6,
          76.2,
          76.1,
          75.3,
          75.9,
          74.2,
          73.5,
          73,
          72.8,
          73.3,
          73.6,
          72.6,
          81.4,
          81.1,
          88,
          88,
          84,
          82,
          84,
          81,
          79.8,
          79.4,
          79.3,
          78.8,
          78.7,
          78.6,
          78.1,
          72,
          71.7,
          71.9,
          72,
          73,
          70,
          70,
          69.8,
          68.9,
          68.1,
          68.2,
          67.7,
          67.2,
          67.7,
          68,
          89,
          87,
          83,
          83,
          80,
          79.8,
          79.5,
          79.5,
          79.4,
          78.9,
          78.8,
          78.3,
          78,
          78,
          77.6,
          77.2,
          77,
          76.8,
          76.9,
          76.4,
          76.1,
          76,
          75.4,
          75.7,
          75,
          75.5,
          74.3,
          74.1,
          73.9,
          73.7,
          73.4,
          73.2,
          72.9,
          72.6,
          72.2,
          72.1,
          72.2,
          72,
          71.8,
          71.6,
          71.1,
          77.8,
          77.7,
          77.1,
          77,
          76.6,
          76.3,
          76,
          75.8,
          77.3,
          76.9,
          76.3,
          76.1,
          75.6,
          74.9,
          74.2,
          73,
          73,
          72.8,
          72.3,
          82.2,
          82,
          81.5,
          81.7,
          81.3,
          81.1,
          89,
          89,
          86,
          81,
          82,
          79.3,
          79.2,
          79,
          78.8,
          89,
          86,
          86,
          85,
          81,
          80,
          79.9,
          79.8,
          79.6,
          79.2,
          79.1,
          78.5,
          78.4,
          78.3,
          78,
          88,
          86,
          84,
          85,
          83,
          80,
          79.9,
          79.4,
          79.7,
          79.3,
          79.2,
          79.1,
          79,
          78.7,
          78.2,
          81.2,
          81,
          85,
          84,
          86,
          82.5,
          82.3,
          82,
          82,
          81.8,
          81.6,
          81.5,
          81.3,
          81.2,
          88,
          89,
          79.9,
          80,
          79.8,
          79.4,
          74.4,
          74.1,
          73.8,
          73.6,
          72.8,
          72.6,
          71.9,
          78,
          75,
          76,
          71,
          78,
          73,
          69.9,
          71,
          73.4,
          73,
          73,
          72.8,
          72.4,
          72.2,
          71.1,
          72,
          76,
          78,
          71.6,
          71.6,
          71.4,
          71.2,
          71.6,
          81.7,
          81.4,
          81.1,
          88,
          86,
          83,
          80,
          79.7,
          79.4,
          78.8,
          78.7,
          78.6,
          78.3,
          78,
          77.8,
          81.4,
          81.1,
          81,
          87,
          83,
          82,
          80,
          79.6,
          79.3,
          79,
          78.7,
          78.5,
          75.9,
          75.8,
          75.6,
          75.4,
          75.3,
          75,
          74.6,
          74.2,
          73.8,
          81.7,
          81.4,
          81.1,
          81.1,
          77.3,
          77.1,
          76.8,
          76.7,
          76.3,
          75.7,
          75.5,
          75.3,
          75.2,
          75,
          74.9,
          74.7,
          74.5,
          74.2,
          73.7,
          89,
          86,
          83,
          82,
          79.6,
          79.3,
          79,
          78.7,
          78.5,
          77.7,
          78,
          77.3,
          77.2,
          76.9,
          76.6,
          74.8,
          74.6,
          74.4,
          74.3,
          73.4,
          73.1,
          73.1,
          72.9,
          72.5,
          71.9,
          71.7,
          71.1,
          77,
          78,
          77,
          73,
          70,
          69.6,
          69.4,
          68.4,
          68.2,
          67.5,
          67.3,
          66.4,
          65,
          64.9,
          64.6,
          64.8,
          65.1,
          75.4,
          75.3,
          74.9,
          74.6,
          74.4,
          74.1,
          74,
          73.8,
          73.6,
          73,
          73,
          82.6,
          82.4,
          82,
          82.1,
          81.9,
          81.6,
          81.3,
          89,
          88,
          81,
          81,
          79.4,
          79.5,
          79.4,
          79.1,
          82.3,
          81.9,
          81.7,
          81.7,
          78,
          71,
          77,
          75,
          69.8,
          69.2,
          67.7,
          67.5,
          67.7,
          67,
          67.4,
          67.6,
          67.6,
          67.7,
          67.5
         ],
         "y0": " ",
         "yaxis": "y"
        },
        {
         "alignmentgroup": "True",
         "box": {
          "visible": true
         },
         "hovertemplate": "Continent=%{x}<br>Life expectancy =%{y}<extra></extra>",
         "legendgroup": "Africa",
         "marker": {
          "color": "#00cc96"
         },
         "name": "Africa",
         "offsetgroup": "Africa",
         "orientation": "v",
         "scalegroup": "True",
         "showlegend": true,
         "type": "violin",
         "x": [
          "Africa",
          "Africa",
          "Africa",
          "Africa",
          "Africa",
          "Africa",
          "Africa",
          "Africa",
          "Africa",
          "Africa",
          "Africa",
          "Africa",
          "Africa",
          "Africa",
          "Africa",
          "Africa",
          "Africa",
          "Africa",
          "Africa",
          "Africa",
          "Africa",
          "Africa",
          "Africa",
          "Africa",
          "Africa",
          "Africa",
          "Africa",
          "Africa",
          "Africa",
          "Africa",
          "Africa",
          "Africa",
          "Africa",
          "Africa",
          "Africa",
          "Africa",
          "Africa",
          "Africa",
          "Africa",
          "Africa",
          "Africa",
          "Africa",
          "Africa",
          "Africa",
          "Africa",
          "Africa",
          "Africa",
          "Africa",
          "Africa",
          "Africa",
          "Africa",
          "Africa",
          "Africa",
          "Africa",
          "Africa",
          "Africa",
          "Africa",
          "Africa",
          "Africa",
          "Africa",
          "Africa",
          "Africa",
          "Africa",
          "Africa",
          "Africa",
          "Africa",
          "Africa",
          "Africa",
          "Africa",
          "Africa",
          "Africa",
          "Africa",
          "Africa",
          "Africa",
          "Africa",
          "Africa",
          "Africa",
          "Africa",
          "Africa",
          "Africa",
          "Africa",
          "Africa",
          "Africa",
          "Africa",
          "Africa",
          "Africa",
          "Africa",
          "Africa",
          "Africa",
          "Africa",
          "Africa",
          "Africa",
          "Africa",
          "Africa",
          "Africa",
          "Africa",
          "Africa",
          "Africa",
          "Africa",
          "Africa",
          "Africa",
          "Africa",
          "Africa",
          "Africa",
          "Africa",
          "Africa",
          "Africa",
          "Africa",
          "Africa",
          "Africa",
          "Africa",
          "Africa",
          "Africa",
          "Africa",
          "Africa",
          "Africa",
          "Africa",
          "Africa",
          "Africa",
          "Africa",
          "Africa",
          "Africa",
          "Africa",
          "Africa",
          "Africa",
          "Africa",
          "Africa",
          "Africa",
          "Africa",
          "Africa",
          "Africa",
          "Africa",
          "Africa",
          "Africa",
          "Africa",
          "Africa",
          "Africa",
          "Africa",
          "Africa",
          "Africa",
          "Africa",
          "Africa",
          "Africa",
          "Africa",
          "Africa",
          "Africa",
          "Africa",
          "Africa",
          "Africa",
          "Africa",
          "Africa",
          "Africa",
          "Africa",
          "Africa",
          "Africa",
          "Africa",
          "Africa",
          "Africa",
          "Africa",
          "Africa",
          "Africa",
          "Africa",
          "Africa",
          "Africa",
          "Africa",
          "Africa",
          "Africa",
          "Africa",
          "Africa",
          "Africa",
          "Africa",
          "Africa",
          "Africa",
          "Africa",
          "Africa",
          "Africa",
          "Africa",
          "Africa",
          "Africa",
          "Africa",
          "Africa",
          "Africa",
          "Africa",
          "Africa",
          "Africa",
          "Africa",
          "Africa",
          "Africa",
          "Africa",
          "Africa",
          "Africa",
          "Africa",
          "Africa",
          "Africa",
          "Africa",
          "Africa",
          "Africa",
          "Africa",
          "Africa",
          "Africa",
          "Africa",
          "Africa",
          "Africa",
          "Africa",
          "Africa",
          "Africa",
          "Africa",
          "Africa",
          "Africa",
          "Africa",
          "Africa",
          "Africa",
          "Africa",
          "Africa",
          "Africa",
          "Africa",
          "Africa",
          "Africa",
          "Africa",
          "Africa",
          "Africa",
          "Africa",
          "Africa",
          "Africa",
          "Africa",
          "Africa",
          "Africa",
          "Africa",
          "Africa",
          "Africa",
          "Africa",
          "Africa",
          "Africa",
          "Africa",
          "Africa",
          "Africa",
          "Africa",
          "Africa",
          "Africa",
          "Africa",
          "Africa",
          "Africa",
          "Africa",
          "Africa",
          "Africa",
          "Africa",
          "Africa",
          "Africa",
          "Africa",
          "Africa",
          "Africa",
          "Africa",
          "Africa",
          "Africa",
          "Africa",
          "Africa",
          "Africa",
          "Africa",
          "Africa",
          "Africa",
          "Africa",
          "Africa",
          "Africa",
          "Africa",
          "Africa",
          "Africa",
          "Africa",
          "Africa",
          "Africa",
          "Africa",
          "Africa",
          "Africa",
          "Africa",
          "Africa",
          "Africa",
          "Africa",
          "Africa",
          "Africa",
          "Africa",
          "Africa",
          "Africa",
          "Africa",
          "Africa",
          "Africa",
          "Africa",
          "Africa",
          "Africa",
          "Africa",
          "Africa",
          "Africa",
          "Africa",
          "Africa",
          "Africa",
          "Africa",
          "Africa",
          "Africa",
          "Africa",
          "Africa",
          "Africa",
          "Africa",
          "Africa",
          "Africa",
          "Africa",
          "Africa",
          "Africa",
          "Africa",
          "Africa",
          "Africa",
          "Africa",
          "Africa",
          "Africa",
          "Africa",
          "Africa",
          "Africa",
          "Africa",
          "Africa",
          "Africa",
          "Africa",
          "Africa",
          "Africa",
          "Africa",
          "Africa",
          "Africa",
          "Africa",
          "Africa",
          "Africa",
          "Africa",
          "Africa",
          "Africa",
          "Africa",
          "Africa",
          "Africa",
          "Africa",
          "Africa",
          "Africa",
          "Africa",
          "Africa",
          "Africa",
          "Africa",
          "Africa",
          "Africa",
          "Africa",
          "Africa",
          "Africa",
          "Africa",
          "Africa",
          "Africa",
          "Africa",
          "Africa",
          "Africa",
          "Africa",
          "Africa",
          "Africa",
          "Africa",
          "Africa",
          "Africa",
          "Africa",
          "Africa",
          "Africa",
          "Africa",
          "Africa",
          "Africa",
          "Africa",
          "Africa",
          "Africa",
          "Africa",
          "Africa",
          "Africa",
          "Africa",
          "Africa",
          "Africa",
          "Africa",
          "Africa",
          "Africa",
          "Africa",
          "Africa",
          "Africa",
          "Africa",
          "Africa",
          "Africa",
          "Africa",
          "Africa",
          "Africa",
          "Africa",
          "Africa",
          "Africa",
          "Africa",
          "Africa",
          "Africa",
          "Africa",
          "Africa",
          "Africa",
          "Africa",
          "Africa",
          "Africa",
          "Africa",
          "Africa",
          "Africa",
          "Africa",
          "Africa",
          "Africa",
          "Africa",
          "Africa",
          "Africa",
          "Africa",
          "Africa",
          "Africa",
          "Africa",
          "Africa",
          "Africa",
          "Africa",
          "Africa",
          "Africa",
          "Africa",
          "Africa",
          "Africa",
          "Africa",
          "Africa",
          "Africa",
          "Africa",
          "Africa",
          "Africa",
          "Africa",
          "Africa",
          "Africa",
          "Africa",
          "Africa",
          "Africa",
          "Africa",
          "Africa",
          "Africa",
          "Africa",
          "Africa",
          "Africa",
          "Africa",
          "Africa",
          "Africa",
          "Africa",
          "Africa",
          "Africa",
          "Africa",
          "Africa",
          "Africa",
          "Africa",
          "Africa",
          "Africa",
          "Africa",
          "Africa",
          "Africa",
          "Africa",
          "Africa",
          "Africa",
          "Africa",
          "Africa",
          "Africa",
          "Africa",
          "Africa",
          "Africa",
          "Africa",
          "Africa",
          "Africa",
          "Africa",
          "Africa",
          "Africa",
          "Africa",
          "Africa",
          "Africa",
          "Africa",
          "Africa",
          "Africa",
          "Africa",
          "Africa",
          "Africa"
         ],
         "x0": " ",
         "xaxis": "x",
         "y": [
          75.4,
          75.3,
          75.1,
          74.9,
          74.7,
          74.4,
          74.1,
          73.8,
          73.4,
          72.9,
          72.3,
          51.7,
          51.1,
          56,
          51,
          49.6,
          49.1,
          48.7,
          48.2,
          59.7,
          59.5,
          59.3,
          59.1,
          58.7,
          58.4,
          57.6,
          57.1,
          56.8,
          56.5,
          56.1,
          55.8,
          55.6,
          65.1,
          64.2,
          63.4,
          62.2,
          61.1,
          59.2,
          57.5,
          56.9,
          54.8,
          51.7,
          48.1,
          46.4,
          46,
          46.7,
          47.8,
          59.3,
          59,
          58.6,
          58.1,
          57.5,
          56.9,
          56.1,
          55.3,
          54.3,
          59.1,
          58.6,
          58,
          57.4,
          56.8,
          56.2,
          55.3,
          54.8,
          54.1,
          53.4,
          52.6,
          73,
          72.8,
          72.7,
          72.6,
          72.5,
          72.4,
          72.4,
          72.3,
          72.1,
          71.8,
          71.4,
          71.1,
          77,
          56.7,
          56.4,
          55.9,
          55.6,
          55.3,
          54.8,
          54.2,
          53.6,
          53.3,
          52.8,
          58,
          49.9,
          53,
          49.8,
          49.2,
          48.6,
          52.6,
          52.2,
          51.8,
          51.6,
          51.2,
          57,
          49.6,
          63.2,
          62.9,
          62.5,
          62.2,
          61.8,
          61.3,
          61,
          66,
          63,
          60,
          59.8,
          59.6,
          63,
          62.7,
          62.2,
          61.8,
          61.3,
          69,
          62,
          59.8,
          57.9,
          62.9,
          62.1,
          61.4,
          67,
          62,
          59.7,
          59.4,
          59.1,
          58.8,
          58.5,
          64.2,
          63.7,
          63.3,
          62.6,
          61.8,
          68,
          59.8,
          58.5,
          65.5,
          64.6,
          63.5,
          62.8,
          62.3,
          61.7,
          61.6,
          61.6,
          61.4,
          65,
          62.1,
          61.9,
          61.6,
          61.2,
          69,
          66,
          63,
          59.9,
          59.4,
          58.9,
          58.3,
          57.9,
          57.6,
          58.1,
          58.8,
          58.4,
          58.1,
          57.8,
          57.3,
          56.8,
          56.4,
          58.4,
          58.1,
          57.6,
          57.1,
          56.7,
          56.3,
          62.9,
          62.6,
          62.1,
          61.2,
          63,
          59.1,
          57.9,
          56.8,
          55.3,
          54.1,
          53,
          52.4,
          52.1,
          52.1,
          52.1,
          52.2,
          52.3,
          51.1,
          49.4,
          47.8,
          46.2,
          45.3,
          44.5,
          44.8,
          45.5,
          58.1,
          61.1,
          67,
          62,
          59.7,
          59.2,
          58.6,
          65.1,
          64.7,
          64.3,
          63.8,
          63.3,
          62.8,
          62.3,
          61.9,
          61.4,
          69,
          64,
          59.9,
          59.3,
          57.6,
          56.7,
          55.3,
          54.1,
          52.9,
          51.5,
          50,
          48.5,
          47.1,
          46,
          45.1,
          44.6,
          44,
          57.8,
          57.3,
          57.2,
          56.8,
          56.5,
          56,
          55.5,
          55,
          54.3,
          53.6,
          52.8,
          52,
          63,
          62.7,
          62.5,
          62.2,
          62,
          61.7,
          61.4,
          61.2,
          69,
          66,
          74.2,
          74.1,
          73.9,
          73.6,
          73.3,
          72.8,
          72.7,
          72.9,
          71.8,
          72.1,
          71.9,
          71.5,
          71.5,
          71.5,
          71,
          74.1,
          73.9,
          73.6,
          73.3,
          72.8,
          72.3,
          71.8,
          71.4,
          71,
          77,
          72,
          69.9,
          69.5,
          69,
          68.6,
          56.7,
          55.3,
          54.8,
          54.3,
          54,
          53.8,
          53.2,
          52.1,
          51.2,
          58,
          54,
          51,
          49.8,
          49.5,
          65.9,
          66.1,
          65.8,
          64.3,
          63,
          61.4,
          69,
          63,
          59.4,
          58.2,
          57.1,
          53.6,
          53.2,
          52.7,
          52.3,
          52,
          51.6,
          59,
          55,
          49.8,
          49.2,
          65.7,
          65.2,
          64.6,
          63.8,
          62.8,
          61,
          68,
          59.6,
          57.6,
          55.3,
          53.4,
          52,
          57,
          67.3,
          67.1,
          66.9,
          66.6,
          66.2,
          65.8,
          65.4,
          65.1,
          64.7,
          64.3,
          63.8,
          63.4,
          66.4,
          66,
          65.6,
          64.9,
          64.3,
          63.5,
          62.8,
          62.1,
          61.3,
          65,
          59.7,
          73,
          72.9,
          72.7,
          72.6,
          72.4,
          72.3,
          72.2,
          72.2,
          72.2,
          72.2,
          72.1,
          72.1,
          72.1,
          72,
          71.8,
          48.1,
          54,
          49.7,
          48.9,
          48.1,
          47.1,
          46.2,
          45.3,
          62,
          69,
          59.2,
          58.9,
          58,
          56.5,
          55.3,
          54.5,
          54,
          53.8,
          53.7,
          54,
          54.9,
          56,
          57.3,
          58.4,
          57.6,
          56.5,
          55,
          53.6,
          52.6,
          51.4,
          50,
          47.8,
          46,
          45.6,
          45.9,
          46.4,
          47.1,
          48.4,
          59.7,
          59.4,
          58.9,
          58.3,
          57.4,
          56.7,
          56.2,
          75.1,
          74.9,
          74.9,
          74.8,
          74.8,
          74.7,
          74.7,
          74.6,
          74.4,
          74.2,
          74,
          73.7,
          73.5,
          73.2,
          72.9,
          61.5,
          67,
          60,
          59.3,
          58.4,
          57.5,
          56.3,
          55.5,
          54.9,
          53.2,
          51.3,
          51,
          48.8,
          61.1,
          63,
          59.2,
          58.2,
          58,
          57.4,
          55.7,
          52.6,
          58,
          49.3,
          59.2,
          58,
          56.6,
          54.9,
          52.4,
          50,
          48.2,
          46.6,
          45.4,
          44.6,
          44.3,
          44.5,
          44.8,
          45.3,
          46
         ],
         "y0": " ",
         "yaxis": "y"
        },
        {
         "alignmentgroup": "True",
         "box": {
          "visible": true
         },
         "hovertemplate": "Continent=%{x}<br>Life expectancy =%{y}<extra></extra>",
         "legendgroup": "South America",
         "marker": {
          "color": "#ab63fa"
         },
         "name": "South America",
         "offsetgroup": "South America",
         "orientation": "v",
         "scalegroup": "True",
         "showlegend": true,
         "type": "violin",
         "x": [
          "South America",
          "South America",
          "South America",
          "South America",
          "South America",
          "South America",
          "South America",
          "South America",
          "South America",
          "South America",
          "South America",
          "South America",
          "South America",
          "South America",
          "South America",
          "South America",
          "South America",
          "South America",
          "South America",
          "South America",
          "South America",
          "South America",
          "South America",
          "South America",
          "South America",
          "South America",
          "South America",
          "South America",
          "South America",
          "South America",
          "South America",
          "South America",
          "South America",
          "South America",
          "South America",
          "South America",
          "South America",
          "South America",
          "South America",
          "South America",
          "South America",
          "South America",
          "South America",
          "South America",
          "South America",
          "South America",
          "South America",
          "South America",
          "South America",
          "South America",
          "South America",
          "South America",
          "South America",
          "South America",
          "South America",
          "South America",
          "South America",
          "South America",
          "South America",
          "South America",
          "South America",
          "South America",
          "South America",
          "South America",
          "South America",
          "South America",
          "South America",
          "South America",
          "South America",
          "South America",
          "South America",
          "South America",
          "South America",
          "South America",
          "South America",
          "South America",
          "South America",
          "South America",
          "South America",
          "South America",
          "South America",
          "South America",
          "South America",
          "South America",
          "South America",
          "South America",
          "South America",
          "South America",
          "South America",
          "South America",
          "South America",
          "South America",
          "South America",
          "South America",
          "South America",
          "South America",
          "South America",
          "South America",
          "South America",
          "South America",
          "South America",
          "South America",
          "South America",
          "South America",
          "South America",
          "South America",
          "South America",
          "South America",
          "South America",
          "South America",
          "South America",
          "South America",
          "South America",
          "South America",
          "South America",
          "South America",
          "South America",
          "South America",
          "South America",
          "South America",
          "South America",
          "South America",
          "South America",
          "South America",
          "South America",
          "South America",
          "South America",
          "South America",
          "South America",
          "South America"
         ],
         "x0": " ",
         "xaxis": "x",
         "y": [
          76.2,
          76,
          75.9,
          75.7,
          75.5,
          75.6,
          75.4,
          74.8,
          75.2,
          74.9,
          74.7,
          74.1,
          74.1,
          74.8,
          74.7,
          74.5,
          74.1,
          73.8,
          73.6,
          73.4,
          73.3,
          73,
          72.7,
          72,
          71.8,
          71.4,
          71,
          75,
          83,
          81,
          79.9,
          79.8,
          79.1,
          79.3,
          79.6,
          78.9,
          78.9,
          74.6,
          74.4,
          74.3,
          74.2,
          73.6,
          73.6,
          73.5,
          73.5,
          73.1,
          73.1,
          72.8,
          72.4,
          71.8,
          71.5,
          71.4,
          76,
          76,
          75.5,
          75.3,
          75,
          75.1,
          74.6,
          74.7,
          74.4,
          74.2,
          74.4,
          74.4,
          73.6,
          73.4,
          72.8,
          66,
          65.9,
          65.8,
          65.6,
          65.9,
          66.1,
          66.3,
          65.7,
          65.2,
          65,
          65.1,
          65.3,
          65.3,
          65.4,
          73.9,
          73.8,
          73.6,
          73.4,
          73.2,
          73,
          72.7,
          72.5,
          72.3,
          72.1,
          71.9,
          71.7,
          75.3,
          75.3,
          74.9,
          74.5,
          73.7,
          73.8,
          73.9,
          74,
          74.2,
          72.8,
          72.2,
          72.1,
          71.4,
          71.2,
          71.3,
          76,
          73,
          70,
          69.8,
          69.5,
          69.3,
          68.9,
          76.8,
          76.8,
          76.5,
          77,
          76.3,
          76.6,
          76.4,
          75.4,
          76.2,
          75.7,
          75.4,
          75.4,
          75.4,
          75.2,
          75.1
         ],
         "y0": " ",
         "yaxis": "y"
        },
        {
         "alignmentgroup": "True",
         "box": {
          "visible": true
         },
         "hovertemplate": "Continent=%{x}<br>Life expectancy =%{y}<extra></extra>",
         "legendgroup": "Oceania",
         "marker": {
          "color": "#FFA15A"
         },
         "name": "Oceania",
         "offsetgroup": "Oceania",
         "orientation": "v",
         "scalegroup": "True",
         "showlegend": true,
         "type": "violin",
         "x": [
          "Oceania",
          "Oceania",
          "Oceania",
          "Oceania",
          "Oceania",
          "Oceania",
          "Oceania",
          "Oceania",
          "Oceania",
          "Oceania",
          "Oceania",
          "Oceania",
          "Oceania",
          "Oceania",
          "Oceania",
          "Oceania",
          "Oceania",
          "Oceania",
          "Oceania",
          "Oceania",
          "Oceania",
          "Oceania",
          "Oceania",
          "Oceania",
          "Oceania",
          "Oceania",
          "Oceania",
          "Oceania",
          "Oceania",
          "Oceania",
          "Oceania",
          "Oceania",
          "Oceania",
          "Oceania",
          "Oceania",
          "Oceania",
          "Oceania",
          "Oceania",
          "Oceania",
          "Oceania",
          "Oceania",
          "Oceania",
          "Oceania",
          "Oceania",
          "Oceania",
          "Oceania",
          "Oceania",
          "Oceania",
          "Oceania",
          "Oceania",
          "Oceania",
          "Oceania",
          "Oceania",
          "Oceania",
          "Oceania",
          "Oceania",
          "Oceania",
          "Oceania",
          "Oceania",
          "Oceania",
          "Oceania",
          "Oceania",
          "Oceania",
          "Oceania",
          "Oceania",
          "Oceania",
          "Oceania",
          "Oceania",
          "Oceania",
          "Oceania",
          "Oceania",
          "Oceania",
          "Oceania",
          "Oceania",
          "Oceania",
          "Oceania",
          "Oceania",
          "Oceania",
          "Oceania",
          "Oceania",
          "Oceania",
          "Oceania",
          "Oceania",
          "Oceania",
          "Oceania",
          "Oceania",
          "Oceania",
          "Oceania",
          "Oceania",
          "Oceania",
          "Oceania",
          "Oceania",
          "Oceania",
          "Oceania",
          "Oceania",
          "Oceania",
          "Oceania",
          "Oceania",
          "Oceania",
          "Oceania",
          "Oceania",
          "Oceania",
          "Oceania",
          "Oceania",
          "Oceania",
          "Oceania",
          "Oceania",
          "Oceania",
          "Oceania",
          "Oceania",
          "Oceania",
          "Oceania",
          "Oceania",
          "Oceania",
          "Oceania",
          "Oceania",
          "Oceania",
          "Oceania",
          "Oceania"
         ],
         "x0": " ",
         "xaxis": "x",
         "y": [
          82.7,
          82.5,
          82.3,
          82,
          81.9,
          81.7,
          81.3,
          81.3,
          81.2,
          81,
          86,
          83,
          79.9,
          79.9,
          69.7,
          69.6,
          69.4,
          69.2,
          69.1,
          68.9,
          68.7,
          68.6,
          68.5,
          68.3,
          68.1,
          68,
          67.9,
          67.8,
          67.7,
          66.1,
          65.8,
          65.7,
          65.5,
          65.3,
          65.2,
          65.1,
          65,
          65,
          64.9,
          64.8,
          64.7,
          64.6,
          64.3,
          64.1,
          62.7,
          62.4,
          62.2,
          62,
          61.8,
          61.6,
          61.4,
          61.1,
          68,
          64,
          59.9,
          59.6,
          59.3,
          59.1,
          58.9,
          73.8,
          73.6,
          73.2,
          73,
          72.6,
          76,
          72.5,
          72.2,
          72,
          71.6,
          71.4,
          79,
          76,
          75,
          72,
          68.8,
          68.8,
          68.7,
          68.5,
          68.3,
          68.1,
          68,
          67.6,
          67.6,
          67.4,
          67.1,
          66.8,
          66.5,
          66.2,
          65.8,
          73.3,
          73.2,
          73,
          72.9,
          72.8,
          72.5,
          72.6,
          72.5,
          72.4,
          72.3,
          72.2,
          72,
          71.9,
          71.8,
          71.6,
          71.7,
          71.6,
          71.4,
          71.2,
          71,
          78,
          75,
          73,
          71,
          69.9,
          69.6,
          69.4,
          69.3,
          69.1,
          69
         ],
         "y0": " ",
         "yaxis": "y"
        },
        {
         "alignmentgroup": "True",
         "box": {
          "visible": true
         },
         "hovertemplate": "Continent=%{x}<br>Life expectancy =%{y}<extra></extra>",
         "legendgroup": "North America",
         "marker": {
          "color": "#19d3f3"
         },
         "name": "North America",
         "offsetgroup": "North America",
         "orientation": "v",
         "scalegroup": "True",
         "showlegend": true,
         "type": "violin",
         "x": [
          "North America",
          "North America",
          "North America",
          "North America",
          "North America",
          "North America",
          "North America",
          "North America",
          "North America",
          "North America",
          "North America",
          "North America",
          "North America",
          "North America",
          "North America",
          "North America",
          "North America",
          "North America",
          "North America",
          "North America",
          "North America",
          "North America",
          "North America",
          "North America",
          "North America",
          "North America",
          "North America",
          "North America",
          "North America",
          "North America",
          "North America",
          "North America",
          "North America",
          "North America",
          "North America",
          "North America",
          "North America",
          "North America",
          "North America",
          "North America",
          "North America",
          "North America",
          "North America",
          "North America",
          "North America",
          "North America",
          "North America",
          "North America",
          "North America",
          "North America",
          "North America",
          "North America",
          "North America",
          "North America",
          "North America",
          "North America",
          "North America",
          "North America",
          "North America",
          "North America",
          "North America",
          "North America",
          "North America",
          "North America",
          "North America",
          "North America",
          "North America",
          "North America",
          "North America",
          "North America",
          "North America",
          "North America",
          "North America",
          "North America",
          "North America",
          "North America",
          "North America",
          "North America",
          "North America",
          "North America",
          "North America",
          "North America",
          "North America",
          "North America",
          "North America",
          "North America",
          "North America",
          "North America",
          "North America",
          "North America",
          "North America",
          "North America",
          "North America",
          "North America",
          "North America",
          "North America",
          "North America",
          "North America",
          "North America",
          "North America",
          "North America",
          "North America",
          "North America",
          "North America",
          "North America",
          "North America",
          "North America",
          "North America",
          "North America",
          "North America",
          "North America",
          "North America",
          "North America",
          "North America",
          "North America",
          "North America",
          "North America",
          "North America",
          "North America",
          "North America",
          "North America",
          "North America",
          "North America",
          "North America",
          "North America",
          "North America",
          "North America",
          "North America",
          "North America",
          "North America",
          "North America",
          "North America",
          "North America",
          "North America",
          "North America",
          "North America",
          "North America",
          "North America",
          "North America",
          "North America",
          "North America",
          "North America",
          "North America",
          "North America",
          "North America",
          "North America",
          "North America",
          "North America",
          "North America",
          "North America",
          "North America",
          "North America",
          "North America",
          "North America",
          "North America",
          "North America",
          "North America",
          "North America",
          "North America",
          "North America",
          "North America",
          "North America",
          "North America",
          "North America",
          "North America",
          "North America",
          "North America",
          "North America"
         ],
         "x0": " ",
         "xaxis": "x",
         "y": [
          70,
          69.8,
          69.4,
          69.4,
          69.5,
          69.5,
          69.6,
          69.6,
          69.4,
          69,
          68.7,
          68.4,
          68.5,
          68.2,
          68.3,
          82,
          81.8,
          81.6,
          81.5,
          81.2,
          81,
          87,
          85,
          85,
          81,
          80,
          79.7,
          79.5,
          79.4,
          79.2,
          79,
          78.1,
          79.2,
          78.9,
          78.9,
          78,
          78.6,
          77.7,
          78,
          78.3,
          77.5,
          77.6,
          73.6,
          73.4,
          72.1,
          73.1,
          72.7,
          73.6,
          73.3,
          72.9,
          72.3,
          69.7,
          69.3,
          73,
          71.4,
          71.2,
          72,
          73.3,
          73,
          73,
          72,
          72,
          71.4,
          71.7,
          71.2,
          75,
          71,
          70,
          69.9,
          73,
          68.9,
          69,
          71.7,
          71.4,
          71.3,
          71.1,
          77,
          76,
          79,
          75,
          69.7,
          69.2,
          63.1,
          62.7,
          74.5,
          74.3,
          74.1,
          73.9,
          73.6,
          73.4,
          73.2,
          73,
          72.8,
          72.5,
          72.2,
          71.9,
          71.6,
          71.3,
          71,
          75.8,
          75.6,
          75.3,
          75.2,
          75,
          74.7,
          74.5,
          74.2,
          74,
          73.5,
          73.3,
          73.1,
          76.6,
          76.6,
          76.3,
          76.1,
          75.6,
          75.7,
          75.6,
          76,
          75.8,
          75.3,
          75.4,
          75,
          75,
          75,
          74.8,
          74.5,
          73.9,
          73.9,
          74.5,
          73.2,
          73.2,
          72.5,
          72.5,
          73,
          71.2,
          71,
          76,
          75,
          73,
          73,
          77.6,
          77.5,
          77.2,
          77.3,
          76.5,
          76.8,
          76.5,
          76.4,
          76.2,
          75.8,
          75.8,
          75.5,
          75.7,
          75.5,
          71.1,
          71,
          78,
          76,
          74,
          71,
          69.9,
          69.7,
          69.6,
          69.5,
          69.4,
          69.3,
          69.2
         ],
         "y0": " ",
         "yaxis": "y"
        }
       ],
       "layout": {
        "font": {
         "size": 12
        },
        "height": 800,
        "legend": {
         "title": {
          "text": "Continent"
         },
         "tracegroupgap": 0
        },
        "margin": {
         "b": 20,
         "l": 20,
         "r": 20,
         "t": 60
        },
        "template": {
         "data": {
          "bar": [
           {
            "error_x": {
             "color": "#2a3f5f"
            },
            "error_y": {
             "color": "#2a3f5f"
            },
            "marker": {
             "line": {
              "color": "#E5ECF6",
              "width": 0.5
             },
             "pattern": {
              "fillmode": "overlay",
              "size": 10,
              "solidity": 0.2
             }
            },
            "type": "bar"
           }
          ],
          "barpolar": [
           {
            "marker": {
             "line": {
              "color": "#E5ECF6",
              "width": 0.5
             },
             "pattern": {
              "fillmode": "overlay",
              "size": 10,
              "solidity": 0.2
             }
            },
            "type": "barpolar"
           }
          ],
          "carpet": [
           {
            "aaxis": {
             "endlinecolor": "#2a3f5f",
             "gridcolor": "white",
             "linecolor": "white",
             "minorgridcolor": "white",
             "startlinecolor": "#2a3f5f"
            },
            "baxis": {
             "endlinecolor": "#2a3f5f",
             "gridcolor": "white",
             "linecolor": "white",
             "minorgridcolor": "white",
             "startlinecolor": "#2a3f5f"
            },
            "type": "carpet"
           }
          ],
          "choropleth": [
           {
            "colorbar": {
             "outlinewidth": 0,
             "ticks": ""
            },
            "type": "choropleth"
           }
          ],
          "contour": [
           {
            "colorbar": {
             "outlinewidth": 0,
             "ticks": ""
            },
            "colorscale": [
             [
              0,
              "#0d0887"
             ],
             [
              0.1111111111111111,
              "#46039f"
             ],
             [
              0.2222222222222222,
              "#7201a8"
             ],
             [
              0.3333333333333333,
              "#9c179e"
             ],
             [
              0.4444444444444444,
              "#bd3786"
             ],
             [
              0.5555555555555556,
              "#d8576b"
             ],
             [
              0.6666666666666666,
              "#ed7953"
             ],
             [
              0.7777777777777778,
              "#fb9f3a"
             ],
             [
              0.8888888888888888,
              "#fdca26"
             ],
             [
              1,
              "#f0f921"
             ]
            ],
            "type": "contour"
           }
          ],
          "contourcarpet": [
           {
            "colorbar": {
             "outlinewidth": 0,
             "ticks": ""
            },
            "type": "contourcarpet"
           }
          ],
          "heatmap": [
           {
            "colorbar": {
             "outlinewidth": 0,
             "ticks": ""
            },
            "colorscale": [
             [
              0,
              "#0d0887"
             ],
             [
              0.1111111111111111,
              "#46039f"
             ],
             [
              0.2222222222222222,
              "#7201a8"
             ],
             [
              0.3333333333333333,
              "#9c179e"
             ],
             [
              0.4444444444444444,
              "#bd3786"
             ],
             [
              0.5555555555555556,
              "#d8576b"
             ],
             [
              0.6666666666666666,
              "#ed7953"
             ],
             [
              0.7777777777777778,
              "#fb9f3a"
             ],
             [
              0.8888888888888888,
              "#fdca26"
             ],
             [
              1,
              "#f0f921"
             ]
            ],
            "type": "heatmap"
           }
          ],
          "heatmapgl": [
           {
            "colorbar": {
             "outlinewidth": 0,
             "ticks": ""
            },
            "colorscale": [
             [
              0,
              "#0d0887"
             ],
             [
              0.1111111111111111,
              "#46039f"
             ],
             [
              0.2222222222222222,
              "#7201a8"
             ],
             [
              0.3333333333333333,
              "#9c179e"
             ],
             [
              0.4444444444444444,
              "#bd3786"
             ],
             [
              0.5555555555555556,
              "#d8576b"
             ],
             [
              0.6666666666666666,
              "#ed7953"
             ],
             [
              0.7777777777777778,
              "#fb9f3a"
             ],
             [
              0.8888888888888888,
              "#fdca26"
             ],
             [
              1,
              "#f0f921"
             ]
            ],
            "type": "heatmapgl"
           }
          ],
          "histogram": [
           {
            "marker": {
             "pattern": {
              "fillmode": "overlay",
              "size": 10,
              "solidity": 0.2
             }
            },
            "type": "histogram"
           }
          ],
          "histogram2d": [
           {
            "colorbar": {
             "outlinewidth": 0,
             "ticks": ""
            },
            "colorscale": [
             [
              0,
              "#0d0887"
             ],
             [
              0.1111111111111111,
              "#46039f"
             ],
             [
              0.2222222222222222,
              "#7201a8"
             ],
             [
              0.3333333333333333,
              "#9c179e"
             ],
             [
              0.4444444444444444,
              "#bd3786"
             ],
             [
              0.5555555555555556,
              "#d8576b"
             ],
             [
              0.6666666666666666,
              "#ed7953"
             ],
             [
              0.7777777777777778,
              "#fb9f3a"
             ],
             [
              0.8888888888888888,
              "#fdca26"
             ],
             [
              1,
              "#f0f921"
             ]
            ],
            "type": "histogram2d"
           }
          ],
          "histogram2dcontour": [
           {
            "colorbar": {
             "outlinewidth": 0,
             "ticks": ""
            },
            "colorscale": [
             [
              0,
              "#0d0887"
             ],
             [
              0.1111111111111111,
              "#46039f"
             ],
             [
              0.2222222222222222,
              "#7201a8"
             ],
             [
              0.3333333333333333,
              "#9c179e"
             ],
             [
              0.4444444444444444,
              "#bd3786"
             ],
             [
              0.5555555555555556,
              "#d8576b"
             ],
             [
              0.6666666666666666,
              "#ed7953"
             ],
             [
              0.7777777777777778,
              "#fb9f3a"
             ],
             [
              0.8888888888888888,
              "#fdca26"
             ],
             [
              1,
              "#f0f921"
             ]
            ],
            "type": "histogram2dcontour"
           }
          ],
          "mesh3d": [
           {
            "colorbar": {
             "outlinewidth": 0,
             "ticks": ""
            },
            "type": "mesh3d"
           }
          ],
          "parcoords": [
           {
            "line": {
             "colorbar": {
              "outlinewidth": 0,
              "ticks": ""
             }
            },
            "type": "parcoords"
           }
          ],
          "pie": [
           {
            "automargin": true,
            "type": "pie"
           }
          ],
          "scatter": [
           {
            "fillpattern": {
             "fillmode": "overlay",
             "size": 10,
             "solidity": 0.2
            },
            "type": "scatter"
           }
          ],
          "scatter3d": [
           {
            "line": {
             "colorbar": {
              "outlinewidth": 0,
              "ticks": ""
             }
            },
            "marker": {
             "colorbar": {
              "outlinewidth": 0,
              "ticks": ""
             }
            },
            "type": "scatter3d"
           }
          ],
          "scattercarpet": [
           {
            "marker": {
             "colorbar": {
              "outlinewidth": 0,
              "ticks": ""
             }
            },
            "type": "scattercarpet"
           }
          ],
          "scattergeo": [
           {
            "marker": {
             "colorbar": {
              "outlinewidth": 0,
              "ticks": ""
             }
            },
            "type": "scattergeo"
           }
          ],
          "scattergl": [
           {
            "marker": {
             "colorbar": {
              "outlinewidth": 0,
              "ticks": ""
             }
            },
            "type": "scattergl"
           }
          ],
          "scattermapbox": [
           {
            "marker": {
             "colorbar": {
              "outlinewidth": 0,
              "ticks": ""
             }
            },
            "type": "scattermapbox"
           }
          ],
          "scatterpolar": [
           {
            "marker": {
             "colorbar": {
              "outlinewidth": 0,
              "ticks": ""
             }
            },
            "type": "scatterpolar"
           }
          ],
          "scatterpolargl": [
           {
            "marker": {
             "colorbar": {
              "outlinewidth": 0,
              "ticks": ""
             }
            },
            "type": "scatterpolargl"
           }
          ],
          "scatterternary": [
           {
            "marker": {
             "colorbar": {
              "outlinewidth": 0,
              "ticks": ""
             }
            },
            "type": "scatterternary"
           }
          ],
          "surface": [
           {
            "colorbar": {
             "outlinewidth": 0,
             "ticks": ""
            },
            "colorscale": [
             [
              0,
              "#0d0887"
             ],
             [
              0.1111111111111111,
              "#46039f"
             ],
             [
              0.2222222222222222,
              "#7201a8"
             ],
             [
              0.3333333333333333,
              "#9c179e"
             ],
             [
              0.4444444444444444,
              "#bd3786"
             ],
             [
              0.5555555555555556,
              "#d8576b"
             ],
             [
              0.6666666666666666,
              "#ed7953"
             ],
             [
              0.7777777777777778,
              "#fb9f3a"
             ],
             [
              0.8888888888888888,
              "#fdca26"
             ],
             [
              1,
              "#f0f921"
             ]
            ],
            "type": "surface"
           }
          ],
          "table": [
           {
            "cells": {
             "fill": {
              "color": "#EBF0F8"
             },
             "line": {
              "color": "white"
             }
            },
            "header": {
             "fill": {
              "color": "#C8D4E3"
             },
             "line": {
              "color": "white"
             }
            },
            "type": "table"
           }
          ]
         },
         "layout": {
          "annotationdefaults": {
           "arrowcolor": "#2a3f5f",
           "arrowhead": 0,
           "arrowwidth": 1
          },
          "autotypenumbers": "strict",
          "coloraxis": {
           "colorbar": {
            "outlinewidth": 0,
            "ticks": ""
           }
          },
          "colorscale": {
           "diverging": [
            [
             0,
             "#8e0152"
            ],
            [
             0.1,
             "#c51b7d"
            ],
            [
             0.2,
             "#de77ae"
            ],
            [
             0.3,
             "#f1b6da"
            ],
            [
             0.4,
             "#fde0ef"
            ],
            [
             0.5,
             "#f7f7f7"
            ],
            [
             0.6,
             "#e6f5d0"
            ],
            [
             0.7,
             "#b8e186"
            ],
            [
             0.8,
             "#7fbc41"
            ],
            [
             0.9,
             "#4d9221"
            ],
            [
             1,
             "#276419"
            ]
           ],
           "sequential": [
            [
             0,
             "#0d0887"
            ],
            [
             0.1111111111111111,
             "#46039f"
            ],
            [
             0.2222222222222222,
             "#7201a8"
            ],
            [
             0.3333333333333333,
             "#9c179e"
            ],
            [
             0.4444444444444444,
             "#bd3786"
            ],
            [
             0.5555555555555556,
             "#d8576b"
            ],
            [
             0.6666666666666666,
             "#ed7953"
            ],
            [
             0.7777777777777778,
             "#fb9f3a"
            ],
            [
             0.8888888888888888,
             "#fdca26"
            ],
            [
             1,
             "#f0f921"
            ]
           ],
           "sequentialminus": [
            [
             0,
             "#0d0887"
            ],
            [
             0.1111111111111111,
             "#46039f"
            ],
            [
             0.2222222222222222,
             "#7201a8"
            ],
            [
             0.3333333333333333,
             "#9c179e"
            ],
            [
             0.4444444444444444,
             "#bd3786"
            ],
            [
             0.5555555555555556,
             "#d8576b"
            ],
            [
             0.6666666666666666,
             "#ed7953"
            ],
            [
             0.7777777777777778,
             "#fb9f3a"
            ],
            [
             0.8888888888888888,
             "#fdca26"
            ],
            [
             1,
             "#f0f921"
            ]
           ]
          },
          "colorway": [
           "#636efa",
           "#EF553B",
           "#00cc96",
           "#ab63fa",
           "#FFA15A",
           "#19d3f3",
           "#FF6692",
           "#B6E880",
           "#FF97FF",
           "#FECB52"
          ],
          "font": {
           "color": "#2a3f5f"
          },
          "geo": {
           "bgcolor": "white",
           "lakecolor": "white",
           "landcolor": "#E5ECF6",
           "showlakes": true,
           "showland": true,
           "subunitcolor": "white"
          },
          "hoverlabel": {
           "align": "left"
          },
          "hovermode": "closest",
          "mapbox": {
           "style": "light"
          },
          "paper_bgcolor": "white",
          "plot_bgcolor": "#E5ECF6",
          "polar": {
           "angularaxis": {
            "gridcolor": "white",
            "linecolor": "white",
            "ticks": ""
           },
           "bgcolor": "#E5ECF6",
           "radialaxis": {
            "gridcolor": "white",
            "linecolor": "white",
            "ticks": ""
           }
          },
          "scene": {
           "xaxis": {
            "backgroundcolor": "#E5ECF6",
            "gridcolor": "white",
            "gridwidth": 2,
            "linecolor": "white",
            "showbackground": true,
            "ticks": "",
            "zerolinecolor": "white"
           },
           "yaxis": {
            "backgroundcolor": "#E5ECF6",
            "gridcolor": "white",
            "gridwidth": 2,
            "linecolor": "white",
            "showbackground": true,
            "ticks": "",
            "zerolinecolor": "white"
           },
           "zaxis": {
            "backgroundcolor": "#E5ECF6",
            "gridcolor": "white",
            "gridwidth": 2,
            "linecolor": "white",
            "showbackground": true,
            "ticks": "",
            "zerolinecolor": "white"
           }
          },
          "shapedefaults": {
           "line": {
            "color": "#2a3f5f"
           }
          },
          "ternary": {
           "aaxis": {
            "gridcolor": "white",
            "linecolor": "white",
            "ticks": ""
           },
           "baxis": {
            "gridcolor": "white",
            "linecolor": "white",
            "ticks": ""
           },
           "bgcolor": "#E5ECF6",
           "caxis": {
            "gridcolor": "white",
            "linecolor": "white",
            "ticks": ""
           }
          },
          "title": {
           "x": 0.05
          },
          "xaxis": {
           "automargin": true,
           "gridcolor": "white",
           "linecolor": "white",
           "ticks": "",
           "title": {
            "standoff": 15
           },
           "zerolinecolor": "white",
           "zerolinewidth": 2
          },
          "yaxis": {
           "automargin": true,
           "gridcolor": "white",
           "linecolor": "white",
           "ticks": "",
           "title": {
            "standoff": 15
           },
           "zerolinecolor": "white",
           "zerolinewidth": 2
          }
         }
        },
        "title": {
         "text": "Violin Plot for Life Expectancy and Population by Continent"
        },
        "violinmode": "overlay",
        "width": 1200,
        "xaxis": {
         "anchor": "y",
         "categoryarray": [
          "Asia",
          "Europe",
          "Africa",
          "South America",
          "Oceania",
          "North America",
          null
         ],
         "categoryorder": "array",
         "domain": [
          0,
          1
         ],
         "title": {
          "text": "Continent"
         }
        },
        "yaxis": {
         "anchor": "x",
         "domain": [
          0,
          1
         ],
         "title": {
          "text": "Life Expectancy"
         }
        }
       }
      }
     },
     "metadata": {},
     "output_type": "display_data"
    }
   ],
   "source": [
    "fig = px.violin(df, x='Continent', y='Life expectancy ', color='Continent',box=True,title='Violin Plot for Life Expectancy and Population by Continent')\n",
    " \n",
    "fig.update_layout(\n",
    "    xaxis_title='Continent',\n",
    "    yaxis_title='Life Expectancy',\n",
    "    legend_title='Continent',\n",
    "    font=dict(size=12),\n",
    "    width=1200,\n",
    "    height=800,\n",
    "    margin=dict(l=20, r=20, t=60, b=20),\n",
    ")\n",
    "\n",
    "fig.show()"
   ]
  },
  {
   "cell_type": "markdown",
   "metadata": {},
   "source": []
  },
  {
   "cell_type": "markdown",
   "metadata": {},
   "source": [
    "#### Correlation map in order to study the columns that are influencing the life expectancy"
   ]
  },
  {
   "cell_type": "code",
   "execution_count": 55,
   "metadata": {},
   "outputs": [],
   "source": [
    "numeric_columns = df.select_dtypes(include=['float64']).columns # Filtering the non-numeric columns in order to do a correlation\n",
    "correlation_matrix = df[numeric_columns].corr()"
   ]
  },
  {
   "cell_type": "code",
   "execution_count": 64,
   "metadata": {},
   "outputs": [
    {
     "data": {
      "application/vnd.plotly.v1+json": {
       "config": {
        "plotlyServerURL": "https://plot.ly"
       },
       "data": [
        {
         "coloraxis": "coloraxis",
         "hovertemplate": "Features: %{x}<br>Features: %{y}<br>Correlation: %{z}<extra></extra>",
         "name": "0",
         "type": "heatmap",
         "x": [
          "Life expectancy ",
          "Adult Mortality",
          "Alcohol",
          "percentage expenditure",
          "Hepatitis B",
          " BMI ",
          "Polio",
          "Total expenditure",
          "Diphtheria ",
          " HIV/AIDS",
          "GDP",
          "Population",
          " thinness  1-19 years",
          " thinness 5-9 years",
          "Income composition of resources",
          "Schooling"
         ],
         "xaxis": "x",
         "y": [
          "Life expectancy ",
          "Adult Mortality",
          "Alcohol",
          "percentage expenditure",
          "Hepatitis B",
          " BMI ",
          "Polio",
          "Total expenditure",
          "Diphtheria ",
          " HIV/AIDS",
          "GDP",
          "Population",
          " thinness  1-19 years",
          " thinness 5-9 years",
          "Income composition of resources",
          "Schooling"
         ],
         "yaxis": "y",
         "z": [
          [
           1,
           -0.7025230623069735,
           0.402718321727354,
           0.40963082412504687,
           0.1999352763975776,
           0.5420415876915772,
           0.3272944031049289,
           0.17471764064230505,
           0.3413312342606403,
           -0.5922362925926357,
           0.44132180991356496,
           -0.022304977802841897,
           -0.45783819334984416,
           -0.45750828676580096,
           0.7210825929172864,
           0.7276300323211043
          ],
          [
           -0.7025230623069735,
           1,
           -0.17553508575848245,
           -0.23760989013786574,
           -0.10522544258930572,
           -0.35154247827451096,
           -0.1998530004059598,
           -0.08522653475086901,
           -0.19142875921157268,
           0.5506907453932752,
           -0.2550347325077516,
           -0.015011838123604479,
           0.27223004418323704,
           0.28672288217555714,
           -0.44220328763116346,
           -0.4211705232348179
          ],
          [
           0.402718321727354,
           -0.17553508575848245,
           1,
           0.41704735846341157,
           0.10988939237514632,
           0.35339620539045263,
           0.24031453311147946,
           0.21488509406015904,
           0.242951426833254,
           -0.027112636037520683,
           0.4434327894751658,
           -0.02888023244930858,
           -0.4037549896475883,
           -0.3862081893744056,
           0.561074332137327,
           0.6169748090003161
          ],
          [
           0.40963082412504687,
           -0.23760989013786574,
           0.41704735846341157,
           1,
           0.0167601726008279,
           0.24273824334180236,
           0.12862605133569857,
           0.18387236479076008,
           0.13481324186082008,
           -0.09508499088595439,
           0.9592988569672184,
           -0.016792141321812965,
           -0.2550346029509551,
           -0.25563544240004926,
           0.40216973584811605,
           0.422088454191989
          ],
          [
           0.1999352763975776,
           -0.10522544258930572,
           0.10988939237514632,
           0.0167601726008279,
           1,
           0.1433017864392848,
           0.4633307991718396,
           0.11332668265769096,
           0.5889899269525826,
           -0.09480197056648793,
           0.04184950025350453,
           -0.1297226546503967,
           -0.1294059539799348,
           -0.13325098509557512,
           0.18492097001836738,
           0.21518159338370538
          ],
          [
           0.5420415876915772,
           -0.35154247827451096,
           0.35339620539045263,
           0.24273824334180236,
           0.1433017864392848,
           1,
           0.1862679651210562,
           0.18946896373710756,
           0.17629450269591418,
           -0.21089674627313934,
           0.2661139730639117,
           -0.08141598206828445,
           -0.5470175139952642,
           -0.5540939811178432,
           0.51050483068018,
           0.5548439025517072
          ],
          [
           0.3272944031049289,
           -0.1998530004059598,
           0.24031453311147946,
           0.12862605133569857,
           0.4633307991718396,
           0.1862679651210562,
           1,
           0.11976798351450432,
           0.6092454669558363,
           -0.10788546790410074,
           0.1568086898165069,
           -0.04538657158389491,
           -0.16406959345408154,
           -0.17448925069180868,
           0.3146815941255956,
           0.3501466010592101
          ],
          [
           0.17471764064230505,
           -0.08522653475086901,
           0.21488509406015904,
           0.18387236479076008,
           0.11332668265769096,
           0.18946896373710756,
           0.11976798351450432,
           1,
           0.12991481304061506,
           0.04310065658602942,
           0.18037347007785745,
           -0.07996223681885921,
           -0.2098723196428522,
           -0.21786479439827353,
           0.1836531899297193,
           0.2437834454923263
          ],
          [
           0.3413312342606403,
           -0.19142875921157268,
           0.242951426833254,
           0.13481324186082008,
           0.5889899269525826,
           0.17629450269591418,
           0.6092454669558363,
           0.12991481304061506,
           1,
           -0.11760107416414974,
           0.15843774489541004,
           -0.03989753651945028,
           -0.1872416454797586,
           -0.18095238221833498,
           0.3432617722501239,
           0.35039793460461593
          ],
          [
           -0.5922362925926357,
           0.5506907453932752,
           -0.027112636037520683,
           -0.09508499088595439,
           -0.09480197056648793,
           -0.21089674627313934,
           -0.10788546790410074,
           0.04310065658602942,
           -0.11760107416414974,
           1,
           -0.10808059984822807,
           -0.027800561586620996,
           0.1725917670389402,
           0.183146726954806,
           -0.2485898549046261,
           -0.21184020050163221
          ],
          [
           0.44132180991356496,
           -0.2550347325077516,
           0.4434327894751658,
           0.9592988569672184,
           0.04184950025350453,
           0.2661139730639117,
           0.1568086898165069,
           0.18037347007785745,
           0.15843774489541004,
           -0.10808059984822807,
           1,
           -0.020368964304488483,
           -0.27749834542066154,
           -0.2779585540787128,
           0.44685551061622986,
           0.4679469733645062
          ],
          [
           -0.022304977802841897,
           -0.015011838123604479,
           -0.02888023244930858,
           -0.016792141321812965,
           -0.1297226546503967,
           -0.08141598206828445,
           -0.04538657158389491,
           -0.07996223681885921,
           -0.03989753651945028,
           -0.027800561586620996,
           -0.020368964304488483,
           1,
           0.28252928034622227,
           0.27791337374069813,
           -0.00813246552354176,
           -0.040312419026834516
          ],
          [
           -0.45783819334984416,
           0.27223004418323704,
           -0.4037549896475883,
           -0.2550346029509551,
           -0.1294059539799348,
           -0.5470175139952642,
           -0.16406959345408154,
           -0.2098723196428522,
           -0.1872416454797586,
           0.1725917670389402,
           -0.27749834542066154,
           0.28252928034622227,
           1,
           0.9279134442386393,
           -0.4536788538689407,
           -0.4911992098537933
          ],
          [
           -0.45750828676580096,
           0.28672288217555714,
           -0.3862081893744056,
           -0.25563544240004926,
           -0.13325098509557512,
           -0.5540939811178432,
           -0.17448925069180868,
           -0.21786479439827353,
           -0.18095238221833498,
           0.183146726954806,
           -0.2779585540787128,
           0.27791337374069813,
           0.9279134442386393,
           1,
           -0.43848372115044115,
           -0.4724820295664819
          ],
          [
           0.7210825929172864,
           -0.44220328763116346,
           0.561074332137327,
           0.40216973584811605,
           0.18492097001836738,
           0.51050483068018,
           0.3146815941255956,
           0.1836531899297193,
           0.3432617722501239,
           -0.2485898549046261,
           0.44685551061622986,
           -0.00813246552354176,
           -0.4536788538689407,
           -0.43848372115044115,
           1,
           0.7847405811682984
          ],
          [
           0.7276300323211043,
           -0.4211705232348179,
           0.6169748090003161,
           0.422088454191989,
           0.21518159338370538,
           0.5548439025517072,
           0.3501466010592101,
           0.2437834454923263,
           0.35039793460461593,
           -0.21184020050163221,
           0.4679469733645062,
           -0.040312419026834516,
           -0.4911992098537933,
           -0.4724820295664819,
           0.7847405811682984,
           1
          ]
         ]
        }
       ],
       "layout": {
        "coloraxis": {
         "colorbar": {
          "title": {
           "text": "Correlation"
          }
         },
         "colorscale": [
          [
           0,
           "#000004"
          ],
          [
           0.1111111111111111,
           "#1b0c41"
          ],
          [
           0.2222222222222222,
           "#4a0c6b"
          ],
          [
           0.3333333333333333,
           "#781c6d"
          ],
          [
           0.4444444444444444,
           "#a52c60"
          ],
          [
           0.5555555555555556,
           "#cf4446"
          ],
          [
           0.6666666666666666,
           "#ed6925"
          ],
          [
           0.7777777777777778,
           "#fb9b06"
          ],
          [
           0.8888888888888888,
           "#f7d13d"
          ],
          [
           1,
           "#fcffa4"
          ]
         ]
        },
        "height": 800,
        "template": {
         "data": {
          "bar": [
           {
            "error_x": {
             "color": "#2a3f5f"
            },
            "error_y": {
             "color": "#2a3f5f"
            },
            "marker": {
             "line": {
              "color": "#E5ECF6",
              "width": 0.5
             },
             "pattern": {
              "fillmode": "overlay",
              "size": 10,
              "solidity": 0.2
             }
            },
            "type": "bar"
           }
          ],
          "barpolar": [
           {
            "marker": {
             "line": {
              "color": "#E5ECF6",
              "width": 0.5
             },
             "pattern": {
              "fillmode": "overlay",
              "size": 10,
              "solidity": 0.2
             }
            },
            "type": "barpolar"
           }
          ],
          "carpet": [
           {
            "aaxis": {
             "endlinecolor": "#2a3f5f",
             "gridcolor": "white",
             "linecolor": "white",
             "minorgridcolor": "white",
             "startlinecolor": "#2a3f5f"
            },
            "baxis": {
             "endlinecolor": "#2a3f5f",
             "gridcolor": "white",
             "linecolor": "white",
             "minorgridcolor": "white",
             "startlinecolor": "#2a3f5f"
            },
            "type": "carpet"
           }
          ],
          "choropleth": [
           {
            "colorbar": {
             "outlinewidth": 0,
             "ticks": ""
            },
            "type": "choropleth"
           }
          ],
          "contour": [
           {
            "colorbar": {
             "outlinewidth": 0,
             "ticks": ""
            },
            "colorscale": [
             [
              0,
              "#0d0887"
             ],
             [
              0.1111111111111111,
              "#46039f"
             ],
             [
              0.2222222222222222,
              "#7201a8"
             ],
             [
              0.3333333333333333,
              "#9c179e"
             ],
             [
              0.4444444444444444,
              "#bd3786"
             ],
             [
              0.5555555555555556,
              "#d8576b"
             ],
             [
              0.6666666666666666,
              "#ed7953"
             ],
             [
              0.7777777777777778,
              "#fb9f3a"
             ],
             [
              0.8888888888888888,
              "#fdca26"
             ],
             [
              1,
              "#f0f921"
             ]
            ],
            "type": "contour"
           }
          ],
          "contourcarpet": [
           {
            "colorbar": {
             "outlinewidth": 0,
             "ticks": ""
            },
            "type": "contourcarpet"
           }
          ],
          "heatmap": [
           {
            "colorbar": {
             "outlinewidth": 0,
             "ticks": ""
            },
            "colorscale": [
             [
              0,
              "#0d0887"
             ],
             [
              0.1111111111111111,
              "#46039f"
             ],
             [
              0.2222222222222222,
              "#7201a8"
             ],
             [
              0.3333333333333333,
              "#9c179e"
             ],
             [
              0.4444444444444444,
              "#bd3786"
             ],
             [
              0.5555555555555556,
              "#d8576b"
             ],
             [
              0.6666666666666666,
              "#ed7953"
             ],
             [
              0.7777777777777778,
              "#fb9f3a"
             ],
             [
              0.8888888888888888,
              "#fdca26"
             ],
             [
              1,
              "#f0f921"
             ]
            ],
            "type": "heatmap"
           }
          ],
          "heatmapgl": [
           {
            "colorbar": {
             "outlinewidth": 0,
             "ticks": ""
            },
            "colorscale": [
             [
              0,
              "#0d0887"
             ],
             [
              0.1111111111111111,
              "#46039f"
             ],
             [
              0.2222222222222222,
              "#7201a8"
             ],
             [
              0.3333333333333333,
              "#9c179e"
             ],
             [
              0.4444444444444444,
              "#bd3786"
             ],
             [
              0.5555555555555556,
              "#d8576b"
             ],
             [
              0.6666666666666666,
              "#ed7953"
             ],
             [
              0.7777777777777778,
              "#fb9f3a"
             ],
             [
              0.8888888888888888,
              "#fdca26"
             ],
             [
              1,
              "#f0f921"
             ]
            ],
            "type": "heatmapgl"
           }
          ],
          "histogram": [
           {
            "marker": {
             "pattern": {
              "fillmode": "overlay",
              "size": 10,
              "solidity": 0.2
             }
            },
            "type": "histogram"
           }
          ],
          "histogram2d": [
           {
            "colorbar": {
             "outlinewidth": 0,
             "ticks": ""
            },
            "colorscale": [
             [
              0,
              "#0d0887"
             ],
             [
              0.1111111111111111,
              "#46039f"
             ],
             [
              0.2222222222222222,
              "#7201a8"
             ],
             [
              0.3333333333333333,
              "#9c179e"
             ],
             [
              0.4444444444444444,
              "#bd3786"
             ],
             [
              0.5555555555555556,
              "#d8576b"
             ],
             [
              0.6666666666666666,
              "#ed7953"
             ],
             [
              0.7777777777777778,
              "#fb9f3a"
             ],
             [
              0.8888888888888888,
              "#fdca26"
             ],
             [
              1,
              "#f0f921"
             ]
            ],
            "type": "histogram2d"
           }
          ],
          "histogram2dcontour": [
           {
            "colorbar": {
             "outlinewidth": 0,
             "ticks": ""
            },
            "colorscale": [
             [
              0,
              "#0d0887"
             ],
             [
              0.1111111111111111,
              "#46039f"
             ],
             [
              0.2222222222222222,
              "#7201a8"
             ],
             [
              0.3333333333333333,
              "#9c179e"
             ],
             [
              0.4444444444444444,
              "#bd3786"
             ],
             [
              0.5555555555555556,
              "#d8576b"
             ],
             [
              0.6666666666666666,
              "#ed7953"
             ],
             [
              0.7777777777777778,
              "#fb9f3a"
             ],
             [
              0.8888888888888888,
              "#fdca26"
             ],
             [
              1,
              "#f0f921"
             ]
            ],
            "type": "histogram2dcontour"
           }
          ],
          "mesh3d": [
           {
            "colorbar": {
             "outlinewidth": 0,
             "ticks": ""
            },
            "type": "mesh3d"
           }
          ],
          "parcoords": [
           {
            "line": {
             "colorbar": {
              "outlinewidth": 0,
              "ticks": ""
             }
            },
            "type": "parcoords"
           }
          ],
          "pie": [
           {
            "automargin": true,
            "type": "pie"
           }
          ],
          "scatter": [
           {
            "fillpattern": {
             "fillmode": "overlay",
             "size": 10,
             "solidity": 0.2
            },
            "type": "scatter"
           }
          ],
          "scatter3d": [
           {
            "line": {
             "colorbar": {
              "outlinewidth": 0,
              "ticks": ""
             }
            },
            "marker": {
             "colorbar": {
              "outlinewidth": 0,
              "ticks": ""
             }
            },
            "type": "scatter3d"
           }
          ],
          "scattercarpet": [
           {
            "marker": {
             "colorbar": {
              "outlinewidth": 0,
              "ticks": ""
             }
            },
            "type": "scattercarpet"
           }
          ],
          "scattergeo": [
           {
            "marker": {
             "colorbar": {
              "outlinewidth": 0,
              "ticks": ""
             }
            },
            "type": "scattergeo"
           }
          ],
          "scattergl": [
           {
            "marker": {
             "colorbar": {
              "outlinewidth": 0,
              "ticks": ""
             }
            },
            "type": "scattergl"
           }
          ],
          "scattermapbox": [
           {
            "marker": {
             "colorbar": {
              "outlinewidth": 0,
              "ticks": ""
             }
            },
            "type": "scattermapbox"
           }
          ],
          "scatterpolar": [
           {
            "marker": {
             "colorbar": {
              "outlinewidth": 0,
              "ticks": ""
             }
            },
            "type": "scatterpolar"
           }
          ],
          "scatterpolargl": [
           {
            "marker": {
             "colorbar": {
              "outlinewidth": 0,
              "ticks": ""
             }
            },
            "type": "scatterpolargl"
           }
          ],
          "scatterternary": [
           {
            "marker": {
             "colorbar": {
              "outlinewidth": 0,
              "ticks": ""
             }
            },
            "type": "scatterternary"
           }
          ],
          "surface": [
           {
            "colorbar": {
             "outlinewidth": 0,
             "ticks": ""
            },
            "colorscale": [
             [
              0,
              "#0d0887"
             ],
             [
              0.1111111111111111,
              "#46039f"
             ],
             [
              0.2222222222222222,
              "#7201a8"
             ],
             [
              0.3333333333333333,
              "#9c179e"
             ],
             [
              0.4444444444444444,
              "#bd3786"
             ],
             [
              0.5555555555555556,
              "#d8576b"
             ],
             [
              0.6666666666666666,
              "#ed7953"
             ],
             [
              0.7777777777777778,
              "#fb9f3a"
             ],
             [
              0.8888888888888888,
              "#fdca26"
             ],
             [
              1,
              "#f0f921"
             ]
            ],
            "type": "surface"
           }
          ],
          "table": [
           {
            "cells": {
             "fill": {
              "color": "#EBF0F8"
             },
             "line": {
              "color": "white"
             }
            },
            "header": {
             "fill": {
              "color": "#C8D4E3"
             },
             "line": {
              "color": "white"
             }
            },
            "type": "table"
           }
          ]
         },
         "layout": {
          "annotationdefaults": {
           "arrowcolor": "#2a3f5f",
           "arrowhead": 0,
           "arrowwidth": 1
          },
          "autotypenumbers": "strict",
          "coloraxis": {
           "colorbar": {
            "outlinewidth": 0,
            "ticks": ""
           }
          },
          "colorscale": {
           "diverging": [
            [
             0,
             "#8e0152"
            ],
            [
             0.1,
             "#c51b7d"
            ],
            [
             0.2,
             "#de77ae"
            ],
            [
             0.3,
             "#f1b6da"
            ],
            [
             0.4,
             "#fde0ef"
            ],
            [
             0.5,
             "#f7f7f7"
            ],
            [
             0.6,
             "#e6f5d0"
            ],
            [
             0.7,
             "#b8e186"
            ],
            [
             0.8,
             "#7fbc41"
            ],
            [
             0.9,
             "#4d9221"
            ],
            [
             1,
             "#276419"
            ]
           ],
           "sequential": [
            [
             0,
             "#0d0887"
            ],
            [
             0.1111111111111111,
             "#46039f"
            ],
            [
             0.2222222222222222,
             "#7201a8"
            ],
            [
             0.3333333333333333,
             "#9c179e"
            ],
            [
             0.4444444444444444,
             "#bd3786"
            ],
            [
             0.5555555555555556,
             "#d8576b"
            ],
            [
             0.6666666666666666,
             "#ed7953"
            ],
            [
             0.7777777777777778,
             "#fb9f3a"
            ],
            [
             0.8888888888888888,
             "#fdca26"
            ],
            [
             1,
             "#f0f921"
            ]
           ],
           "sequentialminus": [
            [
             0,
             "#0d0887"
            ],
            [
             0.1111111111111111,
             "#46039f"
            ],
            [
             0.2222222222222222,
             "#7201a8"
            ],
            [
             0.3333333333333333,
             "#9c179e"
            ],
            [
             0.4444444444444444,
             "#bd3786"
            ],
            [
             0.5555555555555556,
             "#d8576b"
            ],
            [
             0.6666666666666666,
             "#ed7953"
            ],
            [
             0.7777777777777778,
             "#fb9f3a"
            ],
            [
             0.8888888888888888,
             "#fdca26"
            ],
            [
             1,
             "#f0f921"
            ]
           ]
          },
          "colorway": [
           "#636efa",
           "#EF553B",
           "#00cc96",
           "#ab63fa",
           "#FFA15A",
           "#19d3f3",
           "#FF6692",
           "#B6E880",
           "#FF97FF",
           "#FECB52"
          ],
          "font": {
           "color": "#2a3f5f"
          },
          "geo": {
           "bgcolor": "white",
           "lakecolor": "white",
           "landcolor": "#E5ECF6",
           "showlakes": true,
           "showland": true,
           "subunitcolor": "white"
          },
          "hoverlabel": {
           "align": "left"
          },
          "hovermode": "closest",
          "mapbox": {
           "style": "light"
          },
          "paper_bgcolor": "white",
          "plot_bgcolor": "#E5ECF6",
          "polar": {
           "angularaxis": {
            "gridcolor": "white",
            "linecolor": "white",
            "ticks": ""
           },
           "bgcolor": "#E5ECF6",
           "radialaxis": {
            "gridcolor": "white",
            "linecolor": "white",
            "ticks": ""
           }
          },
          "scene": {
           "xaxis": {
            "backgroundcolor": "#E5ECF6",
            "gridcolor": "white",
            "gridwidth": 2,
            "linecolor": "white",
            "showbackground": true,
            "ticks": "",
            "zerolinecolor": "white"
           },
           "yaxis": {
            "backgroundcolor": "#E5ECF6",
            "gridcolor": "white",
            "gridwidth": 2,
            "linecolor": "white",
            "showbackground": true,
            "ticks": "",
            "zerolinecolor": "white"
           },
           "zaxis": {
            "backgroundcolor": "#E5ECF6",
            "gridcolor": "white",
            "gridwidth": 2,
            "linecolor": "white",
            "showbackground": true,
            "ticks": "",
            "zerolinecolor": "white"
           }
          },
          "shapedefaults": {
           "line": {
            "color": "#2a3f5f"
           }
          },
          "ternary": {
           "aaxis": {
            "gridcolor": "white",
            "linecolor": "white",
            "ticks": ""
           },
           "baxis": {
            "gridcolor": "white",
            "linecolor": "white",
            "ticks": ""
           },
           "bgcolor": "#E5ECF6",
           "caxis": {
            "gridcolor": "white",
            "linecolor": "white",
            "ticks": ""
           }
          },
          "title": {
           "x": 0.05
          },
          "xaxis": {
           "automargin": true,
           "gridcolor": "white",
           "linecolor": "white",
           "ticks": "",
           "title": {
            "standoff": 15
           },
           "zerolinecolor": "white",
           "zerolinewidth": 2
          },
          "yaxis": {
           "automargin": true,
           "gridcolor": "white",
           "linecolor": "white",
           "ticks": "",
           "title": {
            "standoff": 15
           },
           "zerolinecolor": "white",
           "zerolinewidth": 2
          }
         }
        },
        "title": {
         "text": "Correlation Heatmap"
        },
        "width": 900,
        "xaxis": {
         "anchor": "y",
         "constrain": "domain",
         "domain": [
          0,
          1
         ],
         "scaleanchor": "y",
         "title": {
          "text": "Features"
         }
        },
        "yaxis": {
         "anchor": "x",
         "autorange": "reversed",
         "constrain": "domain",
         "domain": [
          0,
          1
         ],
         "title": {
          "text": "Features"
         }
        }
       }
      }
     },
     "metadata": {},
     "output_type": "display_data"
    }
   ],
   "source": [
    "fig = px.imshow(\n",
    "    correlation_matrix,\n",
    "    color_continuous_scale='inferno',\n",
    "    labels=dict(x='Features', y='Features', color='Correlation'),\n",
    "    title='Correlation Heatmap',\n",
    "    width=900,\n",
    "    height=800,\n",
    ")\n",
    "fig.show()"
   ]
  },
  {
   "cell_type": "code",
   "execution_count": null,
   "metadata": {},
   "outputs": [],
   "source": []
  }
 ],
 "metadata": {
  "kernelspec": {
   "display_name": "Web",
   "language": "python",
   "name": "python3"
  },
  "language_info": {
   "codemirror_mode": {
    "name": "ipython",
    "version": 3
   },
   "file_extension": ".py",
   "mimetype": "text/x-python",
   "name": "python",
   "nbconvert_exporter": "python",
   "pygments_lexer": "ipython3",
   "version": "3.11.6"
  }
 },
 "nbformat": 4,
 "nbformat_minor": 2
}
