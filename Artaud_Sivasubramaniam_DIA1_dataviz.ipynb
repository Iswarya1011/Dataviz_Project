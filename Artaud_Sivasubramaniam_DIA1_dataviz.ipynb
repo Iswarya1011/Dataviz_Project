{
 "cells": [
  {
   "cell_type": "markdown",
   "metadata": {},
   "source": [
    "#  Dataviz project\n",
    "## ARTAUD Lucas & SIVASUBRAMANIAM Iswarya DIA 1"
   ]
  },
  {
   "cell_type": "code",
   "execution_count": 89,
   "metadata": {},
   "outputs": [],
   "source": [
    "import pandas as pd\n",
    "import matplotlib.pyplot as plt\n",
    "import seaborn as sns\n",
    "import geopandas as gpd\n",
    "import plotly.express as px\n",
    "import pycountry_convert as pc \n",
    "import plotly.graph_objects as go\n",
    "import plotly.subplots as sp\n",
    "from geopy.geocoders import Nominatim\n"
   ]
  },
  {
   "cell_type": "markdown",
   "metadata": {},
   "source": [
    "## Dataset"
   ]
  },
  {
   "cell_type": "code",
   "execution_count": 90,
   "metadata": {},
   "outputs": [],
   "source": [
    "df=pd.read_csv(\"Life Expectancy Data.csv\")"
   ]
  },
  {
   "cell_type": "code",
   "execution_count": 91,
   "metadata": {},
   "outputs": [
    {
     "data": {
      "text/html": [
       "<div>\n",
       "<style scoped>\n",
       "    .dataframe tbody tr th:only-of-type {\n",
       "        vertical-align: middle;\n",
       "    }\n",
       "\n",
       "    .dataframe tbody tr th {\n",
       "        vertical-align: top;\n",
       "    }\n",
       "\n",
       "    .dataframe thead th {\n",
       "        text-align: right;\n",
       "    }\n",
       "</style>\n",
       "<table border=\"1\" class=\"dataframe\">\n",
       "  <thead>\n",
       "    <tr style=\"text-align: right;\">\n",
       "      <th></th>\n",
       "      <th>Country</th>\n",
       "      <th>Year</th>\n",
       "      <th>Status</th>\n",
       "      <th>Life expectancy</th>\n",
       "      <th>Adult Mortality</th>\n",
       "      <th>infant deaths</th>\n",
       "      <th>Alcohol</th>\n",
       "      <th>percentage expenditure</th>\n",
       "      <th>Hepatitis B</th>\n",
       "      <th>Measles</th>\n",
       "      <th>...</th>\n",
       "      <th>Polio</th>\n",
       "      <th>Total expenditure</th>\n",
       "      <th>Diphtheria</th>\n",
       "      <th>HIV/AIDS</th>\n",
       "      <th>GDP</th>\n",
       "      <th>Population</th>\n",
       "      <th>thinness  1-19 years</th>\n",
       "      <th>thinness 5-9 years</th>\n",
       "      <th>Income composition of resources</th>\n",
       "      <th>Schooling</th>\n",
       "    </tr>\n",
       "  </thead>\n",
       "  <tbody>\n",
       "    <tr>\n",
       "      <th>0</th>\n",
       "      <td>Afghanistan</td>\n",
       "      <td>2015</td>\n",
       "      <td>Developing</td>\n",
       "      <td>65.0</td>\n",
       "      <td>263.0</td>\n",
       "      <td>62</td>\n",
       "      <td>0.01</td>\n",
       "      <td>71.279624</td>\n",
       "      <td>65.0</td>\n",
       "      <td>1154</td>\n",
       "      <td>...</td>\n",
       "      <td>6.0</td>\n",
       "      <td>8.16</td>\n",
       "      <td>65.0</td>\n",
       "      <td>0.1</td>\n",
       "      <td>584.259210</td>\n",
       "      <td>33736494.0</td>\n",
       "      <td>17.2</td>\n",
       "      <td>17.3</td>\n",
       "      <td>0.479</td>\n",
       "      <td>10.1</td>\n",
       "    </tr>\n",
       "    <tr>\n",
       "      <th>1</th>\n",
       "      <td>Afghanistan</td>\n",
       "      <td>2014</td>\n",
       "      <td>Developing</td>\n",
       "      <td>59.9</td>\n",
       "      <td>271.0</td>\n",
       "      <td>64</td>\n",
       "      <td>0.01</td>\n",
       "      <td>73.523582</td>\n",
       "      <td>62.0</td>\n",
       "      <td>492</td>\n",
       "      <td>...</td>\n",
       "      <td>58.0</td>\n",
       "      <td>8.18</td>\n",
       "      <td>62.0</td>\n",
       "      <td>0.1</td>\n",
       "      <td>612.696514</td>\n",
       "      <td>327582.0</td>\n",
       "      <td>17.5</td>\n",
       "      <td>17.5</td>\n",
       "      <td>0.476</td>\n",
       "      <td>10.0</td>\n",
       "    </tr>\n",
       "    <tr>\n",
       "      <th>2</th>\n",
       "      <td>Afghanistan</td>\n",
       "      <td>2013</td>\n",
       "      <td>Developing</td>\n",
       "      <td>59.9</td>\n",
       "      <td>268.0</td>\n",
       "      <td>66</td>\n",
       "      <td>0.01</td>\n",
       "      <td>73.219243</td>\n",
       "      <td>64.0</td>\n",
       "      <td>430</td>\n",
       "      <td>...</td>\n",
       "      <td>62.0</td>\n",
       "      <td>8.13</td>\n",
       "      <td>64.0</td>\n",
       "      <td>0.1</td>\n",
       "      <td>631.744976</td>\n",
       "      <td>31731688.0</td>\n",
       "      <td>17.7</td>\n",
       "      <td>17.7</td>\n",
       "      <td>0.470</td>\n",
       "      <td>9.9</td>\n",
       "    </tr>\n",
       "    <tr>\n",
       "      <th>3</th>\n",
       "      <td>Afghanistan</td>\n",
       "      <td>2012</td>\n",
       "      <td>Developing</td>\n",
       "      <td>59.5</td>\n",
       "      <td>272.0</td>\n",
       "      <td>69</td>\n",
       "      <td>0.01</td>\n",
       "      <td>78.184215</td>\n",
       "      <td>67.0</td>\n",
       "      <td>2787</td>\n",
       "      <td>...</td>\n",
       "      <td>67.0</td>\n",
       "      <td>8.52</td>\n",
       "      <td>67.0</td>\n",
       "      <td>0.1</td>\n",
       "      <td>669.959000</td>\n",
       "      <td>3696958.0</td>\n",
       "      <td>17.9</td>\n",
       "      <td>18.0</td>\n",
       "      <td>0.463</td>\n",
       "      <td>9.8</td>\n",
       "    </tr>\n",
       "    <tr>\n",
       "      <th>4</th>\n",
       "      <td>Afghanistan</td>\n",
       "      <td>2011</td>\n",
       "      <td>Developing</td>\n",
       "      <td>59.2</td>\n",
       "      <td>275.0</td>\n",
       "      <td>71</td>\n",
       "      <td>0.01</td>\n",
       "      <td>7.097109</td>\n",
       "      <td>68.0</td>\n",
       "      <td>3013</td>\n",
       "      <td>...</td>\n",
       "      <td>68.0</td>\n",
       "      <td>7.87</td>\n",
       "      <td>68.0</td>\n",
       "      <td>0.1</td>\n",
       "      <td>63.537231</td>\n",
       "      <td>2978599.0</td>\n",
       "      <td>18.2</td>\n",
       "      <td>18.2</td>\n",
       "      <td>0.454</td>\n",
       "      <td>9.5</td>\n",
       "    </tr>\n",
       "    <tr>\n",
       "      <th>...</th>\n",
       "      <td>...</td>\n",
       "      <td>...</td>\n",
       "      <td>...</td>\n",
       "      <td>...</td>\n",
       "      <td>...</td>\n",
       "      <td>...</td>\n",
       "      <td>...</td>\n",
       "      <td>...</td>\n",
       "      <td>...</td>\n",
       "      <td>...</td>\n",
       "      <td>...</td>\n",
       "      <td>...</td>\n",
       "      <td>...</td>\n",
       "      <td>...</td>\n",
       "      <td>...</td>\n",
       "      <td>...</td>\n",
       "      <td>...</td>\n",
       "      <td>...</td>\n",
       "      <td>...</td>\n",
       "      <td>...</td>\n",
       "      <td>...</td>\n",
       "    </tr>\n",
       "    <tr>\n",
       "      <th>2933</th>\n",
       "      <td>Zimbabwe</td>\n",
       "      <td>2004</td>\n",
       "      <td>Developing</td>\n",
       "      <td>44.3</td>\n",
       "      <td>723.0</td>\n",
       "      <td>27</td>\n",
       "      <td>4.36</td>\n",
       "      <td>0.000000</td>\n",
       "      <td>68.0</td>\n",
       "      <td>31</td>\n",
       "      <td>...</td>\n",
       "      <td>67.0</td>\n",
       "      <td>7.13</td>\n",
       "      <td>65.0</td>\n",
       "      <td>33.6</td>\n",
       "      <td>454.366654</td>\n",
       "      <td>12777511.0</td>\n",
       "      <td>9.4</td>\n",
       "      <td>9.4</td>\n",
       "      <td>0.407</td>\n",
       "      <td>9.2</td>\n",
       "    </tr>\n",
       "    <tr>\n",
       "      <th>2934</th>\n",
       "      <td>Zimbabwe</td>\n",
       "      <td>2003</td>\n",
       "      <td>Developing</td>\n",
       "      <td>44.5</td>\n",
       "      <td>715.0</td>\n",
       "      <td>26</td>\n",
       "      <td>4.06</td>\n",
       "      <td>0.000000</td>\n",
       "      <td>7.0</td>\n",
       "      <td>998</td>\n",
       "      <td>...</td>\n",
       "      <td>7.0</td>\n",
       "      <td>6.52</td>\n",
       "      <td>68.0</td>\n",
       "      <td>36.7</td>\n",
       "      <td>453.351155</td>\n",
       "      <td>12633897.0</td>\n",
       "      <td>9.8</td>\n",
       "      <td>9.9</td>\n",
       "      <td>0.418</td>\n",
       "      <td>9.5</td>\n",
       "    </tr>\n",
       "    <tr>\n",
       "      <th>2935</th>\n",
       "      <td>Zimbabwe</td>\n",
       "      <td>2002</td>\n",
       "      <td>Developing</td>\n",
       "      <td>44.8</td>\n",
       "      <td>73.0</td>\n",
       "      <td>25</td>\n",
       "      <td>4.43</td>\n",
       "      <td>0.000000</td>\n",
       "      <td>73.0</td>\n",
       "      <td>304</td>\n",
       "      <td>...</td>\n",
       "      <td>73.0</td>\n",
       "      <td>6.53</td>\n",
       "      <td>71.0</td>\n",
       "      <td>39.8</td>\n",
       "      <td>57.348340</td>\n",
       "      <td>125525.0</td>\n",
       "      <td>1.2</td>\n",
       "      <td>1.3</td>\n",
       "      <td>0.427</td>\n",
       "      <td>10.0</td>\n",
       "    </tr>\n",
       "    <tr>\n",
       "      <th>2936</th>\n",
       "      <td>Zimbabwe</td>\n",
       "      <td>2001</td>\n",
       "      <td>Developing</td>\n",
       "      <td>45.3</td>\n",
       "      <td>686.0</td>\n",
       "      <td>25</td>\n",
       "      <td>1.72</td>\n",
       "      <td>0.000000</td>\n",
       "      <td>76.0</td>\n",
       "      <td>529</td>\n",
       "      <td>...</td>\n",
       "      <td>76.0</td>\n",
       "      <td>6.16</td>\n",
       "      <td>75.0</td>\n",
       "      <td>42.1</td>\n",
       "      <td>548.587312</td>\n",
       "      <td>12366165.0</td>\n",
       "      <td>1.6</td>\n",
       "      <td>1.7</td>\n",
       "      <td>0.427</td>\n",
       "      <td>9.8</td>\n",
       "    </tr>\n",
       "    <tr>\n",
       "      <th>2937</th>\n",
       "      <td>Zimbabwe</td>\n",
       "      <td>2000</td>\n",
       "      <td>Developing</td>\n",
       "      <td>46.0</td>\n",
       "      <td>665.0</td>\n",
       "      <td>24</td>\n",
       "      <td>1.68</td>\n",
       "      <td>0.000000</td>\n",
       "      <td>79.0</td>\n",
       "      <td>1483</td>\n",
       "      <td>...</td>\n",
       "      <td>78.0</td>\n",
       "      <td>7.10</td>\n",
       "      <td>78.0</td>\n",
       "      <td>43.5</td>\n",
       "      <td>547.358878</td>\n",
       "      <td>12222251.0</td>\n",
       "      <td>11.0</td>\n",
       "      <td>11.2</td>\n",
       "      <td>0.434</td>\n",
       "      <td>9.8</td>\n",
       "    </tr>\n",
       "  </tbody>\n",
       "</table>\n",
       "<p>2938 rows × 22 columns</p>\n",
       "</div>"
      ],
      "text/plain": [
       "          Country  Year      Status  Life expectancy   Adult Mortality  \\\n",
       "0     Afghanistan  2015  Developing              65.0            263.0   \n",
       "1     Afghanistan  2014  Developing              59.9            271.0   \n",
       "2     Afghanistan  2013  Developing              59.9            268.0   \n",
       "3     Afghanistan  2012  Developing              59.5            272.0   \n",
       "4     Afghanistan  2011  Developing              59.2            275.0   \n",
       "...           ...   ...         ...               ...              ...   \n",
       "2933     Zimbabwe  2004  Developing              44.3            723.0   \n",
       "2934     Zimbabwe  2003  Developing              44.5            715.0   \n",
       "2935     Zimbabwe  2002  Developing              44.8             73.0   \n",
       "2936     Zimbabwe  2001  Developing              45.3            686.0   \n",
       "2937     Zimbabwe  2000  Developing              46.0            665.0   \n",
       "\n",
       "      infant deaths  Alcohol  percentage expenditure  Hepatitis B  Measles   \\\n",
       "0                62     0.01               71.279624         65.0      1154   \n",
       "1                64     0.01               73.523582         62.0       492   \n",
       "2                66     0.01               73.219243         64.0       430   \n",
       "3                69     0.01               78.184215         67.0      2787   \n",
       "4                71     0.01                7.097109         68.0      3013   \n",
       "...             ...      ...                     ...          ...       ...   \n",
       "2933             27     4.36                0.000000         68.0        31   \n",
       "2934             26     4.06                0.000000          7.0       998   \n",
       "2935             25     4.43                0.000000         73.0       304   \n",
       "2936             25     1.72                0.000000         76.0       529   \n",
       "2937             24     1.68                0.000000         79.0      1483   \n",
       "\n",
       "      ...  Polio  Total expenditure  Diphtheria    HIV/AIDS         GDP  \\\n",
       "0     ...    6.0               8.16         65.0        0.1  584.259210   \n",
       "1     ...   58.0               8.18         62.0        0.1  612.696514   \n",
       "2     ...   62.0               8.13         64.0        0.1  631.744976   \n",
       "3     ...   67.0               8.52         67.0        0.1  669.959000   \n",
       "4     ...   68.0               7.87         68.0        0.1   63.537231   \n",
       "...   ...    ...                ...          ...        ...         ...   \n",
       "2933  ...   67.0               7.13         65.0       33.6  454.366654   \n",
       "2934  ...    7.0               6.52         68.0       36.7  453.351155   \n",
       "2935  ...   73.0               6.53         71.0       39.8   57.348340   \n",
       "2936  ...   76.0               6.16         75.0       42.1  548.587312   \n",
       "2937  ...   78.0               7.10         78.0       43.5  547.358878   \n",
       "\n",
       "      Population   thinness  1-19 years   thinness 5-9 years  \\\n",
       "0     33736494.0                   17.2                 17.3   \n",
       "1       327582.0                   17.5                 17.5   \n",
       "2     31731688.0                   17.7                 17.7   \n",
       "3      3696958.0                   17.9                 18.0   \n",
       "4      2978599.0                   18.2                 18.2   \n",
       "...          ...                    ...                  ...   \n",
       "2933  12777511.0                    9.4                  9.4   \n",
       "2934  12633897.0                    9.8                  9.9   \n",
       "2935    125525.0                    1.2                  1.3   \n",
       "2936  12366165.0                    1.6                  1.7   \n",
       "2937  12222251.0                   11.0                 11.2   \n",
       "\n",
       "      Income composition of resources  Schooling  \n",
       "0                               0.479       10.1  \n",
       "1                               0.476       10.0  \n",
       "2                               0.470        9.9  \n",
       "3                               0.463        9.8  \n",
       "4                               0.454        9.5  \n",
       "...                               ...        ...  \n",
       "2933                            0.407        9.2  \n",
       "2934                            0.418        9.5  \n",
       "2935                            0.427       10.0  \n",
       "2936                            0.427        9.8  \n",
       "2937                            0.434        9.8  \n",
       "\n",
       "[2938 rows x 22 columns]"
      ]
     },
     "execution_count": 91,
     "metadata": {},
     "output_type": "execute_result"
    }
   ],
   "source": [
    "df"
   ]
  },
  {
   "cell_type": "code",
   "execution_count": 92,
   "metadata": {},
   "outputs": [
    {
     "data": {
      "text/plain": [
       "(2938, 22)"
      ]
     },
     "execution_count": 92,
     "metadata": {},
     "output_type": "execute_result"
    }
   ],
   "source": [
    "df.shape"
   ]
  },
  {
   "cell_type": "code",
   "execution_count": 93,
   "metadata": {},
   "outputs": [
    {
     "data": {
      "text/plain": [
       "Country                              0\n",
       "Year                                 0\n",
       "Status                               0\n",
       "Life expectancy                     10\n",
       "Adult Mortality                     10\n",
       "infant deaths                        0\n",
       "Alcohol                            194\n",
       "percentage expenditure               0\n",
       "Hepatitis B                        553\n",
       "Measles                              0\n",
       " BMI                                34\n",
       "under-five deaths                    0\n",
       "Polio                               19\n",
       "Total expenditure                  226\n",
       "Diphtheria                          19\n",
       " HIV/AIDS                            0\n",
       "GDP                                448\n",
       "Population                         652\n",
       " thinness  1-19 years               34\n",
       " thinness 5-9 years                 34\n",
       "Income composition of resources    167\n",
       "Schooling                          163\n",
       "dtype: int64"
      ]
     },
     "execution_count": 93,
     "metadata": {},
     "output_type": "execute_result"
    }
   ],
   "source": [
    "df.isna().sum()"
   ]
  },
  {
   "cell_type": "code",
   "execution_count": 94,
   "metadata": {},
   "outputs": [],
   "source": [
    "df.dropna(inplace=True)\n"
   ]
  },
  {
   "cell_type": "markdown",
   "metadata": {},
   "source": [
    "## Context and motivation"
   ]
  },
  {
   "cell_type": "markdown",
   "metadata": {},
   "source": [
    "##### The data set chosen is a statistical data on factors influencing Life Expectancy. The data comes from the World Helath Organization for a period of time of 15 years.   \n",
    "\n",
    "##### Many studies in the past have explored the factors influencing life expectancy, centering around demographic variables, income composition, and mortality rates. However, these studies often neglected the impact of immunization and the Human Development Index. Additionally, some prior research relied on a one-year dataset for all countries but doing this research r a period of time of 15 year enables us to visualise the changes over time. This data set allows us to do a country based observation to identify the main factors that are contributing to lower life expectancy.  \n",
    "##### This data-set counts health factors of 193 countries over 15 years (2000-2015). We have 22 columns and 2938 rows (befor cleaning).\n",
    "\n",
    "##### From our preliminary analysis, population, Hepatitis B and GDP columns contains most of the missing data.We decided to remove all the missing values in order to have a clean data.\n",
    "\n",
    "##### The motivation of our project is to analyze the different factors taht influences the life expectancy and compare on different scales (between continents, developed / developing etc...).\n",
    "##### We hope to learn more about the various factors affecting life expectancy and how those findings can guide public health interventions and policies. Targeted healthcare initiatives could be guided, for instance, by identifying particular regions or demographic groups experiencing challenges with life expectancy. Furthermore, knowledge of how social determinants, economic variables, and immunizations affect life expectancy can support evidence-based decision-making at the national and international levels. "
   ]
  },
  {
   "cell_type": "markdown",
   "metadata": {},
   "source": [
    "#### Columns"
   ]
  },
  {
   "cell_type": "markdown",
   "metadata": {},
   "source": [
    "* **Country**: Country\n",
    "* **Year**: Year\n",
    "* **Status**: Classification of countries as 'developed' or 'developing' based on their gross domestic product(GDP).\n",
    "* **Life expectancy**: Life expectancy (years of age)\n",
    "* **Adult Mortality**: Adult Mortality Rates of both sexes (Probability of dying between 15 and 60 years per 1000 population)\n",
    "* **nfant deaths**: Number of Infant (0-1 year of age) Deaths per 1000 population.\n",
    "* **Alcohol**: Alcohol, recorded per capita (15+) consumption (in litres of pure alcohol).\n",
    "* **Percentage expenditure**: Expenditure on health as a percentage of GPD per capita. (%)\n",
    "* **Hepatitis B**: Hepatitis B immunization coverage among 1-year-olds. (%)\n",
    "* **Measles**: Number of reported cases per 1000 population.\n",
    "* **BMI**: Average Body Mass index of entire population\n",
    "* **Under-five deaths**: Number of under-five deaths per 1000 population\n",
    "* **Polio**: Polio immunization coverage among 1-year-olds (%)\n",
    "* **Total expenditure**: General government expenditure on health as a percentage of total government expenditure (%)\n",
    "* **Diphtheria**: Diphtheria tetanus toxoid and pertussis (DTP3) immunization coverage among 1-year-olds (%)\n",
    "* **HIV/AIDS**: Deaths per 1000 live births HIV/AIDS (0-4 years)\n",
    "* **GDP**: Gross Domestic Product per capita (in USD)\n",
    "* **Population**: Population of the country\n",
    "* **Thinness 1-19 years**: Prevalence of thinness among children and adolescents for Age 10 to 19 (%) \n",
    "* **Thinness 5-9 years**: Prevalence of thinness among children for Age 5 to 9 (%)\n",
    "* **Income composition of resources**: Human Development Index in terms of income composition of resources (index ranging from 0 to 1)\n",
    "* **Schooling**: Number of years of Schooling (years)"
   ]
  },
  {
   "cell_type": "markdown",
   "metadata": {},
   "source": [
    "## Visualisation"
   ]
  },
  {
   "cell_type": "markdown",
   "metadata": {},
   "source": [
    "### Creation of a new column continent"
   ]
  },
  {
   "cell_type": "markdown",
   "metadata": {},
   "source": [
    "With the library pycountry_convert we are going to create a new column \"Continent\" that will correspond to the continent of the country."
   ]
  },
  {
   "cell_type": "code",
   "execution_count": 95,
   "metadata": {},
   "outputs": [],
   "source": [
    "continent_name = {\n",
    "    'AF': 'Africa',\n",
    "    'AS': 'Asia',\n",
    "    'EU': 'Europe',\n",
    "    'NA': 'North America',\n",
    "    'OC': 'Oceania',\n",
    "    'SA': 'South America',\n",
    "    'AN': 'Antarctica'\n",
    "}"
   ]
  },
  {
   "cell_type": "code",
   "execution_count": 96,
   "metadata": {},
   "outputs": [],
   "source": [
    "def convert(row):\n",
    "    # convert country name to country code\n",
    "    country_code =pc.country_name_to_country_alpha2(row.Country,cn_name_format=\"default\")\n",
    "    # convert country_code to continent code\n",
    "    try:\n",
    "        continent_code = pc.country_alpha2_to_continent_code(country_code)\n",
    "        return continent_name.get(continent_code, None)\n",
    "    except :\n",
    "        return None"
   ]
  },
  {
   "cell_type": "code",
   "execution_count": 97,
   "metadata": {},
   "outputs": [],
   "source": [
    "df['Continent']= df.apply(convert,axis=1)"
   ]
  },
  {
   "cell_type": "code",
   "execution_count": 98,
   "metadata": {},
   "outputs": [
    {
     "data": {
      "text/plain": [
       "Index(['Country', 'Year', 'Status', 'Life expectancy ', 'Adult Mortality',\n",
       "       'infant deaths', 'Alcohol', 'percentage expenditure', 'Hepatitis B',\n",
       "       'Measles ', ' BMI ', 'under-five deaths ', 'Polio', 'Total expenditure',\n",
       "       'Diphtheria ', ' HIV/AIDS', 'GDP', 'Population',\n",
       "       ' thinness  1-19 years', ' thinness 5-9 years',\n",
       "       'Income composition of resources', 'Schooling', 'Continent'],\n",
       "      dtype='object')"
      ]
     },
     "execution_count": 98,
     "metadata": {},
     "output_type": "execute_result"
    }
   ],
   "source": [
    "df.columns"
   ]
  },
  {
   "cell_type": "markdown",
   "metadata": {},
   "source": [
    "### Global analysis"
   ]
  },
  {
   "cell_type": "markdown",
   "metadata": {},
   "source": [
    "#### 1. Average life expectancy and population over the years"
   ]
  },
  {
   "cell_type": "code",
   "execution_count": 99,
   "metadata": {},
   "outputs": [],
   "source": [
    "average_life_expectancy_yearly = df.groupby('Year')['Life expectancy '].mean().reset_index()\n",
    "average_population_yearly = df.groupby('Year')['Population'].mean().reset_index()"
   ]
  },
  {
   "cell_type": "code",
   "execution_count": 100,
   "metadata": {},
   "outputs": [
    {
     "data": {
      "application/vnd.plotly.v1+json": {
       "config": {
        "plotlyServerURL": "https://plot.ly"
       },
       "data": [
        {
         "mode": "lines",
         "name": "Life Expectancy",
         "type": "scatter",
         "x": [
          2000,
          2001,
          2002,
          2003,
          2004,
          2005,
          2006,
          2007,
          2008,
          2009,
          2010,
          2011,
          2012,
          2013,
          2014,
          2015
         ],
         "xaxis": "x",
         "y": [
          70.2,
          70.25757575757575,
          68.58395061728395,
          68.34421052631579,
          68.43398058252427,
          68.47272727272727,
          68.90438596491228,
          68.67416666666666,
          68.66666666666667,
          68.77936507936508,
          69.12734375,
          69.86307692307693,
          70.24496124031008,
          70.3876923076923,
          70.51984732824428,
          71.4
         ],
         "yaxis": "y"
        },
        {
         "mode": "lines",
         "name": "Population",
         "type": "scatter",
         "x": [
          2000,
          2001,
          2002,
          2003,
          2004,
          2005,
          2006,
          2007,
          2008,
          2009,
          2010,
          2011,
          2012,
          2013,
          2014,
          2015
         ],
         "xaxis": "x2",
         "y": [
          10093525.639344262,
          9621577.787878787,
          6231771.047901235,
          10915018.767368421,
          20634799.038737863,
          22731229.638545454,
          18611721.80245614,
          21210315.791583333,
          10058784.807317073,
          10024503.643730158,
          12497494.0575,
          11929682.141230768,
          13580015.339534882,
          13268546.36623077,
          22269096.43312977,
          16882683.5
         ],
         "yaxis": "y2"
        }
       ],
       "layout": {
        "annotations": [
         {
          "font": {
           "size": 16
          },
          "showarrow": false,
          "text": "Average Life Expectancy",
          "x": 0.5,
          "xanchor": "center",
          "xref": "paper",
          "y": 1,
          "yanchor": "bottom",
          "yref": "paper"
         },
         {
          "font": {
           "size": 16
          },
          "showarrow": false,
          "text": "Average Population",
          "x": 0.5,
          "xanchor": "center",
          "xref": "paper",
          "y": 0.375,
          "yanchor": "bottom",
          "yref": "paper"
         }
        ],
        "font": {
         "size": 12
        },
        "height": 600,
        "margin": {
         "b": 20,
         "l": 20,
         "r": 20,
         "t": 60
        },
        "template": {
         "data": {
          "bar": [
           {
            "error_x": {
             "color": "#2a3f5f"
            },
            "error_y": {
             "color": "#2a3f5f"
            },
            "marker": {
             "line": {
              "color": "#E5ECF6",
              "width": 0.5
             },
             "pattern": {
              "fillmode": "overlay",
              "size": 10,
              "solidity": 0.2
             }
            },
            "type": "bar"
           }
          ],
          "barpolar": [
           {
            "marker": {
             "line": {
              "color": "#E5ECF6",
              "width": 0.5
             },
             "pattern": {
              "fillmode": "overlay",
              "size": 10,
              "solidity": 0.2
             }
            },
            "type": "barpolar"
           }
          ],
          "carpet": [
           {
            "aaxis": {
             "endlinecolor": "#2a3f5f",
             "gridcolor": "white",
             "linecolor": "white",
             "minorgridcolor": "white",
             "startlinecolor": "#2a3f5f"
            },
            "baxis": {
             "endlinecolor": "#2a3f5f",
             "gridcolor": "white",
             "linecolor": "white",
             "minorgridcolor": "white",
             "startlinecolor": "#2a3f5f"
            },
            "type": "carpet"
           }
          ],
          "choropleth": [
           {
            "colorbar": {
             "outlinewidth": 0,
             "ticks": ""
            },
            "type": "choropleth"
           }
          ],
          "contour": [
           {
            "colorbar": {
             "outlinewidth": 0,
             "ticks": ""
            },
            "colorscale": [
             [
              0,
              "#0d0887"
             ],
             [
              0.1111111111111111,
              "#46039f"
             ],
             [
              0.2222222222222222,
              "#7201a8"
             ],
             [
              0.3333333333333333,
              "#9c179e"
             ],
             [
              0.4444444444444444,
              "#bd3786"
             ],
             [
              0.5555555555555556,
              "#d8576b"
             ],
             [
              0.6666666666666666,
              "#ed7953"
             ],
             [
              0.7777777777777778,
              "#fb9f3a"
             ],
             [
              0.8888888888888888,
              "#fdca26"
             ],
             [
              1,
              "#f0f921"
             ]
            ],
            "type": "contour"
           }
          ],
          "contourcarpet": [
           {
            "colorbar": {
             "outlinewidth": 0,
             "ticks": ""
            },
            "type": "contourcarpet"
           }
          ],
          "heatmap": [
           {
            "colorbar": {
             "outlinewidth": 0,
             "ticks": ""
            },
            "colorscale": [
             [
              0,
              "#0d0887"
             ],
             [
              0.1111111111111111,
              "#46039f"
             ],
             [
              0.2222222222222222,
              "#7201a8"
             ],
             [
              0.3333333333333333,
              "#9c179e"
             ],
             [
              0.4444444444444444,
              "#bd3786"
             ],
             [
              0.5555555555555556,
              "#d8576b"
             ],
             [
              0.6666666666666666,
              "#ed7953"
             ],
             [
              0.7777777777777778,
              "#fb9f3a"
             ],
             [
              0.8888888888888888,
              "#fdca26"
             ],
             [
              1,
              "#f0f921"
             ]
            ],
            "type": "heatmap"
           }
          ],
          "heatmapgl": [
           {
            "colorbar": {
             "outlinewidth": 0,
             "ticks": ""
            },
            "colorscale": [
             [
              0,
              "#0d0887"
             ],
             [
              0.1111111111111111,
              "#46039f"
             ],
             [
              0.2222222222222222,
              "#7201a8"
             ],
             [
              0.3333333333333333,
              "#9c179e"
             ],
             [
              0.4444444444444444,
              "#bd3786"
             ],
             [
              0.5555555555555556,
              "#d8576b"
             ],
             [
              0.6666666666666666,
              "#ed7953"
             ],
             [
              0.7777777777777778,
              "#fb9f3a"
             ],
             [
              0.8888888888888888,
              "#fdca26"
             ],
             [
              1,
              "#f0f921"
             ]
            ],
            "type": "heatmapgl"
           }
          ],
          "histogram": [
           {
            "marker": {
             "pattern": {
              "fillmode": "overlay",
              "size": 10,
              "solidity": 0.2
             }
            },
            "type": "histogram"
           }
          ],
          "histogram2d": [
           {
            "colorbar": {
             "outlinewidth": 0,
             "ticks": ""
            },
            "colorscale": [
             [
              0,
              "#0d0887"
             ],
             [
              0.1111111111111111,
              "#46039f"
             ],
             [
              0.2222222222222222,
              "#7201a8"
             ],
             [
              0.3333333333333333,
              "#9c179e"
             ],
             [
              0.4444444444444444,
              "#bd3786"
             ],
             [
              0.5555555555555556,
              "#d8576b"
             ],
             [
              0.6666666666666666,
              "#ed7953"
             ],
             [
              0.7777777777777778,
              "#fb9f3a"
             ],
             [
              0.8888888888888888,
              "#fdca26"
             ],
             [
              1,
              "#f0f921"
             ]
            ],
            "type": "histogram2d"
           }
          ],
          "histogram2dcontour": [
           {
            "colorbar": {
             "outlinewidth": 0,
             "ticks": ""
            },
            "colorscale": [
             [
              0,
              "#0d0887"
             ],
             [
              0.1111111111111111,
              "#46039f"
             ],
             [
              0.2222222222222222,
              "#7201a8"
             ],
             [
              0.3333333333333333,
              "#9c179e"
             ],
             [
              0.4444444444444444,
              "#bd3786"
             ],
             [
              0.5555555555555556,
              "#d8576b"
             ],
             [
              0.6666666666666666,
              "#ed7953"
             ],
             [
              0.7777777777777778,
              "#fb9f3a"
             ],
             [
              0.8888888888888888,
              "#fdca26"
             ],
             [
              1,
              "#f0f921"
             ]
            ],
            "type": "histogram2dcontour"
           }
          ],
          "mesh3d": [
           {
            "colorbar": {
             "outlinewidth": 0,
             "ticks": ""
            },
            "type": "mesh3d"
           }
          ],
          "parcoords": [
           {
            "line": {
             "colorbar": {
              "outlinewidth": 0,
              "ticks": ""
             }
            },
            "type": "parcoords"
           }
          ],
          "pie": [
           {
            "automargin": true,
            "type": "pie"
           }
          ],
          "scatter": [
           {
            "fillpattern": {
             "fillmode": "overlay",
             "size": 10,
             "solidity": 0.2
            },
            "type": "scatter"
           }
          ],
          "scatter3d": [
           {
            "line": {
             "colorbar": {
              "outlinewidth": 0,
              "ticks": ""
             }
            },
            "marker": {
             "colorbar": {
              "outlinewidth": 0,
              "ticks": ""
             }
            },
            "type": "scatter3d"
           }
          ],
          "scattercarpet": [
           {
            "marker": {
             "colorbar": {
              "outlinewidth": 0,
              "ticks": ""
             }
            },
            "type": "scattercarpet"
           }
          ],
          "scattergeo": [
           {
            "marker": {
             "colorbar": {
              "outlinewidth": 0,
              "ticks": ""
             }
            },
            "type": "scattergeo"
           }
          ],
          "scattergl": [
           {
            "marker": {
             "colorbar": {
              "outlinewidth": 0,
              "ticks": ""
             }
            },
            "type": "scattergl"
           }
          ],
          "scattermapbox": [
           {
            "marker": {
             "colorbar": {
              "outlinewidth": 0,
              "ticks": ""
             }
            },
            "type": "scattermapbox"
           }
          ],
          "scatterpolar": [
           {
            "marker": {
             "colorbar": {
              "outlinewidth": 0,
              "ticks": ""
             }
            },
            "type": "scatterpolar"
           }
          ],
          "scatterpolargl": [
           {
            "marker": {
             "colorbar": {
              "outlinewidth": 0,
              "ticks": ""
             }
            },
            "type": "scatterpolargl"
           }
          ],
          "scatterternary": [
           {
            "marker": {
             "colorbar": {
              "outlinewidth": 0,
              "ticks": ""
             }
            },
            "type": "scatterternary"
           }
          ],
          "surface": [
           {
            "colorbar": {
             "outlinewidth": 0,
             "ticks": ""
            },
            "colorscale": [
             [
              0,
              "#0d0887"
             ],
             [
              0.1111111111111111,
              "#46039f"
             ],
             [
              0.2222222222222222,
              "#7201a8"
             ],
             [
              0.3333333333333333,
              "#9c179e"
             ],
             [
              0.4444444444444444,
              "#bd3786"
             ],
             [
              0.5555555555555556,
              "#d8576b"
             ],
             [
              0.6666666666666666,
              "#ed7953"
             ],
             [
              0.7777777777777778,
              "#fb9f3a"
             ],
             [
              0.8888888888888888,
              "#fdca26"
             ],
             [
              1,
              "#f0f921"
             ]
            ],
            "type": "surface"
           }
          ],
          "table": [
           {
            "cells": {
             "fill": {
              "color": "#EBF0F8"
             },
             "line": {
              "color": "white"
             }
            },
            "header": {
             "fill": {
              "color": "#C8D4E3"
             },
             "line": {
              "color": "white"
             }
            },
            "type": "table"
           }
          ]
         },
         "layout": {
          "annotationdefaults": {
           "arrowcolor": "#2a3f5f",
           "arrowhead": 0,
           "arrowwidth": 1
          },
          "autotypenumbers": "strict",
          "coloraxis": {
           "colorbar": {
            "outlinewidth": 0,
            "ticks": ""
           }
          },
          "colorscale": {
           "diverging": [
            [
             0,
             "#8e0152"
            ],
            [
             0.1,
             "#c51b7d"
            ],
            [
             0.2,
             "#de77ae"
            ],
            [
             0.3,
             "#f1b6da"
            ],
            [
             0.4,
             "#fde0ef"
            ],
            [
             0.5,
             "#f7f7f7"
            ],
            [
             0.6,
             "#e6f5d0"
            ],
            [
             0.7,
             "#b8e186"
            ],
            [
             0.8,
             "#7fbc41"
            ],
            [
             0.9,
             "#4d9221"
            ],
            [
             1,
             "#276419"
            ]
           ],
           "sequential": [
            [
             0,
             "#0d0887"
            ],
            [
             0.1111111111111111,
             "#46039f"
            ],
            [
             0.2222222222222222,
             "#7201a8"
            ],
            [
             0.3333333333333333,
             "#9c179e"
            ],
            [
             0.4444444444444444,
             "#bd3786"
            ],
            [
             0.5555555555555556,
             "#d8576b"
            ],
            [
             0.6666666666666666,
             "#ed7953"
            ],
            [
             0.7777777777777778,
             "#fb9f3a"
            ],
            [
             0.8888888888888888,
             "#fdca26"
            ],
            [
             1,
             "#f0f921"
            ]
           ],
           "sequentialminus": [
            [
             0,
             "#0d0887"
            ],
            [
             0.1111111111111111,
             "#46039f"
            ],
            [
             0.2222222222222222,
             "#7201a8"
            ],
            [
             0.3333333333333333,
             "#9c179e"
            ],
            [
             0.4444444444444444,
             "#bd3786"
            ],
            [
             0.5555555555555556,
             "#d8576b"
            ],
            [
             0.6666666666666666,
             "#ed7953"
            ],
            [
             0.7777777777777778,
             "#fb9f3a"
            ],
            [
             0.8888888888888888,
             "#fdca26"
            ],
            [
             1,
             "#f0f921"
            ]
           ]
          },
          "colorway": [
           "#636efa",
           "#EF553B",
           "#00cc96",
           "#ab63fa",
           "#FFA15A",
           "#19d3f3",
           "#FF6692",
           "#B6E880",
           "#FF97FF",
           "#FECB52"
          ],
          "font": {
           "color": "#2a3f5f"
          },
          "geo": {
           "bgcolor": "white",
           "lakecolor": "white",
           "landcolor": "#E5ECF6",
           "showlakes": true,
           "showland": true,
           "subunitcolor": "white"
          },
          "hoverlabel": {
           "align": "left"
          },
          "hovermode": "closest",
          "mapbox": {
           "style": "light"
          },
          "paper_bgcolor": "white",
          "plot_bgcolor": "#E5ECF6",
          "polar": {
           "angularaxis": {
            "gridcolor": "white",
            "linecolor": "white",
            "ticks": ""
           },
           "bgcolor": "#E5ECF6",
           "radialaxis": {
            "gridcolor": "white",
            "linecolor": "white",
            "ticks": ""
           }
          },
          "scene": {
           "xaxis": {
            "backgroundcolor": "#E5ECF6",
            "gridcolor": "white",
            "gridwidth": 2,
            "linecolor": "white",
            "showbackground": true,
            "ticks": "",
            "zerolinecolor": "white"
           },
           "yaxis": {
            "backgroundcolor": "#E5ECF6",
            "gridcolor": "white",
            "gridwidth": 2,
            "linecolor": "white",
            "showbackground": true,
            "ticks": "",
            "zerolinecolor": "white"
           },
           "zaxis": {
            "backgroundcolor": "#E5ECF6",
            "gridcolor": "white",
            "gridwidth": 2,
            "linecolor": "white",
            "showbackground": true,
            "ticks": "",
            "zerolinecolor": "white"
           }
          },
          "shapedefaults": {
           "line": {
            "color": "#2a3f5f"
           }
          },
          "ternary": {
           "aaxis": {
            "gridcolor": "white",
            "linecolor": "white",
            "ticks": ""
           },
           "baxis": {
            "gridcolor": "white",
            "linecolor": "white",
            "ticks": ""
           },
           "bgcolor": "#E5ECF6",
           "caxis": {
            "gridcolor": "white",
            "linecolor": "white",
            "ticks": ""
           }
          },
          "title": {
           "x": 0.05
          },
          "xaxis": {
           "automargin": true,
           "gridcolor": "white",
           "linecolor": "white",
           "ticks": "",
           "title": {
            "standoff": 15
           },
           "zerolinecolor": "white",
           "zerolinewidth": 2
          },
          "yaxis": {
           "automargin": true,
           "gridcolor": "white",
           "linecolor": "white",
           "ticks": "",
           "title": {
            "standoff": 15
           },
           "zerolinecolor": "white",
           "zerolinewidth": 2
          }
         }
        },
        "width": 1200,
        "xaxis": {
         "anchor": "y",
         "domain": [
          0,
          1
         ]
        },
        "xaxis2": {
         "anchor": "y2",
         "domain": [
          0,
          1
         ]
        },
        "yaxis": {
         "anchor": "x",
         "domain": [
          0.625,
          1
         ]
        },
        "yaxis2": {
         "anchor": "x2",
         "domain": [
          0,
          0.375
         ]
        }
       }
      }
     },
     "metadata": {},
     "output_type": "display_data"
    }
   ],
   "source": [
    "fig = sp.make_subplots(rows=2, cols=1, subplot_titles=['Average Life Expectancy', 'Average Population'])\n",
    "\n",
    "fig.add_trace(\n",
    "    go.Scatter(x=average_life_expectancy_yearly['Year'], y=average_life_expectancy_yearly['Life expectancy '],\n",
    "               mode='lines', name='Life Expectancy'),\n",
    "    row=1, col=1\n",
    ")\n",
    "\n",
    "fig.add_trace(\n",
    "    go.Scatter(x=average_population_yearly['Year'], y=average_population_yearly['Population'],\n",
    "               mode='lines', name='Population'),\n",
    "    row=2, col=1\n",
    ")\n",
    "\n",
    "fig.update_layout(\n",
    "    font=dict(size=12),\n",
    "    width=1200,\n",
    "    height=600,\n",
    "    margin=dict(l=20, r=20, t=60, b=20),\n",
    ")\n",
    "fig.show()"
   ]
  },
  {
   "cell_type": "markdown",
   "metadata": {},
   "source": [
    "#### 2. Life Expectancy over the years of the top 10 and bottom 10 countries"
   ]
  },
  {
   "cell_type": "code",
   "execution_count": 101,
   "metadata": {},
   "outputs": [],
   "source": [
    "average_life_expectancy = df.groupby('Country')['Life expectancy '].mean().reset_index() # calcultae the average life expectancy\n",
    "top10_countries = average_life_expectancy.nlargest(10, 'Life expectancy ') # take the top 10 average life expectancy\n",
    "bottom10_countries = average_life_expectancy.nsmallest(10, 'Life expectancy ') # take the bottom 10 average life expectancy"
   ]
  },
  {
   "cell_type": "code",
   "execution_count": 102,
   "metadata": {},
   "outputs": [],
   "source": [
    "# Filter the Original DataFrame for the Selected Countries\n",
    "selected_countries = top10_countries['Country'].tolist() + bottom10_countries['Country'].tolist()\n",
    "filtered_df = df[df['Country'].isin(selected_countries)] "
   ]
  },
  {
   "cell_type": "code",
   "execution_count": 103,
   "metadata": {},
   "outputs": [
    {
     "data": {
      "application/vnd.plotly.v1+json": {
       "config": {
        "plotlyServerURL": "https://plot.ly"
       },
       "data": [
        {
         "hovertemplate": "Country=Angola<br>Year=%{x}<br>Life expectancy =%{y}<extra></extra>",
         "legendgroup": "Angola",
         "line": {
          "color": "#636efa",
          "dash": "solid"
         },
         "marker": {
          "symbol": "circle"
         },
         "mode": "lines",
         "name": "Angola",
         "orientation": "v",
         "showlegend": true,
         "type": "scatter",
         "x": [
          2014,
          2013,
          2012,
          2011,
          2010,
          2009,
          2008,
          2007
         ],
         "xaxis": "x",
         "y": [
          51.7,
          51.1,
          56,
          51,
          49.6,
          49.1,
          48.7,
          48.2
         ],
         "yaxis": "y"
        },
        {
         "hovertemplate": "Country=Australia<br>Year=%{x}<br>Life expectancy =%{y}<extra></extra>",
         "legendgroup": "Australia",
         "line": {
          "color": "#EF553B",
          "dash": "solid"
         },
         "marker": {
          "symbol": "circle"
         },
         "mode": "lines",
         "name": "Australia",
         "orientation": "v",
         "showlegend": true,
         "type": "scatter",
         "x": [
          2014,
          2013,
          2012,
          2011,
          2010,
          2009,
          2008,
          2007,
          2006,
          2005,
          2004,
          2003,
          2002,
          2001
         ],
         "xaxis": "x",
         "y": [
          82.7,
          82.5,
          82.3,
          82,
          81.9,
          81.7,
          81.3,
          81.3,
          81.2,
          81,
          86,
          83,
          79.9,
          79.9
         ],
         "yaxis": "y"
        },
        {
         "hovertemplate": "Country=Austria<br>Year=%{x}<br>Life expectancy =%{y}<extra></extra>",
         "legendgroup": "Austria",
         "line": {
          "color": "#00cc96",
          "dash": "solid"
         },
         "marker": {
          "symbol": "circle"
         },
         "mode": "lines",
         "name": "Austria",
         "orientation": "v",
         "showlegend": true,
         "type": "scatter",
         "x": [
          2014,
          2013,
          2012,
          2011,
          2010,
          2009,
          2008,
          2007,
          2006,
          2005,
          2004,
          2003,
          2002,
          2001,
          2000
         ],
         "xaxis": "x",
         "y": [
          81.4,
          81.1,
          88,
          88,
          84,
          82,
          84,
          81,
          79.8,
          79.4,
          79.3,
          78.8,
          78.7,
          78.6,
          78.1
         ],
         "yaxis": "y"
        },
        {
         "hovertemplate": "Country=Canada<br>Year=%{x}<br>Life expectancy =%{y}<extra></extra>",
         "legendgroup": "Canada",
         "line": {
          "color": "#ab63fa",
          "dash": "solid"
         },
         "marker": {
          "symbol": "circle"
         },
         "mode": "lines",
         "name": "Canada",
         "orientation": "v",
         "showlegend": true,
         "type": "scatter",
         "x": [
          2014,
          2013,
          2012,
          2011,
          2010,
          2009,
          2008,
          2007,
          2006,
          2005,
          2004,
          2003
         ],
         "xaxis": "x",
         "y": [
          82,
          81.8,
          81.6,
          81.5,
          81.2,
          81,
          87,
          85,
          85,
          81,
          80,
          79.7
         ],
         "yaxis": "y"
        },
        {
         "hovertemplate": "Country=Central African Republic<br>Year=%{x}<br>Life expectancy =%{y}<extra></extra>",
         "legendgroup": "Central African Republic",
         "line": {
          "color": "#FFA15A",
          "dash": "solid"
         },
         "marker": {
          "symbol": "circle"
         },
         "mode": "lines",
         "name": "Central African Republic",
         "orientation": "v",
         "showlegend": true,
         "type": "scatter",
         "x": [
          2014,
          2013,
          2012,
          2011,
          2010,
          2009
         ],
         "xaxis": "x",
         "y": [
          58,
          49.9,
          53,
          49.8,
          49.2,
          48.6
         ],
         "yaxis": "y"
        },
        {
         "hovertemplate": "Country=Chad<br>Year=%{x}<br>Life expectancy =%{y}<extra></extra>",
         "legendgroup": "Chad",
         "line": {
          "color": "#19d3f3",
          "dash": "solid"
         },
         "marker": {
          "symbol": "circle"
         },
         "mode": "lines",
         "name": "Chad",
         "orientation": "v",
         "showlegend": true,
         "type": "scatter",
         "x": [
          2014,
          2013,
          2012,
          2011,
          2010,
          2009,
          2008
         ],
         "xaxis": "x",
         "y": [
          52.6,
          52.2,
          51.8,
          51.6,
          51.2,
          57,
          49.6
         ],
         "yaxis": "y"
        },
        {
         "hovertemplate": "Country=France<br>Year=%{x}<br>Life expectancy =%{y}<extra></extra>",
         "legendgroup": "France",
         "line": {
          "color": "#FF6692",
          "dash": "solid"
         },
         "marker": {
          "symbol": "circle"
         },
         "mode": "lines",
         "name": "France",
         "orientation": "v",
         "showlegend": true,
         "type": "scatter",
         "x": [
          2014,
          2013,
          2012,
          2011,
          2010,
          2009,
          2008,
          2007,
          2006,
          2005,
          2004,
          2003,
          2002,
          2001,
          2000
         ],
         "xaxis": "x",
         "y": [
          82.2,
          82,
          81.5,
          81.7,
          81.3,
          81.1,
          89,
          89,
          86,
          81,
          82,
          79.3,
          79.2,
          79,
          78.8
         ],
         "yaxis": "y"
        },
        {
         "hovertemplate": "Country=Greece<br>Year=%{x}<br>Life expectancy =%{y}<extra></extra>",
         "legendgroup": "Greece",
         "line": {
          "color": "#B6E880",
          "dash": "solid"
         },
         "marker": {
          "symbol": "circle"
         },
         "mode": "lines",
         "name": "Greece",
         "orientation": "v",
         "showlegend": true,
         "type": "scatter",
         "x": [
          2014,
          2013,
          2012,
          2011,
          2010,
          2009,
          2008,
          2007,
          2006,
          2005,
          2004,
          2003,
          2002,
          2001,
          2000
         ],
         "xaxis": "x",
         "y": [
          88,
          86,
          84,
          85,
          83,
          80,
          79.9,
          79.4,
          79.7,
          79.3,
          79.2,
          79.1,
          79,
          78.7,
          78.2
         ],
         "yaxis": "y"
        },
        {
         "hovertemplate": "Country=Ireland<br>Year=%{x}<br>Life expectancy =%{y}<extra></extra>",
         "legendgroup": "Ireland",
         "line": {
          "color": "#FF97FF",
          "dash": "solid"
         },
         "marker": {
          "symbol": "circle"
         },
         "mode": "lines",
         "name": "Ireland",
         "orientation": "v",
         "showlegend": true,
         "type": "scatter",
         "x": [
          2014,
          2013,
          2012,
          2011,
          2010
         ],
         "xaxis": "x",
         "y": [
          81.2,
          81,
          85,
          84,
          86
         ],
         "yaxis": "y"
        },
        {
         "hovertemplate": "Country=Italy<br>Year=%{x}<br>Life expectancy =%{y}<extra></extra>",
         "legendgroup": "Italy",
         "line": {
          "color": "#FECB52",
          "dash": "solid"
         },
         "marker": {
          "symbol": "circle"
         },
         "mode": "lines",
         "name": "Italy",
         "orientation": "v",
         "showlegend": true,
         "type": "scatter",
         "x": [
          2014,
          2013,
          2012,
          2011,
          2010,
          2009,
          2008,
          2007,
          2006,
          2005,
          2004,
          2003,
          2002,
          2001,
          2000
         ],
         "xaxis": "x",
         "y": [
          82.5,
          82.3,
          82,
          82,
          81.8,
          81.6,
          81.5,
          81.3,
          81.2,
          88,
          89,
          79.9,
          80,
          79.8,
          79.4
         ],
         "yaxis": "y"
        },
        {
         "hovertemplate": "Country=Lesotho<br>Year=%{x}<br>Life expectancy =%{y}<extra></extra>",
         "legendgroup": "Lesotho",
         "line": {
          "color": "#636efa",
          "dash": "solid"
         },
         "marker": {
          "symbol": "circle"
         },
         "mode": "lines",
         "name": "Lesotho",
         "orientation": "v",
         "showlegend": true,
         "type": "scatter",
         "x": [
          2014,
          2013,
          2012,
          2011,
          2010,
          2009,
          2008,
          2007,
          2006,
          2005,
          2004,
          2003
         ],
         "xaxis": "x",
         "y": [
          52.1,
          52.1,
          52.2,
          52.3,
          51.1,
          49.4,
          47.8,
          46.2,
          45.3,
          44.5,
          44.8,
          45.5
         ],
         "yaxis": "y"
        },
        {
         "hovertemplate": "Country=Malawi<br>Year=%{x}<br>Life expectancy =%{y}<extra></extra>",
         "legendgroup": "Malawi",
         "line": {
          "color": "#EF553B",
          "dash": "solid"
         },
         "marker": {
          "symbol": "circle"
         },
         "mode": "lines",
         "name": "Malawi",
         "orientation": "v",
         "showlegend": true,
         "type": "scatter",
         "x": [
          2014,
          2013,
          2012,
          2011,
          2010,
          2009,
          2008,
          2007,
          2006,
          2005,
          2004,
          2003,
          2002
         ],
         "xaxis": "x",
         "y": [
          57.6,
          56.7,
          55.3,
          54.1,
          52.9,
          51.5,
          50,
          48.5,
          47.1,
          46,
          45.1,
          44.6,
          44
         ],
         "yaxis": "y"
        },
        {
         "hovertemplate": "Country=Mozambique<br>Year=%{x}<br>Life expectancy =%{y}<extra></extra>",
         "legendgroup": "Mozambique",
         "line": {
          "color": "#00cc96",
          "dash": "solid"
         },
         "marker": {
          "symbol": "circle"
         },
         "mode": "lines",
         "name": "Mozambique",
         "orientation": "v",
         "showlegend": true,
         "type": "scatter",
         "x": [
          2014,
          2013,
          2012,
          2011,
          2010,
          2009,
          2008,
          2007,
          2006,
          2005,
          2004,
          2003,
          2002,
          2001
         ],
         "xaxis": "x",
         "y": [
          56.7,
          55.3,
          54.8,
          54.3,
          54,
          53.8,
          53.2,
          52.1,
          51.2,
          58,
          54,
          51,
          49.8,
          49.5
         ],
         "yaxis": "y"
        },
        {
         "hovertemplate": "Country=Netherlands<br>Year=%{x}<br>Life expectancy =%{y}<extra></extra>",
         "legendgroup": "Netherlands",
         "line": {
          "color": "#ab63fa",
          "dash": "solid"
         },
         "marker": {
          "symbol": "circle"
         },
         "mode": "lines",
         "name": "Netherlands",
         "orientation": "v",
         "showlegend": true,
         "type": "scatter",
         "x": [
          2014,
          2013,
          2012,
          2011
         ],
         "xaxis": "x",
         "y": [
          81.7,
          81.4,
          81.1,
          81.1
         ],
         "yaxis": "y"
        },
        {
         "hovertemplate": "Country=Nigeria<br>Year=%{x}<br>Life expectancy =%{y}<extra></extra>",
         "legendgroup": "Nigeria",
         "line": {
          "color": "#FFA15A",
          "dash": "solid"
         },
         "marker": {
          "symbol": "circle"
         },
         "mode": "lines",
         "name": "Nigeria",
         "orientation": "v",
         "showlegend": true,
         "type": "scatter",
         "x": [
          2014,
          2013,
          2012,
          2011,
          2010,
          2009,
          2008,
          2007,
          2006,
          2005
         ],
         "xaxis": "x",
         "y": [
          53.6,
          53.2,
          52.7,
          52.3,
          52,
          51.6,
          59,
          55,
          49.8,
          49.2
         ],
         "yaxis": "y"
        },
        {
         "hovertemplate": "Country=Sierra Leone<br>Year=%{x}<br>Life expectancy =%{y}<extra></extra>",
         "legendgroup": "Sierra Leone",
         "line": {
          "color": "#19d3f3",
          "dash": "solid"
         },
         "marker": {
          "symbol": "circle"
         },
         "mode": "lines",
         "name": "Sierra Leone",
         "orientation": "v",
         "showlegend": true,
         "type": "scatter",
         "x": [
          2014,
          2013,
          2012,
          2011,
          2010,
          2009,
          2008,
          2007
         ],
         "xaxis": "x",
         "y": [
          48.1,
          54,
          49.7,
          48.9,
          48.1,
          47.1,
          46.2,
          45.3
         ],
         "yaxis": "y"
        },
        {
         "hovertemplate": "Country=Spain<br>Year=%{x}<br>Life expectancy =%{y}<extra></extra>",
         "legendgroup": "Spain",
         "line": {
          "color": "#FF6692",
          "dash": "solid"
         },
         "marker": {
          "symbol": "circle"
         },
         "mode": "lines",
         "name": "Spain",
         "orientation": "v",
         "showlegend": true,
         "type": "scatter",
         "x": [
          2014,
          2013,
          2012,
          2011,
          2010,
          2009,
          2008,
          2007,
          2006,
          2005,
          2004,
          2003,
          2002,
          2001,
          2000
         ],
         "xaxis": "x",
         "y": [
          82.6,
          82.4,
          82,
          82.1,
          81.9,
          81.6,
          81.3,
          89,
          88,
          81,
          81,
          79.4,
          79.5,
          79.4,
          79.1
         ],
         "yaxis": "y"
        },
        {
         "hovertemplate": "Country=Swaziland<br>Year=%{x}<br>Life expectancy =%{y}<extra></extra>",
         "legendgroup": "Swaziland",
         "line": {
          "color": "#B6E880",
          "dash": "solid"
         },
         "marker": {
          "symbol": "circle"
         },
         "mode": "lines",
         "name": "Swaziland",
         "orientation": "v",
         "showlegend": true,
         "type": "scatter",
         "x": [
          2014,
          2013,
          2012,
          2011,
          2010,
          2009,
          2008,
          2007,
          2006,
          2005,
          2004,
          2003,
          2002,
          2001,
          2000
         ],
         "xaxis": "x",
         "y": [
          58.4,
          57.6,
          56.5,
          55,
          53.6,
          52.6,
          51.4,
          50,
          47.8,
          46,
          45.6,
          45.9,
          46.4,
          47.1,
          48.4
         ],
         "yaxis": "y"
        },
        {
         "hovertemplate": "Country=Sweden<br>Year=%{x}<br>Life expectancy =%{y}<extra></extra>",
         "legendgroup": "Sweden",
         "line": {
          "color": "#FF97FF",
          "dash": "solid"
         },
         "marker": {
          "symbol": "circle"
         },
         "mode": "lines",
         "name": "Sweden",
         "orientation": "v",
         "showlegend": true,
         "type": "scatter",
         "x": [
          2014,
          2013,
          2012,
          2011
         ],
         "xaxis": "x",
         "y": [
          82.3,
          81.9,
          81.7,
          81.7
         ],
         "yaxis": "y"
        },
        {
         "hovertemplate": "Country=Zimbabwe<br>Year=%{x}<br>Life expectancy =%{y}<extra></extra>",
         "legendgroup": "Zimbabwe",
         "line": {
          "color": "#FECB52",
          "dash": "solid"
         },
         "marker": {
          "symbol": "circle"
         },
         "mode": "lines",
         "name": "Zimbabwe",
         "orientation": "v",
         "showlegend": true,
         "type": "scatter",
         "x": [
          2014,
          2013,
          2012,
          2011,
          2010,
          2009,
          2008,
          2007,
          2006,
          2005,
          2004,
          2003,
          2002,
          2001,
          2000
         ],
         "xaxis": "x",
         "y": [
          59.2,
          58,
          56.6,
          54.9,
          52.4,
          50,
          48.2,
          46.6,
          45.4,
          44.6,
          44.3,
          44.5,
          44.8,
          45.3,
          46
         ],
         "yaxis": "y"
        }
       ],
       "layout": {
        "font": {
         "size": 15
        },
        "height": 1000,
        "legend": {
         "title": {
          "text": "Country"
         },
         "tracegroupgap": 0
        },
        "margin": {
         "b": 20,
         "l": 20,
         "r": 20,
         "t": 60
        },
        "template": {
         "data": {
          "bar": [
           {
            "error_x": {
             "color": "#2a3f5f"
            },
            "error_y": {
             "color": "#2a3f5f"
            },
            "marker": {
             "line": {
              "color": "#E5ECF6",
              "width": 0.5
             },
             "pattern": {
              "fillmode": "overlay",
              "size": 10,
              "solidity": 0.2
             }
            },
            "type": "bar"
           }
          ],
          "barpolar": [
           {
            "marker": {
             "line": {
              "color": "#E5ECF6",
              "width": 0.5
             },
             "pattern": {
              "fillmode": "overlay",
              "size": 10,
              "solidity": 0.2
             }
            },
            "type": "barpolar"
           }
          ],
          "carpet": [
           {
            "aaxis": {
             "endlinecolor": "#2a3f5f",
             "gridcolor": "white",
             "linecolor": "white",
             "minorgridcolor": "white",
             "startlinecolor": "#2a3f5f"
            },
            "baxis": {
             "endlinecolor": "#2a3f5f",
             "gridcolor": "white",
             "linecolor": "white",
             "minorgridcolor": "white",
             "startlinecolor": "#2a3f5f"
            },
            "type": "carpet"
           }
          ],
          "choropleth": [
           {
            "colorbar": {
             "outlinewidth": 0,
             "ticks": ""
            },
            "type": "choropleth"
           }
          ],
          "contour": [
           {
            "colorbar": {
             "outlinewidth": 0,
             "ticks": ""
            },
            "colorscale": [
             [
              0,
              "#0d0887"
             ],
             [
              0.1111111111111111,
              "#46039f"
             ],
             [
              0.2222222222222222,
              "#7201a8"
             ],
             [
              0.3333333333333333,
              "#9c179e"
             ],
             [
              0.4444444444444444,
              "#bd3786"
             ],
             [
              0.5555555555555556,
              "#d8576b"
             ],
             [
              0.6666666666666666,
              "#ed7953"
             ],
             [
              0.7777777777777778,
              "#fb9f3a"
             ],
             [
              0.8888888888888888,
              "#fdca26"
             ],
             [
              1,
              "#f0f921"
             ]
            ],
            "type": "contour"
           }
          ],
          "contourcarpet": [
           {
            "colorbar": {
             "outlinewidth": 0,
             "ticks": ""
            },
            "type": "contourcarpet"
           }
          ],
          "heatmap": [
           {
            "colorbar": {
             "outlinewidth": 0,
             "ticks": ""
            },
            "colorscale": [
             [
              0,
              "#0d0887"
             ],
             [
              0.1111111111111111,
              "#46039f"
             ],
             [
              0.2222222222222222,
              "#7201a8"
             ],
             [
              0.3333333333333333,
              "#9c179e"
             ],
             [
              0.4444444444444444,
              "#bd3786"
             ],
             [
              0.5555555555555556,
              "#d8576b"
             ],
             [
              0.6666666666666666,
              "#ed7953"
             ],
             [
              0.7777777777777778,
              "#fb9f3a"
             ],
             [
              0.8888888888888888,
              "#fdca26"
             ],
             [
              1,
              "#f0f921"
             ]
            ],
            "type": "heatmap"
           }
          ],
          "heatmapgl": [
           {
            "colorbar": {
             "outlinewidth": 0,
             "ticks": ""
            },
            "colorscale": [
             [
              0,
              "#0d0887"
             ],
             [
              0.1111111111111111,
              "#46039f"
             ],
             [
              0.2222222222222222,
              "#7201a8"
             ],
             [
              0.3333333333333333,
              "#9c179e"
             ],
             [
              0.4444444444444444,
              "#bd3786"
             ],
             [
              0.5555555555555556,
              "#d8576b"
             ],
             [
              0.6666666666666666,
              "#ed7953"
             ],
             [
              0.7777777777777778,
              "#fb9f3a"
             ],
             [
              0.8888888888888888,
              "#fdca26"
             ],
             [
              1,
              "#f0f921"
             ]
            ],
            "type": "heatmapgl"
           }
          ],
          "histogram": [
           {
            "marker": {
             "pattern": {
              "fillmode": "overlay",
              "size": 10,
              "solidity": 0.2
             }
            },
            "type": "histogram"
           }
          ],
          "histogram2d": [
           {
            "colorbar": {
             "outlinewidth": 0,
             "ticks": ""
            },
            "colorscale": [
             [
              0,
              "#0d0887"
             ],
             [
              0.1111111111111111,
              "#46039f"
             ],
             [
              0.2222222222222222,
              "#7201a8"
             ],
             [
              0.3333333333333333,
              "#9c179e"
             ],
             [
              0.4444444444444444,
              "#bd3786"
             ],
             [
              0.5555555555555556,
              "#d8576b"
             ],
             [
              0.6666666666666666,
              "#ed7953"
             ],
             [
              0.7777777777777778,
              "#fb9f3a"
             ],
             [
              0.8888888888888888,
              "#fdca26"
             ],
             [
              1,
              "#f0f921"
             ]
            ],
            "type": "histogram2d"
           }
          ],
          "histogram2dcontour": [
           {
            "colorbar": {
             "outlinewidth": 0,
             "ticks": ""
            },
            "colorscale": [
             [
              0,
              "#0d0887"
             ],
             [
              0.1111111111111111,
              "#46039f"
             ],
             [
              0.2222222222222222,
              "#7201a8"
             ],
             [
              0.3333333333333333,
              "#9c179e"
             ],
             [
              0.4444444444444444,
              "#bd3786"
             ],
             [
              0.5555555555555556,
              "#d8576b"
             ],
             [
              0.6666666666666666,
              "#ed7953"
             ],
             [
              0.7777777777777778,
              "#fb9f3a"
             ],
             [
              0.8888888888888888,
              "#fdca26"
             ],
             [
              1,
              "#f0f921"
             ]
            ],
            "type": "histogram2dcontour"
           }
          ],
          "mesh3d": [
           {
            "colorbar": {
             "outlinewidth": 0,
             "ticks": ""
            },
            "type": "mesh3d"
           }
          ],
          "parcoords": [
           {
            "line": {
             "colorbar": {
              "outlinewidth": 0,
              "ticks": ""
             }
            },
            "type": "parcoords"
           }
          ],
          "pie": [
           {
            "automargin": true,
            "type": "pie"
           }
          ],
          "scatter": [
           {
            "fillpattern": {
             "fillmode": "overlay",
             "size": 10,
             "solidity": 0.2
            },
            "type": "scatter"
           }
          ],
          "scatter3d": [
           {
            "line": {
             "colorbar": {
              "outlinewidth": 0,
              "ticks": ""
             }
            },
            "marker": {
             "colorbar": {
              "outlinewidth": 0,
              "ticks": ""
             }
            },
            "type": "scatter3d"
           }
          ],
          "scattercarpet": [
           {
            "marker": {
             "colorbar": {
              "outlinewidth": 0,
              "ticks": ""
             }
            },
            "type": "scattercarpet"
           }
          ],
          "scattergeo": [
           {
            "marker": {
             "colorbar": {
              "outlinewidth": 0,
              "ticks": ""
             }
            },
            "type": "scattergeo"
           }
          ],
          "scattergl": [
           {
            "marker": {
             "colorbar": {
              "outlinewidth": 0,
              "ticks": ""
             }
            },
            "type": "scattergl"
           }
          ],
          "scattermapbox": [
           {
            "marker": {
             "colorbar": {
              "outlinewidth": 0,
              "ticks": ""
             }
            },
            "type": "scattermapbox"
           }
          ],
          "scatterpolar": [
           {
            "marker": {
             "colorbar": {
              "outlinewidth": 0,
              "ticks": ""
             }
            },
            "type": "scatterpolar"
           }
          ],
          "scatterpolargl": [
           {
            "marker": {
             "colorbar": {
              "outlinewidth": 0,
              "ticks": ""
             }
            },
            "type": "scatterpolargl"
           }
          ],
          "scatterternary": [
           {
            "marker": {
             "colorbar": {
              "outlinewidth": 0,
              "ticks": ""
             }
            },
            "type": "scatterternary"
           }
          ],
          "surface": [
           {
            "colorbar": {
             "outlinewidth": 0,
             "ticks": ""
            },
            "colorscale": [
             [
              0,
              "#0d0887"
             ],
             [
              0.1111111111111111,
              "#46039f"
             ],
             [
              0.2222222222222222,
              "#7201a8"
             ],
             [
              0.3333333333333333,
              "#9c179e"
             ],
             [
              0.4444444444444444,
              "#bd3786"
             ],
             [
              0.5555555555555556,
              "#d8576b"
             ],
             [
              0.6666666666666666,
              "#ed7953"
             ],
             [
              0.7777777777777778,
              "#fb9f3a"
             ],
             [
              0.8888888888888888,
              "#fdca26"
             ],
             [
              1,
              "#f0f921"
             ]
            ],
            "type": "surface"
           }
          ],
          "table": [
           {
            "cells": {
             "fill": {
              "color": "#EBF0F8"
             },
             "line": {
              "color": "white"
             }
            },
            "header": {
             "fill": {
              "color": "#C8D4E3"
             },
             "line": {
              "color": "white"
             }
            },
            "type": "table"
           }
          ]
         },
         "layout": {
          "annotationdefaults": {
           "arrowcolor": "#2a3f5f",
           "arrowhead": 0,
           "arrowwidth": 1
          },
          "autotypenumbers": "strict",
          "coloraxis": {
           "colorbar": {
            "outlinewidth": 0,
            "ticks": ""
           }
          },
          "colorscale": {
           "diverging": [
            [
             0,
             "#8e0152"
            ],
            [
             0.1,
             "#c51b7d"
            ],
            [
             0.2,
             "#de77ae"
            ],
            [
             0.3,
             "#f1b6da"
            ],
            [
             0.4,
             "#fde0ef"
            ],
            [
             0.5,
             "#f7f7f7"
            ],
            [
             0.6,
             "#e6f5d0"
            ],
            [
             0.7,
             "#b8e186"
            ],
            [
             0.8,
             "#7fbc41"
            ],
            [
             0.9,
             "#4d9221"
            ],
            [
             1,
             "#276419"
            ]
           ],
           "sequential": [
            [
             0,
             "#0d0887"
            ],
            [
             0.1111111111111111,
             "#46039f"
            ],
            [
             0.2222222222222222,
             "#7201a8"
            ],
            [
             0.3333333333333333,
             "#9c179e"
            ],
            [
             0.4444444444444444,
             "#bd3786"
            ],
            [
             0.5555555555555556,
             "#d8576b"
            ],
            [
             0.6666666666666666,
             "#ed7953"
            ],
            [
             0.7777777777777778,
             "#fb9f3a"
            ],
            [
             0.8888888888888888,
             "#fdca26"
            ],
            [
             1,
             "#f0f921"
            ]
           ],
           "sequentialminus": [
            [
             0,
             "#0d0887"
            ],
            [
             0.1111111111111111,
             "#46039f"
            ],
            [
             0.2222222222222222,
             "#7201a8"
            ],
            [
             0.3333333333333333,
             "#9c179e"
            ],
            [
             0.4444444444444444,
             "#bd3786"
            ],
            [
             0.5555555555555556,
             "#d8576b"
            ],
            [
             0.6666666666666666,
             "#ed7953"
            ],
            [
             0.7777777777777778,
             "#fb9f3a"
            ],
            [
             0.8888888888888888,
             "#fdca26"
            ],
            [
             1,
             "#f0f921"
            ]
           ]
          },
          "colorway": [
           "#636efa",
           "#EF553B",
           "#00cc96",
           "#ab63fa",
           "#FFA15A",
           "#19d3f3",
           "#FF6692",
           "#B6E880",
           "#FF97FF",
           "#FECB52"
          ],
          "font": {
           "color": "#2a3f5f"
          },
          "geo": {
           "bgcolor": "white",
           "lakecolor": "white",
           "landcolor": "#E5ECF6",
           "showlakes": true,
           "showland": true,
           "subunitcolor": "white"
          },
          "hoverlabel": {
           "align": "left"
          },
          "hovermode": "closest",
          "mapbox": {
           "style": "light"
          },
          "paper_bgcolor": "white",
          "plot_bgcolor": "#E5ECF6",
          "polar": {
           "angularaxis": {
            "gridcolor": "white",
            "linecolor": "white",
            "ticks": ""
           },
           "bgcolor": "#E5ECF6",
           "radialaxis": {
            "gridcolor": "white",
            "linecolor": "white",
            "ticks": ""
           }
          },
          "scene": {
           "xaxis": {
            "backgroundcolor": "#E5ECF6",
            "gridcolor": "white",
            "gridwidth": 2,
            "linecolor": "white",
            "showbackground": true,
            "ticks": "",
            "zerolinecolor": "white"
           },
           "yaxis": {
            "backgroundcolor": "#E5ECF6",
            "gridcolor": "white",
            "gridwidth": 2,
            "linecolor": "white",
            "showbackground": true,
            "ticks": "",
            "zerolinecolor": "white"
           },
           "zaxis": {
            "backgroundcolor": "#E5ECF6",
            "gridcolor": "white",
            "gridwidth": 2,
            "linecolor": "white",
            "showbackground": true,
            "ticks": "",
            "zerolinecolor": "white"
           }
          },
          "shapedefaults": {
           "line": {
            "color": "#2a3f5f"
           }
          },
          "ternary": {
           "aaxis": {
            "gridcolor": "white",
            "linecolor": "white",
            "ticks": ""
           },
           "baxis": {
            "gridcolor": "white",
            "linecolor": "white",
            "ticks": ""
           },
           "bgcolor": "#E5ECF6",
           "caxis": {
            "gridcolor": "white",
            "linecolor": "white",
            "ticks": ""
           }
          },
          "title": {
           "x": 0.05
          },
          "xaxis": {
           "automargin": true,
           "gridcolor": "white",
           "linecolor": "white",
           "ticks": "",
           "title": {
            "standoff": 15
           },
           "zerolinecolor": "white",
           "zerolinewidth": 2
          },
          "yaxis": {
           "automargin": true,
           "gridcolor": "white",
           "linecolor": "white",
           "ticks": "",
           "title": {
            "standoff": 15
           },
           "zerolinecolor": "white",
           "zerolinewidth": 2
          }
         }
        },
        "title": {
         "text": "Life Expectancy Over the Years for the top 5 and bottom 5 Selected Countries"
        },
        "width": 1500,
        "xaxis": {
         "anchor": "y",
         "domain": [
          0,
          1
         ],
         "title": {
          "text": "Year"
         }
        },
        "yaxis": {
         "anchor": "x",
         "domain": [
          0,
          1
         ],
         "title": {
          "text": "Life Expectancy"
         }
        }
       }
      }
     },
     "metadata": {},
     "output_type": "display_data"
    }
   ],
   "source": [
    "fig = px.line(filtered_df, x='Year', y='Life expectancy ', color='Country',title='Life Expectancy Over the Years for the top 5 and bottom 5 Selected Countries')\n",
    "fig.update_layout(\n",
    "    xaxis_title='Year',\n",
    "    yaxis_title='Life Expectancy',\n",
    "    legend_title='Country',\n",
    "    font=dict(size=15),\n",
    "    width=1500,\n",
    "    height=1000,\n",
    "    margin=dict(l=20, r=20, t=60, b=20))\n",
    "\n",
    "fig.show()"
   ]
  },
  {
   "cell_type": "markdown",
   "metadata": {},
   "source": []
  },
  {
   "cell_type": "markdown",
   "metadata": {},
   "source": [
    "#### 3.Violin Plot for Life Expectancy by Continent "
   ]
  },
  {
   "cell_type": "code",
   "execution_count": 104,
   "metadata": {},
   "outputs": [
    {
     "data": {
      "application/vnd.plotly.v1+json": {
       "config": {
        "plotlyServerURL": "https://plot.ly"
       },
       "data": [
        {
         "alignmentgroup": "True",
         "box": {
          "visible": true
         },
         "hovertemplate": "Continent=%{x}<br>Life expectancy =%{y}<extra></extra>",
         "legendgroup": "Asia",
         "marker": {
          "color": "#636efa"
         },
         "name": "Asia",
         "offsetgroup": "Asia",
         "orientation": "v",
         "scalegroup": "True",
         "showlegend": true,
         "type": "violin",
         "x": [
          "Asia",
          "Asia",
          "Asia",
          "Asia",
          "Asia",
          "Asia",
          "Asia",
          "Asia",
          "Asia",
          "Asia",
          "Asia",
          "Asia",
          "Asia",
          "Asia",
          "Asia",
          "Asia",
          "Asia",
          "Asia",
          "Asia",
          "Asia",
          "Asia",
          "Asia",
          "Asia",
          "Asia",
          "Asia",
          "Asia",
          "Asia",
          "Asia",
          "Asia",
          "Asia",
          "Asia",
          "Asia",
          "Asia",
          "Asia",
          "Asia",
          "Asia",
          "Asia",
          "Asia",
          "Asia",
          "Asia",
          "Asia",
          "Asia",
          "Asia",
          "Asia",
          "Asia",
          "Asia",
          "Asia",
          "Asia",
          "Asia",
          "Asia",
          "Asia",
          "Asia",
          "Asia",
          "Asia",
          "Asia",
          "Asia",
          "Asia",
          "Asia",
          "Asia",
          "Asia",
          "Asia",
          "Asia",
          "Asia",
          "Asia",
          "Asia",
          "Asia",
          "Asia",
          "Asia",
          "Asia",
          "Asia",
          "Asia",
          "Asia",
          "Asia",
          "Asia",
          "Asia",
          "Asia",
          "Asia",
          "Asia",
          "Asia",
          "Asia",
          "Asia",
          "Asia",
          "Asia",
          "Asia",
          "Asia",
          "Asia",
          "Asia",
          "Asia",
          "Asia",
          "Asia",
          "Asia",
          "Asia",
          "Asia",
          "Asia",
          "Asia",
          "Asia",
          "Asia",
          "Asia",
          "Asia",
          "Asia",
          "Asia",
          "Asia",
          "Asia",
          "Asia",
          "Asia",
          "Asia",
          "Asia",
          "Asia",
          "Asia",
          "Asia",
          "Asia",
          "Asia",
          "Asia",
          "Asia",
          "Asia",
          "Asia",
          "Asia",
          "Asia",
          "Asia",
          "Asia",
          "Asia",
          "Asia",
          "Asia",
          "Asia",
          "Asia",
          "Asia",
          "Asia",
          "Asia",
          "Asia",
          "Asia",
          "Asia",
          "Asia",
          "Asia",
          "Asia",
          "Asia",
          "Asia",
          "Asia",
          "Asia",
          "Asia",
          "Asia",
          "Asia",
          "Asia",
          "Asia",
          "Asia",
          "Asia",
          "Asia",
          "Asia",
          "Asia",
          "Asia",
          "Asia",
          "Asia",
          "Asia",
          "Asia",
          "Asia",
          "Asia",
          "Asia",
          "Asia",
          "Asia",
          "Asia",
          "Asia",
          "Asia",
          "Asia",
          "Asia",
          "Asia",
          "Asia",
          "Asia",
          "Asia",
          "Asia",
          "Asia",
          "Asia",
          "Asia",
          "Asia",
          "Asia",
          "Asia",
          "Asia",
          "Asia",
          "Asia",
          "Asia",
          "Asia",
          "Asia",
          "Asia",
          "Asia",
          "Asia",
          "Asia",
          "Asia",
          "Asia",
          "Asia",
          "Asia",
          "Asia",
          "Asia",
          "Asia",
          "Asia",
          "Asia",
          "Asia",
          "Asia",
          "Asia",
          "Asia",
          "Asia",
          "Asia",
          "Asia",
          "Asia",
          "Asia",
          "Asia",
          "Asia",
          "Asia",
          "Asia",
          "Asia",
          "Asia",
          "Asia",
          "Asia",
          "Asia",
          "Asia",
          "Asia",
          "Asia",
          "Asia",
          "Asia",
          "Asia",
          "Asia",
          "Asia",
          "Asia",
          "Asia",
          "Asia",
          "Asia",
          "Asia",
          "Asia",
          "Asia",
          "Asia",
          "Asia",
          "Asia",
          "Asia",
          "Asia",
          "Asia",
          "Asia",
          "Asia",
          "Asia",
          "Asia",
          "Asia",
          "Asia",
          "Asia",
          "Asia",
          "Asia",
          "Asia",
          "Asia",
          "Asia",
          "Asia",
          "Asia",
          "Asia",
          "Asia",
          "Asia",
          "Asia",
          "Asia",
          "Asia",
          "Asia",
          "Asia",
          "Asia",
          "Asia",
          "Asia",
          "Asia",
          "Asia",
          "Asia",
          "Asia",
          "Asia",
          "Asia",
          "Asia",
          "Asia",
          "Asia",
          "Asia",
          "Asia",
          "Asia",
          "Asia",
          "Asia",
          "Asia",
          "Asia",
          "Asia",
          "Asia",
          "Asia",
          "Asia",
          "Asia",
          "Asia",
          "Asia",
          "Asia",
          "Asia",
          "Asia",
          "Asia",
          "Asia",
          "Asia",
          "Asia",
          "Asia",
          "Asia",
          "Asia",
          "Asia",
          "Asia",
          "Asia",
          "Asia",
          "Asia",
          "Asia",
          "Asia",
          "Asia",
          "Asia",
          "Asia",
          "Asia",
          "Asia",
          "Asia",
          "Asia",
          "Asia",
          "Asia",
          "Asia",
          "Asia",
          "Asia",
          "Asia",
          "Asia",
          "Asia",
          "Asia",
          "Asia",
          "Asia",
          "Asia",
          "Asia",
          "Asia",
          "Asia",
          "Asia",
          "Asia",
          "Asia",
          "Asia",
          "Asia",
          "Asia",
          "Asia",
          "Asia",
          "Asia",
          "Asia",
          "Asia",
          "Asia",
          "Asia",
          "Asia",
          "Asia",
          "Asia",
          "Asia",
          "Asia",
          "Asia",
          "Asia",
          "Asia",
          "Asia",
          "Asia",
          "Asia",
          "Asia",
          "Asia",
          "Asia",
          "Asia",
          "Asia",
          "Asia",
          "Asia",
          "Asia",
          "Asia",
          "Asia",
          "Asia",
          "Asia",
          "Asia",
          "Asia",
          "Asia",
          "Asia",
          "Asia",
          "Asia",
          "Asia",
          "Asia",
          "Asia",
          "Asia",
          "Asia",
          "Asia",
          "Asia",
          "Asia",
          "Asia",
          "Asia",
          "Asia",
          "Asia",
          "Asia",
          "Asia",
          "Asia",
          "Asia",
          "Asia",
          "Asia",
          "Asia",
          "Asia",
          "Asia",
          "Asia",
          "Asia",
          "Asia",
          "Asia",
          "Asia",
          "Asia",
          "Asia",
          "Asia",
          "Asia",
          "Asia",
          "Asia",
          "Asia",
          "Asia",
          "Asia",
          "Asia",
          "Asia",
          "Asia",
          "Asia",
          "Asia",
          "Asia",
          "Asia",
          "Asia",
          "Asia",
          "Asia",
          "Asia"
         ],
         "x0": " ",
         "xaxis": "x",
         "y": [
          65,
          59.9,
          59.9,
          59.5,
          59.2,
          58.8,
          58.6,
          58.1,
          57.5,
          57.3,
          57.3,
          57,
          56.7,
          56.2,
          55.3,
          54.8,
          74.6,
          74.4,
          74.4,
          73.9,
          73.5,
          73.3,
          73.2,
          73.5,
          72.9,
          73,
          73,
          72.7,
          72.6,
          72.6,
          72,
          72.5,
          72.2,
          71.9,
          71.6,
          71.1,
          78,
          73,
          73,
          69.2,
          68.4,
          68.4,
          67.8,
          67.8,
          71.4,
          71,
          77,
          73,
          69.9,
          69.5,
          69.1,
          68.6,
          68.2,
          67.8,
          67.3,
          66.8,
          69.4,
          69.1,
          68.7,
          68.3,
          67.9,
          67.4,
          67,
          66.5,
          65.8,
          65,
          64.2,
          63.3,
          62.5,
          61.7,
          62,
          68.3,
          67.8,
          67.4,
          67,
          66.6,
          66.1,
          65.6,
          65,
          64.1,
          75.8,
          75.6,
          75.4,
          75.2,
          75,
          74.9,
          74.5,
          74.4,
          74.2,
          73.9,
          73.5,
          73.1,
          72.7,
          72.2,
          71.7,
          83,
          81,
          80,
          79.7,
          79.5,
          79.3,
          79.1,
          78.9,
          78.8,
          78.7,
          78.6,
          78.5,
          78.4,
          78.2,
          78.1,
          74.5,
          74.5,
          74.2,
          73.9,
          73.8,
          73.2,
          73.9,
          74.4,
          73.9,
          73.9,
          72.3,
          72.7,
          71.7,
          73,
          71.8,
          68,
          67.6,
          67.3,
          66.8,
          66.4,
          66,
          65.5,
          65.2,
          64.8,
          64.4,
          64,
          68.9,
          68.7,
          68.5,
          68.3,
          68.1,
          67.9,
          67.7,
          67.5,
          67.3,
          67.2,
          65.3,
          66.9,
          66.7,
          66.5,
          66.3,
          67.9,
          69.5,
          76,
          77,
          76,
          74,
          69.3,
          65.9,
          64.7,
          66.8,
          67.2,
          82.2,
          82.1,
          81.8,
          81.8,
          81.7,
          81.5,
          81,
          84,
          84,
          80,
          81,
          79.7,
          79.3,
          79.3,
          78.9,
          74,
          73.9,
          73.7,
          73.6,
          73.4,
          73.3,
          73.1,
          73,
          72.8,
          72.4,
          72.5,
          72.3,
          72.1,
          71.9,
          71.7,
          69.9,
          69.5,
          69.1,
          68.5,
          67.8,
          67.8,
          66.6,
          65.3,
          65,
          64.6,
          64.7,
          64.4,
          64.7,
          64.4,
          63.9,
          74.8,
          74.9,
          75,
          75,
          74.9,
          74.7,
          74.5,
          74.4,
          74.1,
          73.9,
          73.7,
          73.5,
          73.2,
          73,
          72.7,
          74.8,
          74.6,
          74.5,
          74.3,
          74.1,
          74,
          73.8,
          73.7,
          73.6,
          73.4,
          73.2,
          73.1,
          72.9,
          72.7,
          72.4,
          78.2,
          77.9,
          77.6,
          77.3,
          76.7,
          76.3,
          75.9,
          75.4,
          75,
          74.3,
          73.4,
          72.7,
          71.8,
          78,
          69.6,
          68.4,
          68.1,
          67.8,
          67.3,
          66.3,
          66.9,
          67.4,
          65.9,
          65,
          64.5,
          64,
          64,
          63.8,
          63.2,
          62.8,
          66.4,
          66.2,
          65.9,
          65.6,
          65.4,
          65.2,
          59.2,
          64.5,
          64.2,
          63.9,
          63.5,
          63.2,
          69.6,
          69.3,
          68.9,
          68.4,
          68,
          67.5,
          67,
          66.6,
          66,
          65.4,
          64.7,
          64.3,
          66.2,
          66,
          65.7,
          65.5,
          65.1,
          64.8,
          64.6,
          64.4,
          64.2,
          62.9,
          63.7,
          63.5,
          68.4,
          68.1,
          68.1,
          68,
          67.9,
          68,
          67.5,
          67.5,
          67.3,
          67,
          67.3,
          67.2,
          66.8,
          66.8,
          66.8,
          74.7,
          74.6,
          74.5,
          74.5,
          74.5,
          71.8,
          72.3,
          73.7,
          73.8,
          74.2,
          69.1,
          73.9,
          73.8,
          73.7,
          73.5,
          73.2,
          73,
          72.8,
          72.7,
          72.6,
          69.6,
          69.3,
          68.8,
          68.1,
          67.3,
          66.7,
          66.4,
          66.1,
          65.9,
          65.5,
          65.9,
          65.2,
          64.3,
          74.6,
          74.5,
          74.3,
          74.1,
          73.9,
          73.7,
          73.5,
          73.3,
          73,
          72.5,
          71.6,
          71.7,
          71.4,
          71.2,
          71.1,
          75.5,
          75.2,
          74.8,
          74.5,
          74.2,
          73.9,
          73.5,
          73.2,
          72.8,
          72.4,
          72,
          71.6,
          71.2,
          78,
          74,
          66,
          65.4,
          65.6,
          65.6,
          65.8,
          65.6,
          64.5,
          64.1,
          63.7,
          63.3,
          63.5,
          63.4,
          63.3,
          69.2,
          69.1,
          68.8,
          68.5,
          68.3,
          68,
          67.9,
          67.8,
          67.6,
          67.3,
          67.8,
          67.2,
          67.1
         ],
         "y0": " ",
         "yaxis": "y"
        },
        {
         "alignmentgroup": "True",
         "box": {
          "visible": true
         },
         "hovertemplate": "Continent=%{x}<br>Life expectancy =%{y}<extra></extra>",
         "legendgroup": "Europe",
         "marker": {
          "color": "#EF553B"
         },
         "name": "Europe",
         "offsetgroup": "Europe",
         "orientation": "v",
         "scalegroup": "True",
         "showlegend": true,
         "type": "violin",
         "x": [
          "Europe",
          "Europe",
          "Europe",
          "Europe",
          "Europe",
          "Europe",
          "Europe",
          "Europe",
          "Europe",
          "Europe",
          "Europe",
          "Europe",
          "Europe",
          "Europe",
          "Europe",
          "Europe",
          "Europe",
          "Europe",
          "Europe",
          "Europe",
          "Europe",
          "Europe",
          "Europe",
          "Europe",
          "Europe",
          "Europe",
          "Europe",
          "Europe",
          "Europe",
          "Europe",
          "Europe",
          "Europe",
          "Europe",
          "Europe",
          "Europe",
          "Europe",
          "Europe",
          "Europe",
          "Europe",
          "Europe",
          "Europe",
          "Europe",
          "Europe",
          "Europe",
          "Europe",
          "Europe",
          "Europe",
          "Europe",
          "Europe",
          "Europe",
          "Europe",
          "Europe",
          "Europe",
          "Europe",
          "Europe",
          "Europe",
          "Europe",
          "Europe",
          "Europe",
          "Europe",
          "Europe",
          "Europe",
          "Europe",
          "Europe",
          "Europe",
          "Europe",
          "Europe",
          "Europe",
          "Europe",
          "Europe",
          "Europe",
          "Europe",
          "Europe",
          "Europe",
          "Europe",
          "Europe",
          "Europe",
          "Europe",
          "Europe",
          "Europe",
          "Europe",
          "Europe",
          "Europe",
          "Europe",
          "Europe",
          "Europe",
          "Europe",
          "Europe",
          "Europe",
          "Europe",
          "Europe",
          "Europe",
          "Europe",
          "Europe",
          "Europe",
          "Europe",
          "Europe",
          "Europe",
          "Europe",
          "Europe",
          "Europe",
          "Europe",
          "Europe",
          "Europe",
          "Europe",
          "Europe",
          "Europe",
          "Europe",
          "Europe",
          "Europe",
          "Europe",
          "Europe",
          "Europe",
          "Europe",
          "Europe",
          "Europe",
          "Europe",
          "Europe",
          "Europe",
          "Europe",
          "Europe",
          "Europe",
          "Europe",
          "Europe",
          "Europe",
          "Europe",
          "Europe",
          "Europe",
          "Europe",
          "Europe",
          "Europe",
          "Europe",
          "Europe",
          "Europe",
          "Europe",
          "Europe",
          "Europe",
          "Europe",
          "Europe",
          "Europe",
          "Europe",
          "Europe",
          "Europe",
          "Europe",
          "Europe",
          "Europe",
          "Europe",
          "Europe",
          "Europe",
          "Europe",
          "Europe",
          "Europe",
          "Europe",
          "Europe",
          "Europe",
          "Europe",
          "Europe",
          "Europe",
          "Europe",
          "Europe",
          "Europe",
          "Europe",
          "Europe",
          "Europe",
          "Europe",
          "Europe",
          "Europe",
          "Europe",
          "Europe",
          "Europe",
          "Europe",
          "Europe",
          "Europe",
          "Europe",
          "Europe",
          "Europe",
          "Europe",
          "Europe",
          "Europe",
          "Europe",
          "Europe",
          "Europe",
          "Europe",
          "Europe",
          "Europe",
          "Europe",
          "Europe",
          "Europe",
          "Europe",
          "Europe",
          "Europe",
          "Europe",
          "Europe",
          "Europe",
          "Europe",
          "Europe",
          "Europe",
          "Europe",
          "Europe",
          "Europe",
          "Europe",
          "Europe",
          "Europe",
          "Europe",
          "Europe",
          "Europe",
          "Europe",
          "Europe",
          "Europe",
          "Europe",
          "Europe",
          "Europe",
          "Europe",
          "Europe",
          "Europe",
          "Europe",
          "Europe",
          "Europe",
          "Europe",
          "Europe",
          "Europe",
          "Europe",
          "Europe",
          "Europe",
          "Europe",
          "Europe",
          "Europe",
          "Europe",
          "Europe",
          "Europe",
          "Europe",
          "Europe",
          "Europe",
          "Europe",
          "Europe",
          "Europe",
          "Europe",
          "Europe",
          "Europe",
          "Europe",
          "Europe",
          "Europe",
          "Europe",
          "Europe",
          "Europe",
          "Europe",
          "Europe",
          "Europe",
          "Europe",
          "Europe",
          "Europe",
          "Europe",
          "Europe",
          "Europe",
          "Europe",
          "Europe",
          "Europe",
          "Europe",
          "Europe",
          "Europe",
          "Europe",
          "Europe",
          "Europe",
          "Europe",
          "Europe",
          "Europe",
          "Europe",
          "Europe",
          "Europe",
          "Europe",
          "Europe",
          "Europe",
          "Europe",
          "Europe",
          "Europe",
          "Europe",
          "Europe",
          "Europe",
          "Europe",
          "Europe",
          "Europe",
          "Europe",
          "Europe",
          "Europe",
          "Europe",
          "Europe",
          "Europe",
          "Europe",
          "Europe",
          "Europe",
          "Europe",
          "Europe",
          "Europe",
          "Europe",
          "Europe",
          "Europe",
          "Europe",
          "Europe",
          "Europe",
          "Europe",
          "Europe",
          "Europe",
          "Europe",
          "Europe",
          "Europe",
          "Europe",
          "Europe",
          "Europe",
          "Europe",
          "Europe",
          "Europe",
          "Europe",
          "Europe",
          "Europe",
          "Europe",
          "Europe",
          "Europe",
          "Europe",
          "Europe",
          "Europe",
          "Europe",
          "Europe",
          "Europe",
          "Europe",
          "Europe",
          "Europe",
          "Europe",
          "Europe",
          "Europe",
          "Europe",
          "Europe",
          "Europe",
          "Europe",
          "Europe",
          "Europe",
          "Europe",
          "Europe",
          "Europe",
          "Europe",
          "Europe",
          "Europe",
          "Europe",
          "Europe",
          "Europe",
          "Europe"
         ],
         "x0": " ",
         "xaxis": "x",
         "y": [
          77.8,
          77.5,
          77.2,
          76.9,
          76.6,
          76.2,
          76.1,
          75.3,
          75.9,
          74.2,
          73.5,
          73,
          72.8,
          73.3,
          73.6,
          72.6,
          81.4,
          81.1,
          88,
          88,
          84,
          82,
          84,
          81,
          79.8,
          79.4,
          79.3,
          78.8,
          78.7,
          78.6,
          78.1,
          72,
          71.7,
          71.9,
          72,
          73,
          70,
          70,
          69.8,
          68.9,
          68.1,
          68.2,
          67.7,
          67.2,
          67.7,
          68,
          89,
          87,
          83,
          83,
          80,
          79.8,
          79.5,
          79.5,
          79.4,
          78.9,
          78.8,
          78.3,
          78,
          78,
          77.6,
          77.2,
          77,
          76.8,
          76.9,
          76.4,
          76.1,
          76,
          75.4,
          75.7,
          75,
          75.5,
          74.3,
          74.1,
          73.9,
          73.7,
          73.4,
          73.2,
          72.9,
          72.6,
          72.2,
          72.1,
          72.2,
          72,
          71.8,
          71.6,
          71.1,
          77.8,
          77.7,
          77.1,
          77,
          76.6,
          76.3,
          76,
          75.8,
          77.3,
          76.9,
          76.3,
          76.1,
          75.6,
          74.9,
          74.2,
          73,
          73,
          72.8,
          72.3,
          82.2,
          82,
          81.5,
          81.7,
          81.3,
          81.1,
          89,
          89,
          86,
          81,
          82,
          79.3,
          79.2,
          79,
          78.8,
          89,
          86,
          86,
          85,
          81,
          80,
          79.9,
          79.8,
          79.6,
          79.2,
          79.1,
          78.5,
          78.4,
          78.3,
          78,
          88,
          86,
          84,
          85,
          83,
          80,
          79.9,
          79.4,
          79.7,
          79.3,
          79.2,
          79.1,
          79,
          78.7,
          78.2,
          81.2,
          81,
          85,
          84,
          86,
          82.5,
          82.3,
          82,
          82,
          81.8,
          81.6,
          81.5,
          81.3,
          81.2,
          88,
          89,
          79.9,
          80,
          79.8,
          79.4,
          74.4,
          74.1,
          73.8,
          73.6,
          72.8,
          72.6,
          71.9,
          78,
          75,
          76,
          71,
          78,
          73,
          69.9,
          71,
          73.4,
          73,
          73,
          72.8,
          72.4,
          72.2,
          71.1,
          72,
          76,
          78,
          71.6,
          71.6,
          71.4,
          71.2,
          71.6,
          81.7,
          81.4,
          81.1,
          88,
          86,
          83,
          80,
          79.7,
          79.4,
          78.8,
          78.7,
          78.6,
          78.3,
          78,
          77.8,
          81.4,
          81.1,
          81,
          87,
          83,
          82,
          80,
          79.6,
          79.3,
          79,
          78.7,
          78.5,
          75.9,
          75.8,
          75.6,
          75.4,
          75.3,
          75,
          74.6,
          74.2,
          73.8,
          81.7,
          81.4,
          81.1,
          81.1,
          77.3,
          77.1,
          76.8,
          76.7,
          76.3,
          75.7,
          75.5,
          75.3,
          75.2,
          75,
          74.9,
          74.7,
          74.5,
          74.2,
          73.7,
          89,
          86,
          83,
          82,
          79.6,
          79.3,
          79,
          78.7,
          78.5,
          77.7,
          78,
          77.3,
          77.2,
          76.9,
          76.6,
          74.8,
          74.6,
          74.4,
          74.3,
          73.4,
          73.1,
          73.1,
          72.9,
          72.5,
          71.9,
          71.7,
          71.1,
          77,
          78,
          77,
          73,
          70,
          69.6,
          69.4,
          68.4,
          68.2,
          67.5,
          67.3,
          66.4,
          65,
          64.9,
          64.6,
          64.8,
          65.1,
          75.4,
          75.3,
          74.9,
          74.6,
          74.4,
          74.1,
          74,
          73.8,
          73.6,
          73,
          73,
          82.6,
          82.4,
          82,
          82.1,
          81.9,
          81.6,
          81.3,
          89,
          88,
          81,
          81,
          79.4,
          79.5,
          79.4,
          79.1,
          82.3,
          81.9,
          81.7,
          81.7,
          78,
          71,
          77,
          75,
          69.8,
          69.2,
          67.7,
          67.5,
          67.7,
          67,
          67.4,
          67.6,
          67.6,
          67.7,
          67.5
         ],
         "y0": " ",
         "yaxis": "y"
        },
        {
         "alignmentgroup": "True",
         "box": {
          "visible": true
         },
         "hovertemplate": "Continent=%{x}<br>Life expectancy =%{y}<extra></extra>",
         "legendgroup": "Africa",
         "marker": {
          "color": "#00cc96"
         },
         "name": "Africa",
         "offsetgroup": "Africa",
         "orientation": "v",
         "scalegroup": "True",
         "showlegend": true,
         "type": "violin",
         "x": [
          "Africa",
          "Africa",
          "Africa",
          "Africa",
          "Africa",
          "Africa",
          "Africa",
          "Africa",
          "Africa",
          "Africa",
          "Africa",
          "Africa",
          "Africa",
          "Africa",
          "Africa",
          "Africa",
          "Africa",
          "Africa",
          "Africa",
          "Africa",
          "Africa",
          "Africa",
          "Africa",
          "Africa",
          "Africa",
          "Africa",
          "Africa",
          "Africa",
          "Africa",
          "Africa",
          "Africa",
          "Africa",
          "Africa",
          "Africa",
          "Africa",
          "Africa",
          "Africa",
          "Africa",
          "Africa",
          "Africa",
          "Africa",
          "Africa",
          "Africa",
          "Africa",
          "Africa",
          "Africa",
          "Africa",
          "Africa",
          "Africa",
          "Africa",
          "Africa",
          "Africa",
          "Africa",
          "Africa",
          "Africa",
          "Africa",
          "Africa",
          "Africa",
          "Africa",
          "Africa",
          "Africa",
          "Africa",
          "Africa",
          "Africa",
          "Africa",
          "Africa",
          "Africa",
          "Africa",
          "Africa",
          "Africa",
          "Africa",
          "Africa",
          "Africa",
          "Africa",
          "Africa",
          "Africa",
          "Africa",
          "Africa",
          "Africa",
          "Africa",
          "Africa",
          "Africa",
          "Africa",
          "Africa",
          "Africa",
          "Africa",
          "Africa",
          "Africa",
          "Africa",
          "Africa",
          "Africa",
          "Africa",
          "Africa",
          "Africa",
          "Africa",
          "Africa",
          "Africa",
          "Africa",
          "Africa",
          "Africa",
          "Africa",
          "Africa",
          "Africa",
          "Africa",
          "Africa",
          "Africa",
          "Africa",
          "Africa",
          "Africa",
          "Africa",
          "Africa",
          "Africa",
          "Africa",
          "Africa",
          "Africa",
          "Africa",
          "Africa",
          "Africa",
          "Africa",
          "Africa",
          "Africa",
          "Africa",
          "Africa",
          "Africa",
          "Africa",
          "Africa",
          "Africa",
          "Africa",
          "Africa",
          "Africa",
          "Africa",
          "Africa",
          "Africa",
          "Africa",
          "Africa",
          "Africa",
          "Africa",
          "Africa",
          "Africa",
          "Africa",
          "Africa",
          "Africa",
          "Africa",
          "Africa",
          "Africa",
          "Africa",
          "Africa",
          "Africa",
          "Africa",
          "Africa",
          "Africa",
          "Africa",
          "Africa",
          "Africa",
          "Africa",
          "Africa",
          "Africa",
          "Africa",
          "Africa",
          "Africa",
          "Africa",
          "Africa",
          "Africa",
          "Africa",
          "Africa",
          "Africa",
          "Africa",
          "Africa",
          "Africa",
          "Africa",
          "Africa",
          "Africa",
          "Africa",
          "Africa",
          "Africa",
          "Africa",
          "Africa",
          "Africa",
          "Africa",
          "Africa",
          "Africa",
          "Africa",
          "Africa",
          "Africa",
          "Africa",
          "Africa",
          "Africa",
          "Africa",
          "Africa",
          "Africa",
          "Africa",
          "Africa",
          "Africa",
          "Africa",
          "Africa",
          "Africa",
          "Africa",
          "Africa",
          "Africa",
          "Africa",
          "Africa",
          "Africa",
          "Africa",
          "Africa",
          "Africa",
          "Africa",
          "Africa",
          "Africa",
          "Africa",
          "Africa",
          "Africa",
          "Africa",
          "Africa",
          "Africa",
          "Africa",
          "Africa",
          "Africa",
          "Africa",
          "Africa",
          "Africa",
          "Africa",
          "Africa",
          "Africa",
          "Africa",
          "Africa",
          "Africa",
          "Africa",
          "Africa",
          "Africa",
          "Africa",
          "Africa",
          "Africa",
          "Africa",
          "Africa",
          "Africa",
          "Africa",
          "Africa",
          "Africa",
          "Africa",
          "Africa",
          "Africa",
          "Africa",
          "Africa",
          "Africa",
          "Africa",
          "Africa",
          "Africa",
          "Africa",
          "Africa",
          "Africa",
          "Africa",
          "Africa",
          "Africa",
          "Africa",
          "Africa",
          "Africa",
          "Africa",
          "Africa",
          "Africa",
          "Africa",
          "Africa",
          "Africa",
          "Africa",
          "Africa",
          "Africa",
          "Africa",
          "Africa",
          "Africa",
          "Africa",
          "Africa",
          "Africa",
          "Africa",
          "Africa",
          "Africa",
          "Africa",
          "Africa",
          "Africa",
          "Africa",
          "Africa",
          "Africa",
          "Africa",
          "Africa",
          "Africa",
          "Africa",
          "Africa",
          "Africa",
          "Africa",
          "Africa",
          "Africa",
          "Africa",
          "Africa",
          "Africa",
          "Africa",
          "Africa",
          "Africa",
          "Africa",
          "Africa",
          "Africa",
          "Africa",
          "Africa",
          "Africa",
          "Africa",
          "Africa",
          "Africa",
          "Africa",
          "Africa",
          "Africa",
          "Africa",
          "Africa",
          "Africa",
          "Africa",
          "Africa",
          "Africa",
          "Africa",
          "Africa",
          "Africa",
          "Africa",
          "Africa",
          "Africa",
          "Africa",
          "Africa",
          "Africa",
          "Africa",
          "Africa",
          "Africa",
          "Africa",
          "Africa",
          "Africa",
          "Africa",
          "Africa",
          "Africa",
          "Africa",
          "Africa",
          "Africa",
          "Africa",
          "Africa",
          "Africa",
          "Africa",
          "Africa",
          "Africa",
          "Africa",
          "Africa",
          "Africa",
          "Africa",
          "Africa",
          "Africa",
          "Africa",
          "Africa",
          "Africa",
          "Africa",
          "Africa",
          "Africa",
          "Africa",
          "Africa",
          "Africa",
          "Africa",
          "Africa",
          "Africa",
          "Africa",
          "Africa",
          "Africa",
          "Africa",
          "Africa",
          "Africa",
          "Africa",
          "Africa",
          "Africa",
          "Africa",
          "Africa",
          "Africa",
          "Africa",
          "Africa",
          "Africa",
          "Africa",
          "Africa",
          "Africa",
          "Africa",
          "Africa",
          "Africa",
          "Africa",
          "Africa",
          "Africa",
          "Africa",
          "Africa",
          "Africa",
          "Africa",
          "Africa",
          "Africa",
          "Africa",
          "Africa",
          "Africa",
          "Africa",
          "Africa",
          "Africa",
          "Africa",
          "Africa",
          "Africa",
          "Africa",
          "Africa",
          "Africa",
          "Africa",
          "Africa",
          "Africa",
          "Africa",
          "Africa",
          "Africa",
          "Africa",
          "Africa",
          "Africa",
          "Africa",
          "Africa",
          "Africa",
          "Africa",
          "Africa",
          "Africa",
          "Africa",
          "Africa",
          "Africa",
          "Africa",
          "Africa",
          "Africa",
          "Africa",
          "Africa",
          "Africa",
          "Africa",
          "Africa",
          "Africa",
          "Africa",
          "Africa",
          "Africa",
          "Africa",
          "Africa",
          "Africa",
          "Africa",
          "Africa",
          "Africa",
          "Africa",
          "Africa",
          "Africa",
          "Africa",
          "Africa",
          "Africa",
          "Africa",
          "Africa",
          "Africa",
          "Africa",
          "Africa",
          "Africa",
          "Africa",
          "Africa",
          "Africa",
          "Africa",
          "Africa",
          "Africa",
          "Africa",
          "Africa",
          "Africa",
          "Africa",
          "Africa",
          "Africa",
          "Africa",
          "Africa",
          "Africa",
          "Africa",
          "Africa",
          "Africa",
          "Africa",
          "Africa",
          "Africa",
          "Africa",
          "Africa",
          "Africa",
          "Africa"
         ],
         "x0": " ",
         "xaxis": "x",
         "y": [
          75.4,
          75.3,
          75.1,
          74.9,
          74.7,
          74.4,
          74.1,
          73.8,
          73.4,
          72.9,
          72.3,
          51.7,
          51.1,
          56,
          51,
          49.6,
          49.1,
          48.7,
          48.2,
          59.7,
          59.5,
          59.3,
          59.1,
          58.7,
          58.4,
          57.6,
          57.1,
          56.8,
          56.5,
          56.1,
          55.8,
          55.6,
          65.1,
          64.2,
          63.4,
          62.2,
          61.1,
          59.2,
          57.5,
          56.9,
          54.8,
          51.7,
          48.1,
          46.4,
          46,
          46.7,
          47.8,
          59.3,
          59,
          58.6,
          58.1,
          57.5,
          56.9,
          56.1,
          55.3,
          54.3,
          59.1,
          58.6,
          58,
          57.4,
          56.8,
          56.2,
          55.3,
          54.8,
          54.1,
          53.4,
          52.6,
          73,
          72.8,
          72.7,
          72.6,
          72.5,
          72.4,
          72.4,
          72.3,
          72.1,
          71.8,
          71.4,
          71.1,
          77,
          56.7,
          56.4,
          55.9,
          55.6,
          55.3,
          54.8,
          54.2,
          53.6,
          53.3,
          52.8,
          58,
          49.9,
          53,
          49.8,
          49.2,
          48.6,
          52.6,
          52.2,
          51.8,
          51.6,
          51.2,
          57,
          49.6,
          63.2,
          62.9,
          62.5,
          62.2,
          61.8,
          61.3,
          61,
          66,
          63,
          60,
          59.8,
          59.6,
          63,
          62.7,
          62.2,
          61.8,
          61.3,
          69,
          62,
          59.8,
          57.9,
          62.9,
          62.1,
          61.4,
          67,
          62,
          59.7,
          59.4,
          59.1,
          58.8,
          58.5,
          64.2,
          63.7,
          63.3,
          62.6,
          61.8,
          68,
          59.8,
          58.5,
          65.5,
          64.6,
          63.5,
          62.8,
          62.3,
          61.7,
          61.6,
          61.6,
          61.4,
          65,
          62.1,
          61.9,
          61.6,
          61.2,
          69,
          66,
          63,
          59.9,
          59.4,
          58.9,
          58.3,
          57.9,
          57.6,
          58.1,
          58.8,
          58.4,
          58.1,
          57.8,
          57.3,
          56.8,
          56.4,
          58.4,
          58.1,
          57.6,
          57.1,
          56.7,
          56.3,
          62.9,
          62.6,
          62.1,
          61.2,
          63,
          59.1,
          57.9,
          56.8,
          55.3,
          54.1,
          53,
          52.4,
          52.1,
          52.1,
          52.1,
          52.2,
          52.3,
          51.1,
          49.4,
          47.8,
          46.2,
          45.3,
          44.5,
          44.8,
          45.5,
          58.1,
          61.1,
          67,
          62,
          59.7,
          59.2,
          58.6,
          65.1,
          64.7,
          64.3,
          63.8,
          63.3,
          62.8,
          62.3,
          61.9,
          61.4,
          69,
          64,
          59.9,
          59.3,
          57.6,
          56.7,
          55.3,
          54.1,
          52.9,
          51.5,
          50,
          48.5,
          47.1,
          46,
          45.1,
          44.6,
          44,
          57.8,
          57.3,
          57.2,
          56.8,
          56.5,
          56,
          55.5,
          55,
          54.3,
          53.6,
          52.8,
          52,
          63,
          62.7,
          62.5,
          62.2,
          62,
          61.7,
          61.4,
          61.2,
          69,
          66,
          74.2,
          74.1,
          73.9,
          73.6,
          73.3,
          72.8,
          72.7,
          72.9,
          71.8,
          72.1,
          71.9,
          71.5,
          71.5,
          71.5,
          71,
          74.1,
          73.9,
          73.6,
          73.3,
          72.8,
          72.3,
          71.8,
          71.4,
          71,
          77,
          72,
          69.9,
          69.5,
          69,
          68.6,
          56.7,
          55.3,
          54.8,
          54.3,
          54,
          53.8,
          53.2,
          52.1,
          51.2,
          58,
          54,
          51,
          49.8,
          49.5,
          65.9,
          66.1,
          65.8,
          64.3,
          63,
          61.4,
          69,
          63,
          59.4,
          58.2,
          57.1,
          53.6,
          53.2,
          52.7,
          52.3,
          52,
          51.6,
          59,
          55,
          49.8,
          49.2,
          65.7,
          65.2,
          64.6,
          63.8,
          62.8,
          61,
          68,
          59.6,
          57.6,
          55.3,
          53.4,
          52,
          57,
          67.3,
          67.1,
          66.9,
          66.6,
          66.2,
          65.8,
          65.4,
          65.1,
          64.7,
          64.3,
          63.8,
          63.4,
          66.4,
          66,
          65.6,
          64.9,
          64.3,
          63.5,
          62.8,
          62.1,
          61.3,
          65,
          59.7,
          73,
          72.9,
          72.7,
          72.6,
          72.4,
          72.3,
          72.2,
          72.2,
          72.2,
          72.2,
          72.1,
          72.1,
          72.1,
          72,
          71.8,
          48.1,
          54,
          49.7,
          48.9,
          48.1,
          47.1,
          46.2,
          45.3,
          62,
          69,
          59.2,
          58.9,
          58,
          56.5,
          55.3,
          54.5,
          54,
          53.8,
          53.7,
          54,
          54.9,
          56,
          57.3,
          58.4,
          57.6,
          56.5,
          55,
          53.6,
          52.6,
          51.4,
          50,
          47.8,
          46,
          45.6,
          45.9,
          46.4,
          47.1,
          48.4,
          59.7,
          59.4,
          58.9,
          58.3,
          57.4,
          56.7,
          56.2,
          75.1,
          74.9,
          74.9,
          74.8,
          74.8,
          74.7,
          74.7,
          74.6,
          74.4,
          74.2,
          74,
          73.7,
          73.5,
          73.2,
          72.9,
          61.5,
          67,
          60,
          59.3,
          58.4,
          57.5,
          56.3,
          55.5,
          54.9,
          53.2,
          51.3,
          51,
          48.8,
          61.1,
          63,
          59.2,
          58.2,
          58,
          57.4,
          55.7,
          52.6,
          58,
          49.3,
          59.2,
          58,
          56.6,
          54.9,
          52.4,
          50,
          48.2,
          46.6,
          45.4,
          44.6,
          44.3,
          44.5,
          44.8,
          45.3,
          46
         ],
         "y0": " ",
         "yaxis": "y"
        },
        {
         "alignmentgroup": "True",
         "box": {
          "visible": true
         },
         "hovertemplate": "Continent=%{x}<br>Life expectancy =%{y}<extra></extra>",
         "legendgroup": "South America",
         "marker": {
          "color": "#ab63fa"
         },
         "name": "South America",
         "offsetgroup": "South America",
         "orientation": "v",
         "scalegroup": "True",
         "showlegend": true,
         "type": "violin",
         "x": [
          "South America",
          "South America",
          "South America",
          "South America",
          "South America",
          "South America",
          "South America",
          "South America",
          "South America",
          "South America",
          "South America",
          "South America",
          "South America",
          "South America",
          "South America",
          "South America",
          "South America",
          "South America",
          "South America",
          "South America",
          "South America",
          "South America",
          "South America",
          "South America",
          "South America",
          "South America",
          "South America",
          "South America",
          "South America",
          "South America",
          "South America",
          "South America",
          "South America",
          "South America",
          "South America",
          "South America",
          "South America",
          "South America",
          "South America",
          "South America",
          "South America",
          "South America",
          "South America",
          "South America",
          "South America",
          "South America",
          "South America",
          "South America",
          "South America",
          "South America",
          "South America",
          "South America",
          "South America",
          "South America",
          "South America",
          "South America",
          "South America",
          "South America",
          "South America",
          "South America",
          "South America",
          "South America",
          "South America",
          "South America",
          "South America",
          "South America",
          "South America",
          "South America",
          "South America",
          "South America",
          "South America",
          "South America",
          "South America",
          "South America",
          "South America",
          "South America",
          "South America",
          "South America",
          "South America",
          "South America",
          "South America",
          "South America",
          "South America",
          "South America",
          "South America",
          "South America",
          "South America",
          "South America",
          "South America",
          "South America",
          "South America",
          "South America",
          "South America",
          "South America",
          "South America",
          "South America",
          "South America",
          "South America",
          "South America",
          "South America",
          "South America",
          "South America",
          "South America",
          "South America",
          "South America",
          "South America",
          "South America",
          "South America",
          "South America",
          "South America",
          "South America",
          "South America",
          "South America",
          "South America",
          "South America",
          "South America",
          "South America",
          "South America",
          "South America",
          "South America",
          "South America",
          "South America",
          "South America",
          "South America",
          "South America",
          "South America",
          "South America",
          "South America",
          "South America",
          "South America"
         ],
         "x0": " ",
         "xaxis": "x",
         "y": [
          76.2,
          76,
          75.9,
          75.7,
          75.5,
          75.6,
          75.4,
          74.8,
          75.2,
          74.9,
          74.7,
          74.1,
          74.1,
          74.8,
          74.7,
          74.5,
          74.1,
          73.8,
          73.6,
          73.4,
          73.3,
          73,
          72.7,
          72,
          71.8,
          71.4,
          71,
          75,
          83,
          81,
          79.9,
          79.8,
          79.1,
          79.3,
          79.6,
          78.9,
          78.9,
          74.6,
          74.4,
          74.3,
          74.2,
          73.6,
          73.6,
          73.5,
          73.5,
          73.1,
          73.1,
          72.8,
          72.4,
          71.8,
          71.5,
          71.4,
          76,
          76,
          75.5,
          75.3,
          75,
          75.1,
          74.6,
          74.7,
          74.4,
          74.2,
          74.4,
          74.4,
          73.6,
          73.4,
          72.8,
          66,
          65.9,
          65.8,
          65.6,
          65.9,
          66.1,
          66.3,
          65.7,
          65.2,
          65,
          65.1,
          65.3,
          65.3,
          65.4,
          73.9,
          73.8,
          73.6,
          73.4,
          73.2,
          73,
          72.7,
          72.5,
          72.3,
          72.1,
          71.9,
          71.7,
          75.3,
          75.3,
          74.9,
          74.5,
          73.7,
          73.8,
          73.9,
          74,
          74.2,
          72.8,
          72.2,
          72.1,
          71.4,
          71.2,
          71.3,
          76,
          73,
          70,
          69.8,
          69.5,
          69.3,
          68.9,
          76.8,
          76.8,
          76.5,
          77,
          76.3,
          76.6,
          76.4,
          75.4,
          76.2,
          75.7,
          75.4,
          75.4,
          75.4,
          75.2,
          75.1
         ],
         "y0": " ",
         "yaxis": "y"
        },
        {
         "alignmentgroup": "True",
         "box": {
          "visible": true
         },
         "hovertemplate": "Continent=%{x}<br>Life expectancy =%{y}<extra></extra>",
         "legendgroup": "Oceania",
         "marker": {
          "color": "#FFA15A"
         },
         "name": "Oceania",
         "offsetgroup": "Oceania",
         "orientation": "v",
         "scalegroup": "True",
         "showlegend": true,
         "type": "violin",
         "x": [
          "Oceania",
          "Oceania",
          "Oceania",
          "Oceania",
          "Oceania",
          "Oceania",
          "Oceania",
          "Oceania",
          "Oceania",
          "Oceania",
          "Oceania",
          "Oceania",
          "Oceania",
          "Oceania",
          "Oceania",
          "Oceania",
          "Oceania",
          "Oceania",
          "Oceania",
          "Oceania",
          "Oceania",
          "Oceania",
          "Oceania",
          "Oceania",
          "Oceania",
          "Oceania",
          "Oceania",
          "Oceania",
          "Oceania",
          "Oceania",
          "Oceania",
          "Oceania",
          "Oceania",
          "Oceania",
          "Oceania",
          "Oceania",
          "Oceania",
          "Oceania",
          "Oceania",
          "Oceania",
          "Oceania",
          "Oceania",
          "Oceania",
          "Oceania",
          "Oceania",
          "Oceania",
          "Oceania",
          "Oceania",
          "Oceania",
          "Oceania",
          "Oceania",
          "Oceania",
          "Oceania",
          "Oceania",
          "Oceania",
          "Oceania",
          "Oceania",
          "Oceania",
          "Oceania",
          "Oceania",
          "Oceania",
          "Oceania",
          "Oceania",
          "Oceania",
          "Oceania",
          "Oceania",
          "Oceania",
          "Oceania",
          "Oceania",
          "Oceania",
          "Oceania",
          "Oceania",
          "Oceania",
          "Oceania",
          "Oceania",
          "Oceania",
          "Oceania",
          "Oceania",
          "Oceania",
          "Oceania",
          "Oceania",
          "Oceania",
          "Oceania",
          "Oceania",
          "Oceania",
          "Oceania",
          "Oceania",
          "Oceania",
          "Oceania",
          "Oceania",
          "Oceania",
          "Oceania",
          "Oceania",
          "Oceania",
          "Oceania",
          "Oceania",
          "Oceania",
          "Oceania",
          "Oceania",
          "Oceania",
          "Oceania",
          "Oceania",
          "Oceania",
          "Oceania",
          "Oceania",
          "Oceania",
          "Oceania",
          "Oceania",
          "Oceania",
          "Oceania",
          "Oceania",
          "Oceania",
          "Oceania",
          "Oceania",
          "Oceania",
          "Oceania",
          "Oceania",
          "Oceania",
          "Oceania"
         ],
         "x0": " ",
         "xaxis": "x",
         "y": [
          82.7,
          82.5,
          82.3,
          82,
          81.9,
          81.7,
          81.3,
          81.3,
          81.2,
          81,
          86,
          83,
          79.9,
          79.9,
          69.7,
          69.6,
          69.4,
          69.2,
          69.1,
          68.9,
          68.7,
          68.6,
          68.5,
          68.3,
          68.1,
          68,
          67.9,
          67.8,
          67.7,
          66.1,
          65.8,
          65.7,
          65.5,
          65.3,
          65.2,
          65.1,
          65,
          65,
          64.9,
          64.8,
          64.7,
          64.6,
          64.3,
          64.1,
          62.7,
          62.4,
          62.2,
          62,
          61.8,
          61.6,
          61.4,
          61.1,
          68,
          64,
          59.9,
          59.6,
          59.3,
          59.1,
          58.9,
          73.8,
          73.6,
          73.2,
          73,
          72.6,
          76,
          72.5,
          72.2,
          72,
          71.6,
          71.4,
          79,
          76,
          75,
          72,
          68.8,
          68.8,
          68.7,
          68.5,
          68.3,
          68.1,
          68,
          67.6,
          67.6,
          67.4,
          67.1,
          66.8,
          66.5,
          66.2,
          65.8,
          73.3,
          73.2,
          73,
          72.9,
          72.8,
          72.5,
          72.6,
          72.5,
          72.4,
          72.3,
          72.2,
          72,
          71.9,
          71.8,
          71.6,
          71.7,
          71.6,
          71.4,
          71.2,
          71,
          78,
          75,
          73,
          71,
          69.9,
          69.6,
          69.4,
          69.3,
          69.1,
          69
         ],
         "y0": " ",
         "yaxis": "y"
        },
        {
         "alignmentgroup": "True",
         "box": {
          "visible": true
         },
         "hovertemplate": "Continent=%{x}<br>Life expectancy =%{y}<extra></extra>",
         "legendgroup": "North America",
         "marker": {
          "color": "#19d3f3"
         },
         "name": "North America",
         "offsetgroup": "North America",
         "orientation": "v",
         "scalegroup": "True",
         "showlegend": true,
         "type": "violin",
         "x": [
          "North America",
          "North America",
          "North America",
          "North America",
          "North America",
          "North America",
          "North America",
          "North America",
          "North America",
          "North America",
          "North America",
          "North America",
          "North America",
          "North America",
          "North America",
          "North America",
          "North America",
          "North America",
          "North America",
          "North America",
          "North America",
          "North America",
          "North America",
          "North America",
          "North America",
          "North America",
          "North America",
          "North America",
          "North America",
          "North America",
          "North America",
          "North America",
          "North America",
          "North America",
          "North America",
          "North America",
          "North America",
          "North America",
          "North America",
          "North America",
          "North America",
          "North America",
          "North America",
          "North America",
          "North America",
          "North America",
          "North America",
          "North America",
          "North America",
          "North America",
          "North America",
          "North America",
          "North America",
          "North America",
          "North America",
          "North America",
          "North America",
          "North America",
          "North America",
          "North America",
          "North America",
          "North America",
          "North America",
          "North America",
          "North America",
          "North America",
          "North America",
          "North America",
          "North America",
          "North America",
          "North America",
          "North America",
          "North America",
          "North America",
          "North America",
          "North America",
          "North America",
          "North America",
          "North America",
          "North America",
          "North America",
          "North America",
          "North America",
          "North America",
          "North America",
          "North America",
          "North America",
          "North America",
          "North America",
          "North America",
          "North America",
          "North America",
          "North America",
          "North America",
          "North America",
          "North America",
          "North America",
          "North America",
          "North America",
          "North America",
          "North America",
          "North America",
          "North America",
          "North America",
          "North America",
          "North America",
          "North America",
          "North America",
          "North America",
          "North America",
          "North America",
          "North America",
          "North America",
          "North America",
          "North America",
          "North America",
          "North America",
          "North America",
          "North America",
          "North America",
          "North America",
          "North America",
          "North America",
          "North America",
          "North America",
          "North America",
          "North America",
          "North America",
          "North America",
          "North America",
          "North America",
          "North America",
          "North America",
          "North America",
          "North America",
          "North America",
          "North America",
          "North America",
          "North America",
          "North America",
          "North America",
          "North America",
          "North America",
          "North America",
          "North America",
          "North America",
          "North America",
          "North America",
          "North America",
          "North America",
          "North America",
          "North America",
          "North America",
          "North America",
          "North America",
          "North America",
          "North America",
          "North America",
          "North America",
          "North America",
          "North America",
          "North America",
          "North America",
          "North America",
          "North America",
          "North America",
          "North America",
          "North America"
         ],
         "x0": " ",
         "xaxis": "x",
         "y": [
          70,
          69.8,
          69.4,
          69.4,
          69.5,
          69.5,
          69.6,
          69.6,
          69.4,
          69,
          68.7,
          68.4,
          68.5,
          68.2,
          68.3,
          82,
          81.8,
          81.6,
          81.5,
          81.2,
          81,
          87,
          85,
          85,
          81,
          80,
          79.7,
          79.5,
          79.4,
          79.2,
          79,
          78.1,
          79.2,
          78.9,
          78.9,
          78,
          78.6,
          77.7,
          78,
          78.3,
          77.5,
          77.6,
          73.6,
          73.4,
          72.1,
          73.1,
          72.7,
          73.6,
          73.3,
          72.9,
          72.3,
          69.7,
          69.3,
          73,
          71.4,
          71.2,
          72,
          73.3,
          73,
          73,
          72,
          72,
          71.4,
          71.7,
          71.2,
          75,
          71,
          70,
          69.9,
          73,
          68.9,
          69,
          71.7,
          71.4,
          71.3,
          71.1,
          77,
          76,
          79,
          75,
          69.7,
          69.2,
          63.1,
          62.7,
          74.5,
          74.3,
          74.1,
          73.9,
          73.6,
          73.4,
          73.2,
          73,
          72.8,
          72.5,
          72.2,
          71.9,
          71.6,
          71.3,
          71,
          75.8,
          75.6,
          75.3,
          75.2,
          75,
          74.7,
          74.5,
          74.2,
          74,
          73.5,
          73.3,
          73.1,
          76.6,
          76.6,
          76.3,
          76.1,
          75.6,
          75.7,
          75.6,
          76,
          75.8,
          75.3,
          75.4,
          75,
          75,
          75,
          74.8,
          74.5,
          73.9,
          73.9,
          74.5,
          73.2,
          73.2,
          72.5,
          72.5,
          73,
          71.2,
          71,
          76,
          75,
          73,
          73,
          77.6,
          77.5,
          77.2,
          77.3,
          76.5,
          76.8,
          76.5,
          76.4,
          76.2,
          75.8,
          75.8,
          75.5,
          75.7,
          75.5,
          71.1,
          71,
          78,
          76,
          74,
          71,
          69.9,
          69.7,
          69.6,
          69.5,
          69.4,
          69.3,
          69.2
         ],
         "y0": " ",
         "yaxis": "y"
        }
       ],
       "layout": {
        "font": {
         "size": 12
        },
        "height": 800,
        "legend": {
         "title": {
          "text": "Continent"
         },
         "tracegroupgap": 0
        },
        "margin": {
         "b": 20,
         "l": 20,
         "r": 20,
         "t": 60
        },
        "template": {
         "data": {
          "bar": [
           {
            "error_x": {
             "color": "#2a3f5f"
            },
            "error_y": {
             "color": "#2a3f5f"
            },
            "marker": {
             "line": {
              "color": "#E5ECF6",
              "width": 0.5
             },
             "pattern": {
              "fillmode": "overlay",
              "size": 10,
              "solidity": 0.2
             }
            },
            "type": "bar"
           }
          ],
          "barpolar": [
           {
            "marker": {
             "line": {
              "color": "#E5ECF6",
              "width": 0.5
             },
             "pattern": {
              "fillmode": "overlay",
              "size": 10,
              "solidity": 0.2
             }
            },
            "type": "barpolar"
           }
          ],
          "carpet": [
           {
            "aaxis": {
             "endlinecolor": "#2a3f5f",
             "gridcolor": "white",
             "linecolor": "white",
             "minorgridcolor": "white",
             "startlinecolor": "#2a3f5f"
            },
            "baxis": {
             "endlinecolor": "#2a3f5f",
             "gridcolor": "white",
             "linecolor": "white",
             "minorgridcolor": "white",
             "startlinecolor": "#2a3f5f"
            },
            "type": "carpet"
           }
          ],
          "choropleth": [
           {
            "colorbar": {
             "outlinewidth": 0,
             "ticks": ""
            },
            "type": "choropleth"
           }
          ],
          "contour": [
           {
            "colorbar": {
             "outlinewidth": 0,
             "ticks": ""
            },
            "colorscale": [
             [
              0,
              "#0d0887"
             ],
             [
              0.1111111111111111,
              "#46039f"
             ],
             [
              0.2222222222222222,
              "#7201a8"
             ],
             [
              0.3333333333333333,
              "#9c179e"
             ],
             [
              0.4444444444444444,
              "#bd3786"
             ],
             [
              0.5555555555555556,
              "#d8576b"
             ],
             [
              0.6666666666666666,
              "#ed7953"
             ],
             [
              0.7777777777777778,
              "#fb9f3a"
             ],
             [
              0.8888888888888888,
              "#fdca26"
             ],
             [
              1,
              "#f0f921"
             ]
            ],
            "type": "contour"
           }
          ],
          "contourcarpet": [
           {
            "colorbar": {
             "outlinewidth": 0,
             "ticks": ""
            },
            "type": "contourcarpet"
           }
          ],
          "heatmap": [
           {
            "colorbar": {
             "outlinewidth": 0,
             "ticks": ""
            },
            "colorscale": [
             [
              0,
              "#0d0887"
             ],
             [
              0.1111111111111111,
              "#46039f"
             ],
             [
              0.2222222222222222,
              "#7201a8"
             ],
             [
              0.3333333333333333,
              "#9c179e"
             ],
             [
              0.4444444444444444,
              "#bd3786"
             ],
             [
              0.5555555555555556,
              "#d8576b"
             ],
             [
              0.6666666666666666,
              "#ed7953"
             ],
             [
              0.7777777777777778,
              "#fb9f3a"
             ],
             [
              0.8888888888888888,
              "#fdca26"
             ],
             [
              1,
              "#f0f921"
             ]
            ],
            "type": "heatmap"
           }
          ],
          "heatmapgl": [
           {
            "colorbar": {
             "outlinewidth": 0,
             "ticks": ""
            },
            "colorscale": [
             [
              0,
              "#0d0887"
             ],
             [
              0.1111111111111111,
              "#46039f"
             ],
             [
              0.2222222222222222,
              "#7201a8"
             ],
             [
              0.3333333333333333,
              "#9c179e"
             ],
             [
              0.4444444444444444,
              "#bd3786"
             ],
             [
              0.5555555555555556,
              "#d8576b"
             ],
             [
              0.6666666666666666,
              "#ed7953"
             ],
             [
              0.7777777777777778,
              "#fb9f3a"
             ],
             [
              0.8888888888888888,
              "#fdca26"
             ],
             [
              1,
              "#f0f921"
             ]
            ],
            "type": "heatmapgl"
           }
          ],
          "histogram": [
           {
            "marker": {
             "pattern": {
              "fillmode": "overlay",
              "size": 10,
              "solidity": 0.2
             }
            },
            "type": "histogram"
           }
          ],
          "histogram2d": [
           {
            "colorbar": {
             "outlinewidth": 0,
             "ticks": ""
            },
            "colorscale": [
             [
              0,
              "#0d0887"
             ],
             [
              0.1111111111111111,
              "#46039f"
             ],
             [
              0.2222222222222222,
              "#7201a8"
             ],
             [
              0.3333333333333333,
              "#9c179e"
             ],
             [
              0.4444444444444444,
              "#bd3786"
             ],
             [
              0.5555555555555556,
              "#d8576b"
             ],
             [
              0.6666666666666666,
              "#ed7953"
             ],
             [
              0.7777777777777778,
              "#fb9f3a"
             ],
             [
              0.8888888888888888,
              "#fdca26"
             ],
             [
              1,
              "#f0f921"
             ]
            ],
            "type": "histogram2d"
           }
          ],
          "histogram2dcontour": [
           {
            "colorbar": {
             "outlinewidth": 0,
             "ticks": ""
            },
            "colorscale": [
             [
              0,
              "#0d0887"
             ],
             [
              0.1111111111111111,
              "#46039f"
             ],
             [
              0.2222222222222222,
              "#7201a8"
             ],
             [
              0.3333333333333333,
              "#9c179e"
             ],
             [
              0.4444444444444444,
              "#bd3786"
             ],
             [
              0.5555555555555556,
              "#d8576b"
             ],
             [
              0.6666666666666666,
              "#ed7953"
             ],
             [
              0.7777777777777778,
              "#fb9f3a"
             ],
             [
              0.8888888888888888,
              "#fdca26"
             ],
             [
              1,
              "#f0f921"
             ]
            ],
            "type": "histogram2dcontour"
           }
          ],
          "mesh3d": [
           {
            "colorbar": {
             "outlinewidth": 0,
             "ticks": ""
            },
            "type": "mesh3d"
           }
          ],
          "parcoords": [
           {
            "line": {
             "colorbar": {
              "outlinewidth": 0,
              "ticks": ""
             }
            },
            "type": "parcoords"
           }
          ],
          "pie": [
           {
            "automargin": true,
            "type": "pie"
           }
          ],
          "scatter": [
           {
            "fillpattern": {
             "fillmode": "overlay",
             "size": 10,
             "solidity": 0.2
            },
            "type": "scatter"
           }
          ],
          "scatter3d": [
           {
            "line": {
             "colorbar": {
              "outlinewidth": 0,
              "ticks": ""
             }
            },
            "marker": {
             "colorbar": {
              "outlinewidth": 0,
              "ticks": ""
             }
            },
            "type": "scatter3d"
           }
          ],
          "scattercarpet": [
           {
            "marker": {
             "colorbar": {
              "outlinewidth": 0,
              "ticks": ""
             }
            },
            "type": "scattercarpet"
           }
          ],
          "scattergeo": [
           {
            "marker": {
             "colorbar": {
              "outlinewidth": 0,
              "ticks": ""
             }
            },
            "type": "scattergeo"
           }
          ],
          "scattergl": [
           {
            "marker": {
             "colorbar": {
              "outlinewidth": 0,
              "ticks": ""
             }
            },
            "type": "scattergl"
           }
          ],
          "scattermapbox": [
           {
            "marker": {
             "colorbar": {
              "outlinewidth": 0,
              "ticks": ""
             }
            },
            "type": "scattermapbox"
           }
          ],
          "scatterpolar": [
           {
            "marker": {
             "colorbar": {
              "outlinewidth": 0,
              "ticks": ""
             }
            },
            "type": "scatterpolar"
           }
          ],
          "scatterpolargl": [
           {
            "marker": {
             "colorbar": {
              "outlinewidth": 0,
              "ticks": ""
             }
            },
            "type": "scatterpolargl"
           }
          ],
          "scatterternary": [
           {
            "marker": {
             "colorbar": {
              "outlinewidth": 0,
              "ticks": ""
             }
            },
            "type": "scatterternary"
           }
          ],
          "surface": [
           {
            "colorbar": {
             "outlinewidth": 0,
             "ticks": ""
            },
            "colorscale": [
             [
              0,
              "#0d0887"
             ],
             [
              0.1111111111111111,
              "#46039f"
             ],
             [
              0.2222222222222222,
              "#7201a8"
             ],
             [
              0.3333333333333333,
              "#9c179e"
             ],
             [
              0.4444444444444444,
              "#bd3786"
             ],
             [
              0.5555555555555556,
              "#d8576b"
             ],
             [
              0.6666666666666666,
              "#ed7953"
             ],
             [
              0.7777777777777778,
              "#fb9f3a"
             ],
             [
              0.8888888888888888,
              "#fdca26"
             ],
             [
              1,
              "#f0f921"
             ]
            ],
            "type": "surface"
           }
          ],
          "table": [
           {
            "cells": {
             "fill": {
              "color": "#EBF0F8"
             },
             "line": {
              "color": "white"
             }
            },
            "header": {
             "fill": {
              "color": "#C8D4E3"
             },
             "line": {
              "color": "white"
             }
            },
            "type": "table"
           }
          ]
         },
         "layout": {
          "annotationdefaults": {
           "arrowcolor": "#2a3f5f",
           "arrowhead": 0,
           "arrowwidth": 1
          },
          "autotypenumbers": "strict",
          "coloraxis": {
           "colorbar": {
            "outlinewidth": 0,
            "ticks": ""
           }
          },
          "colorscale": {
           "diverging": [
            [
             0,
             "#8e0152"
            ],
            [
             0.1,
             "#c51b7d"
            ],
            [
             0.2,
             "#de77ae"
            ],
            [
             0.3,
             "#f1b6da"
            ],
            [
             0.4,
             "#fde0ef"
            ],
            [
             0.5,
             "#f7f7f7"
            ],
            [
             0.6,
             "#e6f5d0"
            ],
            [
             0.7,
             "#b8e186"
            ],
            [
             0.8,
             "#7fbc41"
            ],
            [
             0.9,
             "#4d9221"
            ],
            [
             1,
             "#276419"
            ]
           ],
           "sequential": [
            [
             0,
             "#0d0887"
            ],
            [
             0.1111111111111111,
             "#46039f"
            ],
            [
             0.2222222222222222,
             "#7201a8"
            ],
            [
             0.3333333333333333,
             "#9c179e"
            ],
            [
             0.4444444444444444,
             "#bd3786"
            ],
            [
             0.5555555555555556,
             "#d8576b"
            ],
            [
             0.6666666666666666,
             "#ed7953"
            ],
            [
             0.7777777777777778,
             "#fb9f3a"
            ],
            [
             0.8888888888888888,
             "#fdca26"
            ],
            [
             1,
             "#f0f921"
            ]
           ],
           "sequentialminus": [
            [
             0,
             "#0d0887"
            ],
            [
             0.1111111111111111,
             "#46039f"
            ],
            [
             0.2222222222222222,
             "#7201a8"
            ],
            [
             0.3333333333333333,
             "#9c179e"
            ],
            [
             0.4444444444444444,
             "#bd3786"
            ],
            [
             0.5555555555555556,
             "#d8576b"
            ],
            [
             0.6666666666666666,
             "#ed7953"
            ],
            [
             0.7777777777777778,
             "#fb9f3a"
            ],
            [
             0.8888888888888888,
             "#fdca26"
            ],
            [
             1,
             "#f0f921"
            ]
           ]
          },
          "colorway": [
           "#636efa",
           "#EF553B",
           "#00cc96",
           "#ab63fa",
           "#FFA15A",
           "#19d3f3",
           "#FF6692",
           "#B6E880",
           "#FF97FF",
           "#FECB52"
          ],
          "font": {
           "color": "#2a3f5f"
          },
          "geo": {
           "bgcolor": "white",
           "lakecolor": "white",
           "landcolor": "#E5ECF6",
           "showlakes": true,
           "showland": true,
           "subunitcolor": "white"
          },
          "hoverlabel": {
           "align": "left"
          },
          "hovermode": "closest",
          "mapbox": {
           "style": "light"
          },
          "paper_bgcolor": "white",
          "plot_bgcolor": "#E5ECF6",
          "polar": {
           "angularaxis": {
            "gridcolor": "white",
            "linecolor": "white",
            "ticks": ""
           },
           "bgcolor": "#E5ECF6",
           "radialaxis": {
            "gridcolor": "white",
            "linecolor": "white",
            "ticks": ""
           }
          },
          "scene": {
           "xaxis": {
            "backgroundcolor": "#E5ECF6",
            "gridcolor": "white",
            "gridwidth": 2,
            "linecolor": "white",
            "showbackground": true,
            "ticks": "",
            "zerolinecolor": "white"
           },
           "yaxis": {
            "backgroundcolor": "#E5ECF6",
            "gridcolor": "white",
            "gridwidth": 2,
            "linecolor": "white",
            "showbackground": true,
            "ticks": "",
            "zerolinecolor": "white"
           },
           "zaxis": {
            "backgroundcolor": "#E5ECF6",
            "gridcolor": "white",
            "gridwidth": 2,
            "linecolor": "white",
            "showbackground": true,
            "ticks": "",
            "zerolinecolor": "white"
           }
          },
          "shapedefaults": {
           "line": {
            "color": "#2a3f5f"
           }
          },
          "ternary": {
           "aaxis": {
            "gridcolor": "white",
            "linecolor": "white",
            "ticks": ""
           },
           "baxis": {
            "gridcolor": "white",
            "linecolor": "white",
            "ticks": ""
           },
           "bgcolor": "#E5ECF6",
           "caxis": {
            "gridcolor": "white",
            "linecolor": "white",
            "ticks": ""
           }
          },
          "title": {
           "x": 0.05
          },
          "xaxis": {
           "automargin": true,
           "gridcolor": "white",
           "linecolor": "white",
           "ticks": "",
           "title": {
            "standoff": 15
           },
           "zerolinecolor": "white",
           "zerolinewidth": 2
          },
          "yaxis": {
           "automargin": true,
           "gridcolor": "white",
           "linecolor": "white",
           "ticks": "",
           "title": {
            "standoff": 15
           },
           "zerolinecolor": "white",
           "zerolinewidth": 2
          }
         }
        },
        "title": {
         "text": "Violin Plot for Life Expectancy and Population by Continent"
        },
        "violinmode": "overlay",
        "width": 1200,
        "xaxis": {
         "anchor": "y",
         "categoryarray": [
          "Asia",
          "Europe",
          "Africa",
          "South America",
          "Oceania",
          "North America",
          null
         ],
         "categoryorder": "array",
         "domain": [
          0,
          1
         ],
         "title": {
          "text": "Continent"
         }
        },
        "yaxis": {
         "anchor": "x",
         "domain": [
          0,
          1
         ],
         "title": {
          "text": "Life Expectancy"
         }
        }
       }
      }
     },
     "metadata": {},
     "output_type": "display_data"
    }
   ],
   "source": [
    "fig = px.violin(df, x='Continent', y='Life expectancy ', color='Continent',box=True,title='Violin Plot for Life Expectancy and Population by Continent')\n",
    " \n",
    "fig.update_layout(\n",
    "    xaxis_title='Continent',\n",
    "    yaxis_title='Life Expectancy',\n",
    "    legend_title='Continent',\n",
    "    font=dict(size=12),\n",
    "    width=1200,\n",
    "    height=800,\n",
    "    margin=dict(l=20, r=20, t=60, b=20),\n",
    ")\n",
    "\n",
    "fig.show()"
   ]
  },
  {
   "cell_type": "markdown",
   "metadata": {},
   "source": []
  },
  {
   "cell_type": "markdown",
   "metadata": {},
   "source": [
    "#### 4. Comparing the life expectancy from 2000 to 2015 by the status"
   ]
  },
  {
   "cell_type": "code",
   "execution_count": 105,
   "metadata": {},
   "outputs": [],
   "source": [
    "df_filtered = df[df['Year'].between(2000, 2014)]  # Exclude the year 2015 becaus it is not complete"
   ]
  },
  {
   "cell_type": "code",
   "execution_count": 106,
   "metadata": {},
   "outputs": [
    {
     "data": {
      "application/vnd.plotly.v1+json": {
       "config": {
        "plotlyServerURL": "https://plot.ly"
       },
       "data": [
        {
         "alignmentgroup": "True",
         "hovertemplate": "Year=2014<br>Development Status=%{x}<br>Life expectancy =%{y}<extra></extra>",
         "legendgroup": "",
         "marker": {
          "color": "#636efa"
         },
         "name": "",
         "notched": false,
         "offsetgroup": "",
         "orientation": "v",
         "showlegend": false,
         "type": "box",
         "x": [
          "Developing",
          "Developing",
          "Developing",
          "Developing",
          "Developing",
          "Developing",
          "Developed",
          "Developed",
          "Developing",
          "Developing",
          "Developing",
          "Developed",
          "Developing",
          "Developing",
          "Developing",
          "Developing",
          "Developing",
          "Developing",
          "Developed",
          "Developing",
          "Developing",
          "Developing",
          "Developing",
          "Developing",
          "Developing",
          "Developing",
          "Developing",
          "Developing",
          "Developing",
          "Developing",
          "Developing",
          "Developing",
          "Developed",
          "Developed",
          "Developing",
          "Developing",
          "Developing",
          "Developing",
          "Developing",
          "Developing",
          "Developing",
          "Developing",
          "Developing",
          "Developing",
          "Developing",
          "Developed",
          "Developing",
          "Developing",
          "Developing",
          "Developing",
          "Developing",
          "Developing",
          "Developing",
          "Developing",
          "Developing",
          "Developing",
          "Developing",
          "Developed",
          "Developing",
          "Developed",
          "Developing",
          "Developing",
          "Developing",
          "Developing",
          "Developing",
          "Developed",
          "Developing",
          "Developing",
          "Developing",
          "Developed",
          "Developed",
          "Developing",
          "Developing",
          "Developing",
          "Developing",
          "Developing",
          "Developed",
          "Developing",
          "Developing",
          "Developing",
          "Developing",
          "Developing",
          "Developing",
          "Developing",
          "Developing",
          "Developing",
          "Developing",
          "Developed",
          "Developing",
          "Developing",
          "Developing",
          "Developing",
          "Developing",
          "Developing",
          "Developing",
          "Developing",
          "Developing",
          "Developed",
          "Developed",
          "Developed",
          "Developing",
          "Developing",
          "Developing",
          "Developing",
          "Developing",
          "Developing",
          "Developing",
          "Developing",
          "Developing",
          "Developing",
          "Developed",
          "Developing",
          "Developing",
          "Developing",
          "Developed",
          "Developing",
          "Developing",
          "Developing",
          "Developing",
          "Developing",
          "Developing",
          "Developing",
          "Developing",
          "Developing",
          "Developing",
          "Developing",
          "Developing",
          "Developing",
          "Developing",
          "Developing",
          "Developing"
         ],
         "x0": " ",
         "xaxis": "x",
         "y": [
          59.9,
          77.5,
          75.4,
          51.7,
          76.2,
          74.6,
          82.7,
          81.4,
          72.5,
          71.4,
          72,
          89,
          70,
          59.7,
          69.4,
          77.2,
          65.1,
          74.8,
          74.3,
          59.3,
          59.1,
          73,
          68.3,
          56.7,
          82,
          58,
          52.6,
          83,
          75.8,
          74.6,
          63.2,
          79.5,
          77.8,
          83,
          63,
          73.6,
          76,
          73.3,
          57.9,
          77.3,
          64.2,
          69.7,
          82.2,
          65.5,
          74.5,
          89,
          62.1,
          88,
          71.7,
          58.1,
          58.4,
          66,
          63.1,
          74.5,
          68,
          68.9,
          67.9,
          81.2,
          82.2,
          82.5,
          75.8,
          74,
          69.9,
          62.9,
          66.1,
          74.4,
          74.8,
          52.1,
          58.1,
          73.4,
          81.7,
          65.1,
          57.6,
          74.8,
          78.2,
          57.8,
          81.4,
          63,
          74.2,
          76.6,
          68.4,
          75.9,
          74.1,
          56.7,
          66.4,
          65.9,
          69.6,
          81.7,
          74.5,
          61.4,
          53.6,
          66.2,
          77.6,
          62.7,
          73.9,
          75.3,
          68.4,
          77.3,
          89,
          74.8,
          73,
          65.7,
          73.8,
          67.3,
          66.4,
          75.4,
          73,
          48.1,
          68.8,
          62,
          82.6,
          74.7,
          71.4,
          58.4,
          82.3,
          69.6,
          74.6,
          68,
          59.7,
          73.3,
          71.1,
          75.1,
          75.5,
          66,
          61.5,
          78,
          76.8,
          69.2,
          71.7,
          61.1,
          59.2
         ],
         "y0": " ",
         "yaxis": "y"
        }
       ],
       "frames": [
        {
         "data": [
          {
           "alignmentgroup": "True",
           "hovertemplate": "Year=2000<br>Development Status=%{x}<br>Life expectancy =%{y}<extra></extra>",
           "legendgroup": "",
           "marker": {
            "color": "#636efa"
           },
           "name": "",
           "notched": false,
           "offsetgroup": "",
           "orientation": "v",
           "showlegend": false,
           "type": "box",
           "x": [
            "Developing",
            "Developing",
            "Developing",
            "Developed",
            "Developing",
            "Developed",
            "Developing",
            "Developing",
            "Developing",
            "Developing",
            "Developed",
            "Developing",
            "Developing",
            "Developing",
            "Developed",
            "Developing",
            "Developing",
            "Developing",
            "Developing",
            "Developing",
            "Developing",
            "Developed",
            "Developing",
            "Developing",
            "Developing",
            "Developing",
            "Developed",
            "Developing",
            "Developing",
            "Developing",
            "Developed",
            "Developing",
            "Developed",
            "Developed",
            "Developing",
            "Developing",
            "Developing",
            "Developing",
            "Developing",
            "Developing",
            "Developing",
            "Developing",
            "Developing",
            "Developed",
            "Developed",
            "Developed",
            "Developing",
            "Developing",
            "Developing",
            "Developing",
            "Developed",
            "Developing",
            "Developing",
            "Developing",
            "Developing",
            "Developing",
            "Developing",
            "Developing",
            "Developing",
            "Developing",
            "Developing"
           ],
           "x0": " ",
           "xaxis": "x",
           "y": [
            54.8,
            72.6,
            72,
            78.1,
            68,
            77.6,
            68.3,
            62,
            47.8,
            75,
            71.1,
            71.7,
            71.4,
            77.6,
            78.1,
            72,
            72.8,
            69,
            67.7,
            78.8,
            71.8,
            78,
            78.2,
            71,
            66.3,
            78.9,
            79.4,
            71.7,
            63.9,
            64.1,
            71,
            72.7,
            71.6,
            77.8,
            72.4,
            69.6,
            71,
            74.8,
            62.8,
            68.6,
            73,
            58.9,
            66.8,
            73.7,
            76.6,
            77,
            72,
            71.8,
            65.8,
            57.3,
            79.1,
            48.4,
            72.6,
            71.1,
            71.6,
            72.9,
            74,
            67.5,
            75.1,
            69,
            46
           ],
           "y0": " ",
           "yaxis": "y"
          }
         ],
         "name": "2000"
        },
        {
         "data": [
          {
           "alignmentgroup": "True",
           "hovertemplate": "Year=2001<br>Development Status=%{x}<br>Life expectancy =%{y}<extra></extra>",
           "legendgroup": "",
           "marker": {
            "color": "#636efa"
           },
           "name": "",
           "notched": false,
           "offsetgroup": "",
           "orientation": "v",
           "showlegend": false,
           "type": "box",
           "x": [
            "Developing",
            "Developing",
            "Developing",
            "Developed",
            "Developed",
            "Developing",
            "Developed",
            "Developing",
            "Developing",
            "Developing",
            "Developing",
            "Developed",
            "Developing",
            "Developing",
            "Developing",
            "Developed",
            "Developing",
            "Developing",
            "Developing",
            "Developing",
            "Developing",
            "Developing",
            "Developed",
            "Developing",
            "Developing",
            "Developing",
            "Developing",
            "Developing",
            "Developed",
            "Developing",
            "Developing",
            "Developing",
            "Developed",
            "Developing",
            "Developed",
            "Developed",
            "Developing",
            "Developing",
            "Developing",
            "Developing",
            "Developing",
            "Developing",
            "Developing",
            "Developing",
            "Developing",
            "Developing",
            "Developing",
            "Developed",
            "Developed",
            "Developed",
            "Developing",
            "Developing",
            "Developing",
            "Developing",
            "Developing",
            "Developed",
            "Developing",
            "Developing",
            "Developing",
            "Developing",
            "Developing",
            "Developing",
            "Developing",
            "Developing",
            "Developing",
            "Developing"
           ],
           "x0": " ",
           "xaxis": "x",
           "y": [
            55.3,
            73.6,
            72.6,
            79.9,
            78.6,
            67.7,
            78,
            68.2,
            61.7,
            46.7,
            71,
            71.6,
            72.2,
            71.5,
            77.5,
            78.2,
            71.2,
            73.4,
            68.9,
            67.8,
            79,
            73,
            78.3,
            78.7,
            65.4,
            71.3,
            66.5,
            79.3,
            79.8,
            71.9,
            64.4,
            64.3,
            69.9,
            73,
            71.2,
            78,
            72.7,
            78,
            71.5,
            75,
            63.2,
            69,
            49.5,
            73,
            75.5,
            59.1,
            66.8,
            74.2,
            76.9,
            78,
            65.1,
            75,
            72,
            66.2,
            56,
            79.4,
            47.1,
            72.7,
            71.2,
            71.8,
            73.2,
            78,
            67.7,
            75.2,
            69.1,
            45.3
           ],
           "y0": " ",
           "yaxis": "y"
          }
         ],
         "name": "2001"
        },
        {
         "data": [
          {
           "alignmentgroup": "True",
           "hovertemplate": "Year=2002<br>Development Status=%{x}<br>Life expectancy =%{y}<extra></extra>",
           "legendgroup": "",
           "marker": {
            "color": "#636efa"
           },
           "name": "",
           "notched": false,
           "offsetgroup": "",
           "orientation": "v",
           "showlegend": false,
           "type": "box",
           "x": [
            "Developing",
            "Developing",
            "Developing",
            "Developing",
            "Developed",
            "Developed",
            "Developing",
            "Developing",
            "Developed",
            "Developing",
            "Developing",
            "Developing",
            "Developing",
            "Developing",
            "Developed",
            "Developing",
            "Developing",
            "Developing",
            "Developing",
            "Developed",
            "Developing",
            "Developing",
            "Developing",
            "Developing",
            "Developing",
            "Developing",
            "Developing",
            "Developed",
            "Developing",
            "Developing",
            "Developing",
            "Developing",
            "Developing",
            "Developing",
            "Developed",
            "Developing",
            "Developing",
            "Developing",
            "Developing",
            "Developed",
            "Developing",
            "Developed",
            "Developed",
            "Developing",
            "Developing",
            "Developing",
            "Developing",
            "Developing",
            "Developing",
            "Developing",
            "Developing",
            "Developing",
            "Developing",
            "Developing",
            "Developing",
            "Developing",
            "Developed",
            "Developed",
            "Developed",
            "Developing",
            "Developing",
            "Developing",
            "Developing",
            "Developing",
            "Developing",
            "Developed",
            "Developing",
            "Developing",
            "Developing",
            "Developing",
            "Developing",
            "Developing",
            "Developing",
            "Developing",
            "Developing",
            "Developing",
            "Developing",
            "Developing",
            "Developing",
            "Developing",
            "Developing"
           ],
           "x0": " ",
           "xaxis": "x",
           "y": [
            56.2,
            73.3,
            74.1,
            72.6,
            79.9,
            78.7,
            67.8,
            67.2,
            78,
            68.5,
            55.6,
            62.5,
            46,
            71.4,
            71.8,
            77,
            72.7,
            71.8,
            78.3,
            78.4,
            71.4,
            73.6,
            73,
            58.5,
            67.9,
            79.2,
            71.7,
            78.4,
            57.6,
            79,
            65.3,
            71.6,
            66.7,
            79.3,
            80,
            72.1,
            64.7,
            52.1,
            64.6,
            73,
            73.2,
            71.4,
            78.3,
            59.3,
            44,
            72.9,
            71.8,
            71.5,
            75,
            63.8,
            69.5,
            49.8,
            75,
            75.7,
            59.3,
            66.8,
            74.5,
            77.2,
            77,
            64.8,
            57,
            76,
            72.1,
            66.5,
            54.9,
            79.5,
            46.4,
            72.8,
            64.3,
            71.4,
            71.9,
            69.2,
            73.5,
            71.2,
            63.3,
            48.8,
            67.6,
            75.4,
            67.1,
            69.3,
            44.8
           ],
           "y0": " ",
           "yaxis": "y"
          }
         ],
         "name": "2002"
        },
        {
         "data": [
          {
           "alignmentgroup": "True",
           "hovertemplate": "Year=2003<br>Development Status=%{x}<br>Life expectancy =%{y}<extra></extra>",
           "legendgroup": "",
           "marker": {
            "color": "#636efa"
           },
           "name": "",
           "notched": false,
           "offsetgroup": "",
           "orientation": "v",
           "showlegend": false,
           "type": "box",
           "x": [
            "Developing",
            "Developing",
            "Developing",
            "Developing",
            "Developed",
            "Developed",
            "Developing",
            "Developing",
            "Developing",
            "Developed",
            "Developing",
            "Developing",
            "Developing",
            "Developing",
            "Developing",
            "Developed",
            "Developing",
            "Developing",
            "Developing",
            "Developing",
            "Developing",
            "Developing",
            "Developed",
            "Developing",
            "Developing",
            "Developing",
            "Developing",
            "Developing",
            "Developing",
            "Developing",
            "Developed",
            "Developing",
            "Developing",
            "Developing",
            "Developing",
            "Developing",
            "Developing",
            "Developed",
            "Developing",
            "Developing",
            "Developing",
            "Developing",
            "Developing",
            "Developed",
            "Developing",
            "Developing",
            "Developed",
            "Developed",
            "Developing",
            "Developing",
            "Developing",
            "Developing",
            "Developing",
            "Developed",
            "Developing",
            "Developing",
            "Developing",
            "Developing",
            "Developing",
            "Developing",
            "Developing",
            "Developing",
            "Developing",
            "Developing",
            "Developing",
            "Developing",
            "Developing",
            "Developing",
            "Developed",
            "Developed",
            "Developed",
            "Developing",
            "Developing",
            "Developing",
            "Developing",
            "Developing",
            "Developing",
            "Developing",
            "Developed",
            "Developing",
            "Developing",
            "Developing",
            "Developing",
            "Developing",
            "Developing",
            "Developing",
            "Developing",
            "Developing",
            "Developing",
            "Developing",
            "Developing",
            "Developing",
            "Developing",
            "Developing",
            "Developing"
           ],
           "x0": " ",
           "xaxis": "x",
           "y": [
            56.7,
            72.8,
            74.1,
            72.7,
            83,
            78.8,
            67.8,
            66.8,
            67.7,
            78.3,
            68.4,
            55.8,
            63.3,
            46.4,
            71.8,
            72,
            71.1,
            79.7,
            73.1,
            72.4,
            59.6,
            78,
            78.5,
            73,
            74.4,
            69.9,
            58.8,
            68,
            79.3,
            72.7,
            78.5,
            57.9,
            79.1,
            65.3,
            71.9,
            66.9,
            79.7,
            79.9,
            73.1,
            72.3,
            64.4,
            52.4,
            64.7,
            78,
            73.5,
            45.5,
            71.6,
            78.6,
            59.9,
            44.6,
            73.1,
            72.7,
            52,
            78.5,
            71.5,
            75,
            64,
            69.9,
            51,
            63.2,
            64.3,
            76,
            63.5,
            75.5,
            59.6,
            71.7,
            72.1,
            67.2,
            74.7,
            77.3,
            71.1,
            64.6,
            52,
            79,
            63.4,
            72.1,
            66.8,
            54,
            79.4,
            73.9,
            45.9,
            73,
            65.2,
            71.7,
            72,
            69.3,
            73.7,
            71.6,
            63.4,
            51,
            67.6,
            75.4,
            67.2,
            69.4,
            44.5
           ],
           "y0": " ",
           "yaxis": "y"
          }
         ],
         "name": "2003"
        },
        {
         "data": [
          {
           "alignmentgroup": "True",
           "hovertemplate": "Year=2004<br>Development Status=%{x}<br>Life expectancy =%{y}<extra></extra>",
           "legendgroup": "",
           "marker": {
            "color": "#636efa"
           },
           "name": "",
           "notched": false,
           "offsetgroup": "",
           "orientation": "v",
           "showlegend": false,
           "type": "box",
           "x": [
            "Developing",
            "Developing",
            "Developing",
            "Developing",
            "Developing",
            "Developed",
            "Developed",
            "Developing",
            "Developing",
            "Developing",
            "Developed",
            "Developing",
            "Developing",
            "Developing",
            "Developing",
            "Developing",
            "Developing",
            "Developed",
            "Developing",
            "Developing",
            "Developing",
            "Developing",
            "Developing",
            "Developing",
            "Developing",
            "Developed",
            "Developing",
            "Developing",
            "Developing",
            "Developing",
            "Developing",
            "Developing",
            "Developing",
            "Developing",
            "Developed",
            "Developing",
            "Developing",
            "Developing",
            "Developing",
            "Developing",
            "Developing",
            "Developing",
            "Developing",
            "Developed",
            "Developing",
            "Developing",
            "Developing",
            "Developing",
            "Developing",
            "Developed",
            "Developing",
            "Developing",
            "Developed",
            "Developed",
            "Developing",
            "Developing",
            "Developing",
            "Developing",
            "Developing",
            "Developed",
            "Developing",
            "Developing",
            "Developing",
            "Developing",
            "Developing",
            "Developing",
            "Developing",
            "Developing",
            "Developing",
            "Developing",
            "Developing",
            "Developing",
            "Developing",
            "Developing",
            "Developed",
            "Developed",
            "Developed",
            "Developing",
            "Developing",
            "Developing",
            "Developing",
            "Developing",
            "Developing",
            "Developing",
            "Developing",
            "Developing",
            "Developed",
            "Developing",
            "Developing",
            "Developing",
            "Developing",
            "Developing",
            "Developing",
            "Developing",
            "Developing",
            "Developing",
            "Developing",
            "Developing",
            "Developing",
            "Developing",
            "Developing",
            "Developing",
            "Developing"
           ],
           "x0": " ",
           "xaxis": "x",
           "y": [
            57,
            73,
            72.3,
            74.7,
            73,
            86,
            79.3,
            68.4,
            67.3,
            68.2,
            78.8,
            68.7,
            56.1,
            64.2,
            75.5,
            48.1,
            72,
            72.2,
            52.6,
            71.4,
            80,
            73.5,
            72.8,
            59.8,
            77.7,
            78.6,
            69.3,
            74.4,
            70,
            59.1,
            72.3,
            68.1,
            82,
            72.3,
            79.1,
            58.3,
            79.2,
            65.1,
            72.2,
            64,
            65.3,
            67.2,
            81,
            89,
            73.3,
            72.5,
            64.7,
            53,
            64.8,
            71,
            73.7,
            44.8,
            71.6,
            78.7,
            64,
            45.1,
            73.2,
            73.4,
            52.8,
            78.7,
            71.9,
            75.4,
            64,
            72,
            54,
            63.5,
            64.7,
            71,
            63.7,
            75.8,
            59.9,
            71.9,
            72.2,
            67.3,
            74.9,
            78,
            71.7,
            64.9,
            53.4,
            71.4,
            63.8,
            59.7,
            73,
            72.1,
            67.1,
            53.7,
            81,
            69.1,
            45.6,
            73.2,
            65.9,
            71.6,
            72.2,
            69.4,
            74,
            72,
            63.5,
            51.3,
            67.4,
            75.4,
            67.8,
            69.6,
            44.3
           ],
           "y0": " ",
           "yaxis": "y"
          }
         ],
         "name": "2004"
        },
        {
         "data": [
          {
           "alignmentgroup": "True",
           "hovertemplate": "Year=2005<br>Development Status=%{x}<br>Life expectancy =%{y}<extra></extra>",
           "legendgroup": "",
           "marker": {
            "color": "#636efa"
           },
           "name": "",
           "notched": false,
           "offsetgroup": "",
           "orientation": "v",
           "showlegend": false,
           "type": "box",
           "x": [
            "Developing",
            "Developing",
            "Developing",
            "Developing",
            "Developing",
            "Developed",
            "Developed",
            "Developing",
            "Developing",
            "Developing",
            "Developed",
            "Developing",
            "Developing",
            "Developing",
            "Developing",
            "Developing",
            "Developing",
            "Developed",
            "Developing",
            "Developing",
            "Developing",
            "Developing",
            "Developing",
            "Developing",
            "Developing",
            "Developing",
            "Developed",
            "Developing",
            "Developing",
            "Developing",
            "Developing",
            "Developing",
            "Developing",
            "Developing",
            "Developing",
            "Developing",
            "Developed",
            "Developing",
            "Developing",
            "Developing",
            "Developing",
            "Developing",
            "Developing",
            "Developing",
            "Developing",
            "Developing",
            "Developed",
            "Developing",
            "Developing",
            "Developing",
            "Developing",
            "Developing",
            "Developed",
            "Developing",
            "Developing",
            "Developed",
            "Developed",
            "Developing",
            "Developing",
            "Developing",
            "Developing",
            "Developing",
            "Developed",
            "Developing",
            "Developing",
            "Developing",
            "Developing",
            "Developing",
            "Developing",
            "Developing",
            "Developing",
            "Developing",
            "Developing",
            "Developing",
            "Developing",
            "Developing",
            "Developing",
            "Developing",
            "Developing",
            "Developed",
            "Developed",
            "Developed",
            "Developing",
            "Developing",
            "Developing",
            "Developing",
            "Developing",
            "Developing",
            "Developing",
            "Developing",
            "Developing",
            "Developed",
            "Developing",
            "Developing",
            "Developing",
            "Developing",
            "Developing",
            "Developing",
            "Developing",
            "Developing",
            "Developing",
            "Developing",
            "Developing",
            "Developing",
            "Developing",
            "Developing",
            "Developing",
            "Developing",
            "Developing",
            "Developing"
           ],
           "x0": " ",
           "xaxis": "x",
           "y": [
            57.3,
            73.5,
            72.9,
            74.9,
            73,
            81,
            79.4,
            68.4,
            67.8,
            68.1,
            78.9,
            69,
            56.5,
            65,
            75,
            51.7,
            72.7,
            72.1,
            53.4,
            71.8,
            52.8,
            81,
            73.9,
            73.1,
            60,
            78.6,
            78.7,
            69.7,
            74.2,
            71,
            59.4,
            72.8,
            68.3,
            81,
            65,
            73.9,
            79.2,
            58.9,
            79.3,
            69.2,
            65,
            72.5,
            64.4,
            67.2,
            66.8,
            80,
            88,
            73.5,
            72.4,
            64.6,
            54.1,
            64.9,
            76,
            73.9,
            44.5,
            78,
            78.8,
            69,
            46,
            73.4,
            74.3,
            53.6,
            79,
            66,
            72.1,
            75.3,
            64.5,
            77,
            58,
            63.9,
            65.4,
            71.2,
            49.2,
            62.9,
            75.8,
            64,
            72.1,
            72.8,
            67,
            75,
            77.7,
            71.9,
            65,
            55.3,
            71.6,
            64.3,
            65,
            73,
            72.2,
            67.4,
            53.8,
            81,
            74.2,
            68.9,
            46,
            73.5,
            65.5,
            72.5,
            72.3,
            69.5,
            74.2,
            72.4,
            63.3,
            53.2,
            67,
            75.7,
            67.3,
            69.9,
            49.3,
            44.6
           ],
           "y0": " ",
           "yaxis": "y"
          }
         ],
         "name": "2005"
        },
        {
         "data": [
          {
           "alignmentgroup": "True",
           "hovertemplate": "Year=2006<br>Development Status=%{x}<br>Life expectancy =%{y}<extra></extra>",
           "legendgroup": "",
           "marker": {
            "color": "#636efa"
           },
           "name": "",
           "notched": false,
           "offsetgroup": "",
           "orientation": "v",
           "showlegend": false,
           "type": "box",
           "x": [
            "Developing",
            "Developing",
            "Developing",
            "Developing",
            "Developing",
            "Developed",
            "Developed",
            "Developing",
            "Developing",
            "Developing",
            "Developed",
            "Developing",
            "Developing",
            "Developing",
            "Developing",
            "Developing",
            "Developing",
            "Developed",
            "Developing",
            "Developing",
            "Developing",
            "Developing",
            "Developing",
            "Developing",
            "Developing",
            "Developing",
            "Developing",
            "Developing",
            "Developing",
            "Developed",
            "Developing",
            "Developing",
            "Developing",
            "Developing",
            "Developing",
            "Developing",
            "Developing",
            "Developing",
            "Developing",
            "Developed",
            "Developing",
            "Developing",
            "Developing",
            "Developing",
            "Developing",
            "Developing",
            "Developing",
            "Developing",
            "Developing",
            "Developed",
            "Developing",
            "Developing",
            "Developing",
            "Developing",
            "Developing",
            "Developed",
            "Developing",
            "Developing",
            "Developed",
            "Developed",
            "Developing",
            "Developing",
            "Developing",
            "Developing",
            "Developing",
            "Developed",
            "Developing",
            "Developing",
            "Developing",
            "Developing",
            "Developing",
            "Developing",
            "Developing",
            "Developing",
            "Developing",
            "Developing",
            "Developing",
            "Developing",
            "Developing",
            "Developing",
            "Developing",
            "Developing",
            "Developing",
            "Developed",
            "Developed",
            "Developed",
            "Developing",
            "Developing",
            "Developing",
            "Developing",
            "Developing",
            "Developing",
            "Developing",
            "Developing",
            "Developing",
            "Developed",
            "Developing",
            "Developing",
            "Developing",
            "Developing",
            "Developing",
            "Developing",
            "Developing",
            "Developing",
            "Developing",
            "Developing",
            "Developing",
            "Developing",
            "Developing",
            "Developing",
            "Developing",
            "Developing",
            "Developing",
            "Developing"
           ],
           "x0": " ",
           "xaxis": "x",
           "y": [
            57.3,
            74.2,
            73.4,
            75.2,
            72.9,
            81.2,
            79.8,
            69.2,
            68.2,
            68.9,
            79.4,
            69.4,
            56.8,
            65.8,
            75.7,
            54.8,
            73,
            72.2,
            54.3,
            54.1,
            72.1,
            64.1,
            53.3,
            85,
            78.9,
            74.2,
            73.1,
            63,
            78,
            78.8,
            72.3,
            74.4,
            75,
            59.7,
            73,
            68.5,
            86,
            61.4,
            73.9,
            79.6,
            59.4,
            79.7,
            69.7,
            65.2,
            72.8,
            64.8,
            67.3,
            64.7,
            84,
            81.2,
            74,
            72.8,
            65,
            55.3,
            65,
            75,
            74.1,
            45.3,
            76,
            79.4,
            61.4,
            47.1,
            73.6,
            75,
            54.3,
            79.3,
            69,
            71.8,
            75.8,
            65,
            73.8,
            71,
            51.2,
            64.2,
            66,
            73,
            49.8,
            64.2,
            76.2,
            68,
            72.3,
            74.2,
            67.3,
            75.2,
            78.5,
            72.5,
            66.4,
            57.6,
            72,
            64.7,
            61.3,
            73.6,
            72.2,
            67.6,
            54,
            88,
            73.8,
            69.3,
            47.8,
            73.7,
            65.9,
            73,
            72.4,
            69.6,
            74.4,
            72.8,
            63.7,
            54.9,
            67.7,
            76.2,
            67.6,
            71,
            58,
            45.4
           ],
           "y0": " ",
           "yaxis": "y"
          }
         ],
         "name": "2006"
        },
        {
         "data": [
          {
           "alignmentgroup": "True",
           "hovertemplate": "Year=2007<br>Development Status=%{x}<br>Life expectancy =%{y}<extra></extra>",
           "legendgroup": "",
           "marker": {
            "color": "#636efa"
           },
           "name": "",
           "notched": false,
           "offsetgroup": "",
           "orientation": "v",
           "showlegend": false,
           "type": "box",
           "x": [
            "Developing",
            "Developing",
            "Developing",
            "Developing",
            "Developing",
            "Developing",
            "Developed",
            "Developed",
            "Developing",
            "Developing",
            "Developing",
            "Developed",
            "Developing",
            "Developing",
            "Developing",
            "Developing",
            "Developing",
            "Developing",
            "Developed",
            "Developing",
            "Developing",
            "Developing",
            "Developing",
            "Developing",
            "Developing",
            "Developing",
            "Developing",
            "Developing",
            "Developing",
            "Developing",
            "Developed",
            "Developed",
            "Developing",
            "Developing",
            "Developing",
            "Developing",
            "Developing",
            "Developing",
            "Developing",
            "Developing",
            "Developing",
            "Developing",
            "Developing",
            "Developed",
            "Developing",
            "Developing",
            "Developing",
            "Developing",
            "Developing",
            "Developing",
            "Developing",
            "Developing",
            "Developing",
            "Developing",
            "Developed",
            "Developing",
            "Developing",
            "Developing",
            "Developing",
            "Developing",
            "Developed",
            "Developing",
            "Developing",
            "Developed",
            "Developed",
            "Developing",
            "Developing",
            "Developing",
            "Developing",
            "Developing",
            "Developed",
            "Developing",
            "Developing",
            "Developing",
            "Developing",
            "Developing",
            "Developing",
            "Developing",
            "Developing",
            "Developing",
            "Developing",
            "Developing",
            "Developing",
            "Developing",
            "Developing",
            "Developing",
            "Developing",
            "Developing",
            "Developed",
            "Developed",
            "Developed",
            "Developing",
            "Developing",
            "Developing",
            "Developing",
            "Developing",
            "Developing",
            "Developing",
            "Developing",
            "Developing",
            "Developing",
            "Developed",
            "Developing",
            "Developing",
            "Developing",
            "Developing",
            "Developing",
            "Developing",
            "Developing",
            "Developing",
            "Developing",
            "Developing",
            "Developing",
            "Developing",
            "Developing",
            "Developing",
            "Developing",
            "Developing",
            "Developing",
            "Developing"
           ],
           "x0": " ",
           "xaxis": "x",
           "y": [
            57.5,
            75.9,
            73.8,
            48.2,
            74.8,
            73.5,
            81.3,
            81,
            73,
            68.6,
            69.8,
            79.5,
            69.6,
            57.1,
            66.5,
            75.4,
            56.9,
            73.3,
            72.6,
            55.3,
            54.8,
            72.3,
            65,
            53.6,
            85,
            78.9,
            74.4,
            73.5,
            66,
            78.9,
            75.8,
            78.9,
            59.8,
            72.9,
            74.7,
            71.2,
            62,
            73,
            58.5,
            68.6,
            89,
            61.6,
            74.4,
            79.8,
            59.9,
            79.4,
            75,
            56.4,
            65.7,
            73,
            65.2,
            67.5,
            65.9,
            84,
            81.3,
            74.2,
            73,
            65.3,
            56.8,
            65,
            78,
            74.4,
            46.2,
            72,
            79.7,
            61.9,
            48.5,
            73.7,
            75.4,
            55,
            79.6,
            61.2,
            72.9,
            76,
            65.9,
            74.2,
            71.4,
            52.1,
            64.5,
            66.6,
            72.5,
            55,
            64.4,
            76.4,
            61.1,
            72.5,
            74,
            67.5,
            75.3,
            78.7,
            72.9,
            67.3,
            59.6,
            72.2,
            65.1,
            62.1,
            73.8,
            72.2,
            45.3,
            67.6,
            54.5,
            89,
            73.7,
            69.5,
            50,
            73.8,
            66.1,
            73.3,
            72.5,
            69.7,
            74.6,
            73.2,
            64.1,
            55.5,
            67.5,
            75.4,
            67.8,
            73,
            52.6,
            46.6
           ],
           "y0": " ",
           "yaxis": "y"
          }
         ],
         "name": "2007"
        },
        {
         "data": [
          {
           "alignmentgroup": "True",
           "hovertemplate": "Year=2008<br>Development Status=%{x}<br>Life expectancy =%{y}<extra></extra>",
           "legendgroup": "",
           "marker": {
            "color": "#636efa"
           },
           "name": "",
           "notched": false,
           "offsetgroup": "",
           "orientation": "v",
           "showlegend": false,
           "type": "box",
           "x": [
            "Developing",
            "Developing",
            "Developing",
            "Developing",
            "Developing",
            "Developing",
            "Developed",
            "Developed",
            "Developing",
            "Developing",
            "Developing",
            "Developed",
            "Developing",
            "Developing",
            "Developing",
            "Developing",
            "Developing",
            "Developing",
            "Developed",
            "Developing",
            "Developing",
            "Developing",
            "Developing",
            "Developing",
            "Developing",
            "Developing",
            "Developing",
            "Developing",
            "Developing",
            "Developing",
            "Developing",
            "Developed",
            "Developed",
            "Developing",
            "Developing",
            "Developing",
            "Developing",
            "Developing",
            "Developing",
            "Developing",
            "Developing",
            "Developing",
            "Developing",
            "Developing",
            "Developed",
            "Developing",
            "Developing",
            "Developing",
            "Developing",
            "Developing",
            "Developing",
            "Developing",
            "Developing",
            "Developing",
            "Developing",
            "Developed",
            "Developing",
            "Developing",
            "Developing",
            "Developing",
            "Developing",
            "Developed",
            "Developing",
            "Developing",
            "Developing",
            "Developed",
            "Developed",
            "Developing",
            "Developing",
            "Developing",
            "Developing",
            "Developing",
            "Developed",
            "Developing",
            "Developing",
            "Developing",
            "Developing",
            "Developing",
            "Developing",
            "Developing",
            "Developing",
            "Developing",
            "Developing",
            "Developing",
            "Developing",
            "Developing",
            "Developing",
            "Developing",
            "Developing",
            "Developing",
            "Developed",
            "Developed",
            "Developed",
            "Developing",
            "Developing",
            "Developing",
            "Developing",
            "Developing",
            "Developing",
            "Developing",
            "Developing",
            "Developing",
            "Developing",
            "Developed",
            "Developing",
            "Developing",
            "Developing",
            "Developing",
            "Developing",
            "Developing",
            "Developing",
            "Developing",
            "Developing",
            "Developing",
            "Developing",
            "Developing",
            "Developing",
            "Developing",
            "Developing",
            "Developing",
            "Developing",
            "Developing",
            "Developing"
           ],
           "x0": " ",
           "xaxis": "x",
           "y": [
            58.1,
            75.3,
            74.1,
            48.7,
            75.4,
            73.2,
            81.3,
            84,
            73,
            69.1,
            70,
            79.5,
            69.6,
            57.6,
            67,
            76,
            57.5,
            73.4,
            72.9,
            56.1,
            55.3,
            72.4,
            65.6,
            54.2,
            87,
            49.6,
            79.6,
            74.5,
            73.5,
            61,
            78.9,
            76,
            79.1,
            62,
            73.3,
            74.6,
            71.7,
            67,
            74.2,
            59.8,
            68.7,
            89,
            61.6,
            73.9,
            79.9,
            63,
            79.9,
            79,
            56.8,
            66.3,
            73.2,
            65.5,
            67.7,
            69.3,
            81,
            81.5,
            74.5,
            73.1,
            66.6,
            57.9,
            65.1,
            71.9,
            74.5,
            47.8,
            58.6,
            71.1,
            80,
            62.3,
            50,
            73.8,
            75.9,
            55.5,
            80,
            61.4,
            72.7,
            75.6,
            67.4,
            74.6,
            71.8,
            53.2,
            59.2,
            67,
            72.5,
            59,
            64.6,
            76.5,
            61.4,
            72.7,
            73.9,
            67.5,
            75.5,
            79,
            73.1,
            67.5,
            68,
            72.5,
            65.4,
            62.8,
            74,
            72.2,
            46.2,
            68,
            55.3,
            81.3,
            72.3,
            69.8,
            51.4,
            66.4,
            73.5,
            66.2,
            56.2,
            72.6,
            69.9,
            74.7,
            73.5,
            64.5,
            56.3,
            67.7,
            76.4,
            67.9,
            75,
            55.7,
            48.2
           ],
           "y0": " ",
           "yaxis": "y"
          }
         ],
         "name": "2008"
        },
        {
         "data": [
          {
           "alignmentgroup": "True",
           "hovertemplate": "Year=2009<br>Development Status=%{x}<br>Life expectancy =%{y}<extra></extra>",
           "legendgroup": "",
           "marker": {
            "color": "#636efa"
           },
           "name": "",
           "notched": false,
           "offsetgroup": "",
           "orientation": "v",
           "showlegend": false,
           "type": "box",
           "x": [
            "Developing",
            "Developing",
            "Developing",
            "Developing",
            "Developing",
            "Developing",
            "Developed",
            "Developed",
            "Developing",
            "Developing",
            "Developing",
            "Developed",
            "Developing",
            "Developing",
            "Developing",
            "Developing",
            "Developing",
            "Developing",
            "Developed",
            "Developing",
            "Developing",
            "Developing",
            "Developing",
            "Developing",
            "Developing",
            "Developing",
            "Developing",
            "Developing",
            "Developing",
            "Developing",
            "Developing",
            "Developing",
            "Developed",
            "Developed",
            "Developing",
            "Developing",
            "Developing",
            "Developing",
            "Developing",
            "Developing",
            "Developing",
            "Developing",
            "Developing",
            "Developing",
            "Developing",
            "Developed",
            "Developing",
            "Developing",
            "Developing",
            "Developing",
            "Developing",
            "Developing",
            "Developing",
            "Developing",
            "Developing",
            "Developing",
            "Developing",
            "Developed",
            "Developing",
            "Developing",
            "Developing",
            "Developing",
            "Developing",
            "Developed",
            "Developing",
            "Developing",
            "Developing",
            "Developed",
            "Developed",
            "Developing",
            "Developing",
            "Developing",
            "Developing",
            "Developing",
            "Developed",
            "Developing",
            "Developing",
            "Developing",
            "Developing",
            "Developing",
            "Developing",
            "Developing",
            "Developing",
            "Developing",
            "Developing",
            "Developing",
            "Developing",
            "Developing",
            "Developing",
            "Developing",
            "Developing",
            "Developing",
            "Developing",
            "Developed",
            "Developed",
            "Developed",
            "Developing",
            "Developing",
            "Developing",
            "Developing",
            "Developing",
            "Developing",
            "Developing",
            "Developing",
            "Developing",
            "Developing",
            "Developed",
            "Developing",
            "Developing",
            "Developing",
            "Developing",
            "Developing",
            "Developing",
            "Developing",
            "Developing",
            "Developing",
            "Developing",
            "Developing",
            "Developing",
            "Developing",
            "Developing",
            "Developing",
            "Developing",
            "Developing",
            "Developing",
            "Developing"
           ],
           "x0": " ",
           "xaxis": "x",
           "y": [
            58.6,
            76.1,
            74.4,
            49.1,
            75.6,
            73.3,
            81.7,
            82,
            78,
            69.5,
            70,
            79.8,
            69.5,
            58.4,
            67.4,
            76.1,
            59.2,
            73.6,
            73.2,
            56.9,
            56.2,
            72.4,
            66.1,
            54.8,
            81,
            48.6,
            57,
            79.3,
            74.9,
            73.6,
            61.3,
            79.2,
            76.3,
            79.3,
            69,
            73.6,
            75.1,
            71.4,
            61.4,
            74.9,
            68,
            68.9,
            81.1,
            61.7,
            73.2,
            80,
            66,
            80,
            76,
            57.3,
            56.3,
            66.1,
            73.4,
            66,
            67.9,
            74,
            81.5,
            81.6,
            74.7,
            73.3,
            67.8,
            59.1,
            65.2,
            72.6,
            74.7,
            49.4,
            59.2,
            72.2,
            83,
            62.8,
            51.5,
            74,
            76.3,
            56,
            82,
            61.7,
            72.8,
            75.7,
            66.9,
            75,
            72.3,
            53.8,
            65.2,
            67.5,
            73.2,
            57.1,
            51.6,
            64.8,
            76.8,
            61.6,
            73,
            73.8,
            68,
            75.7,
            79.3,
            73.1,
            68.2,
            61,
            76,
            65.8,
            63.5,
            74.1,
            72.3,
            47.1,
            68.1,
            56.5,
            81.6,
            71.8,
            70,
            52.6,
            66.7,
            73.7,
            66.6,
            56.7,
            72.5,
            71,
            74.7,
            73.9,
            65.6,
            57.5,
            69.2,
            76.6,
            68,
            78,
            57.4,
            50
           ],
           "y0": " ",
           "yaxis": "y"
          }
         ],
         "name": "2009"
        },
        {
         "data": [
          {
           "alignmentgroup": "True",
           "hovertemplate": "Year=2010<br>Development Status=%{x}<br>Life expectancy =%{y}<extra></extra>",
           "legendgroup": "",
           "marker": {
            "color": "#636efa"
           },
           "name": "",
           "notched": false,
           "offsetgroup": "",
           "orientation": "v",
           "showlegend": false,
           "type": "box",
           "x": [
            "Developing",
            "Developing",
            "Developing",
            "Developing",
            "Developing",
            "Developing",
            "Developed",
            "Developed",
            "Developing",
            "Developing",
            "Developing",
            "Developed",
            "Developing",
            "Developing",
            "Developing",
            "Developing",
            "Developing",
            "Developing",
            "Developed",
            "Developing",
            "Developing",
            "Developing",
            "Developing",
            "Developing",
            "Developing",
            "Developing",
            "Developing",
            "Developing",
            "Developing",
            "Developing",
            "Developing",
            "Developing",
            "Developed",
            "Developed",
            "Developing",
            "Developing",
            "Developing",
            "Developing",
            "Developing",
            "Developing",
            "Developing",
            "Developing",
            "Developing",
            "Developing",
            "Developing",
            "Developed",
            "Developing",
            "Developing",
            "Developing",
            "Developing",
            "Developing",
            "Developing",
            "Developing",
            "Developing",
            "Developing",
            "Developing",
            "Developed",
            "Developing",
            "Developed",
            "Developing",
            "Developing",
            "Developing",
            "Developing",
            "Developing",
            "Developed",
            "Developing",
            "Developing",
            "Developing",
            "Developed",
            "Developed",
            "Developing",
            "Developing",
            "Developing",
            "Developing",
            "Developing",
            "Developed",
            "Developing",
            "Developing",
            "Developing",
            "Developing",
            "Developing",
            "Developing",
            "Developing",
            "Developing",
            "Developing",
            "Developing",
            "Developing",
            "Developing",
            "Developing",
            "Developing",
            "Developing",
            "Developing",
            "Developing",
            "Developing",
            "Developing",
            "Developed",
            "Developed",
            "Developed",
            "Developing",
            "Developing",
            "Developing",
            "Developing",
            "Developing",
            "Developing",
            "Developing",
            "Developing",
            "Developing",
            "Developing",
            "Developed",
            "Developing",
            "Developing",
            "Developing",
            "Developing",
            "Developing",
            "Developing",
            "Developing",
            "Developing",
            "Developing",
            "Developing",
            "Developing",
            "Developing",
            "Developing",
            "Developing",
            "Developing",
            "Developing",
            "Developing",
            "Developing",
            "Developing"
           ],
           "x0": " ",
           "xaxis": "x",
           "y": [
            58.8,
            76.2,
            74.7,
            49.6,
            75.5,
            73.5,
            81.9,
            84,
            71.1,
            69.9,
            73,
            80,
            69.5,
            58.7,
            67.9,
            76.4,
            61.1,
            73.8,
            73.4,
            57.5,
            56.8,
            72.5,
            66.6,
            55.3,
            81.2,
            49.2,
            51.2,
            79.1,
            75,
            73.6,
            61.8,
            78.1,
            76.6,
            79.5,
            61.3,
            72.7,
            75,
            72,
            62.1,
            75.6,
            61.8,
            69.1,
            81.3,
            62.3,
            73.8,
            81,
            69,
            83,
            77,
            57.8,
            56.7,
            65.9,
            73.6,
            66.4,
            68.1,
            76,
            86,
            81.7,
            81.8,
            75,
            73.4,
            67.8,
            63,
            65.3,
            72.8,
            74.9,
            51.1,
            59.7,
            72.4,
            86,
            63.3,
            52.9,
            74.1,
            76.7,
            56.5,
            83,
            62,
            73.3,
            75.6,
            66.3,
            75.3,
            72.8,
            54,
            65.4,
            63,
            68,
            73.2,
            58.2,
            52,
            65.1,
            76.5,
            61.8,
            73.2,
            73.7,
            67.9,
            76.3,
            79.6,
            73.4,
            68.4,
            62.8,
            72.6,
            66.2,
            64.3,
            74.4,
            72.4,
            48.1,
            68.3,
            58,
            81.9,
            74.5,
            73,
            53.6,
            67.3,
            73.9,
            66.9,
            57.4,
            72.8,
            74,
            74.8,
            74.2,
            65.8,
            58.4,
            69.8,
            76.3,
            68.3,
            71,
            58,
            52.4
           ],
           "y0": " ",
           "yaxis": "y"
          }
         ],
         "name": "2010"
        },
        {
         "data": [
          {
           "alignmentgroup": "True",
           "hovertemplate": "Year=2011<br>Development Status=%{x}<br>Life expectancy =%{y}<extra></extra>",
           "legendgroup": "",
           "marker": {
            "color": "#636efa"
           },
           "name": "",
           "notched": false,
           "offsetgroup": "",
           "orientation": "v",
           "showlegend": false,
           "type": "box",
           "x": [
            "Developing",
            "Developing",
            "Developing",
            "Developing",
            "Developing",
            "Developing",
            "Developed",
            "Developed",
            "Developing",
            "Developing",
            "Developing",
            "Developed",
            "Developing",
            "Developing",
            "Developing",
            "Developing",
            "Developing",
            "Developing",
            "Developed",
            "Developing",
            "Developing",
            "Developing",
            "Developing",
            "Developing",
            "Developing",
            "Developing",
            "Developing",
            "Developing",
            "Developing",
            "Developing",
            "Developing",
            "Developing",
            "Developed",
            "Developed",
            "Developing",
            "Developing",
            "Developing",
            "Developing",
            "Developing",
            "Developing",
            "Developing",
            "Developing",
            "Developing",
            "Developing",
            "Developing",
            "Developed",
            "Developing",
            "Developing",
            "Developing",
            "Developing",
            "Developing",
            "Developing",
            "Developing",
            "Developing",
            "Developing",
            "Developing",
            "Developed",
            "Developing",
            "Developed",
            "Developing",
            "Developing",
            "Developing",
            "Developing",
            "Developing",
            "Developed",
            "Developing",
            "Developing",
            "Developing",
            "Developed",
            "Developed",
            "Developing",
            "Developing",
            "Developing",
            "Developing",
            "Developing",
            "Developed",
            "Developing",
            "Developing",
            "Developing",
            "Developing",
            "Developing",
            "Developing",
            "Developing",
            "Developing",
            "Developing",
            "Developing",
            "Developed",
            "Developing",
            "Developing",
            "Developing",
            "Developing",
            "Developing",
            "Developing",
            "Developing",
            "Developing",
            "Developing",
            "Developed",
            "Developed",
            "Developed",
            "Developing",
            "Developing",
            "Developing",
            "Developing",
            "Developing",
            "Developing",
            "Developing",
            "Developing",
            "Developing",
            "Developing",
            "Developed",
            "Developing",
            "Developing",
            "Developing",
            "Developed",
            "Developing",
            "Developing",
            "Developing",
            "Developing",
            "Developing",
            "Developing",
            "Developing",
            "Developing",
            "Developing",
            "Developing",
            "Developing",
            "Developing",
            "Developing",
            "Developing",
            "Developing",
            "Developing"
           ],
           "x0": " ",
           "xaxis": "x",
           "y": [
            59.2,
            76.6,
            74.9,
            51,
            75.7,
            73.9,
            82,
            88,
            71.6,
            73,
            72,
            83,
            69.4,
            59.1,
            68.3,
            76.9,
            62.2,
            74.1,
            73.7,
            58.1,
            57.4,
            72.6,
            67,
            55.6,
            81.5,
            49.8,
            51.6,
            79.8,
            75.2,
            74.2,
            62.2,
            79,
            77,
            79.7,
            61.8,
            73.1,
            75.3,
            72,
            62.9,
            76.1,
            62.6,
            69.2,
            81.7,
            62.8,
            73.9,
            85,
            61.2,
            85,
            71.1,
            58.1,
            57.1,
            65.6,
            73.9,
            66.8,
            68.3,
            77,
            84,
            81.8,
            82,
            75.2,
            73.6,
            68.5,
            61.2,
            65.5,
            73.6,
            75,
            52.3,
            62,
            72.8,
            88,
            63.8,
            54.1,
            74.3,
            77.3,
            56.8,
            87,
            62.2,
            73.6,
            76.1,
            67.3,
            75.4,
            73.3,
            54.3,
            65.6,
            64.3,
            68.4,
            81.1,
            74.5,
            59.4,
            52.3,
            65.5,
            77.3,
            62,
            73.4,
            74.5,
            68,
            76.7,
            82,
            74.3,
            69.4,
            63.8,
            73,
            66.6,
            64.9,
            74.6,
            72.6,
            48.9,
            68.5,
            58.9,
            82.1,
            74.5,
            76,
            55,
            81.7,
            68.1,
            74.1,
            67.2,
            58.3,
            72.9,
            76,
            74.8,
            74.5,
            65.6,
            59.3,
            75,
            77,
            68.5,
            71.2,
            58.2,
            54.9
           ],
           "y0": " ",
           "yaxis": "y"
          }
         ],
         "name": "2011"
        },
        {
         "data": [
          {
           "alignmentgroup": "True",
           "hovertemplate": "Year=2012<br>Development Status=%{x}<br>Life expectancy =%{y}<extra></extra>",
           "legendgroup": "",
           "marker": {
            "color": "#636efa"
           },
           "name": "",
           "notched": false,
           "offsetgroup": "",
           "orientation": "v",
           "showlegend": false,
           "type": "box",
           "x": [
            "Developing",
            "Developing",
            "Developing",
            "Developing",
            "Developing",
            "Developing",
            "Developed",
            "Developed",
            "Developing",
            "Developing",
            "Developing",
            "Developed",
            "Developing",
            "Developing",
            "Developing",
            "Developing",
            "Developing",
            "Developing",
            "Developed",
            "Developing",
            "Developing",
            "Developing",
            "Developing",
            "Developing",
            "Developing",
            "Developing",
            "Developing",
            "Developing",
            "Developing",
            "Developing",
            "Developing",
            "Developing",
            "Developed",
            "Developed",
            "Developing",
            "Developing",
            "Developing",
            "Developing",
            "Developing",
            "Developing",
            "Developing",
            "Developing",
            "Developing",
            "Developing",
            "Developed",
            "Developing",
            "Developing",
            "Developing",
            "Developing",
            "Developing",
            "Developing",
            "Developing",
            "Developing",
            "Developing",
            "Developing",
            "Developed",
            "Developing",
            "Developed",
            "Developing",
            "Developing",
            "Developing",
            "Developing",
            "Developing",
            "Developed",
            "Developing",
            "Developing",
            "Developing",
            "Developed",
            "Developed",
            "Developing",
            "Developing",
            "Developing",
            "Developing",
            "Developing",
            "Developed",
            "Developing",
            "Developing",
            "Developing",
            "Developing",
            "Developing",
            "Developing",
            "Developing",
            "Developing",
            "Developing",
            "Developing",
            "Developed",
            "Developing",
            "Developing",
            "Developing",
            "Developing",
            "Developing",
            "Developing",
            "Developing",
            "Developing",
            "Developing",
            "Developed",
            "Developed",
            "Developed",
            "Developing",
            "Developing",
            "Developing",
            "Developing",
            "Developing",
            "Developing",
            "Developing",
            "Developing",
            "Developing",
            "Developing",
            "Developed",
            "Developing",
            "Developing",
            "Developing",
            "Developed",
            "Developing",
            "Developing",
            "Developing",
            "Developing",
            "Developing",
            "Developing",
            "Developing",
            "Developing",
            "Developing",
            "Developing",
            "Developing",
            "Developing",
            "Developing",
            "Developing",
            "Developing",
            "Developing"
           ],
           "x0": " ",
           "xaxis": "x",
           "y": [
            59.5,
            76.9,
            75.1,
            56,
            75.9,
            74.4,
            82.3,
            88,
            71.9,
            77,
            71.9,
            83,
            69.4,
            59.3,
            68.7,
            76.8,
            63.4,
            74.5,
            73.9,
            58.6,
            58,
            72.7,
            67.4,
            55.9,
            81.6,
            53,
            51.8,
            79.9,
            75.4,
            74.3,
            62.5,
            79.2,
            77.1,
            80,
            62.2,
            72.1,
            75.5,
            73,
            76.3,
            63.3,
            69.4,
            81.5,
            63.5,
            74.2,
            86,
            61.6,
            84,
            71.3,
            58.4,
            57.6,
            65.8,
            74.1,
            67.3,
            68.5,
            76,
            85,
            81.8,
            82,
            75.3,
            73.7,
            69.1,
            62.1,
            65.7,
            73.8,
            75,
            52.2,
            67,
            73,
            81.1,
            64.3,
            55.3,
            74.5,
            77.6,
            57.2,
            81,
            62.5,
            73.9,
            76.3,
            67.8,
            75.6,
            73.6,
            54.8,
            65.9,
            65.8,
            68.9,
            81.1,
            73.9,
            63,
            52.7,
            65.7,
            77.2,
            62.2,
            73.6,
            74.9,
            68.1,
            76.8,
            83,
            74.4,
            69.6,
            64.6,
            73.2,
            66.9,
            65.6,
            74.9,
            72.7,
            49.7,
            68.7,
            59.2,
            82,
            74.5,
            71.3,
            56.5,
            81.7,
            68.8,
            74.3,
            67.4,
            58.9,
            73,
            78,
            74.9,
            74.8,
            65.6,
            60,
            77,
            76.5,
            68.8,
            71.4,
            59.2,
            56.6
           ],
           "y0": " ",
           "yaxis": "y"
          }
         ],
         "name": "2012"
        },
        {
         "data": [
          {
           "alignmentgroup": "True",
           "hovertemplate": "Year=2013<br>Development Status=%{x}<br>Life expectancy =%{y}<extra></extra>",
           "legendgroup": "",
           "marker": {
            "color": "#636efa"
           },
           "name": "",
           "notched": false,
           "offsetgroup": "",
           "orientation": "v",
           "showlegend": false,
           "type": "box",
           "x": [
            "Developing",
            "Developing",
            "Developing",
            "Developing",
            "Developing",
            "Developing",
            "Developed",
            "Developed",
            "Developing",
            "Developing",
            "Developing",
            "Developed",
            "Developing",
            "Developing",
            "Developing",
            "Developing",
            "Developing",
            "Developing",
            "Developed",
            "Developing",
            "Developing",
            "Developing",
            "Developing",
            "Developing",
            "Developing",
            "Developing",
            "Developing",
            "Developing",
            "Developing",
            "Developing",
            "Developing",
            "Developing",
            "Developed",
            "Developed",
            "Developing",
            "Developing",
            "Developing",
            "Developing",
            "Developing",
            "Developing",
            "Developing",
            "Developing",
            "Developing",
            "Developing",
            "Developed",
            "Developing",
            "Developing",
            "Developing",
            "Developing",
            "Developing",
            "Developing",
            "Developing",
            "Developing",
            "Developing",
            "Developing",
            "Developing",
            "Developed",
            "Developing",
            "Developed",
            "Developing",
            "Developing",
            "Developing",
            "Developing",
            "Developing",
            "Developed",
            "Developing",
            "Developing",
            "Developing",
            "Developed",
            "Developed",
            "Developing",
            "Developing",
            "Developing",
            "Developing",
            "Developing",
            "Developed",
            "Developing",
            "Developing",
            "Developing",
            "Developing",
            "Developing",
            "Developing",
            "Developing",
            "Developing",
            "Developing",
            "Developing",
            "Developed",
            "Developing",
            "Developing",
            "Developing",
            "Developing",
            "Developing",
            "Developing",
            "Developing",
            "Developing",
            "Developing",
            "Developed",
            "Developed",
            "Developed",
            "Developing",
            "Developing",
            "Developing",
            "Developing",
            "Developing",
            "Developing",
            "Developing",
            "Developing",
            "Developing",
            "Developing",
            "Developed",
            "Developing",
            "Developing",
            "Developing",
            "Developed",
            "Developing",
            "Developing",
            "Developing",
            "Developing",
            "Developing",
            "Developing",
            "Developing",
            "Developing",
            "Developing",
            "Developing",
            "Developing",
            "Developing",
            "Developing",
            "Developing",
            "Developing",
            "Developing"
           ],
           "x0": " ",
           "xaxis": "x",
           "y": [
            59.9,
            77.2,
            75.3,
            51.1,
            76,
            74.4,
            82.5,
            81.1,
            72.2,
            71,
            71.7,
            87,
            69.8,
            59.5,
            69.1,
            77,
            64.2,
            74.7,
            74.1,
            59,
            58.6,
            72.8,
            67.8,
            56.4,
            81.8,
            49.9,
            52.2,
            81,
            75.6,
            74.4,
            62.9,
            79.4,
            77.7,
            81,
            62.7,
            73.4,
            76,
            73,
            76.9,
            63.7,
            69.6,
            82,
            64.6,
            74.5,
            86,
            61.9,
            86,
            71.4,
            58.8,
            58.1,
            65.9,
            62.7,
            74.3,
            67.6,
            68.7,
            69.5,
            81,
            82.1,
            82.3,
            75.6,
            73.9,
            69.5,
            62.6,
            65.8,
            74.1,
            74.9,
            52.1,
            61.1,
            73,
            81.4,
            64.7,
            56.7,
            74.6,
            77.9,
            57.3,
            81.1,
            62.7,
            74.1,
            76.6,
            68.1,
            75.8,
            73.9,
            55.3,
            66.2,
            66.1,
            69.3,
            81.4,
            73.9,
            69,
            53.2,
            66,
            77.5,
            62.4,
            73.8,
            75.3,
            68.1,
            77.1,
            86,
            74.6,
            70,
            65.2,
            73.6,
            67.1,
            66,
            75.3,
            72.9,
            54,
            68.8,
            69,
            82.4,
            74.6,
            71.2,
            57.6,
            81.9,
            69.3,
            74.5,
            67.7,
            59.4,
            73.2,
            71,
            74.9,
            75.2,
            65.4,
            67,
            71,
            76.8,
            69.1,
            71.6,
            63,
            58
           ],
           "y0": " ",
           "yaxis": "y"
          }
         ],
         "name": "2013"
        },
        {
         "data": [
          {
           "alignmentgroup": "True",
           "hovertemplate": "Year=2014<br>Development Status=%{x}<br>Life expectancy =%{y}<extra></extra>",
           "legendgroup": "",
           "marker": {
            "color": "#636efa"
           },
           "name": "",
           "notched": false,
           "offsetgroup": "",
           "orientation": "v",
           "showlegend": false,
           "type": "box",
           "x": [
            "Developing",
            "Developing",
            "Developing",
            "Developing",
            "Developing",
            "Developing",
            "Developed",
            "Developed",
            "Developing",
            "Developing",
            "Developing",
            "Developed",
            "Developing",
            "Developing",
            "Developing",
            "Developing",
            "Developing",
            "Developing",
            "Developed",
            "Developing",
            "Developing",
            "Developing",
            "Developing",
            "Developing",
            "Developing",
            "Developing",
            "Developing",
            "Developing",
            "Developing",
            "Developing",
            "Developing",
            "Developing",
            "Developed",
            "Developed",
            "Developing",
            "Developing",
            "Developing",
            "Developing",
            "Developing",
            "Developing",
            "Developing",
            "Developing",
            "Developing",
            "Developing",
            "Developing",
            "Developed",
            "Developing",
            "Developing",
            "Developing",
            "Developing",
            "Developing",
            "Developing",
            "Developing",
            "Developing",
            "Developing",
            "Developing",
            "Developing",
            "Developed",
            "Developing",
            "Developed",
            "Developing",
            "Developing",
            "Developing",
            "Developing",
            "Developing",
            "Developed",
            "Developing",
            "Developing",
            "Developing",
            "Developed",
            "Developed",
            "Developing",
            "Developing",
            "Developing",
            "Developing",
            "Developing",
            "Developed",
            "Developing",
            "Developing",
            "Developing",
            "Developing",
            "Developing",
            "Developing",
            "Developing",
            "Developing",
            "Developing",
            "Developing",
            "Developed",
            "Developing",
            "Developing",
            "Developing",
            "Developing",
            "Developing",
            "Developing",
            "Developing",
            "Developing",
            "Developing",
            "Developed",
            "Developed",
            "Developed",
            "Developing",
            "Developing",
            "Developing",
            "Developing",
            "Developing",
            "Developing",
            "Developing",
            "Developing",
            "Developing",
            "Developing",
            "Developed",
            "Developing",
            "Developing",
            "Developing",
            "Developed",
            "Developing",
            "Developing",
            "Developing",
            "Developing",
            "Developing",
            "Developing",
            "Developing",
            "Developing",
            "Developing",
            "Developing",
            "Developing",
            "Developing",
            "Developing",
            "Developing",
            "Developing",
            "Developing"
           ],
           "x0": " ",
           "xaxis": "x",
           "y": [
            59.9,
            77.5,
            75.4,
            51.7,
            76.2,
            74.6,
            82.7,
            81.4,
            72.5,
            71.4,
            72,
            89,
            70,
            59.7,
            69.4,
            77.2,
            65.1,
            74.8,
            74.3,
            59.3,
            59.1,
            73,
            68.3,
            56.7,
            82,
            58,
            52.6,
            83,
            75.8,
            74.6,
            63.2,
            79.5,
            77.8,
            83,
            63,
            73.6,
            76,
            73.3,
            57.9,
            77.3,
            64.2,
            69.7,
            82.2,
            65.5,
            74.5,
            89,
            62.1,
            88,
            71.7,
            58.1,
            58.4,
            66,
            63.1,
            74.5,
            68,
            68.9,
            67.9,
            81.2,
            82.2,
            82.5,
            75.8,
            74,
            69.9,
            62.9,
            66.1,
            74.4,
            74.8,
            52.1,
            58.1,
            73.4,
            81.7,
            65.1,
            57.6,
            74.8,
            78.2,
            57.8,
            81.4,
            63,
            74.2,
            76.6,
            68.4,
            75.9,
            74.1,
            56.7,
            66.4,
            65.9,
            69.6,
            81.7,
            74.5,
            61.4,
            53.6,
            66.2,
            77.6,
            62.7,
            73.9,
            75.3,
            68.4,
            77.3,
            89,
            74.8,
            73,
            65.7,
            73.8,
            67.3,
            66.4,
            75.4,
            73,
            48.1,
            68.8,
            62,
            82.6,
            74.7,
            71.4,
            58.4,
            82.3,
            69.6,
            74.6,
            68,
            59.7,
            73.3,
            71.1,
            75.1,
            75.5,
            66,
            61.5,
            78,
            76.8,
            69.2,
            71.7,
            61.1,
            59.2
           ],
           "y0": " ",
           "yaxis": "y"
          }
         ],
         "name": "2014"
        }
       ],
       "layout": {
        "boxmode": "group",
        "height": 1200,
        "legend": {
         "tracegroupgap": 0
        },
        "sliders": [
         {
          "active": 0,
          "currentvalue": {
           "prefix": "Year="
          },
          "len": 0.9,
          "pad": {
           "b": 10,
           "t": 60
          },
          "steps": [
           {
            "args": [
             [
              "2014"
             ],
             {
              "frame": {
               "duration": 0,
               "redraw": true
              },
              "fromcurrent": true,
              "mode": "immediate",
              "transition": {
               "duration": 0,
               "easing": "linear"
              }
             }
            ],
            "label": "2014",
            "method": "animate"
           },
           {
            "args": [
             [
              "2013"
             ],
             {
              "frame": {
               "duration": 0,
               "redraw": true
              },
              "fromcurrent": true,
              "mode": "immediate",
              "transition": {
               "duration": 0,
               "easing": "linear"
              }
             }
            ],
            "label": "2013",
            "method": "animate"
           },
           {
            "args": [
             [
              "2012"
             ],
             {
              "frame": {
               "duration": 0,
               "redraw": true
              },
              "fromcurrent": true,
              "mode": "immediate",
              "transition": {
               "duration": 0,
               "easing": "linear"
              }
             }
            ],
            "label": "2012",
            "method": "animate"
           },
           {
            "args": [
             [
              "2011"
             ],
             {
              "frame": {
               "duration": 0,
               "redraw": true
              },
              "fromcurrent": true,
              "mode": "immediate",
              "transition": {
               "duration": 0,
               "easing": "linear"
              }
             }
            ],
            "label": "2011",
            "method": "animate"
           },
           {
            "args": [
             [
              "2010"
             ],
             {
              "frame": {
               "duration": 0,
               "redraw": true
              },
              "fromcurrent": true,
              "mode": "immediate",
              "transition": {
               "duration": 0,
               "easing": "linear"
              }
             }
            ],
            "label": "2010",
            "method": "animate"
           },
           {
            "args": [
             [
              "2009"
             ],
             {
              "frame": {
               "duration": 0,
               "redraw": true
              },
              "fromcurrent": true,
              "mode": "immediate",
              "transition": {
               "duration": 0,
               "easing": "linear"
              }
             }
            ],
            "label": "2009",
            "method": "animate"
           },
           {
            "args": [
             [
              "2008"
             ],
             {
              "frame": {
               "duration": 0,
               "redraw": true
              },
              "fromcurrent": true,
              "mode": "immediate",
              "transition": {
               "duration": 0,
               "easing": "linear"
              }
             }
            ],
            "label": "2008",
            "method": "animate"
           },
           {
            "args": [
             [
              "2007"
             ],
             {
              "frame": {
               "duration": 0,
               "redraw": true
              },
              "fromcurrent": true,
              "mode": "immediate",
              "transition": {
               "duration": 0,
               "easing": "linear"
              }
             }
            ],
            "label": "2007",
            "method": "animate"
           },
           {
            "args": [
             [
              "2006"
             ],
             {
              "frame": {
               "duration": 0,
               "redraw": true
              },
              "fromcurrent": true,
              "mode": "immediate",
              "transition": {
               "duration": 0,
               "easing": "linear"
              }
             }
            ],
            "label": "2006",
            "method": "animate"
           },
           {
            "args": [
             [
              "2005"
             ],
             {
              "frame": {
               "duration": 0,
               "redraw": true
              },
              "fromcurrent": true,
              "mode": "immediate",
              "transition": {
               "duration": 0,
               "easing": "linear"
              }
             }
            ],
            "label": "2005",
            "method": "animate"
           },
           {
            "args": [
             [
              "2004"
             ],
             {
              "frame": {
               "duration": 0,
               "redraw": true
              },
              "fromcurrent": true,
              "mode": "immediate",
              "transition": {
               "duration": 0,
               "easing": "linear"
              }
             }
            ],
            "label": "2004",
            "method": "animate"
           },
           {
            "args": [
             [
              "2003"
             ],
             {
              "frame": {
               "duration": 0,
               "redraw": true
              },
              "fromcurrent": true,
              "mode": "immediate",
              "transition": {
               "duration": 0,
               "easing": "linear"
              }
             }
            ],
            "label": "2003",
            "method": "animate"
           },
           {
            "args": [
             [
              "2002"
             ],
             {
              "frame": {
               "duration": 0,
               "redraw": true
              },
              "fromcurrent": true,
              "mode": "immediate",
              "transition": {
               "duration": 0,
               "easing": "linear"
              }
             }
            ],
            "label": "2002",
            "method": "animate"
           },
           {
            "args": [
             [
              "2001"
             ],
             {
              "frame": {
               "duration": 0,
               "redraw": true
              },
              "fromcurrent": true,
              "mode": "immediate",
              "transition": {
               "duration": 0,
               "easing": "linear"
              }
             }
            ],
            "label": "2001",
            "method": "animate"
           },
           {
            "args": [
             [
              "2000"
             ],
             {
              "frame": {
               "duration": 0,
               "redraw": true
              },
              "fromcurrent": true,
              "mode": "immediate",
              "transition": {
               "duration": 0,
               "easing": "linear"
              }
             }
            ],
            "label": "2000",
            "method": "animate"
           }
          ],
          "x": 0.1,
          "xanchor": "left",
          "y": 0,
          "yanchor": "top"
         }
        ],
        "template": {
         "data": {
          "bar": [
           {
            "error_x": {
             "color": "#2a3f5f"
            },
            "error_y": {
             "color": "#2a3f5f"
            },
            "marker": {
             "line": {
              "color": "#E5ECF6",
              "width": 0.5
             },
             "pattern": {
              "fillmode": "overlay",
              "size": 10,
              "solidity": 0.2
             }
            },
            "type": "bar"
           }
          ],
          "barpolar": [
           {
            "marker": {
             "line": {
              "color": "#E5ECF6",
              "width": 0.5
             },
             "pattern": {
              "fillmode": "overlay",
              "size": 10,
              "solidity": 0.2
             }
            },
            "type": "barpolar"
           }
          ],
          "carpet": [
           {
            "aaxis": {
             "endlinecolor": "#2a3f5f",
             "gridcolor": "white",
             "linecolor": "white",
             "minorgridcolor": "white",
             "startlinecolor": "#2a3f5f"
            },
            "baxis": {
             "endlinecolor": "#2a3f5f",
             "gridcolor": "white",
             "linecolor": "white",
             "minorgridcolor": "white",
             "startlinecolor": "#2a3f5f"
            },
            "type": "carpet"
           }
          ],
          "choropleth": [
           {
            "colorbar": {
             "outlinewidth": 0,
             "ticks": ""
            },
            "type": "choropleth"
           }
          ],
          "contour": [
           {
            "colorbar": {
             "outlinewidth": 0,
             "ticks": ""
            },
            "colorscale": [
             [
              0,
              "#0d0887"
             ],
             [
              0.1111111111111111,
              "#46039f"
             ],
             [
              0.2222222222222222,
              "#7201a8"
             ],
             [
              0.3333333333333333,
              "#9c179e"
             ],
             [
              0.4444444444444444,
              "#bd3786"
             ],
             [
              0.5555555555555556,
              "#d8576b"
             ],
             [
              0.6666666666666666,
              "#ed7953"
             ],
             [
              0.7777777777777778,
              "#fb9f3a"
             ],
             [
              0.8888888888888888,
              "#fdca26"
             ],
             [
              1,
              "#f0f921"
             ]
            ],
            "type": "contour"
           }
          ],
          "contourcarpet": [
           {
            "colorbar": {
             "outlinewidth": 0,
             "ticks": ""
            },
            "type": "contourcarpet"
           }
          ],
          "heatmap": [
           {
            "colorbar": {
             "outlinewidth": 0,
             "ticks": ""
            },
            "colorscale": [
             [
              0,
              "#0d0887"
             ],
             [
              0.1111111111111111,
              "#46039f"
             ],
             [
              0.2222222222222222,
              "#7201a8"
             ],
             [
              0.3333333333333333,
              "#9c179e"
             ],
             [
              0.4444444444444444,
              "#bd3786"
             ],
             [
              0.5555555555555556,
              "#d8576b"
             ],
             [
              0.6666666666666666,
              "#ed7953"
             ],
             [
              0.7777777777777778,
              "#fb9f3a"
             ],
             [
              0.8888888888888888,
              "#fdca26"
             ],
             [
              1,
              "#f0f921"
             ]
            ],
            "type": "heatmap"
           }
          ],
          "heatmapgl": [
           {
            "colorbar": {
             "outlinewidth": 0,
             "ticks": ""
            },
            "colorscale": [
             [
              0,
              "#0d0887"
             ],
             [
              0.1111111111111111,
              "#46039f"
             ],
             [
              0.2222222222222222,
              "#7201a8"
             ],
             [
              0.3333333333333333,
              "#9c179e"
             ],
             [
              0.4444444444444444,
              "#bd3786"
             ],
             [
              0.5555555555555556,
              "#d8576b"
             ],
             [
              0.6666666666666666,
              "#ed7953"
             ],
             [
              0.7777777777777778,
              "#fb9f3a"
             ],
             [
              0.8888888888888888,
              "#fdca26"
             ],
             [
              1,
              "#f0f921"
             ]
            ],
            "type": "heatmapgl"
           }
          ],
          "histogram": [
           {
            "marker": {
             "pattern": {
              "fillmode": "overlay",
              "size": 10,
              "solidity": 0.2
             }
            },
            "type": "histogram"
           }
          ],
          "histogram2d": [
           {
            "colorbar": {
             "outlinewidth": 0,
             "ticks": ""
            },
            "colorscale": [
             [
              0,
              "#0d0887"
             ],
             [
              0.1111111111111111,
              "#46039f"
             ],
             [
              0.2222222222222222,
              "#7201a8"
             ],
             [
              0.3333333333333333,
              "#9c179e"
             ],
             [
              0.4444444444444444,
              "#bd3786"
             ],
             [
              0.5555555555555556,
              "#d8576b"
             ],
             [
              0.6666666666666666,
              "#ed7953"
             ],
             [
              0.7777777777777778,
              "#fb9f3a"
             ],
             [
              0.8888888888888888,
              "#fdca26"
             ],
             [
              1,
              "#f0f921"
             ]
            ],
            "type": "histogram2d"
           }
          ],
          "histogram2dcontour": [
           {
            "colorbar": {
             "outlinewidth": 0,
             "ticks": ""
            },
            "colorscale": [
             [
              0,
              "#0d0887"
             ],
             [
              0.1111111111111111,
              "#46039f"
             ],
             [
              0.2222222222222222,
              "#7201a8"
             ],
             [
              0.3333333333333333,
              "#9c179e"
             ],
             [
              0.4444444444444444,
              "#bd3786"
             ],
             [
              0.5555555555555556,
              "#d8576b"
             ],
             [
              0.6666666666666666,
              "#ed7953"
             ],
             [
              0.7777777777777778,
              "#fb9f3a"
             ],
             [
              0.8888888888888888,
              "#fdca26"
             ],
             [
              1,
              "#f0f921"
             ]
            ],
            "type": "histogram2dcontour"
           }
          ],
          "mesh3d": [
           {
            "colorbar": {
             "outlinewidth": 0,
             "ticks": ""
            },
            "type": "mesh3d"
           }
          ],
          "parcoords": [
           {
            "line": {
             "colorbar": {
              "outlinewidth": 0,
              "ticks": ""
             }
            },
            "type": "parcoords"
           }
          ],
          "pie": [
           {
            "automargin": true,
            "type": "pie"
           }
          ],
          "scatter": [
           {
            "fillpattern": {
             "fillmode": "overlay",
             "size": 10,
             "solidity": 0.2
            },
            "type": "scatter"
           }
          ],
          "scatter3d": [
           {
            "line": {
             "colorbar": {
              "outlinewidth": 0,
              "ticks": ""
             }
            },
            "marker": {
             "colorbar": {
              "outlinewidth": 0,
              "ticks": ""
             }
            },
            "type": "scatter3d"
           }
          ],
          "scattercarpet": [
           {
            "marker": {
             "colorbar": {
              "outlinewidth": 0,
              "ticks": ""
             }
            },
            "type": "scattercarpet"
           }
          ],
          "scattergeo": [
           {
            "marker": {
             "colorbar": {
              "outlinewidth": 0,
              "ticks": ""
             }
            },
            "type": "scattergeo"
           }
          ],
          "scattergl": [
           {
            "marker": {
             "colorbar": {
              "outlinewidth": 0,
              "ticks": ""
             }
            },
            "type": "scattergl"
           }
          ],
          "scattermapbox": [
           {
            "marker": {
             "colorbar": {
              "outlinewidth": 0,
              "ticks": ""
             }
            },
            "type": "scattermapbox"
           }
          ],
          "scatterpolar": [
           {
            "marker": {
             "colorbar": {
              "outlinewidth": 0,
              "ticks": ""
             }
            },
            "type": "scatterpolar"
           }
          ],
          "scatterpolargl": [
           {
            "marker": {
             "colorbar": {
              "outlinewidth": 0,
              "ticks": ""
             }
            },
            "type": "scatterpolargl"
           }
          ],
          "scatterternary": [
           {
            "marker": {
             "colorbar": {
              "outlinewidth": 0,
              "ticks": ""
             }
            },
            "type": "scatterternary"
           }
          ],
          "surface": [
           {
            "colorbar": {
             "outlinewidth": 0,
             "ticks": ""
            },
            "colorscale": [
             [
              0,
              "#0d0887"
             ],
             [
              0.1111111111111111,
              "#46039f"
             ],
             [
              0.2222222222222222,
              "#7201a8"
             ],
             [
              0.3333333333333333,
              "#9c179e"
             ],
             [
              0.4444444444444444,
              "#bd3786"
             ],
             [
              0.5555555555555556,
              "#d8576b"
             ],
             [
              0.6666666666666666,
              "#ed7953"
             ],
             [
              0.7777777777777778,
              "#fb9f3a"
             ],
             [
              0.8888888888888888,
              "#fdca26"
             ],
             [
              1,
              "#f0f921"
             ]
            ],
            "type": "surface"
           }
          ],
          "table": [
           {
            "cells": {
             "fill": {
              "color": "#EBF0F8"
             },
             "line": {
              "color": "white"
             }
            },
            "header": {
             "fill": {
              "color": "#C8D4E3"
             },
             "line": {
              "color": "white"
             }
            },
            "type": "table"
           }
          ]
         },
         "layout": {
          "annotationdefaults": {
           "arrowcolor": "#2a3f5f",
           "arrowhead": 0,
           "arrowwidth": 1
          },
          "autotypenumbers": "strict",
          "coloraxis": {
           "colorbar": {
            "outlinewidth": 0,
            "ticks": ""
           }
          },
          "colorscale": {
           "diverging": [
            [
             0,
             "#8e0152"
            ],
            [
             0.1,
             "#c51b7d"
            ],
            [
             0.2,
             "#de77ae"
            ],
            [
             0.3,
             "#f1b6da"
            ],
            [
             0.4,
             "#fde0ef"
            ],
            [
             0.5,
             "#f7f7f7"
            ],
            [
             0.6,
             "#e6f5d0"
            ],
            [
             0.7,
             "#b8e186"
            ],
            [
             0.8,
             "#7fbc41"
            ],
            [
             0.9,
             "#4d9221"
            ],
            [
             1,
             "#276419"
            ]
           ],
           "sequential": [
            [
             0,
             "#0d0887"
            ],
            [
             0.1111111111111111,
             "#46039f"
            ],
            [
             0.2222222222222222,
             "#7201a8"
            ],
            [
             0.3333333333333333,
             "#9c179e"
            ],
            [
             0.4444444444444444,
             "#bd3786"
            ],
            [
             0.5555555555555556,
             "#d8576b"
            ],
            [
             0.6666666666666666,
             "#ed7953"
            ],
            [
             0.7777777777777778,
             "#fb9f3a"
            ],
            [
             0.8888888888888888,
             "#fdca26"
            ],
            [
             1,
             "#f0f921"
            ]
           ],
           "sequentialminus": [
            [
             0,
             "#0d0887"
            ],
            [
             0.1111111111111111,
             "#46039f"
            ],
            [
             0.2222222222222222,
             "#7201a8"
            ],
            [
             0.3333333333333333,
             "#9c179e"
            ],
            [
             0.4444444444444444,
             "#bd3786"
            ],
            [
             0.5555555555555556,
             "#d8576b"
            ],
            [
             0.6666666666666666,
             "#ed7953"
            ],
            [
             0.7777777777777778,
             "#fb9f3a"
            ],
            [
             0.8888888888888888,
             "#fdca26"
            ],
            [
             1,
             "#f0f921"
            ]
           ]
          },
          "colorway": [
           "#636efa",
           "#EF553B",
           "#00cc96",
           "#ab63fa",
           "#FFA15A",
           "#19d3f3",
           "#FF6692",
           "#B6E880",
           "#FF97FF",
           "#FECB52"
          ],
          "font": {
           "color": "#2a3f5f"
          },
          "geo": {
           "bgcolor": "white",
           "lakecolor": "white",
           "landcolor": "#E5ECF6",
           "showlakes": true,
           "showland": true,
           "subunitcolor": "white"
          },
          "hoverlabel": {
           "align": "left"
          },
          "hovermode": "closest",
          "mapbox": {
           "style": "light"
          },
          "paper_bgcolor": "white",
          "plot_bgcolor": "#E5ECF6",
          "polar": {
           "angularaxis": {
            "gridcolor": "white",
            "linecolor": "white",
            "ticks": ""
           },
           "bgcolor": "#E5ECF6",
           "radialaxis": {
            "gridcolor": "white",
            "linecolor": "white",
            "ticks": ""
           }
          },
          "scene": {
           "xaxis": {
            "backgroundcolor": "#E5ECF6",
            "gridcolor": "white",
            "gridwidth": 2,
            "linecolor": "white",
            "showbackground": true,
            "ticks": "",
            "zerolinecolor": "white"
           },
           "yaxis": {
            "backgroundcolor": "#E5ECF6",
            "gridcolor": "white",
            "gridwidth": 2,
            "linecolor": "white",
            "showbackground": true,
            "ticks": "",
            "zerolinecolor": "white"
           },
           "zaxis": {
            "backgroundcolor": "#E5ECF6",
            "gridcolor": "white",
            "gridwidth": 2,
            "linecolor": "white",
            "showbackground": true,
            "ticks": "",
            "zerolinecolor": "white"
           }
          },
          "shapedefaults": {
           "line": {
            "color": "#2a3f5f"
           }
          },
          "ternary": {
           "aaxis": {
            "gridcolor": "white",
            "linecolor": "white",
            "ticks": ""
           },
           "baxis": {
            "gridcolor": "white",
            "linecolor": "white",
            "ticks": ""
           },
           "bgcolor": "#E5ECF6",
           "caxis": {
            "gridcolor": "white",
            "linecolor": "white",
            "ticks": ""
           }
          },
          "title": {
           "x": 0.05
          },
          "xaxis": {
           "automargin": true,
           "gridcolor": "white",
           "linecolor": "white",
           "ticks": "",
           "title": {
            "standoff": 15
           },
           "zerolinecolor": "white",
           "zerolinewidth": 2
          },
          "yaxis": {
           "automargin": true,
           "gridcolor": "white",
           "linecolor": "white",
           "ticks": "",
           "title": {
            "standoff": 15
           },
           "zerolinecolor": "white",
           "zerolinewidth": 2
          }
         }
        },
        "title": {
         "text": "Life Expectancy Distribution by Status (2000 to 2014)"
        },
        "updatemenus": [
         {
          "buttons": [
           {
            "args": [
             null,
             {
              "frame": {
               "duration": 500,
               "redraw": true
              },
              "fromcurrent": true,
              "mode": "immediate",
              "transition": {
               "duration": 500,
               "easing": "linear"
              }
             }
            ],
            "label": "&#9654;",
            "method": "animate"
           },
           {
            "args": [
             [
              null
             ],
             {
              "frame": {
               "duration": 0,
               "redraw": true
              },
              "fromcurrent": true,
              "mode": "immediate",
              "transition": {
               "duration": 0,
               "easing": "linear"
              }
             }
            ],
            "label": "&#9724;",
            "method": "animate"
           }
          ],
          "direction": "left",
          "pad": {
           "r": 10,
           "t": 70
          },
          "showactive": false,
          "type": "buttons",
          "x": 0.1,
          "xanchor": "right",
          "y": 0,
          "yanchor": "top"
         }
        ],
        "width": 1200,
        "xaxis": {
         "anchor": "y",
         "domain": [
          0,
          1
         ],
         "title": {
          "text": "Development Status"
         }
        },
        "yaxis": {
         "anchor": "x",
         "domain": [
          0,
          1
         ],
         "title": {
          "text": "Life Expectancy"
         }
        }
       }
      }
     },
     "metadata": {},
     "output_type": "display_data"
    }
   ],
   "source": [
    "fig = px.box(df_filtered, x='Status', y='Life expectancy ',title='Life Expectancy Distribution by Status (2000 to 2014)',animation_frame='Year',labels={'Life expectancy': 'Life Expectancy', 'Status': 'Development Status'})\n",
    "\n",
    "fig.update_layout(\n",
    "    xaxis_title='Development Status',\n",
    "    yaxis_title='Life Expectancy',\n",
    "    width=1200,\n",
    "    height=1200\n",
    ")\n",
    "fig.frames = fig.frames[::-1] # reversing the frame in order to have a progessive plot\n",
    "fig.show()"
   ]
  },
  {
   "cell_type": "code",
   "execution_count": null,
   "metadata": {},
   "outputs": [],
   "source": []
  },
  {
   "cell_type": "markdown",
   "metadata": {},
   "source": [
    "#### 5.Correlation map in order to study the columns that are influencing the life expectancy"
   ]
  },
  {
   "cell_type": "code",
   "execution_count": 107,
   "metadata": {},
   "outputs": [],
   "source": [
    "numeric_columns = df.select_dtypes(include=['float64']).columns # Filtering the non-numeric columns in order to do a correlation\n",
    "correlation_matrix = df[numeric_columns].corr()"
   ]
  },
  {
   "cell_type": "code",
   "execution_count": 108,
   "metadata": {},
   "outputs": [
    {
     "data": {
      "application/vnd.plotly.v1+json": {
       "config": {
        "plotlyServerURL": "https://plot.ly"
       },
       "data": [
        {
         "coloraxis": "coloraxis",
         "hovertemplate": "Features: %{x}<br>Features: %{y}<br>Correlation: %{z}<extra></extra>",
         "name": "0",
         "type": "heatmap",
         "x": [
          "Life expectancy ",
          "Adult Mortality",
          "Alcohol",
          "percentage expenditure",
          "Hepatitis B",
          " BMI ",
          "Polio",
          "Total expenditure",
          "Diphtheria ",
          " HIV/AIDS",
          "GDP",
          "Population",
          " thinness  1-19 years",
          " thinness 5-9 years",
          "Income composition of resources",
          "Schooling"
         ],
         "xaxis": "x",
         "y": [
          "Life expectancy ",
          "Adult Mortality",
          "Alcohol",
          "percentage expenditure",
          "Hepatitis B",
          " BMI ",
          "Polio",
          "Total expenditure",
          "Diphtheria ",
          " HIV/AIDS",
          "GDP",
          "Population",
          " thinness  1-19 years",
          " thinness 5-9 years",
          "Income composition of resources",
          "Schooling"
         ],
         "yaxis": "y",
         "z": [
          [
           1,
           -0.7025230623069735,
           0.402718321727354,
           0.40963082412504687,
           0.1999352763975776,
           0.5420415876915772,
           0.3272944031049289,
           0.17471764064230505,
           0.3413312342606403,
           -0.5922362925926357,
           0.44132180991356496,
           -0.022304977802841897,
           -0.45783819334984416,
           -0.45750828676580096,
           0.7210825929172864,
           0.7276300323211043
          ],
          [
           -0.7025230623069735,
           1,
           -0.17553508575848245,
           -0.23760989013786574,
           -0.10522544258930572,
           -0.35154247827451096,
           -0.1998530004059598,
           -0.08522653475086901,
           -0.19142875921157268,
           0.5506907453932752,
           -0.2550347325077516,
           -0.015011838123604479,
           0.27223004418323704,
           0.28672288217555714,
           -0.44220328763116346,
           -0.4211705232348179
          ],
          [
           0.402718321727354,
           -0.17553508575848245,
           1,
           0.41704735846341157,
           0.10988939237514632,
           0.35339620539045263,
           0.24031453311147946,
           0.21488509406015904,
           0.242951426833254,
           -0.027112636037520683,
           0.4434327894751658,
           -0.02888023244930858,
           -0.4037549896475883,
           -0.3862081893744056,
           0.561074332137327,
           0.6169748090003161
          ],
          [
           0.40963082412504687,
           -0.23760989013786574,
           0.41704735846341157,
           1,
           0.0167601726008279,
           0.24273824334180236,
           0.12862605133569857,
           0.18387236479076008,
           0.13481324186082008,
           -0.09508499088595439,
           0.9592988569672184,
           -0.016792141321812965,
           -0.2550346029509551,
           -0.25563544240004926,
           0.40216973584811605,
           0.422088454191989
          ],
          [
           0.1999352763975776,
           -0.10522544258930572,
           0.10988939237514632,
           0.0167601726008279,
           1,
           0.1433017864392848,
           0.4633307991718396,
           0.11332668265769096,
           0.5889899269525826,
           -0.09480197056648793,
           0.04184950025350453,
           -0.1297226546503967,
           -0.1294059539799348,
           -0.13325098509557512,
           0.18492097001836738,
           0.21518159338370538
          ],
          [
           0.5420415876915772,
           -0.35154247827451096,
           0.35339620539045263,
           0.24273824334180236,
           0.1433017864392848,
           1,
           0.1862679651210562,
           0.18946896373710756,
           0.17629450269591418,
           -0.21089674627313934,
           0.2661139730639117,
           -0.08141598206828445,
           -0.5470175139952642,
           -0.5540939811178432,
           0.51050483068018,
           0.5548439025517072
          ],
          [
           0.3272944031049289,
           -0.1998530004059598,
           0.24031453311147946,
           0.12862605133569857,
           0.4633307991718396,
           0.1862679651210562,
           1,
           0.11976798351450432,
           0.6092454669558363,
           -0.10788546790410074,
           0.1568086898165069,
           -0.04538657158389491,
           -0.16406959345408154,
           -0.17448925069180868,
           0.3146815941255956,
           0.3501466010592101
          ],
          [
           0.17471764064230505,
           -0.08522653475086901,
           0.21488509406015904,
           0.18387236479076008,
           0.11332668265769096,
           0.18946896373710756,
           0.11976798351450432,
           1,
           0.12991481304061506,
           0.04310065658602942,
           0.18037347007785745,
           -0.07996223681885921,
           -0.2098723196428522,
           -0.21786479439827353,
           0.1836531899297193,
           0.2437834454923263
          ],
          [
           0.3413312342606403,
           -0.19142875921157268,
           0.242951426833254,
           0.13481324186082008,
           0.5889899269525826,
           0.17629450269591418,
           0.6092454669558363,
           0.12991481304061506,
           1,
           -0.11760107416414974,
           0.15843774489541004,
           -0.03989753651945028,
           -0.1872416454797586,
           -0.18095238221833498,
           0.3432617722501239,
           0.35039793460461593
          ],
          [
           -0.5922362925926357,
           0.5506907453932752,
           -0.027112636037520683,
           -0.09508499088595439,
           -0.09480197056648793,
           -0.21089674627313934,
           -0.10788546790410074,
           0.04310065658602942,
           -0.11760107416414974,
           1,
           -0.10808059984822807,
           -0.027800561586620996,
           0.1725917670389402,
           0.183146726954806,
           -0.2485898549046261,
           -0.21184020050163221
          ],
          [
           0.44132180991356496,
           -0.2550347325077516,
           0.4434327894751658,
           0.9592988569672184,
           0.04184950025350453,
           0.2661139730639117,
           0.1568086898165069,
           0.18037347007785745,
           0.15843774489541004,
           -0.10808059984822807,
           1,
           -0.020368964304488483,
           -0.27749834542066154,
           -0.2779585540787128,
           0.44685551061622986,
           0.4679469733645062
          ],
          [
           -0.022304977802841897,
           -0.015011838123604479,
           -0.02888023244930858,
           -0.016792141321812965,
           -0.1297226546503967,
           -0.08141598206828445,
           -0.04538657158389491,
           -0.07996223681885921,
           -0.03989753651945028,
           -0.027800561586620996,
           -0.020368964304488483,
           1,
           0.28252928034622227,
           0.27791337374069813,
           -0.00813246552354176,
           -0.040312419026834516
          ],
          [
           -0.45783819334984416,
           0.27223004418323704,
           -0.4037549896475883,
           -0.2550346029509551,
           -0.1294059539799348,
           -0.5470175139952642,
           -0.16406959345408154,
           -0.2098723196428522,
           -0.1872416454797586,
           0.1725917670389402,
           -0.27749834542066154,
           0.28252928034622227,
           1,
           0.9279134442386393,
           -0.4536788538689407,
           -0.4911992098537933
          ],
          [
           -0.45750828676580096,
           0.28672288217555714,
           -0.3862081893744056,
           -0.25563544240004926,
           -0.13325098509557512,
           -0.5540939811178432,
           -0.17448925069180868,
           -0.21786479439827353,
           -0.18095238221833498,
           0.183146726954806,
           -0.2779585540787128,
           0.27791337374069813,
           0.9279134442386393,
           1,
           -0.43848372115044115,
           -0.4724820295664819
          ],
          [
           0.7210825929172864,
           -0.44220328763116346,
           0.561074332137327,
           0.40216973584811605,
           0.18492097001836738,
           0.51050483068018,
           0.3146815941255956,
           0.1836531899297193,
           0.3432617722501239,
           -0.2485898549046261,
           0.44685551061622986,
           -0.00813246552354176,
           -0.4536788538689407,
           -0.43848372115044115,
           1,
           0.7847405811682984
          ],
          [
           0.7276300323211043,
           -0.4211705232348179,
           0.6169748090003161,
           0.422088454191989,
           0.21518159338370538,
           0.5548439025517072,
           0.3501466010592101,
           0.2437834454923263,
           0.35039793460461593,
           -0.21184020050163221,
           0.4679469733645062,
           -0.040312419026834516,
           -0.4911992098537933,
           -0.4724820295664819,
           0.7847405811682984,
           1
          ]
         ]
        }
       ],
       "layout": {
        "coloraxis": {
         "colorbar": {
          "title": {
           "text": "Correlation"
          }
         },
         "colorscale": [
          [
           0,
           "#000004"
          ],
          [
           0.1111111111111111,
           "#1b0c41"
          ],
          [
           0.2222222222222222,
           "#4a0c6b"
          ],
          [
           0.3333333333333333,
           "#781c6d"
          ],
          [
           0.4444444444444444,
           "#a52c60"
          ],
          [
           0.5555555555555556,
           "#cf4446"
          ],
          [
           0.6666666666666666,
           "#ed6925"
          ],
          [
           0.7777777777777778,
           "#fb9b06"
          ],
          [
           0.8888888888888888,
           "#f7d13d"
          ],
          [
           1,
           "#fcffa4"
          ]
         ]
        },
        "height": 800,
        "template": {
         "data": {
          "bar": [
           {
            "error_x": {
             "color": "#2a3f5f"
            },
            "error_y": {
             "color": "#2a3f5f"
            },
            "marker": {
             "line": {
              "color": "#E5ECF6",
              "width": 0.5
             },
             "pattern": {
              "fillmode": "overlay",
              "size": 10,
              "solidity": 0.2
             }
            },
            "type": "bar"
           }
          ],
          "barpolar": [
           {
            "marker": {
             "line": {
              "color": "#E5ECF6",
              "width": 0.5
             },
             "pattern": {
              "fillmode": "overlay",
              "size": 10,
              "solidity": 0.2
             }
            },
            "type": "barpolar"
           }
          ],
          "carpet": [
           {
            "aaxis": {
             "endlinecolor": "#2a3f5f",
             "gridcolor": "white",
             "linecolor": "white",
             "minorgridcolor": "white",
             "startlinecolor": "#2a3f5f"
            },
            "baxis": {
             "endlinecolor": "#2a3f5f",
             "gridcolor": "white",
             "linecolor": "white",
             "minorgridcolor": "white",
             "startlinecolor": "#2a3f5f"
            },
            "type": "carpet"
           }
          ],
          "choropleth": [
           {
            "colorbar": {
             "outlinewidth": 0,
             "ticks": ""
            },
            "type": "choropleth"
           }
          ],
          "contour": [
           {
            "colorbar": {
             "outlinewidth": 0,
             "ticks": ""
            },
            "colorscale": [
             [
              0,
              "#0d0887"
             ],
             [
              0.1111111111111111,
              "#46039f"
             ],
             [
              0.2222222222222222,
              "#7201a8"
             ],
             [
              0.3333333333333333,
              "#9c179e"
             ],
             [
              0.4444444444444444,
              "#bd3786"
             ],
             [
              0.5555555555555556,
              "#d8576b"
             ],
             [
              0.6666666666666666,
              "#ed7953"
             ],
             [
              0.7777777777777778,
              "#fb9f3a"
             ],
             [
              0.8888888888888888,
              "#fdca26"
             ],
             [
              1,
              "#f0f921"
             ]
            ],
            "type": "contour"
           }
          ],
          "contourcarpet": [
           {
            "colorbar": {
             "outlinewidth": 0,
             "ticks": ""
            },
            "type": "contourcarpet"
           }
          ],
          "heatmap": [
           {
            "colorbar": {
             "outlinewidth": 0,
             "ticks": ""
            },
            "colorscale": [
             [
              0,
              "#0d0887"
             ],
             [
              0.1111111111111111,
              "#46039f"
             ],
             [
              0.2222222222222222,
              "#7201a8"
             ],
             [
              0.3333333333333333,
              "#9c179e"
             ],
             [
              0.4444444444444444,
              "#bd3786"
             ],
             [
              0.5555555555555556,
              "#d8576b"
             ],
             [
              0.6666666666666666,
              "#ed7953"
             ],
             [
              0.7777777777777778,
              "#fb9f3a"
             ],
             [
              0.8888888888888888,
              "#fdca26"
             ],
             [
              1,
              "#f0f921"
             ]
            ],
            "type": "heatmap"
           }
          ],
          "heatmapgl": [
           {
            "colorbar": {
             "outlinewidth": 0,
             "ticks": ""
            },
            "colorscale": [
             [
              0,
              "#0d0887"
             ],
             [
              0.1111111111111111,
              "#46039f"
             ],
             [
              0.2222222222222222,
              "#7201a8"
             ],
             [
              0.3333333333333333,
              "#9c179e"
             ],
             [
              0.4444444444444444,
              "#bd3786"
             ],
             [
              0.5555555555555556,
              "#d8576b"
             ],
             [
              0.6666666666666666,
              "#ed7953"
             ],
             [
              0.7777777777777778,
              "#fb9f3a"
             ],
             [
              0.8888888888888888,
              "#fdca26"
             ],
             [
              1,
              "#f0f921"
             ]
            ],
            "type": "heatmapgl"
           }
          ],
          "histogram": [
           {
            "marker": {
             "pattern": {
              "fillmode": "overlay",
              "size": 10,
              "solidity": 0.2
             }
            },
            "type": "histogram"
           }
          ],
          "histogram2d": [
           {
            "colorbar": {
             "outlinewidth": 0,
             "ticks": ""
            },
            "colorscale": [
             [
              0,
              "#0d0887"
             ],
             [
              0.1111111111111111,
              "#46039f"
             ],
             [
              0.2222222222222222,
              "#7201a8"
             ],
             [
              0.3333333333333333,
              "#9c179e"
             ],
             [
              0.4444444444444444,
              "#bd3786"
             ],
             [
              0.5555555555555556,
              "#d8576b"
             ],
             [
              0.6666666666666666,
              "#ed7953"
             ],
             [
              0.7777777777777778,
              "#fb9f3a"
             ],
             [
              0.8888888888888888,
              "#fdca26"
             ],
             [
              1,
              "#f0f921"
             ]
            ],
            "type": "histogram2d"
           }
          ],
          "histogram2dcontour": [
           {
            "colorbar": {
             "outlinewidth": 0,
             "ticks": ""
            },
            "colorscale": [
             [
              0,
              "#0d0887"
             ],
             [
              0.1111111111111111,
              "#46039f"
             ],
             [
              0.2222222222222222,
              "#7201a8"
             ],
             [
              0.3333333333333333,
              "#9c179e"
             ],
             [
              0.4444444444444444,
              "#bd3786"
             ],
             [
              0.5555555555555556,
              "#d8576b"
             ],
             [
              0.6666666666666666,
              "#ed7953"
             ],
             [
              0.7777777777777778,
              "#fb9f3a"
             ],
             [
              0.8888888888888888,
              "#fdca26"
             ],
             [
              1,
              "#f0f921"
             ]
            ],
            "type": "histogram2dcontour"
           }
          ],
          "mesh3d": [
           {
            "colorbar": {
             "outlinewidth": 0,
             "ticks": ""
            },
            "type": "mesh3d"
           }
          ],
          "parcoords": [
           {
            "line": {
             "colorbar": {
              "outlinewidth": 0,
              "ticks": ""
             }
            },
            "type": "parcoords"
           }
          ],
          "pie": [
           {
            "automargin": true,
            "type": "pie"
           }
          ],
          "scatter": [
           {
            "fillpattern": {
             "fillmode": "overlay",
             "size": 10,
             "solidity": 0.2
            },
            "type": "scatter"
           }
          ],
          "scatter3d": [
           {
            "line": {
             "colorbar": {
              "outlinewidth": 0,
              "ticks": ""
             }
            },
            "marker": {
             "colorbar": {
              "outlinewidth": 0,
              "ticks": ""
             }
            },
            "type": "scatter3d"
           }
          ],
          "scattercarpet": [
           {
            "marker": {
             "colorbar": {
              "outlinewidth": 0,
              "ticks": ""
             }
            },
            "type": "scattercarpet"
           }
          ],
          "scattergeo": [
           {
            "marker": {
             "colorbar": {
              "outlinewidth": 0,
              "ticks": ""
             }
            },
            "type": "scattergeo"
           }
          ],
          "scattergl": [
           {
            "marker": {
             "colorbar": {
              "outlinewidth": 0,
              "ticks": ""
             }
            },
            "type": "scattergl"
           }
          ],
          "scattermapbox": [
           {
            "marker": {
             "colorbar": {
              "outlinewidth": 0,
              "ticks": ""
             }
            },
            "type": "scattermapbox"
           }
          ],
          "scatterpolar": [
           {
            "marker": {
             "colorbar": {
              "outlinewidth": 0,
              "ticks": ""
             }
            },
            "type": "scatterpolar"
           }
          ],
          "scatterpolargl": [
           {
            "marker": {
             "colorbar": {
              "outlinewidth": 0,
              "ticks": ""
             }
            },
            "type": "scatterpolargl"
           }
          ],
          "scatterternary": [
           {
            "marker": {
             "colorbar": {
              "outlinewidth": 0,
              "ticks": ""
             }
            },
            "type": "scatterternary"
           }
          ],
          "surface": [
           {
            "colorbar": {
             "outlinewidth": 0,
             "ticks": ""
            },
            "colorscale": [
             [
              0,
              "#0d0887"
             ],
             [
              0.1111111111111111,
              "#46039f"
             ],
             [
              0.2222222222222222,
              "#7201a8"
             ],
             [
              0.3333333333333333,
              "#9c179e"
             ],
             [
              0.4444444444444444,
              "#bd3786"
             ],
             [
              0.5555555555555556,
              "#d8576b"
             ],
             [
              0.6666666666666666,
              "#ed7953"
             ],
             [
              0.7777777777777778,
              "#fb9f3a"
             ],
             [
              0.8888888888888888,
              "#fdca26"
             ],
             [
              1,
              "#f0f921"
             ]
            ],
            "type": "surface"
           }
          ],
          "table": [
           {
            "cells": {
             "fill": {
              "color": "#EBF0F8"
             },
             "line": {
              "color": "white"
             }
            },
            "header": {
             "fill": {
              "color": "#C8D4E3"
             },
             "line": {
              "color": "white"
             }
            },
            "type": "table"
           }
          ]
         },
         "layout": {
          "annotationdefaults": {
           "arrowcolor": "#2a3f5f",
           "arrowhead": 0,
           "arrowwidth": 1
          },
          "autotypenumbers": "strict",
          "coloraxis": {
           "colorbar": {
            "outlinewidth": 0,
            "ticks": ""
           }
          },
          "colorscale": {
           "diverging": [
            [
             0,
             "#8e0152"
            ],
            [
             0.1,
             "#c51b7d"
            ],
            [
             0.2,
             "#de77ae"
            ],
            [
             0.3,
             "#f1b6da"
            ],
            [
             0.4,
             "#fde0ef"
            ],
            [
             0.5,
             "#f7f7f7"
            ],
            [
             0.6,
             "#e6f5d0"
            ],
            [
             0.7,
             "#b8e186"
            ],
            [
             0.8,
             "#7fbc41"
            ],
            [
             0.9,
             "#4d9221"
            ],
            [
             1,
             "#276419"
            ]
           ],
           "sequential": [
            [
             0,
             "#0d0887"
            ],
            [
             0.1111111111111111,
             "#46039f"
            ],
            [
             0.2222222222222222,
             "#7201a8"
            ],
            [
             0.3333333333333333,
             "#9c179e"
            ],
            [
             0.4444444444444444,
             "#bd3786"
            ],
            [
             0.5555555555555556,
             "#d8576b"
            ],
            [
             0.6666666666666666,
             "#ed7953"
            ],
            [
             0.7777777777777778,
             "#fb9f3a"
            ],
            [
             0.8888888888888888,
             "#fdca26"
            ],
            [
             1,
             "#f0f921"
            ]
           ],
           "sequentialminus": [
            [
             0,
             "#0d0887"
            ],
            [
             0.1111111111111111,
             "#46039f"
            ],
            [
             0.2222222222222222,
             "#7201a8"
            ],
            [
             0.3333333333333333,
             "#9c179e"
            ],
            [
             0.4444444444444444,
             "#bd3786"
            ],
            [
             0.5555555555555556,
             "#d8576b"
            ],
            [
             0.6666666666666666,
             "#ed7953"
            ],
            [
             0.7777777777777778,
             "#fb9f3a"
            ],
            [
             0.8888888888888888,
             "#fdca26"
            ],
            [
             1,
             "#f0f921"
            ]
           ]
          },
          "colorway": [
           "#636efa",
           "#EF553B",
           "#00cc96",
           "#ab63fa",
           "#FFA15A",
           "#19d3f3",
           "#FF6692",
           "#B6E880",
           "#FF97FF",
           "#FECB52"
          ],
          "font": {
           "color": "#2a3f5f"
          },
          "geo": {
           "bgcolor": "white",
           "lakecolor": "white",
           "landcolor": "#E5ECF6",
           "showlakes": true,
           "showland": true,
           "subunitcolor": "white"
          },
          "hoverlabel": {
           "align": "left"
          },
          "hovermode": "closest",
          "mapbox": {
           "style": "light"
          },
          "paper_bgcolor": "white",
          "plot_bgcolor": "#E5ECF6",
          "polar": {
           "angularaxis": {
            "gridcolor": "white",
            "linecolor": "white",
            "ticks": ""
           },
           "bgcolor": "#E5ECF6",
           "radialaxis": {
            "gridcolor": "white",
            "linecolor": "white",
            "ticks": ""
           }
          },
          "scene": {
           "xaxis": {
            "backgroundcolor": "#E5ECF6",
            "gridcolor": "white",
            "gridwidth": 2,
            "linecolor": "white",
            "showbackground": true,
            "ticks": "",
            "zerolinecolor": "white"
           },
           "yaxis": {
            "backgroundcolor": "#E5ECF6",
            "gridcolor": "white",
            "gridwidth": 2,
            "linecolor": "white",
            "showbackground": true,
            "ticks": "",
            "zerolinecolor": "white"
           },
           "zaxis": {
            "backgroundcolor": "#E5ECF6",
            "gridcolor": "white",
            "gridwidth": 2,
            "linecolor": "white",
            "showbackground": true,
            "ticks": "",
            "zerolinecolor": "white"
           }
          },
          "shapedefaults": {
           "line": {
            "color": "#2a3f5f"
           }
          },
          "ternary": {
           "aaxis": {
            "gridcolor": "white",
            "linecolor": "white",
            "ticks": ""
           },
           "baxis": {
            "gridcolor": "white",
            "linecolor": "white",
            "ticks": ""
           },
           "bgcolor": "#E5ECF6",
           "caxis": {
            "gridcolor": "white",
            "linecolor": "white",
            "ticks": ""
           }
          },
          "title": {
           "x": 0.05
          },
          "xaxis": {
           "automargin": true,
           "gridcolor": "white",
           "linecolor": "white",
           "ticks": "",
           "title": {
            "standoff": 15
           },
           "zerolinecolor": "white",
           "zerolinewidth": 2
          },
          "yaxis": {
           "automargin": true,
           "gridcolor": "white",
           "linecolor": "white",
           "ticks": "",
           "title": {
            "standoff": 15
           },
           "zerolinecolor": "white",
           "zerolinewidth": 2
          }
         }
        },
        "title": {
         "text": "Correlation Heatmap"
        },
        "width": 900,
        "xaxis": {
         "anchor": "y",
         "constrain": "domain",
         "domain": [
          0,
          1
         ],
         "scaleanchor": "y",
         "title": {
          "text": "Features"
         }
        },
        "yaxis": {
         "anchor": "x",
         "autorange": "reversed",
         "constrain": "domain",
         "domain": [
          0,
          1
         ],
         "title": {
          "text": "Features"
         }
        }
       }
      }
     },
     "metadata": {},
     "output_type": "display_data"
    }
   ],
   "source": [
    "fig = px.imshow(\n",
    "    correlation_matrix,\n",
    "    color_continuous_scale='inferno',\n",
    "    labels=dict(x='Features', y='Features', color='Correlation'),\n",
    "    title='Correlation Heatmap',\n",
    "    width=900,\n",
    "    height=800,\n",
    ")\n",
    "fig.show()"
   ]
  },
  {
   "cell_type": "markdown",
   "metadata": {},
   "source": [
    "Let's concentrate on the analysis of schooling, income composition of ressources and BMI."
   ]
  },
  {
   "cell_type": "markdown",
   "metadata": {},
   "source": []
  },
  {
   "cell_type": "markdown",
   "metadata": {},
   "source": []
  },
  {
   "cell_type": "code",
   "execution_count": 109,
   "metadata": {},
   "outputs": [
    {
     "data": {
      "application/vnd.plotly.v1+json": {
       "config": {
        "plotlyServerURL": "https://plot.ly"
       },
       "data": [
        {
         "hovertemplate": "Years of Schooling=%{x}<br>Life Expectancy=%{y}<extra></extra>",
         "legendgroup": "",
         "marker": {
          "color": "#636efa",
          "symbol": "circle"
         },
         "mode": "markers",
         "name": "",
         "showlegend": false,
         "type": "scattergl",
         "x": [
          10.1,
          10,
          9.9,
          9.8,
          9.5,
          9.2,
          8.9,
          8.7,
          8.4,
          8.1,
          7.9,
          6.8,
          6.5,
          6.2,
          5.9,
          5.5,
          14.2,
          14.2,
          14.2,
          14.2,
          13.3,
          12.5,
          12.2,
          12,
          11.6,
          11.4,
          10.8,
          10.9,
          10.7,
          10.7,
          10.6,
          10.7,
          14.4,
          14.4,
          14.4,
          14,
          13.6,
          13.1,
          12.6,
          12.3,
          12.3,
          12,
          11.7,
          11.4,
          11.4,
          10.3,
          9.4,
          9,
          8.5,
          8.1,
          7.7,
          17.3,
          17.3,
          17.2,
          17.1,
          16.8,
          16.5,
          16.3,
          16.3,
          16.1,
          16.3,
          16.3,
          16.4,
          16.3,
          12.7,
          12.7,
          12.7,
          12.7,
          12.3,
          11.9,
          12.3,
          11.7,
          11.2,
          10.9,
          10.9,
          10.8,
          10.8,
          11.1,
          11.2,
          20.4,
          20.3,
          20.1,
          19.8,
          19.5,
          19.1,
          19.1,
          19,
          20.3,
          20.3,
          20.7,
          20.6,
          20.1,
          20.5,
          15.9,
          15.7,
          15.7,
          15.7,
          15.4,
          15.3,
          15.1,
          15.2,
          15,
          14.9,
          14.7,
          14.7,
          16.1,
          15.5,
          15.4,
          12.2,
          11.9,
          11.8,
          11.7,
          11.7,
          11.6,
          11.6,
          11.6,
          10.7,
          11.2,
          11,
          10.8,
          10.6,
          10,
          10,
          9.9,
          9.4,
          8.9,
          8.4,
          8.6,
          8.6,
          8.4,
          8.2,
          8.1,
          7.9,
          15.7,
          15.7,
          15.6,
          15.5,
          15.5,
          15.4,
          15.1,
          14.9,
          14.6,
          14.4,
          14.1,
          13.9,
          13.6,
          13.3,
          13.1,
          16.3,
          16.3,
          16.2,
          16.1,
          15.9,
          15.8,
          15.8,
          15.8,
          15.7,
          15.7,
          18.8,
          18.6,
          18.8,
          18.2,
          18,
          12.8,
          12.9,
          12.5,
          12.4,
          12.4,
          12.7,
          12.8,
          12.8,
          12.3,
          12.8,
          12.5,
          12.2,
          11.9,
          11.8,
          11.7,
          10.7,
          10.3,
          10,
          9.8,
          9.5,
          9.3,
          9.1,
          8.9,
          8.7,
          8.5,
          8.1,
          7.7,
          7.3,
          12.5,
          12.6,
          12.3,
          11.9,
          11.4,
          10.9,
          10.5,
          10.1,
          9.6,
          9.2,
          8.8,
          8.4,
          8,
          7.6,
          7.3,
          14.2,
          14.2,
          13.9,
          13.4,
          13.3,
          13.3,
          13.1,
          12.9,
          12.7,
          12.5,
          12.3,
          12.6,
          12.6,
          12.5,
          12.4,
          12.3,
          12.2,
          12.1,
          12.1,
          11.9,
          11.9,
          11.8,
          11.8,
          11.9,
          11.8,
          11.7,
          15.2,
          14.2,
          14.2,
          14,
          13.8,
          13.8,
          13.3,
          13.5,
          13.8,
          13.8,
          14,
          14.8,
          14.6,
          14.3,
          14.1,
          14.8,
          14.4,
          14.3,
          14.2,
          13.9,
          13.8,
          13.8,
          13.5,
          13.5,
          13.5,
          13.3,
          12.9,
          12.9,
          12.9,
          12.9,
          7.7,
          7.5,
          7.2,
          6.7,
          6.3,
          5.9,
          5.4,
          4.9,
          4.7,
          10.6,
          10.5,
          10.3,
          9.9,
          9.3,
          8.6,
          7.9,
          7.2,
          5.9,
          5.6,
          5.2,
          13.5,
          13.6,
          13.2,
          13.1,
          12.7,
          12.4,
          12.2,
          11.9,
          11.9,
          11.2,
          11.1,
          11.3,
          11.3,
          10.9,
          10.8,
          10.7,
          10.7,
          10.6,
          10.5,
          10.5,
          10.3,
          10.1,
          10.4,
          10.4,
          10.4,
          10,
          9.7,
          9.2,
          8.8,
          8,
          8.2,
          8.3,
          15.9,
          15.9,
          15.9,
          15.9,
          15.9,
          15.9,
          15.8,
          15.8,
          15.8,
          15.8,
          15.8,
          15.8,
          7.1,
          7.1,
          7.1,
          6.8,
          6.6,
          6.4,
          7.3,
          7.3,
          7.3,
          6.7,
          6.7,
          6.3,
          6,
          16.2,
          15.6,
          15.5,
          15.4,
          15.2,
          15.3,
          15.2,
          14.8,
          14.9,
          13.1,
          12.7,
          12.4,
          12.8,
          12.5,
          12.2,
          11.9,
          11.4,
          11,
          10.6,
          10.2,
          9.9,
          9.7,
          9.6,
          9.5,
          13.6,
          13.3,
          13.2,
          13,
          12.8,
          12.4,
          12.2,
          11.9,
          11.5,
          11.1,
          11.3,
          11.6,
          11.5,
          11.4,
          11.3,
          11.1,
          10.9,
          10.8,
          10.6,
          10.5,
          10.3,
          10.2,
          10,
          9.9,
          9.7,
          9.5,
          9.2,
          13.9,
          13.7,
          13.6,
          13.4,
          13.3,
          13.1,
          12.9,
          12.8,
          12.6,
          12.4,
          12.2,
          12.1,
          11.9,
          11.7,
          11.6,
          15.1,
          14.9,
          14.6,
          14.5,
          14.2,
          14.2,
          14.3,
          14.3,
          14,
          13.8,
          13.8,
          13.8,
          14.6,
          14.1,
          13.7,
          13.5,
          13.4,
          13.5,
          13.4,
          13,
          12.5,
          12.4,
          12.5,
          6.3,
          6.3,
          6.3,
          5.9,
          5.5,
          5.3,
          5,
          4.5,
          13.2,
          13.2,
          13.1,
          13,
          12.9,
          12.9,
          12.8,
          12.7,
          12.6,
          12.6,
          12.5,
          12.4,
          12.3,
          12.3,
          12.2,
          14,
          13.4,
          13.3,
          13.2,
          13.1,
          13.1,
          13,
          12.9,
          12.8,
          12.8,
          12.7,
          12.6,
          12.5,
          12.4,
          12.4,
          13.2,
          13.2,
          13.2,
          13,
          12.9,
          12.8,
          13.4,
          12.9,
          12.9,
          12.7,
          12.4,
          12,
          11.8,
          11.6,
          11.3,
          9.2,
          5,
          5.1,
          5.2,
          5.2,
          5.3,
          5.3,
          5.4,
          5,
          4.7,
          4.4,
          16.5,
          16.5,
          16.5,
          16.4,
          16.2,
          16.1,
          16.1,
          16.1,
          16.1,
          15.9,
          15.7,
          8.4,
          8.4,
          8.4,
          8.2,
          8.1,
          8.1,
          7.6,
          7.1,
          15.2,
          15,
          14.9,
          14.7,
          14.6,
          14.5,
          14.3,
          14.2,
          14,
          13.9,
          13.4,
          13.3,
          13.3,
          13.2,
          13.1,
          16.2,
          16.2,
          16.1,
          16.1,
          16,
          16,
          16.1,
          16.1,
          16.1,
          15.5,
          15.5,
          15.4,
          15.5,
          15.6,
          15.7,
          12.6,
          12.5,
          12.5,
          12.5,
          12.5,
          12.4,
          12.4,
          12.4,
          12.4,
          12.4,
          13.5,
          13.5,
          13.4,
          13.3,
          13.3,
          12.8,
          13.1,
          12.5,
          12.6,
          12.2,
          12,
          11.8,
          11.8,
          11.7,
          11.4,
          17,
          16.9,
          16.9,
          16.8,
          16.7,
          16.7,
          16.6,
          16.6,
          16.5,
          16.4,
          16.4,
          16.3,
          16.3,
          16.2,
          16.2,
          11.7,
          11.5,
          11.2,
          10.9,
          10.5,
          10.4,
          9.8,
          9.1,
          8.7,
          8.1,
          7.7,
          7.9,
          7.6,
          17.2,
          17.1,
          16.8,
          16.7,
          16.4,
          16.2,
          15.9,
          16.4,
          16.3,
          15.6,
          15.3,
          15.2,
          14.6,
          14.2,
          13.9,
          10.7,
          10.7,
          10.6,
          10.5,
          10.5,
          10.4,
          10.4,
          10.1,
          9.8,
          9.6,
          8.6,
          8.5,
          8.5,
          8.4,
          8.3,
          8.1,
          7.9,
          7.6,
          9.2,
          9.1,
          9.1,
          9,
          8.9,
          8.9,
          10.3,
          10.3,
          10.6,
          10.3,
          10.2,
          10.5,
          10.7,
          11.2,
          11.7,
          11.4,
          11.2,
          11.1,
          11,
          10.9,
          9.1,
          9.1,
          11.4,
          11.6,
          11.6,
          11.7,
          11.5,
          11.3,
          11.1,
          10.9,
          10.8,
          10.6,
          10.4,
          10.3,
          10.1,
          9.9,
          9.8,
          11.6,
          11.5,
          11.3,
          10.8,
          10.4,
          10.5,
          10.2,
          9.9,
          9.7,
          9.4,
          9.2,
          12.9,
          12.9,
          12.6,
          12.3,
          12.1,
          11.7,
          11.7,
          11,
          10.9,
          11.1,
          11,
          10.8,
          10.6,
          10.6,
          10.7,
          10.1,
          10.3,
          10.5,
          10.4,
          10.4,
          10.3,
          10.3,
          10.2,
          10.2,
          10.1,
          9.8,
          18.6,
          18.6,
          18.5,
          18.5,
          18.2,
          16,
          15.9,
          15.9,
          15.8,
          15.7,
          15.6,
          15.8,
          15.7,
          15.7,
          15.8,
          15.9,
          16,
          15.3,
          15.1,
          15.2,
          16.3,
          16.5,
          16.6,
          16.4,
          16.4,
          16.3,
          16.3,
          16.1,
          16,
          15.8,
          15.6,
          15.4,
          15.2,
          14.9,
          14.8,
          12.8,
          12.8,
          12.8,
          12.8,
          12.7,
          12.7,
          12.6,
          12.5,
          12.5,
          12.4,
          11.1,
          11.9,
          13.1,
          13.1,
          12.9,
          13.1,
          13.2,
          13.6,
          13.6,
          13.6,
          13.7,
          13.8,
          13.5,
          13.2,
          13,
          12.7,
          12.6,
          15,
          15,
          14.7,
          14.4,
          14.5,
          14.6,
          14.6,
          14.7,
          14.3,
          13.9,
          13.5,
          13.1,
          12.7,
          12.3,
          12.1,
          11.1,
          11.1,
          11.1,
          11.1,
          11.1,
          10.7,
          10.4,
          10.1,
          9.7,
          9.6,
          8.9,
          8.2,
          8.5,
          11.9,
          11.9,
          11.9,
          11.9,
          11.9,
          11.9,
          11.6,
          11.8,
          12.1,
          12.2,
          12.4,
          11.6,
          11.7,
          10.4,
          10,
          16,
          15.4,
          15.5,
          15.8,
          16,
          16.4,
          16.3,
          16.2,
          16.2,
          15.9,
          15.5,
          15.2,
          14.8,
          14.2,
          13.7,
          13.3,
          13.3,
          13.3,
          13.2,
          13.3,
          13.2,
          13.1,
          12.9,
          13.2,
          13.7,
          14.2,
          14.8,
          15.2,
          15,
          14.9,
          10.8,
          11.1,
          11,
          11,
          10.9,
          10.8,
          10.7,
          10.6,
          10.7,
          10.7,
          10.7,
          10.5,
          9.9,
          9.8,
          9.6,
          9.5,
          9.6,
          9.7,
          9.8,
          16.5,
          16.4,
          16.5,
          16.7,
          16.8,
          16.6,
          16.5,
          16.4,
          16.4,
          16.2,
          16.3,
          15.8,
          15.3,
          14.7,
          14,
          13.9,
          13.9,
          13.9,
          13.9,
          13.7,
          13.5,
          13.5,
          13.5,
          13.5,
          13.5,
          13.5,
          13.6,
          13.5,
          13.4,
          13.5,
          10.3,
          10.3,
          10.2,
          10.2,
          10.2,
          9.7,
          9.4,
          9.1,
          9,
          8.9,
          8.7,
          8.5,
          8.3,
          10.7,
          10.7,
          10.7,
          10.6,
          10.2,
          9.9,
          9.6,
          9.7,
          9.6,
          9.7,
          10,
          10.3,
          10.4,
          13,
          12.9,
          12.9,
          13,
          12.8,
          12.6,
          12.5,
          12.3,
          12.7,
          12.9,
          12.7,
          12.1,
          12,
          11.9,
          11.6,
          12.7,
          12.4,
          12.1,
          11.8,
          11.6,
          11.8,
          11.8,
          11.9,
          12,
          12.1,
          12.2,
          11.8,
          12,
          11.8,
          11.3,
          8.2,
          8,
          7.7,
          7.5,
          7.3,
          7.1,
          5.8,
          6.4,
          6.1,
          5.8,
          5.5,
          5.2,
          14.3,
          14.2,
          14.1,
          14.8,
          14.6,
          14.4,
          14.6,
          14.4,
          14.8,
          14.8,
          14.2,
          13.8,
          8.5,
          8.2,
          7.8,
          7.7,
          7.6,
          7.1,
          7.2,
          7.4,
          7.2,
          7.2,
          14.7,
          14.7,
          14.3,
          14.1,
          14,
          13.8,
          13.6,
          13.5,
          13.4,
          13,
          12.8,
          12.6,
          12.5,
          12.2,
          12.1,
          13.1,
          12.9,
          12.7,
          12.6,
          12.5,
          12.5,
          12.3,
          12.3,
          12.2,
          12.2,
          12.1,
          11.9,
          11.6,
          11.6,
          11.4,
          14.8,
          14.7,
          14.7,
          14.6,
          14.3,
          13.8,
          13.4,
          13,
          12.7,
          11.8,
          11.2,
          10.5,
          10.1,
          9.4,
          8.9,
          15.1,
          15.1,
          15.1,
          15.1,
          15,
          14.6,
          14.2,
          13.6,
          13.2,
          12.1,
          12.1,
          11.6,
          11.2,
          10.7,
          10.5,
          10.3,
          10,
          10,
          9.8,
          9.6,
          9.3,
          8.8,
          8.5,
          8,
          9.1,
          9.1,
          9.2,
          9.5,
          9.3,
          9.2,
          8.8,
          8.2,
          7.9,
          7.3,
          7,
          6.7,
          6.2,
          5.8,
          9.1,
          9.1,
          9.1,
          9.1,
          8.8,
          8.5,
          8.2,
          8.1,
          8,
          7.9,
          7.8,
          7.7,
          11.7,
          11.6,
          11.5,
          11.5,
          11.4,
          12.4,
          12.3,
          12.3,
          12,
          11.1,
          10.5,
          10.1,
          10,
          9.6,
          9.4,
          9.3,
          9.2,
          18.1,
          18.1,
          18.1,
          17.2,
          11.6,
          11.5,
          11.5,
          11.5,
          11.4,
          11.3,
          11.1,
          11,
          11,
          11,
          11,
          11,
          10.7,
          10.4,
          10.1,
          5.3,
          5.3,
          5.1,
          4.8,
          4.5,
          4.2,
          10,
          9.8,
          9.7,
          9.6,
          9.5,
          9.3,
          9.2,
          9.1,
          9,
          8.9,
          7.8,
          7.7,
          7.6,
          7.5,
          7.5,
          7.3,
          7.3,
          6.7,
          6.5,
          6.1,
          5.6,
          5.6,
          13,
          12.9,
          12.8,
          12.9,
          12.8,
          12.8,
          12.8,
          12.9,
          12.9,
          12.9,
          12.8,
          12.8,
          12.6,
          12.4,
          10,
          10,
          9.9,
          9.9,
          9.6,
          9.2,
          8.9,
          8.6,
          8.2,
          7.9,
          7.6,
          7.2,
          6.9,
          6.6,
          6.2,
          12.3,
          12.3,
          12.3,
          12.3,
          12.4,
          12.1,
          11.9,
          12,
          12.1,
          12.3,
          12.1,
          12.7,
          13.4,
          13.4,
          13.4,
          13.4,
          13.3,
          13.3,
          13.2,
          13.2,
          13,
          13,
          12.8,
          13.3,
          11.7,
          11.7,
          11.6,
          11.5,
          11.4,
          11.7,
          11.5,
          11.4,
          11.5,
          11.6,
          11.6,
          11.6,
          11.4,
          11.4,
          11.4,
          16.4,
          15.4,
          15.3,
          15.4,
          15.1,
          15.1,
          15,
          15,
          15,
          14.8,
          15.5,
          15.3,
          15,
          14.7,
          14.6,
          16.8,
          16.3,
          16.3,
          16.2,
          16,
          16,
          15.8,
          15.4,
          15.4,
          15.4,
          15.9,
          15.8,
          15.9,
          15.7,
          15.5,
          14.7,
          14.7,
          15.3,
          15.7,
          15.8,
          15.4,
          14.7,
          14.1,
          13.7,
          13.4,
          12.9,
          12.5,
          12,
          11.7,
          11.5,
          14.9,
          14.6,
          14.3,
          14,
          13.7,
          14,
          13.9,
          13.8,
          13.8,
          13.7,
          13.6,
          13.2,
          12.8,
          12.5,
          10.8,
          10.8,
          10.5,
          10.2,
          10,
          10.2,
          10.4,
          10.1,
          9.3,
          8.8,
          8.2,
          7.6,
          7.2,
          12.9,
          12.9,
          12.9,
          12.9,
          12.9,
          12.9,
          12.9,
          12.9,
          12.7,
          12.6,
          12.4,
          12.3,
          12.1,
          12,
          12.1,
          11.1,
          11,
          10.8,
          10.6,
          10.6,
          10.1,
          10.4,
          10.3,
          10.2,
          10,
          9.8,
          9.7,
          9.1,
          8.7,
          8.3,
          7.9,
          7.7,
          7.5,
          7.1,
          6.8,
          6.6,
          6.4,
          6.2,
          14.3,
          14.1,
          14,
          13.5,
          13.6,
          13.6,
          13.5,
          13.5,
          13.4,
          13.2,
          13.1,
          13.2,
          13.5,
          13.5,
          13.3,
          13.2,
          13.2,
          13.2,
          13.1,
          13.1,
          12.1,
          12.3,
          12.1,
          12.1,
          12.2,
          12.3,
          9.5,
          9.3,
          9.1,
          8.9,
          8.7,
          8.5,
          8.3,
          8.2,
          9.6,
          9.5,
          9.4,
          9.4,
          9.3,
          9.3,
          9.2,
          9,
          8.4,
          8.3,
          8.1,
          8,
          7.3,
          6.6,
          7.2,
          13,
          12.8,
          12.8,
          12.8,
          12.8,
          12.8,
          12.9,
          12.9,
          12.9,
          12.9,
          12.9,
          12.9,
          12.9,
          13,
          13,
          17.6,
          17.5,
          17.2,
          16.9,
          16.4,
          16.3,
          16.1,
          16,
          15.9,
          15.8,
          15.6,
          15.6,
          15.7,
          15.7,
          15.7,
          14,
          13.8,
          13.7,
          13.6,
          13.5,
          13.4,
          13.3,
          13.2,
          13.1,
          12.9,
          12.8,
          12.7,
          12.7,
          12.7,
          12.7,
          12.5,
          12.3,
          12.1,
          11.9,
          11.7,
          11.5,
          11.3,
          11.4,
          11.4,
          11.3,
          11.2,
          11,
          10.8,
          10.6,
          10.5,
          9.9,
          9.7,
          9.4,
          9.1,
          9.2,
          9.3,
          9.4,
          15.8,
          15.8,
          15.8,
          16,
          11.5,
          11.4,
          11,
          10.6,
          10.3,
          10.2,
          10.1,
          10,
          11.3,
          11.2,
          11.1,
          11.1,
          11.1,
          11.1,
          10.8,
          10.9,
          10.7,
          10.6,
          10.5,
          10.1,
          9.8,
          13.6,
          13.6,
          13.7,
          13.3,
          13.1,
          13,
          12.9,
          12.3,
          12.4,
          12,
          11.9,
          11.8,
          11.5,
          11.2,
          10.9,
          12.5,
          12.5,
          12.5,
          12.5,
          12.4,
          12.1,
          11.7,
          12,
          12,
          12,
          11.5,
          11,
          10.6,
          10.1,
          14.3,
          14.3,
          14.4,
          14.4,
          14.4,
          14.5,
          14.5,
          14.5,
          14.6,
          14.6,
          14.6,
          13.7,
          13.5,
          13.2,
          13.7,
          12.7,
          12.7,
          12.6,
          12.6,
          12.5,
          12.5,
          12.4,
          12.4,
          12.3,
          12.3,
          12.2,
          12,
          11.9,
          14.7,
          14.7,
          14.6,
          14.5,
          14.4,
          14.4,
          14.3,
          14.3,
          14.2,
          13.9,
          13.6,
          13.5,
          13.3,
          13.1,
          12.8,
          14.5,
          14.4,
          14.3,
          13.8,
          13,
          12.5,
          12.5,
          12.3,
          11.9,
          11.9,
          12,
          11.9,
          11.5,
          11.1,
          10.7,
          10.8,
          10.7,
          10.7,
          10.6,
          10.6,
          10.5,
          10.5,
          10.4,
          10.4,
          10.3,
          10.3,
          10.3,
          10.2,
          10,
          10,
          10,
          10.7,
          10.9,
          10.8,
          10.6,
          10.3,
          10.6,
          10.9,
          11.6,
          11.5,
          11,
          15.2,
          15.2,
          15.1,
          14.9,
          14.9,
          14.9,
          14.9,
          14.8,
          14.7,
          14.5,
          14.6,
          14.3,
          13.9,
          13.2,
          13.3,
          15.5,
          15.5,
          15.5,
          15.5,
          15.6,
          15.5,
          15.7,
          15.3,
          15.2,
          15.5,
          15.5,
          15,
          14.7,
          14.2,
          14,
          12.1,
          12,
          12,
          12,
          11.9,
          11.8,
          11.9,
          11.8,
          11.8,
          11.7,
          11.6,
          11.3,
          11,
          10.8,
          10.8,
          10.8,
          10.8,
          10.8,
          10.7,
          10.7,
          10.7,
          10.6,
          10.6,
          10.7,
          10.4,
          10.2,
          10.1,
          9.6,
          12.5,
          12.5,
          12.3,
          12,
          11.8,
          11.6,
          11.4,
          11.1,
          10.9,
          10.7,
          10.3,
          10.4,
          9.8,
          10.1,
          10,
          9.9,
          9.7,
          9.6,
          9.5,
          9.3,
          9.2,
          9.5,
          10,
          9.8,
          9.8
         ],
         "xaxis": "x",
         "y": [
          65,
          59.9,
          59.9,
          59.5,
          59.2,
          58.8,
          58.6,
          58.1,
          57.5,
          57.3,
          57.3,
          57,
          56.7,
          56.2,
          55.3,
          54.8,
          77.8,
          77.5,
          77.2,
          76.9,
          76.6,
          76.2,
          76.1,
          75.3,
          75.9,
          74.2,
          73.5,
          73,
          72.8,
          73.3,
          73.6,
          72.6,
          75.4,
          75.3,
          75.1,
          74.9,
          74.7,
          74.4,
          74.1,
          73.8,
          73.4,
          72.9,
          72.3,
          51.7,
          51.1,
          56,
          51,
          49.6,
          49.1,
          48.7,
          48.2,
          76.2,
          76,
          75.9,
          75.7,
          75.5,
          75.6,
          75.4,
          74.8,
          75.2,
          74.9,
          74.7,
          74.1,
          74.1,
          74.6,
          74.4,
          74.4,
          73.9,
          73.5,
          73.3,
          73.2,
          73.5,
          72.9,
          73,
          73,
          72.7,
          72.6,
          72.6,
          72,
          82.7,
          82.5,
          82.3,
          82,
          81.9,
          81.7,
          81.3,
          81.3,
          81.2,
          81,
          86,
          83,
          79.9,
          79.9,
          81.4,
          81.1,
          88,
          88,
          84,
          82,
          84,
          81,
          79.8,
          79.4,
          79.3,
          78.8,
          78.7,
          78.6,
          78.1,
          72.5,
          72.2,
          71.9,
          71.6,
          71.1,
          78,
          73,
          73,
          69.2,
          68.4,
          68.4,
          67.8,
          67.8,
          71.4,
          71,
          77,
          73,
          69.9,
          69.5,
          69.1,
          68.6,
          68.2,
          67.8,
          67.3,
          66.8,
          72,
          71.7,
          71.9,
          72,
          73,
          70,
          70,
          69.8,
          68.9,
          68.1,
          68.2,
          67.7,
          67.2,
          67.7,
          68,
          89,
          87,
          83,
          83,
          80,
          79.8,
          79.5,
          79.5,
          79.4,
          78.9,
          78.8,
          78.3,
          78,
          78,
          77.6,
          70,
          69.8,
          69.4,
          69.4,
          69.5,
          69.5,
          69.6,
          69.6,
          69.4,
          69,
          68.7,
          68.4,
          68.5,
          68.2,
          68.3,
          59.7,
          59.5,
          59.3,
          59.1,
          58.7,
          58.4,
          57.6,
          57.1,
          56.8,
          56.5,
          56.1,
          55.8,
          55.6,
          69.4,
          69.1,
          68.7,
          68.3,
          67.9,
          67.4,
          67,
          66.5,
          65.8,
          65,
          64.2,
          63.3,
          62.5,
          61.7,
          62,
          77.2,
          77,
          76.8,
          76.9,
          76.4,
          76.1,
          76,
          75.4,
          75.7,
          75,
          75.5,
          65.1,
          64.2,
          63.4,
          62.2,
          61.1,
          59.2,
          57.5,
          56.9,
          54.8,
          51.7,
          48.1,
          46.4,
          46,
          46.7,
          47.8,
          74.8,
          74.7,
          74.5,
          74.1,
          73.8,
          73.6,
          73.4,
          73.3,
          73,
          72.7,
          72,
          71.8,
          71.4,
          71,
          75,
          74.3,
          74.1,
          73.9,
          73.7,
          73.4,
          73.2,
          72.9,
          72.6,
          72.2,
          72.1,
          72.2,
          72,
          71.8,
          71.6,
          71.1,
          59.3,
          59,
          58.6,
          58.1,
          57.5,
          56.9,
          56.1,
          55.3,
          54.3,
          59.1,
          58.6,
          58,
          57.4,
          56.8,
          56.2,
          55.3,
          54.8,
          54.1,
          53.4,
          52.6,
          73,
          72.8,
          72.7,
          72.6,
          72.5,
          72.4,
          72.4,
          72.3,
          72.1,
          71.8,
          71.4,
          71.1,
          77,
          68.3,
          67.8,
          67.4,
          67,
          66.6,
          66.1,
          65.6,
          65,
          64.1,
          56.7,
          56.4,
          55.9,
          55.6,
          55.3,
          54.8,
          54.2,
          53.6,
          53.3,
          52.8,
          82,
          81.8,
          81.6,
          81.5,
          81.2,
          81,
          87,
          85,
          85,
          81,
          80,
          79.7,
          58,
          49.9,
          53,
          49.8,
          49.2,
          48.6,
          52.6,
          52.2,
          51.8,
          51.6,
          51.2,
          57,
          49.6,
          83,
          81,
          79.9,
          79.8,
          79.1,
          79.3,
          79.6,
          78.9,
          78.9,
          75.8,
          75.6,
          75.4,
          75.2,
          75,
          74.9,
          74.5,
          74.4,
          74.2,
          73.9,
          73.5,
          73.1,
          72.7,
          72.2,
          71.7,
          74.6,
          74.4,
          74.3,
          74.2,
          73.6,
          73.6,
          73.5,
          73.5,
          73.1,
          73.1,
          72.8,
          72.4,
          71.8,
          71.5,
          71.4,
          63.2,
          62.9,
          62.5,
          62.2,
          61.8,
          61.3,
          61,
          66,
          63,
          60,
          59.8,
          59.6,
          79.5,
          79.4,
          79.2,
          79,
          78.1,
          79.2,
          78.9,
          78.9,
          78,
          78.6,
          77.7,
          78,
          78.3,
          77.5,
          77.6,
          77.8,
          77.7,
          77.1,
          77,
          76.6,
          76.3,
          76,
          75.8,
          83,
          81,
          80,
          79.7,
          79.5,
          79.3,
          79.1,
          78.9,
          78.8,
          78.7,
          78.6,
          78.5,
          78.4,
          78.2,
          78.1,
          63,
          62.7,
          62.2,
          61.8,
          61.3,
          69,
          62,
          59.8,
          73.6,
          73.4,
          72.1,
          73.1,
          72.7,
          73.6,
          73.3,
          72.9,
          72.3,
          69.7,
          69.3,
          73,
          71.4,
          71.2,
          72,
          76,
          76,
          75.5,
          75.3,
          75,
          75.1,
          74.6,
          74.7,
          74.4,
          74.2,
          74.4,
          74.4,
          73.6,
          73.4,
          72.8,
          73.3,
          73,
          73,
          72,
          72,
          71.4,
          71.7,
          71.2,
          75,
          71,
          70,
          69.9,
          73,
          68.9,
          69,
          57.9,
          62.9,
          62.1,
          61.4,
          67,
          62,
          59.7,
          59.4,
          59.1,
          58.8,
          58.5,
          77.3,
          76.9,
          76.3,
          76.1,
          75.6,
          74.9,
          74.2,
          73,
          73,
          72.8,
          72.3,
          64.2,
          63.7,
          63.3,
          62.6,
          61.8,
          68,
          59.8,
          58.5,
          69.7,
          69.6,
          69.4,
          69.2,
          69.1,
          68.9,
          68.7,
          68.6,
          68.5,
          68.3,
          68.1,
          68,
          67.9,
          67.8,
          67.7,
          82.2,
          82,
          81.5,
          81.7,
          81.3,
          81.1,
          89,
          89,
          86,
          81,
          82,
          79.3,
          79.2,
          79,
          78.8,
          65.5,
          64.6,
          63.5,
          62.8,
          62.3,
          61.7,
          61.6,
          61.6,
          61.4,
          65,
          74.5,
          74.5,
          74.2,
          73.9,
          73.8,
          73.2,
          73.9,
          74.4,
          73.9,
          73.9,
          72.3,
          72.7,
          71.7,
          73,
          71.8,
          89,
          86,
          86,
          85,
          81,
          80,
          79.9,
          79.8,
          79.6,
          79.2,
          79.1,
          78.5,
          78.4,
          78.3,
          78,
          62.1,
          61.9,
          61.6,
          61.2,
          69,
          66,
          63,
          59.9,
          59.4,
          58.9,
          58.3,
          57.9,
          57.6,
          88,
          86,
          84,
          85,
          83,
          80,
          79.9,
          79.4,
          79.7,
          79.3,
          79.2,
          79.1,
          79,
          78.7,
          78.2,
          71.7,
          71.4,
          71.3,
          71.1,
          77,
          76,
          79,
          75,
          69.7,
          69.2,
          58.1,
          58.8,
          58.4,
          58.1,
          57.8,
          57.3,
          56.8,
          56.4,
          58.4,
          58.1,
          57.6,
          57.1,
          56.7,
          56.3,
          66,
          65.9,
          65.8,
          65.6,
          65.9,
          66.1,
          66.3,
          65.7,
          65.2,
          65,
          65.1,
          65.3,
          65.3,
          65.4,
          63.1,
          62.7,
          74.5,
          74.3,
          74.1,
          73.9,
          73.6,
          73.4,
          73.2,
          73,
          72.8,
          72.5,
          72.2,
          71.9,
          71.6,
          71.3,
          71,
          68,
          67.6,
          67.3,
          66.8,
          66.4,
          66,
          65.5,
          65.2,
          64.8,
          64.4,
          64,
          68.9,
          68.7,
          68.5,
          68.3,
          68.1,
          67.9,
          67.7,
          67.5,
          67.3,
          67.2,
          65.3,
          66.9,
          66.7,
          66.5,
          66.3,
          67.9,
          69.5,
          76,
          77,
          76,
          74,
          69.3,
          65.9,
          64.7,
          66.8,
          67.2,
          81.2,
          81,
          85,
          84,
          86,
          82.2,
          82.1,
          81.8,
          81.8,
          81.7,
          81.5,
          81,
          84,
          84,
          80,
          81,
          79.7,
          79.3,
          79.3,
          78.9,
          82.5,
          82.3,
          82,
          82,
          81.8,
          81.6,
          81.5,
          81.3,
          81.2,
          88,
          89,
          79.9,
          80,
          79.8,
          79.4,
          75.8,
          75.6,
          75.3,
          75.2,
          75,
          74.7,
          74.5,
          74.2,
          74,
          73.5,
          73.3,
          73.1,
          74,
          73.9,
          73.7,
          73.6,
          73.4,
          73.3,
          73.1,
          73,
          72.8,
          72.4,
          72.5,
          72.3,
          72.1,
          71.9,
          71.7,
          69.9,
          69.5,
          69.1,
          68.5,
          67.8,
          67.8,
          66.6,
          65.3,
          65,
          64.6,
          64.7,
          64.4,
          64.7,
          64.4,
          63.9,
          62.9,
          62.6,
          62.1,
          61.2,
          63,
          59.1,
          57.9,
          56.8,
          55.3,
          54.1,
          53,
          52.4,
          52.1,
          66.1,
          65.8,
          65.7,
          65.5,
          65.3,
          65.2,
          65.1,
          65,
          65,
          64.9,
          64.8,
          64.7,
          64.6,
          64.3,
          64.1,
          74.4,
          74.1,
          73.8,
          73.6,
          72.8,
          72.6,
          71.9,
          78,
          75,
          76,
          71,
          78,
          73,
          69.9,
          71,
          74.8,
          74.9,
          75,
          75,
          74.9,
          74.7,
          74.5,
          74.4,
          74.1,
          73.9,
          73.7,
          73.5,
          73.2,
          73,
          72.7,
          52.1,
          52.1,
          52.2,
          52.3,
          51.1,
          49.4,
          47.8,
          46.2,
          45.3,
          44.5,
          44.8,
          45.5,
          58.1,
          61.1,
          67,
          62,
          59.7,
          59.2,
          58.6,
          73.4,
          73,
          73,
          72.8,
          72.4,
          72.2,
          71.1,
          72,
          76,
          78,
          71.6,
          71.6,
          71.4,
          71.2,
          71.6,
          81.7,
          81.4,
          81.1,
          88,
          86,
          83,
          80,
          79.7,
          79.4,
          78.8,
          78.7,
          78.6,
          78.3,
          78,
          77.8,
          65.1,
          64.7,
          64.3,
          63.8,
          63.3,
          62.8,
          62.3,
          61.9,
          61.4,
          69,
          64,
          59.9,
          59.3,
          57.6,
          56.7,
          55.3,
          54.1,
          52.9,
          51.5,
          50,
          48.5,
          47.1,
          46,
          45.1,
          44.6,
          44,
          74.8,
          74.6,
          74.5,
          74.3,
          74.1,
          74,
          73.8,
          73.7,
          73.6,
          73.4,
          73.2,
          73.1,
          72.9,
          72.7,
          72.4,
          78.2,
          77.9,
          77.6,
          77.3,
          76.7,
          76.3,
          75.9,
          75.4,
          75,
          74.3,
          73.4,
          72.7,
          71.8,
          78,
          69.6,
          57.8,
          57.3,
          57.2,
          56.8,
          56.5,
          56,
          55.5,
          55,
          54.3,
          53.6,
          52.8,
          52,
          81.4,
          81.1,
          81,
          87,
          83,
          82,
          80,
          79.6,
          79.3,
          79,
          78.7,
          78.5,
          63,
          62.7,
          62.5,
          62.2,
          62,
          61.7,
          61.4,
          61.2,
          69,
          66,
          74.2,
          74.1,
          73.9,
          73.6,
          73.3,
          72.8,
          72.7,
          72.9,
          71.8,
          72.1,
          71.9,
          71.5,
          71.5,
          71.5,
          71,
          76.6,
          76.6,
          76.3,
          76.1,
          75.6,
          75.7,
          75.6,
          76,
          75.8,
          75.3,
          75.4,
          75,
          75,
          75,
          74.8,
          68.4,
          68.1,
          67.8,
          67.3,
          66.3,
          66.9,
          67.4,
          65.9,
          65,
          64.5,
          64,
          64,
          63.8,
          63.2,
          62.8,
          75.9,
          75.8,
          75.6,
          75.4,
          75.3,
          75,
          74.6,
          74.2,
          73.8,
          74.1,
          73.9,
          73.6,
          73.3,
          72.8,
          72.3,
          71.8,
          71.4,
          71,
          77,
          72,
          69.9,
          69.5,
          69,
          68.6,
          56.7,
          55.3,
          54.8,
          54.3,
          54,
          53.8,
          53.2,
          52.1,
          51.2,
          58,
          54,
          51,
          49.8,
          49.5,
          66.4,
          66.2,
          65.9,
          65.6,
          65.4,
          65.2,
          59.2,
          64.5,
          64.2,
          63.9,
          63.5,
          63.2,
          65.9,
          66.1,
          65.8,
          64.3,
          63,
          69.6,
          69.3,
          68.9,
          68.4,
          68,
          67.5,
          67,
          66.6,
          66,
          65.4,
          64.7,
          64.3,
          81.7,
          81.4,
          81.1,
          81.1,
          74.5,
          73.9,
          73.9,
          74.5,
          73.2,
          73.2,
          72.5,
          72.5,
          73,
          71.2,
          71,
          76,
          75,
          73,
          73,
          61.4,
          69,
          63,
          59.4,
          58.2,
          57.1,
          53.6,
          53.2,
          52.7,
          52.3,
          52,
          51.6,
          59,
          55,
          49.8,
          49.2,
          66.2,
          66,
          65.7,
          65.5,
          65.1,
          64.8,
          64.6,
          64.4,
          64.2,
          62.9,
          63.7,
          63.5,
          77.6,
          77.5,
          77.2,
          77.3,
          76.5,
          76.8,
          76.5,
          76.4,
          76.2,
          75.8,
          75.8,
          75.5,
          75.7,
          75.5,
          62.7,
          62.4,
          62.2,
          62,
          61.8,
          61.6,
          61.4,
          61.1,
          68,
          64,
          59.9,
          59.6,
          59.3,
          59.1,
          58.9,
          73.9,
          73.8,
          73.6,
          73.4,
          73.2,
          73,
          72.7,
          72.5,
          72.3,
          72.1,
          71.9,
          71.7,
          75.3,
          75.3,
          74.9,
          74.5,
          73.7,
          73.8,
          73.9,
          74,
          74.2,
          72.8,
          72.2,
          72.1,
          68.4,
          68.1,
          68.1,
          68,
          67.9,
          68,
          67.5,
          67.5,
          67.3,
          67,
          67.3,
          67.2,
          66.8,
          66.8,
          66.8,
          77.3,
          77.1,
          76.8,
          76.7,
          76.3,
          75.7,
          75.5,
          75.3,
          75.2,
          75,
          74.9,
          74.7,
          74.5,
          74.2,
          73.7,
          89,
          86,
          83,
          82,
          79.6,
          79.3,
          79,
          78.7,
          78.5,
          77.7,
          78,
          77.3,
          77.2,
          76.9,
          76.6,
          74.8,
          74.6,
          74.4,
          74.3,
          73.4,
          73.1,
          73.1,
          72.9,
          72.5,
          71.9,
          71.7,
          71.1,
          77,
          78,
          77,
          73,
          70,
          69.6,
          69.4,
          68.4,
          68.2,
          67.5,
          67.3,
          66.4,
          65,
          64.9,
          64.6,
          64.8,
          65.1,
          65.7,
          65.2,
          64.6,
          63.8,
          62.8,
          61,
          68,
          59.6,
          57.6,
          55.3,
          53.4,
          52,
          57,
          73.8,
          73.6,
          73.2,
          73,
          72.6,
          76,
          72.5,
          72.2,
          72,
          71.6,
          71.4,
          79,
          76,
          75,
          72,
          67.3,
          67.1,
          66.9,
          66.6,
          66.2,
          65.8,
          65.4,
          65.1,
          64.7,
          64.3,
          63.8,
          63.4,
          66.4,
          66,
          65.6,
          64.9,
          64.3,
          63.5,
          62.8,
          62.1,
          61.3,
          65,
          59.7,
          75.4,
          75.3,
          74.9,
          74.6,
          74.4,
          74.1,
          74,
          73.8,
          73.6,
          73,
          73,
          73,
          72.9,
          72.7,
          72.6,
          72.4,
          72.3,
          72.2,
          72.2,
          72.2,
          72.2,
          72.1,
          72.1,
          72.1,
          72,
          71.8,
          48.1,
          54,
          49.7,
          48.9,
          48.1,
          47.1,
          46.2,
          45.3,
          68.8,
          68.8,
          68.7,
          68.5,
          68.3,
          68.1,
          68,
          67.6,
          67.6,
          67.4,
          67.1,
          66.8,
          66.5,
          66.2,
          65.8,
          62,
          69,
          59.2,
          58.9,
          58,
          56.5,
          55.3,
          54.5,
          54,
          53.8,
          53.7,
          54,
          54.9,
          56,
          57.3,
          82.6,
          82.4,
          82,
          82.1,
          81.9,
          81.6,
          81.3,
          89,
          88,
          81,
          81,
          79.4,
          79.5,
          79.4,
          79.1,
          74.7,
          74.6,
          74.5,
          74.5,
          74.5,
          71.8,
          72.3,
          73.7,
          73.8,
          74.2,
          69.1,
          73.9,
          71.4,
          71.2,
          71.3,
          76,
          73,
          70,
          69.8,
          69.5,
          69.3,
          68.9,
          58.4,
          57.6,
          56.5,
          55,
          53.6,
          52.6,
          51.4,
          50,
          47.8,
          46,
          45.6,
          45.9,
          46.4,
          47.1,
          48.4,
          82.3,
          81.9,
          81.7,
          81.7,
          73.8,
          73.7,
          73.5,
          73.2,
          73,
          72.8,
          72.7,
          72.6,
          69.6,
          69.3,
          68.8,
          68.1,
          67.3,
          66.7,
          66.4,
          66.1,
          65.9,
          65.5,
          65.9,
          65.2,
          64.3,
          74.6,
          74.5,
          74.3,
          74.1,
          73.9,
          73.7,
          73.5,
          73.3,
          73,
          72.5,
          71.6,
          71.7,
          71.4,
          71.2,
          71.1,
          68,
          67.7,
          67.4,
          67.2,
          66.9,
          66.6,
          66.2,
          59.7,
          59.4,
          58.9,
          58.3,
          57.4,
          56.7,
          56.2,
          73.3,
          73.2,
          73,
          72.9,
          72.8,
          72.5,
          72.6,
          72.5,
          72.4,
          72.3,
          72.2,
          72,
          71.9,
          71.8,
          71.6,
          71.1,
          71,
          78,
          76,
          74,
          71,
          69.9,
          69.7,
          69.6,
          69.5,
          69.4,
          69.3,
          69.2,
          75.1,
          74.9,
          74.9,
          74.8,
          74.8,
          74.7,
          74.7,
          74.6,
          74.4,
          74.2,
          74,
          73.7,
          73.5,
          73.2,
          72.9,
          75.5,
          75.2,
          74.8,
          74.5,
          74.2,
          73.9,
          73.5,
          73.2,
          72.8,
          72.4,
          72,
          71.6,
          71.2,
          78,
          74,
          66,
          65.4,
          65.6,
          65.6,
          65.8,
          65.6,
          64.5,
          64.1,
          63.7,
          63.3,
          63.5,
          63.4,
          63.3,
          61.5,
          67,
          60,
          59.3,
          58.4,
          57.5,
          56.3,
          55.5,
          54.9,
          53.2,
          51.3,
          51,
          48.8,
          78,
          71,
          77,
          75,
          69.8,
          69.2,
          67.7,
          67.5,
          67.7,
          67,
          67.4,
          67.6,
          67.6,
          67.7,
          67.5,
          76.8,
          76.8,
          76.5,
          77,
          76.3,
          76.6,
          76.4,
          75.4,
          76.2,
          75.7,
          75.4,
          75.4,
          75.4,
          75.2,
          75.1,
          69.2,
          69.1,
          68.8,
          68.5,
          68.3,
          68,
          67.9,
          67.8,
          67.6,
          67.3,
          67.8,
          67.2,
          67.1,
          71.7,
          71.6,
          71.4,
          71.2,
          71,
          78,
          75,
          73,
          71,
          69.9,
          69.6,
          69.4,
          69.3,
          69.1,
          69,
          61.1,
          63,
          59.2,
          58.2,
          58,
          57.4,
          55.7,
          52.6,
          58,
          49.3,
          59.2,
          58,
          56.6,
          54.9,
          52.4,
          50,
          48.2,
          46.6,
          45.4,
          44.6,
          44.3,
          44.5,
          44.8,
          45.3,
          46
         ],
         "yaxis": "y"
        },
        {
         "hovertemplate": "<b>OLS trendline</b><br>Life expectancy  = 2.28979 * Schooling + 41.5503<br>R<sup>2</sup>=0.529445<br><br>Years of Schooling=%{x}<br>Life Expectancy=%{y} <b>(trend)</b><extra></extra>",
         "legendgroup": "",
         "marker": {
          "color": "#636efa",
          "symbol": "circle"
         },
         "mode": "lines",
         "name": "",
         "showlegend": false,
         "type": "scattergl",
         "x": [
          4.2,
          4.4,
          4.5,
          4.5,
          4.7,
          4.7,
          4.8,
          4.9,
          5,
          5,
          5,
          5.1,
          5.1,
          5.2,
          5.2,
          5.2,
          5.2,
          5.3,
          5.3,
          5.3,
          5.3,
          5.3,
          5.4,
          5.4,
          5.5,
          5.5,
          5.5,
          5.6,
          5.6,
          5.6,
          5.8,
          5.8,
          5.8,
          5.9,
          5.9,
          5.9,
          5.9,
          6,
          6.1,
          6.1,
          6.2,
          6.2,
          6.2,
          6.2,
          6.3,
          6.3,
          6.3,
          6.3,
          6.3,
          6.4,
          6.4,
          6.4,
          6.5,
          6.5,
          6.6,
          6.6,
          6.6,
          6.6,
          6.7,
          6.7,
          6.7,
          6.7,
          6.7,
          6.8,
          6.8,
          6.8,
          6.9,
          7,
          7.1,
          7.1,
          7.1,
          7.1,
          7.1,
          7.1,
          7.1,
          7.2,
          7.2,
          7.2,
          7.2,
          7.2,
          7.2,
          7.2,
          7.2,
          7.3,
          7.3,
          7.3,
          7.3,
          7.3,
          7.3,
          7.3,
          7.3,
          7.3,
          7.3,
          7.4,
          7.5,
          7.5,
          7.5,
          7.5,
          7.5,
          7.6,
          7.6,
          7.6,
          7.6,
          7.6,
          7.6,
          7.6,
          7.6,
          7.7,
          7.7,
          7.7,
          7.7,
          7.7,
          7.7,
          7.7,
          7.7,
          7.7,
          7.8,
          7.8,
          7.8,
          7.9,
          7.9,
          7.9,
          7.9,
          7.9,
          7.9,
          7.9,
          7.9,
          7.9,
          8,
          8,
          8,
          8,
          8,
          8,
          8.1,
          8.1,
          8.1,
          8.1,
          8.1,
          8.1,
          8.1,
          8.1,
          8.1,
          8.1,
          8.2,
          8.2,
          8.2,
          8.2,
          8.2,
          8.2,
          8.2,
          8.2,
          8.2,
          8.2,
          8.2,
          8.3,
          8.3,
          8.3,
          8.3,
          8.3,
          8.3,
          8.4,
          8.4,
          8.4,
          8.4,
          8.4,
          8.4,
          8.4,
          8.4,
          8.4,
          8.5,
          8.5,
          8.5,
          8.5,
          8.5,
          8.5,
          8.5,
          8.5,
          8.5,
          8.5,
          8.6,
          8.6,
          8.6,
          8.6,
          8.6,
          8.7,
          8.7,
          8.7,
          8.7,
          8.7,
          8.7,
          8.8,
          8.8,
          8.8,
          8.8,
          8.8,
          8.8,
          8.9,
          8.9,
          8.9,
          8.9,
          8.9,
          8.9,
          8.9,
          8.9,
          8.9,
          8.9,
          8.9,
          9,
          9,
          9,
          9,
          9,
          9.1,
          9.1,
          9.1,
          9.1,
          9.1,
          9.1,
          9.1,
          9.1,
          9.1,
          9.1,
          9.1,
          9.1,
          9.1,
          9.1,
          9.1,
          9.1,
          9.1,
          9.2,
          9.2,
          9.2,
          9.2,
          9.2,
          9.2,
          9.2,
          9.2,
          9.2,
          9.2,
          9.2,
          9.2,
          9.2,
          9.2,
          9.2,
          9.3,
          9.3,
          9.3,
          9.3,
          9.3,
          9.3,
          9.3,
          9.3,
          9.3,
          9.3,
          9.3,
          9.3,
          9.4,
          9.4,
          9.4,
          9.4,
          9.4,
          9.4,
          9.4,
          9.4,
          9.4,
          9.4,
          9.5,
          9.5,
          9.5,
          9.5,
          9.5,
          9.5,
          9.5,
          9.5,
          9.5,
          9.5,
          9.5,
          9.6,
          9.6,
          9.6,
          9.6,
          9.6,
          9.6,
          9.6,
          9.6,
          9.6,
          9.6,
          9.6,
          9.6,
          9.6,
          9.6,
          9.6,
          9.7,
          9.7,
          9.7,
          9.7,
          9.7,
          9.7,
          9.7,
          9.7,
          9.7,
          9.7,
          9.7,
          9.7,
          9.7,
          9.8,
          9.8,
          9.8,
          9.8,
          9.8,
          9.8,
          9.8,
          9.8,
          9.8,
          9.8,
          9.8,
          9.8,
          9.8,
          9.8,
          9.8,
          9.9,
          9.9,
          9.9,
          9.9,
          9.9,
          9.9,
          9.9,
          9.9,
          9.9,
          9.9,
          9.9,
          9.9,
          9.9,
          10,
          10,
          10,
          10,
          10,
          10,
          10,
          10,
          10,
          10,
          10,
          10,
          10,
          10,
          10,
          10,
          10,
          10,
          10,
          10,
          10,
          10,
          10.1,
          10.1,
          10.1,
          10.1,
          10.1,
          10.1,
          10.1,
          10.1,
          10.1,
          10.1,
          10.1,
          10.1,
          10.1,
          10.1,
          10.1,
          10.1,
          10.1,
          10.1,
          10.2,
          10.2,
          10.2,
          10.2,
          10.2,
          10.2,
          10.2,
          10.2,
          10.2,
          10.2,
          10.2,
          10.2,
          10.2,
          10.2,
          10.2,
          10.2,
          10.3,
          10.3,
          10.3,
          10.3,
          10.3,
          10.3,
          10.3,
          10.3,
          10.3,
          10.3,
          10.3,
          10.3,
          10.3,
          10.3,
          10.3,
          10.3,
          10.3,
          10.3,
          10.3,
          10.3,
          10.3,
          10.3,
          10.3,
          10.4,
          10.4,
          10.4,
          10.4,
          10.4,
          10.4,
          10.4,
          10.4,
          10.4,
          10.4,
          10.4,
          10.4,
          10.4,
          10.4,
          10.4,
          10.4,
          10.4,
          10.4,
          10.4,
          10.4,
          10.5,
          10.5,
          10.5,
          10.5,
          10.5,
          10.5,
          10.5,
          10.5,
          10.5,
          10.5,
          10.5,
          10.5,
          10.5,
          10.5,
          10.5,
          10.5,
          10.5,
          10.5,
          10.5,
          10.5,
          10.6,
          10.6,
          10.6,
          10.6,
          10.6,
          10.6,
          10.6,
          10.6,
          10.6,
          10.6,
          10.6,
          10.6,
          10.6,
          10.6,
          10.6,
          10.6,
          10.6,
          10.6,
          10.6,
          10.6,
          10.6,
          10.6,
          10.6,
          10.6,
          10.6,
          10.7,
          10.7,
          10.7,
          10.7,
          10.7,
          10.7,
          10.7,
          10.7,
          10.7,
          10.7,
          10.7,
          10.7,
          10.7,
          10.7,
          10.7,
          10.7,
          10.7,
          10.7,
          10.7,
          10.7,
          10.7,
          10.7,
          10.7,
          10.7,
          10.7,
          10.7,
          10.7,
          10.7,
          10.7,
          10.7,
          10.7,
          10.8,
          10.8,
          10.8,
          10.8,
          10.8,
          10.8,
          10.8,
          10.8,
          10.8,
          10.8,
          10.8,
          10.8,
          10.8,
          10.8,
          10.8,
          10.8,
          10.8,
          10.8,
          10.8,
          10.8,
          10.8,
          10.8,
          10.8,
          10.9,
          10.9,
          10.9,
          10.9,
          10.9,
          10.9,
          10.9,
          10.9,
          10.9,
          10.9,
          10.9,
          10.9,
          10.9,
          10.9,
          10.9,
          10.9,
          11,
          11,
          11,
          11,
          11,
          11,
          11,
          11,
          11,
          11,
          11,
          11,
          11,
          11,
          11,
          11,
          11,
          11,
          11.1,
          11.1,
          11.1,
          11.1,
          11.1,
          11.1,
          11.1,
          11.1,
          11.1,
          11.1,
          11.1,
          11.1,
          11.1,
          11.1,
          11.1,
          11.1,
          11.1,
          11.1,
          11.1,
          11.1,
          11.1,
          11.1,
          11.1,
          11.2,
          11.2,
          11.2,
          11.2,
          11.2,
          11.2,
          11.2,
          11.2,
          11.2,
          11.2,
          11.2,
          11.2,
          11.3,
          11.3,
          11.3,
          11.3,
          11.3,
          11.3,
          11.3,
          11.3,
          11.3,
          11.3,
          11.3,
          11.3,
          11.3,
          11.4,
          11.4,
          11.4,
          11.4,
          11.4,
          11.4,
          11.4,
          11.4,
          11.4,
          11.4,
          11.4,
          11.4,
          11.4,
          11.4,
          11.4,
          11.4,
          11.4,
          11.4,
          11.4,
          11.4,
          11.4,
          11.5,
          11.5,
          11.5,
          11.5,
          11.5,
          11.5,
          11.5,
          11.5,
          11.5,
          11.5,
          11.5,
          11.5,
          11.5,
          11.5,
          11.5,
          11.5,
          11.5,
          11.5,
          11.5,
          11.5,
          11.6,
          11.6,
          11.6,
          11.6,
          11.6,
          11.6,
          11.6,
          11.6,
          11.6,
          11.6,
          11.6,
          11.6,
          11.6,
          11.6,
          11.6,
          11.6,
          11.6,
          11.6,
          11.6,
          11.6,
          11.6,
          11.6,
          11.6,
          11.6,
          11.6,
          11.6,
          11.7,
          11.7,
          11.7,
          11.7,
          11.7,
          11.7,
          11.7,
          11.7,
          11.7,
          11.7,
          11.7,
          11.7,
          11.7,
          11.7,
          11.7,
          11.7,
          11.7,
          11.7,
          11.7,
          11.7,
          11.7,
          11.7,
          11.8,
          11.8,
          11.8,
          11.8,
          11.8,
          11.8,
          11.8,
          11.8,
          11.8,
          11.8,
          11.8,
          11.8,
          11.8,
          11.8,
          11.8,
          11.8,
          11.8,
          11.8,
          11.8,
          11.8,
          11.9,
          11.9,
          11.9,
          11.9,
          11.9,
          11.9,
          11.9,
          11.9,
          11.9,
          11.9,
          11.9,
          11.9,
          11.9,
          11.9,
          11.9,
          11.9,
          11.9,
          11.9,
          11.9,
          11.9,
          11.9,
          11.9,
          11.9,
          11.9,
          11.9,
          11.9,
          11.9,
          11.9,
          11.9,
          11.9,
          11.9,
          12,
          12,
          12,
          12,
          12,
          12,
          12,
          12,
          12,
          12,
          12,
          12,
          12,
          12,
          12,
          12,
          12,
          12,
          12,
          12,
          12,
          12.1,
          12.1,
          12.1,
          12.1,
          12.1,
          12.1,
          12.1,
          12.1,
          12.1,
          12.1,
          12.1,
          12.1,
          12.1,
          12.1,
          12.1,
          12.1,
          12.1,
          12.1,
          12.1,
          12.1,
          12.1,
          12.1,
          12.1,
          12.1,
          12.2,
          12.2,
          12.2,
          12.2,
          12.2,
          12.2,
          12.2,
          12.2,
          12.2,
          12.2,
          12.2,
          12.2,
          12.2,
          12.2,
          12.2,
          12.2,
          12.2,
          12.3,
          12.3,
          12.3,
          12.3,
          12.3,
          12.3,
          12.3,
          12.3,
          12.3,
          12.3,
          12.3,
          12.3,
          12.3,
          12.3,
          12.3,
          12.3,
          12.3,
          12.3,
          12.3,
          12.3,
          12.3,
          12.3,
          12.3,
          12.3,
          12.3,
          12.3,
          12.3,
          12.3,
          12.3,
          12.3,
          12.3,
          12.4,
          12.4,
          12.4,
          12.4,
          12.4,
          12.4,
          12.4,
          12.4,
          12.4,
          12.4,
          12.4,
          12.4,
          12.4,
          12.4,
          12.4,
          12.4,
          12.4,
          12.4,
          12.4,
          12.4,
          12.4,
          12.4,
          12.4,
          12.4,
          12.4,
          12.4,
          12.4,
          12.4,
          12.5,
          12.5,
          12.5,
          12.5,
          12.5,
          12.5,
          12.5,
          12.5,
          12.5,
          12.5,
          12.5,
          12.5,
          12.5,
          12.5,
          12.5,
          12.5,
          12.5,
          12.5,
          12.5,
          12.5,
          12.5,
          12.5,
          12.5,
          12.5,
          12.5,
          12.5,
          12.5,
          12.5,
          12.5,
          12.5,
          12.5,
          12.5,
          12.5,
          12.5,
          12.5,
          12.6,
          12.6,
          12.6,
          12.6,
          12.6,
          12.6,
          12.6,
          12.6,
          12.6,
          12.6,
          12.6,
          12.6,
          12.6,
          12.6,
          12.6,
          12.6,
          12.6,
          12.6,
          12.6,
          12.6,
          12.7,
          12.7,
          12.7,
          12.7,
          12.7,
          12.7,
          12.7,
          12.7,
          12.7,
          12.7,
          12.7,
          12.7,
          12.7,
          12.7,
          12.7,
          12.7,
          12.7,
          12.7,
          12.7,
          12.7,
          12.7,
          12.7,
          12.7,
          12.7,
          12.7,
          12.7,
          12.7,
          12.7,
          12.8,
          12.8,
          12.8,
          12.8,
          12.8,
          12.8,
          12.8,
          12.8,
          12.8,
          12.8,
          12.8,
          12.8,
          12.8,
          12.8,
          12.8,
          12.8,
          12.8,
          12.8,
          12.8,
          12.8,
          12.8,
          12.8,
          12.8,
          12.8,
          12.8,
          12.8,
          12.8,
          12.8,
          12.8,
          12.8,
          12.8,
          12.8,
          12.8,
          12.9,
          12.9,
          12.9,
          12.9,
          12.9,
          12.9,
          12.9,
          12.9,
          12.9,
          12.9,
          12.9,
          12.9,
          12.9,
          12.9,
          12.9,
          12.9,
          12.9,
          12.9,
          12.9,
          12.9,
          12.9,
          12.9,
          12.9,
          12.9,
          12.9,
          12.9,
          12.9,
          12.9,
          12.9,
          12.9,
          12.9,
          12.9,
          12.9,
          12.9,
          12.9,
          12.9,
          12.9,
          12.9,
          12.9,
          12.9,
          12.9,
          12.9,
          12.9,
          12.9,
          13,
          13,
          13,
          13,
          13,
          13,
          13,
          13,
          13,
          13,
          13,
          13,
          13,
          13,
          13,
          13,
          13,
          13,
          13.1,
          13.1,
          13.1,
          13.1,
          13.1,
          13.1,
          13.1,
          13.1,
          13.1,
          13.1,
          13.1,
          13.1,
          13.1,
          13.1,
          13.1,
          13.1,
          13.1,
          13.1,
          13.1,
          13.1,
          13.1,
          13.1,
          13.1,
          13.2,
          13.2,
          13.2,
          13.2,
          13.2,
          13.2,
          13.2,
          13.2,
          13.2,
          13.2,
          13.2,
          13.2,
          13.2,
          13.2,
          13.2,
          13.2,
          13.2,
          13.2,
          13.2,
          13.2,
          13.2,
          13.2,
          13.2,
          13.2,
          13.2,
          13.2,
          13.3,
          13.3,
          13.3,
          13.3,
          13.3,
          13.3,
          13.3,
          13.3,
          13.3,
          13.3,
          13.3,
          13.3,
          13.3,
          13.3,
          13.3,
          13.3,
          13.3,
          13.3,
          13.3,
          13.3,
          13.3,
          13.3,
          13.3,
          13.3,
          13.3,
          13.4,
          13.4,
          13.4,
          13.4,
          13.4,
          13.4,
          13.4,
          13.4,
          13.4,
          13.4,
          13.4,
          13.4,
          13.4,
          13.4,
          13.4,
          13.4,
          13.4,
          13.4,
          13.5,
          13.5,
          13.5,
          13.5,
          13.5,
          13.5,
          13.5,
          13.5,
          13.5,
          13.5,
          13.5,
          13.5,
          13.5,
          13.5,
          13.5,
          13.5,
          13.5,
          13.5,
          13.5,
          13.5,
          13.5,
          13.5,
          13.5,
          13.5,
          13.5,
          13.5,
          13.5,
          13.5,
          13.6,
          13.6,
          13.6,
          13.6,
          13.6,
          13.6,
          13.6,
          13.6,
          13.6,
          13.6,
          13.6,
          13.6,
          13.6,
          13.6,
          13.6,
          13.6,
          13.6,
          13.6,
          13.7,
          13.7,
          13.7,
          13.7,
          13.7,
          13.7,
          13.7,
          13.7,
          13.7,
          13.7,
          13.7,
          13.7,
          13.7,
          13.8,
          13.8,
          13.8,
          13.8,
          13.8,
          13.8,
          13.8,
          13.8,
          13.8,
          13.8,
          13.8,
          13.8,
          13.8,
          13.8,
          13.8,
          13.8,
          13.8,
          13.9,
          13.9,
          13.9,
          13.9,
          13.9,
          13.9,
          13.9,
          13.9,
          13.9,
          13.9,
          13.9,
          13.9,
          13.9,
          13.9,
          14,
          14,
          14,
          14,
          14,
          14,
          14,
          14,
          14,
          14,
          14,
          14,
          14,
          14.1,
          14.1,
          14.1,
          14.1,
          14.1,
          14.1,
          14.1,
          14.2,
          14.2,
          14.2,
          14.2,
          14.2,
          14.2,
          14.2,
          14.2,
          14.2,
          14.2,
          14.2,
          14.2,
          14.2,
          14.2,
          14.2,
          14.2,
          14.2,
          14.2,
          14.2,
          14.2,
          14.3,
          14.3,
          14.3,
          14.3,
          14.3,
          14.3,
          14.3,
          14.3,
          14.3,
          14.3,
          14.3,
          14.3,
          14.3,
          14.3,
          14.3,
          14.3,
          14.3,
          14.4,
          14.4,
          14.4,
          14.4,
          14.4,
          14.4,
          14.4,
          14.4,
          14.4,
          14.4,
          14.4,
          14.4,
          14.4,
          14.4,
          14.5,
          14.5,
          14.5,
          14.5,
          14.5,
          14.5,
          14.5,
          14.5,
          14.5,
          14.6,
          14.6,
          14.6,
          14.6,
          14.6,
          14.6,
          14.6,
          14.6,
          14.6,
          14.6,
          14.6,
          14.6,
          14.6,
          14.6,
          14.6,
          14.6,
          14.6,
          14.6,
          14.6,
          14.7,
          14.7,
          14.7,
          14.7,
          14.7,
          14.7,
          14.7,
          14.7,
          14.7,
          14.7,
          14.7,
          14.7,
          14.7,
          14.7,
          14.7,
          14.7,
          14.7,
          14.7,
          14.8,
          14.8,
          14.8,
          14.8,
          14.8,
          14.8,
          14.8,
          14.8,
          14.8,
          14.8,
          14.8,
          14.8,
          14.9,
          14.9,
          14.9,
          14.9,
          14.9,
          14.9,
          14.9,
          14.9,
          14.9,
          14.9,
          14.9,
          14.9,
          15,
          15,
          15,
          15,
          15,
          15,
          15,
          15,
          15,
          15,
          15,
          15.1,
          15.1,
          15.1,
          15.1,
          15.1,
          15.1,
          15.1,
          15.1,
          15.1,
          15.1,
          15.1,
          15.2,
          15.2,
          15.2,
          15.2,
          15.2,
          15.2,
          15.2,
          15.2,
          15.2,
          15.2,
          15.2,
          15.2,
          15.2,
          15.3,
          15.3,
          15.3,
          15.3,
          15.3,
          15.3,
          15.3,
          15.3,
          15.3,
          15.4,
          15.4,
          15.4,
          15.4,
          15.4,
          15.4,
          15.4,
          15.4,
          15.4,
          15.4,
          15.4,
          15.4,
          15.4,
          15.5,
          15.5,
          15.5,
          15.5,
          15.5,
          15.5,
          15.5,
          15.5,
          15.5,
          15.5,
          15.5,
          15.5,
          15.5,
          15.5,
          15.5,
          15.5,
          15.5,
          15.5,
          15.6,
          15.6,
          15.6,
          15.6,
          15.6,
          15.6,
          15.6,
          15.6,
          15.6,
          15.7,
          15.7,
          15.7,
          15.7,
          15.7,
          15.7,
          15.7,
          15.7,
          15.7,
          15.7,
          15.7,
          15.7,
          15.7,
          15.7,
          15.7,
          15.7,
          15.7,
          15.7,
          15.8,
          15.8,
          15.8,
          15.8,
          15.8,
          15.8,
          15.8,
          15.8,
          15.8,
          15.8,
          15.8,
          15.8,
          15.8,
          15.8,
          15.8,
          15.8,
          15.8,
          15.8,
          15.8,
          15.8,
          15.8,
          15.8,
          15.9,
          15.9,
          15.9,
          15.9,
          15.9,
          15.9,
          15.9,
          15.9,
          15.9,
          15.9,
          15.9,
          15.9,
          15.9,
          15.9,
          15.9,
          15.9,
          15.9,
          16,
          16,
          16,
          16,
          16,
          16,
          16,
          16,
          16,
          16,
          16,
          16.1,
          16.1,
          16.1,
          16.1,
          16.1,
          16.1,
          16.1,
          16.1,
          16.1,
          16.1,
          16.1,
          16.1,
          16.1,
          16.1,
          16.2,
          16.2,
          16.2,
          16.2,
          16.2,
          16.2,
          16.2,
          16.2,
          16.2,
          16.2,
          16.2,
          16.2,
          16.3,
          16.3,
          16.3,
          16.3,
          16.3,
          16.3,
          16.3,
          16.3,
          16.3,
          16.3,
          16.3,
          16.3,
          16.3,
          16.3,
          16.3,
          16.3,
          16.3,
          16.3,
          16.4,
          16.4,
          16.4,
          16.4,
          16.4,
          16.4,
          16.4,
          16.4,
          16.4,
          16.4,
          16.4,
          16.4,
          16.4,
          16.4,
          16.5,
          16.5,
          16.5,
          16.5,
          16.5,
          16.5,
          16.5,
          16.5,
          16.5,
          16.6,
          16.6,
          16.6,
          16.6,
          16.7,
          16.7,
          16.7,
          16.7,
          16.8,
          16.8,
          16.8,
          16.8,
          16.8,
          16.9,
          16.9,
          16.9,
          17,
          17.1,
          17.1,
          17.2,
          17.2,
          17.2,
          17.2,
          17.3,
          17.3,
          17.5,
          17.6,
          18,
          18.1,
          18.1,
          18.1,
          18.2,
          18.2,
          18.5,
          18.5,
          18.6,
          18.6,
          18.6,
          18.8,
          18.8,
          19,
          19.1,
          19.1,
          19.5,
          19.8,
          20.1,
          20.1,
          20.3,
          20.3,
          20.3,
          20.4,
          20.5,
          20.6,
          20.7
         ],
         "xaxis": "x",
         "y": [
          51.167445131282676,
          51.62540243537406,
          51.85438108741975,
          51.85438108741975,
          52.31233839151114,
          52.31233839151114,
          52.54131704355683,
          52.77029569560252,
          52.99927434764821,
          52.99927434764821,
          52.99927434764821,
          53.2282529996939,
          53.2282529996939,
          53.4572316517396,
          53.4572316517396,
          53.4572316517396,
          53.4572316517396,
          53.68621030378529,
          53.68621030378529,
          53.68621030378529,
          53.68621030378529,
          53.68621030378529,
          53.91518895583098,
          53.91518895583098,
          54.14416760787667,
          54.14416760787667,
          54.14416760787667,
          54.373146259922365,
          54.373146259922365,
          54.373146259922365,
          54.831103564013745,
          54.831103564013745,
          54.831103564013745,
          55.06008221605944,
          55.06008221605944,
          55.06008221605944,
          55.06008221605944,
          55.289060868105125,
          55.51803952015082,
          55.51803952015082,
          55.74701817219651,
          55.74701817219651,
          55.74701817219651,
          55.74701817219651,
          55.9759968242422,
          55.9759968242422,
          55.9759968242422,
          55.9759968242422,
          55.9759968242422,
          56.2049754762879,
          56.2049754762879,
          56.2049754762879,
          56.43395412833358,
          56.43395412833358,
          56.66293278037928,
          56.66293278037928,
          56.66293278037928,
          56.66293278037928,
          56.89191143242497,
          56.89191143242497,
          56.89191143242497,
          56.89191143242497,
          56.89191143242497,
          57.12089008447066,
          57.12089008447066,
          57.12089008447066,
          57.349868736516356,
          57.578847388562046,
          57.807826040607736,
          57.807826040607736,
          57.807826040607736,
          57.807826040607736,
          57.807826040607736,
          57.807826040607736,
          57.807826040607736,
          58.03680469265343,
          58.03680469265343,
          58.03680469265343,
          58.03680469265343,
          58.03680469265343,
          58.03680469265343,
          58.03680469265343,
          58.03680469265343,
          58.265783344699116,
          58.265783344699116,
          58.265783344699116,
          58.265783344699116,
          58.265783344699116,
          58.265783344699116,
          58.265783344699116,
          58.265783344699116,
          58.265783344699116,
          58.265783344699116,
          58.49476199674481,
          58.7237406487905,
          58.7237406487905,
          58.7237406487905,
          58.7237406487905,
          58.7237406487905,
          58.95271930083619,
          58.95271930083619,
          58.95271930083619,
          58.95271930083619,
          58.95271930083619,
          58.95271930083619,
          58.95271930083619,
          58.95271930083619,
          59.18169795288189,
          59.18169795288189,
          59.18169795288189,
          59.18169795288189,
          59.18169795288189,
          59.18169795288189,
          59.18169795288189,
          59.18169795288189,
          59.18169795288189,
          59.41067660492757,
          59.41067660492757,
          59.41067660492757,
          59.63965525697327,
          59.63965525697327,
          59.63965525697327,
          59.63965525697327,
          59.63965525697327,
          59.63965525697327,
          59.63965525697327,
          59.63965525697327,
          59.63965525697327,
          59.86863390901896,
          59.86863390901896,
          59.86863390901896,
          59.86863390901896,
          59.86863390901896,
          59.86863390901896,
          60.09761256106465,
          60.09761256106465,
          60.09761256106465,
          60.09761256106465,
          60.09761256106465,
          60.09761256106465,
          60.09761256106465,
          60.09761256106465,
          60.09761256106465,
          60.09761256106465,
          60.32659121311034,
          60.32659121311034,
          60.32659121311034,
          60.32659121311034,
          60.32659121311034,
          60.32659121311034,
          60.32659121311034,
          60.32659121311034,
          60.32659121311034,
          60.32659121311034,
          60.32659121311034,
          60.55556986515604,
          60.55556986515604,
          60.55556986515604,
          60.55556986515604,
          60.55556986515604,
          60.55556986515604,
          60.78454851720173,
          60.78454851720173,
          60.78454851720173,
          60.78454851720173,
          60.78454851720173,
          60.78454851720173,
          60.78454851720173,
          60.78454851720173,
          60.78454851720173,
          61.01352716924742,
          61.01352716924742,
          61.01352716924742,
          61.01352716924742,
          61.01352716924742,
          61.01352716924742,
          61.01352716924742,
          61.01352716924742,
          61.01352716924742,
          61.01352716924742,
          61.24250582129311,
          61.24250582129311,
          61.24250582129311,
          61.24250582129311,
          61.24250582129311,
          61.471484473338805,
          61.471484473338805,
          61.471484473338805,
          61.471484473338805,
          61.471484473338805,
          61.471484473338805,
          61.700463125384495,
          61.700463125384495,
          61.700463125384495,
          61.700463125384495,
          61.700463125384495,
          61.700463125384495,
          61.929441777430185,
          61.929441777430185,
          61.929441777430185,
          61.929441777430185,
          61.929441777430185,
          61.929441777430185,
          61.929441777430185,
          61.929441777430185,
          61.929441777430185,
          61.929441777430185,
          61.929441777430185,
          62.158420429475875,
          62.158420429475875,
          62.158420429475875,
          62.158420429475875,
          62.158420429475875,
          62.387399081521565,
          62.387399081521565,
          62.387399081521565,
          62.387399081521565,
          62.387399081521565,
          62.387399081521565,
          62.387399081521565,
          62.387399081521565,
          62.387399081521565,
          62.387399081521565,
          62.387399081521565,
          62.387399081521565,
          62.387399081521565,
          62.387399081521565,
          62.387399081521565,
          62.387399081521565,
          62.387399081521565,
          62.61637773356726,
          62.61637773356726,
          62.61637773356726,
          62.61637773356726,
          62.61637773356726,
          62.61637773356726,
          62.61637773356726,
          62.61637773356726,
          62.61637773356726,
          62.61637773356726,
          62.61637773356726,
          62.61637773356726,
          62.61637773356726,
          62.61637773356726,
          62.61637773356726,
          62.84535638561295,
          62.84535638561295,
          62.84535638561295,
          62.84535638561295,
          62.84535638561295,
          62.84535638561295,
          62.84535638561295,
          62.84535638561295,
          62.84535638561295,
          62.84535638561295,
          62.84535638561295,
          62.84535638561295,
          63.07433503765864,
          63.07433503765864,
          63.07433503765864,
          63.07433503765864,
          63.07433503765864,
          63.07433503765864,
          63.07433503765864,
          63.07433503765864,
          63.07433503765864,
          63.07433503765864,
          63.30331368970434,
          63.30331368970434,
          63.30331368970434,
          63.30331368970434,
          63.30331368970434,
          63.30331368970434,
          63.30331368970434,
          63.30331368970434,
          63.30331368970434,
          63.30331368970434,
          63.30331368970434,
          63.53229234175002,
          63.53229234175002,
          63.53229234175002,
          63.53229234175002,
          63.53229234175002,
          63.53229234175002,
          63.53229234175002,
          63.53229234175002,
          63.53229234175002,
          63.53229234175002,
          63.53229234175002,
          63.53229234175002,
          63.53229234175002,
          63.53229234175002,
          63.53229234175002,
          63.76127099379572,
          63.76127099379572,
          63.76127099379572,
          63.76127099379572,
          63.76127099379572,
          63.76127099379572,
          63.76127099379572,
          63.76127099379572,
          63.76127099379572,
          63.76127099379572,
          63.76127099379572,
          63.76127099379572,
          63.76127099379572,
          63.990249645841416,
          63.990249645841416,
          63.990249645841416,
          63.990249645841416,
          63.990249645841416,
          63.990249645841416,
          63.990249645841416,
          63.990249645841416,
          63.990249645841416,
          63.990249645841416,
          63.990249645841416,
          63.990249645841416,
          63.990249645841416,
          63.990249645841416,
          63.990249645841416,
          64.2192282978871,
          64.2192282978871,
          64.2192282978871,
          64.2192282978871,
          64.2192282978871,
          64.2192282978871,
          64.2192282978871,
          64.2192282978871,
          64.2192282978871,
          64.2192282978871,
          64.2192282978871,
          64.2192282978871,
          64.2192282978871,
          64.4482069499328,
          64.4482069499328,
          64.4482069499328,
          64.4482069499328,
          64.4482069499328,
          64.4482069499328,
          64.4482069499328,
          64.4482069499328,
          64.4482069499328,
          64.4482069499328,
          64.4482069499328,
          64.4482069499328,
          64.4482069499328,
          64.4482069499328,
          64.4482069499328,
          64.4482069499328,
          64.4482069499328,
          64.4482069499328,
          64.4482069499328,
          64.4482069499328,
          64.4482069499328,
          64.4482069499328,
          64.67718560197848,
          64.67718560197848,
          64.67718560197848,
          64.67718560197848,
          64.67718560197848,
          64.67718560197848,
          64.67718560197848,
          64.67718560197848,
          64.67718560197848,
          64.67718560197848,
          64.67718560197848,
          64.67718560197848,
          64.67718560197848,
          64.67718560197848,
          64.67718560197848,
          64.67718560197848,
          64.67718560197848,
          64.67718560197848,
          64.90616425402418,
          64.90616425402418,
          64.90616425402418,
          64.90616425402418,
          64.90616425402418,
          64.90616425402418,
          64.90616425402418,
          64.90616425402418,
          64.90616425402418,
          64.90616425402418,
          64.90616425402418,
          64.90616425402418,
          64.90616425402418,
          64.90616425402418,
          64.90616425402418,
          64.90616425402418,
          65.13514290606987,
          65.13514290606987,
          65.13514290606987,
          65.13514290606987,
          65.13514290606987,
          65.13514290606987,
          65.13514290606987,
          65.13514290606987,
          65.13514290606987,
          65.13514290606987,
          65.13514290606987,
          65.13514290606987,
          65.13514290606987,
          65.13514290606987,
          65.13514290606987,
          65.13514290606987,
          65.13514290606987,
          65.13514290606987,
          65.13514290606987,
          65.13514290606987,
          65.13514290606987,
          65.13514290606987,
          65.13514290606987,
          65.36412155811556,
          65.36412155811556,
          65.36412155811556,
          65.36412155811556,
          65.36412155811556,
          65.36412155811556,
          65.36412155811556,
          65.36412155811556,
          65.36412155811556,
          65.36412155811556,
          65.36412155811556,
          65.36412155811556,
          65.36412155811556,
          65.36412155811556,
          65.36412155811556,
          65.36412155811556,
          65.36412155811556,
          65.36412155811556,
          65.36412155811556,
          65.36412155811556,
          65.59310021016125,
          65.59310021016125,
          65.59310021016125,
          65.59310021016125,
          65.59310021016125,
          65.59310021016125,
          65.59310021016125,
          65.59310021016125,
          65.59310021016125,
          65.59310021016125,
          65.59310021016125,
          65.59310021016125,
          65.59310021016125,
          65.59310021016125,
          65.59310021016125,
          65.59310021016125,
          65.59310021016125,
          65.59310021016125,
          65.59310021016125,
          65.59310021016125,
          65.82207886220694,
          65.82207886220694,
          65.82207886220694,
          65.82207886220694,
          65.82207886220694,
          65.82207886220694,
          65.82207886220694,
          65.82207886220694,
          65.82207886220694,
          65.82207886220694,
          65.82207886220694,
          65.82207886220694,
          65.82207886220694,
          65.82207886220694,
          65.82207886220694,
          65.82207886220694,
          65.82207886220694,
          65.82207886220694,
          65.82207886220694,
          65.82207886220694,
          65.82207886220694,
          65.82207886220694,
          65.82207886220694,
          65.82207886220694,
          65.82207886220694,
          66.05105751425263,
          66.05105751425263,
          66.05105751425263,
          66.05105751425263,
          66.05105751425263,
          66.05105751425263,
          66.05105751425263,
          66.05105751425263,
          66.05105751425263,
          66.05105751425263,
          66.05105751425263,
          66.05105751425263,
          66.05105751425263,
          66.05105751425263,
          66.05105751425263,
          66.05105751425263,
          66.05105751425263,
          66.05105751425263,
          66.05105751425263,
          66.05105751425263,
          66.05105751425263,
          66.05105751425263,
          66.05105751425263,
          66.05105751425263,
          66.05105751425263,
          66.05105751425263,
          66.05105751425263,
          66.05105751425263,
          66.05105751425263,
          66.05105751425263,
          66.05105751425263,
          66.28003616629833,
          66.28003616629833,
          66.28003616629833,
          66.28003616629833,
          66.28003616629833,
          66.28003616629833,
          66.28003616629833,
          66.28003616629833,
          66.28003616629833,
          66.28003616629833,
          66.28003616629833,
          66.28003616629833,
          66.28003616629833,
          66.28003616629833,
          66.28003616629833,
          66.28003616629833,
          66.28003616629833,
          66.28003616629833,
          66.28003616629833,
          66.28003616629833,
          66.28003616629833,
          66.28003616629833,
          66.28003616629833,
          66.50901481834401,
          66.50901481834401,
          66.50901481834401,
          66.50901481834401,
          66.50901481834401,
          66.50901481834401,
          66.50901481834401,
          66.50901481834401,
          66.50901481834401,
          66.50901481834401,
          66.50901481834401,
          66.50901481834401,
          66.50901481834401,
          66.50901481834401,
          66.50901481834401,
          66.50901481834401,
          66.73799347038971,
          66.73799347038971,
          66.73799347038971,
          66.73799347038971,
          66.73799347038971,
          66.73799347038971,
          66.73799347038971,
          66.73799347038971,
          66.73799347038971,
          66.73799347038971,
          66.73799347038971,
          66.73799347038971,
          66.73799347038971,
          66.73799347038971,
          66.73799347038971,
          66.73799347038971,
          66.73799347038971,
          66.73799347038971,
          66.96697212243541,
          66.96697212243541,
          66.96697212243541,
          66.96697212243541,
          66.96697212243541,
          66.96697212243541,
          66.96697212243541,
          66.96697212243541,
          66.96697212243541,
          66.96697212243541,
          66.96697212243541,
          66.96697212243541,
          66.96697212243541,
          66.96697212243541,
          66.96697212243541,
          66.96697212243541,
          66.96697212243541,
          66.96697212243541,
          66.96697212243541,
          66.96697212243541,
          66.96697212243541,
          66.96697212243541,
          66.96697212243541,
          67.19595077448109,
          67.19595077448109,
          67.19595077448109,
          67.19595077448109,
          67.19595077448109,
          67.19595077448109,
          67.19595077448109,
          67.19595077448109,
          67.19595077448109,
          67.19595077448109,
          67.19595077448109,
          67.19595077448109,
          67.42492942652679,
          67.42492942652679,
          67.42492942652679,
          67.42492942652679,
          67.42492942652679,
          67.42492942652679,
          67.42492942652679,
          67.42492942652679,
          67.42492942652679,
          67.42492942652679,
          67.42492942652679,
          67.42492942652679,
          67.42492942652679,
          67.65390807857247,
          67.65390807857247,
          67.65390807857247,
          67.65390807857247,
          67.65390807857247,
          67.65390807857247,
          67.65390807857247,
          67.65390807857247,
          67.65390807857247,
          67.65390807857247,
          67.65390807857247,
          67.65390807857247,
          67.65390807857247,
          67.65390807857247,
          67.65390807857247,
          67.65390807857247,
          67.65390807857247,
          67.65390807857247,
          67.65390807857247,
          67.65390807857247,
          67.65390807857247,
          67.88288673061817,
          67.88288673061817,
          67.88288673061817,
          67.88288673061817,
          67.88288673061817,
          67.88288673061817,
          67.88288673061817,
          67.88288673061817,
          67.88288673061817,
          67.88288673061817,
          67.88288673061817,
          67.88288673061817,
          67.88288673061817,
          67.88288673061817,
          67.88288673061817,
          67.88288673061817,
          67.88288673061817,
          67.88288673061817,
          67.88288673061817,
          67.88288673061817,
          68.11186538266386,
          68.11186538266386,
          68.11186538266386,
          68.11186538266386,
          68.11186538266386,
          68.11186538266386,
          68.11186538266386,
          68.11186538266386,
          68.11186538266386,
          68.11186538266386,
          68.11186538266386,
          68.11186538266386,
          68.11186538266386,
          68.11186538266386,
          68.11186538266386,
          68.11186538266386,
          68.11186538266386,
          68.11186538266386,
          68.11186538266386,
          68.11186538266386,
          68.11186538266386,
          68.11186538266386,
          68.11186538266386,
          68.11186538266386,
          68.11186538266386,
          68.11186538266386,
          68.34084403470955,
          68.34084403470955,
          68.34084403470955,
          68.34084403470955,
          68.34084403470955,
          68.34084403470955,
          68.34084403470955,
          68.34084403470955,
          68.34084403470955,
          68.34084403470955,
          68.34084403470955,
          68.34084403470955,
          68.34084403470955,
          68.34084403470955,
          68.34084403470955,
          68.34084403470955,
          68.34084403470955,
          68.34084403470955,
          68.34084403470955,
          68.34084403470955,
          68.34084403470955,
          68.34084403470955,
          68.56982268675524,
          68.56982268675524,
          68.56982268675524,
          68.56982268675524,
          68.56982268675524,
          68.56982268675524,
          68.56982268675524,
          68.56982268675524,
          68.56982268675524,
          68.56982268675524,
          68.56982268675524,
          68.56982268675524,
          68.56982268675524,
          68.56982268675524,
          68.56982268675524,
          68.56982268675524,
          68.56982268675524,
          68.56982268675524,
          68.56982268675524,
          68.56982268675524,
          68.79880133880093,
          68.79880133880093,
          68.79880133880093,
          68.79880133880093,
          68.79880133880093,
          68.79880133880093,
          68.79880133880093,
          68.79880133880093,
          68.79880133880093,
          68.79880133880093,
          68.79880133880093,
          68.79880133880093,
          68.79880133880093,
          68.79880133880093,
          68.79880133880093,
          68.79880133880093,
          68.79880133880093,
          68.79880133880093,
          68.79880133880093,
          68.79880133880093,
          68.79880133880093,
          68.79880133880093,
          68.79880133880093,
          68.79880133880093,
          68.79880133880093,
          68.79880133880093,
          68.79880133880093,
          68.79880133880093,
          68.79880133880093,
          68.79880133880093,
          68.79880133880093,
          69.02777999084662,
          69.02777999084662,
          69.02777999084662,
          69.02777999084662,
          69.02777999084662,
          69.02777999084662,
          69.02777999084662,
          69.02777999084662,
          69.02777999084662,
          69.02777999084662,
          69.02777999084662,
          69.02777999084662,
          69.02777999084662,
          69.02777999084662,
          69.02777999084662,
          69.02777999084662,
          69.02777999084662,
          69.02777999084662,
          69.02777999084662,
          69.02777999084662,
          69.02777999084662,
          69.25675864289232,
          69.25675864289232,
          69.25675864289232,
          69.25675864289232,
          69.25675864289232,
          69.25675864289232,
          69.25675864289232,
          69.25675864289232,
          69.25675864289232,
          69.25675864289232,
          69.25675864289232,
          69.25675864289232,
          69.25675864289232,
          69.25675864289232,
          69.25675864289232,
          69.25675864289232,
          69.25675864289232,
          69.25675864289232,
          69.25675864289232,
          69.25675864289232,
          69.25675864289232,
          69.25675864289232,
          69.25675864289232,
          69.25675864289232,
          69.485737294938,
          69.485737294938,
          69.485737294938,
          69.485737294938,
          69.485737294938,
          69.485737294938,
          69.485737294938,
          69.485737294938,
          69.485737294938,
          69.485737294938,
          69.485737294938,
          69.485737294938,
          69.485737294938,
          69.485737294938,
          69.485737294938,
          69.485737294938,
          69.485737294938,
          69.7147159469837,
          69.7147159469837,
          69.7147159469837,
          69.7147159469837,
          69.7147159469837,
          69.7147159469837,
          69.7147159469837,
          69.7147159469837,
          69.7147159469837,
          69.7147159469837,
          69.7147159469837,
          69.7147159469837,
          69.7147159469837,
          69.7147159469837,
          69.7147159469837,
          69.7147159469837,
          69.7147159469837,
          69.7147159469837,
          69.7147159469837,
          69.7147159469837,
          69.7147159469837,
          69.7147159469837,
          69.7147159469837,
          69.7147159469837,
          69.7147159469837,
          69.7147159469837,
          69.7147159469837,
          69.7147159469837,
          69.7147159469837,
          69.7147159469837,
          69.7147159469837,
          69.94369459902939,
          69.94369459902939,
          69.94369459902939,
          69.94369459902939,
          69.94369459902939,
          69.94369459902939,
          69.94369459902939,
          69.94369459902939,
          69.94369459902939,
          69.94369459902939,
          69.94369459902939,
          69.94369459902939,
          69.94369459902939,
          69.94369459902939,
          69.94369459902939,
          69.94369459902939,
          69.94369459902939,
          69.94369459902939,
          69.94369459902939,
          69.94369459902939,
          69.94369459902939,
          69.94369459902939,
          69.94369459902939,
          69.94369459902939,
          69.94369459902939,
          69.94369459902939,
          69.94369459902939,
          69.94369459902939,
          70.17267325107508,
          70.17267325107508,
          70.17267325107508,
          70.17267325107508,
          70.17267325107508,
          70.17267325107508,
          70.17267325107508,
          70.17267325107508,
          70.17267325107508,
          70.17267325107508,
          70.17267325107508,
          70.17267325107508,
          70.17267325107508,
          70.17267325107508,
          70.17267325107508,
          70.17267325107508,
          70.17267325107508,
          70.17267325107508,
          70.17267325107508,
          70.17267325107508,
          70.17267325107508,
          70.17267325107508,
          70.17267325107508,
          70.17267325107508,
          70.17267325107508,
          70.17267325107508,
          70.17267325107508,
          70.17267325107508,
          70.17267325107508,
          70.17267325107508,
          70.17267325107508,
          70.17267325107508,
          70.17267325107508,
          70.17267325107508,
          70.17267325107508,
          70.40165190312078,
          70.40165190312078,
          70.40165190312078,
          70.40165190312078,
          70.40165190312078,
          70.40165190312078,
          70.40165190312078,
          70.40165190312078,
          70.40165190312078,
          70.40165190312078,
          70.40165190312078,
          70.40165190312078,
          70.40165190312078,
          70.40165190312078,
          70.40165190312078,
          70.40165190312078,
          70.40165190312078,
          70.40165190312078,
          70.40165190312078,
          70.40165190312078,
          70.63063055516646,
          70.63063055516646,
          70.63063055516646,
          70.63063055516646,
          70.63063055516646,
          70.63063055516646,
          70.63063055516646,
          70.63063055516646,
          70.63063055516646,
          70.63063055516646,
          70.63063055516646,
          70.63063055516646,
          70.63063055516646,
          70.63063055516646,
          70.63063055516646,
          70.63063055516646,
          70.63063055516646,
          70.63063055516646,
          70.63063055516646,
          70.63063055516646,
          70.63063055516646,
          70.63063055516646,
          70.63063055516646,
          70.63063055516646,
          70.63063055516646,
          70.63063055516646,
          70.63063055516646,
          70.63063055516646,
          70.85960920721216,
          70.85960920721216,
          70.85960920721216,
          70.85960920721216,
          70.85960920721216,
          70.85960920721216,
          70.85960920721216,
          70.85960920721216,
          70.85960920721216,
          70.85960920721216,
          70.85960920721216,
          70.85960920721216,
          70.85960920721216,
          70.85960920721216,
          70.85960920721216,
          70.85960920721216,
          70.85960920721216,
          70.85960920721216,
          70.85960920721216,
          70.85960920721216,
          70.85960920721216,
          70.85960920721216,
          70.85960920721216,
          70.85960920721216,
          70.85960920721216,
          70.85960920721216,
          70.85960920721216,
          70.85960920721216,
          70.85960920721216,
          70.85960920721216,
          70.85960920721216,
          70.85960920721216,
          70.85960920721216,
          71.08858785925784,
          71.08858785925784,
          71.08858785925784,
          71.08858785925784,
          71.08858785925784,
          71.08858785925784,
          71.08858785925784,
          71.08858785925784,
          71.08858785925784,
          71.08858785925784,
          71.08858785925784,
          71.08858785925784,
          71.08858785925784,
          71.08858785925784,
          71.08858785925784,
          71.08858785925784,
          71.08858785925784,
          71.08858785925784,
          71.08858785925784,
          71.08858785925784,
          71.08858785925784,
          71.08858785925784,
          71.08858785925784,
          71.08858785925784,
          71.08858785925784,
          71.08858785925784,
          71.08858785925784,
          71.08858785925784,
          71.08858785925784,
          71.08858785925784,
          71.08858785925784,
          71.08858785925784,
          71.08858785925784,
          71.08858785925784,
          71.08858785925784,
          71.08858785925784,
          71.08858785925784,
          71.08858785925784,
          71.08858785925784,
          71.08858785925784,
          71.08858785925784,
          71.08858785925784,
          71.08858785925784,
          71.08858785925784,
          71.31756651130354,
          71.31756651130354,
          71.31756651130354,
          71.31756651130354,
          71.31756651130354,
          71.31756651130354,
          71.31756651130354,
          71.31756651130354,
          71.31756651130354,
          71.31756651130354,
          71.31756651130354,
          71.31756651130354,
          71.31756651130354,
          71.31756651130354,
          71.31756651130354,
          71.31756651130354,
          71.31756651130354,
          71.31756651130354,
          71.54654516334924,
          71.54654516334924,
          71.54654516334924,
          71.54654516334924,
          71.54654516334924,
          71.54654516334924,
          71.54654516334924,
          71.54654516334924,
          71.54654516334924,
          71.54654516334924,
          71.54654516334924,
          71.54654516334924,
          71.54654516334924,
          71.54654516334924,
          71.54654516334924,
          71.54654516334924,
          71.54654516334924,
          71.54654516334924,
          71.54654516334924,
          71.54654516334924,
          71.54654516334924,
          71.54654516334924,
          71.54654516334924,
          71.77552381539492,
          71.77552381539492,
          71.77552381539492,
          71.77552381539492,
          71.77552381539492,
          71.77552381539492,
          71.77552381539492,
          71.77552381539492,
          71.77552381539492,
          71.77552381539492,
          71.77552381539492,
          71.77552381539492,
          71.77552381539492,
          71.77552381539492,
          71.77552381539492,
          71.77552381539492,
          71.77552381539492,
          71.77552381539492,
          71.77552381539492,
          71.77552381539492,
          71.77552381539492,
          71.77552381539492,
          71.77552381539492,
          71.77552381539492,
          71.77552381539492,
          71.77552381539492,
          72.00450246744062,
          72.00450246744062,
          72.00450246744062,
          72.00450246744062,
          72.00450246744062,
          72.00450246744062,
          72.00450246744062,
          72.00450246744062,
          72.00450246744062,
          72.00450246744062,
          72.00450246744062,
          72.00450246744062,
          72.00450246744062,
          72.00450246744062,
          72.00450246744062,
          72.00450246744062,
          72.00450246744062,
          72.00450246744062,
          72.00450246744062,
          72.00450246744062,
          72.00450246744062,
          72.00450246744062,
          72.00450246744062,
          72.00450246744062,
          72.00450246744062,
          72.23348111948631,
          72.23348111948631,
          72.23348111948631,
          72.23348111948631,
          72.23348111948631,
          72.23348111948631,
          72.23348111948631,
          72.23348111948631,
          72.23348111948631,
          72.23348111948631,
          72.23348111948631,
          72.23348111948631,
          72.23348111948631,
          72.23348111948631,
          72.23348111948631,
          72.23348111948631,
          72.23348111948631,
          72.23348111948631,
          72.462459771532,
          72.462459771532,
          72.462459771532,
          72.462459771532,
          72.462459771532,
          72.462459771532,
          72.462459771532,
          72.462459771532,
          72.462459771532,
          72.462459771532,
          72.462459771532,
          72.462459771532,
          72.462459771532,
          72.462459771532,
          72.462459771532,
          72.462459771532,
          72.462459771532,
          72.462459771532,
          72.462459771532,
          72.462459771532,
          72.462459771532,
          72.462459771532,
          72.462459771532,
          72.462459771532,
          72.462459771532,
          72.462459771532,
          72.462459771532,
          72.462459771532,
          72.6914384235777,
          72.6914384235777,
          72.6914384235777,
          72.6914384235777,
          72.6914384235777,
          72.6914384235777,
          72.6914384235777,
          72.6914384235777,
          72.6914384235777,
          72.6914384235777,
          72.6914384235777,
          72.6914384235777,
          72.6914384235777,
          72.6914384235777,
          72.6914384235777,
          72.6914384235777,
          72.6914384235777,
          72.6914384235777,
          72.92041707562338,
          72.92041707562338,
          72.92041707562338,
          72.92041707562338,
          72.92041707562338,
          72.92041707562338,
          72.92041707562338,
          72.92041707562338,
          72.92041707562338,
          72.92041707562338,
          72.92041707562338,
          72.92041707562338,
          72.92041707562338,
          73.14939572766907,
          73.14939572766907,
          73.14939572766907,
          73.14939572766907,
          73.14939572766907,
          73.14939572766907,
          73.14939572766907,
          73.14939572766907,
          73.14939572766907,
          73.14939572766907,
          73.14939572766907,
          73.14939572766907,
          73.14939572766907,
          73.14939572766907,
          73.14939572766907,
          73.14939572766907,
          73.14939572766907,
          73.37837437971477,
          73.37837437971477,
          73.37837437971477,
          73.37837437971477,
          73.37837437971477,
          73.37837437971477,
          73.37837437971477,
          73.37837437971477,
          73.37837437971477,
          73.37837437971477,
          73.37837437971477,
          73.37837437971477,
          73.37837437971477,
          73.37837437971477,
          73.60735303176045,
          73.60735303176045,
          73.60735303176045,
          73.60735303176045,
          73.60735303176045,
          73.60735303176045,
          73.60735303176045,
          73.60735303176045,
          73.60735303176045,
          73.60735303176045,
          73.60735303176045,
          73.60735303176045,
          73.60735303176045,
          73.83633168380615,
          73.83633168380615,
          73.83633168380615,
          73.83633168380615,
          73.83633168380615,
          73.83633168380615,
          73.83633168380615,
          74.06531033585185,
          74.06531033585185,
          74.06531033585185,
          74.06531033585185,
          74.06531033585185,
          74.06531033585185,
          74.06531033585185,
          74.06531033585185,
          74.06531033585185,
          74.06531033585185,
          74.06531033585185,
          74.06531033585185,
          74.06531033585185,
          74.06531033585185,
          74.06531033585185,
          74.06531033585185,
          74.06531033585185,
          74.06531033585185,
          74.06531033585185,
          74.06531033585185,
          74.29428898789753,
          74.29428898789753,
          74.29428898789753,
          74.29428898789753,
          74.29428898789753,
          74.29428898789753,
          74.29428898789753,
          74.29428898789753,
          74.29428898789753,
          74.29428898789753,
          74.29428898789753,
          74.29428898789753,
          74.29428898789753,
          74.29428898789753,
          74.29428898789753,
          74.29428898789753,
          74.29428898789753,
          74.52326763994323,
          74.52326763994323,
          74.52326763994323,
          74.52326763994323,
          74.52326763994323,
          74.52326763994323,
          74.52326763994323,
          74.52326763994323,
          74.52326763994323,
          74.52326763994323,
          74.52326763994323,
          74.52326763994323,
          74.52326763994323,
          74.52326763994323,
          74.75224629198891,
          74.75224629198891,
          74.75224629198891,
          74.75224629198891,
          74.75224629198891,
          74.75224629198891,
          74.75224629198891,
          74.75224629198891,
          74.75224629198891,
          74.98122494403461,
          74.98122494403461,
          74.98122494403461,
          74.98122494403461,
          74.98122494403461,
          74.98122494403461,
          74.98122494403461,
          74.98122494403461,
          74.98122494403461,
          74.98122494403461,
          74.98122494403461,
          74.98122494403461,
          74.98122494403461,
          74.98122494403461,
          74.98122494403461,
          74.98122494403461,
          74.98122494403461,
          74.98122494403461,
          74.98122494403461,
          75.2102035960803,
          75.2102035960803,
          75.2102035960803,
          75.2102035960803,
          75.2102035960803,
          75.2102035960803,
          75.2102035960803,
          75.2102035960803,
          75.2102035960803,
          75.2102035960803,
          75.2102035960803,
          75.2102035960803,
          75.2102035960803,
          75.2102035960803,
          75.2102035960803,
          75.2102035960803,
          75.2102035960803,
          75.2102035960803,
          75.439182248126,
          75.439182248126,
          75.439182248126,
          75.439182248126,
          75.439182248126,
          75.439182248126,
          75.439182248126,
          75.439182248126,
          75.439182248126,
          75.439182248126,
          75.439182248126,
          75.439182248126,
          75.66816090017169,
          75.66816090017169,
          75.66816090017169,
          75.66816090017169,
          75.66816090017169,
          75.66816090017169,
          75.66816090017169,
          75.66816090017169,
          75.66816090017169,
          75.66816090017169,
          75.66816090017169,
          75.66816090017169,
          75.89713955221737,
          75.89713955221737,
          75.89713955221737,
          75.89713955221737,
          75.89713955221737,
          75.89713955221737,
          75.89713955221737,
          75.89713955221737,
          75.89713955221737,
          75.89713955221737,
          75.89713955221737,
          76.12611820426307,
          76.12611820426307,
          76.12611820426307,
          76.12611820426307,
          76.12611820426307,
          76.12611820426307,
          76.12611820426307,
          76.12611820426307,
          76.12611820426307,
          76.12611820426307,
          76.12611820426307,
          76.35509685630876,
          76.35509685630876,
          76.35509685630876,
          76.35509685630876,
          76.35509685630876,
          76.35509685630876,
          76.35509685630876,
          76.35509685630876,
          76.35509685630876,
          76.35509685630876,
          76.35509685630876,
          76.35509685630876,
          76.35509685630876,
          76.58407550835446,
          76.58407550835446,
          76.58407550835446,
          76.58407550835446,
          76.58407550835446,
          76.58407550835446,
          76.58407550835446,
          76.58407550835446,
          76.58407550835446,
          76.81305416040014,
          76.81305416040014,
          76.81305416040014,
          76.81305416040014,
          76.81305416040014,
          76.81305416040014,
          76.81305416040014,
          76.81305416040014,
          76.81305416040014,
          76.81305416040014,
          76.81305416040014,
          76.81305416040014,
          76.81305416040014,
          77.04203281244583,
          77.04203281244583,
          77.04203281244583,
          77.04203281244583,
          77.04203281244583,
          77.04203281244583,
          77.04203281244583,
          77.04203281244583,
          77.04203281244583,
          77.04203281244583,
          77.04203281244583,
          77.04203281244583,
          77.04203281244583,
          77.04203281244583,
          77.04203281244583,
          77.04203281244583,
          77.04203281244583,
          77.04203281244583,
          77.27101146449152,
          77.27101146449152,
          77.27101146449152,
          77.27101146449152,
          77.27101146449152,
          77.27101146449152,
          77.27101146449152,
          77.27101146449152,
          77.27101146449152,
          77.49999011653722,
          77.49999011653722,
          77.49999011653722,
          77.49999011653722,
          77.49999011653722,
          77.49999011653722,
          77.49999011653722,
          77.49999011653722,
          77.49999011653722,
          77.49999011653722,
          77.49999011653722,
          77.49999011653722,
          77.49999011653722,
          77.49999011653722,
          77.49999011653722,
          77.49999011653722,
          77.49999011653722,
          77.49999011653722,
          77.72896876858292,
          77.72896876858292,
          77.72896876858292,
          77.72896876858292,
          77.72896876858292,
          77.72896876858292,
          77.72896876858292,
          77.72896876858292,
          77.72896876858292,
          77.72896876858292,
          77.72896876858292,
          77.72896876858292,
          77.72896876858292,
          77.72896876858292,
          77.72896876858292,
          77.72896876858292,
          77.72896876858292,
          77.72896876858292,
          77.72896876858292,
          77.72896876858292,
          77.72896876858292,
          77.72896876858292,
          77.9579474206286,
          77.9579474206286,
          77.9579474206286,
          77.9579474206286,
          77.9579474206286,
          77.9579474206286,
          77.9579474206286,
          77.9579474206286,
          77.9579474206286,
          77.9579474206286,
          77.9579474206286,
          77.9579474206286,
          77.9579474206286,
          77.9579474206286,
          77.9579474206286,
          77.9579474206286,
          77.9579474206286,
          78.18692607267428,
          78.18692607267428,
          78.18692607267428,
          78.18692607267428,
          78.18692607267428,
          78.18692607267428,
          78.18692607267428,
          78.18692607267428,
          78.18692607267428,
          78.18692607267428,
          78.18692607267428,
          78.41590472471998,
          78.41590472471998,
          78.41590472471998,
          78.41590472471998,
          78.41590472471998,
          78.41590472471998,
          78.41590472471998,
          78.41590472471998,
          78.41590472471998,
          78.41590472471998,
          78.41590472471998,
          78.41590472471998,
          78.41590472471998,
          78.41590472471998,
          78.64488337676568,
          78.64488337676568,
          78.64488337676568,
          78.64488337676568,
          78.64488337676568,
          78.64488337676568,
          78.64488337676568,
          78.64488337676568,
          78.64488337676568,
          78.64488337676568,
          78.64488337676568,
          78.64488337676568,
          78.87386202881137,
          78.87386202881137,
          78.87386202881137,
          78.87386202881137,
          78.87386202881137,
          78.87386202881137,
          78.87386202881137,
          78.87386202881137,
          78.87386202881137,
          78.87386202881137,
          78.87386202881137,
          78.87386202881137,
          78.87386202881137,
          78.87386202881137,
          78.87386202881137,
          78.87386202881137,
          78.87386202881137,
          78.87386202881137,
          79.10284068085704,
          79.10284068085704,
          79.10284068085704,
          79.10284068085704,
          79.10284068085704,
          79.10284068085704,
          79.10284068085704,
          79.10284068085704,
          79.10284068085704,
          79.10284068085704,
          79.10284068085704,
          79.10284068085704,
          79.10284068085704,
          79.10284068085704,
          79.33181933290274,
          79.33181933290274,
          79.33181933290274,
          79.33181933290274,
          79.33181933290274,
          79.33181933290274,
          79.33181933290274,
          79.33181933290274,
          79.33181933290274,
          79.56079798494844,
          79.56079798494844,
          79.56079798494844,
          79.56079798494844,
          79.78977663699413,
          79.78977663699413,
          79.78977663699413,
          79.78977663699413,
          80.01875528903983,
          80.01875528903983,
          80.01875528903983,
          80.01875528903983,
          80.01875528903983,
          80.24773394108551,
          80.24773394108551,
          80.24773394108551,
          80.4767125931312,
          80.7056912451769,
          80.7056912451769,
          80.93466989722259,
          80.93466989722259,
          80.93466989722259,
          80.93466989722259,
          81.16364854926829,
          81.16364854926829,
          81.62160585335965,
          81.85058450540535,
          82.76649911358811,
          82.99547776563381,
          82.99547776563381,
          82.99547776563381,
          83.2244564176795,
          83.2244564176795,
          83.91139237381658,
          83.91139237381658,
          84.14037102586227,
          84.14037102586227,
          84.14037102586227,
          84.59832832995366,
          84.59832832995366,
          85.05628563404504,
          85.28526428609072,
          85.28526428609072,
          86.2011788942735,
          86.88811485041057,
          87.57505080654765,
          87.57505080654765,
          88.03300811063903,
          88.03300811063903,
          88.03300811063903,
          88.26198676268471,
          88.49096541473041,
          88.71994406677611,
          88.94892271882179
         ],
         "yaxis": "y"
        }
       ],
       "layout": {
        "height": 600,
        "legend": {
         "tracegroupgap": 0
        },
        "template": {
         "data": {
          "bar": [
           {
            "error_x": {
             "color": "#2a3f5f"
            },
            "error_y": {
             "color": "#2a3f5f"
            },
            "marker": {
             "line": {
              "color": "#E5ECF6",
              "width": 0.5
             },
             "pattern": {
              "fillmode": "overlay",
              "size": 10,
              "solidity": 0.2
             }
            },
            "type": "bar"
           }
          ],
          "barpolar": [
           {
            "marker": {
             "line": {
              "color": "#E5ECF6",
              "width": 0.5
             },
             "pattern": {
              "fillmode": "overlay",
              "size": 10,
              "solidity": 0.2
             }
            },
            "type": "barpolar"
           }
          ],
          "carpet": [
           {
            "aaxis": {
             "endlinecolor": "#2a3f5f",
             "gridcolor": "white",
             "linecolor": "white",
             "minorgridcolor": "white",
             "startlinecolor": "#2a3f5f"
            },
            "baxis": {
             "endlinecolor": "#2a3f5f",
             "gridcolor": "white",
             "linecolor": "white",
             "minorgridcolor": "white",
             "startlinecolor": "#2a3f5f"
            },
            "type": "carpet"
           }
          ],
          "choropleth": [
           {
            "colorbar": {
             "outlinewidth": 0,
             "ticks": ""
            },
            "type": "choropleth"
           }
          ],
          "contour": [
           {
            "colorbar": {
             "outlinewidth": 0,
             "ticks": ""
            },
            "colorscale": [
             [
              0,
              "#0d0887"
             ],
             [
              0.1111111111111111,
              "#46039f"
             ],
             [
              0.2222222222222222,
              "#7201a8"
             ],
             [
              0.3333333333333333,
              "#9c179e"
             ],
             [
              0.4444444444444444,
              "#bd3786"
             ],
             [
              0.5555555555555556,
              "#d8576b"
             ],
             [
              0.6666666666666666,
              "#ed7953"
             ],
             [
              0.7777777777777778,
              "#fb9f3a"
             ],
             [
              0.8888888888888888,
              "#fdca26"
             ],
             [
              1,
              "#f0f921"
             ]
            ],
            "type": "contour"
           }
          ],
          "contourcarpet": [
           {
            "colorbar": {
             "outlinewidth": 0,
             "ticks": ""
            },
            "type": "contourcarpet"
           }
          ],
          "heatmap": [
           {
            "colorbar": {
             "outlinewidth": 0,
             "ticks": ""
            },
            "colorscale": [
             [
              0,
              "#0d0887"
             ],
             [
              0.1111111111111111,
              "#46039f"
             ],
             [
              0.2222222222222222,
              "#7201a8"
             ],
             [
              0.3333333333333333,
              "#9c179e"
             ],
             [
              0.4444444444444444,
              "#bd3786"
             ],
             [
              0.5555555555555556,
              "#d8576b"
             ],
             [
              0.6666666666666666,
              "#ed7953"
             ],
             [
              0.7777777777777778,
              "#fb9f3a"
             ],
             [
              0.8888888888888888,
              "#fdca26"
             ],
             [
              1,
              "#f0f921"
             ]
            ],
            "type": "heatmap"
           }
          ],
          "heatmapgl": [
           {
            "colorbar": {
             "outlinewidth": 0,
             "ticks": ""
            },
            "colorscale": [
             [
              0,
              "#0d0887"
             ],
             [
              0.1111111111111111,
              "#46039f"
             ],
             [
              0.2222222222222222,
              "#7201a8"
             ],
             [
              0.3333333333333333,
              "#9c179e"
             ],
             [
              0.4444444444444444,
              "#bd3786"
             ],
             [
              0.5555555555555556,
              "#d8576b"
             ],
             [
              0.6666666666666666,
              "#ed7953"
             ],
             [
              0.7777777777777778,
              "#fb9f3a"
             ],
             [
              0.8888888888888888,
              "#fdca26"
             ],
             [
              1,
              "#f0f921"
             ]
            ],
            "type": "heatmapgl"
           }
          ],
          "histogram": [
           {
            "marker": {
             "pattern": {
              "fillmode": "overlay",
              "size": 10,
              "solidity": 0.2
             }
            },
            "type": "histogram"
           }
          ],
          "histogram2d": [
           {
            "colorbar": {
             "outlinewidth": 0,
             "ticks": ""
            },
            "colorscale": [
             [
              0,
              "#0d0887"
             ],
             [
              0.1111111111111111,
              "#46039f"
             ],
             [
              0.2222222222222222,
              "#7201a8"
             ],
             [
              0.3333333333333333,
              "#9c179e"
             ],
             [
              0.4444444444444444,
              "#bd3786"
             ],
             [
              0.5555555555555556,
              "#d8576b"
             ],
             [
              0.6666666666666666,
              "#ed7953"
             ],
             [
              0.7777777777777778,
              "#fb9f3a"
             ],
             [
              0.8888888888888888,
              "#fdca26"
             ],
             [
              1,
              "#f0f921"
             ]
            ],
            "type": "histogram2d"
           }
          ],
          "histogram2dcontour": [
           {
            "colorbar": {
             "outlinewidth": 0,
             "ticks": ""
            },
            "colorscale": [
             [
              0,
              "#0d0887"
             ],
             [
              0.1111111111111111,
              "#46039f"
             ],
             [
              0.2222222222222222,
              "#7201a8"
             ],
             [
              0.3333333333333333,
              "#9c179e"
             ],
             [
              0.4444444444444444,
              "#bd3786"
             ],
             [
              0.5555555555555556,
              "#d8576b"
             ],
             [
              0.6666666666666666,
              "#ed7953"
             ],
             [
              0.7777777777777778,
              "#fb9f3a"
             ],
             [
              0.8888888888888888,
              "#fdca26"
             ],
             [
              1,
              "#f0f921"
             ]
            ],
            "type": "histogram2dcontour"
           }
          ],
          "mesh3d": [
           {
            "colorbar": {
             "outlinewidth": 0,
             "ticks": ""
            },
            "type": "mesh3d"
           }
          ],
          "parcoords": [
           {
            "line": {
             "colorbar": {
              "outlinewidth": 0,
              "ticks": ""
             }
            },
            "type": "parcoords"
           }
          ],
          "pie": [
           {
            "automargin": true,
            "type": "pie"
           }
          ],
          "scatter": [
           {
            "fillpattern": {
             "fillmode": "overlay",
             "size": 10,
             "solidity": 0.2
            },
            "type": "scatter"
           }
          ],
          "scatter3d": [
           {
            "line": {
             "colorbar": {
              "outlinewidth": 0,
              "ticks": ""
             }
            },
            "marker": {
             "colorbar": {
              "outlinewidth": 0,
              "ticks": ""
             }
            },
            "type": "scatter3d"
           }
          ],
          "scattercarpet": [
           {
            "marker": {
             "colorbar": {
              "outlinewidth": 0,
              "ticks": ""
             }
            },
            "type": "scattercarpet"
           }
          ],
          "scattergeo": [
           {
            "marker": {
             "colorbar": {
              "outlinewidth": 0,
              "ticks": ""
             }
            },
            "type": "scattergeo"
           }
          ],
          "scattergl": [
           {
            "marker": {
             "colorbar": {
              "outlinewidth": 0,
              "ticks": ""
             }
            },
            "type": "scattergl"
           }
          ],
          "scattermapbox": [
           {
            "marker": {
             "colorbar": {
              "outlinewidth": 0,
              "ticks": ""
             }
            },
            "type": "scattermapbox"
           }
          ],
          "scatterpolar": [
           {
            "marker": {
             "colorbar": {
              "outlinewidth": 0,
              "ticks": ""
             }
            },
            "type": "scatterpolar"
           }
          ],
          "scatterpolargl": [
           {
            "marker": {
             "colorbar": {
              "outlinewidth": 0,
              "ticks": ""
             }
            },
            "type": "scatterpolargl"
           }
          ],
          "scatterternary": [
           {
            "marker": {
             "colorbar": {
              "outlinewidth": 0,
              "ticks": ""
             }
            },
            "type": "scatterternary"
           }
          ],
          "surface": [
           {
            "colorbar": {
             "outlinewidth": 0,
             "ticks": ""
            },
            "colorscale": [
             [
              0,
              "#0d0887"
             ],
             [
              0.1111111111111111,
              "#46039f"
             ],
             [
              0.2222222222222222,
              "#7201a8"
             ],
             [
              0.3333333333333333,
              "#9c179e"
             ],
             [
              0.4444444444444444,
              "#bd3786"
             ],
             [
              0.5555555555555556,
              "#d8576b"
             ],
             [
              0.6666666666666666,
              "#ed7953"
             ],
             [
              0.7777777777777778,
              "#fb9f3a"
             ],
             [
              0.8888888888888888,
              "#fdca26"
             ],
             [
              1,
              "#f0f921"
             ]
            ],
            "type": "surface"
           }
          ],
          "table": [
           {
            "cells": {
             "fill": {
              "color": "#EBF0F8"
             },
             "line": {
              "color": "white"
             }
            },
            "header": {
             "fill": {
              "color": "#C8D4E3"
             },
             "line": {
              "color": "white"
             }
            },
            "type": "table"
           }
          ]
         },
         "layout": {
          "annotationdefaults": {
           "arrowcolor": "#2a3f5f",
           "arrowhead": 0,
           "arrowwidth": 1
          },
          "autotypenumbers": "strict",
          "coloraxis": {
           "colorbar": {
            "outlinewidth": 0,
            "ticks": ""
           }
          },
          "colorscale": {
           "diverging": [
            [
             0,
             "#8e0152"
            ],
            [
             0.1,
             "#c51b7d"
            ],
            [
             0.2,
             "#de77ae"
            ],
            [
             0.3,
             "#f1b6da"
            ],
            [
             0.4,
             "#fde0ef"
            ],
            [
             0.5,
             "#f7f7f7"
            ],
            [
             0.6,
             "#e6f5d0"
            ],
            [
             0.7,
             "#b8e186"
            ],
            [
             0.8,
             "#7fbc41"
            ],
            [
             0.9,
             "#4d9221"
            ],
            [
             1,
             "#276419"
            ]
           ],
           "sequential": [
            [
             0,
             "#0d0887"
            ],
            [
             0.1111111111111111,
             "#46039f"
            ],
            [
             0.2222222222222222,
             "#7201a8"
            ],
            [
             0.3333333333333333,
             "#9c179e"
            ],
            [
             0.4444444444444444,
             "#bd3786"
            ],
            [
             0.5555555555555556,
             "#d8576b"
            ],
            [
             0.6666666666666666,
             "#ed7953"
            ],
            [
             0.7777777777777778,
             "#fb9f3a"
            ],
            [
             0.8888888888888888,
             "#fdca26"
            ],
            [
             1,
             "#f0f921"
            ]
           ],
           "sequentialminus": [
            [
             0,
             "#0d0887"
            ],
            [
             0.1111111111111111,
             "#46039f"
            ],
            [
             0.2222222222222222,
             "#7201a8"
            ],
            [
             0.3333333333333333,
             "#9c179e"
            ],
            [
             0.4444444444444444,
             "#bd3786"
            ],
            [
             0.5555555555555556,
             "#d8576b"
            ],
            [
             0.6666666666666666,
             "#ed7953"
            ],
            [
             0.7777777777777778,
             "#fb9f3a"
            ],
            [
             0.8888888888888888,
             "#fdca26"
            ],
            [
             1,
             "#f0f921"
            ]
           ]
          },
          "colorway": [
           "#636efa",
           "#EF553B",
           "#00cc96",
           "#ab63fa",
           "#FFA15A",
           "#19d3f3",
           "#FF6692",
           "#B6E880",
           "#FF97FF",
           "#FECB52"
          ],
          "font": {
           "color": "#2a3f5f"
          },
          "geo": {
           "bgcolor": "white",
           "lakecolor": "white",
           "landcolor": "#E5ECF6",
           "showlakes": true,
           "showland": true,
           "subunitcolor": "white"
          },
          "hoverlabel": {
           "align": "left"
          },
          "hovermode": "closest",
          "mapbox": {
           "style": "light"
          },
          "paper_bgcolor": "white",
          "plot_bgcolor": "#E5ECF6",
          "polar": {
           "angularaxis": {
            "gridcolor": "white",
            "linecolor": "white",
            "ticks": ""
           },
           "bgcolor": "#E5ECF6",
           "radialaxis": {
            "gridcolor": "white",
            "linecolor": "white",
            "ticks": ""
           }
          },
          "scene": {
           "xaxis": {
            "backgroundcolor": "#E5ECF6",
            "gridcolor": "white",
            "gridwidth": 2,
            "linecolor": "white",
            "showbackground": true,
            "ticks": "",
            "zerolinecolor": "white"
           },
           "yaxis": {
            "backgroundcolor": "#E5ECF6",
            "gridcolor": "white",
            "gridwidth": 2,
            "linecolor": "white",
            "showbackground": true,
            "ticks": "",
            "zerolinecolor": "white"
           },
           "zaxis": {
            "backgroundcolor": "#E5ECF6",
            "gridcolor": "white",
            "gridwidth": 2,
            "linecolor": "white",
            "showbackground": true,
            "ticks": "",
            "zerolinecolor": "white"
           }
          },
          "shapedefaults": {
           "line": {
            "color": "#2a3f5f"
           }
          },
          "ternary": {
           "aaxis": {
            "gridcolor": "white",
            "linecolor": "white",
            "ticks": ""
           },
           "baxis": {
            "gridcolor": "white",
            "linecolor": "white",
            "ticks": ""
           },
           "bgcolor": "#E5ECF6",
           "caxis": {
            "gridcolor": "white",
            "linecolor": "white",
            "ticks": ""
           }
          },
          "title": {
           "x": 0.05
          },
          "xaxis": {
           "automargin": true,
           "gridcolor": "white",
           "linecolor": "white",
           "ticks": "",
           "title": {
            "standoff": 15
           },
           "zerolinecolor": "white",
           "zerolinewidth": 2
          },
          "yaxis": {
           "automargin": true,
           "gridcolor": "white",
           "linecolor": "white",
           "ticks": "",
           "title": {
            "standoff": 15
           },
           "zerolinecolor": "white",
           "zerolinewidth": 2
          }
         }
        },
        "title": {
         "text": "Scatter Plot of Schooling vs Life Expectancy"
        },
        "width": 800,
        "xaxis": {
         "anchor": "y",
         "domain": [
          0,
          1
         ],
         "title": {
          "text": "Years of Schooling"
         }
        },
        "yaxis": {
         "anchor": "x",
         "domain": [
          0,
          1
         ],
         "title": {
          "text": "Life Expectancy"
         }
        }
       }
      }
     },
     "metadata": {},
     "output_type": "display_data"
    }
   ],
   "source": [
    "fig = px.scatter(df, x='Schooling', y='Life expectancy ', trendline=\"ols\",title='Scatter Plot of Schooling vs Life Expectancy',labels={'Schooling': 'Years of Schooling', 'Life expectancy ': 'Life Expectancy'})\n",
    "\n",
    "fig.update_layout(\n",
    "    xaxis_title='Years of Schooling',\n",
    "    yaxis_title='Life Expectancy',\n",
    "    width=800,\n",
    "    height=600,\n",
    ")\n",
    "fig.show()"
   ]
  },
  {
   "cell_type": "markdown",
   "metadata": {},
   "source": [
    "#### 6. Correlation between income ressources and life expectancy by continent in 2014"
   ]
  },
  {
   "cell_type": "code",
   "execution_count": 110,
   "metadata": {},
   "outputs": [],
   "source": [
    "df_2014 = df[df['Year'] == 2014]"
   ]
  },
  {
   "cell_type": "code",
   "execution_count": 111,
   "metadata": {},
   "outputs": [
    {
     "data": {
      "application/vnd.plotly.v1+json": {
       "config": {
        "plotlyServerURL": "https://plot.ly"
       },
       "data": [
        {
         "hovertemplate": "<b>%{hovertext}</b><br><br>Continent=Asia<br>Income Composition of Resources=%{x}<br>Life expectancy =%{y}<extra></extra>",
         "hovertext": [
          "Afghanistan",
          "Armenia",
          "Azerbaijan",
          "Bangladesh",
          "Bhutan",
          "Cambodia",
          "China",
          "Cyprus",
          "Georgia",
          "India",
          "Indonesia",
          "Iraq",
          "Israel",
          "Jordan",
          "Kazakhstan",
          "Lebanon",
          "Malaysia",
          "Maldives",
          "Mongolia",
          "Myanmar",
          "Nepal",
          "Pakistan",
          "Philippines",
          "Sri Lanka",
          "Tajikistan",
          "Thailand",
          "Turkey",
          "Turkmenistan",
          "Uzbekistan"
         ],
         "legendgroup": "Asia",
         "marker": {
          "color": "#636efa",
          "symbol": "circle"
         },
         "mode": "markers",
         "name": "Asia",
         "orientation": "v",
         "showlegend": true,
         "type": "scatter",
         "x": [
          0.476,
          0.739,
          0.752,
          0.57,
          0.596,
          0.553,
          0.723,
          0.85,
          0.759,
          0.607,
          0.682,
          0.658,
          0.895,
          0.737,
          0.789,
          0.763,
          0.783,
          0.693,
          0.729,
          0.547,
          0.551,
          0.542,
          0.676,
          0.76,
          0.622,
          0.737,
          0.759,
          0.683,
          0.69
         ],
         "xaxis": "x",
         "y": [
          59.9,
          74.6,
          72.5,
          71.4,
          69.4,
          68.3,
          75.8,
          83,
          74.5,
          68,
          68.9,
          67.9,
          82.2,
          74,
          69.9,
          74.8,
          74.8,
          78.2,
          68.4,
          66.4,
          69.6,
          66.2,
          68.4,
          74.7,
          69.6,
          74.6,
          75.5,
          66,
          69.2
         ],
         "yaxis": "y"
        },
        {
         "hovertemplate": "<b>%{hovertext}</b><br><br>Continent=Europe<br>Income Composition of Resources=%{x}<br>Life expectancy =%{y}<extra></extra>",
         "hovertext": [
          "Albania",
          "Austria",
          "Belarus",
          "Belgium",
          "Bosnia and Herzegovina",
          "Bulgaria",
          "Croatia",
          "Estonia",
          "France",
          "Germany",
          "Greece",
          "Ireland",
          "Italy",
          "Latvia",
          "Lithuania",
          "Luxembourg",
          "Malta",
          "Montenegro",
          "Netherlands",
          "Poland",
          "Portugal",
          "Romania",
          "Russian Federation",
          "Serbia",
          "Spain",
          "Sweden",
          "Ukraine"
         ],
         "legendgroup": "Europe",
         "marker": {
          "color": "#EF553B",
          "symbol": "circle"
         },
         "mode": "markers",
         "name": "Europe",
         "orientation": "v",
         "showlegend": true,
         "type": "scatter",
         "x": [
          0.761,
          0.892,
          0.796,
          0.89,
          0.742,
          0.787,
          0.82,
          0.86,
          0.89,
          0.92,
          0.862,
          0.91,
          0.877,
          0.822,
          0.841,
          0.892,
          0.847,
          0.803,
          0.923,
          0.85,
          0.837,
          0.797,
          0.803,
          0.771,
          0.877,
          0.906,
          0.746
         ],
         "xaxis": "x",
         "y": [
          77.5,
          81.4,
          72,
          89,
          77.2,
          74.3,
          77.8,
          77.3,
          82.2,
          89,
          88,
          81.2,
          82.5,
          74.4,
          73.4,
          81.7,
          81.4,
          75.9,
          81.7,
          77.3,
          89,
          74.8,
          73,
          75.4,
          82.6,
          82.3,
          78
         ],
         "yaxis": "y"
        },
        {
         "hovertemplate": "<b>%{hovertext}</b><br><br>Continent=Africa<br>Income Composition of Resources=%{x}<br>Life expectancy =%{y}<extra></extra>",
         "hovertext": [
          "Algeria",
          "Angola",
          "Benin",
          "Botswana",
          "Burkina Faso",
          "Burundi",
          "Cabo Verde",
          "Cameroon",
          "Central African Republic",
          "Chad",
          "Comoros",
          "Djibouti",
          "Equatorial Guinea",
          "Ethiopia",
          "Gabon",
          "Ghana",
          "Guinea",
          "Guinea-Bissau",
          "Kenya",
          "Lesotho",
          "Liberia",
          "Madagascar",
          "Malawi",
          "Mali",
          "Mauritania",
          "Mauritius",
          "Morocco",
          "Mozambique",
          "Namibia",
          "Niger",
          "Nigeria",
          "Rwanda",
          "Sao Tome and Principe",
          "Senegal",
          "Seychelles",
          "Sierra Leone",
          "South Africa",
          "Swaziland",
          "Togo",
          "Tunisia",
          "Uganda",
          "Zambia",
          "Zimbabwe"
         ],
         "legendgroup": "Africa",
         "marker": {
          "color": "#00cc96",
          "symbol": "circle"
         },
         "mode": "markers",
         "name": "Africa",
         "orientation": "v",
         "showlegend": true,
         "type": "scatter",
         "x": [
          0.741,
          0.527,
          0.475,
          0.697,
          0.398,
          0.404,
          0.643,
          0.507,
          0.345,
          0.39,
          0.497,
          0.467,
          0.582,
          0.435,
          0.687,
          0.576,
          0.412,
          0.419,
          0.546,
          0.491,
          0.426,
          0.509,
          0.466,
          0.43,
          0.509,
          0.769,
          0.64,
          0.409,
          0.632,
          0.345,
          0.521,
          0.488,
          0.562,
          0.483,
          0.766,
          0.426,
          0.66,
          0.541,
          0.475,
          0.722,
          0.483,
          0.57,
          0.498
         ],
         "xaxis": "x",
         "y": [
          75.4,
          51.7,
          59.7,
          65.1,
          59.3,
          59.1,
          73,
          56.7,
          58,
          52.6,
          63.2,
          63,
          57.9,
          64.2,
          65.5,
          62.1,
          58.1,
          58.4,
          62.9,
          52.1,
          58.1,
          65.1,
          57.6,
          57.8,
          63,
          74.2,
          74.1,
          56.7,
          65.9,
          61.4,
          53.6,
          65.7,
          67.3,
          66.4,
          73,
          48.1,
          62,
          58.4,
          59.7,
          75.1,
          61.5,
          61.1,
          59.2
         ],
         "yaxis": "y"
        },
        {
         "hovertemplate": "<b>%{hovertext}</b><br><br>Continent=South America<br>Income Composition of Resources=%{x}<br>Life expectancy =%{y}<extra></extra>",
         "hovertext": [
          "Argentina",
          "Brazil",
          "Chile",
          "Colombia",
          "Ecuador",
          "Guyana",
          "Paraguay",
          "Peru",
          "Suriname",
          "Uruguay"
         ],
         "legendgroup": "South America",
         "marker": {
          "color": "#ab63fa",
          "symbol": "circle"
         },
         "mode": "markers",
         "name": "South America",
         "orientation": "v",
         "showlegend": true,
         "type": "scatter",
         "x": [
          0.825,
          0.747,
          0.841,
          0.72,
          0.737,
          0.636,
          0.688,
          0.735,
          0.722,
          0.791
         ],
         "xaxis": "x",
         "y": [
          76.2,
          74.8,
          83,
          74.6,
          76,
          66,
          73.9,
          75.3,
          71.4,
          76.8
         ],
         "yaxis": "y"
        },
        {
         "hovertemplate": "<b>%{hovertext}</b><br><br>Continent=Oceania<br>Income Composition of Resources=%{x}<br>Life expectancy =%{y}<extra></extra>",
         "hovertext": [
          "Australia",
          "Fiji",
          "Kiribati",
          "Papua New Guinea",
          "Samoa",
          "Solomon Islands",
          "Tonga",
          "Vanuatu"
         ],
         "legendgroup": "Oceania",
         "marker": {
          "color": "#FFA15A",
          "symbol": "circle"
         },
         "mode": "markers",
         "name": "Oceania",
         "orientation": "v",
         "showlegend": true,
         "type": "scatter",
         "x": [
          0.936,
          0.727,
          0.597,
          0.511,
          0.701,
          0.512,
          0.716,
          0.596
         ],
         "xaxis": "x",
         "y": [
          82.7,
          69.7,
          66.1,
          62.7,
          73.8,
          68.8,
          73.3,
          71.7
         ],
         "yaxis": "y"
        },
        {
         "hovertemplate": "<b>%{hovertext}</b><br><br>Continent=North America<br>Income Composition of Resources=%{x}<br>Life expectancy =%{y}<extra></extra>",
         "hovertext": [
          "Belize",
          "Canada",
          "Costa Rica",
          "Dominican Republic",
          "El Salvador",
          "Guatemala",
          "Haiti",
          "Honduras",
          "Jamaica",
          "Mexico",
          "Nicaragua",
          "Panama",
          "Trinidad and Tobago"
         ],
         "legendgroup": "North America",
         "marker": {
          "color": "#19d3f3",
          "symbol": "circle"
         },
         "mode": "markers",
         "name": "North America",
         "orientation": "v",
         "showlegend": true,
         "type": "scatter",
         "x": [
          0.705,
          0.912,
          0.768,
          0.712,
          0.676,
          0.614,
          0.487,
          0.618,
          0.727,
          0.754,
          0.636,
          0.78,
          0.778
         ],
         "xaxis": "x",
         "y": [
          70,
          82,
          79.5,
          73.6,
          73.3,
          71.7,
          63.1,
          74.5,
          75.8,
          76.6,
          74.5,
          77.6,
          71.1
         ],
         "yaxis": "y"
        }
       ],
       "layout": {
        "height": 1000,
        "legend": {
         "title": {
          "text": "Continent"
         },
         "tracegroupgap": 0
        },
        "template": {
         "data": {
          "bar": [
           {
            "error_x": {
             "color": "#2a3f5f"
            },
            "error_y": {
             "color": "#2a3f5f"
            },
            "marker": {
             "line": {
              "color": "#E5ECF6",
              "width": 0.5
             },
             "pattern": {
              "fillmode": "overlay",
              "size": 10,
              "solidity": 0.2
             }
            },
            "type": "bar"
           }
          ],
          "barpolar": [
           {
            "marker": {
             "line": {
              "color": "#E5ECF6",
              "width": 0.5
             },
             "pattern": {
              "fillmode": "overlay",
              "size": 10,
              "solidity": 0.2
             }
            },
            "type": "barpolar"
           }
          ],
          "carpet": [
           {
            "aaxis": {
             "endlinecolor": "#2a3f5f",
             "gridcolor": "white",
             "linecolor": "white",
             "minorgridcolor": "white",
             "startlinecolor": "#2a3f5f"
            },
            "baxis": {
             "endlinecolor": "#2a3f5f",
             "gridcolor": "white",
             "linecolor": "white",
             "minorgridcolor": "white",
             "startlinecolor": "#2a3f5f"
            },
            "type": "carpet"
           }
          ],
          "choropleth": [
           {
            "colorbar": {
             "outlinewidth": 0,
             "ticks": ""
            },
            "type": "choropleth"
           }
          ],
          "contour": [
           {
            "colorbar": {
             "outlinewidth": 0,
             "ticks": ""
            },
            "colorscale": [
             [
              0,
              "#0d0887"
             ],
             [
              0.1111111111111111,
              "#46039f"
             ],
             [
              0.2222222222222222,
              "#7201a8"
             ],
             [
              0.3333333333333333,
              "#9c179e"
             ],
             [
              0.4444444444444444,
              "#bd3786"
             ],
             [
              0.5555555555555556,
              "#d8576b"
             ],
             [
              0.6666666666666666,
              "#ed7953"
             ],
             [
              0.7777777777777778,
              "#fb9f3a"
             ],
             [
              0.8888888888888888,
              "#fdca26"
             ],
             [
              1,
              "#f0f921"
             ]
            ],
            "type": "contour"
           }
          ],
          "contourcarpet": [
           {
            "colorbar": {
             "outlinewidth": 0,
             "ticks": ""
            },
            "type": "contourcarpet"
           }
          ],
          "heatmap": [
           {
            "colorbar": {
             "outlinewidth": 0,
             "ticks": ""
            },
            "colorscale": [
             [
              0,
              "#0d0887"
             ],
             [
              0.1111111111111111,
              "#46039f"
             ],
             [
              0.2222222222222222,
              "#7201a8"
             ],
             [
              0.3333333333333333,
              "#9c179e"
             ],
             [
              0.4444444444444444,
              "#bd3786"
             ],
             [
              0.5555555555555556,
              "#d8576b"
             ],
             [
              0.6666666666666666,
              "#ed7953"
             ],
             [
              0.7777777777777778,
              "#fb9f3a"
             ],
             [
              0.8888888888888888,
              "#fdca26"
             ],
             [
              1,
              "#f0f921"
             ]
            ],
            "type": "heatmap"
           }
          ],
          "heatmapgl": [
           {
            "colorbar": {
             "outlinewidth": 0,
             "ticks": ""
            },
            "colorscale": [
             [
              0,
              "#0d0887"
             ],
             [
              0.1111111111111111,
              "#46039f"
             ],
             [
              0.2222222222222222,
              "#7201a8"
             ],
             [
              0.3333333333333333,
              "#9c179e"
             ],
             [
              0.4444444444444444,
              "#bd3786"
             ],
             [
              0.5555555555555556,
              "#d8576b"
             ],
             [
              0.6666666666666666,
              "#ed7953"
             ],
             [
              0.7777777777777778,
              "#fb9f3a"
             ],
             [
              0.8888888888888888,
              "#fdca26"
             ],
             [
              1,
              "#f0f921"
             ]
            ],
            "type": "heatmapgl"
           }
          ],
          "histogram": [
           {
            "marker": {
             "pattern": {
              "fillmode": "overlay",
              "size": 10,
              "solidity": 0.2
             }
            },
            "type": "histogram"
           }
          ],
          "histogram2d": [
           {
            "colorbar": {
             "outlinewidth": 0,
             "ticks": ""
            },
            "colorscale": [
             [
              0,
              "#0d0887"
             ],
             [
              0.1111111111111111,
              "#46039f"
             ],
             [
              0.2222222222222222,
              "#7201a8"
             ],
             [
              0.3333333333333333,
              "#9c179e"
             ],
             [
              0.4444444444444444,
              "#bd3786"
             ],
             [
              0.5555555555555556,
              "#d8576b"
             ],
             [
              0.6666666666666666,
              "#ed7953"
             ],
             [
              0.7777777777777778,
              "#fb9f3a"
             ],
             [
              0.8888888888888888,
              "#fdca26"
             ],
             [
              1,
              "#f0f921"
             ]
            ],
            "type": "histogram2d"
           }
          ],
          "histogram2dcontour": [
           {
            "colorbar": {
             "outlinewidth": 0,
             "ticks": ""
            },
            "colorscale": [
             [
              0,
              "#0d0887"
             ],
             [
              0.1111111111111111,
              "#46039f"
             ],
             [
              0.2222222222222222,
              "#7201a8"
             ],
             [
              0.3333333333333333,
              "#9c179e"
             ],
             [
              0.4444444444444444,
              "#bd3786"
             ],
             [
              0.5555555555555556,
              "#d8576b"
             ],
             [
              0.6666666666666666,
              "#ed7953"
             ],
             [
              0.7777777777777778,
              "#fb9f3a"
             ],
             [
              0.8888888888888888,
              "#fdca26"
             ],
             [
              1,
              "#f0f921"
             ]
            ],
            "type": "histogram2dcontour"
           }
          ],
          "mesh3d": [
           {
            "colorbar": {
             "outlinewidth": 0,
             "ticks": ""
            },
            "type": "mesh3d"
           }
          ],
          "parcoords": [
           {
            "line": {
             "colorbar": {
              "outlinewidth": 0,
              "ticks": ""
             }
            },
            "type": "parcoords"
           }
          ],
          "pie": [
           {
            "automargin": true,
            "type": "pie"
           }
          ],
          "scatter": [
           {
            "fillpattern": {
             "fillmode": "overlay",
             "size": 10,
             "solidity": 0.2
            },
            "type": "scatter"
           }
          ],
          "scatter3d": [
           {
            "line": {
             "colorbar": {
              "outlinewidth": 0,
              "ticks": ""
             }
            },
            "marker": {
             "colorbar": {
              "outlinewidth": 0,
              "ticks": ""
             }
            },
            "type": "scatter3d"
           }
          ],
          "scattercarpet": [
           {
            "marker": {
             "colorbar": {
              "outlinewidth": 0,
              "ticks": ""
             }
            },
            "type": "scattercarpet"
           }
          ],
          "scattergeo": [
           {
            "marker": {
             "colorbar": {
              "outlinewidth": 0,
              "ticks": ""
             }
            },
            "type": "scattergeo"
           }
          ],
          "scattergl": [
           {
            "marker": {
             "colorbar": {
              "outlinewidth": 0,
              "ticks": ""
             }
            },
            "type": "scattergl"
           }
          ],
          "scattermapbox": [
           {
            "marker": {
             "colorbar": {
              "outlinewidth": 0,
              "ticks": ""
             }
            },
            "type": "scattermapbox"
           }
          ],
          "scatterpolar": [
           {
            "marker": {
             "colorbar": {
              "outlinewidth": 0,
              "ticks": ""
             }
            },
            "type": "scatterpolar"
           }
          ],
          "scatterpolargl": [
           {
            "marker": {
             "colorbar": {
              "outlinewidth": 0,
              "ticks": ""
             }
            },
            "type": "scatterpolargl"
           }
          ],
          "scatterternary": [
           {
            "marker": {
             "colorbar": {
              "outlinewidth": 0,
              "ticks": ""
             }
            },
            "type": "scatterternary"
           }
          ],
          "surface": [
           {
            "colorbar": {
             "outlinewidth": 0,
             "ticks": ""
            },
            "colorscale": [
             [
              0,
              "#0d0887"
             ],
             [
              0.1111111111111111,
              "#46039f"
             ],
             [
              0.2222222222222222,
              "#7201a8"
             ],
             [
              0.3333333333333333,
              "#9c179e"
             ],
             [
              0.4444444444444444,
              "#bd3786"
             ],
             [
              0.5555555555555556,
              "#d8576b"
             ],
             [
              0.6666666666666666,
              "#ed7953"
             ],
             [
              0.7777777777777778,
              "#fb9f3a"
             ],
             [
              0.8888888888888888,
              "#fdca26"
             ],
             [
              1,
              "#f0f921"
             ]
            ],
            "type": "surface"
           }
          ],
          "table": [
           {
            "cells": {
             "fill": {
              "color": "#EBF0F8"
             },
             "line": {
              "color": "white"
             }
            },
            "header": {
             "fill": {
              "color": "#C8D4E3"
             },
             "line": {
              "color": "white"
             }
            },
            "type": "table"
           }
          ]
         },
         "layout": {
          "annotationdefaults": {
           "arrowcolor": "#2a3f5f",
           "arrowhead": 0,
           "arrowwidth": 1
          },
          "autotypenumbers": "strict",
          "coloraxis": {
           "colorbar": {
            "outlinewidth": 0,
            "ticks": ""
           }
          },
          "colorscale": {
           "diverging": [
            [
             0,
             "#8e0152"
            ],
            [
             0.1,
             "#c51b7d"
            ],
            [
             0.2,
             "#de77ae"
            ],
            [
             0.3,
             "#f1b6da"
            ],
            [
             0.4,
             "#fde0ef"
            ],
            [
             0.5,
             "#f7f7f7"
            ],
            [
             0.6,
             "#e6f5d0"
            ],
            [
             0.7,
             "#b8e186"
            ],
            [
             0.8,
             "#7fbc41"
            ],
            [
             0.9,
             "#4d9221"
            ],
            [
             1,
             "#276419"
            ]
           ],
           "sequential": [
            [
             0,
             "#0d0887"
            ],
            [
             0.1111111111111111,
             "#46039f"
            ],
            [
             0.2222222222222222,
             "#7201a8"
            ],
            [
             0.3333333333333333,
             "#9c179e"
            ],
            [
             0.4444444444444444,
             "#bd3786"
            ],
            [
             0.5555555555555556,
             "#d8576b"
            ],
            [
             0.6666666666666666,
             "#ed7953"
            ],
            [
             0.7777777777777778,
             "#fb9f3a"
            ],
            [
             0.8888888888888888,
             "#fdca26"
            ],
            [
             1,
             "#f0f921"
            ]
           ],
           "sequentialminus": [
            [
             0,
             "#0d0887"
            ],
            [
             0.1111111111111111,
             "#46039f"
            ],
            [
             0.2222222222222222,
             "#7201a8"
            ],
            [
             0.3333333333333333,
             "#9c179e"
            ],
            [
             0.4444444444444444,
             "#bd3786"
            ],
            [
             0.5555555555555556,
             "#d8576b"
            ],
            [
             0.6666666666666666,
             "#ed7953"
            ],
            [
             0.7777777777777778,
             "#fb9f3a"
            ],
            [
             0.8888888888888888,
             "#fdca26"
            ],
            [
             1,
             "#f0f921"
            ]
           ]
          },
          "colorway": [
           "#636efa",
           "#EF553B",
           "#00cc96",
           "#ab63fa",
           "#FFA15A",
           "#19d3f3",
           "#FF6692",
           "#B6E880",
           "#FF97FF",
           "#FECB52"
          ],
          "font": {
           "color": "#2a3f5f"
          },
          "geo": {
           "bgcolor": "white",
           "lakecolor": "white",
           "landcolor": "#E5ECF6",
           "showlakes": true,
           "showland": true,
           "subunitcolor": "white"
          },
          "hoverlabel": {
           "align": "left"
          },
          "hovermode": "closest",
          "mapbox": {
           "style": "light"
          },
          "paper_bgcolor": "white",
          "plot_bgcolor": "#E5ECF6",
          "polar": {
           "angularaxis": {
            "gridcolor": "white",
            "linecolor": "white",
            "ticks": ""
           },
           "bgcolor": "#E5ECF6",
           "radialaxis": {
            "gridcolor": "white",
            "linecolor": "white",
            "ticks": ""
           }
          },
          "scene": {
           "xaxis": {
            "backgroundcolor": "#E5ECF6",
            "gridcolor": "white",
            "gridwidth": 2,
            "linecolor": "white",
            "showbackground": true,
            "ticks": "",
            "zerolinecolor": "white"
           },
           "yaxis": {
            "backgroundcolor": "#E5ECF6",
            "gridcolor": "white",
            "gridwidth": 2,
            "linecolor": "white",
            "showbackground": true,
            "ticks": "",
            "zerolinecolor": "white"
           },
           "zaxis": {
            "backgroundcolor": "#E5ECF6",
            "gridcolor": "white",
            "gridwidth": 2,
            "linecolor": "white",
            "showbackground": true,
            "ticks": "",
            "zerolinecolor": "white"
           }
          },
          "shapedefaults": {
           "line": {
            "color": "#2a3f5f"
           }
          },
          "ternary": {
           "aaxis": {
            "gridcolor": "white",
            "linecolor": "white",
            "ticks": ""
           },
           "baxis": {
            "gridcolor": "white",
            "linecolor": "white",
            "ticks": ""
           },
           "bgcolor": "#E5ECF6",
           "caxis": {
            "gridcolor": "white",
            "linecolor": "white",
            "ticks": ""
           }
          },
          "title": {
           "x": 0.05
          },
          "xaxis": {
           "automargin": true,
           "gridcolor": "white",
           "linecolor": "white",
           "ticks": "",
           "title": {
            "standoff": 15
           },
           "zerolinecolor": "white",
           "zerolinewidth": 2
          },
          "yaxis": {
           "automargin": true,
           "gridcolor": "white",
           "linecolor": "white",
           "ticks": "",
           "title": {
            "standoff": 15
           },
           "zerolinecolor": "white",
           "zerolinewidth": 2
          }
         }
        },
        "title": {
         "text": "Income Composition vs Life Expectancy"
        },
        "width": 1200,
        "xaxis": {
         "anchor": "y",
         "domain": [
          0,
          1
         ],
         "title": {
          "text": "Income Composition of Resources"
         }
        },
        "yaxis": {
         "anchor": "x",
         "domain": [
          0,
          1
         ],
         "title": {
          "text": "Life Expectancy"
         }
        }
       }
      }
     },
     "metadata": {},
     "output_type": "display_data"
    }
   ],
   "source": [
    "fig = px.scatter(df_2014, x='Income composition of resources', y='Life expectancy ', color='Continent',hover_name='Country', title='Income Composition vs Life Expectancy',labels={'Income composition of resources': 'Income Composition of Resources', 'Life expectancy': 'Life Expectancy'})\n",
    "\n",
    "fig.update_layout(\n",
    "    xaxis_title='Income Composition of Resources',\n",
    "    yaxis_title='Life Expectancy',\n",
    "    width=1200,\n",
    "    height=1000,\n",
    ")\n",
    "fig.show()"
   ]
  },
  {
   "cell_type": "markdown",
   "metadata": {},
   "source": []
  },
  {
   "cell_type": "markdown",
   "metadata": {},
   "source": [
    "#### 7.Average BMI by continent"
   ]
  },
  {
   "cell_type": "code",
   "execution_count": 112,
   "metadata": {},
   "outputs": [],
   "source": [
    "df_avg_bmi = df[df['Year'].between(2000, 2014)].groupby(['Continent', 'Year'])[' BMI '].mean().reset_index().sort_values(by=' BMI ', ascending=False)\n"
   ]
  },
  {
   "cell_type": "code",
   "execution_count": 113,
   "metadata": {},
   "outputs": [
    {
     "data": {
      "application/vnd.plotly.v1+json": {
       "config": {
        "plotlyServerURL": "https://plot.ly"
       },
       "data": [
        {
         "alignmentgroup": "True",
         "hovertemplate": "Continent=%{x}<br>Year=2014<br>Average BMI=%{y}<extra></extra>",
         "legendgroup": "Oceania",
         "marker": {
          "color": "#636efa",
          "pattern": {
           "shape": ""
          }
         },
         "name": "Oceania",
         "offsetgroup": "Oceania",
         "orientation": "v",
         "showlegend": true,
         "textposition": "auto",
         "type": "bar",
         "x": [
          "Oceania"
         ],
         "xaxis": "x",
         "y": [
          63.037499999999994
         ],
         "yaxis": "y"
        },
        {
         "alignmentgroup": "True",
         "hovertemplate": "Continent=%{x}<br>Year=2014<br>Average BMI=%{y}<extra></extra>",
         "legendgroup": "Europe",
         "marker": {
          "color": "#EF553B",
          "pattern": {
           "shape": ""
          }
         },
         "name": "Europe",
         "offsetgroup": "Europe",
         "orientation": "v",
         "showlegend": true,
         "textposition": "auto",
         "type": "bar",
         "x": [
          "Europe"
         ],
         "xaxis": "x",
         "y": [
          53.47777777777778
         ],
         "yaxis": "y"
        },
        {
         "alignmentgroup": "True",
         "hovertemplate": "Continent=%{x}<br>Year=2014<br>Average BMI=%{y}<extra></extra>",
         "legendgroup": "South America",
         "marker": {
          "color": "#00cc96",
          "pattern": {
           "shape": ""
          }
         },
         "name": "South America",
         "offsetgroup": "South America",
         "orientation": "v",
         "showlegend": true,
         "textposition": "auto",
         "type": "bar",
         "x": [
          "South America"
         ],
         "xaxis": "x",
         "y": [
          56.260000000000005
         ],
         "yaxis": "y"
        },
        {
         "alignmentgroup": "True",
         "hovertemplate": "Continent=%{x}<br>Year=2014<br>Average BMI=%{y}<extra></extra>",
         "legendgroup": "North America",
         "marker": {
          "color": "#ab63fa",
          "pattern": {
           "shape": ""
          }
         },
         "name": "North America",
         "offsetgroup": "North America",
         "orientation": "v",
         "showlegend": true,
         "textposition": "auto",
         "type": "bar",
         "x": [
          "North America"
         ],
         "xaxis": "x",
         "y": [
          47.75384615384615
         ],
         "yaxis": "y"
        },
        {
         "alignmentgroup": "True",
         "hovertemplate": "Continent=%{x}<br>Year=2014<br>Average BMI=%{y}<extra></extra>",
         "legendgroup": "Asia",
         "marker": {
          "color": "#FFA15A",
          "pattern": {
           "shape": ""
          }
         },
         "name": "Asia",
         "offsetgroup": "Asia",
         "orientation": "v",
         "showlegend": true,
         "textposition": "auto",
         "type": "bar",
         "x": [
          "Asia"
         ],
         "xaxis": "x",
         "y": [
          39.36551724137931
         ],
         "yaxis": "y"
        },
        {
         "alignmentgroup": "True",
         "hovertemplate": "Continent=%{x}<br>Year=2014<br>Average BMI=%{y}<extra></extra>",
         "legendgroup": "Africa",
         "marker": {
          "color": "#19d3f3",
          "pattern": {
           "shape": ""
          }
         },
         "name": "Africa",
         "offsetgroup": "Africa",
         "orientation": "v",
         "showlegend": true,
         "textposition": "auto",
         "type": "bar",
         "x": [
          "Africa"
         ],
         "xaxis": "x",
         "y": [
          23.537209302325582
         ],
         "yaxis": "y"
        }
       ],
       "frames": [
        {
         "data": [
          {
           "alignmentgroup": "True",
           "hovertemplate": "Continent=%{x}<br>Year=2000<br>Average BMI=%{y}<extra></extra>",
           "legendgroup": "Oceania",
           "marker": {
            "color": "#636efa",
            "pattern": {
             "shape": ""
            }
           },
           "name": "Oceania",
           "offsetgroup": "Oceania",
           "orientation": "v",
           "showlegend": true,
           "textposition": "auto",
           "type": "bar",
           "x": [
            "Oceania"
           ],
           "xaxis": "x",
           "y": [
            45.81428571428571
           ],
           "yaxis": "y"
          },
          {
           "alignmentgroup": "True",
           "hovertemplate": "Continent=%{x}<br>Year=2000<br>Average BMI=%{y}<extra></extra>",
           "legendgroup": "Europe",
           "marker": {
            "color": "#EF553B",
            "pattern": {
             "shape": ""
            }
           },
           "name": "Europe",
           "offsetgroup": "Europe",
           "orientation": "v",
           "showlegend": true,
           "textposition": "auto",
           "type": "bar",
           "x": [
            "Europe"
           ],
           "xaxis": "x",
           "y": [
            48.8235294117647
           ],
           "yaxis": "y"
          },
          {
           "alignmentgroup": "True",
           "hovertemplate": "Continent=%{x}<br>Year=2000<br>Average BMI=%{y}<extra></extra>",
           "legendgroup": "South America",
           "marker": {
            "color": "#00cc96",
            "pattern": {
             "shape": ""
            }
           },
           "name": "South America",
           "offsetgroup": "South America",
           "orientation": "v",
           "showlegend": true,
           "textposition": "auto",
           "type": "bar",
           "x": [
            "South America"
           ],
           "xaxis": "x",
           "y": [
            47.25
           ],
           "yaxis": "y"
          },
          {
           "alignmentgroup": "True",
           "hovertemplate": "Continent=%{x}<br>Year=2000<br>Average BMI=%{y}<extra></extra>",
           "legendgroup": "North America",
           "marker": {
            "color": "#ab63fa",
            "pattern": {
             "shape": ""
            }
           },
           "name": "North America",
           "offsetgroup": "North America",
           "orientation": "v",
           "showlegend": true,
           "textposition": "auto",
           "type": "bar",
           "x": [
            "North America"
           ],
           "xaxis": "x",
           "y": [
            38.942857142857136
           ],
           "yaxis": "y"
          },
          {
           "alignmentgroup": "True",
           "hovertemplate": "Continent=%{x}<br>Year=2000<br>Average BMI=%{y}<extra></extra>",
           "legendgroup": "Asia",
           "marker": {
            "color": "#FFA15A",
            "pattern": {
             "shape": ""
            }
           },
           "name": "Asia",
           "offsetgroup": "Asia",
           "orientation": "v",
           "showlegend": true,
           "textposition": "auto",
           "type": "bar",
           "x": [
            "Asia"
           ],
           "xaxis": "x",
           "y": [
            34.31111111111111
           ],
           "yaxis": "y"
          },
          {
           "alignmentgroup": "True",
           "hovertemplate": "Continent=%{x}<br>Year=2000<br>Average BMI=%{y}<extra></extra>",
           "legendgroup": "Africa",
           "marker": {
            "color": "#19d3f3",
            "pattern": {
             "shape": ""
            }
           },
           "name": "Africa",
           "offsetgroup": "Africa",
           "orientation": "v",
           "showlegend": true,
           "textposition": "auto",
           "type": "bar",
           "x": [
            "Africa"
           ],
           "xaxis": "x",
           "y": [
            28.8375
           ],
           "yaxis": "y"
          }
         ],
         "name": "2000"
        },
        {
         "data": [
          {
           "alignmentgroup": "True",
           "hovertemplate": "Continent=%{x}<br>Year=2006<br>Average BMI=%{y}<extra></extra>",
           "legendgroup": "Oceania",
           "marker": {
            "color": "#636efa",
            "pattern": {
             "shape": ""
            }
           },
           "name": "Oceania",
           "offsetgroup": "Oceania",
           "orientation": "v",
           "showlegend": true,
           "textposition": "auto",
           "type": "bar",
           "x": [
            "Oceania"
           ],
           "xaxis": "x",
           "y": [
            41.9625
           ],
           "yaxis": "y"
          },
          {
           "alignmentgroup": "True",
           "hovertemplate": "Continent=%{x}<br>Year=2006<br>Average BMI=%{y}<extra></extra>",
           "legendgroup": "Europe",
           "marker": {
            "color": "#EF553B",
            "pattern": {
             "shape": ""
            }
           },
           "name": "Europe",
           "offsetgroup": "Europe",
           "orientation": "v",
           "showlegend": true,
           "textposition": "auto",
           "type": "bar",
           "x": [
            "Europe"
           ],
           "xaxis": "x",
           "y": [
            50.48260869565217
           ],
           "yaxis": "y"
          },
          {
           "alignmentgroup": "True",
           "hovertemplate": "Continent=%{x}<br>Year=2006<br>Average BMI=%{y}<extra></extra>",
           "legendgroup": "South America",
           "marker": {
            "color": "#00cc96",
            "pattern": {
             "shape": ""
            }
           },
           "name": "South America",
           "offsetgroup": "South America",
           "orientation": "v",
           "showlegend": true,
           "textposition": "auto",
           "type": "bar",
           "x": [
            "South America"
           ],
           "xaxis": "x",
           "y": [
            50.67
           ],
           "yaxis": "y"
          },
          {
           "alignmentgroup": "True",
           "hovertemplate": "Continent=%{x}<br>Year=2006<br>Average BMI=%{y}<extra></extra>",
           "legendgroup": "North America",
           "marker": {
            "color": "#ab63fa",
            "pattern": {
             "shape": ""
            }
           },
           "name": "North America",
           "offsetgroup": "North America",
           "orientation": "v",
           "showlegend": true,
           "textposition": "auto",
           "type": "bar",
           "x": [
            "North America"
           ],
           "xaxis": "x",
           "y": [
            45.09166666666667
           ],
           "yaxis": "y"
          },
          {
           "alignmentgroup": "True",
           "hovertemplate": "Continent=%{x}<br>Year=2006<br>Average BMI=%{y}<extra></extra>",
           "legendgroup": "Asia",
           "marker": {
            "color": "#FFA15A",
            "pattern": {
             "shape": ""
            }
           },
           "name": "Asia",
           "offsetgroup": "Asia",
           "orientation": "v",
           "showlegend": true,
           "textposition": "auto",
           "type": "bar",
           "x": [
            "Asia"
           ],
           "xaxis": "x",
           "y": [
            33.553333333333335
           ],
           "yaxis": "y"
          },
          {
           "alignmentgroup": "True",
           "hovertemplate": "Continent=%{x}<br>Year=2006<br>Average BMI=%{y}<extra></extra>",
           "legendgroup": "Africa",
           "marker": {
            "color": "#19d3f3",
            "pattern": {
             "shape": ""
            }
           },
           "name": "Africa",
           "offsetgroup": "Africa",
           "orientation": "v",
           "showlegend": true,
           "textposition": "auto",
           "type": "bar",
           "x": [
            "Africa"
           ],
           "xaxis": "x",
           "y": [
            24.470967741935485
           ],
           "yaxis": "y"
          }
         ],
         "name": "2006"
        },
        {
         "data": [
          {
           "alignmentgroup": "True",
           "hovertemplate": "Continent=%{x}<br>Year=2007<br>Average BMI=%{y}<extra></extra>",
           "legendgroup": "Oceania",
           "marker": {
            "color": "#636efa",
            "pattern": {
             "shape": ""
            }
           },
           "name": "Oceania",
           "offsetgroup": "Oceania",
           "orientation": "v",
           "showlegend": true,
           "textposition": "auto",
           "type": "bar",
           "x": [
            "Oceania"
           ],
           "xaxis": "x",
           "y": [
            42.6625
           ],
           "yaxis": "y"
          },
          {
           "alignmentgroup": "True",
           "hovertemplate": "Continent=%{x}<br>Year=2007<br>Average BMI=%{y}<extra></extra>",
           "legendgroup": "Europe",
           "marker": {
            "color": "#EF553B",
            "pattern": {
             "shape": ""
            }
           },
           "name": "Europe",
           "offsetgroup": "Europe",
           "orientation": "v",
           "showlegend": true,
           "textposition": "auto",
           "type": "bar",
           "x": [
            "Europe"
           ],
           "xaxis": "x",
           "y": [
            53.208333333333336
           ],
           "yaxis": "y"
          },
          {
           "alignmentgroup": "True",
           "hovertemplate": "Continent=%{x}<br>Year=2007<br>Average BMI=%{y}<extra></extra>",
           "legendgroup": "South America",
           "marker": {
            "color": "#00cc96",
            "pattern": {
             "shape": ""
            }
           },
           "name": "South America",
           "offsetgroup": "South America",
           "orientation": "v",
           "showlegend": true,
           "textposition": "auto",
           "type": "bar",
           "x": [
            "South America"
           ],
           "xaxis": "x",
           "y": [
            43.25
           ],
           "yaxis": "y"
          },
          {
           "alignmentgroup": "True",
           "hovertemplate": "Continent=%{x}<br>Year=2007<br>Average BMI=%{y}<extra></extra>",
           "legendgroup": "North America",
           "marker": {
            "color": "#ab63fa",
            "pattern": {
             "shape": ""
            }
           },
           "name": "North America",
           "offsetgroup": "North America",
           "orientation": "v",
           "showlegend": true,
           "textposition": "auto",
           "type": "bar",
           "x": [
            "North America"
           ],
           "xaxis": "x",
           "y": [
            42.141666666666666
           ],
           "yaxis": "y"
          },
          {
           "alignmentgroup": "True",
           "hovertemplate": "Continent=%{x}<br>Year=2007<br>Average BMI=%{y}<extra></extra>",
           "legendgroup": "Asia",
           "marker": {
            "color": "#FFA15A",
            "pattern": {
             "shape": ""
            }
           },
           "name": "Asia",
           "offsetgroup": "Asia",
           "orientation": "v",
           "showlegend": true,
           "textposition": "auto",
           "type": "bar",
           "x": [
            "Asia"
           ],
           "xaxis": "x",
           "y": [
            33.6
           ],
           "yaxis": "y"
          },
          {
           "alignmentgroup": "True",
           "hovertemplate": "Continent=%{x}<br>Year=2007<br>Average BMI=%{y}<extra></extra>",
           "legendgroup": "Africa",
           "marker": {
            "color": "#19d3f3",
            "pattern": {
             "shape": ""
            }
           },
           "name": "Africa",
           "offsetgroup": "Africa",
           "orientation": "v",
           "showlegend": true,
           "textposition": "auto",
           "type": "bar",
           "x": [
            "Africa"
           ],
           "xaxis": "x",
           "y": [
            19.905555555555555
           ],
           "yaxis": "y"
          }
         ],
         "name": "2007"
        },
        {
         "data": [
          {
           "alignmentgroup": "True",
           "hovertemplate": "Continent=%{x}<br>Year=2001<br>Average BMI=%{y}<extra></extra>",
           "legendgroup": "Oceania",
           "marker": {
            "color": "#636efa",
            "pattern": {
             "shape": ""
            }
           },
           "name": "Oceania",
           "offsetgroup": "Oceania",
           "orientation": "v",
           "showlegend": true,
           "textposition": "auto",
           "type": "bar",
           "x": [
            "Oceania"
           ],
           "xaxis": "x",
           "y": [
            53.8125
           ],
           "yaxis": "y"
          },
          {
           "alignmentgroup": "True",
           "hovertemplate": "Continent=%{x}<br>Year=2001<br>Average BMI=%{y}<extra></extra>",
           "legendgroup": "Europe",
           "marker": {
            "color": "#EF553B",
            "pattern": {
             "shape": ""
            }
           },
           "name": "Europe",
           "offsetgroup": "Europe",
           "orientation": "v",
           "showlegend": true,
           "textposition": "auto",
           "type": "bar",
           "x": [
            "Europe"
           ],
           "xaxis": "x",
           "y": [
            49.63333333333333
           ],
           "yaxis": "y"
          },
          {
           "alignmentgroup": "True",
           "hovertemplate": "Continent=%{x}<br>Year=2001<br>Average BMI=%{y}<extra></extra>",
           "legendgroup": "South America",
           "marker": {
            "color": "#00cc96",
            "pattern": {
             "shape": ""
            }
           },
           "name": "South America",
           "offsetgroup": "South America",
           "orientation": "v",
           "showlegend": true,
           "textposition": "auto",
           "type": "bar",
           "x": [
            "South America"
           ],
           "xaxis": "x",
           "y": [
            45.68
           ],
           "yaxis": "y"
          },
          {
           "alignmentgroup": "True",
           "hovertemplate": "Continent=%{x}<br>Year=2001<br>Average BMI=%{y}<extra></extra>",
           "legendgroup": "North America",
           "marker": {
            "color": "#ab63fa",
            "pattern": {
             "shape": ""
            }
           },
           "name": "North America",
           "offsetgroup": "North America",
           "orientation": "v",
           "showlegend": true,
           "textposition": "auto",
           "type": "bar",
           "x": [
            "North America"
           ],
           "xaxis": "x",
           "y": [
            45.1625
           ],
           "yaxis": "y"
          },
          {
           "alignmentgroup": "True",
           "hovertemplate": "Continent=%{x}<br>Year=2001<br>Average BMI=%{y}<extra></extra>",
           "legendgroup": "Asia",
           "marker": {
            "color": "#FFA15A",
            "pattern": {
             "shape": ""
            }
           },
           "name": "Asia",
           "offsetgroup": "Asia",
           "orientation": "v",
           "showlegend": true,
           "textposition": "auto",
           "type": "bar",
           "x": [
            "Asia"
           ],
           "xaxis": "x",
           "y": [
            35.900000000000006
           ],
           "yaxis": "y"
          },
          {
           "alignmentgroup": "True",
           "hovertemplate": "Continent=%{x}<br>Year=2001<br>Average BMI=%{y}<extra></extra>",
           "legendgroup": "Africa",
           "marker": {
            "color": "#19d3f3",
            "pattern": {
             "shape": ""
            }
           },
           "name": "Africa",
           "offsetgroup": "Africa",
           "orientation": "v",
           "showlegend": true,
           "textposition": "auto",
           "type": "bar",
           "x": [
            "Africa"
           ],
           "xaxis": "x",
           "y": [
            25.055555555555557
           ],
           "yaxis": "y"
          }
         ],
         "name": "2001"
        },
        {
         "data": [
          {
           "alignmentgroup": "True",
           "hovertemplate": "Continent=%{x}<br>Year=2012<br>Average BMI=%{y}<extra></extra>",
           "legendgroup": "Oceania",
           "marker": {
            "color": "#636efa",
            "pattern": {
             "shape": ""
            }
           },
           "name": "Oceania",
           "offsetgroup": "Oceania",
           "orientation": "v",
           "showlegend": true,
           "textposition": "auto",
           "type": "bar",
           "x": [
            "Oceania"
           ],
           "xaxis": "x",
           "y": [
            49.362500000000004
           ],
           "yaxis": "y"
          },
          {
           "alignmentgroup": "True",
           "hovertemplate": "Continent=%{x}<br>Year=2012<br>Average BMI=%{y}<extra></extra>",
           "legendgroup": "Europe",
           "marker": {
            "color": "#EF553B",
            "pattern": {
             "shape": ""
            }
           },
           "name": "Europe",
           "offsetgroup": "Europe",
           "orientation": "v",
           "showlegend": true,
           "textposition": "auto",
           "type": "bar",
           "x": [
            "Europe"
           ],
           "xaxis": "x",
           "y": [
            46.370370370370374
           ],
           "yaxis": "y"
          },
          {
           "alignmentgroup": "True",
           "hovertemplate": "Continent=%{x}<br>Year=2012<br>Average BMI=%{y}<extra></extra>",
           "legendgroup": "South America",
           "marker": {
            "color": "#00cc96",
            "pattern": {
             "shape": ""
            }
           },
           "name": "South America",
           "offsetgroup": "South America",
           "orientation": "v",
           "showlegend": true,
           "textposition": "auto",
           "type": "bar",
           "x": [
            "South America"
           ],
           "xaxis": "x",
           "y": [
            54.839999999999996
           ],
           "yaxis": "y"
          },
          {
           "alignmentgroup": "True",
           "hovertemplate": "Continent=%{x}<br>Year=2012<br>Average BMI=%{y}<extra></extra>",
           "legendgroup": "North America",
           "marker": {
            "color": "#ab63fa",
            "pattern": {
             "shape": ""
            }
           },
           "name": "North America",
           "offsetgroup": "North America",
           "orientation": "v",
           "showlegend": true,
           "textposition": "auto",
           "type": "bar",
           "x": [
            "North America"
           ],
           "xaxis": "x",
           "y": [
            53.583333333333336
           ],
           "yaxis": "y"
          },
          {
           "alignmentgroup": "True",
           "hovertemplate": "Continent=%{x}<br>Year=2012<br>Average BMI=%{y}<extra></extra>",
           "legendgroup": "Asia",
           "marker": {
            "color": "#FFA15A",
            "pattern": {
             "shape": ""
            }
           },
           "name": "Asia",
           "offsetgroup": "Asia",
           "orientation": "v",
           "showlegend": true,
           "textposition": "auto",
           "type": "bar",
           "x": [
            "Asia"
           ],
           "xaxis": "x",
           "y": [
            34.4
           ],
           "yaxis": "y"
          },
          {
           "alignmentgroup": "True",
           "hovertemplate": "Continent=%{x}<br>Year=2012<br>Average BMI=%{y}<extra></extra>",
           "legendgroup": "Africa",
           "marker": {
            "color": "#19d3f3",
            "pattern": {
             "shape": ""
            }
           },
           "name": "Africa",
           "offsetgroup": "Africa",
           "orientation": "v",
           "showlegend": true,
           "textposition": "auto",
           "type": "bar",
           "x": [
            "Africa"
           ],
           "xaxis": "x",
           "y": [
            25.10238095238095
           ],
           "yaxis": "y"
          }
         ],
         "name": "2012"
        },
        {
         "data": [
          {
           "alignmentgroup": "True",
           "hovertemplate": "Continent=%{x}<br>Year=2002<br>Average BMI=%{y}<extra></extra>",
           "legendgroup": "Oceania",
           "marker": {
            "color": "#636efa",
            "pattern": {
             "shape": ""
            }
           },
           "name": "Oceania",
           "offsetgroup": "Oceania",
           "orientation": "v",
           "showlegend": true,
           "textposition": "auto",
           "type": "bar",
           "x": [
            "Oceania"
           ],
           "xaxis": "x",
           "y": [
            54.625
           ],
           "yaxis": "y"
          },
          {
           "alignmentgroup": "True",
           "hovertemplate": "Continent=%{x}<br>Year=2002<br>Average BMI=%{y}<extra></extra>",
           "legendgroup": "Europe",
           "marker": {
            "color": "#EF553B",
            "pattern": {
             "shape": ""
            }
           },
           "name": "Europe",
           "offsetgroup": "Europe",
           "orientation": "v",
           "showlegend": true,
           "textposition": "auto",
           "type": "bar",
           "x": [
            "Europe"
           ],
           "xaxis": "x",
           "y": [
            55.16111111111111
           ],
           "yaxis": "y"
          },
          {
           "alignmentgroup": "True",
           "hovertemplate": "Continent=%{x}<br>Year=2002<br>Average BMI=%{y}<extra></extra>",
           "legendgroup": "South America",
           "marker": {
            "color": "#00cc96",
            "pattern": {
             "shape": ""
            }
           },
           "name": "South America",
           "offsetgroup": "South America",
           "orientation": "v",
           "showlegend": true,
           "textposition": "auto",
           "type": "bar",
           "x": [
            "South America"
           ],
           "xaxis": "x",
           "y": [
            47.85
           ],
           "yaxis": "y"
          },
          {
           "alignmentgroup": "True",
           "hovertemplate": "Continent=%{x}<br>Year=2002<br>Average BMI=%{y}<extra></extra>",
           "legendgroup": "North America",
           "marker": {
            "color": "#ab63fa",
            "pattern": {
             "shape": ""
            }
           },
           "name": "North America",
           "offsetgroup": "North America",
           "orientation": "v",
           "showlegend": true,
           "textposition": "auto",
           "type": "bar",
           "x": [
            "North America"
           ],
           "xaxis": "x",
           "y": [
            40.78888888888889
           ],
           "yaxis": "y"
          },
          {
           "alignmentgroup": "True",
           "hovertemplate": "Continent=%{x}<br>Year=2002<br>Average BMI=%{y}<extra></extra>",
           "legendgroup": "Asia",
           "marker": {
            "color": "#FFA15A",
            "pattern": {
             "shape": ""
            }
           },
           "name": "Asia",
           "offsetgroup": "Asia",
           "orientation": "v",
           "showlegend": true,
           "textposition": "auto",
           "type": "bar",
           "x": [
            "Asia"
           ],
           "xaxis": "x",
           "y": [
            35.85
           ],
           "yaxis": "y"
          },
          {
           "alignmentgroup": "True",
           "hovertemplate": "Continent=%{x}<br>Year=2002<br>Average BMI=%{y}<extra></extra>",
           "legendgroup": "Africa",
           "marker": {
            "color": "#19d3f3",
            "pattern": {
             "shape": ""
            }
           },
           "name": "Africa",
           "offsetgroup": "Africa",
           "orientation": "v",
           "showlegend": true,
           "textposition": "auto",
           "type": "bar",
           "x": [
            "Africa"
           ],
           "xaxis": "x",
           "y": [
            23.533333333333335
           ],
           "yaxis": "y"
          }
         ],
         "name": "2002"
        },
        {
         "data": [
          {
           "alignmentgroup": "True",
           "hovertemplate": "Continent=%{x}<br>Year=2003<br>Average BMI=%{y}<extra></extra>",
           "legendgroup": "Oceania",
           "marker": {
            "color": "#636efa",
            "pattern": {
             "shape": ""
            }
           },
           "name": "Oceania",
           "offsetgroup": "Oceania",
           "orientation": "v",
           "showlegend": true,
           "textposition": "auto",
           "type": "bar",
           "x": [
            "Oceania"
           ],
           "xaxis": "x",
           "y": [
            36.3
           ],
           "yaxis": "y"
          },
          {
           "alignmentgroup": "True",
           "hovertemplate": "Continent=%{x}<br>Year=2003<br>Average BMI=%{y}<extra></extra>",
           "legendgroup": "Europe",
           "marker": {
            "color": "#EF553B",
            "pattern": {
             "shape": ""
            }
           },
           "name": "Europe",
           "offsetgroup": "Europe",
           "orientation": "v",
           "showlegend": true,
           "textposition": "auto",
           "type": "bar",
           "x": [
            "Europe"
           ],
           "xaxis": "x",
           "y": [
            56.10526315789474
           ],
           "yaxis": "y"
          },
          {
           "alignmentgroup": "True",
           "hovertemplate": "Continent=%{x}<br>Year=2003<br>Average BMI=%{y}<extra></extra>",
           "legendgroup": "South America",
           "marker": {
            "color": "#00cc96",
            "pattern": {
             "shape": ""
            }
           },
           "name": "South America",
           "offsetgroup": "South America",
           "orientation": "v",
           "showlegend": true,
           "textposition": "auto",
           "type": "bar",
           "x": [
            "South America"
           ],
           "xaxis": "x",
           "y": [
            47.5125
           ],
           "yaxis": "y"
          },
          {
           "alignmentgroup": "True",
           "hovertemplate": "Continent=%{x}<br>Year=2003<br>Average BMI=%{y}<extra></extra>",
           "legendgroup": "North America",
           "marker": {
            "color": "#ab63fa",
            "pattern": {
             "shape": ""
            }
           },
           "name": "North America",
           "offsetgroup": "North America",
           "orientation": "v",
           "showlegend": true,
           "textposition": "auto",
           "type": "bar",
           "x": [
            "North America"
           ],
           "xaxis": "x",
           "y": [
            41.9
           ],
           "yaxis": "y"
          },
          {
           "alignmentgroup": "True",
           "hovertemplate": "Continent=%{x}<br>Year=2003<br>Average BMI=%{y}<extra></extra>",
           "legendgroup": "Asia",
           "marker": {
            "color": "#FFA15A",
            "pattern": {
             "shape": ""
            }
           },
           "name": "Asia",
           "offsetgroup": "Asia",
           "orientation": "v",
           "showlegend": true,
           "textposition": "auto",
           "type": "bar",
           "x": [
            "Asia"
           ],
           "xaxis": "x",
           "y": [
            31.07037037037037
           ],
           "yaxis": "y"
          },
          {
           "alignmentgroup": "True",
           "hovertemplate": "Continent=%{x}<br>Year=2003<br>Average BMI=%{y}<extra></extra>",
           "legendgroup": "Africa",
           "marker": {
            "color": "#19d3f3",
            "pattern": {
             "shape": ""
            }
           },
           "name": "Africa",
           "offsetgroup": "Africa",
           "orientation": "v",
           "showlegend": true,
           "textposition": "auto",
           "type": "bar",
           "x": [
            "Africa"
           ],
           "xaxis": "x",
           "y": [
            22.240909090909092
           ],
           "yaxis": "y"
          }
         ],
         "name": "2003"
        },
        {
         "data": [
          {
           "alignmentgroup": "True",
           "hovertemplate": "Continent=%{x}<br>Year=2004<br>Average BMI=%{y}<extra></extra>",
           "legendgroup": "Oceania",
           "marker": {
            "color": "#636efa",
            "pattern": {
             "shape": ""
            }
           },
           "name": "Oceania",
           "offsetgroup": "Oceania",
           "orientation": "v",
           "showlegend": true,
           "textposition": "auto",
           "type": "bar",
           "x": [
            "Oceania"
           ],
           "xaxis": "x",
           "y": [
            44.975
           ],
           "yaxis": "y"
          },
          {
           "alignmentgroup": "True",
           "hovertemplate": "Continent=%{x}<br>Year=2004<br>Average BMI=%{y}<extra></extra>",
           "legendgroup": "Europe",
           "marker": {
            "color": "#EF553B",
            "pattern": {
             "shape": ""
            }
           },
           "name": "Europe",
           "offsetgroup": "Europe",
           "orientation": "v",
           "showlegend": true,
           "textposition": "auto",
           "type": "bar",
           "x": [
            "Europe"
           ],
           "xaxis": "x",
           "y": [
            56.11363636363637
           ],
           "yaxis": "y"
          },
          {
           "alignmentgroup": "True",
           "hovertemplate": "Continent=%{x}<br>Year=2004<br>Average BMI=%{y}<extra></extra>",
           "legendgroup": "South America",
           "marker": {
            "color": "#00cc96",
            "pattern": {
             "shape": ""
            }
           },
           "name": "South America",
           "offsetgroup": "South America",
           "orientation": "v",
           "showlegend": true,
           "textposition": "auto",
           "type": "bar",
           "x": [
            "South America"
           ],
           "xaxis": "x",
           "y": [
            48.2125
           ],
           "yaxis": "y"
          },
          {
           "alignmentgroup": "True",
           "hovertemplate": "Continent=%{x}<br>Year=2004<br>Average BMI=%{y}<extra></extra>",
           "legendgroup": "North America",
           "marker": {
            "color": "#ab63fa",
            "pattern": {
             "shape": ""
            }
           },
           "name": "North America",
           "offsetgroup": "North America",
           "orientation": "v",
           "showlegend": true,
           "textposition": "auto",
           "type": "bar",
           "x": [
            "North America"
           ],
           "xaxis": "x",
           "y": [
            42.72727272727273
           ],
           "yaxis": "y"
          },
          {
           "alignmentgroup": "True",
           "hovertemplate": "Continent=%{x}<br>Year=2004<br>Average BMI=%{y}<extra></extra>",
           "legendgroup": "Asia",
           "marker": {
            "color": "#FFA15A",
            "pattern": {
             "shape": ""
            }
           },
           "name": "Asia",
           "offsetgroup": "Asia",
           "orientation": "v",
           "showlegend": true,
           "textposition": "auto",
           "type": "bar",
           "x": [
            "Asia"
           ],
           "xaxis": "x",
           "y": [
            28.617241379310343
           ],
           "yaxis": "y"
          },
          {
           "alignmentgroup": "True",
           "hovertemplate": "Continent=%{x}<br>Year=2004<br>Average BMI=%{y}<extra></extra>",
           "legendgroup": "Africa",
           "marker": {
            "color": "#19d3f3",
            "pattern": {
             "shape": ""
            }
           },
           "name": "Africa",
           "offsetgroup": "Africa",
           "orientation": "v",
           "showlegend": true,
           "textposition": "auto",
           "type": "bar",
           "x": [
            "Africa"
           ],
           "xaxis": "x",
           "y": [
            24.316
           ],
           "yaxis": "y"
          }
         ],
         "name": "2004"
        },
        {
         "data": [
          {
           "alignmentgroup": "True",
           "hovertemplate": "Continent=%{x}<br>Year=2005<br>Average BMI=%{y}<extra></extra>",
           "legendgroup": "Oceania",
           "marker": {
            "color": "#636efa",
            "pattern": {
             "shape": ""
            }
           },
           "name": "Oceania",
           "offsetgroup": "Oceania",
           "orientation": "v",
           "showlegend": true,
           "textposition": "auto",
           "type": "bar",
           "x": [
            "Oceania"
           ],
           "xaxis": "x",
           "y": [
            56.9875
           ],
           "yaxis": "y"
          },
          {
           "alignmentgroup": "True",
           "hovertemplate": "Continent=%{x}<br>Year=2005<br>Average BMI=%{y}<extra></extra>",
           "legendgroup": "Europe",
           "marker": {
            "color": "#EF553B",
            "pattern": {
             "shape": ""
            }
           },
           "name": "Europe",
           "offsetgroup": "Europe",
           "orientation": "v",
           "showlegend": true,
           "textposition": "auto",
           "type": "bar",
           "x": [
            "Europe"
           ],
           "xaxis": "x",
           "y": [
            47.22727272727273
           ],
           "yaxis": "y"
          },
          {
           "alignmentgroup": "True",
           "hovertemplate": "Continent=%{x}<br>Year=2005<br>Average BMI=%{y}<extra></extra>",
           "legendgroup": "South America",
           "marker": {
            "color": "#00cc96",
            "pattern": {
             "shape": ""
            }
           },
           "name": "South America",
           "offsetgroup": "South America",
           "orientation": "v",
           "showlegend": true,
           "textposition": "auto",
           "type": "bar",
           "x": [
            "South America"
           ],
           "xaxis": "x",
           "y": [
            44.15555555555555
           ],
           "yaxis": "y"
          },
          {
           "alignmentgroup": "True",
           "hovertemplate": "Continent=%{x}<br>Year=2005<br>Average BMI=%{y}<extra></extra>",
           "legendgroup": "North America",
           "marker": {
            "color": "#ab63fa",
            "pattern": {
             "shape": ""
            }
           },
           "name": "North America",
           "offsetgroup": "North America",
           "orientation": "v",
           "showlegend": true,
           "textposition": "auto",
           "type": "bar",
           "x": [
            "North America"
           ],
           "xaxis": "x",
           "y": [
            40.55
           ],
           "yaxis": "y"
          },
          {
           "alignmentgroup": "True",
           "hovertemplate": "Continent=%{x}<br>Year=2005<br>Average BMI=%{y}<extra></extra>",
           "legendgroup": "Asia",
           "marker": {
            "color": "#FFA15A",
            "pattern": {
             "shape": ""
            }
           },
           "name": "Asia",
           "offsetgroup": "Asia",
           "orientation": "v",
           "showlegend": true,
           "textposition": "auto",
           "type": "bar",
           "x": [
            "Asia"
           ],
           "xaxis": "x",
           "y": [
            27.675862068965518
           ],
           "yaxis": "y"
          },
          {
           "alignmentgroup": "True",
           "hovertemplate": "Continent=%{x}<br>Year=2005<br>Average BMI=%{y}<extra></extra>",
           "legendgroup": "Africa",
           "marker": {
            "color": "#19d3f3",
            "pattern": {
             "shape": ""
            }
           },
           "name": "Africa",
           "offsetgroup": "Africa",
           "orientation": "v",
           "showlegend": true,
           "textposition": "auto",
           "type": "bar",
           "x": [
            "Africa"
           ],
           "xaxis": "x",
           "y": [
            22.77
           ],
           "yaxis": "y"
          }
         ],
         "name": "2005"
        },
        {
         "data": [
          {
           "alignmentgroup": "True",
           "hovertemplate": "Continent=%{x}<br>Year=2008<br>Average BMI=%{y}<extra></extra>",
           "legendgroup": "Oceania",
           "marker": {
            "color": "#636efa",
            "pattern": {
             "shape": ""
            }
           },
           "name": "Oceania",
           "offsetgroup": "Oceania",
           "orientation": "v",
           "showlegend": true,
           "textposition": "auto",
           "type": "bar",
           "x": [
            "Oceania"
           ],
           "xaxis": "x",
           "y": [
            59.0875
           ],
           "yaxis": "y"
          },
          {
           "alignmentgroup": "True",
           "hovertemplate": "Continent=%{x}<br>Year=2008<br>Average BMI=%{y}<extra></extra>",
           "legendgroup": "Europe",
           "marker": {
            "color": "#EF553B",
            "pattern": {
             "shape": ""
            }
           },
           "name": "Europe",
           "offsetgroup": "Europe",
           "orientation": "v",
           "showlegend": true,
           "textposition": "auto",
           "type": "bar",
           "x": [
            "Europe"
           ],
           "xaxis": "x",
           "y": [
            58.25833333333333
           ],
           "yaxis": "y"
          },
          {
           "alignmentgroup": "True",
           "hovertemplate": "Continent=%{x}<br>Year=2008<br>Average BMI=%{y}<extra></extra>",
           "legendgroup": "South America",
           "marker": {
            "color": "#00cc96",
            "pattern": {
             "shape": ""
            }
           },
           "name": "South America",
           "offsetgroup": "South America",
           "orientation": "v",
           "showlegend": true,
           "textposition": "auto",
           "type": "bar",
           "x": [
            "South America"
           ],
           "xaxis": "x",
           "y": [
            34.029999999999994
           ],
           "yaxis": "y"
          },
          {
           "alignmentgroup": "True",
           "hovertemplate": "Continent=%{x}<br>Year=2008<br>Average BMI=%{y}<extra></extra>",
           "legendgroup": "North America",
           "marker": {
            "color": "#ab63fa",
            "pattern": {
             "shape": ""
            }
           },
           "name": "North America",
           "offsetgroup": "North America",
           "orientation": "v",
           "showlegend": true,
           "textposition": "auto",
           "type": "bar",
           "x": [
            "North America"
           ],
           "xaxis": "x",
           "y": [
            47.425000000000004
           ],
           "yaxis": "y"
          },
          {
           "alignmentgroup": "True",
           "hovertemplate": "Continent=%{x}<br>Year=2008<br>Average BMI=%{y}<extra></extra>",
           "legendgroup": "Asia",
           "marker": {
            "color": "#FFA15A",
            "pattern": {
             "shape": ""
            }
           },
           "name": "Asia",
           "offsetgroup": "Asia",
           "orientation": "v",
           "showlegend": true,
           "textposition": "auto",
           "type": "bar",
           "x": [
            "Asia"
           ],
           "xaxis": "x",
           "y": [
            26.889655172413793
           ],
           "yaxis": "y"
          },
          {
           "alignmentgroup": "True",
           "hovertemplate": "Continent=%{x}<br>Year=2008<br>Average BMI=%{y}<extra></extra>",
           "legendgroup": "Africa",
           "marker": {
            "color": "#19d3f3",
            "pattern": {
             "shape": ""
            }
           },
           "name": "Africa",
           "offsetgroup": "Africa",
           "orientation": "v",
           "showlegend": true,
           "textposition": "auto",
           "type": "bar",
           "x": [
            "Africa"
           ],
           "xaxis": "x",
           "y": [
            23.415384615384617
           ],
           "yaxis": "y"
          }
         ],
         "name": "2008"
        },
        {
         "data": [
          {
           "alignmentgroup": "True",
           "hovertemplate": "Continent=%{x}<br>Year=2009<br>Average BMI=%{y}<extra></extra>",
           "legendgroup": "Oceania",
           "marker": {
            "color": "#636efa",
            "pattern": {
             "shape": ""
            }
           },
           "name": "Oceania",
           "offsetgroup": "Oceania",
           "orientation": "v",
           "showlegend": true,
           "textposition": "auto",
           "type": "bar",
           "x": [
            "Oceania"
           ],
           "xaxis": "x",
           "y": [
            59.75
           ],
           "yaxis": "y"
          },
          {
           "alignmentgroup": "True",
           "hovertemplate": "Continent=%{x}<br>Year=2009<br>Average BMI=%{y}<extra></extra>",
           "legendgroup": "Europe",
           "marker": {
            "color": "#EF553B",
            "pattern": {
             "shape": ""
            }
           },
           "name": "Europe",
           "offsetgroup": "Europe",
           "orientation": "v",
           "showlegend": true,
           "textposition": "auto",
           "type": "bar",
           "x": [
            "Europe"
           ],
           "xaxis": "x",
           "y": [
            54.30416666666667
           ],
           "yaxis": "y"
          },
          {
           "alignmentgroup": "True",
           "hovertemplate": "Continent=%{x}<br>Year=2009<br>Average BMI=%{y}<extra></extra>",
           "legendgroup": "South America",
           "marker": {
            "color": "#00cc96",
            "pattern": {
             "shape": ""
            }
           },
           "name": "South America",
           "offsetgroup": "South America",
           "orientation": "v",
           "showlegend": true,
           "textposition": "auto",
           "type": "bar",
           "x": [
            "South America"
           ],
           "xaxis": "x",
           "y": [
            42.82
           ],
           "yaxis": "y"
          },
          {
           "alignmentgroup": "True",
           "hovertemplate": "Continent=%{x}<br>Year=2009<br>Average BMI=%{y}<extra></extra>",
           "legendgroup": "North America",
           "marker": {
            "color": "#ab63fa",
            "pattern": {
             "shape": ""
            }
           },
           "name": "North America",
           "offsetgroup": "North America",
           "orientation": "v",
           "showlegend": true,
           "textposition": "auto",
           "type": "bar",
           "x": [
            "North America"
           ],
           "xaxis": "x",
           "y": [
            51.199999999999996
           ],
           "yaxis": "y"
          },
          {
           "alignmentgroup": "True",
           "hovertemplate": "Continent=%{x}<br>Year=2009<br>Average BMI=%{y}<extra></extra>",
           "legendgroup": "Asia",
           "marker": {
            "color": "#FFA15A",
            "pattern": {
             "shape": ""
            }
           },
           "name": "Asia",
           "offsetgroup": "Asia",
           "orientation": "v",
           "showlegend": true,
           "textposition": "auto",
           "type": "bar",
           "x": [
            "Asia"
           ],
           "xaxis": "x",
           "y": [
            31.00344827586207
           ],
           "yaxis": "y"
          },
          {
           "alignmentgroup": "True",
           "hovertemplate": "Continent=%{x}<br>Year=2009<br>Average BMI=%{y}<extra></extra>",
           "legendgroup": "Africa",
           "marker": {
            "color": "#19d3f3",
            "pattern": {
             "shape": ""
            }
           },
           "name": "Africa",
           "offsetgroup": "Africa",
           "orientation": "v",
           "showlegend": true,
           "textposition": "auto",
           "type": "bar",
           "x": [
            "Africa"
           ],
           "xaxis": "x",
           "y": [
            22.585714285714285
           ],
           "yaxis": "y"
          }
         ],
         "name": "2009"
        },
        {
         "data": [
          {
           "alignmentgroup": "True",
           "hovertemplate": "Continent=%{x}<br>Year=2010<br>Average BMI=%{y}<extra></extra>",
           "legendgroup": "Oceania",
           "marker": {
            "color": "#636efa",
            "pattern": {
             "shape": ""
            }
           },
           "name": "Oceania",
           "offsetgroup": "Oceania",
           "orientation": "v",
           "showlegend": true,
           "textposition": "auto",
           "type": "bar",
           "x": [
            "Oceania"
           ],
           "xaxis": "x",
           "y": [
            60.425000000000004
           ],
           "yaxis": "y"
          },
          {
           "alignmentgroup": "True",
           "hovertemplate": "Continent=%{x}<br>Year=2010<br>Average BMI=%{y}<extra></extra>",
           "legendgroup": "Europe",
           "marker": {
            "color": "#EF553B",
            "pattern": {
             "shape": ""
            }
           },
           "name": "Europe",
           "offsetgroup": "Europe",
           "orientation": "v",
           "showlegend": true,
           "textposition": "auto",
           "type": "bar",
           "x": [
            "Europe"
           ],
           "xaxis": "x",
           "y": [
            52.84
           ],
           "yaxis": "y"
          },
          {
           "alignmentgroup": "True",
           "hovertemplate": "Continent=%{x}<br>Year=2010<br>Average BMI=%{y}<extra></extra>",
           "legendgroup": "South America",
           "marker": {
            "color": "#00cc96",
            "pattern": {
             "shape": ""
            }
           },
           "name": "South America",
           "offsetgroup": "South America",
           "orientation": "v",
           "showlegend": true,
           "textposition": "auto",
           "type": "bar",
           "x": [
            "South America"
           ],
           "xaxis": "x",
           "y": [
            43.53
           ],
           "yaxis": "y"
          },
          {
           "alignmentgroup": "True",
           "hovertemplate": "Continent=%{x}<br>Year=2010<br>Average BMI=%{y}<extra></extra>",
           "legendgroup": "North America",
           "marker": {
            "color": "#ab63fa",
            "pattern": {
             "shape": ""
            }
           },
           "name": "North America",
           "offsetgroup": "North America",
           "orientation": "v",
           "showlegend": true,
           "textposition": "auto",
           "type": "bar",
           "x": [
            "North America"
           ],
           "xaxis": "x",
           "y": [
            40
           ],
           "yaxis": "y"
          },
          {
           "alignmentgroup": "True",
           "hovertemplate": "Continent=%{x}<br>Year=2010<br>Average BMI=%{y}<extra></extra>",
           "legendgroup": "Asia",
           "marker": {
            "color": "#FFA15A",
            "pattern": {
             "shape": ""
            }
           },
           "name": "Asia",
           "offsetgroup": "Asia",
           "orientation": "v",
           "showlegend": true,
           "textposition": "auto",
           "type": "bar",
           "x": [
            "Asia"
           ],
           "xaxis": "x",
           "y": [
            34.47586206896552
           ],
           "yaxis": "y"
          },
          {
           "alignmentgroup": "True",
           "hovertemplate": "Continent=%{x}<br>Year=2010<br>Average BMI=%{y}<extra></extra>",
           "legendgroup": "Africa",
           "marker": {
            "color": "#19d3f3",
            "pattern": {
             "shape": ""
            }
           },
           "name": "Africa",
           "offsetgroup": "Africa",
           "orientation": "v",
           "showlegend": true,
           "textposition": "auto",
           "type": "bar",
           "x": [
            "Africa"
           ],
           "xaxis": "x",
           "y": [
            22.91860465116279
           ],
           "yaxis": "y"
          }
         ],
         "name": "2010"
        },
        {
         "data": [
          {
           "alignmentgroup": "True",
           "hovertemplate": "Continent=%{x}<br>Year=2011<br>Average BMI=%{y}<extra></extra>",
           "legendgroup": "Oceania",
           "marker": {
            "color": "#636efa",
            "pattern": {
             "shape": ""
            }
           },
           "name": "Oceania",
           "offsetgroup": "Oceania",
           "orientation": "v",
           "showlegend": true,
           "textposition": "auto",
           "type": "bar",
           "x": [
            "Oceania"
           ],
           "xaxis": "x",
           "y": [
            61.075
           ],
           "yaxis": "y"
          },
          {
           "alignmentgroup": "True",
           "hovertemplate": "Continent=%{x}<br>Year=2011<br>Average BMI=%{y}<extra></extra>",
           "legendgroup": "Europe",
           "marker": {
            "color": "#EF553B",
            "pattern": {
             "shape": ""
            }
           },
           "name": "Europe",
           "offsetgroup": "Europe",
           "orientation": "v",
           "showlegend": true,
           "textposition": "auto",
           "type": "bar",
           "x": [
            "Europe"
           ],
           "xaxis": "x",
           "y": [
            53.818518518518516
           ],
           "yaxis": "y"
          },
          {
           "alignmentgroup": "True",
           "hovertemplate": "Continent=%{x}<br>Year=2011<br>Average BMI=%{y}<extra></extra>",
           "legendgroup": "South America",
           "marker": {
            "color": "#00cc96",
            "pattern": {
             "shape": ""
            }
           },
           "name": "South America",
           "offsetgroup": "South America",
           "orientation": "v",
           "showlegend": true,
           "textposition": "auto",
           "type": "bar",
           "x": [
            "South America"
           ],
           "xaxis": "x",
           "y": [
            48.730000000000004
           ],
           "yaxis": "y"
          },
          {
           "alignmentgroup": "True",
           "hovertemplate": "Continent=%{x}<br>Year=2011<br>Average BMI=%{y}<extra></extra>",
           "legendgroup": "North America",
           "marker": {
            "color": "#ab63fa",
            "pattern": {
             "shape": ""
            }
           },
           "name": "North America",
           "offsetgroup": "North America",
           "orientation": "v",
           "showlegend": true,
           "textposition": "auto",
           "type": "bar",
           "x": [
            "North America"
           ],
           "xaxis": "x",
           "y": [
            44.53333333333333
           ],
           "yaxis": "y"
          },
          {
           "alignmentgroup": "True",
           "hovertemplate": "Continent=%{x}<br>Year=2011<br>Average BMI=%{y}<extra></extra>",
           "legendgroup": "Asia",
           "marker": {
            "color": "#FFA15A",
            "pattern": {
             "shape": ""
            }
           },
           "name": "Asia",
           "offsetgroup": "Asia",
           "orientation": "v",
           "showlegend": true,
           "textposition": "auto",
           "type": "bar",
           "x": [
            "Asia"
           ],
           "xaxis": "x",
           "y": [
            35.820689655172416
           ],
           "yaxis": "y"
          },
          {
           "alignmentgroup": "True",
           "hovertemplate": "Continent=%{x}<br>Year=2011<br>Average BMI=%{y}<extra></extra>",
           "legendgroup": "Africa",
           "marker": {
            "color": "#19d3f3",
            "pattern": {
             "shape": ""
            }
           },
           "name": "Africa",
           "offsetgroup": "Africa",
           "orientation": "v",
           "showlegend": true,
           "textposition": "auto",
           "type": "bar",
           "x": [
            "Africa"
           ],
           "xaxis": "x",
           "y": [
            24.539534883720933
           ],
           "yaxis": "y"
          }
         ],
         "name": "2011"
        },
        {
         "data": [
          {
           "alignmentgroup": "True",
           "hovertemplate": "Continent=%{x}<br>Year=2013<br>Average BMI=%{y}<extra></extra>",
           "legendgroup": "Oceania",
           "marker": {
            "color": "#636efa",
            "pattern": {
             "shape": ""
            }
           },
           "name": "Oceania",
           "offsetgroup": "Oceania",
           "orientation": "v",
           "showlegend": true,
           "textposition": "auto",
           "type": "bar",
           "x": [
            "Oceania"
           ],
           "xaxis": "x",
           "y": [
            62.4
           ],
           "yaxis": "y"
          },
          {
           "alignmentgroup": "True",
           "hovertemplate": "Continent=%{x}<br>Year=2013<br>Average BMI=%{y}<extra></extra>",
           "legendgroup": "Europe",
           "marker": {
            "color": "#EF553B",
            "pattern": {
             "shape": ""
            }
           },
           "name": "Europe",
           "offsetgroup": "Europe",
           "orientation": "v",
           "showlegend": true,
           "textposition": "auto",
           "type": "bar",
           "x": [
            "Europe"
           ],
           "xaxis": "x",
           "y": [
            48.91851851851852
           ],
           "yaxis": "y"
          },
          {
           "alignmentgroup": "True",
           "hovertemplate": "Continent=%{x}<br>Year=2013<br>Average BMI=%{y}<extra></extra>",
           "legendgroup": "South America",
           "marker": {
            "color": "#00cc96",
            "pattern": {
             "shape": ""
            }
           },
           "name": "South America",
           "offsetgroup": "South America",
           "orientation": "v",
           "showlegend": true,
           "textposition": "auto",
           "type": "bar",
           "x": [
            "South America"
           ],
           "xaxis": "x",
           "y": [
            55.55
           ],
           "yaxis": "y"
          },
          {
           "alignmentgroup": "True",
           "hovertemplate": "Continent=%{x}<br>Year=2013<br>Average BMI=%{y}<extra></extra>",
           "legendgroup": "North America",
           "marker": {
            "color": "#ab63fa",
            "pattern": {
             "shape": ""
            }
           },
           "name": "North America",
           "offsetgroup": "North America",
           "orientation": "v",
           "showlegend": true,
           "textposition": "auto",
           "type": "bar",
           "x": [
            "North America"
           ],
           "xaxis": "x",
           "y": [
            53.83846153846154
           ],
           "yaxis": "y"
          },
          {
           "alignmentgroup": "True",
           "hovertemplate": "Continent=%{x}<br>Year=2013<br>Average BMI=%{y}<extra></extra>",
           "legendgroup": "Asia",
           "marker": {
            "color": "#FFA15A",
            "pattern": {
             "shape": ""
            }
           },
           "name": "Asia",
           "offsetgroup": "Asia",
           "orientation": "v",
           "showlegend": true,
           "textposition": "auto",
           "type": "bar",
           "x": [
            "Asia"
           ],
           "xaxis": "x",
           "y": [
            34.53448275862069
           ],
           "yaxis": "y"
          },
          {
           "alignmentgroup": "True",
           "hovertemplate": "Continent=%{x}<br>Year=2013<br>Average BMI=%{y}<extra></extra>",
           "legendgroup": "Africa",
           "marker": {
            "color": "#19d3f3",
            "pattern": {
             "shape": ""
            }
           },
           "name": "Africa",
           "offsetgroup": "Africa",
           "orientation": "v",
           "showlegend": true,
           "textposition": "auto",
           "type": "bar",
           "x": [
            "Africa"
           ],
           "xaxis": "x",
           "y": [
            26.552380952380954
           ],
           "yaxis": "y"
          }
         ],
         "name": "2013"
        },
        {
         "data": [
          {
           "alignmentgroup": "True",
           "hovertemplate": "Continent=%{x}<br>Year=2014<br>Average BMI=%{y}<extra></extra>",
           "legendgroup": "Oceania",
           "marker": {
            "color": "#636efa",
            "pattern": {
             "shape": ""
            }
           },
           "name": "Oceania",
           "offsetgroup": "Oceania",
           "orientation": "v",
           "showlegend": true,
           "textposition": "auto",
           "type": "bar",
           "x": [
            "Oceania"
           ],
           "xaxis": "x",
           "y": [
            63.037499999999994
           ],
           "yaxis": "y"
          },
          {
           "alignmentgroup": "True",
           "hovertemplate": "Continent=%{x}<br>Year=2014<br>Average BMI=%{y}<extra></extra>",
           "legendgroup": "Europe",
           "marker": {
            "color": "#EF553B",
            "pattern": {
             "shape": ""
            }
           },
           "name": "Europe",
           "offsetgroup": "Europe",
           "orientation": "v",
           "showlegend": true,
           "textposition": "auto",
           "type": "bar",
           "x": [
            "Europe"
           ],
           "xaxis": "x",
           "y": [
            53.47777777777778
           ],
           "yaxis": "y"
          },
          {
           "alignmentgroup": "True",
           "hovertemplate": "Continent=%{x}<br>Year=2014<br>Average BMI=%{y}<extra></extra>",
           "legendgroup": "South America",
           "marker": {
            "color": "#00cc96",
            "pattern": {
             "shape": ""
            }
           },
           "name": "South America",
           "offsetgroup": "South America",
           "orientation": "v",
           "showlegend": true,
           "textposition": "auto",
           "type": "bar",
           "x": [
            "South America"
           ],
           "xaxis": "x",
           "y": [
            56.260000000000005
           ],
           "yaxis": "y"
          },
          {
           "alignmentgroup": "True",
           "hovertemplate": "Continent=%{x}<br>Year=2014<br>Average BMI=%{y}<extra></extra>",
           "legendgroup": "North America",
           "marker": {
            "color": "#ab63fa",
            "pattern": {
             "shape": ""
            }
           },
           "name": "North America",
           "offsetgroup": "North America",
           "orientation": "v",
           "showlegend": true,
           "textposition": "auto",
           "type": "bar",
           "x": [
            "North America"
           ],
           "xaxis": "x",
           "y": [
            47.75384615384615
           ],
           "yaxis": "y"
          },
          {
           "alignmentgroup": "True",
           "hovertemplate": "Continent=%{x}<br>Year=2014<br>Average BMI=%{y}<extra></extra>",
           "legendgroup": "Asia",
           "marker": {
            "color": "#FFA15A",
            "pattern": {
             "shape": ""
            }
           },
           "name": "Asia",
           "offsetgroup": "Asia",
           "orientation": "v",
           "showlegend": true,
           "textposition": "auto",
           "type": "bar",
           "x": [
            "Asia"
           ],
           "xaxis": "x",
           "y": [
            39.36551724137931
           ],
           "yaxis": "y"
          },
          {
           "alignmentgroup": "True",
           "hovertemplate": "Continent=%{x}<br>Year=2014<br>Average BMI=%{y}<extra></extra>",
           "legendgroup": "Africa",
           "marker": {
            "color": "#19d3f3",
            "pattern": {
             "shape": ""
            }
           },
           "name": "Africa",
           "offsetgroup": "Africa",
           "orientation": "v",
           "showlegend": true,
           "textposition": "auto",
           "type": "bar",
           "x": [
            "Africa"
           ],
           "xaxis": "x",
           "y": [
            23.537209302325582
           ],
           "yaxis": "y"
          }
         ],
         "name": "2014"
        }
       ],
       "layout": {
        "barmode": "relative",
        "height": 600,
        "legend": {
         "title": {
          "text": "Continent"
         },
         "tracegroupgap": 0
        },
        "sliders": [
         {
          "active": 0,
          "currentvalue": {
           "prefix": "Year="
          },
          "len": 0.9,
          "pad": {
           "b": 10,
           "t": 60
          },
          "steps": [
           {
            "args": [
             [
              "2014"
             ],
             {
              "frame": {
               "duration": 0,
               "redraw": true
              },
              "fromcurrent": true,
              "mode": "immediate",
              "transition": {
               "duration": 0,
               "easing": "linear"
              }
             }
            ],
            "label": "2014",
            "method": "animate"
           },
           {
            "args": [
             [
              "2013"
             ],
             {
              "frame": {
               "duration": 0,
               "redraw": true
              },
              "fromcurrent": true,
              "mode": "immediate",
              "transition": {
               "duration": 0,
               "easing": "linear"
              }
             }
            ],
            "label": "2013",
            "method": "animate"
           },
           {
            "args": [
             [
              "2011"
             ],
             {
              "frame": {
               "duration": 0,
               "redraw": true
              },
              "fromcurrent": true,
              "mode": "immediate",
              "transition": {
               "duration": 0,
               "easing": "linear"
              }
             }
            ],
            "label": "2011",
            "method": "animate"
           },
           {
            "args": [
             [
              "2010"
             ],
             {
              "frame": {
               "duration": 0,
               "redraw": true
              },
              "fromcurrent": true,
              "mode": "immediate",
              "transition": {
               "duration": 0,
               "easing": "linear"
              }
             }
            ],
            "label": "2010",
            "method": "animate"
           },
           {
            "args": [
             [
              "2009"
             ],
             {
              "frame": {
               "duration": 0,
               "redraw": true
              },
              "fromcurrent": true,
              "mode": "immediate",
              "transition": {
               "duration": 0,
               "easing": "linear"
              }
             }
            ],
            "label": "2009",
            "method": "animate"
           },
           {
            "args": [
             [
              "2008"
             ],
             {
              "frame": {
               "duration": 0,
               "redraw": true
              },
              "fromcurrent": true,
              "mode": "immediate",
              "transition": {
               "duration": 0,
               "easing": "linear"
              }
             }
            ],
            "label": "2008",
            "method": "animate"
           },
           {
            "args": [
             [
              "2005"
             ],
             {
              "frame": {
               "duration": 0,
               "redraw": true
              },
              "fromcurrent": true,
              "mode": "immediate",
              "transition": {
               "duration": 0,
               "easing": "linear"
              }
             }
            ],
            "label": "2005",
            "method": "animate"
           },
           {
            "args": [
             [
              "2004"
             ],
             {
              "frame": {
               "duration": 0,
               "redraw": true
              },
              "fromcurrent": true,
              "mode": "immediate",
              "transition": {
               "duration": 0,
               "easing": "linear"
              }
             }
            ],
            "label": "2004",
            "method": "animate"
           },
           {
            "args": [
             [
              "2003"
             ],
             {
              "frame": {
               "duration": 0,
               "redraw": true
              },
              "fromcurrent": true,
              "mode": "immediate",
              "transition": {
               "duration": 0,
               "easing": "linear"
              }
             }
            ],
            "label": "2003",
            "method": "animate"
           },
           {
            "args": [
             [
              "2002"
             ],
             {
              "frame": {
               "duration": 0,
               "redraw": true
              },
              "fromcurrent": true,
              "mode": "immediate",
              "transition": {
               "duration": 0,
               "easing": "linear"
              }
             }
            ],
            "label": "2002",
            "method": "animate"
           },
           {
            "args": [
             [
              "2012"
             ],
             {
              "frame": {
               "duration": 0,
               "redraw": true
              },
              "fromcurrent": true,
              "mode": "immediate",
              "transition": {
               "duration": 0,
               "easing": "linear"
              }
             }
            ],
            "label": "2012",
            "method": "animate"
           },
           {
            "args": [
             [
              "2001"
             ],
             {
              "frame": {
               "duration": 0,
               "redraw": true
              },
              "fromcurrent": true,
              "mode": "immediate",
              "transition": {
               "duration": 0,
               "easing": "linear"
              }
             }
            ],
            "label": "2001",
            "method": "animate"
           },
           {
            "args": [
             [
              "2007"
             ],
             {
              "frame": {
               "duration": 0,
               "redraw": true
              },
              "fromcurrent": true,
              "mode": "immediate",
              "transition": {
               "duration": 0,
               "easing": "linear"
              }
             }
            ],
            "label": "2007",
            "method": "animate"
           },
           {
            "args": [
             [
              "2006"
             ],
             {
              "frame": {
               "duration": 0,
               "redraw": true
              },
              "fromcurrent": true,
              "mode": "immediate",
              "transition": {
               "duration": 0,
               "easing": "linear"
              }
             }
            ],
            "label": "2006",
            "method": "animate"
           },
           {
            "args": [
             [
              "2000"
             ],
             {
              "frame": {
               "duration": 0,
               "redraw": true
              },
              "fromcurrent": true,
              "mode": "immediate",
              "transition": {
               "duration": 0,
               "easing": "linear"
              }
             }
            ],
            "label": "2000",
            "method": "animate"
           }
          ],
          "x": 0.1,
          "xanchor": "left",
          "y": 0,
          "yanchor": "top"
         }
        ],
        "template": {
         "data": {
          "bar": [
           {
            "error_x": {
             "color": "#2a3f5f"
            },
            "error_y": {
             "color": "#2a3f5f"
            },
            "marker": {
             "line": {
              "color": "#E5ECF6",
              "width": 0.5
             },
             "pattern": {
              "fillmode": "overlay",
              "size": 10,
              "solidity": 0.2
             }
            },
            "type": "bar"
           }
          ],
          "barpolar": [
           {
            "marker": {
             "line": {
              "color": "#E5ECF6",
              "width": 0.5
             },
             "pattern": {
              "fillmode": "overlay",
              "size": 10,
              "solidity": 0.2
             }
            },
            "type": "barpolar"
           }
          ],
          "carpet": [
           {
            "aaxis": {
             "endlinecolor": "#2a3f5f",
             "gridcolor": "white",
             "linecolor": "white",
             "minorgridcolor": "white",
             "startlinecolor": "#2a3f5f"
            },
            "baxis": {
             "endlinecolor": "#2a3f5f",
             "gridcolor": "white",
             "linecolor": "white",
             "minorgridcolor": "white",
             "startlinecolor": "#2a3f5f"
            },
            "type": "carpet"
           }
          ],
          "choropleth": [
           {
            "colorbar": {
             "outlinewidth": 0,
             "ticks": ""
            },
            "type": "choropleth"
           }
          ],
          "contour": [
           {
            "colorbar": {
             "outlinewidth": 0,
             "ticks": ""
            },
            "colorscale": [
             [
              0,
              "#0d0887"
             ],
             [
              0.1111111111111111,
              "#46039f"
             ],
             [
              0.2222222222222222,
              "#7201a8"
             ],
             [
              0.3333333333333333,
              "#9c179e"
             ],
             [
              0.4444444444444444,
              "#bd3786"
             ],
             [
              0.5555555555555556,
              "#d8576b"
             ],
             [
              0.6666666666666666,
              "#ed7953"
             ],
             [
              0.7777777777777778,
              "#fb9f3a"
             ],
             [
              0.8888888888888888,
              "#fdca26"
             ],
             [
              1,
              "#f0f921"
             ]
            ],
            "type": "contour"
           }
          ],
          "contourcarpet": [
           {
            "colorbar": {
             "outlinewidth": 0,
             "ticks": ""
            },
            "type": "contourcarpet"
           }
          ],
          "heatmap": [
           {
            "colorbar": {
             "outlinewidth": 0,
             "ticks": ""
            },
            "colorscale": [
             [
              0,
              "#0d0887"
             ],
             [
              0.1111111111111111,
              "#46039f"
             ],
             [
              0.2222222222222222,
              "#7201a8"
             ],
             [
              0.3333333333333333,
              "#9c179e"
             ],
             [
              0.4444444444444444,
              "#bd3786"
             ],
             [
              0.5555555555555556,
              "#d8576b"
             ],
             [
              0.6666666666666666,
              "#ed7953"
             ],
             [
              0.7777777777777778,
              "#fb9f3a"
             ],
             [
              0.8888888888888888,
              "#fdca26"
             ],
             [
              1,
              "#f0f921"
             ]
            ],
            "type": "heatmap"
           }
          ],
          "heatmapgl": [
           {
            "colorbar": {
             "outlinewidth": 0,
             "ticks": ""
            },
            "colorscale": [
             [
              0,
              "#0d0887"
             ],
             [
              0.1111111111111111,
              "#46039f"
             ],
             [
              0.2222222222222222,
              "#7201a8"
             ],
             [
              0.3333333333333333,
              "#9c179e"
             ],
             [
              0.4444444444444444,
              "#bd3786"
             ],
             [
              0.5555555555555556,
              "#d8576b"
             ],
             [
              0.6666666666666666,
              "#ed7953"
             ],
             [
              0.7777777777777778,
              "#fb9f3a"
             ],
             [
              0.8888888888888888,
              "#fdca26"
             ],
             [
              1,
              "#f0f921"
             ]
            ],
            "type": "heatmapgl"
           }
          ],
          "histogram": [
           {
            "marker": {
             "pattern": {
              "fillmode": "overlay",
              "size": 10,
              "solidity": 0.2
             }
            },
            "type": "histogram"
           }
          ],
          "histogram2d": [
           {
            "colorbar": {
             "outlinewidth": 0,
             "ticks": ""
            },
            "colorscale": [
             [
              0,
              "#0d0887"
             ],
             [
              0.1111111111111111,
              "#46039f"
             ],
             [
              0.2222222222222222,
              "#7201a8"
             ],
             [
              0.3333333333333333,
              "#9c179e"
             ],
             [
              0.4444444444444444,
              "#bd3786"
             ],
             [
              0.5555555555555556,
              "#d8576b"
             ],
             [
              0.6666666666666666,
              "#ed7953"
             ],
             [
              0.7777777777777778,
              "#fb9f3a"
             ],
             [
              0.8888888888888888,
              "#fdca26"
             ],
             [
              1,
              "#f0f921"
             ]
            ],
            "type": "histogram2d"
           }
          ],
          "histogram2dcontour": [
           {
            "colorbar": {
             "outlinewidth": 0,
             "ticks": ""
            },
            "colorscale": [
             [
              0,
              "#0d0887"
             ],
             [
              0.1111111111111111,
              "#46039f"
             ],
             [
              0.2222222222222222,
              "#7201a8"
             ],
             [
              0.3333333333333333,
              "#9c179e"
             ],
             [
              0.4444444444444444,
              "#bd3786"
             ],
             [
              0.5555555555555556,
              "#d8576b"
             ],
             [
              0.6666666666666666,
              "#ed7953"
             ],
             [
              0.7777777777777778,
              "#fb9f3a"
             ],
             [
              0.8888888888888888,
              "#fdca26"
             ],
             [
              1,
              "#f0f921"
             ]
            ],
            "type": "histogram2dcontour"
           }
          ],
          "mesh3d": [
           {
            "colorbar": {
             "outlinewidth": 0,
             "ticks": ""
            },
            "type": "mesh3d"
           }
          ],
          "parcoords": [
           {
            "line": {
             "colorbar": {
              "outlinewidth": 0,
              "ticks": ""
             }
            },
            "type": "parcoords"
           }
          ],
          "pie": [
           {
            "automargin": true,
            "type": "pie"
           }
          ],
          "scatter": [
           {
            "fillpattern": {
             "fillmode": "overlay",
             "size": 10,
             "solidity": 0.2
            },
            "type": "scatter"
           }
          ],
          "scatter3d": [
           {
            "line": {
             "colorbar": {
              "outlinewidth": 0,
              "ticks": ""
             }
            },
            "marker": {
             "colorbar": {
              "outlinewidth": 0,
              "ticks": ""
             }
            },
            "type": "scatter3d"
           }
          ],
          "scattercarpet": [
           {
            "marker": {
             "colorbar": {
              "outlinewidth": 0,
              "ticks": ""
             }
            },
            "type": "scattercarpet"
           }
          ],
          "scattergeo": [
           {
            "marker": {
             "colorbar": {
              "outlinewidth": 0,
              "ticks": ""
             }
            },
            "type": "scattergeo"
           }
          ],
          "scattergl": [
           {
            "marker": {
             "colorbar": {
              "outlinewidth": 0,
              "ticks": ""
             }
            },
            "type": "scattergl"
           }
          ],
          "scattermapbox": [
           {
            "marker": {
             "colorbar": {
              "outlinewidth": 0,
              "ticks": ""
             }
            },
            "type": "scattermapbox"
           }
          ],
          "scatterpolar": [
           {
            "marker": {
             "colorbar": {
              "outlinewidth": 0,
              "ticks": ""
             }
            },
            "type": "scatterpolar"
           }
          ],
          "scatterpolargl": [
           {
            "marker": {
             "colorbar": {
              "outlinewidth": 0,
              "ticks": ""
             }
            },
            "type": "scatterpolargl"
           }
          ],
          "scatterternary": [
           {
            "marker": {
             "colorbar": {
              "outlinewidth": 0,
              "ticks": ""
             }
            },
            "type": "scatterternary"
           }
          ],
          "surface": [
           {
            "colorbar": {
             "outlinewidth": 0,
             "ticks": ""
            },
            "colorscale": [
             [
              0,
              "#0d0887"
             ],
             [
              0.1111111111111111,
              "#46039f"
             ],
             [
              0.2222222222222222,
              "#7201a8"
             ],
             [
              0.3333333333333333,
              "#9c179e"
             ],
             [
              0.4444444444444444,
              "#bd3786"
             ],
             [
              0.5555555555555556,
              "#d8576b"
             ],
             [
              0.6666666666666666,
              "#ed7953"
             ],
             [
              0.7777777777777778,
              "#fb9f3a"
             ],
             [
              0.8888888888888888,
              "#fdca26"
             ],
             [
              1,
              "#f0f921"
             ]
            ],
            "type": "surface"
           }
          ],
          "table": [
           {
            "cells": {
             "fill": {
              "color": "#EBF0F8"
             },
             "line": {
              "color": "white"
             }
            },
            "header": {
             "fill": {
              "color": "#C8D4E3"
             },
             "line": {
              "color": "white"
             }
            },
            "type": "table"
           }
          ]
         },
         "layout": {
          "annotationdefaults": {
           "arrowcolor": "#2a3f5f",
           "arrowhead": 0,
           "arrowwidth": 1
          },
          "autotypenumbers": "strict",
          "coloraxis": {
           "colorbar": {
            "outlinewidth": 0,
            "ticks": ""
           }
          },
          "colorscale": {
           "diverging": [
            [
             0,
             "#8e0152"
            ],
            [
             0.1,
             "#c51b7d"
            ],
            [
             0.2,
             "#de77ae"
            ],
            [
             0.3,
             "#f1b6da"
            ],
            [
             0.4,
             "#fde0ef"
            ],
            [
             0.5,
             "#f7f7f7"
            ],
            [
             0.6,
             "#e6f5d0"
            ],
            [
             0.7,
             "#b8e186"
            ],
            [
             0.8,
             "#7fbc41"
            ],
            [
             0.9,
             "#4d9221"
            ],
            [
             1,
             "#276419"
            ]
           ],
           "sequential": [
            [
             0,
             "#0d0887"
            ],
            [
             0.1111111111111111,
             "#46039f"
            ],
            [
             0.2222222222222222,
             "#7201a8"
            ],
            [
             0.3333333333333333,
             "#9c179e"
            ],
            [
             0.4444444444444444,
             "#bd3786"
            ],
            [
             0.5555555555555556,
             "#d8576b"
            ],
            [
             0.6666666666666666,
             "#ed7953"
            ],
            [
             0.7777777777777778,
             "#fb9f3a"
            ],
            [
             0.8888888888888888,
             "#fdca26"
            ],
            [
             1,
             "#f0f921"
            ]
           ],
           "sequentialminus": [
            [
             0,
             "#0d0887"
            ],
            [
             0.1111111111111111,
             "#46039f"
            ],
            [
             0.2222222222222222,
             "#7201a8"
            ],
            [
             0.3333333333333333,
             "#9c179e"
            ],
            [
             0.4444444444444444,
             "#bd3786"
            ],
            [
             0.5555555555555556,
             "#d8576b"
            ],
            [
             0.6666666666666666,
             "#ed7953"
            ],
            [
             0.7777777777777778,
             "#fb9f3a"
            ],
            [
             0.8888888888888888,
             "#fdca26"
            ],
            [
             1,
             "#f0f921"
            ]
           ]
          },
          "colorway": [
           "#636efa",
           "#EF553B",
           "#00cc96",
           "#ab63fa",
           "#FFA15A",
           "#19d3f3",
           "#FF6692",
           "#B6E880",
           "#FF97FF",
           "#FECB52"
          ],
          "font": {
           "color": "#2a3f5f"
          },
          "geo": {
           "bgcolor": "white",
           "lakecolor": "white",
           "landcolor": "#E5ECF6",
           "showlakes": true,
           "showland": true,
           "subunitcolor": "white"
          },
          "hoverlabel": {
           "align": "left"
          },
          "hovermode": "closest",
          "mapbox": {
           "style": "light"
          },
          "paper_bgcolor": "white",
          "plot_bgcolor": "#E5ECF6",
          "polar": {
           "angularaxis": {
            "gridcolor": "white",
            "linecolor": "white",
            "ticks": ""
           },
           "bgcolor": "#E5ECF6",
           "radialaxis": {
            "gridcolor": "white",
            "linecolor": "white",
            "ticks": ""
           }
          },
          "scene": {
           "xaxis": {
            "backgroundcolor": "#E5ECF6",
            "gridcolor": "white",
            "gridwidth": 2,
            "linecolor": "white",
            "showbackground": true,
            "ticks": "",
            "zerolinecolor": "white"
           },
           "yaxis": {
            "backgroundcolor": "#E5ECF6",
            "gridcolor": "white",
            "gridwidth": 2,
            "linecolor": "white",
            "showbackground": true,
            "ticks": "",
            "zerolinecolor": "white"
           },
           "zaxis": {
            "backgroundcolor": "#E5ECF6",
            "gridcolor": "white",
            "gridwidth": 2,
            "linecolor": "white",
            "showbackground": true,
            "ticks": "",
            "zerolinecolor": "white"
           }
          },
          "shapedefaults": {
           "line": {
            "color": "#2a3f5f"
           }
          },
          "ternary": {
           "aaxis": {
            "gridcolor": "white",
            "linecolor": "white",
            "ticks": ""
           },
           "baxis": {
            "gridcolor": "white",
            "linecolor": "white",
            "ticks": ""
           },
           "bgcolor": "#E5ECF6",
           "caxis": {
            "gridcolor": "white",
            "linecolor": "white",
            "ticks": ""
           }
          },
          "title": {
           "x": 0.05
          },
          "xaxis": {
           "automargin": true,
           "gridcolor": "white",
           "linecolor": "white",
           "ticks": "",
           "title": {
            "standoff": 15
           },
           "zerolinecolor": "white",
           "zerolinewidth": 2
          },
          "yaxis": {
           "automargin": true,
           "gridcolor": "white",
           "linecolor": "white",
           "ticks": "",
           "title": {
            "standoff": 15
           },
           "zerolinecolor": "white",
           "zerolinewidth": 2
          }
         }
        },
        "title": {
         "text": "Average BMI Over the Years by Continent (2000-2014)"
        },
        "updatemenus": [
         {
          "buttons": [
           {
            "args": [
             null,
             {
              "frame": {
               "duration": 500,
               "redraw": true
              },
              "fromcurrent": true,
              "mode": "immediate",
              "transition": {
               "duration": 500,
               "easing": "linear"
              }
             }
            ],
            "label": "&#9654;",
            "method": "animate"
           },
           {
            "args": [
             [
              null
             ],
             {
              "frame": {
               "duration": 0,
               "redraw": true
              },
              "fromcurrent": true,
              "mode": "immediate",
              "transition": {
               "duration": 0,
               "easing": "linear"
              }
             }
            ],
            "label": "&#9724;",
            "method": "animate"
           }
          ],
          "direction": "left",
          "pad": {
           "r": 10,
           "t": 70
          },
          "showactive": false,
          "type": "buttons",
          "x": 0.1,
          "xanchor": "right",
          "y": 0,
          "yanchor": "top"
         }
        ],
        "width": 1200,
        "xaxis": {
         "anchor": "y",
         "categoryarray": [
          "Oceania",
          "Europe",
          "South America",
          "North America",
          "Asia",
          "Africa"
         ],
         "categoryorder": "array",
         "domain": [
          0,
          1
         ],
         "title": {
          "text": "Continent"
         }
        },
        "yaxis": {
         "anchor": "x",
         "domain": [
          0,
          1
         ],
         "range": [
          19.905555555555555,
          63.037499999999994
         ],
         "title": {
          "text": "Average BMI"
         }
        }
       }
      }
     },
     "metadata": {},
     "output_type": "display_data"
    }
   ],
   "source": [
    "#fig = px.bar(df_avg_bmi, x='Status', y=' BMI ', color='Year',title='Average BMI Over the Years by Continent',labels={' BMI ': 'Average BMI', 'Status': 'Continent', 'Year': 'Year'},barmode='group')\n",
    "fig = px.bar(df_avg_bmi, x='Continent', y=' BMI ', color='Continent',animation_frame='Year',title='Average BMI Over the Years by Continent (2000-2014)',labels={' BMI ': 'Average BMI', 'Continent': 'Continent'},range_y=[df_avg_bmi[' BMI '].min(), df_avg_bmi[' BMI '].max()])\n",
    "fig.update_layout(\n",
    "    xaxis_title='Continent',\n",
    "    yaxis_title='Average BMI',\n",
    "    width=1200,\n",
    "    height=600,\n",
    ")\n",
    "fig.frames = fig.frames[::-1] # reversing the frame in order to have a progessive plot>\n",
    "fig.show()"
   ]
  },
  {
   "cell_type": "markdown",
   "metadata": {},
   "source": []
  },
  {
   "cell_type": "markdown",
   "metadata": {},
   "source": [
    "#### 8.Comparision on the evolution of HIV and Measles"
   ]
  },
  {
   "cell_type": "code",
   "execution_count": 131,
   "metadata": {},
   "outputs": [],
   "source": [
    "df_hiv_measles = df.groupby('Year')[[' HIV/AIDS', 'Measles ']].sum().reset_index()"
   ]
  },
  {
   "cell_type": "code",
   "execution_count": 141,
   "metadata": {},
   "outputs": [
    {
     "data": {
      "application/vnd.plotly.v1+json": {
       "config": {
        "plotlyServerURL": "https://plot.ly"
       },
       "data": [
        {
         "alignmentgroup": "True",
         "hovertemplate": "Cause= HIV/AIDS<br>Year=%{x}<br>Number of Deaths=%{y}<extra></extra>",
         "legendgroup": " HIV/AIDS",
         "marker": {
          "color": "#636efa",
          "pattern": {
           "shape": ""
          }
         },
         "name": " HIV/AIDS",
         "offsetgroup": " HIV/AIDS",
         "orientation": "v",
         "showlegend": true,
         "textposition": "auto",
         "type": "bar",
         "x": [
          2000,
          2001,
          2002,
          2003,
          2004,
          2005,
          2006,
          2007,
          2008,
          2009,
          2010,
          2011,
          2012,
          2013,
          2014,
          2015
         ],
         "xaxis": "x",
         "y": [
          163,
          181,
          251.4,
          288.2,
          285.7,
          310.7,
          288.6,
          277.7,
          261.7,
          234.9,
          198.6,
          167.8,
          138.9,
          116.9,
          106.1,
          0.2
         ],
         "yaxis": "y"
        },
        {
         "alignmentgroup": "True",
         "hovertemplate": "Cause=Measles <br>Year=%{x}<br>Number of Deaths=%{y}<extra></extra>",
         "legendgroup": "Measles ",
         "marker": {
          "color": "#EF553B",
          "pattern": {
           "shape": ""
          }
         },
         "name": "Measles ",
         "offsetgroup": "Measles ",
         "orientation": "v",
         "showlegend": true,
         "textposition": "auto",
         "type": "bar",
         "x": [
          2000,
          2001,
          2002,
          2003,
          2004,
          2005,
          2006,
          2007,
          2008,
          2009,
          2010,
          2011,
          2012,
          2013,
          2014,
          2015
         ],
         "xaxis": "x",
         "y": [
          150376,
          202428,
          248289,
          306109,
          293693,
          388753,
          276665,
          204704,
          243376,
          260941,
          330713,
          190349,
          124863,
          178163,
          267615,
          1154
         ],
         "yaxis": "y"
        }
       ],
       "layout": {
        "barmode": "relative",
        "height": 600,
        "legend": {
         "title": {
          "text": "Cause"
         },
         "tracegroupgap": 0
        },
        "template": {
         "data": {
          "bar": [
           {
            "error_x": {
             "color": "#2a3f5f"
            },
            "error_y": {
             "color": "#2a3f5f"
            },
            "marker": {
             "line": {
              "color": "#E5ECF6",
              "width": 0.5
             },
             "pattern": {
              "fillmode": "overlay",
              "size": 10,
              "solidity": 0.2
             }
            },
            "type": "bar"
           }
          ],
          "barpolar": [
           {
            "marker": {
             "line": {
              "color": "#E5ECF6",
              "width": 0.5
             },
             "pattern": {
              "fillmode": "overlay",
              "size": 10,
              "solidity": 0.2
             }
            },
            "type": "barpolar"
           }
          ],
          "carpet": [
           {
            "aaxis": {
             "endlinecolor": "#2a3f5f",
             "gridcolor": "white",
             "linecolor": "white",
             "minorgridcolor": "white",
             "startlinecolor": "#2a3f5f"
            },
            "baxis": {
             "endlinecolor": "#2a3f5f",
             "gridcolor": "white",
             "linecolor": "white",
             "minorgridcolor": "white",
             "startlinecolor": "#2a3f5f"
            },
            "type": "carpet"
           }
          ],
          "choropleth": [
           {
            "colorbar": {
             "outlinewidth": 0,
             "ticks": ""
            },
            "type": "choropleth"
           }
          ],
          "contour": [
           {
            "colorbar": {
             "outlinewidth": 0,
             "ticks": ""
            },
            "colorscale": [
             [
              0,
              "#0d0887"
             ],
             [
              0.1111111111111111,
              "#46039f"
             ],
             [
              0.2222222222222222,
              "#7201a8"
             ],
             [
              0.3333333333333333,
              "#9c179e"
             ],
             [
              0.4444444444444444,
              "#bd3786"
             ],
             [
              0.5555555555555556,
              "#d8576b"
             ],
             [
              0.6666666666666666,
              "#ed7953"
             ],
             [
              0.7777777777777778,
              "#fb9f3a"
             ],
             [
              0.8888888888888888,
              "#fdca26"
             ],
             [
              1,
              "#f0f921"
             ]
            ],
            "type": "contour"
           }
          ],
          "contourcarpet": [
           {
            "colorbar": {
             "outlinewidth": 0,
             "ticks": ""
            },
            "type": "contourcarpet"
           }
          ],
          "heatmap": [
           {
            "colorbar": {
             "outlinewidth": 0,
             "ticks": ""
            },
            "colorscale": [
             [
              0,
              "#0d0887"
             ],
             [
              0.1111111111111111,
              "#46039f"
             ],
             [
              0.2222222222222222,
              "#7201a8"
             ],
             [
              0.3333333333333333,
              "#9c179e"
             ],
             [
              0.4444444444444444,
              "#bd3786"
             ],
             [
              0.5555555555555556,
              "#d8576b"
             ],
             [
              0.6666666666666666,
              "#ed7953"
             ],
             [
              0.7777777777777778,
              "#fb9f3a"
             ],
             [
              0.8888888888888888,
              "#fdca26"
             ],
             [
              1,
              "#f0f921"
             ]
            ],
            "type": "heatmap"
           }
          ],
          "heatmapgl": [
           {
            "colorbar": {
             "outlinewidth": 0,
             "ticks": ""
            },
            "colorscale": [
             [
              0,
              "#0d0887"
             ],
             [
              0.1111111111111111,
              "#46039f"
             ],
             [
              0.2222222222222222,
              "#7201a8"
             ],
             [
              0.3333333333333333,
              "#9c179e"
             ],
             [
              0.4444444444444444,
              "#bd3786"
             ],
             [
              0.5555555555555556,
              "#d8576b"
             ],
             [
              0.6666666666666666,
              "#ed7953"
             ],
             [
              0.7777777777777778,
              "#fb9f3a"
             ],
             [
              0.8888888888888888,
              "#fdca26"
             ],
             [
              1,
              "#f0f921"
             ]
            ],
            "type": "heatmapgl"
           }
          ],
          "histogram": [
           {
            "marker": {
             "pattern": {
              "fillmode": "overlay",
              "size": 10,
              "solidity": 0.2
             }
            },
            "type": "histogram"
           }
          ],
          "histogram2d": [
           {
            "colorbar": {
             "outlinewidth": 0,
             "ticks": ""
            },
            "colorscale": [
             [
              0,
              "#0d0887"
             ],
             [
              0.1111111111111111,
              "#46039f"
             ],
             [
              0.2222222222222222,
              "#7201a8"
             ],
             [
              0.3333333333333333,
              "#9c179e"
             ],
             [
              0.4444444444444444,
              "#bd3786"
             ],
             [
              0.5555555555555556,
              "#d8576b"
             ],
             [
              0.6666666666666666,
              "#ed7953"
             ],
             [
              0.7777777777777778,
              "#fb9f3a"
             ],
             [
              0.8888888888888888,
              "#fdca26"
             ],
             [
              1,
              "#f0f921"
             ]
            ],
            "type": "histogram2d"
           }
          ],
          "histogram2dcontour": [
           {
            "colorbar": {
             "outlinewidth": 0,
             "ticks": ""
            },
            "colorscale": [
             [
              0,
              "#0d0887"
             ],
             [
              0.1111111111111111,
              "#46039f"
             ],
             [
              0.2222222222222222,
              "#7201a8"
             ],
             [
              0.3333333333333333,
              "#9c179e"
             ],
             [
              0.4444444444444444,
              "#bd3786"
             ],
             [
              0.5555555555555556,
              "#d8576b"
             ],
             [
              0.6666666666666666,
              "#ed7953"
             ],
             [
              0.7777777777777778,
              "#fb9f3a"
             ],
             [
              0.8888888888888888,
              "#fdca26"
             ],
             [
              1,
              "#f0f921"
             ]
            ],
            "type": "histogram2dcontour"
           }
          ],
          "mesh3d": [
           {
            "colorbar": {
             "outlinewidth": 0,
             "ticks": ""
            },
            "type": "mesh3d"
           }
          ],
          "parcoords": [
           {
            "line": {
             "colorbar": {
              "outlinewidth": 0,
              "ticks": ""
             }
            },
            "type": "parcoords"
           }
          ],
          "pie": [
           {
            "automargin": true,
            "type": "pie"
           }
          ],
          "scatter": [
           {
            "fillpattern": {
             "fillmode": "overlay",
             "size": 10,
             "solidity": 0.2
            },
            "type": "scatter"
           }
          ],
          "scatter3d": [
           {
            "line": {
             "colorbar": {
              "outlinewidth": 0,
              "ticks": ""
             }
            },
            "marker": {
             "colorbar": {
              "outlinewidth": 0,
              "ticks": ""
             }
            },
            "type": "scatter3d"
           }
          ],
          "scattercarpet": [
           {
            "marker": {
             "colorbar": {
              "outlinewidth": 0,
              "ticks": ""
             }
            },
            "type": "scattercarpet"
           }
          ],
          "scattergeo": [
           {
            "marker": {
             "colorbar": {
              "outlinewidth": 0,
              "ticks": ""
             }
            },
            "type": "scattergeo"
           }
          ],
          "scattergl": [
           {
            "marker": {
             "colorbar": {
              "outlinewidth": 0,
              "ticks": ""
             }
            },
            "type": "scattergl"
           }
          ],
          "scattermapbox": [
           {
            "marker": {
             "colorbar": {
              "outlinewidth": 0,
              "ticks": ""
             }
            },
            "type": "scattermapbox"
           }
          ],
          "scatterpolar": [
           {
            "marker": {
             "colorbar": {
              "outlinewidth": 0,
              "ticks": ""
             }
            },
            "type": "scatterpolar"
           }
          ],
          "scatterpolargl": [
           {
            "marker": {
             "colorbar": {
              "outlinewidth": 0,
              "ticks": ""
             }
            },
            "type": "scatterpolargl"
           }
          ],
          "scatterternary": [
           {
            "marker": {
             "colorbar": {
              "outlinewidth": 0,
              "ticks": ""
             }
            },
            "type": "scatterternary"
           }
          ],
          "surface": [
           {
            "colorbar": {
             "outlinewidth": 0,
             "ticks": ""
            },
            "colorscale": [
             [
              0,
              "#0d0887"
             ],
             [
              0.1111111111111111,
              "#46039f"
             ],
             [
              0.2222222222222222,
              "#7201a8"
             ],
             [
              0.3333333333333333,
              "#9c179e"
             ],
             [
              0.4444444444444444,
              "#bd3786"
             ],
             [
              0.5555555555555556,
              "#d8576b"
             ],
             [
              0.6666666666666666,
              "#ed7953"
             ],
             [
              0.7777777777777778,
              "#fb9f3a"
             ],
             [
              0.8888888888888888,
              "#fdca26"
             ],
             [
              1,
              "#f0f921"
             ]
            ],
            "type": "surface"
           }
          ],
          "table": [
           {
            "cells": {
             "fill": {
              "color": "#EBF0F8"
             },
             "line": {
              "color": "white"
             }
            },
            "header": {
             "fill": {
              "color": "#C8D4E3"
             },
             "line": {
              "color": "white"
             }
            },
            "type": "table"
           }
          ]
         },
         "layout": {
          "annotationdefaults": {
           "arrowcolor": "#2a3f5f",
           "arrowhead": 0,
           "arrowwidth": 1
          },
          "autotypenumbers": "strict",
          "coloraxis": {
           "colorbar": {
            "outlinewidth": 0,
            "ticks": ""
           }
          },
          "colorscale": {
           "diverging": [
            [
             0,
             "#8e0152"
            ],
            [
             0.1,
             "#c51b7d"
            ],
            [
             0.2,
             "#de77ae"
            ],
            [
             0.3,
             "#f1b6da"
            ],
            [
             0.4,
             "#fde0ef"
            ],
            [
             0.5,
             "#f7f7f7"
            ],
            [
             0.6,
             "#e6f5d0"
            ],
            [
             0.7,
             "#b8e186"
            ],
            [
             0.8,
             "#7fbc41"
            ],
            [
             0.9,
             "#4d9221"
            ],
            [
             1,
             "#276419"
            ]
           ],
           "sequential": [
            [
             0,
             "#0d0887"
            ],
            [
             0.1111111111111111,
             "#46039f"
            ],
            [
             0.2222222222222222,
             "#7201a8"
            ],
            [
             0.3333333333333333,
             "#9c179e"
            ],
            [
             0.4444444444444444,
             "#bd3786"
            ],
            [
             0.5555555555555556,
             "#d8576b"
            ],
            [
             0.6666666666666666,
             "#ed7953"
            ],
            [
             0.7777777777777778,
             "#fb9f3a"
            ],
            [
             0.8888888888888888,
             "#fdca26"
            ],
            [
             1,
             "#f0f921"
            ]
           ],
           "sequentialminus": [
            [
             0,
             "#0d0887"
            ],
            [
             0.1111111111111111,
             "#46039f"
            ],
            [
             0.2222222222222222,
             "#7201a8"
            ],
            [
             0.3333333333333333,
             "#9c179e"
            ],
            [
             0.4444444444444444,
             "#bd3786"
            ],
            [
             0.5555555555555556,
             "#d8576b"
            ],
            [
             0.6666666666666666,
             "#ed7953"
            ],
            [
             0.7777777777777778,
             "#fb9f3a"
            ],
            [
             0.8888888888888888,
             "#fdca26"
            ],
            [
             1,
             "#f0f921"
            ]
           ]
          },
          "colorway": [
           "#636efa",
           "#EF553B",
           "#00cc96",
           "#ab63fa",
           "#FFA15A",
           "#19d3f3",
           "#FF6692",
           "#B6E880",
           "#FF97FF",
           "#FECB52"
          ],
          "font": {
           "color": "#2a3f5f"
          },
          "geo": {
           "bgcolor": "white",
           "lakecolor": "white",
           "landcolor": "#E5ECF6",
           "showlakes": true,
           "showland": true,
           "subunitcolor": "white"
          },
          "hoverlabel": {
           "align": "left"
          },
          "hovermode": "closest",
          "mapbox": {
           "style": "light"
          },
          "paper_bgcolor": "white",
          "plot_bgcolor": "#E5ECF6",
          "polar": {
           "angularaxis": {
            "gridcolor": "white",
            "linecolor": "white",
            "ticks": ""
           },
           "bgcolor": "#E5ECF6",
           "radialaxis": {
            "gridcolor": "white",
            "linecolor": "white",
            "ticks": ""
           }
          },
          "scene": {
           "xaxis": {
            "backgroundcolor": "#E5ECF6",
            "gridcolor": "white",
            "gridwidth": 2,
            "linecolor": "white",
            "showbackground": true,
            "ticks": "",
            "zerolinecolor": "white"
           },
           "yaxis": {
            "backgroundcolor": "#E5ECF6",
            "gridcolor": "white",
            "gridwidth": 2,
            "linecolor": "white",
            "showbackground": true,
            "ticks": "",
            "zerolinecolor": "white"
           },
           "zaxis": {
            "backgroundcolor": "#E5ECF6",
            "gridcolor": "white",
            "gridwidth": 2,
            "linecolor": "white",
            "showbackground": true,
            "ticks": "",
            "zerolinecolor": "white"
           }
          },
          "shapedefaults": {
           "line": {
            "color": "#2a3f5f"
           }
          },
          "ternary": {
           "aaxis": {
            "gridcolor": "white",
            "linecolor": "white",
            "ticks": ""
           },
           "baxis": {
            "gridcolor": "white",
            "linecolor": "white",
            "ticks": ""
           },
           "bgcolor": "#E5ECF6",
           "caxis": {
            "gridcolor": "white",
            "linecolor": "white",
            "ticks": ""
           }
          },
          "title": {
           "x": 0.05
          },
          "xaxis": {
           "automargin": true,
           "gridcolor": "white",
           "linecolor": "white",
           "ticks": "",
           "title": {
            "standoff": 15
           },
           "zerolinecolor": "white",
           "zerolinewidth": 2
          },
          "yaxis": {
           "automargin": true,
           "gridcolor": "white",
           "linecolor": "white",
           "ticks": "",
           "title": {
            "standoff": 15
           },
           "zerolinecolor": "white",
           "zerolinewidth": 2
          }
         }
        },
        "title": {
         "text": "Number of Deaths by HIV and Measles (2000-2015)"
        },
        "width": 1200,
        "xaxis": {
         "anchor": "y",
         "domain": [
          0,
          1
         ],
         "title": {
          "text": "Year"
         }
        },
        "yaxis": {
         "anchor": "x",
         "domain": [
          0,
          1
         ],
         "title": {
          "text": "Number of Deaths"
         }
        }
       }
      }
     },
     "metadata": {},
     "output_type": "display_data"
    }
   ],
   "source": [
    "fig = px.bar(df_hiv_measles, x='Year', y=[' HIV/AIDS', 'Measles '],title='Number of Deaths by HIV and Measles (2000-2015)',labels={'value': 'Number of Deaths', 'variable': 'Cause'})\n",
    "fig.update_layout(xaxis_title='Year',yaxis_title='Number of Deaths',width=1200,height=600,)\n",
    "\n"
   ]
  },
  {
   "cell_type": "markdown",
   "metadata": {},
   "source": [
    "#### 9. Map on the evolution of Polio Immunization"
   ]
  },
  {
   "cell_type": "code",
   "execution_count": 120,
   "metadata": {},
   "outputs": [],
   "source": [
    "unique_countries = pd.DataFrame(df['Country'].unique(), columns=['Country'])\n",
    "geolocator = Nominatim(user_agent=\"my_geocoder\")\n"
   ]
  },
  {
   "cell_type": "code",
   "execution_count": 121,
   "metadata": {},
   "outputs": [],
   "source": [
    "def get_lat_lon(country):\n",
    "    location = geolocator.geocode(country)\n",
    "    if location:\n",
    "        return pd.Series({'latitude': location.latitude, 'longitude': location.longitude})\n",
    "    else:\n",
    "        return pd.Series({'latitude': None, 'longitude': None})"
   ]
  },
  {
   "cell_type": "code",
   "execution_count": 122,
   "metadata": {},
   "outputs": [
    {
     "name": "stdout",
     "output_type": "stream",
     "text": [
      "latitude 33.7680065 longitude 66.2385139\n",
      "latitude 1.2315264 longitude -75.89204331320687\n",
      "latitude 28.0000272 longitude 2.9999825\n",
      "latitude -11.8775768 longitude 17.5691241\n",
      "latitude -34.9964963 longitude -64.9672817\n",
      "latitude 4.491976149999999 longitude -75.74135085294314\n",
      "latitude -24.7761086 longitude 134.755\n",
      "latitude 47.59397 longitude 14.12456\n",
      "latitude 40.3936294 longitude 47.7872508\n",
      "latitude -0.2864982 longitude 36.0514231\n",
      "latitude 53.4250605 longitude 27.6971358\n",
      "latitude 50.6402809 longitude 4.6667145\n",
      "latitude 16.8259793 longitude -88.7600927\n",
      "latitude 9.5293472 longitude 2.2584408\n",
      "latitude 33.0204804 longitude 75.6458366\n",
      "latitude 44.3053476 longitude 17.5961467\n",
      "latitude -23.1681782 longitude 24.5928742\n",
      "latitude -10.3333333 longitude -53.2\n",
      "latitude 46.7889169 longitude 23.6184909\n",
      "latitude 12.0753083 longitude -1.6880314\n",
      "latitude -3.426449 longitude 29.9324519\n",
      "latitude 16.0000552 longitude -24.0083947\n",
      "latitude 4.0213151 longitude -73.1292624\n",
      "latitude 4.6125522 longitude 13.1535811\n",
      "latitude 61.0666922 longitude -107.991707\n",
      "latitude 7.0323598 longitude 19.9981227\n",
      "latitude 15.6134137 longitude 19.0156172\n",
      "latitude -31.7613365 longitude -71.3187697\n",
      "latitude 30.047992 longitude -94.3357433\n",
      "latitude 4.099917 longitude -72.9088133\n",
      "latitude -12.2045176 longitude 44.2832964\n",
      "latitude 9.536456900000001 longitude -84.17566257468567\n",
      "latitude 45.3658443 longitude 15.6575209\n",
      "latitude 34.9174159 longitude 32.889902651331866\n",
      "latitude 11.8145966 longitude 42.8453061\n",
      "latitude 19.0974031 longitude -70.3028026\n",
      "latitude -1.3397668 longitude -79.3666965\n",
      "latitude 13.8000382 longitude -88.9140683\n",
      "latitude 1.613172 longitude 10.5170357\n",
      "latitude 15.9500319 longitude 37.9999668\n",
      "latitude 58.7523778 longitude 25.3319078\n",
      "latitude 10.2116702 longitude 38.6521203\n",
      "latitude -18.1239696 longitude 179.0122737\n",
      "latitude 46.603354 longitude 1.8883335\n",
      "latitude -0.8999695 longitude 11.6899699\n",
      "latitude 32.3293809 longitude -83.1137366\n",
      "latitude 40.4203479 longitude -79.1166983\n",
      "latitude 8.0300284 longitude -1.0800271\n",
      "latitude 43.2097838 longitude -77.6930602\n",
      "latitude 15.5855545 longitude -90.345759\n",
      "latitude 10.7226226 longitude -10.7083587\n",
      "latitude 11.815215 longitude -15.2351044\n",
      "latitude 4.8417097 longitude -58.6416891\n",
      "latitude 19.1399952 longitude -72.3570972\n",
      "latitude 15.2572432 longitude -86.0755145\n",
      "latitude 22.3511148 longitude 78.6677428\n",
      "latitude -2.4833826 longitude 117.8902853\n",
      "latitude 33.0955793 longitude 44.1749775\n",
      "latitude 52.865196 longitude -7.9794599\n",
      "latitude 39.3181528 longitude -79.8109014\n",
      "latitude 42.6384261 longitude 12.674297\n",
      "latitude 18.1850507 longitude -77.3947693\n",
      "latitude 32.3635964 longitude 35.561242\n",
      "latitude 48.1012954 longitude 66.7780818\n",
      "latitude 1.4419683 longitude 38.4313975\n",
      "latitude 0.3448612 longitude 173.6641773\n",
      "latitude 56.8406494 longitude 24.7537645\n",
      "latitude 40.375713 longitude -76.4626118\n",
      "latitude -29.6039267 longitude 28.3350193\n",
      "latitude 5.7499721 longitude -9.3658524\n",
      "latitude 55.3500003 longitude 23.7499997\n",
      "latitude 49.6112768 longitude 6.129799\n",
      "latitude -18.779148749999997 longitude 46.71217161656727\n",
      "latitude -13.2687204 longitude 33.9301963\n",
      "latitude 4.5693754 longitude 102.2656823\n",
      "latitude 3.7203503 longitude 73.2244152\n",
      "latitude 16.3700359 longitude -2.2900239\n",
      "latitude 35.8885993 longitude 14.4476911\n",
      "latitude 20.2540382 longitude -9.2399263\n",
      "latitude -20.2759451 longitude 57.5703566\n",
      "latitude 19.4326296 longitude -99.1331785\n",
      "latitude 43.9382593 longitude -79.2235563\n",
      "latitude -12.6998188 longitude -38.3260762\n",
      "latitude 28.3347722 longitude -10.371337908392647\n",
      "latitude -19.302233 longitude 34.9144977\n",
      "latitude 22.0452303 longitude 96.4514694\n",
      "latitude -23.2335499 longitude 17.3231107\n",
      "latitude -6.4955532 longitude 110.8440229\n",
      "latitude 52.2434979 longitude 5.6343227\n",
      "latitude 12.6090157 longitude -85.2936911\n",
      "latitude 17.7356214 longitude 9.3238432\n",
      "latitude 9.6000359 longitude 7.9999721\n",
      "latitude 30.3308401 longitude 71.247499\n",
      "latitude 8.559559 longitude -81.1308434\n",
      "latitude -5.6816069 longitude 144.2489081\n",
      "latitude -23.3165935 longitude -58.1693445\n",
      "latitude -6.8699697 longitude -75.0458515\n",
      "latitude 12.7503486 longitude 122.7312101\n",
      "latitude 52.215933 longitude 19.134422\n",
      "latitude 39.6621648 longitude -8.1353519\n",
      "latitude 45.9852129 longitude 24.6859225\n",
      "latitude 64.6863136 longitude 97.7453061\n",
      "latitude -1.9646631 longitude 30.0644358\n",
      "latitude -13.7693895 longitude -172.12005\n",
      "latitude 0.9713095 longitude 7.02255\n",
      "latitude 14.4750607 longitude -14.4529612\n",
      "latitude 44.024322850000004 longitude 21.07657433209902\n",
      "latitude -4.6574977 longitude 55.4540146\n",
      "latitude 8.6400349 longitude -11.8400269\n",
      "latitude -8.7053941 longitude 159.1070693851845\n",
      "latitude -28.8166236 longitude 24.991639\n",
      "latitude 39.3260685 longitude -4.8379791\n",
      "latitude 7.5554942 longitude 80.7137847\n",
      "latitude 4.1413025 longitude -56.0771187\n",
      "latitude -26.5624806 longitude 31.3991317\n",
      "latitude 44.133435 longitude -70.822678\n",
      "latitude 34.6401861 longitude 39.0494106\n",
      "latitude 38.6281733 longitude 70.8156541\n",
      "latitude 13.03876215 longitude 101.70017611907599\n",
      "latitude -8.7443169 longitude 126.063482\n",
      "latitude 8.7800265 longitude 1.0199765\n",
      "latitude -19.9160819 longitude -175.202642\n",
      "latitude 10.7466905 longitude -61.0840075\n",
      "latitude 36.8002068 longitude 10.1857757\n",
      "latitude 38.9597594 longitude 34.9249653\n",
      "latitude 39.3763807 longitude 59.3924609\n",
      "latitude 1.5333554 longitude 32.2166578\n",
      "latitude 49.4871968 longitude 31.2718321\n",
      "latitude -32.8755548 longitude -56.0201525\n",
      "latitude 41.32373 longitude 63.9528098\n",
      "latitude -16.5255069 longitude 168.1069154\n",
      "latitude -14.5189121 longitude 27.5589884\n",
      "latitude -18.4554963 longitude 29.7468414\n"
     ]
    }
   ],
   "source": [
    "unique_countries[['latitude', 'longitude']] = unique_countries['Country'].apply(get_lat_lon)"
   ]
  },
  {
   "cell_type": "code",
   "execution_count": 123,
   "metadata": {},
   "outputs": [
    {
     "data": {
      "text/html": [
       "<div>\n",
       "<style scoped>\n",
       "    .dataframe tbody tr th:only-of-type {\n",
       "        vertical-align: middle;\n",
       "    }\n",
       "\n",
       "    .dataframe tbody tr th {\n",
       "        vertical-align: top;\n",
       "    }\n",
       "\n",
       "    .dataframe thead th {\n",
       "        text-align: right;\n",
       "    }\n",
       "</style>\n",
       "<table border=\"1\" class=\"dataframe\">\n",
       "  <thead>\n",
       "    <tr style=\"text-align: right;\">\n",
       "      <th></th>\n",
       "      <th>Country</th>\n",
       "      <th>latitude</th>\n",
       "      <th>longitude</th>\n",
       "    </tr>\n",
       "  </thead>\n",
       "  <tbody>\n",
       "    <tr>\n",
       "      <th>0</th>\n",
       "      <td>Afghanistan</td>\n",
       "      <td>33.768006</td>\n",
       "      <td>66.238514</td>\n",
       "    </tr>\n",
       "    <tr>\n",
       "      <th>1</th>\n",
       "      <td>Albania</td>\n",
       "      <td>1.231526</td>\n",
       "      <td>-75.892043</td>\n",
       "    </tr>\n",
       "    <tr>\n",
       "      <th>2</th>\n",
       "      <td>Algeria</td>\n",
       "      <td>28.000027</td>\n",
       "      <td>2.999983</td>\n",
       "    </tr>\n",
       "    <tr>\n",
       "      <th>3</th>\n",
       "      <td>Angola</td>\n",
       "      <td>-11.877577</td>\n",
       "      <td>17.569124</td>\n",
       "    </tr>\n",
       "    <tr>\n",
       "      <th>4</th>\n",
       "      <td>Argentina</td>\n",
       "      <td>-34.996496</td>\n",
       "      <td>-64.967282</td>\n",
       "    </tr>\n",
       "    <tr>\n",
       "      <th>...</th>\n",
       "      <td>...</td>\n",
       "      <td>...</td>\n",
       "      <td>...</td>\n",
       "    </tr>\n",
       "    <tr>\n",
       "      <th>128</th>\n",
       "      <td>Uruguay</td>\n",
       "      <td>-32.875555</td>\n",
       "      <td>-56.020153</td>\n",
       "    </tr>\n",
       "    <tr>\n",
       "      <th>129</th>\n",
       "      <td>Uzbekistan</td>\n",
       "      <td>41.323730</td>\n",
       "      <td>63.952810</td>\n",
       "    </tr>\n",
       "    <tr>\n",
       "      <th>130</th>\n",
       "      <td>Vanuatu</td>\n",
       "      <td>-16.525507</td>\n",
       "      <td>168.106915</td>\n",
       "    </tr>\n",
       "    <tr>\n",
       "      <th>131</th>\n",
       "      <td>Zambia</td>\n",
       "      <td>-14.518912</td>\n",
       "      <td>27.558988</td>\n",
       "    </tr>\n",
       "    <tr>\n",
       "      <th>132</th>\n",
       "      <td>Zimbabwe</td>\n",
       "      <td>-18.455496</td>\n",
       "      <td>29.746841</td>\n",
       "    </tr>\n",
       "  </tbody>\n",
       "</table>\n",
       "<p>133 rows × 3 columns</p>\n",
       "</div>"
      ],
      "text/plain": [
       "         Country   latitude   longitude\n",
       "0    Afghanistan  33.768006   66.238514\n",
       "1        Albania   1.231526  -75.892043\n",
       "2        Algeria  28.000027    2.999983\n",
       "3         Angola -11.877577   17.569124\n",
       "4      Argentina -34.996496  -64.967282\n",
       "..           ...        ...         ...\n",
       "128      Uruguay -32.875555  -56.020153\n",
       "129   Uzbekistan  41.323730   63.952810\n",
       "130      Vanuatu -16.525507  168.106915\n",
       "131       Zambia -14.518912   27.558988\n",
       "132     Zimbabwe -18.455496   29.746841\n",
       "\n",
       "[133 rows x 3 columns]"
      ]
     },
     "execution_count": 123,
     "metadata": {},
     "output_type": "execute_result"
    }
   ],
   "source": [
    "unique_countries"
   ]
  },
  {
   "cell_type": "code",
   "execution_count": 124,
   "metadata": {},
   "outputs": [],
   "source": [
    "df = pd.merge(df, unique_countries, on='Country', how='left')"
   ]
  },
  {
   "cell_type": "code",
   "execution_count": 125,
   "metadata": {},
   "outputs": [
    {
     "data": {
      "text/html": [
       "<div>\n",
       "<style scoped>\n",
       "    .dataframe tbody tr th:only-of-type {\n",
       "        vertical-align: middle;\n",
       "    }\n",
       "\n",
       "    .dataframe tbody tr th {\n",
       "        vertical-align: top;\n",
       "    }\n",
       "\n",
       "    .dataframe thead th {\n",
       "        text-align: right;\n",
       "    }\n",
       "</style>\n",
       "<table border=\"1\" class=\"dataframe\">\n",
       "  <thead>\n",
       "    <tr style=\"text-align: right;\">\n",
       "      <th></th>\n",
       "      <th>Country</th>\n",
       "      <th>Year</th>\n",
       "      <th>Status</th>\n",
       "      <th>Life expectancy</th>\n",
       "      <th>Adult Mortality</th>\n",
       "      <th>infant deaths</th>\n",
       "      <th>Alcohol</th>\n",
       "      <th>percentage expenditure</th>\n",
       "      <th>Hepatitis B</th>\n",
       "      <th>Measles</th>\n",
       "      <th>...</th>\n",
       "      <th>HIV/AIDS</th>\n",
       "      <th>GDP</th>\n",
       "      <th>Population</th>\n",
       "      <th>thinness  1-19 years</th>\n",
       "      <th>thinness 5-9 years</th>\n",
       "      <th>Income composition of resources</th>\n",
       "      <th>Schooling</th>\n",
       "      <th>Continent</th>\n",
       "      <th>latitude</th>\n",
       "      <th>longitude</th>\n",
       "    </tr>\n",
       "  </thead>\n",
       "  <tbody>\n",
       "    <tr>\n",
       "      <th>0</th>\n",
       "      <td>Afghanistan</td>\n",
       "      <td>2015</td>\n",
       "      <td>Developing</td>\n",
       "      <td>65.0</td>\n",
       "      <td>263.0</td>\n",
       "      <td>62</td>\n",
       "      <td>0.01</td>\n",
       "      <td>71.279624</td>\n",
       "      <td>65.0</td>\n",
       "      <td>1154</td>\n",
       "      <td>...</td>\n",
       "      <td>0.1</td>\n",
       "      <td>584.259210</td>\n",
       "      <td>33736494.0</td>\n",
       "      <td>17.2</td>\n",
       "      <td>17.3</td>\n",
       "      <td>0.479</td>\n",
       "      <td>10.1</td>\n",
       "      <td>Asia</td>\n",
       "      <td>33.768006</td>\n",
       "      <td>66.238514</td>\n",
       "    </tr>\n",
       "    <tr>\n",
       "      <th>1</th>\n",
       "      <td>Afghanistan</td>\n",
       "      <td>2014</td>\n",
       "      <td>Developing</td>\n",
       "      <td>59.9</td>\n",
       "      <td>271.0</td>\n",
       "      <td>64</td>\n",
       "      <td>0.01</td>\n",
       "      <td>73.523582</td>\n",
       "      <td>62.0</td>\n",
       "      <td>492</td>\n",
       "      <td>...</td>\n",
       "      <td>0.1</td>\n",
       "      <td>612.696514</td>\n",
       "      <td>327582.0</td>\n",
       "      <td>17.5</td>\n",
       "      <td>17.5</td>\n",
       "      <td>0.476</td>\n",
       "      <td>10.0</td>\n",
       "      <td>Asia</td>\n",
       "      <td>33.768006</td>\n",
       "      <td>66.238514</td>\n",
       "    </tr>\n",
       "    <tr>\n",
       "      <th>2</th>\n",
       "      <td>Afghanistan</td>\n",
       "      <td>2013</td>\n",
       "      <td>Developing</td>\n",
       "      <td>59.9</td>\n",
       "      <td>268.0</td>\n",
       "      <td>66</td>\n",
       "      <td>0.01</td>\n",
       "      <td>73.219243</td>\n",
       "      <td>64.0</td>\n",
       "      <td>430</td>\n",
       "      <td>...</td>\n",
       "      <td>0.1</td>\n",
       "      <td>631.744976</td>\n",
       "      <td>31731688.0</td>\n",
       "      <td>17.7</td>\n",
       "      <td>17.7</td>\n",
       "      <td>0.470</td>\n",
       "      <td>9.9</td>\n",
       "      <td>Asia</td>\n",
       "      <td>33.768006</td>\n",
       "      <td>66.238514</td>\n",
       "    </tr>\n",
       "    <tr>\n",
       "      <th>3</th>\n",
       "      <td>Afghanistan</td>\n",
       "      <td>2012</td>\n",
       "      <td>Developing</td>\n",
       "      <td>59.5</td>\n",
       "      <td>272.0</td>\n",
       "      <td>69</td>\n",
       "      <td>0.01</td>\n",
       "      <td>78.184215</td>\n",
       "      <td>67.0</td>\n",
       "      <td>2787</td>\n",
       "      <td>...</td>\n",
       "      <td>0.1</td>\n",
       "      <td>669.959000</td>\n",
       "      <td>3696958.0</td>\n",
       "      <td>17.9</td>\n",
       "      <td>18.0</td>\n",
       "      <td>0.463</td>\n",
       "      <td>9.8</td>\n",
       "      <td>Asia</td>\n",
       "      <td>33.768006</td>\n",
       "      <td>66.238514</td>\n",
       "    </tr>\n",
       "    <tr>\n",
       "      <th>4</th>\n",
       "      <td>Afghanistan</td>\n",
       "      <td>2011</td>\n",
       "      <td>Developing</td>\n",
       "      <td>59.2</td>\n",
       "      <td>275.0</td>\n",
       "      <td>71</td>\n",
       "      <td>0.01</td>\n",
       "      <td>7.097109</td>\n",
       "      <td>68.0</td>\n",
       "      <td>3013</td>\n",
       "      <td>...</td>\n",
       "      <td>0.1</td>\n",
       "      <td>63.537231</td>\n",
       "      <td>2978599.0</td>\n",
       "      <td>18.2</td>\n",
       "      <td>18.2</td>\n",
       "      <td>0.454</td>\n",
       "      <td>9.5</td>\n",
       "      <td>Asia</td>\n",
       "      <td>33.768006</td>\n",
       "      <td>66.238514</td>\n",
       "    </tr>\n",
       "    <tr>\n",
       "      <th>...</th>\n",
       "      <td>...</td>\n",
       "      <td>...</td>\n",
       "      <td>...</td>\n",
       "      <td>...</td>\n",
       "      <td>...</td>\n",
       "      <td>...</td>\n",
       "      <td>...</td>\n",
       "      <td>...</td>\n",
       "      <td>...</td>\n",
       "      <td>...</td>\n",
       "      <td>...</td>\n",
       "      <td>...</td>\n",
       "      <td>...</td>\n",
       "      <td>...</td>\n",
       "      <td>...</td>\n",
       "      <td>...</td>\n",
       "      <td>...</td>\n",
       "      <td>...</td>\n",
       "      <td>...</td>\n",
       "      <td>...</td>\n",
       "      <td>...</td>\n",
       "    </tr>\n",
       "    <tr>\n",
       "      <th>1644</th>\n",
       "      <td>Zimbabwe</td>\n",
       "      <td>2004</td>\n",
       "      <td>Developing</td>\n",
       "      <td>44.3</td>\n",
       "      <td>723.0</td>\n",
       "      <td>27</td>\n",
       "      <td>4.36</td>\n",
       "      <td>0.000000</td>\n",
       "      <td>68.0</td>\n",
       "      <td>31</td>\n",
       "      <td>...</td>\n",
       "      <td>33.6</td>\n",
       "      <td>454.366654</td>\n",
       "      <td>12777511.0</td>\n",
       "      <td>9.4</td>\n",
       "      <td>9.4</td>\n",
       "      <td>0.407</td>\n",
       "      <td>9.2</td>\n",
       "      <td>Africa</td>\n",
       "      <td>-18.455496</td>\n",
       "      <td>29.746841</td>\n",
       "    </tr>\n",
       "    <tr>\n",
       "      <th>1645</th>\n",
       "      <td>Zimbabwe</td>\n",
       "      <td>2003</td>\n",
       "      <td>Developing</td>\n",
       "      <td>44.5</td>\n",
       "      <td>715.0</td>\n",
       "      <td>26</td>\n",
       "      <td>4.06</td>\n",
       "      <td>0.000000</td>\n",
       "      <td>7.0</td>\n",
       "      <td>998</td>\n",
       "      <td>...</td>\n",
       "      <td>36.7</td>\n",
       "      <td>453.351155</td>\n",
       "      <td>12633897.0</td>\n",
       "      <td>9.8</td>\n",
       "      <td>9.9</td>\n",
       "      <td>0.418</td>\n",
       "      <td>9.5</td>\n",
       "      <td>Africa</td>\n",
       "      <td>-18.455496</td>\n",
       "      <td>29.746841</td>\n",
       "    </tr>\n",
       "    <tr>\n",
       "      <th>1646</th>\n",
       "      <td>Zimbabwe</td>\n",
       "      <td>2002</td>\n",
       "      <td>Developing</td>\n",
       "      <td>44.8</td>\n",
       "      <td>73.0</td>\n",
       "      <td>25</td>\n",
       "      <td>4.43</td>\n",
       "      <td>0.000000</td>\n",
       "      <td>73.0</td>\n",
       "      <td>304</td>\n",
       "      <td>...</td>\n",
       "      <td>39.8</td>\n",
       "      <td>57.348340</td>\n",
       "      <td>125525.0</td>\n",
       "      <td>1.2</td>\n",
       "      <td>1.3</td>\n",
       "      <td>0.427</td>\n",
       "      <td>10.0</td>\n",
       "      <td>Africa</td>\n",
       "      <td>-18.455496</td>\n",
       "      <td>29.746841</td>\n",
       "    </tr>\n",
       "    <tr>\n",
       "      <th>1647</th>\n",
       "      <td>Zimbabwe</td>\n",
       "      <td>2001</td>\n",
       "      <td>Developing</td>\n",
       "      <td>45.3</td>\n",
       "      <td>686.0</td>\n",
       "      <td>25</td>\n",
       "      <td>1.72</td>\n",
       "      <td>0.000000</td>\n",
       "      <td>76.0</td>\n",
       "      <td>529</td>\n",
       "      <td>...</td>\n",
       "      <td>42.1</td>\n",
       "      <td>548.587312</td>\n",
       "      <td>12366165.0</td>\n",
       "      <td>1.6</td>\n",
       "      <td>1.7</td>\n",
       "      <td>0.427</td>\n",
       "      <td>9.8</td>\n",
       "      <td>Africa</td>\n",
       "      <td>-18.455496</td>\n",
       "      <td>29.746841</td>\n",
       "    </tr>\n",
       "    <tr>\n",
       "      <th>1648</th>\n",
       "      <td>Zimbabwe</td>\n",
       "      <td>2000</td>\n",
       "      <td>Developing</td>\n",
       "      <td>46.0</td>\n",
       "      <td>665.0</td>\n",
       "      <td>24</td>\n",
       "      <td>1.68</td>\n",
       "      <td>0.000000</td>\n",
       "      <td>79.0</td>\n",
       "      <td>1483</td>\n",
       "      <td>...</td>\n",
       "      <td>43.5</td>\n",
       "      <td>547.358878</td>\n",
       "      <td>12222251.0</td>\n",
       "      <td>11.0</td>\n",
       "      <td>11.2</td>\n",
       "      <td>0.434</td>\n",
       "      <td>9.8</td>\n",
       "      <td>Africa</td>\n",
       "      <td>-18.455496</td>\n",
       "      <td>29.746841</td>\n",
       "    </tr>\n",
       "  </tbody>\n",
       "</table>\n",
       "<p>1649 rows × 25 columns</p>\n",
       "</div>"
      ],
      "text/plain": [
       "          Country  Year      Status  Life expectancy   Adult Mortality  \\\n",
       "0     Afghanistan  2015  Developing              65.0            263.0   \n",
       "1     Afghanistan  2014  Developing              59.9            271.0   \n",
       "2     Afghanistan  2013  Developing              59.9            268.0   \n",
       "3     Afghanistan  2012  Developing              59.5            272.0   \n",
       "4     Afghanistan  2011  Developing              59.2            275.0   \n",
       "...           ...   ...         ...               ...              ...   \n",
       "1644     Zimbabwe  2004  Developing              44.3            723.0   \n",
       "1645     Zimbabwe  2003  Developing              44.5            715.0   \n",
       "1646     Zimbabwe  2002  Developing              44.8             73.0   \n",
       "1647     Zimbabwe  2001  Developing              45.3            686.0   \n",
       "1648     Zimbabwe  2000  Developing              46.0            665.0   \n",
       "\n",
       "      infant deaths  Alcohol  percentage expenditure  Hepatitis B  Measles   \\\n",
       "0                62     0.01               71.279624         65.0      1154   \n",
       "1                64     0.01               73.523582         62.0       492   \n",
       "2                66     0.01               73.219243         64.0       430   \n",
       "3                69     0.01               78.184215         67.0      2787   \n",
       "4                71     0.01                7.097109         68.0      3013   \n",
       "...             ...      ...                     ...          ...       ...   \n",
       "1644             27     4.36                0.000000         68.0        31   \n",
       "1645             26     4.06                0.000000          7.0       998   \n",
       "1646             25     4.43                0.000000         73.0       304   \n",
       "1647             25     1.72                0.000000         76.0       529   \n",
       "1648             24     1.68                0.000000         79.0      1483   \n",
       "\n",
       "      ...   HIV/AIDS         GDP  Population   thinness  1-19 years  \\\n",
       "0     ...        0.1  584.259210  33736494.0                   17.2   \n",
       "1     ...        0.1  612.696514    327582.0                   17.5   \n",
       "2     ...        0.1  631.744976  31731688.0                   17.7   \n",
       "3     ...        0.1  669.959000   3696958.0                   17.9   \n",
       "4     ...        0.1   63.537231   2978599.0                   18.2   \n",
       "...   ...        ...         ...         ...                    ...   \n",
       "1644  ...       33.6  454.366654  12777511.0                    9.4   \n",
       "1645  ...       36.7  453.351155  12633897.0                    9.8   \n",
       "1646  ...       39.8   57.348340    125525.0                    1.2   \n",
       "1647  ...       42.1  548.587312  12366165.0                    1.6   \n",
       "1648  ...       43.5  547.358878  12222251.0                   11.0   \n",
       "\n",
       "       thinness 5-9 years  Income composition of resources  Schooling  \\\n",
       "0                    17.3                            0.479       10.1   \n",
       "1                    17.5                            0.476       10.0   \n",
       "2                    17.7                            0.470        9.9   \n",
       "3                    18.0                            0.463        9.8   \n",
       "4                    18.2                            0.454        9.5   \n",
       "...                   ...                              ...        ...   \n",
       "1644                  9.4                            0.407        9.2   \n",
       "1645                  9.9                            0.418        9.5   \n",
       "1646                  1.3                            0.427       10.0   \n",
       "1647                  1.7                            0.427        9.8   \n",
       "1648                 11.2                            0.434        9.8   \n",
       "\n",
       "      Continent   latitude  longitude  \n",
       "0          Asia  33.768006  66.238514  \n",
       "1          Asia  33.768006  66.238514  \n",
       "2          Asia  33.768006  66.238514  \n",
       "3          Asia  33.768006  66.238514  \n",
       "4          Asia  33.768006  66.238514  \n",
       "...         ...        ...        ...  \n",
       "1644     Africa -18.455496  29.746841  \n",
       "1645     Africa -18.455496  29.746841  \n",
       "1646     Africa -18.455496  29.746841  \n",
       "1647     Africa -18.455496  29.746841  \n",
       "1648     Africa -18.455496  29.746841  \n",
       "\n",
       "[1649 rows x 25 columns]"
      ]
     },
     "execution_count": 125,
     "metadata": {},
     "output_type": "execute_result"
    }
   ],
   "source": [
    "df"
   ]
  },
  {
   "cell_type": "code",
   "execution_count": 130,
   "metadata": {},
   "outputs": [
    {
     "data": {
      "application/vnd.plotly.v1+json": {
       "config": {
        "plotlyServerURL": "https://plot.ly"
       },
       "data": [
        {
         "coloraxis": "coloraxis",
         "geo": "geo",
         "hovertemplate": "<b>%{hovertext}</b><br><br>Year=2015<br>Country=%{location}<br>Polio=%{z}<extra></extra>",
         "hovertext": [
          "Afghanistan",
          "Albania"
         ],
         "locationmode": "country names",
         "locations": [
          "Afghanistan",
          "Albania"
         ],
         "name": "",
         "type": "choropleth",
         "z": [
          6,
          99
         ]
        }
       ],
       "frames": [
        {
         "data": [
          {
           "coloraxis": "coloraxis",
           "geo": "geo",
           "hovertemplate": "<b>%{hovertext}</b><br><br>Year=2015<br>Country=%{location}<br>Polio=%{z}<extra></extra>",
           "hovertext": [
            "Afghanistan",
            "Albania"
           ],
           "locationmode": "country names",
           "locations": [
            "Afghanistan",
            "Albania"
           ],
           "name": "",
           "type": "choropleth",
           "z": [
            6,
            99
           ]
          }
         ],
         "name": "2015"
        },
        {
         "data": [
          {
           "coloraxis": "coloraxis",
           "geo": "geo",
           "hovertemplate": "<b>%{hovertext}</b><br><br>Year=2014<br>Country=%{location}<br>Polio=%{z}<extra></extra>",
           "hovertext": [
            "Afghanistan",
            "Albania",
            "Algeria",
            "Angola",
            "Argentina",
            "Armenia",
            "Australia",
            "Austria",
            "Azerbaijan",
            "Bangladesh",
            "Belarus",
            "Belgium",
            "Belize",
            "Benin",
            "Bhutan",
            "Bosnia and Herzegovina",
            "Botswana",
            "Brazil",
            "Bulgaria",
            "Burkina Faso",
            "Burundi",
            "Cabo Verde",
            "Cambodia",
            "Cameroon",
            "Canada",
            "Central African Republic",
            "Chad",
            "Chile",
            "China",
            "Colombia",
            "Comoros",
            "Costa Rica",
            "Croatia",
            "Cyprus",
            "Djibouti",
            "Dominican Republic",
            "Ecuador",
            "El Salvador",
            "Equatorial Guinea",
            "Estonia",
            "Ethiopia",
            "Fiji",
            "France",
            "Gabon",
            "Georgia",
            "Germany",
            "Ghana",
            "Greece",
            "Guatemala",
            "Guinea",
            "Guinea-Bissau",
            "Guyana",
            "Haiti",
            "Honduras",
            "India",
            "Indonesia",
            "Iraq",
            "Ireland",
            "Israel",
            "Italy",
            "Jamaica",
            "Jordan",
            "Kazakhstan",
            "Kenya",
            "Kiribati",
            "Latvia",
            "Lebanon",
            "Lesotho",
            "Liberia",
            "Lithuania",
            "Luxembourg",
            "Madagascar",
            "Malawi",
            "Malaysia",
            "Maldives",
            "Mali",
            "Malta",
            "Mauritania",
            "Mauritius",
            "Mexico",
            "Mongolia",
            "Montenegro",
            "Morocco",
            "Mozambique",
            "Myanmar",
            "Namibia",
            "Nepal",
            "Netherlands",
            "Nicaragua",
            "Niger",
            "Nigeria",
            "Pakistan",
            "Panama",
            "Papua New Guinea",
            "Paraguay",
            "Peru",
            "Philippines",
            "Poland",
            "Portugal",
            "Romania",
            "Russian Federation",
            "Rwanda",
            "Samoa",
            "Sao Tome and Principe",
            "Senegal",
            "Serbia",
            "Seychelles",
            "Sierra Leone",
            "Solomon Islands",
            "South Africa",
            "Spain",
            "Sri Lanka",
            "Suriname",
            "Swaziland",
            "Sweden",
            "Tajikistan",
            "Thailand",
            "Timor-Leste",
            "Togo",
            "Tonga",
            "Trinidad and Tobago",
            "Tunisia",
            "Turkey",
            "Turkmenistan",
            "Uganda",
            "Ukraine",
            "Uruguay",
            "Uzbekistan",
            "Vanuatu",
            "Zambia",
            "Zimbabwe"
           ],
           "locationmode": "country names",
           "locations": [
            "Afghanistan",
            "Albania",
            "Algeria",
            "Angola",
            "Argentina",
            "Armenia",
            "Australia",
            "Austria",
            "Azerbaijan",
            "Bangladesh",
            "Belarus",
            "Belgium",
            "Belize",
            "Benin",
            "Bhutan",
            "Bosnia and Herzegovina",
            "Botswana",
            "Brazil",
            "Bulgaria",
            "Burkina Faso",
            "Burundi",
            "Cabo Verde",
            "Cambodia",
            "Cameroon",
            "Canada",
            "Central African Republic",
            "Chad",
            "Chile",
            "China",
            "Colombia",
            "Comoros",
            "Costa Rica",
            "Croatia",
            "Cyprus",
            "Djibouti",
            "Dominican Republic",
            "Ecuador",
            "El Salvador",
            "Equatorial Guinea",
            "Estonia",
            "Ethiopia",
            "Fiji",
            "France",
            "Gabon",
            "Georgia",
            "Germany",
            "Ghana",
            "Greece",
            "Guatemala",
            "Guinea",
            "Guinea-Bissau",
            "Guyana",
            "Haiti",
            "Honduras",
            "India",
            "Indonesia",
            "Iraq",
            "Ireland",
            "Israel",
            "Italy",
            "Jamaica",
            "Jordan",
            "Kazakhstan",
            "Kenya",
            "Kiribati",
            "Latvia",
            "Lebanon",
            "Lesotho",
            "Liberia",
            "Lithuania",
            "Luxembourg",
            "Madagascar",
            "Malawi",
            "Malaysia",
            "Maldives",
            "Mali",
            "Malta",
            "Mauritania",
            "Mauritius",
            "Mexico",
            "Mongolia",
            "Montenegro",
            "Morocco",
            "Mozambique",
            "Myanmar",
            "Namibia",
            "Nepal",
            "Netherlands",
            "Nicaragua",
            "Niger",
            "Nigeria",
            "Pakistan",
            "Panama",
            "Papua New Guinea",
            "Paraguay",
            "Peru",
            "Philippines",
            "Poland",
            "Portugal",
            "Romania",
            "Russian Federation",
            "Rwanda",
            "Samoa",
            "Sao Tome and Principe",
            "Senegal",
            "Serbia",
            "Seychelles",
            "Sierra Leone",
            "Solomon Islands",
            "South Africa",
            "Spain",
            "Sri Lanka",
            "Suriname",
            "Swaziland",
            "Sweden",
            "Tajikistan",
            "Thailand",
            "Timor-Leste",
            "Togo",
            "Tonga",
            "Trinidad and Tobago",
            "Tunisia",
            "Turkey",
            "Turkmenistan",
            "Uganda",
            "Ukraine",
            "Uruguay",
            "Uzbekistan",
            "Vanuatu",
            "Zambia",
            "Zimbabwe"
           ],
           "name": "",
           "type": "choropleth",
           "z": [
            58,
            98,
            95,
            68,
            92,
            95,
            92,
            98,
            97,
            97,
            97,
            99,
            95,
            74,
            98,
            86,
            96,
            96,
            88,
            91,
            95,
            95,
            87,
            86,
            91,
            47,
            44,
            95,
            99,
            9,
            87,
            91,
            95,
            99,
            78,
            9,
            84,
            93,
            24,
            93,
            75,
            99,
            98,
            68,
            91,
            94,
            93,
            99,
            65,
            42,
            87,
            97,
            55,
            97,
            84,
            8,
            67,
            96,
            95,
            95,
            93,
            98,
            95,
            93,
            79,
            92,
            75,
            9,
            49,
            93,
            99,
            73,
            87,
            97,
            99,
            74,
            99,
            84,
            98,
            87,
            99,
            91,
            99,
            79,
            88,
            88,
            92,
            96,
            99,
            67,
            49,
            72,
            8,
            64,
            83,
            78,
            77,
            94,
            98,
            94,
            97,
            98,
            58,
            95,
            85,
            93,
            99,
            83,
            94,
            77,
            97,
            99,
            85,
            98,
            98,
            94,
            99,
            76,
            85,
            82,
            94,
            98,
            96,
            98,
            82,
            45,
            95,
            99,
            65,
            78,
            92
           ]
          }
         ],
         "name": "2014"
        },
        {
         "data": [
          {
           "coloraxis": "coloraxis",
           "geo": "geo",
           "hovertemplate": "<b>%{hovertext}</b><br><br>Year=2013<br>Country=%{location}<br>Polio=%{z}<extra></extra>",
           "hovertext": [
            "Afghanistan",
            "Albania",
            "Algeria",
            "Angola",
            "Argentina",
            "Armenia",
            "Australia",
            "Austria",
            "Azerbaijan",
            "Bangladesh",
            "Belarus",
            "Belgium",
            "Belize",
            "Benin",
            "Bhutan",
            "Bosnia and Herzegovina",
            "Botswana",
            "Brazil",
            "Bulgaria",
            "Burkina Faso",
            "Burundi",
            "Cabo Verde",
            "Cambodia",
            "Cameroon",
            "Canada",
            "Central African Republic",
            "Chad",
            "Chile",
            "China",
            "Colombia",
            "Comoros",
            "Costa Rica",
            "Croatia",
            "Cyprus",
            "Djibouti",
            "Dominican Republic",
            "Ecuador",
            "El Salvador",
            "Estonia",
            "Ethiopia",
            "Fiji",
            "France",
            "Gabon",
            "Georgia",
            "Germany",
            "Ghana",
            "Greece",
            "Guatemala",
            "Guinea",
            "Guinea-Bissau",
            "Guyana",
            "Haiti",
            "Honduras",
            "India",
            "Indonesia",
            "Iraq",
            "Ireland",
            "Israel",
            "Italy",
            "Jamaica",
            "Jordan",
            "Kazakhstan",
            "Kenya",
            "Kiribati",
            "Latvia",
            "Lebanon",
            "Lesotho",
            "Liberia",
            "Lithuania",
            "Luxembourg",
            "Madagascar",
            "Malawi",
            "Malaysia",
            "Maldives",
            "Mali",
            "Malta",
            "Mauritania",
            "Mauritius",
            "Mexico",
            "Mongolia",
            "Montenegro",
            "Morocco",
            "Mozambique",
            "Myanmar",
            "Namibia",
            "Nepal",
            "Netherlands",
            "Nicaragua",
            "Niger",
            "Nigeria",
            "Pakistan",
            "Panama",
            "Papua New Guinea",
            "Paraguay",
            "Peru",
            "Philippines",
            "Poland",
            "Portugal",
            "Romania",
            "Russian Federation",
            "Rwanda",
            "Samoa",
            "Sao Tome and Principe",
            "Senegal",
            "Serbia",
            "Seychelles",
            "Sierra Leone",
            "Solomon Islands",
            "South Africa",
            "Spain",
            "Sri Lanka",
            "Suriname",
            "Swaziland",
            "Sweden",
            "Tajikistan",
            "Thailand",
            "Timor-Leste",
            "Togo",
            "Tonga",
            "Trinidad and Tobago",
            "Tunisia",
            "Turkey",
            "Turkmenistan",
            "Uganda",
            "Ukraine",
            "Uruguay",
            "Uzbekistan",
            "Vanuatu",
            "Zambia",
            "Zimbabwe"
           ],
           "locationmode": "country names",
           "locations": [
            "Afghanistan",
            "Albania",
            "Algeria",
            "Angola",
            "Argentina",
            "Armenia",
            "Australia",
            "Austria",
            "Azerbaijan",
            "Bangladesh",
            "Belarus",
            "Belgium",
            "Belize",
            "Benin",
            "Bhutan",
            "Bosnia and Herzegovina",
            "Botswana",
            "Brazil",
            "Bulgaria",
            "Burkina Faso",
            "Burundi",
            "Cabo Verde",
            "Cambodia",
            "Cameroon",
            "Canada",
            "Central African Republic",
            "Chad",
            "Chile",
            "China",
            "Colombia",
            "Comoros",
            "Costa Rica",
            "Croatia",
            "Cyprus",
            "Djibouti",
            "Dominican Republic",
            "Ecuador",
            "El Salvador",
            "Estonia",
            "Ethiopia",
            "Fiji",
            "France",
            "Gabon",
            "Georgia",
            "Germany",
            "Ghana",
            "Greece",
            "Guatemala",
            "Guinea",
            "Guinea-Bissau",
            "Guyana",
            "Haiti",
            "Honduras",
            "India",
            "Indonesia",
            "Iraq",
            "Ireland",
            "Israel",
            "Italy",
            "Jamaica",
            "Jordan",
            "Kazakhstan",
            "Kenya",
            "Kiribati",
            "Latvia",
            "Lebanon",
            "Lesotho",
            "Liberia",
            "Lithuania",
            "Luxembourg",
            "Madagascar",
            "Malawi",
            "Malaysia",
            "Maldives",
            "Mali",
            "Malta",
            "Mauritania",
            "Mauritius",
            "Mexico",
            "Mongolia",
            "Montenegro",
            "Morocco",
            "Mozambique",
            "Myanmar",
            "Namibia",
            "Nepal",
            "Netherlands",
            "Nicaragua",
            "Niger",
            "Nigeria",
            "Pakistan",
            "Panama",
            "Papua New Guinea",
            "Paraguay",
            "Peru",
            "Philippines",
            "Poland",
            "Portugal",
            "Romania",
            "Russian Federation",
            "Rwanda",
            "Samoa",
            "Sao Tome and Principe",
            "Senegal",
            "Serbia",
            "Seychelles",
            "Sierra Leone",
            "Solomon Islands",
            "South Africa",
            "Spain",
            "Sri Lanka",
            "Suriname",
            "Swaziland",
            "Sweden",
            "Tajikistan",
            "Thailand",
            "Timor-Leste",
            "Togo",
            "Tonga",
            "Trinidad and Tobago",
            "Tunisia",
            "Turkey",
            "Turkmenistan",
            "Uganda",
            "Ukraine",
            "Uruguay",
            "Uzbekistan",
            "Vanuatu",
            "Zambia",
            "Zimbabwe"
           ],
           "name": "",
           "type": "choropleth",
           "z": [
            62,
            99,
            95,
            67,
            99,
            96,
            91,
            95,
            96,
            96,
            98,
            99,
            95,
            73,
            97,
            87,
            96,
            96,
            95,
            89,
            96,
            93,
            66,
            88,
            91,
            23,
            46,
            9,
            99,
            91,
            85,
            95,
            96,
            99,
            82,
            82,
            87,
            92,
            94,
            7,
            99,
            99,
            77,
            94,
            94,
            91,
            99,
            84,
            63,
            87,
            98,
            67,
            97,
            82,
            86,
            7,
            96,
            96,
            96,
            86,
            98,
            98,
            94,
            91,
            94,
            75,
            9,
            75,
            93,
            99,
            73,
            89,
            97,
            99,
            7,
            99,
            8,
            98,
            83,
            98,
            94,
            99,
            78,
            76,
            89,
            92,
            97,
            99,
            56,
            46,
            72,
            81,
            8,
            8,
            71,
            84,
            95,
            98,
            88,
            98,
            98,
            62,
            97,
            89,
            97,
            98,
            92,
            99,
            73,
            96,
            99,
            86,
            98,
            98,
            97,
            99,
            82,
            84,
            84,
            94,
            98,
            98,
            98,
            82,
            72,
            94,
            99,
            65,
            74,
            95
           ]
          }
         ],
         "name": "2013"
        },
        {
         "data": [
          {
           "coloraxis": "coloraxis",
           "geo": "geo",
           "hovertemplate": "<b>%{hovertext}</b><br><br>Year=2012<br>Country=%{location}<br>Polio=%{z}<extra></extra>",
           "hovertext": [
            "Afghanistan",
            "Albania",
            "Algeria",
            "Angola",
            "Argentina",
            "Armenia",
            "Australia",
            "Austria",
            "Azerbaijan",
            "Bangladesh",
            "Belarus",
            "Belgium",
            "Belize",
            "Benin",
            "Bhutan",
            "Bosnia and Herzegovina",
            "Botswana",
            "Brazil",
            "Bulgaria",
            "Burkina Faso",
            "Burundi",
            "Cabo Verde",
            "Cambodia",
            "Cameroon",
            "Canada",
            "Central African Republic",
            "Chad",
            "Chile",
            "China",
            "Colombia",
            "Comoros",
            "Costa Rica",
            "Croatia",
            "Cyprus",
            "Djibouti",
            "Dominican Republic",
            "Ecuador",
            "El Salvador",
            "Estonia",
            "Ethiopia",
            "Fiji",
            "France",
            "Gabon",
            "Georgia",
            "Germany",
            "Ghana",
            "Greece",
            "Guatemala",
            "Guinea",
            "Guinea-Bissau",
            "Guyana",
            "Honduras",
            "India",
            "Indonesia",
            "Iraq",
            "Ireland",
            "Israel",
            "Italy",
            "Jamaica",
            "Jordan",
            "Kazakhstan",
            "Kenya",
            "Kiribati",
            "Latvia",
            "Lebanon",
            "Lesotho",
            "Liberia",
            "Lithuania",
            "Luxembourg",
            "Madagascar",
            "Malawi",
            "Malaysia",
            "Maldives",
            "Mali",
            "Malta",
            "Mauritania",
            "Mauritius",
            "Mexico",
            "Mongolia",
            "Montenegro",
            "Morocco",
            "Mozambique",
            "Myanmar",
            "Namibia",
            "Nepal",
            "Netherlands",
            "Nicaragua",
            "Niger",
            "Nigeria",
            "Pakistan",
            "Panama",
            "Papua New Guinea",
            "Paraguay",
            "Peru",
            "Philippines",
            "Poland",
            "Portugal",
            "Romania",
            "Russian Federation",
            "Rwanda",
            "Samoa",
            "Sao Tome and Principe",
            "Senegal",
            "Serbia",
            "Seychelles",
            "Sierra Leone",
            "Solomon Islands",
            "South Africa",
            "Spain",
            "Sri Lanka",
            "Suriname",
            "Swaziland",
            "Sweden",
            "Tajikistan",
            "Thailand",
            "Timor-Leste",
            "Togo",
            "Tonga",
            "Trinidad and Tobago",
            "Tunisia",
            "Turkey",
            "Turkmenistan",
            "Uganda",
            "Ukraine",
            "Uruguay",
            "Uzbekistan",
            "Vanuatu",
            "Zambia",
            "Zimbabwe"
           ],
           "locationmode": "country names",
           "locations": [
            "Afghanistan",
            "Albania",
            "Algeria",
            "Angola",
            "Argentina",
            "Armenia",
            "Australia",
            "Austria",
            "Azerbaijan",
            "Bangladesh",
            "Belarus",
            "Belgium",
            "Belize",
            "Benin",
            "Bhutan",
            "Bosnia and Herzegovina",
            "Botswana",
            "Brazil",
            "Bulgaria",
            "Burkina Faso",
            "Burundi",
            "Cabo Verde",
            "Cambodia",
            "Cameroon",
            "Canada",
            "Central African Republic",
            "Chad",
            "Chile",
            "China",
            "Colombia",
            "Comoros",
            "Costa Rica",
            "Croatia",
            "Cyprus",
            "Djibouti",
            "Dominican Republic",
            "Ecuador",
            "El Salvador",
            "Estonia",
            "Ethiopia",
            "Fiji",
            "France",
            "Gabon",
            "Georgia",
            "Germany",
            "Ghana",
            "Greece",
            "Guatemala",
            "Guinea",
            "Guinea-Bissau",
            "Guyana",
            "Honduras",
            "India",
            "Indonesia",
            "Iraq",
            "Ireland",
            "Israel",
            "Italy",
            "Jamaica",
            "Jordan",
            "Kazakhstan",
            "Kenya",
            "Kiribati",
            "Latvia",
            "Lebanon",
            "Lesotho",
            "Liberia",
            "Lithuania",
            "Luxembourg",
            "Madagascar",
            "Malawi",
            "Malaysia",
            "Maldives",
            "Mali",
            "Malta",
            "Mauritania",
            "Mauritius",
            "Mexico",
            "Mongolia",
            "Montenegro",
            "Morocco",
            "Mozambique",
            "Myanmar",
            "Namibia",
            "Nepal",
            "Netherlands",
            "Nicaragua",
            "Niger",
            "Nigeria",
            "Pakistan",
            "Panama",
            "Papua New Guinea",
            "Paraguay",
            "Peru",
            "Philippines",
            "Poland",
            "Portugal",
            "Romania",
            "Russian Federation",
            "Rwanda",
            "Samoa",
            "Sao Tome and Principe",
            "Senegal",
            "Serbia",
            "Seychelles",
            "Sierra Leone",
            "Solomon Islands",
            "South Africa",
            "Spain",
            "Sri Lanka",
            "Suriname",
            "Swaziland",
            "Sweden",
            "Tajikistan",
            "Thailand",
            "Timor-Leste",
            "Togo",
            "Tonga",
            "Trinidad and Tobago",
            "Tunisia",
            "Turkey",
            "Turkmenistan",
            "Uganda",
            "Ukraine",
            "Uruguay",
            "Uzbekistan",
            "Vanuatu",
            "Zambia",
            "Zimbabwe"
           ],
           "name": "",
           "type": "choropleth",
           "z": [
            67,
            99,
            95,
            75,
            99,
            96,
            92,
            92,
            92,
            94,
            98,
            99,
            98,
            8,
            97,
            87,
            96,
            96,
            95,
            9,
            96,
            94,
            84,
            85,
            99,
            47,
            51,
            9,
            99,
            91,
            85,
            9,
            96,
            99,
            81,
            85,
            85,
            93,
            94,
            7,
            99,
            99,
            8,
            93,
            94,
            91,
            99,
            94,
            63,
            87,
            97,
            97,
            79,
            84,
            7,
            95,
            94,
            96,
            96,
            98,
            98,
            94,
            92,
            91,
            75,
            93,
            8,
            93,
            99,
            71,
            95,
            97,
            99,
            72,
            99,
            8,
            98,
            99,
            99,
            94,
            99,
            73,
            87,
            84,
            9,
            97,
            99,
            71,
            42,
            72,
            87,
            81,
            83,
            94,
            88,
            95,
            98,
            92,
            98,
            98,
            62,
            96,
            83,
            93,
            98,
            91,
            99,
            65,
            97,
            99,
            84,
            92,
            98,
            96,
            99,
            83,
            84,
            79,
            91,
            97,
            97,
            98,
            82,
            72,
            95,
            99,
            65,
            7,
            95
           ]
          }
         ],
         "name": "2012"
        },
        {
         "data": [
          {
           "coloraxis": "coloraxis",
           "geo": "geo",
           "hovertemplate": "<b>%{hovertext}</b><br><br>Year=2011<br>Country=%{location}<br>Polio=%{z}<extra></extra>",
           "hovertext": [
            "Afghanistan",
            "Albania",
            "Algeria",
            "Angola",
            "Argentina",
            "Armenia",
            "Australia",
            "Austria",
            "Azerbaijan",
            "Bangladesh",
            "Belarus",
            "Belgium",
            "Belize",
            "Benin",
            "Bhutan",
            "Bosnia and Herzegovina",
            "Botswana",
            "Brazil",
            "Bulgaria",
            "Burkina Faso",
            "Burundi",
            "Cabo Verde",
            "Cambodia",
            "Cameroon",
            "Canada",
            "Central African Republic",
            "Chad",
            "Chile",
            "China",
            "Colombia",
            "Comoros",
            "Costa Rica",
            "Croatia",
            "Cyprus",
            "Djibouti",
            "Dominican Republic",
            "Ecuador",
            "El Salvador",
            "Eritrea",
            "Estonia",
            "Ethiopia",
            "Fiji",
            "France",
            "Gabon",
            "Georgia",
            "Germany",
            "Ghana",
            "Greece",
            "Guatemala",
            "Guinea",
            "Guinea-Bissau",
            "Guyana",
            "Honduras",
            "India",
            "Indonesia",
            "Iraq",
            "Ireland",
            "Israel",
            "Italy",
            "Jamaica",
            "Jordan",
            "Kazakhstan",
            "Kenya",
            "Kiribati",
            "Latvia",
            "Lebanon",
            "Lesotho",
            "Liberia",
            "Lithuania",
            "Luxembourg",
            "Madagascar",
            "Malawi",
            "Malaysia",
            "Maldives",
            "Mali",
            "Malta",
            "Mauritania",
            "Mauritius",
            "Mexico",
            "Mongolia",
            "Montenegro",
            "Morocco",
            "Mozambique",
            "Myanmar",
            "Namibia",
            "Nepal",
            "Netherlands",
            "Nicaragua",
            "Niger",
            "Nigeria",
            "Pakistan",
            "Panama",
            "Papua New Guinea",
            "Paraguay",
            "Peru",
            "Philippines",
            "Poland",
            "Portugal",
            "Romania",
            "Russian Federation",
            "Rwanda",
            "Samoa",
            "Sao Tome and Principe",
            "Senegal",
            "Serbia",
            "Seychelles",
            "Sierra Leone",
            "Solomon Islands",
            "South Africa",
            "Spain",
            "Sri Lanka",
            "Suriname",
            "Swaziland",
            "Sweden",
            "Tajikistan",
            "Thailand",
            "Timor-Leste",
            "Togo",
            "Tonga",
            "Trinidad and Tobago",
            "Tunisia",
            "Turkey",
            "Turkmenistan",
            "Uganda",
            "Ukraine",
            "Uruguay",
            "Uzbekistan",
            "Vanuatu",
            "Zambia",
            "Zimbabwe"
           ],
           "locationmode": "country names",
           "locations": [
            "Afghanistan",
            "Albania",
            "Algeria",
            "Angola",
            "Argentina",
            "Armenia",
            "Australia",
            "Austria",
            "Azerbaijan",
            "Bangladesh",
            "Belarus",
            "Belgium",
            "Belize",
            "Benin",
            "Bhutan",
            "Bosnia and Herzegovina",
            "Botswana",
            "Brazil",
            "Bulgaria",
            "Burkina Faso",
            "Burundi",
            "Cabo Verde",
            "Cambodia",
            "Cameroon",
            "Canada",
            "Central African Republic",
            "Chad",
            "Chile",
            "China",
            "Colombia",
            "Comoros",
            "Costa Rica",
            "Croatia",
            "Cyprus",
            "Djibouti",
            "Dominican Republic",
            "Ecuador",
            "El Salvador",
            "Eritrea",
            "Estonia",
            "Ethiopia",
            "Fiji",
            "France",
            "Gabon",
            "Georgia",
            "Germany",
            "Ghana",
            "Greece",
            "Guatemala",
            "Guinea",
            "Guinea-Bissau",
            "Guyana",
            "Honduras",
            "India",
            "Indonesia",
            "Iraq",
            "Ireland",
            "Israel",
            "Italy",
            "Jamaica",
            "Jordan",
            "Kazakhstan",
            "Kenya",
            "Kiribati",
            "Latvia",
            "Lebanon",
            "Lesotho",
            "Liberia",
            "Lithuania",
            "Luxembourg",
            "Madagascar",
            "Malawi",
            "Malaysia",
            "Maldives",
            "Mali",
            "Malta",
            "Mauritania",
            "Mauritius",
            "Mexico",
            "Mongolia",
            "Montenegro",
            "Morocco",
            "Mozambique",
            "Myanmar",
            "Namibia",
            "Nepal",
            "Netherlands",
            "Nicaragua",
            "Niger",
            "Nigeria",
            "Pakistan",
            "Panama",
            "Papua New Guinea",
            "Paraguay",
            "Peru",
            "Philippines",
            "Poland",
            "Portugal",
            "Romania",
            "Russian Federation",
            "Rwanda",
            "Samoa",
            "Sao Tome and Principe",
            "Senegal",
            "Serbia",
            "Seychelles",
            "Sierra Leone",
            "Solomon Islands",
            "South Africa",
            "Spain",
            "Sri Lanka",
            "Suriname",
            "Swaziland",
            "Sweden",
            "Tajikistan",
            "Thailand",
            "Timor-Leste",
            "Togo",
            "Tonga",
            "Trinidad and Tobago",
            "Tunisia",
            "Turkey",
            "Turkmenistan",
            "Uganda",
            "Ukraine",
            "Uruguay",
            "Uzbekistan",
            "Vanuatu",
            "Zambia",
            "Zimbabwe"
           ],
           "name": "",
           "type": "choropleth",
           "z": [
            68,
            99,
            95,
            73,
            93,
            96,
            92,
            89,
            91,
            96,
            98,
            98,
            95,
            77,
            95,
            89,
            96,
            98,
            95,
            9,
            95,
            9,
            87,
            8,
            87,
            47,
            4,
            93,
            99,
            85,
            85,
            82,
            96,
            99,
            87,
            84,
            85,
            9,
            96,
            93,
            7,
            99,
            99,
            75,
            88,
            94,
            91,
            99,
            88,
            63,
            85,
            93,
            97,
            79,
            81,
            8,
            95,
            94,
            96,
            93,
            98,
            99,
            97,
            95,
            92,
            75,
            95,
            77,
            92,
            96,
            73,
            97,
            96,
            96,
            72,
            96,
            73,
            98,
            97,
            99,
            95,
            98,
            73,
            9,
            85,
            92,
            97,
            99,
            4,
            48,
            75,
            91,
            69,
            84,
            91,
            87,
            96,
            97,
            89,
            97,
            93,
            6,
            96,
            89,
            94,
            99,
            88,
            99,
            69,
            97,
            99,
            86,
            85,
            98,
            97,
            99,
            66,
            85,
            84,
            91,
            98,
            97,
            97,
            82,
            54,
            95,
            99,
            65,
            83,
            93
           ]
          }
         ],
         "name": "2011"
        },
        {
         "data": [
          {
           "coloraxis": "coloraxis",
           "geo": "geo",
           "hovertemplate": "<b>%{hovertext}</b><br><br>Year=2010<br>Country=%{location}<br>Polio=%{z}<extra></extra>",
           "hovertext": [
            "Afghanistan",
            "Albania",
            "Algeria",
            "Angola",
            "Argentina",
            "Armenia",
            "Australia",
            "Austria",
            "Azerbaijan",
            "Bangladesh",
            "Belarus",
            "Belgium",
            "Belize",
            "Benin",
            "Bhutan",
            "Bosnia and Herzegovina",
            "Botswana",
            "Brazil",
            "Bulgaria",
            "Burkina Faso",
            "Burundi",
            "Cabo Verde",
            "Cambodia",
            "Cameroon",
            "Canada",
            "Central African Republic",
            "Chad",
            "Chile",
            "China",
            "Colombia",
            "Comoros",
            "Costa Rica",
            "Croatia",
            "Cyprus",
            "Djibouti",
            "Dominican Republic",
            "Ecuador",
            "El Salvador",
            "Eritrea",
            "Estonia",
            "Ethiopia",
            "Fiji",
            "France",
            "Gabon",
            "Georgia",
            "Germany",
            "Ghana",
            "Greece",
            "Guatemala",
            "Guinea",
            "Guinea-Bissau",
            "Guyana",
            "Honduras",
            "India",
            "Indonesia",
            "Iraq",
            "Ireland",
            "Israel",
            "Italy",
            "Jamaica",
            "Jordan",
            "Kazakhstan",
            "Kenya",
            "Kiribati",
            "Latvia",
            "Lebanon",
            "Lesotho",
            "Liberia",
            "Lithuania",
            "Luxembourg",
            "Madagascar",
            "Malawi",
            "Malaysia",
            "Maldives",
            "Mali",
            "Malta",
            "Mauritania",
            "Mauritius",
            "Mexico",
            "Mongolia",
            "Montenegro",
            "Morocco",
            "Mozambique",
            "Myanmar",
            "Namibia",
            "Nepal",
            "Nicaragua",
            "Niger",
            "Nigeria",
            "Pakistan",
            "Panama",
            "Papua New Guinea",
            "Paraguay",
            "Peru",
            "Philippines",
            "Poland",
            "Portugal",
            "Romania",
            "Russian Federation",
            "Rwanda",
            "Samoa",
            "Sao Tome and Principe",
            "Senegal",
            "Serbia",
            "Seychelles",
            "Sierra Leone",
            "Solomon Islands",
            "South Africa",
            "Spain",
            "Sri Lanka",
            "Suriname",
            "Swaziland",
            "Tajikistan",
            "Thailand",
            "Timor-Leste",
            "Togo",
            "Tonga",
            "Trinidad and Tobago",
            "Tunisia",
            "Turkey",
            "Turkmenistan",
            "Uganda",
            "Ukraine",
            "Uruguay",
            "Uzbekistan",
            "Vanuatu",
            "Zambia",
            "Zimbabwe"
           ],
           "locationmode": "country names",
           "locations": [
            "Afghanistan",
            "Albania",
            "Algeria",
            "Angola",
            "Argentina",
            "Armenia",
            "Australia",
            "Austria",
            "Azerbaijan",
            "Bangladesh",
            "Belarus",
            "Belgium",
            "Belize",
            "Benin",
            "Bhutan",
            "Bosnia and Herzegovina",
            "Botswana",
            "Brazil",
            "Bulgaria",
            "Burkina Faso",
            "Burundi",
            "Cabo Verde",
            "Cambodia",
            "Cameroon",
            "Canada",
            "Central African Republic",
            "Chad",
            "Chile",
            "China",
            "Colombia",
            "Comoros",
            "Costa Rica",
            "Croatia",
            "Cyprus",
            "Djibouti",
            "Dominican Republic",
            "Ecuador",
            "El Salvador",
            "Eritrea",
            "Estonia",
            "Ethiopia",
            "Fiji",
            "France",
            "Gabon",
            "Georgia",
            "Germany",
            "Ghana",
            "Greece",
            "Guatemala",
            "Guinea",
            "Guinea-Bissau",
            "Guyana",
            "Honduras",
            "India",
            "Indonesia",
            "Iraq",
            "Ireland",
            "Israel",
            "Italy",
            "Jamaica",
            "Jordan",
            "Kazakhstan",
            "Kenya",
            "Kiribati",
            "Latvia",
            "Lebanon",
            "Lesotho",
            "Liberia",
            "Lithuania",
            "Luxembourg",
            "Madagascar",
            "Malawi",
            "Malaysia",
            "Maldives",
            "Mali",
            "Malta",
            "Mauritania",
            "Mauritius",
            "Mexico",
            "Mongolia",
            "Montenegro",
            "Morocco",
            "Mozambique",
            "Myanmar",
            "Namibia",
            "Nepal",
            "Nicaragua",
            "Niger",
            "Nigeria",
            "Pakistan",
            "Panama",
            "Papua New Guinea",
            "Paraguay",
            "Peru",
            "Philippines",
            "Poland",
            "Portugal",
            "Romania",
            "Russian Federation",
            "Rwanda",
            "Samoa",
            "Sao Tome and Principe",
            "Senegal",
            "Serbia",
            "Seychelles",
            "Sierra Leone",
            "Solomon Islands",
            "South Africa",
            "Spain",
            "Sri Lanka",
            "Suriname",
            "Swaziland",
            "Tajikistan",
            "Thailand",
            "Timor-Leste",
            "Togo",
            "Tonga",
            "Trinidad and Tobago",
            "Tunisia",
            "Turkey",
            "Turkmenistan",
            "Uganda",
            "Ukraine",
            "Uruguay",
            "Uzbekistan",
            "Vanuatu",
            "Zambia",
            "Zimbabwe"
           ],
           "name": "",
           "type": "choropleth",
           "z": [
            66,
            99,
            95,
            81,
            95,
            96,
            92,
            86,
            85,
            94,
            99,
            98,
            96,
            77,
            92,
            9,
            96,
            99,
            94,
            9,
            94,
            99,
            88,
            83,
            88,
            46,
            43,
            92,
            99,
            88,
            82,
            93,
            97,
            99,
            88,
            85,
            88,
            89,
            9,
            94,
            69,
            99,
            99,
            68,
            88,
            94,
            94,
            99,
            94,
            62,
            82,
            95,
            97,
            76,
            82,
            74,
            94,
            95,
            96,
            94,
            98,
            98,
            9,
            95,
            92,
            75,
            92,
            71,
            95,
            96,
            7,
            86,
            96,
            97,
            77,
            76,
            52,
            99,
            95,
            96,
            93,
            99,
            73,
            9,
            83,
            83,
            99,
            75,
            54,
            82,
            95,
            72,
            85,
            92,
            78,
            96,
            97,
            94,
            98,
            93,
            57,
            98,
            76,
            91,
            99,
            84,
            94,
            72,
            97,
            99,
            96,
            89,
            95,
            99,
            72,
            83,
            84,
            91,
            98,
            97,
            96,
            79,
            57,
            95,
            99,
            66,
            8,
            89
           ]
          }
         ],
         "name": "2010"
        },
        {
         "data": [
          {
           "coloraxis": "coloraxis",
           "geo": "geo",
           "hovertemplate": "<b>%{hovertext}</b><br><br>Year=2009<br>Country=%{location}<br>Polio=%{z}<extra></extra>",
           "hovertext": [
            "Afghanistan",
            "Albania",
            "Algeria",
            "Angola",
            "Argentina",
            "Armenia",
            "Australia",
            "Austria",
            "Azerbaijan",
            "Bangladesh",
            "Belarus",
            "Belgium",
            "Belize",
            "Benin",
            "Bhutan",
            "Bosnia and Herzegovina",
            "Botswana",
            "Brazil",
            "Bulgaria",
            "Burkina Faso",
            "Burundi",
            "Cabo Verde",
            "Cambodia",
            "Cameroon",
            "Canada",
            "Central African Republic",
            "Chad",
            "Chile",
            "China",
            "Colombia",
            "Comoros",
            "Costa Rica",
            "Croatia",
            "Cyprus",
            "Djibouti",
            "Dominican Republic",
            "Ecuador",
            "El Salvador",
            "Eritrea",
            "Estonia",
            "Ethiopia",
            "Fiji",
            "France",
            "Gabon",
            "Georgia",
            "Germany",
            "Ghana",
            "Greece",
            "Guatemala",
            "Guinea",
            "Guinea-Bissau",
            "Guyana",
            "Honduras",
            "India",
            "Indonesia",
            "Iraq",
            "Israel",
            "Italy",
            "Jamaica",
            "Jordan",
            "Kazakhstan",
            "Kenya",
            "Kiribati",
            "Latvia",
            "Lebanon",
            "Lesotho",
            "Liberia",
            "Lithuania",
            "Luxembourg",
            "Madagascar",
            "Malawi",
            "Malaysia",
            "Maldives",
            "Mali",
            "Malta",
            "Mauritania",
            "Mauritius",
            "Mexico",
            "Mongolia",
            "Montenegro",
            "Morocco",
            "Mozambique",
            "Myanmar",
            "Nepal",
            "Nicaragua",
            "Niger",
            "Nigeria",
            "Pakistan",
            "Panama",
            "Papua New Guinea",
            "Paraguay",
            "Peru",
            "Philippines",
            "Poland",
            "Portugal",
            "Romania",
            "Russian Federation",
            "Rwanda",
            "Samoa",
            "Sao Tome and Principe",
            "Senegal",
            "Serbia",
            "Seychelles",
            "Sierra Leone",
            "Solomon Islands",
            "South Africa",
            "Spain",
            "Sri Lanka",
            "Suriname",
            "Swaziland",
            "Tajikistan",
            "Thailand",
            "Timor-Leste",
            "Togo",
            "Tonga",
            "Trinidad and Tobago",
            "Tunisia",
            "Turkey",
            "Turkmenistan",
            "Uganda",
            "Ukraine",
            "Uruguay",
            "Uzbekistan",
            "Vanuatu",
            "Zambia",
            "Zimbabwe"
           ],
           "locationmode": "country names",
           "locations": [
            "Afghanistan",
            "Albania",
            "Algeria",
            "Angola",
            "Argentina",
            "Armenia",
            "Australia",
            "Austria",
            "Azerbaijan",
            "Bangladesh",
            "Belarus",
            "Belgium",
            "Belize",
            "Benin",
            "Bhutan",
            "Bosnia and Herzegovina",
            "Botswana",
            "Brazil",
            "Bulgaria",
            "Burkina Faso",
            "Burundi",
            "Cabo Verde",
            "Cambodia",
            "Cameroon",
            "Canada",
            "Central African Republic",
            "Chad",
            "Chile",
            "China",
            "Colombia",
            "Comoros",
            "Costa Rica",
            "Croatia",
            "Cyprus",
            "Djibouti",
            "Dominican Republic",
            "Ecuador",
            "El Salvador",
            "Eritrea",
            "Estonia",
            "Ethiopia",
            "Fiji",
            "France",
            "Gabon",
            "Georgia",
            "Germany",
            "Ghana",
            "Greece",
            "Guatemala",
            "Guinea",
            "Guinea-Bissau",
            "Guyana",
            "Honduras",
            "India",
            "Indonesia",
            "Iraq",
            "Israel",
            "Italy",
            "Jamaica",
            "Jordan",
            "Kazakhstan",
            "Kenya",
            "Kiribati",
            "Latvia",
            "Lebanon",
            "Lesotho",
            "Liberia",
            "Lithuania",
            "Luxembourg",
            "Madagascar",
            "Malawi",
            "Malaysia",
            "Maldives",
            "Mali",
            "Malta",
            "Mauritania",
            "Mauritius",
            "Mexico",
            "Mongolia",
            "Montenegro",
            "Morocco",
            "Mozambique",
            "Myanmar",
            "Nepal",
            "Nicaragua",
            "Niger",
            "Nigeria",
            "Pakistan",
            "Panama",
            "Papua New Guinea",
            "Paraguay",
            "Peru",
            "Philippines",
            "Poland",
            "Portugal",
            "Romania",
            "Russian Federation",
            "Rwanda",
            "Samoa",
            "Sao Tome and Principe",
            "Senegal",
            "Serbia",
            "Seychelles",
            "Sierra Leone",
            "Solomon Islands",
            "South Africa",
            "Spain",
            "Sri Lanka",
            "Suriname",
            "Swaziland",
            "Tajikistan",
            "Thailand",
            "Timor-Leste",
            "Togo",
            "Tonga",
            "Trinidad and Tobago",
            "Tunisia",
            "Turkey",
            "Turkmenistan",
            "Uganda",
            "Ukraine",
            "Uruguay",
            "Uzbekistan",
            "Vanuatu",
            "Zambia",
            "Zimbabwe"
           ],
           "name": "",
           "type": "choropleth",
           "z": [
            63,
            98,
            94,
            63,
            97,
            94,
            92,
            83,
            84,
            97,
            98,
            98,
            98,
            8,
            93,
            9,
            96,
            99,
            94,
            91,
            96,
            99,
            95,
            79,
            89,
            45,
            32,
            94,
            99,
            92,
            84,
            8,
            96,
            99,
            89,
            85,
            91,
            91,
            92,
            95,
            65,
            99,
            98,
            74,
            93,
            95,
            94,
            99,
            92,
            6,
            78,
            97,
            97,
            73,
            85,
            78,
            96,
            96,
            9,
            98,
            99,
            89,
            84,
            94,
            75,
            89,
            84,
            98,
            96,
            76,
            93,
            97,
            98,
            77,
            73,
            63,
            99,
            95,
            96,
            91,
            99,
            74,
            9,
            93,
            99,
            71,
            66,
            7,
            85,
            79,
            81,
            92,
            86,
            96,
            96,
            95,
            98,
            93,
            45,
            99,
            83,
            97,
            99,
            81,
            98,
            75,
            96,
            97,
            85,
            89,
            93,
            99,
            78,
            78,
            86,
            9,
            99,
            96,
            97,
            78,
            74,
            95,
            99,
            66,
            93,
            69
           ]
          }
         ],
         "name": "2009"
        },
        {
         "data": [
          {
           "coloraxis": "coloraxis",
           "geo": "geo",
           "hovertemplate": "<b>%{hovertext}</b><br><br>Year=2008<br>Country=%{location}<br>Polio=%{z}<extra></extra>",
           "hovertext": [
            "Afghanistan",
            "Albania",
            "Algeria",
            "Angola",
            "Argentina",
            "Armenia",
            "Australia",
            "Austria",
            "Azerbaijan",
            "Bangladesh",
            "Belarus",
            "Belgium",
            "Belize",
            "Benin",
            "Bhutan",
            "Bosnia and Herzegovina",
            "Botswana",
            "Brazil",
            "Bulgaria",
            "Burkina Faso",
            "Burundi",
            "Cabo Verde",
            "Cambodia",
            "Cameroon",
            "Canada",
            "Chad",
            "Chile",
            "China",
            "Colombia",
            "Comoros",
            "Costa Rica",
            "Croatia",
            "Cyprus",
            "Djibouti",
            "Dominican Republic",
            "Ecuador",
            "El Salvador",
            "Eritrea",
            "Estonia",
            "Ethiopia",
            "Fiji",
            "France",
            "Gabon",
            "Georgia",
            "Germany",
            "Ghana",
            "Greece",
            "Guatemala",
            "Guinea",
            "Guyana",
            "Honduras",
            "India",
            "Indonesia",
            "Iraq",
            "Israel",
            "Italy",
            "Jamaica",
            "Jordan",
            "Kazakhstan",
            "Kenya",
            "Kiribati",
            "Latvia",
            "Lebanon",
            "Lesotho",
            "Liberia",
            "Lithuania",
            "Luxembourg",
            "Madagascar",
            "Malawi",
            "Malaysia",
            "Maldives",
            "Mali",
            "Malta",
            "Mauritania",
            "Mauritius",
            "Mexico",
            "Mongolia",
            "Montenegro",
            "Morocco",
            "Mozambique",
            "Myanmar",
            "Nepal",
            "Nicaragua",
            "Nigeria",
            "Pakistan",
            "Panama",
            "Papua New Guinea",
            "Paraguay",
            "Peru",
            "Philippines",
            "Poland",
            "Portugal",
            "Romania",
            "Russian Federation",
            "Rwanda",
            "Samoa",
            "Sao Tome and Principe",
            "Senegal",
            "Serbia",
            "Seychelles",
            "Sierra Leone",
            "Solomon Islands",
            "South Africa",
            "Spain",
            "Sri Lanka",
            "Suriname",
            "Swaziland",
            "Tajikistan",
            "Thailand",
            "Timor-Leste",
            "Togo",
            "Tonga",
            "Trinidad and Tobago",
            "Tunisia",
            "Turkey",
            "Turkmenistan",
            "Uganda",
            "Ukraine",
            "Uruguay",
            "Uzbekistan",
            "Vanuatu",
            "Zambia",
            "Zimbabwe"
           ],
           "locationmode": "country names",
           "locations": [
            "Afghanistan",
            "Albania",
            "Algeria",
            "Angola",
            "Argentina",
            "Armenia",
            "Australia",
            "Austria",
            "Azerbaijan",
            "Bangladesh",
            "Belarus",
            "Belgium",
            "Belize",
            "Benin",
            "Bhutan",
            "Bosnia and Herzegovina",
            "Botswana",
            "Brazil",
            "Bulgaria",
            "Burkina Faso",
            "Burundi",
            "Cabo Verde",
            "Cambodia",
            "Cameroon",
            "Canada",
            "Chad",
            "Chile",
            "China",
            "Colombia",
            "Comoros",
            "Costa Rica",
            "Croatia",
            "Cyprus",
            "Djibouti",
            "Dominican Republic",
            "Ecuador",
            "El Salvador",
            "Eritrea",
            "Estonia",
            "Ethiopia",
            "Fiji",
            "France",
            "Gabon",
            "Georgia",
            "Germany",
            "Ghana",
            "Greece",
            "Guatemala",
            "Guinea",
            "Guyana",
            "Honduras",
            "India",
            "Indonesia",
            "Iraq",
            "Israel",
            "Italy",
            "Jamaica",
            "Jordan",
            "Kazakhstan",
            "Kenya",
            "Kiribati",
            "Latvia",
            "Lebanon",
            "Lesotho",
            "Liberia",
            "Lithuania",
            "Luxembourg",
            "Madagascar",
            "Malawi",
            "Malaysia",
            "Maldives",
            "Mali",
            "Malta",
            "Mauritania",
            "Mauritius",
            "Mexico",
            "Mongolia",
            "Montenegro",
            "Morocco",
            "Mozambique",
            "Myanmar",
            "Nepal",
            "Nicaragua",
            "Nigeria",
            "Pakistan",
            "Panama",
            "Papua New Guinea",
            "Paraguay",
            "Peru",
            "Philippines",
            "Poland",
            "Portugal",
            "Romania",
            "Russian Federation",
            "Rwanda",
            "Samoa",
            "Sao Tome and Principe",
            "Senegal",
            "Serbia",
            "Seychelles",
            "Sierra Leone",
            "Solomon Islands",
            "South Africa",
            "Spain",
            "Sri Lanka",
            "Suriname",
            "Swaziland",
            "Tajikistan",
            "Thailand",
            "Timor-Leste",
            "Togo",
            "Tonga",
            "Trinidad and Tobago",
            "Tunisia",
            "Turkey",
            "Turkmenistan",
            "Uganda",
            "Ukraine",
            "Uruguay",
            "Uzbekistan",
            "Vanuatu",
            "Zambia",
            "Zimbabwe"
           ],
           "name": "",
           "type": "choropleth",
           "z": [
            64,
            99,
            92,
            65,
            94,
            91,
            92,
            83,
            85,
            96,
            98,
            99,
            94,
            77,
            96,
            92,
            96,
            99,
            96,
            92,
            89,
            99,
            91,
            82,
            89,
            3,
            95,
            99,
            92,
            81,
            89,
            96,
            97,
            89,
            86,
            94,
            98,
            94,
            95,
            63,
            99,
            98,
            81,
            9,
            95,
            92,
            99,
            96,
            59,
            93,
            93,
            69,
            83,
            71,
            94,
            96,
            91,
            98,
            99,
            88,
            74,
            94,
            75,
            86,
            79,
            96,
            96,
            77,
            92,
            97,
            98,
            74,
            72,
            73,
            99,
            96,
            95,
            95,
            99,
            74,
            85,
            82,
            97,
            6,
            7,
            86,
            76,
            85,
            93,
            91,
            96,
            97,
            95,
            98,
            97,
            54,
            99,
            87,
            95,
            99,
            75,
            94,
            77,
            97,
            98,
            85,
            89,
            87,
            99,
            79,
            8,
            88,
            91,
            99,
            96,
            96,
            69,
            91,
            94,
            98,
            66,
            9,
            75
           ]
          }
         ],
         "name": "2008"
        },
        {
         "data": [
          {
           "coloraxis": "coloraxis",
           "geo": "geo",
           "hovertemplate": "<b>%{hovertext}</b><br><br>Year=2007<br>Country=%{location}<br>Polio=%{z}<extra></extra>",
           "hovertext": [
            "Afghanistan",
            "Albania",
            "Algeria",
            "Angola",
            "Argentina",
            "Armenia",
            "Australia",
            "Austria",
            "Azerbaijan",
            "Bangladesh",
            "Belarus",
            "Belgium",
            "Belize",
            "Benin",
            "Bhutan",
            "Bosnia and Herzegovina",
            "Botswana",
            "Brazil",
            "Bulgaria",
            "Burkina Faso",
            "Burundi",
            "Cabo Verde",
            "Cambodia",
            "Cameroon",
            "Canada",
            "Chile",
            "China",
            "Colombia",
            "Comoros",
            "Costa Rica",
            "Croatia",
            "Cyprus",
            "Djibouti",
            "Dominican Republic",
            "Ecuador",
            "El Salvador",
            "Eritrea",
            "Estonia",
            "Ethiopia",
            "Fiji",
            "France",
            "Gabon",
            "Georgia",
            "Germany",
            "Ghana",
            "Greece",
            "Guatemala",
            "Guinea",
            "Guyana",
            "Honduras",
            "India",
            "Indonesia",
            "Iraq",
            "Israel",
            "Italy",
            "Jamaica",
            "Jordan",
            "Kazakhstan",
            "Kenya",
            "Kiribati",
            "Latvia",
            "Lebanon",
            "Lesotho",
            "Lithuania",
            "Luxembourg",
            "Madagascar",
            "Malawi",
            "Malaysia",
            "Maldives",
            "Mali",
            "Malta",
            "Mauritania",
            "Mauritius",
            "Mexico",
            "Mongolia",
            "Montenegro",
            "Morocco",
            "Mozambique",
            "Myanmar",
            "Nepal",
            "Nicaragua",
            "Nigeria",
            "Pakistan",
            "Panama",
            "Papua New Guinea",
            "Paraguay",
            "Peru",
            "Philippines",
            "Poland",
            "Portugal",
            "Romania",
            "Russian Federation",
            "Rwanda",
            "Samoa",
            "Sao Tome and Principe",
            "Senegal",
            "Serbia",
            "Seychelles",
            "Sierra Leone",
            "Solomon Islands",
            "South Africa",
            "Spain",
            "Sri Lanka",
            "Suriname",
            "Swaziland",
            "Syrian Arab Republic",
            "Tajikistan",
            "Thailand",
            "Tonga",
            "Trinidad and Tobago",
            "Tunisia",
            "Turkey",
            "Turkmenistan",
            "Uganda",
            "Ukraine",
            "Uruguay",
            "Uzbekistan",
            "Vanuatu",
            "Zambia",
            "Zimbabwe"
           ],
           "locationmode": "country names",
           "locations": [
            "Afghanistan",
            "Albania",
            "Algeria",
            "Angola",
            "Argentina",
            "Armenia",
            "Australia",
            "Austria",
            "Azerbaijan",
            "Bangladesh",
            "Belarus",
            "Belgium",
            "Belize",
            "Benin",
            "Bhutan",
            "Bosnia and Herzegovina",
            "Botswana",
            "Brazil",
            "Bulgaria",
            "Burkina Faso",
            "Burundi",
            "Cabo Verde",
            "Cambodia",
            "Cameroon",
            "Canada",
            "Chile",
            "China",
            "Colombia",
            "Comoros",
            "Costa Rica",
            "Croatia",
            "Cyprus",
            "Djibouti",
            "Dominican Republic",
            "Ecuador",
            "El Salvador",
            "Eritrea",
            "Estonia",
            "Ethiopia",
            "Fiji",
            "France",
            "Gabon",
            "Georgia",
            "Germany",
            "Ghana",
            "Greece",
            "Guatemala",
            "Guinea",
            "Guyana",
            "Honduras",
            "India",
            "Indonesia",
            "Iraq",
            "Israel",
            "Italy",
            "Jamaica",
            "Jordan",
            "Kazakhstan",
            "Kenya",
            "Kiribati",
            "Latvia",
            "Lebanon",
            "Lesotho",
            "Lithuania",
            "Luxembourg",
            "Madagascar",
            "Malawi",
            "Malaysia",
            "Maldives",
            "Mali",
            "Malta",
            "Mauritania",
            "Mauritius",
            "Mexico",
            "Mongolia",
            "Montenegro",
            "Morocco",
            "Mozambique",
            "Myanmar",
            "Nepal",
            "Nicaragua",
            "Nigeria",
            "Pakistan",
            "Panama",
            "Papua New Guinea",
            "Paraguay",
            "Peru",
            "Philippines",
            "Poland",
            "Portugal",
            "Romania",
            "Russian Federation",
            "Rwanda",
            "Samoa",
            "Sao Tome and Principe",
            "Senegal",
            "Serbia",
            "Seychelles",
            "Sierra Leone",
            "Solomon Islands",
            "South Africa",
            "Spain",
            "Sri Lanka",
            "Suriname",
            "Swaziland",
            "Syrian Arab Republic",
            "Tajikistan",
            "Thailand",
            "Tonga",
            "Trinidad and Tobago",
            "Tunisia",
            "Turkey",
            "Turkmenistan",
            "Uganda",
            "Ukraine",
            "Uruguay",
            "Uzbekistan",
            "Vanuatu",
            "Zambia",
            "Zimbabwe"
           ],
           "name": "",
           "type": "choropleth",
           "z": [
            63,
            99,
            95,
            75,
            92,
            9,
            92,
            85,
            81,
            96,
            9,
            99,
            97,
            82,
            93,
            95,
            96,
            99,
            95,
            93,
            93,
            98,
            82,
            81,
            9,
            95,
            94,
            93,
            75,
            89,
            96,
            97,
            88,
            86,
            95,
            99,
            91,
            95,
            61,
            99,
            99,
            78,
            88,
            95,
            94,
            99,
            85,
            46,
            94,
            94,
            67,
            77,
            74,
            95,
            97,
            94,
            98,
            94,
            76,
            93,
            94,
            75,
            87,
            95,
            96,
            83,
            88,
            97,
            98,
            76,
            76,
            75,
            96,
            98,
            99,
            92,
            95,
            75,
            84,
            82,
            93,
            54,
            75,
            84,
            72,
            95,
            93,
            87,
            99,
            96,
            96,
            98,
            98,
            49,
            98,
            93,
            93,
            99,
            63,
            93,
            79,
            96,
            98,
            84,
            88,
            83,
            85,
            98,
            88,
            9,
            98,
            96,
            98,
            7,
            98,
            94,
            98,
            67,
            77,
            73
           ]
          }
         ],
         "name": "2007"
        },
        {
         "data": [
          {
           "coloraxis": "coloraxis",
           "geo": "geo",
           "hovertemplate": "<b>%{hovertext}</b><br><br>Year=2006<br>Country=%{location}<br>Polio=%{z}<extra></extra>",
           "hovertext": [
            "Afghanistan",
            "Albania",
            "Algeria",
            "Argentina",
            "Armenia",
            "Australia",
            "Austria",
            "Azerbaijan",
            "Bangladesh",
            "Belarus",
            "Belgium",
            "Belize",
            "Benin",
            "Bhutan",
            "Bosnia and Herzegovina",
            "Botswana",
            "Brazil",
            "Bulgaria",
            "Burkina Faso",
            "Burundi",
            "Cabo Verde",
            "Cambodia",
            "Cameroon",
            "Canada",
            "Chile",
            "China",
            "Colombia",
            "Comoros",
            "Costa Rica",
            "Cyprus",
            "Dominican Republic",
            "Ecuador",
            "El Salvador",
            "Eritrea",
            "Estonia",
            "Fiji",
            "France",
            "Gabon",
            "Georgia",
            "Germany",
            "Ghana",
            "Greece",
            "Guatemala",
            "Guyana",
            "Honduras",
            "India",
            "Indonesia",
            "Iraq",
            "Israel",
            "Italy",
            "Jamaica",
            "Jordan",
            "Kazakhstan",
            "Kenya",
            "Kiribati",
            "Latvia",
            "Lebanon",
            "Lesotho",
            "Lithuania",
            "Luxembourg",
            "Madagascar",
            "Malawi",
            "Malaysia",
            "Maldives",
            "Mali",
            "Malta",
            "Mauritania",
            "Mauritius",
            "Mexico",
            "Mongolia",
            "Montenegro",
            "Morocco",
            "Mozambique",
            "Myanmar",
            "Nepal",
            "Nicaragua",
            "Nigeria",
            "Pakistan",
            "Panama",
            "Papua New Guinea",
            "Paraguay",
            "Peru",
            "Philippines",
            "Poland",
            "Portugal",
            "Romania",
            "Russian Federation",
            "Rwanda",
            "Samoa",
            "Sao Tome and Principe",
            "Senegal",
            "Serbia",
            "Seychelles",
            "Solomon Islands",
            "South Africa",
            "Spain",
            "Sri Lanka",
            "Suriname",
            "Swaziland",
            "Syrian Arab Republic",
            "Tajikistan",
            "Thailand",
            "Tonga",
            "Trinidad and Tobago",
            "Tunisia",
            "Turkey",
            "Turkmenistan",
            "Uganda",
            "Ukraine",
            "Uruguay",
            "Uzbekistan",
            "Vanuatu",
            "Zambia",
            "Zimbabwe"
           ],
           "locationmode": "country names",
           "locations": [
            "Afghanistan",
            "Albania",
            "Algeria",
            "Argentina",
            "Armenia",
            "Australia",
            "Austria",
            "Azerbaijan",
            "Bangladesh",
            "Belarus",
            "Belgium",
            "Belize",
            "Benin",
            "Bhutan",
            "Bosnia and Herzegovina",
            "Botswana",
            "Brazil",
            "Bulgaria",
            "Burkina Faso",
            "Burundi",
            "Cabo Verde",
            "Cambodia",
            "Cameroon",
            "Canada",
            "Chile",
            "China",
            "Colombia",
            "Comoros",
            "Costa Rica",
            "Cyprus",
            "Dominican Republic",
            "Ecuador",
            "El Salvador",
            "Eritrea",
            "Estonia",
            "Fiji",
            "France",
            "Gabon",
            "Georgia",
            "Germany",
            "Ghana",
            "Greece",
            "Guatemala",
            "Guyana",
            "Honduras",
            "India",
            "Indonesia",
            "Iraq",
            "Israel",
            "Italy",
            "Jamaica",
            "Jordan",
            "Kazakhstan",
            "Kenya",
            "Kiribati",
            "Latvia",
            "Lebanon",
            "Lesotho",
            "Lithuania",
            "Luxembourg",
            "Madagascar",
            "Malawi",
            "Malaysia",
            "Maldives",
            "Mali",
            "Malta",
            "Mauritania",
            "Mauritius",
            "Mexico",
            "Mongolia",
            "Montenegro",
            "Morocco",
            "Mozambique",
            "Myanmar",
            "Nepal",
            "Nicaragua",
            "Nigeria",
            "Pakistan",
            "Panama",
            "Papua New Guinea",
            "Paraguay",
            "Peru",
            "Philippines",
            "Poland",
            "Portugal",
            "Romania",
            "Russian Federation",
            "Rwanda",
            "Samoa",
            "Sao Tome and Principe",
            "Senegal",
            "Serbia",
            "Seychelles",
            "Solomon Islands",
            "South Africa",
            "Spain",
            "Sri Lanka",
            "Suriname",
            "Swaziland",
            "Syrian Arab Republic",
            "Tajikistan",
            "Thailand",
            "Tonga",
            "Trinidad and Tobago",
            "Tunisia",
            "Turkey",
            "Turkmenistan",
            "Uganda",
            "Ukraine",
            "Uruguay",
            "Uzbekistan",
            "Vanuatu",
            "Zambia",
            "Zimbabwe"
           ],
           "name": "",
           "type": "choropleth",
           "z": [
            58,
            97,
            95,
            92,
            87,
            92,
            83,
            8,
            95,
            97,
            99,
            98,
            76,
            96,
            91,
            96,
            99,
            96,
            94,
            88,
            97,
            8,
            78,
            95,
            94,
            94,
            94,
            69,
            89,
            97,
            88,
            92,
            96,
            94,
            95,
            98,
            99,
            44,
            89,
            94,
            84,
            98,
            9,
            92,
            94,
            66,
            78,
            63,
            94,
            97,
            99,
            98,
            99,
            77,
            86,
            96,
            75,
            88,
            94,
            99,
            83,
            99,
            95,
            98,
            79,
            83,
            68,
            98,
            98,
            98,
            9,
            97,
            73,
            82,
            91,
            88,
            46,
            77,
            98,
            67,
            98,
            94,
            88,
            99,
            97,
            97,
            98,
            99,
            37,
            97,
            89,
            97,
            99,
            99,
            79,
            98,
            98,
            84,
            88,
            83,
            76,
            98,
            89,
            89,
            99,
            9,
            98,
            62,
            99,
            95,
            94,
            67,
            83,
            71
           ]
          }
         ],
         "name": "2006"
        },
        {
         "data": [
          {
           "coloraxis": "coloraxis",
           "geo": "geo",
           "hovertemplate": "<b>%{hovertext}</b><br><br>Year=2005<br>Country=%{location}<br>Polio=%{z}<extra></extra>",
           "hovertext": [
            "Afghanistan",
            "Albania",
            "Algeria",
            "Argentina",
            "Armenia",
            "Australia",
            "Austria",
            "Azerbaijan",
            "Bangladesh",
            "Belarus",
            "Belgium",
            "Belize",
            "Benin",
            "Bhutan",
            "Bosnia and Herzegovina",
            "Botswana",
            "Brazil",
            "Bulgaria",
            "Burundi",
            "Cabo Verde",
            "Cameroon",
            "Canada",
            "China",
            "Colombia",
            "Comoros",
            "Costa Rica",
            "Cyprus",
            "Dominican Republic",
            "Ecuador",
            "El Salvador",
            "Eritrea",
            "Estonia",
            "Fiji",
            "France",
            "Gabon",
            "Georgia",
            "Germany",
            "Ghana",
            "Greece",
            "Guatemala",
            "Guyana",
            "Honduras",
            "India",
            "Indonesia",
            "Iraq",
            "Israel",
            "Italy",
            "Jamaica",
            "Jordan",
            "Kazakhstan",
            "Kenya",
            "Kiribati",
            "Latvia",
            "Lebanon",
            "Lesotho",
            "Lithuania",
            "Luxembourg",
            "Madagascar",
            "Malawi",
            "Malaysia",
            "Maldives",
            "Mali",
            "Malta",
            "Mauritania",
            "Mauritius",
            "Mexico",
            "Mongolia",
            "Morocco",
            "Mozambique",
            "Myanmar",
            "Nepal",
            "Nicaragua",
            "Nigeria",
            "Pakistan",
            "Panama",
            "Papua New Guinea",
            "Paraguay",
            "Peru",
            "Philippines",
            "Poland",
            "Portugal",
            "Romania",
            "Russian Federation",
            "Rwanda",
            "Samoa",
            "Sao Tome and Principe",
            "Senegal",
            "Serbia",
            "Seychelles",
            "Solomon Islands",
            "South Africa",
            "Spain",
            "Sri Lanka",
            "Suriname",
            "Swaziland",
            "Syrian Arab Republic",
            "Tajikistan",
            "Thailand",
            "Tonga",
            "Trinidad and Tobago",
            "Tunisia",
            "Turkey",
            "Turkmenistan",
            "Uganda",
            "Ukraine",
            "Uruguay",
            "Uzbekistan",
            "Vanuatu",
            "Zambia",
            "Zimbabwe"
           ],
           "locationmode": "country names",
           "locations": [
            "Afghanistan",
            "Albania",
            "Algeria",
            "Argentina",
            "Armenia",
            "Australia",
            "Austria",
            "Azerbaijan",
            "Bangladesh",
            "Belarus",
            "Belgium",
            "Belize",
            "Benin",
            "Bhutan",
            "Bosnia and Herzegovina",
            "Botswana",
            "Brazil",
            "Bulgaria",
            "Burundi",
            "Cabo Verde",
            "Cameroon",
            "Canada",
            "China",
            "Colombia",
            "Comoros",
            "Costa Rica",
            "Cyprus",
            "Dominican Republic",
            "Ecuador",
            "El Salvador",
            "Eritrea",
            "Estonia",
            "Fiji",
            "France",
            "Gabon",
            "Georgia",
            "Germany",
            "Ghana",
            "Greece",
            "Guatemala",
            "Guyana",
            "Honduras",
            "India",
            "Indonesia",
            "Iraq",
            "Israel",
            "Italy",
            "Jamaica",
            "Jordan",
            "Kazakhstan",
            "Kenya",
            "Kiribati",
            "Latvia",
            "Lebanon",
            "Lesotho",
            "Lithuania",
            "Luxembourg",
            "Madagascar",
            "Malawi",
            "Malaysia",
            "Maldives",
            "Mali",
            "Malta",
            "Mauritania",
            "Mauritius",
            "Mexico",
            "Mongolia",
            "Morocco",
            "Mozambique",
            "Myanmar",
            "Nepal",
            "Nicaragua",
            "Nigeria",
            "Pakistan",
            "Panama",
            "Papua New Guinea",
            "Paraguay",
            "Peru",
            "Philippines",
            "Poland",
            "Portugal",
            "Romania",
            "Russian Federation",
            "Rwanda",
            "Samoa",
            "Sao Tome and Principe",
            "Senegal",
            "Serbia",
            "Seychelles",
            "Solomon Islands",
            "South Africa",
            "Spain",
            "Sri Lanka",
            "Suriname",
            "Swaziland",
            "Syrian Arab Republic",
            "Tajikistan",
            "Thailand",
            "Tonga",
            "Trinidad and Tobago",
            "Tunisia",
            "Turkey",
            "Turkmenistan",
            "Uganda",
            "Ukraine",
            "Uruguay",
            "Uzbekistan",
            "Vanuatu",
            "Zambia",
            "Zimbabwe"
           ],
           "name": "",
           "type": "choropleth",
           "z": [
            58,
            97,
            88,
            95,
            92,
            92,
            86,
            79,
            94,
            98,
            97,
            96,
            73,
            95,
            95,
            96,
            99,
            97,
            82,
            95,
            79,
            93,
            87,
            93,
            67,
            91,
            98,
            86,
            89,
            89,
            96,
            96,
            97,
            98,
            44,
            82,
            95,
            85,
            96,
            87,
            93,
            98,
            65,
            79,
            69,
            95,
            97,
            99,
            95,
            99,
            7,
            74,
            99,
            74,
            88,
            93,
            99,
            8,
            94,
            96,
            98,
            78,
            94,
            71,
            97,
            98,
            99,
            98,
            71,
            86,
            78,
            87,
            45,
            78,
            88,
            61,
            96,
            66,
            9,
            99,
            93,
            97,
            98,
            95,
            55,
            97,
            84,
            98,
            99,
            9,
            75,
            96,
            99,
            84,
            88,
            83,
            79,
            98,
            9,
            95,
            98,
            9,
            99,
            59,
            95,
            96,
            99,
            67,
            84,
            69
           ]
          }
         ],
         "name": "2005"
        },
        {
         "data": [
          {
           "coloraxis": "coloraxis",
           "geo": "geo",
           "hovertemplate": "<b>%{hovertext}</b><br><br>Year=2004<br>Country=%{location}<br>Polio=%{z}<extra></extra>",
           "hovertext": [
            "Afghanistan",
            "Albania",
            "Algeria",
            "Argentina",
            "Armenia",
            "Australia",
            "Austria",
            "Azerbaijan",
            "Bangladesh",
            "Belarus",
            "Belgium",
            "Belize",
            "Benin",
            "Bhutan",
            "Bosnia and Herzegovina",
            "Botswana",
            "Brazil",
            "Bulgaria",
            "Burundi",
            "Cabo Verde",
            "Canada",
            "China",
            "Colombia",
            "Comoros",
            "Costa Rica",
            "Cyprus",
            "Dominican Republic",
            "Ecuador",
            "El Salvador",
            "Eritrea",
            "Estonia",
            "Fiji",
            "France",
            "Georgia",
            "Germany",
            "Ghana",
            "Greece",
            "Guyana",
            "Honduras",
            "India",
            "Indonesia",
            "Iraq",
            "Israel",
            "Italy",
            "Jamaica",
            "Jordan",
            "Kazakhstan",
            "Kenya",
            "Kiribati",
            "Latvia",
            "Lebanon",
            "Lesotho",
            "Lithuania",
            "Luxembourg",
            "Madagascar",
            "Malawi",
            "Malaysia",
            "Maldives",
            "Mali",
            "Malta",
            "Mauritius",
            "Mexico",
            "Mongolia",
            "Morocco",
            "Mozambique",
            "Myanmar",
            "Nepal",
            "Nicaragua",
            "Pakistan",
            "Panama",
            "Papua New Guinea",
            "Paraguay",
            "Peru",
            "Philippines",
            "Poland",
            "Portugal",
            "Romania",
            "Russian Federation",
            "Rwanda",
            "Samoa",
            "Sao Tome and Principe",
            "Senegal",
            "Serbia",
            "Seychelles",
            "Solomon Islands",
            "South Africa",
            "Spain",
            "Sri Lanka",
            "Swaziland",
            "Syrian Arab Republic",
            "Tajikistan",
            "Thailand",
            "Tonga",
            "Trinidad and Tobago",
            "Tunisia",
            "Turkey",
            "Turkmenistan",
            "Uganda",
            "Ukraine",
            "Uruguay",
            "Uzbekistan",
            "Vanuatu",
            "Zimbabwe"
           ],
           "locationmode": "country names",
           "locations": [
            "Afghanistan",
            "Albania",
            "Algeria",
            "Argentina",
            "Armenia",
            "Australia",
            "Austria",
            "Azerbaijan",
            "Bangladesh",
            "Belarus",
            "Belgium",
            "Belize",
            "Benin",
            "Bhutan",
            "Bosnia and Herzegovina",
            "Botswana",
            "Brazil",
            "Bulgaria",
            "Burundi",
            "Cabo Verde",
            "Canada",
            "China",
            "Colombia",
            "Comoros",
            "Costa Rica",
            "Cyprus",
            "Dominican Republic",
            "Ecuador",
            "El Salvador",
            "Eritrea",
            "Estonia",
            "Fiji",
            "France",
            "Georgia",
            "Germany",
            "Ghana",
            "Greece",
            "Guyana",
            "Honduras",
            "India",
            "Indonesia",
            "Iraq",
            "Israel",
            "Italy",
            "Jamaica",
            "Jordan",
            "Kazakhstan",
            "Kenya",
            "Kiribati",
            "Latvia",
            "Lebanon",
            "Lesotho",
            "Lithuania",
            "Luxembourg",
            "Madagascar",
            "Malawi",
            "Malaysia",
            "Maldives",
            "Mali",
            "Malta",
            "Mauritius",
            "Mexico",
            "Mongolia",
            "Morocco",
            "Mozambique",
            "Myanmar",
            "Nepal",
            "Nicaragua",
            "Pakistan",
            "Panama",
            "Papua New Guinea",
            "Paraguay",
            "Peru",
            "Philippines",
            "Poland",
            "Portugal",
            "Romania",
            "Russian Federation",
            "Rwanda",
            "Samoa",
            "Sao Tome and Principe",
            "Senegal",
            "Serbia",
            "Seychelles",
            "Solomon Islands",
            "South Africa",
            "Spain",
            "Sri Lanka",
            "Swaziland",
            "Syrian Arab Republic",
            "Tajikistan",
            "Thailand",
            "Tonga",
            "Trinidad and Tobago",
            "Tunisia",
            "Turkey",
            "Turkmenistan",
            "Uganda",
            "Ukraine",
            "Uruguay",
            "Uzbekistan",
            "Vanuatu",
            "Zimbabwe"
           ],
           "name": "",
           "type": "choropleth",
           "z": [
            5,
            98,
            86,
            91,
            93,
            92,
            83,
            78,
            88,
            99,
            96,
            97,
            74,
            9,
            87,
            96,
            99,
            94,
            76,
            94,
            91,
            87,
            89,
            73,
            9,
            98,
            66,
            9,
            9,
            98,
            95,
            96,
            99,
            66,
            96,
            81,
            95,
            91,
            94,
            58,
            79,
            69,
            95,
            97,
            97,
            95,
            99,
            73,
            61,
            99,
            74,
            89,
            9,
            99,
            74,
            94,
            95,
            96,
            7,
            89,
            98,
            98,
            99,
            97,
            69,
            92,
            8,
            8,
            65,
            92,
            59,
            92,
            81,
            85,
            99,
            95,
            97,
            98,
            89,
            26,
            99,
            87,
            96,
            99,
            89,
            73,
            97,
            97,
            88,
            84,
            82,
            98,
            91,
            94,
            97,
            85,
            98,
            58,
            99,
            95,
            99,
            67,
            67
           ]
          }
         ],
         "name": "2004"
        },
        {
         "data": [
          {
           "coloraxis": "coloraxis",
           "geo": "geo",
           "hovertemplate": "<b>%{hovertext}</b><br><br>Year=2003<br>Country=%{location}<br>Polio=%{z}<extra></extra>",
           "hovertext": [
            "Afghanistan",
            "Albania",
            "Argentina",
            "Armenia",
            "Australia",
            "Austria",
            "Azerbaijan",
            "Bangladesh",
            "Belarus",
            "Belgium",
            "Belize",
            "Benin",
            "Bhutan",
            "Botswana",
            "Brazil",
            "Bulgaria",
            "Cabo Verde",
            "Canada",
            "China",
            "Colombia",
            "Comoros",
            "Costa Rica",
            "Cyprus",
            "Dominican Republic",
            "Ecuador",
            "El Salvador",
            "Eritrea",
            "Fiji",
            "France",
            "Georgia",
            "Germany",
            "Ghana",
            "Greece",
            "Guyana",
            "Honduras",
            "Indonesia",
            "Israel",
            "Italy",
            "Jamaica",
            "Jordan",
            "Kazakhstan",
            "Kenya",
            "Kiribati",
            "Latvia",
            "Lebanon",
            "Lesotho",
            "Lithuania",
            "Luxembourg",
            "Madagascar",
            "Malawi",
            "Malaysia",
            "Maldives",
            "Mali",
            "Malta",
            "Mauritius",
            "Mexico",
            "Mongolia",
            "Morocco",
            "Mozambique",
            "Myanmar",
            "Nepal",
            "Nicaragua",
            "Pakistan",
            "Panama",
            "Papua New Guinea",
            "Paraguay",
            "Peru",
            "Philippines",
            "Poland",
            "Portugal",
            "Romania",
            "Russian Federation",
            "Rwanda",
            "Samoa",
            "Sao Tome and Principe",
            "Seychelles",
            "Solomon Islands",
            "South Africa",
            "Spain",
            "Sri Lanka",
            "Swaziland",
            "Syrian Arab Republic",
            "Tajikistan",
            "Thailand",
            "Tonga",
            "Trinidad and Tobago",
            "Tunisia",
            "Turkey",
            "Turkmenistan",
            "Uganda",
            "Ukraine",
            "Uruguay",
            "Uzbekistan",
            "Vanuatu",
            "Zimbabwe"
           ],
           "locationmode": "country names",
           "locations": [
            "Afghanistan",
            "Albania",
            "Argentina",
            "Armenia",
            "Australia",
            "Austria",
            "Azerbaijan",
            "Bangladesh",
            "Belarus",
            "Belgium",
            "Belize",
            "Benin",
            "Bhutan",
            "Botswana",
            "Brazil",
            "Bulgaria",
            "Cabo Verde",
            "Canada",
            "China",
            "Colombia",
            "Comoros",
            "Costa Rica",
            "Cyprus",
            "Dominican Republic",
            "Ecuador",
            "El Salvador",
            "Eritrea",
            "Fiji",
            "France",
            "Georgia",
            "Germany",
            "Ghana",
            "Greece",
            "Guyana",
            "Honduras",
            "Indonesia",
            "Israel",
            "Italy",
            "Jamaica",
            "Jordan",
            "Kazakhstan",
            "Kenya",
            "Kiribati",
            "Latvia",
            "Lebanon",
            "Lesotho",
            "Lithuania",
            "Luxembourg",
            "Madagascar",
            "Malawi",
            "Malaysia",
            "Maldives",
            "Mali",
            "Malta",
            "Mauritius",
            "Mexico",
            "Mongolia",
            "Morocco",
            "Mozambique",
            "Myanmar",
            "Nepal",
            "Nicaragua",
            "Pakistan",
            "Panama",
            "Papua New Guinea",
            "Paraguay",
            "Peru",
            "Philippines",
            "Poland",
            "Portugal",
            "Romania",
            "Russian Federation",
            "Rwanda",
            "Samoa",
            "Sao Tome and Principe",
            "Seychelles",
            "Solomon Islands",
            "South Africa",
            "Spain",
            "Sri Lanka",
            "Swaziland",
            "Syrian Arab Republic",
            "Tajikistan",
            "Thailand",
            "Tonga",
            "Trinidad and Tobago",
            "Tunisia",
            "Turkey",
            "Turkmenistan",
            "Uganda",
            "Ukraine",
            "Uruguay",
            "Uzbekistan",
            "Vanuatu",
            "Zimbabwe"
           ],
           "name": "",
           "type": "choropleth",
           "z": [
            41,
            97,
            95,
            96,
            92,
            84,
            79,
            9,
            53,
            96,
            95,
            75,
            96,
            96,
            99,
            96,
            93,
            88,
            87,
            92,
            8,
            88,
            98,
            65,
            97,
            93,
            95,
            95,
            96,
            74,
            96,
            8,
            93,
            91,
            92,
            8,
            93,
            97,
            99,
            97,
            99,
            75,
            79,
            98,
            74,
            9,
            91,
            99,
            65,
            85,
            96,
            98,
            67,
            94,
            99,
            98,
            98,
            91,
            67,
            86,
            76,
            86,
            69,
            95,
            62,
            86,
            95,
            85,
            98,
            96,
            97,
            97,
            96,
            82,
            94,
            99,
            84,
            7,
            99,
            98,
            87,
            85,
            82,
            98,
            91,
            91,
            95,
            69,
            66,
            57,
            99,
            91,
            99,
            67,
            7
           ]
          }
         ],
         "name": "2003"
        },
        {
         "data": [
          {
           "coloraxis": "coloraxis",
           "geo": "geo",
           "hovertemplate": "<b>%{hovertext}</b><br><br>Year=2002<br>Country=%{location}<br>Polio=%{z}<extra></extra>",
           "hovertext": [
            "Afghanistan",
            "Albania",
            "Argentina",
            "Armenia",
            "Australia",
            "Austria",
            "Azerbaijan",
            "Belarus",
            "Belgium",
            "Belize",
            "Benin",
            "Bhutan",
            "Botswana",
            "Brazil",
            "Bulgaria",
            "Cabo Verde",
            "China",
            "Colombia",
            "Costa Rica",
            "Cyprus",
            "Dominican Republic",
            "Ecuador",
            "El Salvador",
            "Eritrea",
            "Fiji",
            "France",
            "Georgia",
            "Germany",
            "Ghana",
            "Greece",
            "Guyana",
            "Honduras",
            "Indonesia",
            "Israel",
            "Italy",
            "Jordan",
            "Kazakhstan",
            "Kenya",
            "Kiribati",
            "Latvia",
            "Lebanon",
            "Lithuania",
            "Luxembourg",
            "Madagascar",
            "Malawi",
            "Malaysia",
            "Maldives",
            "Mauritius",
            "Mexico",
            "Mongolia",
            "Morocco",
            "Mozambique",
            "Nicaragua",
            "Panama",
            "Papua New Guinea",
            "Philippines",
            "Poland",
            "Portugal",
            "Romania",
            "Russian Federation",
            "Rwanda",
            "Samoa",
            "Seychelles",
            "Solomon Islands",
            "South Africa",
            "Spain",
            "Swaziland",
            "Syrian Arab Republic",
            "Tajikistan",
            "Thailand",
            "Tonga",
            "Trinidad and Tobago",
            "Tunisia",
            "Turkey",
            "Turkmenistan",
            "Uganda",
            "Ukraine",
            "Uruguay",
            "Uzbekistan",
            "Vanuatu",
            "Zimbabwe"
           ],
           "locationmode": "country names",
           "locations": [
            "Afghanistan",
            "Albania",
            "Argentina",
            "Armenia",
            "Australia",
            "Austria",
            "Azerbaijan",
            "Belarus",
            "Belgium",
            "Belize",
            "Benin",
            "Bhutan",
            "Botswana",
            "Brazil",
            "Bulgaria",
            "Cabo Verde",
            "China",
            "Colombia",
            "Costa Rica",
            "Cyprus",
            "Dominican Republic",
            "Ecuador",
            "El Salvador",
            "Eritrea",
            "Fiji",
            "France",
            "Georgia",
            "Germany",
            "Ghana",
            "Greece",
            "Guyana",
            "Honduras",
            "Indonesia",
            "Israel",
            "Italy",
            "Jordan",
            "Kazakhstan",
            "Kenya",
            "Kiribati",
            "Latvia",
            "Lebanon",
            "Lithuania",
            "Luxembourg",
            "Madagascar",
            "Malawi",
            "Malaysia",
            "Maldives",
            "Mauritius",
            "Mexico",
            "Mongolia",
            "Morocco",
            "Mozambique",
            "Nicaragua",
            "Panama",
            "Papua New Guinea",
            "Philippines",
            "Poland",
            "Portugal",
            "Romania",
            "Russian Federation",
            "Rwanda",
            "Samoa",
            "Seychelles",
            "Solomon Islands",
            "South Africa",
            "Spain",
            "Swaziland",
            "Syrian Arab Republic",
            "Tajikistan",
            "Thailand",
            "Tonga",
            "Trinidad and Tobago",
            "Tunisia",
            "Turkey",
            "Turkmenistan",
            "Uganda",
            "Ukraine",
            "Uruguay",
            "Uzbekistan",
            "Vanuatu",
            "Zimbabwe"
           ],
           "name": "",
           "type": "choropleth",
           "z": [
            36,
            98,
            94,
            96,
            92,
            82,
            8,
            99,
            96,
            93,
            76,
            89,
            97,
            99,
            94,
            92,
            86,
            83,
            94,
            98,
            74,
            88,
            81,
            92,
            94,
            97,
            89,
            97,
            8,
            92,
            93,
            95,
            8,
            91,
            96,
            95,
            95,
            83,
            96,
            98,
            77,
            97,
            99,
            61,
            79,
            94,
            98,
            88,
            98,
            98,
            94,
            76,
            85,
            99,
            54,
            77,
            98,
            96,
            98,
            97,
            85,
            85,
            99,
            78,
            7,
            98,
            87,
            86,
            84,
            97,
            85,
            96,
            96,
            78,
            99,
            57,
            99,
            93,
            99,
            67,
            73
           ]
          }
         ],
         "name": "2002"
        },
        {
         "data": [
          {
           "coloraxis": "coloraxis",
           "geo": "geo",
           "hovertemplate": "<b>%{hovertext}</b><br><br>Year=2001<br>Country=%{location}<br>Polio=%{z}<extra></extra>",
           "hovertext": [
            "Afghanistan",
            "Albania",
            "Armenia",
            "Australia",
            "Austria",
            "Belarus",
            "Belgium",
            "Belize",
            "Bhutan",
            "Botswana",
            "Brazil",
            "Bulgaria",
            "China",
            "Colombia",
            "Costa Rica",
            "Cyprus",
            "Dominican Republic",
            "Ecuador",
            "El Salvador",
            "Fiji",
            "France",
            "Georgia",
            "Germany",
            "Greece",
            "Guyana",
            "Honduras",
            "Indonesia",
            "Israel",
            "Italy",
            "Jordan",
            "Kazakhstan",
            "Kiribati",
            "Latvia",
            "Lebanon",
            "Lithuania",
            "Luxembourg",
            "Malaysia",
            "Maldives",
            "Mauritius",
            "Mexico",
            "Mongolia",
            "Morocco",
            "Mozambique",
            "Nicaragua",
            "Panama",
            "Papua New Guinea",
            "Philippines",
            "Poland",
            "Portugal",
            "Romania",
            "Russian Federation",
            "Samoa",
            "Seychelles",
            "Solomon Islands",
            "South Africa",
            "Spain",
            "Swaziland",
            "Syrian Arab Republic",
            "Thailand",
            "Tonga",
            "Tunisia",
            "Turkey",
            "Ukraine",
            "Uruguay",
            "Vanuatu",
            "Zimbabwe"
           ],
           "locationmode": "country names",
           "locations": [
            "Afghanistan",
            "Albania",
            "Armenia",
            "Australia",
            "Austria",
            "Belarus",
            "Belgium",
            "Belize",
            "Bhutan",
            "Botswana",
            "Brazil",
            "Bulgaria",
            "China",
            "Colombia",
            "Costa Rica",
            "Cyprus",
            "Dominican Republic",
            "Ecuador",
            "El Salvador",
            "Fiji",
            "France",
            "Georgia",
            "Germany",
            "Greece",
            "Guyana",
            "Honduras",
            "Indonesia",
            "Israel",
            "Italy",
            "Jordan",
            "Kazakhstan",
            "Kiribati",
            "Latvia",
            "Lebanon",
            "Lithuania",
            "Luxembourg",
            "Malaysia",
            "Maldives",
            "Mauritius",
            "Mexico",
            "Mongolia",
            "Morocco",
            "Mozambique",
            "Nicaragua",
            "Panama",
            "Papua New Guinea",
            "Philippines",
            "Poland",
            "Portugal",
            "Romania",
            "Russian Federation",
            "Samoa",
            "Seychelles",
            "Solomon Islands",
            "South Africa",
            "Spain",
            "Swaziland",
            "Syrian Arab Republic",
            "Thailand",
            "Tonga",
            "Tunisia",
            "Turkey",
            "Ukraine",
            "Uruguay",
            "Vanuatu",
            "Zimbabwe"
           ],
           "name": "",
           "type": "choropleth",
           "z": [
            35,
            97,
            97,
            91,
            83,
            99,
            96,
            96,
            88,
            97,
            99,
            94,
            86,
            83,
            92,
            97,
            71,
            9,
            94,
            92,
            98,
            83,
            96,
            9,
            9,
            99,
            77,
            93,
            96,
            97,
            95,
            88,
            97,
            8,
            97,
            99,
            95,
            97,
            93,
            97,
            95,
            93,
            72,
            89,
            95,
            52,
            76,
            98,
            96,
            99,
            97,
            83,
            96,
            88,
            71,
            95,
            87,
            83,
            97,
            91,
            98,
            88,
            99,
            94,
            67,
            76
           ]
          }
         ],
         "name": "2001"
        },
        {
         "data": [
          {
           "coloraxis": "coloraxis",
           "geo": "geo",
           "hovertemplate": "<b>%{hovertext}</b><br><br>Year=2000<br>Country=%{location}<br>Polio=%{z}<extra></extra>",
           "hovertext": [
            "Afghanistan",
            "Albania",
            "Armenia",
            "Austria",
            "Belarus",
            "Belgium",
            "Belize",
            "Bhutan",
            "Botswana",
            "Brazil",
            "Bulgaria",
            "China",
            "Colombia",
            "Costa Rica",
            "Cyprus",
            "Dominican Republic",
            "Ecuador",
            "El Salvador",
            "Fiji",
            "France",
            "Georgia",
            "Germany",
            "Greece",
            "Honduras",
            "Indonesia",
            "Israel",
            "Italy",
            "Jordan",
            "Kazakhstan",
            "Kiribati",
            "Latvia",
            "Lebanon",
            "Lithuania",
            "Luxembourg",
            "Malaysia",
            "Maldives",
            "Mauritius",
            "Mexico",
            "Mongolia",
            "Morocco",
            "Nicaragua",
            "Papua New Guinea",
            "Philippines",
            "Poland",
            "Portugal",
            "Romania",
            "Samoa",
            "Seychelles",
            "Solomon Islands",
            "South Africa",
            "Spain",
            "Swaziland",
            "Syrian Arab Republic",
            "Thailand",
            "Tonga",
            "Tunisia",
            "Turkey",
            "Ukraine",
            "Uruguay",
            "Vanuatu",
            "Zimbabwe"
           ],
           "locationmode": "country names",
           "locations": [
            "Afghanistan",
            "Albania",
            "Armenia",
            "Austria",
            "Belarus",
            "Belgium",
            "Belize",
            "Bhutan",
            "Botswana",
            "Brazil",
            "Bulgaria",
            "China",
            "Colombia",
            "Costa Rica",
            "Cyprus",
            "Dominican Republic",
            "Ecuador",
            "El Salvador",
            "Fiji",
            "France",
            "Georgia",
            "Germany",
            "Greece",
            "Honduras",
            "Indonesia",
            "Israel",
            "Italy",
            "Jordan",
            "Kazakhstan",
            "Kiribati",
            "Latvia",
            "Lebanon",
            "Lithuania",
            "Luxembourg",
            "Malaysia",
            "Maldives",
            "Mauritius",
            "Mexico",
            "Mongolia",
            "Morocco",
            "Nicaragua",
            "Papua New Guinea",
            "Philippines",
            "Poland",
            "Portugal",
            "Romania",
            "Samoa",
            "Seychelles",
            "Solomon Islands",
            "South Africa",
            "Spain",
            "Swaziland",
            "Syrian Arab Republic",
            "Thailand",
            "Tonga",
            "Tunisia",
            "Turkey",
            "Ukraine",
            "Uruguay",
            "Vanuatu",
            "Zimbabwe"
           ],
           "name": "",
           "type": "choropleth",
           "z": [
            24,
            97,
            96,
            71,
            99,
            96,
            91,
            98,
            97,
            99,
            94,
            86,
            82,
            8,
            97,
            71,
            83,
            98,
            91,
            98,
            81,
            94,
            89,
            88,
            72,
            93,
            97,
            94,
            96,
            9,
            96,
            83,
            92,
            99,
            98,
            98,
            88,
            97,
            94,
            95,
            85,
            51,
            74,
            98,
            96,
            99,
            94,
            98,
            88,
            71,
            95,
            87,
            86,
            97,
            91,
            97,
            85,
            99,
            92,
            67,
            78
           ]
          }
         ],
         "name": "2000"
        }
       ],
       "layout": {
        "coloraxis": {
         "colorbar": {
          "title": {
           "text": "Polio"
          }
         },
         "colorscale": [
          [
           0,
           "#0d0887"
          ],
          [
           0.1111111111111111,
           "#46039f"
          ],
          [
           0.2222222222222222,
           "#7201a8"
          ],
          [
           0.3333333333333333,
           "#9c179e"
          ],
          [
           0.4444444444444444,
           "#bd3786"
          ],
          [
           0.5555555555555556,
           "#d8576b"
          ],
          [
           0.6666666666666666,
           "#ed7953"
          ],
          [
           0.7777777777777778,
           "#fb9f3a"
          ],
          [
           0.8888888888888888,
           "#fdca26"
          ],
          [
           1,
           "#f0f921"
          ]
         ]
        },
        "geo": {
         "center": {},
         "coastlinecolor": "Black",
         "domain": {
          "x": [
           0,
           1
          ],
          "y": [
           0,
           1
          ]
         },
         "landcolor": "white",
         "resolution": 110,
         "showcoastlines": true,
         "showland": true
        },
        "height": 800,
        "legend": {
         "tracegroupgap": 0
        },
        "sliders": [
         {
          "active": 0,
          "currentvalue": {
           "prefix": "Year="
          },
          "len": 0.9,
          "pad": {
           "b": 10,
           "t": 60
          },
          "steps": [
           {
            "args": [
             [
              "2015"
             ],
             {
              "frame": {
               "duration": 0,
               "redraw": true
              },
              "fromcurrent": true,
              "mode": "immediate",
              "transition": {
               "duration": 0,
               "easing": "linear"
              }
             }
            ],
            "label": "2015",
            "method": "animate"
           },
           {
            "args": [
             [
              "2014"
             ],
             {
              "frame": {
               "duration": 0,
               "redraw": true
              },
              "fromcurrent": true,
              "mode": "immediate",
              "transition": {
               "duration": 0,
               "easing": "linear"
              }
             }
            ],
            "label": "2014",
            "method": "animate"
           },
           {
            "args": [
             [
              "2013"
             ],
             {
              "frame": {
               "duration": 0,
               "redraw": true
              },
              "fromcurrent": true,
              "mode": "immediate",
              "transition": {
               "duration": 0,
               "easing": "linear"
              }
             }
            ],
            "label": "2013",
            "method": "animate"
           },
           {
            "args": [
             [
              "2012"
             ],
             {
              "frame": {
               "duration": 0,
               "redraw": true
              },
              "fromcurrent": true,
              "mode": "immediate",
              "transition": {
               "duration": 0,
               "easing": "linear"
              }
             }
            ],
            "label": "2012",
            "method": "animate"
           },
           {
            "args": [
             [
              "2011"
             ],
             {
              "frame": {
               "duration": 0,
               "redraw": true
              },
              "fromcurrent": true,
              "mode": "immediate",
              "transition": {
               "duration": 0,
               "easing": "linear"
              }
             }
            ],
            "label": "2011",
            "method": "animate"
           },
           {
            "args": [
             [
              "2010"
             ],
             {
              "frame": {
               "duration": 0,
               "redraw": true
              },
              "fromcurrent": true,
              "mode": "immediate",
              "transition": {
               "duration": 0,
               "easing": "linear"
              }
             }
            ],
            "label": "2010",
            "method": "animate"
           },
           {
            "args": [
             [
              "2009"
             ],
             {
              "frame": {
               "duration": 0,
               "redraw": true
              },
              "fromcurrent": true,
              "mode": "immediate",
              "transition": {
               "duration": 0,
               "easing": "linear"
              }
             }
            ],
            "label": "2009",
            "method": "animate"
           },
           {
            "args": [
             [
              "2008"
             ],
             {
              "frame": {
               "duration": 0,
               "redraw": true
              },
              "fromcurrent": true,
              "mode": "immediate",
              "transition": {
               "duration": 0,
               "easing": "linear"
              }
             }
            ],
            "label": "2008",
            "method": "animate"
           },
           {
            "args": [
             [
              "2007"
             ],
             {
              "frame": {
               "duration": 0,
               "redraw": true
              },
              "fromcurrent": true,
              "mode": "immediate",
              "transition": {
               "duration": 0,
               "easing": "linear"
              }
             }
            ],
            "label": "2007",
            "method": "animate"
           },
           {
            "args": [
             [
              "2006"
             ],
             {
              "frame": {
               "duration": 0,
               "redraw": true
              },
              "fromcurrent": true,
              "mode": "immediate",
              "transition": {
               "duration": 0,
               "easing": "linear"
              }
             }
            ],
            "label": "2006",
            "method": "animate"
           },
           {
            "args": [
             [
              "2005"
             ],
             {
              "frame": {
               "duration": 0,
               "redraw": true
              },
              "fromcurrent": true,
              "mode": "immediate",
              "transition": {
               "duration": 0,
               "easing": "linear"
              }
             }
            ],
            "label": "2005",
            "method": "animate"
           },
           {
            "args": [
             [
              "2004"
             ],
             {
              "frame": {
               "duration": 0,
               "redraw": true
              },
              "fromcurrent": true,
              "mode": "immediate",
              "transition": {
               "duration": 0,
               "easing": "linear"
              }
             }
            ],
            "label": "2004",
            "method": "animate"
           },
           {
            "args": [
             [
              "2003"
             ],
             {
              "frame": {
               "duration": 0,
               "redraw": true
              },
              "fromcurrent": true,
              "mode": "immediate",
              "transition": {
               "duration": 0,
               "easing": "linear"
              }
             }
            ],
            "label": "2003",
            "method": "animate"
           },
           {
            "args": [
             [
              "2002"
             ],
             {
              "frame": {
               "duration": 0,
               "redraw": true
              },
              "fromcurrent": true,
              "mode": "immediate",
              "transition": {
               "duration": 0,
               "easing": "linear"
              }
             }
            ],
            "label": "2002",
            "method": "animate"
           },
           {
            "args": [
             [
              "2001"
             ],
             {
              "frame": {
               "duration": 0,
               "redraw": true
              },
              "fromcurrent": true,
              "mode": "immediate",
              "transition": {
               "duration": 0,
               "easing": "linear"
              }
             }
            ],
            "label": "2001",
            "method": "animate"
           },
           {
            "args": [
             [
              "2000"
             ],
             {
              "frame": {
               "duration": 0,
               "redraw": true
              },
              "fromcurrent": true,
              "mode": "immediate",
              "transition": {
               "duration": 0,
               "easing": "linear"
              }
             }
            ],
            "label": "2000",
            "method": "animate"
           }
          ],
          "x": 0.1,
          "xanchor": "left",
          "y": 0,
          "yanchor": "top"
         }
        ],
        "template": {
         "data": {
          "bar": [
           {
            "error_x": {
             "color": "#2a3f5f"
            },
            "error_y": {
             "color": "#2a3f5f"
            },
            "marker": {
             "line": {
              "color": "#E5ECF6",
              "width": 0.5
             },
             "pattern": {
              "fillmode": "overlay",
              "size": 10,
              "solidity": 0.2
             }
            },
            "type": "bar"
           }
          ],
          "barpolar": [
           {
            "marker": {
             "line": {
              "color": "#E5ECF6",
              "width": 0.5
             },
             "pattern": {
              "fillmode": "overlay",
              "size": 10,
              "solidity": 0.2
             }
            },
            "type": "barpolar"
           }
          ],
          "carpet": [
           {
            "aaxis": {
             "endlinecolor": "#2a3f5f",
             "gridcolor": "white",
             "linecolor": "white",
             "minorgridcolor": "white",
             "startlinecolor": "#2a3f5f"
            },
            "baxis": {
             "endlinecolor": "#2a3f5f",
             "gridcolor": "white",
             "linecolor": "white",
             "minorgridcolor": "white",
             "startlinecolor": "#2a3f5f"
            },
            "type": "carpet"
           }
          ],
          "choropleth": [
           {
            "colorbar": {
             "outlinewidth": 0,
             "ticks": ""
            },
            "type": "choropleth"
           }
          ],
          "contour": [
           {
            "colorbar": {
             "outlinewidth": 0,
             "ticks": ""
            },
            "colorscale": [
             [
              0,
              "#0d0887"
             ],
             [
              0.1111111111111111,
              "#46039f"
             ],
             [
              0.2222222222222222,
              "#7201a8"
             ],
             [
              0.3333333333333333,
              "#9c179e"
             ],
             [
              0.4444444444444444,
              "#bd3786"
             ],
             [
              0.5555555555555556,
              "#d8576b"
             ],
             [
              0.6666666666666666,
              "#ed7953"
             ],
             [
              0.7777777777777778,
              "#fb9f3a"
             ],
             [
              0.8888888888888888,
              "#fdca26"
             ],
             [
              1,
              "#f0f921"
             ]
            ],
            "type": "contour"
           }
          ],
          "contourcarpet": [
           {
            "colorbar": {
             "outlinewidth": 0,
             "ticks": ""
            },
            "type": "contourcarpet"
           }
          ],
          "heatmap": [
           {
            "colorbar": {
             "outlinewidth": 0,
             "ticks": ""
            },
            "colorscale": [
             [
              0,
              "#0d0887"
             ],
             [
              0.1111111111111111,
              "#46039f"
             ],
             [
              0.2222222222222222,
              "#7201a8"
             ],
             [
              0.3333333333333333,
              "#9c179e"
             ],
             [
              0.4444444444444444,
              "#bd3786"
             ],
             [
              0.5555555555555556,
              "#d8576b"
             ],
             [
              0.6666666666666666,
              "#ed7953"
             ],
             [
              0.7777777777777778,
              "#fb9f3a"
             ],
             [
              0.8888888888888888,
              "#fdca26"
             ],
             [
              1,
              "#f0f921"
             ]
            ],
            "type": "heatmap"
           }
          ],
          "heatmapgl": [
           {
            "colorbar": {
             "outlinewidth": 0,
             "ticks": ""
            },
            "colorscale": [
             [
              0,
              "#0d0887"
             ],
             [
              0.1111111111111111,
              "#46039f"
             ],
             [
              0.2222222222222222,
              "#7201a8"
             ],
             [
              0.3333333333333333,
              "#9c179e"
             ],
             [
              0.4444444444444444,
              "#bd3786"
             ],
             [
              0.5555555555555556,
              "#d8576b"
             ],
             [
              0.6666666666666666,
              "#ed7953"
             ],
             [
              0.7777777777777778,
              "#fb9f3a"
             ],
             [
              0.8888888888888888,
              "#fdca26"
             ],
             [
              1,
              "#f0f921"
             ]
            ],
            "type": "heatmapgl"
           }
          ],
          "histogram": [
           {
            "marker": {
             "pattern": {
              "fillmode": "overlay",
              "size": 10,
              "solidity": 0.2
             }
            },
            "type": "histogram"
           }
          ],
          "histogram2d": [
           {
            "colorbar": {
             "outlinewidth": 0,
             "ticks": ""
            },
            "colorscale": [
             [
              0,
              "#0d0887"
             ],
             [
              0.1111111111111111,
              "#46039f"
             ],
             [
              0.2222222222222222,
              "#7201a8"
             ],
             [
              0.3333333333333333,
              "#9c179e"
             ],
             [
              0.4444444444444444,
              "#bd3786"
             ],
             [
              0.5555555555555556,
              "#d8576b"
             ],
             [
              0.6666666666666666,
              "#ed7953"
             ],
             [
              0.7777777777777778,
              "#fb9f3a"
             ],
             [
              0.8888888888888888,
              "#fdca26"
             ],
             [
              1,
              "#f0f921"
             ]
            ],
            "type": "histogram2d"
           }
          ],
          "histogram2dcontour": [
           {
            "colorbar": {
             "outlinewidth": 0,
             "ticks": ""
            },
            "colorscale": [
             [
              0,
              "#0d0887"
             ],
             [
              0.1111111111111111,
              "#46039f"
             ],
             [
              0.2222222222222222,
              "#7201a8"
             ],
             [
              0.3333333333333333,
              "#9c179e"
             ],
             [
              0.4444444444444444,
              "#bd3786"
             ],
             [
              0.5555555555555556,
              "#d8576b"
             ],
             [
              0.6666666666666666,
              "#ed7953"
             ],
             [
              0.7777777777777778,
              "#fb9f3a"
             ],
             [
              0.8888888888888888,
              "#fdca26"
             ],
             [
              1,
              "#f0f921"
             ]
            ],
            "type": "histogram2dcontour"
           }
          ],
          "mesh3d": [
           {
            "colorbar": {
             "outlinewidth": 0,
             "ticks": ""
            },
            "type": "mesh3d"
           }
          ],
          "parcoords": [
           {
            "line": {
             "colorbar": {
              "outlinewidth": 0,
              "ticks": ""
             }
            },
            "type": "parcoords"
           }
          ],
          "pie": [
           {
            "automargin": true,
            "type": "pie"
           }
          ],
          "scatter": [
           {
            "fillpattern": {
             "fillmode": "overlay",
             "size": 10,
             "solidity": 0.2
            },
            "type": "scatter"
           }
          ],
          "scatter3d": [
           {
            "line": {
             "colorbar": {
              "outlinewidth": 0,
              "ticks": ""
             }
            },
            "marker": {
             "colorbar": {
              "outlinewidth": 0,
              "ticks": ""
             }
            },
            "type": "scatter3d"
           }
          ],
          "scattercarpet": [
           {
            "marker": {
             "colorbar": {
              "outlinewidth": 0,
              "ticks": ""
             }
            },
            "type": "scattercarpet"
           }
          ],
          "scattergeo": [
           {
            "marker": {
             "colorbar": {
              "outlinewidth": 0,
              "ticks": ""
             }
            },
            "type": "scattergeo"
           }
          ],
          "scattergl": [
           {
            "marker": {
             "colorbar": {
              "outlinewidth": 0,
              "ticks": ""
             }
            },
            "type": "scattergl"
           }
          ],
          "scattermapbox": [
           {
            "marker": {
             "colorbar": {
              "outlinewidth": 0,
              "ticks": ""
             }
            },
            "type": "scattermapbox"
           }
          ],
          "scatterpolar": [
           {
            "marker": {
             "colorbar": {
              "outlinewidth": 0,
              "ticks": ""
             }
            },
            "type": "scatterpolar"
           }
          ],
          "scatterpolargl": [
           {
            "marker": {
             "colorbar": {
              "outlinewidth": 0,
              "ticks": ""
             }
            },
            "type": "scatterpolargl"
           }
          ],
          "scatterternary": [
           {
            "marker": {
             "colorbar": {
              "outlinewidth": 0,
              "ticks": ""
             }
            },
            "type": "scatterternary"
           }
          ],
          "surface": [
           {
            "colorbar": {
             "outlinewidth": 0,
             "ticks": ""
            },
            "colorscale": [
             [
              0,
              "#0d0887"
             ],
             [
              0.1111111111111111,
              "#46039f"
             ],
             [
              0.2222222222222222,
              "#7201a8"
             ],
             [
              0.3333333333333333,
              "#9c179e"
             ],
             [
              0.4444444444444444,
              "#bd3786"
             ],
             [
              0.5555555555555556,
              "#d8576b"
             ],
             [
              0.6666666666666666,
              "#ed7953"
             ],
             [
              0.7777777777777778,
              "#fb9f3a"
             ],
             [
              0.8888888888888888,
              "#fdca26"
             ],
             [
              1,
              "#f0f921"
             ]
            ],
            "type": "surface"
           }
          ],
          "table": [
           {
            "cells": {
             "fill": {
              "color": "#EBF0F8"
             },
             "line": {
              "color": "white"
             }
            },
            "header": {
             "fill": {
              "color": "#C8D4E3"
             },
             "line": {
              "color": "white"
             }
            },
            "type": "table"
           }
          ]
         },
         "layout": {
          "annotationdefaults": {
           "arrowcolor": "#2a3f5f",
           "arrowhead": 0,
           "arrowwidth": 1
          },
          "autotypenumbers": "strict",
          "coloraxis": {
           "colorbar": {
            "outlinewidth": 0,
            "ticks": ""
           }
          },
          "colorscale": {
           "diverging": [
            [
             0,
             "#8e0152"
            ],
            [
             0.1,
             "#c51b7d"
            ],
            [
             0.2,
             "#de77ae"
            ],
            [
             0.3,
             "#f1b6da"
            ],
            [
             0.4,
             "#fde0ef"
            ],
            [
             0.5,
             "#f7f7f7"
            ],
            [
             0.6,
             "#e6f5d0"
            ],
            [
             0.7,
             "#b8e186"
            ],
            [
             0.8,
             "#7fbc41"
            ],
            [
             0.9,
             "#4d9221"
            ],
            [
             1,
             "#276419"
            ]
           ],
           "sequential": [
            [
             0,
             "#0d0887"
            ],
            [
             0.1111111111111111,
             "#46039f"
            ],
            [
             0.2222222222222222,
             "#7201a8"
            ],
            [
             0.3333333333333333,
             "#9c179e"
            ],
            [
             0.4444444444444444,
             "#bd3786"
            ],
            [
             0.5555555555555556,
             "#d8576b"
            ],
            [
             0.6666666666666666,
             "#ed7953"
            ],
            [
             0.7777777777777778,
             "#fb9f3a"
            ],
            [
             0.8888888888888888,
             "#fdca26"
            ],
            [
             1,
             "#f0f921"
            ]
           ],
           "sequentialminus": [
            [
             0,
             "#0d0887"
            ],
            [
             0.1111111111111111,
             "#46039f"
            ],
            [
             0.2222222222222222,
             "#7201a8"
            ],
            [
             0.3333333333333333,
             "#9c179e"
            ],
            [
             0.4444444444444444,
             "#bd3786"
            ],
            [
             0.5555555555555556,
             "#d8576b"
            ],
            [
             0.6666666666666666,
             "#ed7953"
            ],
            [
             0.7777777777777778,
             "#fb9f3a"
            ],
            [
             0.8888888888888888,
             "#fdca26"
            ],
            [
             1,
             "#f0f921"
            ]
           ]
          },
          "colorway": [
           "#636efa",
           "#EF553B",
           "#00cc96",
           "#ab63fa",
           "#FFA15A",
           "#19d3f3",
           "#FF6692",
           "#B6E880",
           "#FF97FF",
           "#FECB52"
          ],
          "font": {
           "color": "#2a3f5f"
          },
          "geo": {
           "bgcolor": "white",
           "lakecolor": "white",
           "landcolor": "#E5ECF6",
           "showlakes": true,
           "showland": true,
           "subunitcolor": "white"
          },
          "hoverlabel": {
           "align": "left"
          },
          "hovermode": "closest",
          "mapbox": {
           "style": "light"
          },
          "paper_bgcolor": "white",
          "plot_bgcolor": "#E5ECF6",
          "polar": {
           "angularaxis": {
            "gridcolor": "white",
            "linecolor": "white",
            "ticks": ""
           },
           "bgcolor": "#E5ECF6",
           "radialaxis": {
            "gridcolor": "white",
            "linecolor": "white",
            "ticks": ""
           }
          },
          "scene": {
           "xaxis": {
            "backgroundcolor": "#E5ECF6",
            "gridcolor": "white",
            "gridwidth": 2,
            "linecolor": "white",
            "showbackground": true,
            "ticks": "",
            "zerolinecolor": "white"
           },
           "yaxis": {
            "backgroundcolor": "#E5ECF6",
            "gridcolor": "white",
            "gridwidth": 2,
            "linecolor": "white",
            "showbackground": true,
            "ticks": "",
            "zerolinecolor": "white"
           },
           "zaxis": {
            "backgroundcolor": "#E5ECF6",
            "gridcolor": "white",
            "gridwidth": 2,
            "linecolor": "white",
            "showbackground": true,
            "ticks": "",
            "zerolinecolor": "white"
           }
          },
          "shapedefaults": {
           "line": {
            "color": "#2a3f5f"
           }
          },
          "ternary": {
           "aaxis": {
            "gridcolor": "white",
            "linecolor": "white",
            "ticks": ""
           },
           "baxis": {
            "gridcolor": "white",
            "linecolor": "white",
            "ticks": ""
           },
           "bgcolor": "#E5ECF6",
           "caxis": {
            "gridcolor": "white",
            "linecolor": "white",
            "ticks": ""
           }
          },
          "title": {
           "x": 0.05
          },
          "xaxis": {
           "automargin": true,
           "gridcolor": "white",
           "linecolor": "white",
           "ticks": "",
           "title": {
            "standoff": 15
           },
           "zerolinecolor": "white",
           "zerolinewidth": 2
          },
          "yaxis": {
           "automargin": true,
           "gridcolor": "white",
           "linecolor": "white",
           "ticks": "",
           "title": {
            "standoff": 15
           },
           "zerolinecolor": "white",
           "zerolinewidth": 2
          }
         }
        },
        "title": {
         "text": "Immunization Rates of Polio Across Countries"
        },
        "updatemenus": [
         {
          "buttons": [
           {
            "args": [
             null,
             {
              "frame": {
               "duration": 500,
               "redraw": true
              },
              "fromcurrent": true,
              "mode": "immediate",
              "transition": {
               "duration": 500,
               "easing": "linear"
              }
             }
            ],
            "label": "&#9654;",
            "method": "animate"
           },
           {
            "args": [
             [
              null
             ],
             {
              "frame": {
               "duration": 0,
               "redraw": true
              },
              "fromcurrent": true,
              "mode": "immediate",
              "transition": {
               "duration": 0,
               "easing": "linear"
              }
             }
            ],
            "label": "&#9724;",
            "method": "animate"
           }
          ],
          "direction": "left",
          "pad": {
           "r": 10,
           "t": 70
          },
          "showactive": false,
          "type": "buttons",
          "x": 0.1,
          "xanchor": "right",
          "y": 0,
          "yanchor": "top"
         }
        ],
        "width": 1200
       }
      }
     },
     "metadata": {},
     "output_type": "display_data"
    }
   ],
   "source": [
    "fig = px.choropleth(\n",
    "    df,\n",
    "    locations='Country',\n",
    "    locationmode='country names',\n",
    "    color='Polio',\n",
    "    hover_name='Country',\n",
    "    color_continuous_scale=px.colors.sequential.Plasma,\n",
    "    title='Immunization Rates of Polio Across Countries',\n",
    "    labels={'Immunization Rate of Polio': 'Immunization Rate'},\n",
    "    template='plotly',\n",
    "    animation_frame='Year'\n",
    ")\n",
    "fig.update_geos(\n",
    "    resolution=110,\n",
    "    showcoastlines=True,\n",
    "    coastlinecolor=\"Black\",\n",
    "    showland=True,\n",
    "    landcolor=\"white\",\n",
    ")\n",
    "fig.update_layout(\n",
    "    width=1200,  \n",
    "    height=800,  \n",
    ")"
   ]
  },
  {
   "cell_type": "markdown",
   "metadata": {},
   "source": []
  },
  {
   "cell_type": "markdown",
   "metadata": {},
   "source": [
    "#### "
   ]
  },
  {
   "cell_type": "code",
   "execution_count": null,
   "metadata": {},
   "outputs": [],
   "source": []
  }
 ],
 "metadata": {
  "kernelspec": {
   "display_name": "Web",
   "language": "python",
   "name": "python3"
  },
  "language_info": {
   "codemirror_mode": {
    "name": "ipython",
    "version": 3
   },
   "file_extension": ".py",
   "mimetype": "text/x-python",
   "name": "python",
   "nbconvert_exporter": "python",
   "pygments_lexer": "ipython3",
   "version": "3.11.6"
  }
 },
 "nbformat": 4,
 "nbformat_minor": 2
}
